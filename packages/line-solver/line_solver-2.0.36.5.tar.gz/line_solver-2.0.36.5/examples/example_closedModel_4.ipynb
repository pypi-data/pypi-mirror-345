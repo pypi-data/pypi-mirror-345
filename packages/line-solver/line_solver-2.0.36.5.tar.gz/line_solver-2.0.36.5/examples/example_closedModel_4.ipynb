{
 "cells": [
  {
   "cell_type": "code",
   "source": [
    "from line_solver import *\n",
    "GlobalConstants.setVerbose(VerboseLevel.STD)"
   ],
   "metadata": {
    "collapsed": false,
    "ExecuteTime": {
     "end_time": "2024-09-01T10:47:18.687774Z",
     "start_time": "2024-09-01T10:47:18.683649Z"
    }
   },
   "outputs": [],
   "execution_count": 4
  },
  {
   "cell_type": "code",
   "source": [
    "model = Network('model')\n",
    "\n",
    "# Block 1: nodes\n",
    "node1 = Delay(model, \"Delay\")\n",
    "node2 = Queue(model, \"Queue1\", SchedStrategy.FCFS)\n",
    "node3 = Queue(model, \"Queue2\", SchedStrategy.FCFS)\n",
    "node2.setNumberOfServers(3)\n",
    "node3.setNumberOfServers(3)\n",
    "\n",
    "# Block 2: classes\n",
    "jobclass1 = ClosedClass(model, \"Class1\", 2, node1, 0)\n",
    "jobclass2 = ClosedClass(model, \"Class2\", 2, node1, 0)\n",
    "jobclass3 = ClosedClass(model, \"Class3\", 2, node1, 0)\n",
    "jobclass4 = ClosedClass(model, \"Class4\", 1, node1, 0)\n",
    "\n",
    "node1.setService(jobclass1, Exp(1)) # (Delay,Class1)\n",
    "node1.setService(jobclass2, Exp(1)) # (Delay,Class2)\n",
    "node1.setService(jobclass3, Exp(10)) # (Delay,Class3)\n",
    "node1.setService(jobclass4, Exp(1)) # (Delay,Class4)\n",
    "\n",
    "node2.setService(jobclass1, Exp(1)) # (Queue1,Class1)\n",
    "node2.setService(jobclass2, Erlang(1, 2)) # (Queue1,Class2)\n",
    "node2.setService(jobclass3, Exp(10)) # (Queue1,Class3)\n",
    "node2.setService(jobclass4, Exp(1)) # (Queue1,Class4)\n",
    "\n",
    "node3.setService(jobclass1, Disabled.getInstance()) # (Queue2,Class1)\n",
    "node3.setService(jobclass2, Disabled.getInstance()) # (Queue2,Class2)\n",
    "node3.setService(jobclass3, Erlang(1, 2)) # (Queue2,Class3)\n",
    "node3.setService(jobclass4, Exp(1)) # (Queue2,Class4)\n",
    "\n",
    "# Block 3: topology\n",
    "routingMatrix = model.initRoutingMatrix()\n",
    "\n",
    "routingMatrix.set(jobclass1, jobclass1, node1, node2, 0.50)\n",
    "routingMatrix.set(jobclass1, jobclass1, node2, node1, 1.00)\n",
    "routingMatrix.set(jobclass1, jobclass1, node3, node1, 1.00)\n",
    "\n",
    "routingMatrix.set(jobclass1, jobclass2, node1, node2, 0.50)\n",
    "\n",
    "routingMatrix.set(jobclass2, jobclass2, node2, node1, 1.00)\n",
    "routingMatrix.set(jobclass2, jobclass2, node3, node1, 1.00)\n",
    "\n",
    "routingMatrix.set(jobclass2, jobclass1, node1, node2, 1.00)\n",
    "\n",
    "routingMatrix.set(jobclass3, jobclass3, node1, node2, 0.25)\n",
    "routingMatrix.set(jobclass3, jobclass3, node1, node3, 0.25)\n",
    "routingMatrix.set(jobclass3, jobclass3, node2, node1, 1.00)\n",
    "routingMatrix.set(jobclass3, jobclass3, node3, node1, 1.00)\n",
    "\n",
    "routingMatrix.set(jobclass3, jobclass4, node1, node2, 0.50)\n",
    "\n",
    "routingMatrix.set(jobclass4, jobclass4, node2, node1, 1.00)\n",
    "routingMatrix.set(jobclass4, jobclass4, node3, node1, 1.00)\n",
    "\n",
    "routingMatrix.set(jobclass4, jobclass3, node1, node2, 1.00)\n",
    "\n",
    "model.link(routingMatrix)"
   ],
   "metadata": {
    "collapsed": false,
    "ExecuteTime": {
     "end_time": "2024-09-01T10:47:18.828447Z",
     "start_time": "2024-09-01T10:47:18.718328Z"
    }
   },
   "outputs": [],
   "execution_count": 5
  },
  {
   "cell_type": "code",
   "source": [
    "solver = np.array([], dtype=object)\n",
    "#solver = np.append(solver, SolverCTMC(model,'keep',True))\n",
    "solver = np.append(solver, SolverJMT(model,'seed',23000,'verbose',True,'keep',True))\n",
    "solver = np.append(solver, SolverSSA(model,'seed',23000,'verbose',False,'samples',10000))\n",
    "solver = np.append(solver, SolverFluid(model))\n",
    "solver = np.append(solver, SolverMVA(model))\n",
    "solver = np.append(solver, SolverNC(model))\n",
    "#solver = np.append(solver, SolverMAM(model))\n",
    "#solver = np.append(solver, LINE(model))\n",
    "\n",
    "AvgTable = np.empty(len(solver), dtype=object)\n",
    "for s in range(len(solver)):\n",
    "    print(f'\\nSOLVER: {solver[s].getName()}')\n",
    "    AvgTable[s] = solver[s].getAvgTable()\n"
   ],
   "metadata": {
    "collapsed": false,
    "ExecuteTime": {
     "end_time": "2024-09-01T10:47:25.937628Z",
     "start_time": "2024-09-01T10:47:18.840513Z"
    }
   },
   "outputs": [
    {
     "name": "stdout",
     "output_type": "stream",
     "text": [
      "\n",
      "SOLVER: SolverJMT\n",
      "JMT Model: /tmp/workspace/jsim/10878072074583982255/jmodel.jsim\n",
      "   Station JobClass    QLen    Util   RespT  ResidT    ArvR    Tput\n",
      "0    Delay   Class1  0.9624  0.9624  0.9955  0.6636  0.9759  0.9775\n",
      "1    Delay   Class2  0.4710  0.4710  0.9964  0.3321  0.4934  0.4884\n",
      "2    Delay   Class3  0.1332  0.1332  0.1000  0.0667  1.3475  1.3475\n",
      "3    Delay   Class4  0.6728  0.6728  0.9911  0.3304  0.6810  0.6811\n",
      "4   Queue1   Class1  1.4139  0.3323  1.4149  0.9433  0.9758  0.9780\n",
      "5   Queue1   Class2  1.1780  0.3303  2.4004  0.8001  0.4883  0.4883\n",
      "6   Queue1   Class3  0.5653  0.0337  0.5611  0.2806  1.0220  1.0216\n",
      "7   Queue1   Class4  0.9404  0.2327  1.3560  0.4520  0.6795  0.6812\n",
      "10  Queue2   Class3  0.6757  0.2252  1.9819  0.3303  0.3370  0.3382\n",
      "\n",
      "SOLVER: SolverSSA\n",
      "   Station JobClass    QLen    Util   RespT  ResidT    ArvR    Tput\n",
      "0    Delay   Class1  0.9494  0.9494  1.0000  0.6667  1.0027  0.9494\n",
      "1    Delay   Class2  0.5121  0.5121  1.0000  0.3333  0.3824  0.5121\n",
      "2    Delay   Class3  0.1274  0.1274  0.1000  0.0667  1.4044  1.2740\n",
      "3    Delay   Class4  0.6726  0.6726  1.0000  0.3333  0.6700  0.6726\n",
      "4   Queue1   Class1  1.3837  0.3289  1.3799  0.9199  0.9867  1.0027\n",
      "5   Queue1   Class2  1.1549  0.3165  3.0203  1.0068  0.4747  0.3824\n",
      "6   Queue1   Class3  0.5544  0.0330  0.5427  0.2714  0.9911  1.0215\n",
      "7   Queue1   Class4  0.9133  0.2123  1.3633  0.4544  0.6370  0.6700\n",
      "10  Queue2   Class3  0.7322  0.2123  1.9123  0.3187  0.3185  0.3829\n",
      "\n",
      "SOLVER: SolverFluid\n",
      "  Station JobClass  QLen  Util  RespT  ResidT  ArvR  Tput\n",
      "0   Delay   Class1   2.0   2.0    1.0  0.6667   0.0   2.0\n",
      "1   Delay   Class2   2.0   2.0    1.0  0.3333   0.0   2.0\n",
      "2   Delay   Class3   2.0   2.0    0.1  0.0667   0.0  20.0\n",
      "3   Delay   Class4   1.0   1.0    1.0  0.3333   0.0   1.0\n",
      "\n",
      "SOLVER: SolverMVA\n",
      "   Station JobClass    QLen    Util   RespT  ResidT    ArvR    Tput\n",
      "0    Delay   Class1  0.5723  0.0864  0.4734  0.3156  1.2089  1.2089\n",
      "1    Delay   Class2  0.2861  0.0432  0.4734  0.1578  0.6045  0.6045\n",
      "2    Delay   Class3  0.0566  0.0085  0.0473  0.0316  1.1963  1.1963\n",
      "3    Delay   Class4  0.2832  0.0427  0.4734  0.1578  0.5981  0.5981\n",
      "4   Queue1   Class1  1.5708  0.4030  1.2993  0.8662  1.2089  1.2089\n",
      "5   Queue1   Class2  1.5708  0.4030  2.5987  0.8662  0.6045  0.6045\n",
      "6   Queue1   Class3  0.2676  0.0299  0.2982  0.1491  0.8972  0.8972\n",
      "7   Queue1   Class4  1.7838  0.1994  2.9822  0.9941  0.5981  0.5981\n",
      "10  Queue2   Class3  0.6089  0.1994  2.0360  0.3393  0.2991  0.2991\n",
      "\n",
      "SOLVER: SolverNC\n",
      "   Station JobClass    QLen    Util   RespT  ResidT    ArvR    Tput\n",
      "0    Delay   Class1  0.8720  0.0616  1.0114  0.6743  0.8622  0.8622\n",
      "1    Delay   Class2  0.4360  0.0308  1.0114  0.3371  0.4311  0.4311\n",
      "2    Delay   Class3  0.1462  0.0103  0.1011  0.0674  1.4458  1.4458\n",
      "3    Delay   Class4  0.7311  0.0516  1.0114  0.3371  0.7229  0.7229\n",
      "4   Queue1   Class1  1.3460  0.2874  1.5611  1.0407  0.8622  0.8622\n",
      "5   Queue1   Class2  1.3460  0.2874  3.1222  1.0407  0.4311  0.4311\n",
      "6   Queue1   Class3  0.1768  0.0361  0.1631  0.0815  1.0843  1.0843\n",
      "7   Queue1   Class4  1.1789  0.2410  1.6308  0.5436  0.7229  0.7229\n",
      "10  Queue2   Class3  0.7669  0.2410  2.1219  0.3536  0.3614  0.3614\n"
     ]
    }
   ],
   "execution_count": 6
  }
 ],
 "metadata": {
  "kernelspec": {
   "display_name": "Python 3",
   "language": "python",
   "name": "python3"
  },
  "language_info": {
   "codemirror_mode": {
    "name": "ipython",
    "version": 3
   },
   "file_extension": ".py",
   "mimetype": "text/x-python",
   "name": "python",
   "nbconvert_exporter": "python",
   "pygments_lexer": "ipython3",
   "version": "3.6.4"
  }
 },
 "nbformat": 4,
 "nbformat_minor": 2
}
