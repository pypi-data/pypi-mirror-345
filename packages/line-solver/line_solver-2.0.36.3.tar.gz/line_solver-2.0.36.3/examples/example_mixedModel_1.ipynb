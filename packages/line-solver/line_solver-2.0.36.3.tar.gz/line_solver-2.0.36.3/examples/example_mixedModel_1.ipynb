{
 "cells": [
  {
   "cell_type": "code",
   "source": [
    "from line_solver import *\n",
    "GlobalConstants.setVerbose(VerboseLevel.STD)"
   ],
   "metadata": {
    "collapsed": false,
    "ExecuteTime": {
     "end_time": "2024-09-01T13:20:39.345697037Z",
     "start_time": "2024-09-01T13:20:32.251671Z"
    }
   },
   "outputs": [],
   "execution_count": 3
  },
  {
   "cell_type": "code",
   "source": [
    "model = Network('model')\n",
    "\n",
    "node = np.empty(4, dtype=object)\n",
    "node[0] = Delay(model, 'Delay')\n",
    "node[1] = Queue(model, 'Queue1', SchedStrategy.PS)\n",
    "node[2] = Source(model,'Source')\n",
    "node[3] = Sink(model,'Sink')\n",
    "\n",
    "jobclass = np.empty(2, dtype=object)\n",
    "jobclass[0] = ClosedClass(model, 'ClosedClass', 2, node[0], 0)\n",
    "jobclass[1] = OpenClass(model, 'OpenClass', 0)\n",
    "\n",
    "node[0].setService(jobclass[0], Erlang(3,2))\n",
    "node[0].setService(jobclass[1], HyperExp(0.5,3,10))\n",
    "\n",
    "node[1].setService(jobclass[0], HyperExp(0.1,1,10))\n",
    "node[1].setService(jobclass[1], Exp(1))\n",
    "\n",
    "node[2].setArrival(jobclass[1], Exp(0.1))\n",
    "\n",
    "K = model.getNumberOfClasses()\n",
    "\n",
    "P = model.initRoutingMatrix()\n",
    "pmatrix = np.empty(K, dtype=object)\n",
    "pmatrix[0] = [[0,1,0,0],[1.0,0,0,0], [0,0,0,0], [0,0,0,0]]\n",
    "pmatrix[1] = [[0,1,0,0], [0,0,0,1.0], [1.0,0,0,0], [0,0,0,0]]\n",
    "P.setRoutingMatrix(jobclass, node, pmatrix)\n",
    "            \n",
    "model.link(P);\n"
   ],
   "metadata": {
    "collapsed": false,
    "ExecuteTime": {
     "end_time": "2024-09-01T13:20:39.346078601Z",
     "start_time": "2024-09-01T13:20:32.267323Z"
    }
   },
   "outputs": [],
   "execution_count": 4
  },
  {
   "cell_type": "code",
   "source": [
    "solver = np.array([], dtype=object)\n",
    "solver = np.append(solver, SolverCTMC(model,'cutoff',3))\n",
    "solver = np.append(solver, SolverJMT(model,'seed',23000,'verbose',True,'keep',True))\n",
    "solver = np.append(solver, SolverSSA(model,'seed',23000,'verbose',False,'samples',10000))\n",
    "solver = np.append(solver, SolverFluid(model))\n",
    "solver = np.append(solver, SolverMVA(model))\n",
    "solver = np.append(solver, SolverNC(model))\n",
    "#solver = np.append(solver, SolverMAM(model)) # TODO: bug in MAM\n",
    "#np.append(solver, LINE(model))\n",
    "\n",
    "AvgTable = np.empty(len(solver), dtype=object)\n",
    "for s in range(len(solver)):\n",
    "    print(f'\\nSOLVER: {solver[s].getName()}')\n",
    "    AvgTable[s] = solver[s].getAvgTable()\n"
   ],
   "metadata": {
    "collapsed": false,
    "ExecuteTime": {
     "end_time": "2024-09-01T13:20:39.213863Z",
     "start_time": "2024-09-01T13:20:32.378078Z"
    }
   },
   "outputs": [
    {
     "name": "stdout",
     "output_type": "stream",
     "text": [
      "\n",
      "SOLVER: SolverCTMC\n",
      "  Station     JobClass    QLen    Util   RespT  ResidT    ArvR    Tput\n",
      "0   Delay  ClosedClass  1.4362  1.4362  0.6667  0.6667  2.1543  2.1543\n",
      "1   Delay    OpenClass  0.0216  0.0216  0.2167  0.2167  0.0997  0.0997\n",
      "2  Queue1  ClosedClass  0.5638  0.4093  0.2617  0.2617  2.1543  2.1543\n",
      "3  Queue1    OpenClass  0.1722  0.0997  1.7271  1.7271  0.0997  0.0997\n",
      "5  Source    OpenClass  0.0000  0.0000  0.0000  0.0000  0.0000  0.0997\n",
      "\n",
      "SOLVER: SolverJMT\n",
      "JMT Model: /tmp/workspace/jsim/17622989105268111590/jmodel.jsim\n",
      "  Station     JobClass    QLen    Util   RespT  ResidT    ArvR    Tput\n",
      "0   Delay  ClosedClass  1.4528  1.4528  0.6664  0.6664  2.1680  2.1536\n",
      "1   Delay    OpenClass  0.0220  0.0220  0.2158  0.2158  0.1000  0.1000\n",
      "2  Queue1  ClosedClass  0.5472  0.4022  0.2598  0.2598  2.1536  2.1602\n",
      "3  Queue1    OpenClass  0.1639  0.0958  1.7110  1.7110  0.1000  0.1000\n",
      "5  Source    OpenClass  0.0000  0.0000  0.0000  0.0000  0.0000  0.1000\n",
      "\n",
      "SOLVER: SolverSSA\n",
      "  Station     JobClass    QLen    Util   RespT  ResidT    ArvR    Tput\n",
      "0   Delay  ClosedClass  1.4613  1.4613  0.6709  0.6709  2.1459  2.1781\n",
      "1   Delay    OpenClass  0.0199  0.0199  0.2126  0.2126  0.1000  0.0934\n",
      "2  Queue1  ClosedClass  0.5387  0.4138  0.2510  0.2510  2.1781  2.1459\n",
      "3  Queue1    OpenClass  0.1607  0.0934  1.6152  1.6152  0.0934  0.0995\n",
      "5  Source    OpenClass  0.0000  0.0000  0.0000  0.0000  0.0000  0.1000\n",
      "\n",
      "SOLVER: SolverFluid\n",
      "  Station     JobClass    QLen    Util   RespT  ResidT  ArvR    Tput\n",
      "0   Delay  ClosedClass  1.5564  1.5564  0.6667  0.6667   0.0  2.3346\n",
      "1   Delay    OpenClass  0.0216  0.0216  0.2172  0.2172   0.0  0.0995\n",
      "2  Queue1  ClosedClass  0.4436  0.4436  0.1900  0.1900   0.0  2.3346\n",
      "3  Queue1    OpenClass  0.1001  0.1001  1.0000  1.0000   0.0  0.1001\n",
      "5  Source    OpenClass  0.0000  0.0000  0.0000  0.0000   0.0  0.1000\n",
      "\n",
      "SOLVER: SolverMVA\n",
      "  Station     JobClass    QLen    Util   RespT  ResidT  ArvR   Tput\n",
      "0   Delay  ClosedClass  1.4360  1.4360  0.6667  0.6667   0.0  2.154\n",
      "1   Delay    OpenClass  0.0217  0.0217  0.2167  0.2167   0.0  0.100\n",
      "2  Queue1  ClosedClass  0.5640  0.4093  0.2618  0.2618   0.0  2.154\n",
      "3  Queue1    OpenClass  0.1738  0.1000  1.7378  1.7378   0.0  0.100\n",
      "5  Source    OpenClass  0.0000  0.0000  0.0000  0.0000   0.0  0.100\n",
      "\n",
      "SOLVER: SolverNC\n",
      "  Station     JobClass    QLen    Util   RespT  ResidT  ArvR    Tput\n",
      "0   Delay  ClosedClass  1.4485  0.2808  0.6877  0.6877   0.0  2.1063\n",
      "1   Delay    OpenClass  0.0533  0.0043  0.5328  0.5328   0.0  0.1000\n",
      "2  Queue1  ClosedClass  0.5515  0.4002  0.2619  0.2619   0.0  2.1063\n",
      "3  Queue1    OpenClass  0.1724  0.1000  1.7239  1.7239   0.0  0.1000\n",
      "5  Source    OpenClass  0.0000  0.0000  0.0000  0.0000   0.0  0.1000\n",
      "\n",
      "SOLVER: SolverMAM\n"
     ]
    },
    {
     "name": "stderr",
     "output_type": "stream",
     "text": [
      "java.lang.NullPointerException: Cannot read field \"TN\" because \"this.result\" is null\n",
      "\tat jline.solvers.mam.SolverMAM.runAnalyzer(SolverMAM.java:126)\n",
      "\tat jline.solvers.NetworkSolver.getAvg(NetworkSolver.java:263)\n",
      "\tat jline.solvers.NetworkSolver.getAvgTable(NetworkSolver.java:588)\n"
     ]
    },
    {
     "ename": "java.lang.NullPointerException",
     "evalue": "java.lang.NullPointerException: Cannot read field \"QN\" because \"this.result\" is null",
     "output_type": "error",
     "traceback": [
      "\u001B[0;31m---------------------------------------------------------------------------\u001B[0m",
      "\u001B[0;31mException\u001B[0m                                 Traceback (most recent call last)",
      "\u001B[0;32m/usr/local/lib/python3.10/dist-packages/_jpype.cpython-310-x86_64-linux-gnu.so\u001B[0m in \u001B[0;36mjline.solvers.NetworkSolver.getAvgTable\u001B[0;34m()\u001B[0m\n",
      "\u001B[0;31mException\u001B[0m: Java Exception",
      "\nThe above exception was the direct cause of the following exception:\n",
      "\u001B[0;31mjava.lang.NullPointerException\u001B[0m            Traceback (most recent call last)",
      "\u001B[0;32m/tmp/ipykernel_1655031/3937995296.py\u001B[0m in \u001B[0;36m<module>\u001B[0;34m\u001B[0m\n\u001B[1;32m     12\u001B[0m \u001B[0;32mfor\u001B[0m \u001B[0ms\u001B[0m \u001B[0;32min\u001B[0m \u001B[0mrange\u001B[0m\u001B[0;34m(\u001B[0m\u001B[0mlen\u001B[0m\u001B[0;34m(\u001B[0m\u001B[0msolver\u001B[0m\u001B[0;34m)\u001B[0m\u001B[0;34m)\u001B[0m\u001B[0;34m:\u001B[0m\u001B[0;34m\u001B[0m\u001B[0;34m\u001B[0m\u001B[0m\n\u001B[1;32m     13\u001B[0m     \u001B[0mprint\u001B[0m\u001B[0;34m(\u001B[0m\u001B[0;34mf'\\nSOLVER: {solver[s].getName()}'\u001B[0m\u001B[0;34m)\u001B[0m\u001B[0;34m\u001B[0m\u001B[0;34m\u001B[0m\u001B[0m\n\u001B[0;32m---> 14\u001B[0;31m     \u001B[0mAvgTable\u001B[0m\u001B[0;34m[\u001B[0m\u001B[0ms\u001B[0m\u001B[0;34m]\u001B[0m \u001B[0;34m=\u001B[0m \u001B[0msolver\u001B[0m\u001B[0;34m[\u001B[0m\u001B[0ms\u001B[0m\u001B[0;34m]\u001B[0m\u001B[0;34m.\u001B[0m\u001B[0mgetAvgTable\u001B[0m\u001B[0;34m(\u001B[0m\u001B[0;34m)\u001B[0m\u001B[0;34m\u001B[0m\u001B[0;34m\u001B[0m\u001B[0m\n\u001B[0m\u001B[1;32m     15\u001B[0m \u001B[0;34m\u001B[0m\u001B[0m\n",
      "\u001B[0;32m~/Dropbox/code/line-solver.git/python/line_solver/solvers.py\u001B[0m in \u001B[0;36mgetAvgTable\u001B[0;34m(self)\u001B[0m\n\u001B[1;32m    158\u001B[0m \u001B[0;34m\u001B[0m\u001B[0m\n\u001B[1;32m    159\u001B[0m     \u001B[0;32mdef\u001B[0m \u001B[0mgetAvgTable\u001B[0m\u001B[0;34m(\u001B[0m\u001B[0mself\u001B[0m\u001B[0;34m)\u001B[0m\u001B[0;34m:\u001B[0m\u001B[0;34m\u001B[0m\u001B[0;34m\u001B[0m\u001B[0m\n\u001B[0;32m--> 160\u001B[0;31m         \u001B[0mtable\u001B[0m \u001B[0;34m=\u001B[0m \u001B[0mself\u001B[0m\u001B[0;34m.\u001B[0m\u001B[0mobj\u001B[0m\u001B[0;34m.\u001B[0m\u001B[0mgetAvgTable\u001B[0m\u001B[0;34m(\u001B[0m\u001B[0;34m)\u001B[0m\u001B[0;34m\u001B[0m\u001B[0;34m\u001B[0m\u001B[0m\n\u001B[0m\u001B[1;32m    161\u001B[0m \u001B[0;34m\u001B[0m\u001B[0m\n\u001B[1;32m    162\u001B[0m         \u001B[0;31m# convert to NumPy\u001B[0m\u001B[0;34m\u001B[0m\u001B[0;34m\u001B[0m\u001B[0m\n",
      "\u001B[0;31mjava.lang.NullPointerException\u001B[0m: java.lang.NullPointerException: Cannot read field \"QN\" because \"this.result\" is null"
     ]
    }
   ],
   "execution_count": 5
  }
 ],
 "metadata": {
  "kernelspec": {
   "display_name": "Python 3",
   "language": "python",
   "name": "python3"
  },
  "language_info": {
   "codemirror_mode": {
    "name": "ipython",
    "version": 3
   },
   "file_extension": ".py",
   "mimetype": "text/x-python",
   "name": "python",
   "nbconvert_exporter": "python",
   "pygments_lexer": "ipython3",
   "version": "3.6.4"
  }
 },
 "nbformat": 4,
 "nbformat_minor": 2
}
