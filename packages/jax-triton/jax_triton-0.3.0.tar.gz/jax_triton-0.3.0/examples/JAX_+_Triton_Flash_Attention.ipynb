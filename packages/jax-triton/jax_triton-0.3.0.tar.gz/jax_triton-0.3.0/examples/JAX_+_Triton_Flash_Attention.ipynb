{
  "nbformat": 4,
  "nbformat_minor": 0,
  "metadata": {
    "colab": {
      "name": "JAX + Triton Flash Attention",
      "provenance": [],
      "collapsed_sections": []
    },
    "kernelspec": {
      "name": "python3",
      "display_name": "Python 3"
    },
    "language_info": {
      "name": "python"
    },
    "accelerator": "GPU",
    "gpuClass": "standard"
  },
  "cells": [
    {
      "cell_type": "markdown",
      "source": [
        "# JAX + Triton Flash Attention\n"
      ],
      "metadata": {
        "id": "Gf_QOFlcBskR"
      }
    },
    {
      "cell_type": "markdown",
      "metadata": {
        "id": "f8ZH9ERvVzDF"
      },
      "source": [
        "Copyright 2022 Google LLC\n",
        "\n",
        "Licensed under the Apache License, Version 2.0 (the \"License\");\n",
        "you may not use this file except in compliance with the License.\n",
        "You may obtain a copy of the License at\n",
        "\n",
        "     https://www.apache.org/licenses/LICENSE-2.0\n",
        "\n",
        "Unless required by applicable law or agreed to in writing, software\n",
        "distributed under the License is distributed on an \"AS IS\" BASIS,\n",
        "WITHOUT WARRANTIES OR CONDITIONS OF ANY KIND, either express or implied.\n",
        "See the License for the specific language governing permissions and\n",
        "limitations under the License."
      ]
    },
    {
      "cell_type": "markdown",
      "source": [
        "## Installs"
      ],
      "metadata": {
        "id": "pw5qfsHYD13n"
      }
    },
    {
      "cell_type": "code",
      "source": [
        "!pip install -U --pre triton\n",
        "!pip install chex\n",
        "!pip install cmake"
      ],
      "metadata": {
        "id": "IYq4sTNWBak3",
        "colab": {
          "base_uri": "https://localhost:8080/"
        },
        "outputId": "ca0fcaa8-9638-46d9-fd50-ec0905bc8a18"
      },
      "execution_count": null,
      "outputs": [
        {
          "output_type": "stream",
          "name": "stdout",
          "text": [
            "Looking in indexes: https://pypi.org/simple, https://us-python.pkg.dev/colab-wheels/public/simple/\n",
            "Collecting triton\n",
            "  Downloading triton-2.0.0.dev20220721-cp37-cp37m-manylinux_2_17_x86_64.manylinux2014_x86_64.whl (18.7 MB)\n",
            "\u001b[K     |████████████████████████████████| 18.7 MB 1.8 MB/s \n",
            "\u001b[?25hRequirement already satisfied: torch in /usr/local/lib/python3.7/dist-packages (from triton) (1.12.0+cu113)\n",
            "Requirement already satisfied: filelock in /usr/local/lib/python3.7/dist-packages (from triton) (3.7.1)\n",
            "Requirement already satisfied: cmake in /usr/local/lib/python3.7/dist-packages (from triton) (3.22.5)\n",
            "Requirement already satisfied: typing-extensions in /usr/local/lib/python3.7/dist-packages (from torch->triton) (4.1.1)\n",
            "Installing collected packages: triton\n",
            "Successfully installed triton-2.0.0.dev20220721\n",
            "Looking in indexes: https://pypi.org/simple, https://us-python.pkg.dev/colab-wheels/public/simple/\n",
            "Collecting chex\n",
            "  Downloading chex-0.1.3-py3-none-any.whl (72 kB)\n",
            "\u001b[K     |████████████████████████████████| 72 kB 618 kB/s \n",
            "\u001b[?25hRequirement already satisfied: jax>=0.1.55 in /usr/local/lib/python3.7/dist-packages (from chex) (0.3.14)\n",
            "Requirement already satisfied: jaxlib>=0.1.37 in /usr/local/lib/python3.7/dist-packages (from chex) (0.3.14+cuda11.cudnn805)\n",
            "Requirement already satisfied: toolz>=0.9.0 in /usr/local/lib/python3.7/dist-packages (from chex) (0.12.0)\n",
            "Requirement already satisfied: dm-tree>=0.1.5 in /usr/local/lib/python3.7/dist-packages (from chex) (0.1.7)\n",
            "Requirement already satisfied: absl-py>=0.9.0 in /usr/local/lib/python3.7/dist-packages (from chex) (1.2.0)\n",
            "Requirement already satisfied: numpy>=1.18.0 in /usr/local/lib/python3.7/dist-packages (from chex) (1.21.6)\n",
            "Requirement already satisfied: etils[epath] in /usr/local/lib/python3.7/dist-packages (from jax>=0.1.55->chex) (0.6.0)\n",
            "Requirement already satisfied: opt-einsum in /usr/local/lib/python3.7/dist-packages (from jax>=0.1.55->chex) (3.3.0)\n",
            "Requirement already satisfied: typing-extensions in /usr/local/lib/python3.7/dist-packages (from jax>=0.1.55->chex) (4.1.1)\n",
            "Requirement already satisfied: scipy>=1.5 in /usr/local/lib/python3.7/dist-packages (from jax>=0.1.55->chex) (1.7.3)\n",
            "Requirement already satisfied: flatbuffers<3.0,>=1.12 in /usr/local/lib/python3.7/dist-packages (from jaxlib>=0.1.37->chex) (2.0)\n",
            "Requirement already satisfied: importlib_resources in /usr/local/lib/python3.7/dist-packages (from etils[epath]->jax>=0.1.55->chex) (5.8.0)\n",
            "Requirement already satisfied: zipp in /usr/local/lib/python3.7/dist-packages (from etils[epath]->jax>=0.1.55->chex) (3.8.1)\n",
            "Installing collected packages: chex\n",
            "Successfully installed chex-0.1.3\n",
            "Looking in indexes: https://pypi.org/simple, https://us-python.pkg.dev/colab-wheels/public/simple/\n",
            "Requirement already satisfied: cmake in /usr/local/lib/python3.7/dist-packages (3.22.5)\n"
          ]
        }
      ]
    },
    {
      "cell_type": "code",
      "source": [
        "#@title Install JAX + Triton { vertical-output: true }\n",
        "%cd /root\n",
        "!pip uninstall jax -y\n",
        "!git clone https://github.com/sharadmv/jax.git\n",
        "%cd jax\n",
        "!git checkout triton\n",
        "!pip install -I -U \".[cuda11_cudnn82]\" -f https://storage.googleapis.com/jax-releases/jax_cuda_releases.html\n",
        "!pip install pybind11\n",
        "%cd triton\n",
        "!make\n",
        "!pip install .\n",
        "%cd /root"
      ],
      "metadata": {
        "colab": {
          "base_uri": "https://localhost:8080/",
          "height": 1000
        },
        "cellView": "form",
        "id": "TgpBQ2XdH6Kn",
        "outputId": "3a89904e-fe46-4c80-f39e-c830fee55788"
      },
      "execution_count": null,
      "outputs": [
        {
          "output_type": "stream",
          "name": "stdout",
          "text": [
            "/root\n",
            "Found existing installation: jax 0.3.14\n",
            "Uninstalling jax-0.3.14:\n",
            "  Successfully uninstalled jax-0.3.14\n",
            "Cloning into 'jax'...\n",
            "remote: Enumerating objects: 72139, done.\u001b[K\n",
            "remote: Counting objects: 100% (269/269), done.\u001b[K\n",
            "remote: Compressing objects: 100% (134/134), done.\u001b[K\n",
            "remote: Total 72139 (delta 159), reused 215 (delta 135), pack-reused 71870\u001b[K\n",
            "Receiving objects: 100% (72139/72139), 52.81 MiB | 17.69 MiB/s, done.\n",
            "Resolving deltas: 100% (56480/56480), done.\n",
            "/root/jax\n",
            "Branch 'triton' set up to track remote branch 'triton' from 'origin'.\n",
            "Switched to a new branch 'triton'\n",
            "Looking in indexes: https://pypi.org/simple, https://us-python.pkg.dev/colab-wheels/public/simple/\n",
            "Looking in links: https://storage.googleapis.com/jax-releases/jax_cuda_releases.html\n",
            "Processing /root/jax\n",
            "\u001b[33m  DEPRECATION: A future pip version will change local packages to be built in-place without first copying to a temporary directory. We recommend you use --use-feature=in-tree-build to test your packages with this new behavior before it becomes the default.\n",
            "   pip 21.3 will remove support for this functionality. You can find discussion regarding this at https://github.com/pypa/pip/issues/7555.\u001b[0m\n",
            "Collecting absl-py\n",
            "  Downloading absl_py-1.2.0-py3-none-any.whl (123 kB)\n",
            "\u001b[K     |████████████████████████████████| 123 kB 8.0 MB/s \n",
            "\u001b[?25hCollecting numpy>=1.19\n",
            "  Downloading numpy-1.21.6-cp37-cp37m-manylinux_2_12_x86_64.manylinux2010_x86_64.whl (15.7 MB)\n",
            "\u001b[K     |████████████████████████████████| 15.7 MB 87 kB/s \n",
            "\u001b[?25hCollecting opt_einsum\n",
            "  Downloading opt_einsum-3.3.0-py3-none-any.whl (65 kB)\n",
            "\u001b[K     |████████████████████████████████| 65 kB 4.9 MB/s \n",
            "\u001b[?25hCollecting scipy>=1.5\n",
            "  Downloading scipy-1.7.3-cp37-cp37m-manylinux_2_12_x86_64.manylinux2010_x86_64.whl (38.1 MB)\n",
            "\u001b[K     |████████████████████████████████| 38.1 MB 1.2 MB/s \n",
            "\u001b[?25hCollecting typing_extensions\n",
            "  Downloading typing_extensions-4.3.0-py3-none-any.whl (25 kB)\n",
            "Collecting etils[epath]\n",
            "  Downloading etils-0.6.0-py3-none-any.whl (98 kB)\n",
            "\u001b[K     |████████████████████████████████| 98 kB 8.9 MB/s \n",
            "\u001b[?25hCollecting jaxlib==0.3.14+cuda11.cudnn82\n",
            "  Downloading https://storage.googleapis.com/jax-releases/cuda11/jaxlib-0.3.14%2Bcuda11.cudnn82-cp37-none-manylinux2014_x86_64.whl (161.9 MB)\n",
            "\u001b[K     |████████████████████████████████| 161.9 MB 75 kB/s \n",
            "\u001b[?25hCollecting flatbuffers<3.0,>=1.12\n",
            "  Downloading flatbuffers-2.0-py2.py3-none-any.whl (26 kB)\n",
            "Collecting zipp\n",
            "  Downloading zipp-3.8.1-py3-none-any.whl (5.6 kB)\n",
            "Collecting importlib_resources\n",
            "  Downloading importlib_resources-5.9.0-py3-none-any.whl (33 kB)\n",
            "Building wheels for collected packages: jax\n",
            "  Building wheel for jax (setup.py) ... \u001b[?25l\u001b[?25hdone\n",
            "  Created wheel for jax: filename=jax-0.3.15-py3-none-any.whl size=1181768 sha256=d4fac2b0e93b9c99832fe4b9273e63a796754bf717a5814b72d8bbc0802892ad\n",
            "  Stored in directory: /tmp/pip-ephem-wheel-cache-hboiw5g3/wheels/86/d7/53/899202b8f11885ecc5a020cea4adf3759eb700ccb98870eecb\n",
            "Successfully built jax\n",
            "Installing collected packages: zipp, typing-extensions, etils, numpy, importlib-resources, scipy, opt-einsum, flatbuffers, absl-py, jaxlib, jax\n",
            "\u001b[31mERROR: pip's dependency resolver does not currently take into account all the packages that are installed. This behaviour is the source of the following dependency conflicts.\n",
            "thinc 8.1.0 requires typing-extensions<4.2.0,>=3.7.4.1; python_version < \"3.8\", but you have typing-extensions 4.3.0 which is incompatible.\n",
            "spacy 3.4.0 requires typing-extensions<4.2.0,>=3.7.4; python_version < \"3.8\", but you have typing-extensions 4.3.0 which is incompatible.\n",
            "datascience 0.10.6 requires folium==0.2.1, but you have folium 0.8.3 which is incompatible.\n",
            "albumentations 0.1.12 requires imgaug<0.2.7,>=0.2.5, but you have imgaug 0.2.9 which is incompatible.\u001b[0m\n",
            "Successfully installed absl-py-1.2.0 etils-0.6.0 flatbuffers-2.0 importlib-resources-5.9.0 jax-0.3.15 jaxlib-0.3.14+cuda11.cudnn82 numpy-1.21.6 opt-einsum-3.3.0 scipy-1.7.3 typing-extensions-4.3.0 zipp-3.8.1\n"
          ]
        },
        {
          "output_type": "display_data",
          "data": {
            "application/vnd.colab-display-data+json": {
              "pip_warning": {
                "packages": [
                  "numpy"
                ]
              }
            }
          },
          "metadata": {}
        },
        {
          "output_type": "stream",
          "name": "stdout",
          "text": [
            "Looking in indexes: https://pypi.org/simple, https://us-python.pkg.dev/colab-wheels/public/simple/\n",
            "Collecting pybind11\n",
            "  Downloading pybind11-2.10.0-py3-none-any.whl (213 kB)\n",
            "\u001b[K     |████████████████████████████████| 213 kB 7.8 MB/s \n",
            "\u001b[?25hInstalling collected packages: pybind11\n",
            "Successfully installed pybind11-2.10.0\n",
            "/root/jax/triton\n",
            "g++ --std=c++17 custom_call.cc -o jax_triton/custom_call.so -L/usr/local/cuda/lib64 -L/usr/local/cuda/lib64/stubs -shared -fPIC -I/usr/include/python3.7m -I/usr/local/lib/python3.7/dist-packages/pybind11/include -I/usr/local/cuda/include -lcuda -fpermissive\n",
            "Looking in indexes: https://pypi.org/simple, https://us-python.pkg.dev/colab-wheels/public/simple/\n",
            "Processing /root/jax/triton\n",
            "\u001b[33m  DEPRECATION: A future pip version will change local packages to be built in-place without first copying to a temporary directory. We recommend you use --use-feature=in-tree-build to test your packages with this new behavior before it becomes the default.\n",
            "   pip 21.3 will remove support for this functionality. You can find discussion regarding this at https://github.com/pypa/pip/issues/7555.\u001b[0m\n",
            "  Installing build dependencies ... \u001b[?25l\u001b[?25hdone\n",
            "  Getting requirements to build wheel ... \u001b[?25l\u001b[?25hdone\n",
            "    Preparing wheel metadata ... \u001b[?25l\u001b[?25hdone\n",
            "Building wheels for collected packages: jax-triton\n",
            "  Building wheel for jax-triton (PEP 517) ... \u001b[?25l\u001b[?25hdone\n",
            "  Created wheel for jax-triton: filename=jax_triton-0.1.0-py3-none-any.whl size=185263 sha256=6a2e9ade40d0bae62abb616868c0e4d1fbd20bb43a0e6bd1d7fa335bf3e340b7\n",
            "  Stored in directory: /tmp/pip-ephem-wheel-cache-3yb0dir1/wheels/df/eb/41/0d937c00487fd1f775c9e088cd16a406ba36162860f54ec746\n",
            "Successfully built jax-triton\n",
            "Installing collected packages: jax-triton\n",
            "Successfully installed jax-triton-0.1.0\n",
            "/root\n"
          ]
        }
      ]
    },
    {
      "cell_type": "markdown",
      "source": [
        "## Imports"
      ],
      "metadata": {
        "id": "ofyANXztDkUm"
      }
    },
    {
      "cell_type": "code",
      "execution_count": null,
      "metadata": {
        "colab": {
          "base_uri": "https://localhost:8080/"
        },
        "id": "MDqK1FIyBM7X",
        "outputId": "246d125b-1d64-4bac-c64d-751974f63847"
      },
      "outputs": [
        {
          "output_type": "stream",
          "name": "stdout",
          "text": [
            "Tue Jul 26 01:09:19 2022       \n",
            "+-----------------------------------------------------------------------------+\n",
            "| NVIDIA-SMI 460.32.03    Driver Version: 460.32.03    CUDA Version: 11.2     |\n",
            "|-------------------------------+----------------------+----------------------+\n",
            "| GPU  Name        Persistence-M| Bus-Id        Disp.A | Volatile Uncorr. ECC |\n",
            "| Fan  Temp  Perf  Pwr:Usage/Cap|         Memory-Usage | GPU-Util  Compute M. |\n",
            "|                               |                      |               MIG M. |\n",
            "|===============================+======================+======================|\n",
            "|   0  Tesla T4            Off  | 00000000:00:04.0 Off |                    0 |\n",
            "| N/A   37C    P8     9W /  70W |      3MiB / 15109MiB |      0%      Default |\n",
            "|                               |                      |                  N/A |\n",
            "+-------------------------------+----------------------+----------------------+\n",
            "                                                                               \n",
            "+-----------------------------------------------------------------------------+\n",
            "| Processes:                                                                  |\n",
            "|  GPU   GI   CI        PID   Type   Process name                  GPU Memory |\n",
            "|        ID   ID                                                   Usage      |\n",
            "|=============================================================================|\n",
            "|  No running processes found                                                 |\n",
            "+-----------------------------------------------------------------------------+\n"
          ]
        }
      ],
      "source": [
        "import jax\n",
        "import jax.numpy as jnp\n",
        "import chex\n",
        "import numpy as np\n",
        "import time\n",
        "\n",
        "import pytest\n",
        "import torch\n",
        "\n",
        "import triton\n",
        "import triton.language as tl\n",
        "\n",
        "# Verify GPU type\n",
        "!nvidia-smi"
      ]
    },
    {
      "cell_type": "markdown",
      "source": [
        "## Attention"
      ],
      "metadata": {
        "id": "SLMwL-o0GpUB"
      }
    },
    {
      "cell_type": "markdown",
      "source": [
        "## Triton Flash Attention"
      ],
      "metadata": {
        "id": "dskUHUMiEPX9"
      }
    },
    {
      "cell_type": "markdown",
      "source": [
        "FlashAttention was added recently to OpenAI Triton (https://github.com/openai/triton/issues/540#issuecomment-1170219125 and implementation https://github.com/openai/triton/blob/master/python/tutorials/06-fused-attention.py). This is just the copy-pasted implementation:"
      ],
      "metadata": {
        "id": "XUkihzdgD63T"
      }
    },
    {
      "cell_type": "code",
      "source": [
        "@triton.jit\n",
        "def _fwd_kernel(\n",
        "    Q, K, V,\n",
        "    TMP, L, M,  # NOTE: TMP is a scratchpad buffer to workaround a compiler bug\n",
        "    Out,\n",
        "    stride_qz, stride_qh, stride_qm, stride_qk,\n",
        "    stride_kz, stride_kh, stride_kk, stride_kn,\n",
        "    stride_vz, stride_vh, stride_vk, stride_vn,\n",
        "    stride_oz, stride_oh, stride_om, stride_on,\n",
        "    Z, H, N_CTX,\n",
        "    BLOCK_M: tl.constexpr, BLOCK_DMODEL: tl.constexpr,\n",
        "    BLOCK_N: tl.constexpr,\n",
        "):\n",
        "    start_qm = tl.program_id(0)\n",
        "    off_hz = tl.program_id(1)\n",
        "    # initialize offsets\n",
        "    offs_m = start_qm * BLOCK_M + tl.arange(0, BLOCK_M)\n",
        "    offs_n = tl.arange(0, BLOCK_N)\n",
        "    offs_d = tl.arange(0, BLOCK_DMODEL)\n",
        "    off_q = off_hz * stride_qh + offs_m[:, None] * stride_qm + offs_d[None, :] * stride_qk\n",
        "    off_k = off_hz * stride_qh + offs_n[None, :] * stride_kn + offs_d[:, None] * stride_kk\n",
        "    off_v = off_hz * stride_qh + offs_n[:, None] * stride_qm + offs_d[None, :] * stride_qk\n",
        "    # Initialize pointers to Q, K, V\n",
        "    q_ptrs = Q + off_q\n",
        "    k_ptrs = K + off_k\n",
        "    v_ptrs = V + off_v\n",
        "    # initialize pointer to m and l\n",
        "    t_ptrs = TMP + off_hz * N_CTX + offs_m\n",
        "\n",
        "    acc = tl.zeros([BLOCK_M, BLOCK_DMODEL], dtype=tl.float32)\n",
        "    m_i = tl.zeros([BLOCK_M], dtype=tl.float32) - float(\"inf\")\n",
        "    l_i = tl.zeros([BLOCK_M], dtype=tl.float32)\n",
        "\n",
        "    q = tl.load(q_ptrs)\n",
        "    for start_n in range(0, start_qm + 1):\n",
        "        # -- compute qk ----\n",
        "        k = tl.load(k_ptrs)\n",
        "        qk = tl.dot(q, k)\n",
        "        qk += tl.where(offs_m[:, None] >= (start_n * BLOCK_N + offs_n[None, :]), 0, float(\"-inf\"))\n",
        "        # -- compute m_ij, p, l_ij\n",
        "        m_ij = tl.max(qk, 1)\n",
        "        p = tl.exp(qk - m_ij[:, None])\n",
        "        l_ij = tl.sum(p, 1)\n",
        "        # -- update m_i and l_i\n",
        "        m_i_new = tl.maximum(m_i, m_ij)\n",
        "        alpha = tl.exp(m_i - m_i_new)\n",
        "        beta = tl.exp(m_ij - m_i_new)\n",
        "        l_i_new = alpha * l_i + beta * l_ij\n",
        "        # -- update output accumulator --\n",
        "        # scale p\n",
        "        p_scale = beta / l_i_new\n",
        "        p = p * p_scale[:, None]\n",
        "        p = p.to(tl.float16)\n",
        "        # scale acc\n",
        "        acc_scale = l_i / l_i_new * alpha\n",
        "        tl.store(t_ptrs, acc_scale)\n",
        "        acc_scale = tl.load(t_ptrs)  # BUG: have to store and immediately load\n",
        "        acc = acc * acc_scale[:, None]\n",
        "        # update acc\n",
        "        v = tl.load(v_ptrs)\n",
        "        acc += tl.dot(p, v)\n",
        "        k_ptrs += BLOCK_N * stride_kn\n",
        "        v_ptrs += BLOCK_N * stride_vk\n",
        "        # r_ptrs += BLOCK_N\n",
        "        l_i = l_i_new\n",
        "        m_i = m_i_new\n",
        "\n",
        "    start_qm = tl.program_id(0)\n",
        "    offs_m = start_qm * BLOCK_M + tl.arange(0, BLOCK_M)\n",
        "    # write back l and m\n",
        "    l_ptrs = L + off_hz * N_CTX + offs_m\n",
        "    m_ptrs = M + off_hz * N_CTX + offs_m\n",
        "    tl.store(l_ptrs, l_i)\n",
        "    tl.store(m_ptrs, m_i)\n",
        "    # initialize pointers to output\n",
        "    offs_n = tl.arange(0, BLOCK_DMODEL)\n",
        "    off_out = off_hz * stride_oh + offs_m[:, None] * stride_om + offs_n[None, :] * stride_on\n",
        "    out_ptrs = Out + off_out\n",
        "    tl.store(out_ptrs, acc)\n",
        "\n",
        "\n",
        "class _attention(torch.autograd.Function):\n",
        "\n",
        "    @staticmethod\n",
        "    def forward(ctx, q, k, v):\n",
        "        BLOCK = 128\n",
        "        # shape constraints\n",
        "        Lq, Lk = q.shape[-1], k.shape[-2]\n",
        "        assert Lq == Lk\n",
        "        o = torch.empty_like(q)\n",
        "        grid = (triton.cdiv(q.shape[2], BLOCK), q.shape[0] * q.shape[1])\n",
        "        tmp = torch.empty((q.shape[0] * q.shape[1], q.shape[2]), device=q.device, dtype=torch.float32)\n",
        "        L = torch.empty((q.shape[0] * q.shape[1], q.shape[2]), device=q.device, dtype=torch.float32)\n",
        "        m = torch.empty((q.shape[0] * q.shape[1], q.shape[2]), device=q.device, dtype=torch.float32)\n",
        "        _fwd_kernel[grid](\n",
        "            q, k, v,\n",
        "            tmp, L, m,\n",
        "            o,\n",
        "            q.stride(0), q.stride(1), q.stride(2), q.stride(3),\n",
        "            k.stride(0), k.stride(1), k.stride(2), k.stride(3),\n",
        "            v.stride(0), v.stride(1), v.stride(2), v.stride(3),\n",
        "            o.stride(0), o.stride(1), o.stride(2), o.stride(3),\n",
        "            q.shape[0], q.shape[1], q.shape[2],\n",
        "            BLOCK_M=BLOCK, BLOCK_N=BLOCK,\n",
        "            BLOCK_DMODEL=64, num_warps=4,\n",
        "            num_stages=1,\n",
        "        )\n",
        "        ctx.save_for_backward(q, k, v, o, L, m)\n",
        "        ctx.BLOCK = BLOCK\n",
        "        ctx.grid = grid\n",
        "        return o\n",
        "\n",
        "\n",
        "attention = _attention.apply\n",
        "\n",
        "\n",
        "@pytest.mark.parametrize('Z, H, N_CTX, D_MODEL', [(2, 3, 1024, 64)])\n",
        "def test_op(Z, H, N_CTX, D_MODEL, dtype=torch.float16):\n",
        "    torch.manual_seed(20)\n",
        "    q = .5 * torch.randn((Z, H, N_CTX, D_MODEL), dtype=dtype, device=\"cuda\", requires_grad=True)\n",
        "    k = .5 * torch.randn((Z, H, D_MODEL, N_CTX), dtype=dtype, device=\"cuda\", requires_grad=True)\n",
        "    v = .5 * torch.randn((Z, H, N_CTX, D_MODEL), dtype=dtype, device=\"cuda\", requires_grad=True)\n",
        "    # triton implementation\n",
        "    tri_out = attention(q, k, v)\n",
        "    # reference implementation\n",
        "    M = torch.tril(torch.ones((N_CTX, N_CTX), device=\"cuda\"))\n",
        "    ref_qk = torch.matmul(q, k)\n",
        "    for z in range(Z):\n",
        "        for h in range(H):\n",
        "            ref_qk[:, :, M == 0] = float(\"-inf\")\n",
        "    ref_qk = torch.softmax(ref_qk, dim=-1)\n",
        "    ref_out = torch.matmul(ref_qk, v)\n",
        "    # compare\n",
        "    triton.testing.assert_almost_equal(ref_out, tri_out)\n",
        "\n",
        "\n",
        "try:\n",
        "    from flash_attn.flash_attn_interface import flash_attn_func\n",
        "    HAS_FLASH = True\n",
        "except BaseException:\n",
        "    HAS_FLASH = False\n",
        "\n",
        "BATCH, N_HEADS, N_CTX, D_HEAD = 4, 64, 2048, 64\n",
        "# vary batch size for fixed heads / seq\n",
        "batch_bench = triton.testing.Benchmark(\n",
        "    x_names=['BATCH'],\n",
        "    x_vals=[2**i for i in range(0, 8)],\n",
        "    line_arg='provider',\n",
        "    line_vals=['triton'] + (['flash'] if HAS_FLASH else []),\n",
        "    line_names=['Triton'] + (['Flash'] if HAS_FLASH else []),\n",
        "    styles=[('red', '-'), ('blue', '-')],\n",
        "    ylabel='ms',\n",
        "    plot_name=f'fused-attention-seq{N_CTX}-head{N_HEADS}-d{D_HEAD}',\n",
        "    args={'H': N_HEADS, 'N_CTX': N_CTX, 'D_MODEL': D_HEAD, 'dtype': torch.float16}\n",
        ")\n",
        "# vary seq length for fixed head and batch=4\n",
        "seq_bench = triton.testing.Benchmark(\n",
        "    x_names=['N_CTX'],\n",
        "    x_vals=[2**i for i in range(10, 16)],\n",
        "    line_arg='provider',\n",
        "    line_vals=['triton'] + (['flash'] if HAS_FLASH else []),\n",
        "    line_names=['Triton'] + (['Flash'] if HAS_FLASH else []),\n",
        "    styles=[('red', '-'), ('blue', '-')],\n",
        "    ylabel='ms',\n",
        "    plot_name=f'fused-attention-batch{BATCH}-head{N_HEADS}-d{D_HEAD}',\n",
        "    args={'H': D_HEAD, 'BATCH': BATCH, 'D_MODEL': D_HEAD, 'dtype': torch.float16}\n",
        ")\n",
        "\n",
        "\n",
        "@triton.testing.perf_report([batch_bench, seq_bench])\n",
        "def bench_flash_attention(BATCH, H, N_CTX, D_MODEL, provider, dtype=torch.float16, device=\"cuda\"):\n",
        "    warmup = 25\n",
        "    rep = 500\n",
        "    if provider == \"triton\":\n",
        "        q = torch.randn((BATCH, H, N_CTX, D_MODEL), dtype=dtype, device=\"cuda\", requires_grad=True)\n",
        "        k = torch.randn((BATCH, H, D_MODEL, N_CTX), dtype=dtype, device=\"cuda\", requires_grad=True)\n",
        "        v = torch.randn((BATCH, H, N_CTX, D_MODEL), dtype=dtype, device=\"cuda\", requires_grad=True)\n",
        "        fn = lambda: attention(q, k, v)\n",
        "        ms = triton.testing.do_bench(fn, percentiles=None, warmup=warmup, rep=rep)\n",
        "        return ms\n",
        "    if provider == \"flash\":\n",
        "        lengths = torch.full((BATCH,), fill_value=N_CTX, device=device)\n",
        "        cu_seqlens = torch.zeros((BATCH + 1,), device=device, dtype=torch.int32)\n",
        "        cu_seqlens[1:] = lengths.cumsum(0)\n",
        "        qkv = torch.randn((BATCH * N_CTX, 3, H, D_MODEL), dtype=dtype, device=device, requires_grad=True)\n",
        "        fn = lambda: flash_attn_func(qkv, cu_seqlens, 0., N_CTX, causal=True)\n",
        "        ms = triton.testing.do_bench(fn, percentiles=None, warmup=warmup, rep=rep)\n",
        "        return ms\n",
        "\n",
        "\n",
        "#bench_flash_attention.run(save_path='.', print_data=True)"
      ],
      "metadata": {
        "id": "vmuhnKjYGuFM"
      },
      "execution_count": null,
      "outputs": []
    },
    {
      "cell_type": "markdown",
      "source": [
        "## JAX"
      ],
      "metadata": {
        "id": "SyNCzJuoWdsj"
      }
    },
    {
      "cell_type": "markdown",
      "source": [
        "Verify equivalence to JAX:"
      ],
      "metadata": {
        "id": "YkRE5zA7e8zc"
      }
    },
    {
      "cell_type": "code",
      "source": [
        "from types import SimpleNamespace\n",
        "import jax_triton as jt\n",
        "\n",
        "import jax\n",
        "import jax.numpy as jnp\n",
        "from jax import random\n",
        "import numpy as np\n",
        "\n",
        "def _strides(shape):\n",
        "  all = np.prod(shape)\n",
        "  for s in shape:\n",
        "    all = all // s\n",
        "    yield int(all)\n",
        "\n",
        "@triton.jit\n",
        "def fused_attention_kernel(\n",
        "    Q, K, V,\n",
        "    TMP, L, M,  # NOTE: TMP is a scratchpad buffer to workaround a compiler bug\n",
        "    Out,\n",
        "    stride_qz: tl.constexpr, stride_qh: tl.constexpr, stride_qm: tl.constexpr, stride_qk: tl.constexpr,\n",
        "    stride_kz: tl.constexpr, stride_kh: tl.constexpr, stride_kk: tl.constexpr, stride_kn: tl.constexpr,\n",
        "    stride_vz: tl.constexpr, stride_vh: tl.constexpr, stride_vk: tl.constexpr, stride_vn: tl.constexpr,\n",
        "    stride_oz: tl.constexpr, stride_oh: tl.constexpr, stride_om: tl.constexpr, stride_on: tl.constexpr,\n",
        "    Z: tl.constexpr, H: tl.constexpr, N_CTX: tl.constexpr,\n",
        "    BLOCK_M: tl.constexpr, BLOCK_DMODEL: tl.constexpr,\n",
        "    BLOCK_N: tl.constexpr,\n",
        "):\n",
        "    start_qm = tl.program_id(0)\n",
        "    off_hz = tl.program_id(1)\n",
        "    # initialize offsets\n",
        "    offs_m = start_qm * BLOCK_M + tl.arange(0, BLOCK_M)\n",
        "    offs_n = tl.arange(0, BLOCK_N)\n",
        "    offs_d = tl.arange(0, BLOCK_DMODEL)\n",
        "    off_q = off_hz * stride_qh + offs_m[:, None] * stride_qm + offs_d[None, :] * stride_qk\n",
        "    off_k = off_hz * stride_qh + offs_n[None, :] * stride_kn + offs_d[:, None] * stride_kk\n",
        "    off_v = off_hz * stride_qh + offs_n[:, None] * stride_qm + offs_d[None, :] * stride_qk\n",
        "    # Initialize pointers to Q, K, V\n",
        "    q_ptrs = Q + off_q\n",
        "    k_ptrs = K + off_k\n",
        "    v_ptrs = V + off_v\n",
        "    # initialize pointer to m and l\n",
        "    t_ptrs = TMP + off_hz * N_CTX + offs_m\n",
        "\n",
        "    acc = tl.zeros([BLOCK_M, BLOCK_DMODEL], dtype=tl.float32)\n",
        "    m_i = tl.zeros([BLOCK_M], dtype=tl.float32) - float(\"inf\")\n",
        "    l_i = tl.zeros([BLOCK_M], dtype=tl.float32)\n",
        "\n",
        "    q = tl.load(q_ptrs)\n",
        "    for start_n in range(0, start_qm + 1):\n",
        "        # -- compute qk ----\n",
        "        k = tl.load(k_ptrs)\n",
        "        qk = tl.dot(q, k)\n",
        "        qk += tl.where(offs_m[:, None] >= (start_n * BLOCK_N + offs_n[None, :]), 0, float(\"-inf\"))\n",
        "        # -- compute m_ij, p, l_ij\n",
        "        m_ij = tl.max(qk, 1)\n",
        "        p = tl.exp(qk - m_ij[:, None])\n",
        "        l_ij = tl.sum(p, 1)\n",
        "        # -- update m_i and l_i\n",
        "        m_i_new = tl.maximum(m_i, m_ij)\n",
        "        alpha = tl.exp(m_i - m_i_new)\n",
        "        beta = tl.exp(m_ij - m_i_new)\n",
        "        l_i_new = alpha * l_i + beta * l_ij\n",
        "        # -- update output accumulator --\n",
        "        # scale p\n",
        "        p_scale = beta / l_i_new\n",
        "        p = p * p_scale[:, None]\n",
        "        p = p.to(tl.float16)\n",
        "        # scale acc\n",
        "        acc_scale = l_i / l_i_new * alpha\n",
        "        tl.store(t_ptrs, acc_scale)\n",
        "        acc_scale = tl.load(t_ptrs)  # BUG: have to store and immediately load\n",
        "        acc = acc * acc_scale[:, None]\n",
        "        # update acc\n",
        "        v = tl.load(v_ptrs)\n",
        "        acc += tl.dot(p, v)\n",
        "        k_ptrs += BLOCK_N * stride_kn\n",
        "        v_ptrs += BLOCK_N * stride_vk\n",
        "        # r_ptrs += BLOCK_N\n",
        "        l_i = l_i_new\n",
        "        m_i = m_i_new\n",
        "\n",
        "    start_qm = tl.program_id(0)\n",
        "    offs_m = start_qm * BLOCK_M + tl.arange(0, BLOCK_M)\n",
        "    # write back l and m\n",
        "    l_ptrs = L + off_hz * N_CTX + offs_m\n",
        "    m_ptrs = M + off_hz * N_CTX + offs_m\n",
        "    tl.store(l_ptrs, l_i)\n",
        "    tl.store(m_ptrs, m_i)\n",
        "    # initialize pointers to output\n",
        "    offs_n = tl.arange(0, BLOCK_DMODEL)\n",
        "    off_out = off_hz * stride_oh + offs_m[:, None] * stride_om + offs_n[None, :] * stride_on\n",
        "    out_ptrs = Out + off_out\n",
        "    tl.store(out_ptrs, acc)\n",
        "    \n",
        "@jax.jit\n",
        "def jax_attention_triton(q: jnp.ndarray, k: jnp.ndarray, v: jnp.ndarray) -> jnp.ndarray:\n",
        "  BLOCK = 128\n",
        "  Lq, Lk = q.shape[-1], k.shape[-2]\n",
        "  assert Lq == Lk\n",
        "  grid = lambda _: (triton.cdiv(q.shape[2], BLOCK), q.shape[0] * q.shape[1])\n",
        "  out_shape = [\n",
        "      SimpleNamespace(shape=(q.shape[0] * q.shape[1], q.shape[2]), dtype=q.dtype),\n",
        "      SimpleNamespace(shape=(q.shape[0] * q.shape[1], q.shape[2]), dtype=q.dtype),\n",
        "      SimpleNamespace(shape=(q.shape[0] * q.shape[1], q.shape[2]), dtype=q.dtype),\n",
        "      SimpleNamespace(shape=q.shape, dtype=q.dtype)]\n",
        "  stride_qz, stride_qh, stride_qm, stride_qk = _strides(q.shape)\n",
        "  stride_kz, stride_kh, stride_kk, stride_kn = _strides(k.shape)\n",
        "  stride_vz, stride_vh, stride_vk, stride_vn = _strides(v.shape)\n",
        "  stride_oz, stride_oh, stride_om, stride_on = _strides(out_shape[-1].shape)\n",
        "  \n",
        "  metaparams = dict(\n",
        "    BLOCK_M=BLOCK,\n",
        "    BLOCK_N=BLOCK,\n",
        "    BLOCK_DMODEL=64,\n",
        "    stride_qz=stride_qz, stride_qh=stride_qh, stride_qm=stride_qm, stride_qk=stride_qk,\n",
        "    stride_kz=stride_kz, stride_kh=stride_kh, stride_kk=stride_kk, stride_kn=stride_kn,\n",
        "    stride_vz=stride_vz, stride_vh=stride_vh, stride_vk=stride_vk, stride_vn=stride_vn,\n",
        "    stride_oz=stride_oz, stride_oh=stride_oh, stride_om=stride_om, stride_on=stride_on,\n",
        "    Z=q.shape[0], H=q.shape[1], N_CTX=q.shape[2],\n",
        "    num_warps=4, num_stages=1\n",
        "  )\n",
        "  _, _, _, output = jt.triton_call(q, k, v, kernel=fused_attention_kernel,\n",
        "      out_shape=out_shape, grid=grid, **metaparams)\n",
        "  return output\n",
        "\n",
        "@jax.jit\n",
        "def jax_attention(q, k, v):\n",
        "  n_seq = q.shape[-2]\n",
        "  logits = jnp.matmul(q, k)\n",
        "  mask = jnp.tril(jnp.ones((1, 1, n_seq, n_seq), dtype=q.dtype))\n",
        "  mask = jnp.broadcast_to(mask, logits.shape)\n",
        "  logits = jnp.where(mask, logits, float('-inf'))\n",
        "  ref_qk = jax.nn.softmax(logits)\n",
        "  return jnp.matmul(ref_qk, v)\n",
        "\n",
        "def test_triton_jax(batch, heads, seq_len, d_model, dtype=torch.float16):\n",
        "  torch.manual_seed(20)\n",
        "  q = .5 * torch.randn((batch, heads, seq_len, d_model), dtype=dtype, device=\"cuda\", requires_grad=True)\n",
        "  k = .5 * torch.randn((batch, heads, d_model, seq_len), dtype=dtype, device=\"cuda\", requires_grad=True)\n",
        "  v = .5 * torch.randn((batch, heads, seq_len, d_model), dtype=dtype, device=\"cuda\", requires_grad=True)\n",
        "  # triton implementation\n",
        "  tri_out = attention(q, k, v).cpu().detach().numpy()\n",
        "\n",
        "  q_jax = jnp.array(q.cpu().detach().numpy(), dtype=jnp.float16)\n",
        "  del q\n",
        "  k_jax = jnp.array(k.cpu().detach().numpy(), dtype=jnp.float16)\n",
        "  del k\n",
        "  v_jax = jnp.array(v.cpu().detach().numpy(), dtype=jnp.float16)\n",
        "  del v\n",
        "\n",
        "  jax_out = jax_attention(q_jax, k_jax, v_jax)\n",
        "  chex.assert_trees_all_close(tri_out, jax_out, atol=0.003)\n",
        "  jax_out = jax_attention_triton(q_jax, k_jax, v_jax)\n",
        "  chex.assert_trees_all_close(tri_out, jax_out, atol=0.003)\n",
        "\n",
        "test_triton_jax(2, 32, 2048, 64)"
      ],
      "metadata": {
        "colab": {
          "base_uri": "https://localhost:8080/"
        },
        "id": "cArp-W5vTWfz",
        "outputId": "b4f9f520-3eb8-400b-ceb7-d9ef613fa99b"
      },
      "execution_count": null,
      "outputs": [
        {
          "output_type": "stream",
          "name": "stderr",
          "text": [
            "WARNING:absl:chex.assert_trees_all_close has been renamed to chex.assert_trees_all_close, please update your code.\n",
            "WARNING:absl:chex.assert_trees_all_close has been renamed to chex.assert_trees_all_close, please update your code.\n"
          ]
        }
      ]
    },
    {
      "cell_type": "markdown",
      "source": [
        "The setup `BATCH, N_HEADS, N_CTX, D_HEAD = 8, 4, 2048, 64` took 2.44ms on Triton based on timings above, as speedup of 8x:"
      ],
      "metadata": {
        "id": "9oZSrxbrwDi5"
      }
    },
    {
      "cell_type": "code",
      "source": [
        "BATCH, N_HEADS, N_CTX, D_HEAD = 8, 64, 2048, 64\n",
        "\n",
        "\n",
        "# warmup\n",
        "def bench_jax_triton(batch, heads, seq_len, d_model):\n",
        "  q_jax = jnp.ones((batch, heads, seq_len, d_model), dtype=jnp.float16)\n",
        "  k_jax = jnp.ones((batch, heads, d_model, seq_len), dtype=jnp.float16)\n",
        "  v_jax = jnp.ones((batch, heads, seq_len, d_model), dtype=jnp.float16)\n",
        "  # warmup\n",
        "  jax_attention_triton(q_jax, k_jax, q_jax).block_until_ready()\n",
        "  jax_attention_triton(q_jax, k_jax, q_jax).block_until_ready()\n",
        "\n",
        "  t1 = time.time()\n",
        "  num_runs = 100\n",
        "  for _ in range(num_runs):\n",
        "    jax_attention_triton(q_jax, k_jax, q_jax).block_until_ready()\n",
        "  estimate_ms = 1000 * (time.time() - t1) / num_runs\n",
        "  return estimate_ms\n",
        "\n",
        "print(bench_jax_triton(batch=BATCH, heads=N_HEADS, seq_len=N_CTX, d_model=D_HEAD))\n",
        "\n",
        "# warmup\n",
        "def bench_jax(batch, heads, seq_len, d_model):\n",
        "  q_jax = jnp.ones((batch, heads, seq_len, d_model), dtype=jnp.float16)\n",
        "  k_jax = jnp.ones((batch, heads, d_model, seq_len), dtype=jnp.float16)\n",
        "  v_jax = jnp.ones((batch, heads, seq_len, d_model), dtype=jnp.float16)\n",
        "  # warmup\n",
        "  jax_attention(q_jax, k_jax, q_jax).block_until_ready()\n",
        "  jax_attention(q_jax, k_jax, q_jax).block_until_ready()\n",
        "\n",
        "  t1 = time.time()\n",
        "  num_runs = 100\n",
        "  for _ in range(num_runs):\n",
        "    jax_attention(q_jax, k_jax, q_jax).block_until_ready()\n",
        "  estimate_ms = 1000 * (time.time() - t1) / num_runs\n",
        "  return estimate_ms\n",
        "\n",
        "print(bench_jax(batch=BATCH, heads=N_HEADS, seq_len=N_CTX, d_model=D_HEAD))"
      ],
      "metadata": {
        "colab": {
          "base_uri": "https://localhost:8080/"
        },
        "id": "hV0u8v3uaVrH",
        "outputId": "c529370a-b3af-4be6-d81a-ce7735adf921"
      },
      "execution_count": null,
      "outputs": [
        {
          "output_type": "stream",
          "name": "stdout",
          "text": [
            "35.6231689453125\n",
            "110.03916501998901\n"
          ]
        }
      ]
    },
    {
      "cell_type": "markdown",
      "source": [
        "Rather than using the official Triton benchmarking utils, do a sanity check:"
      ],
      "metadata": {
        "id": "whN5Alokwckn"
      }
    },
    {
      "cell_type": "code",
      "source": [
        "def bench_triton(batch, heads, seq_len, d_model):\n",
        "  dtype = torch.float16\n",
        "  warmup = 25\n",
        "  rep = 500\n",
        "  q = torch.randn((batch, heads, seq_len, d_model), dtype=dtype, device=\"cuda\", requires_grad=True)\n",
        "  k = torch.randn((batch, heads, d_model, seq_len), dtype=dtype, device=\"cuda\", requires_grad=True)\n",
        "  v = torch.randn((batch, heads, seq_len, d_model), dtype=dtype, device=\"cuda\", requires_grad=True)\n",
        "  fn = lambda: attention(q, k, v)\n",
        "\n",
        "  # Warmup\n",
        "  fn()\n",
        "  fn()\n",
        "  torch.cuda.synchronize()\n",
        "  t1 = time.time()\n",
        "  num_runs = 100\n",
        "  for _ in range(num_runs):\n",
        "      fn()\n",
        "  torch.cuda.synchronize()\n",
        "  estimate_ms = 1000 * (time.time() - t1) / num_runs\n",
        "  return estimate_ms\n",
        "\n",
        "bench_triton(batch=BATCH, heads=N_HEADS, seq_len=N_CTX, d_model=D_HEAD)"
      ],
      "metadata": {
        "colab": {
          "base_uri": "https://localhost:8080/"
        },
        "id": "nZ5BqZhDgdcU",
        "outputId": "93e04cff-43d0-4b98-eaf1-fb2754d0e2a8"
      },
      "execution_count": null,
      "outputs": [
        {
          "output_type": "execute_result",
          "data": {
            "text/plain": [
              "33.43979358673096"
            ]
          },
          "metadata": {},
          "execution_count": 5
        }
      ]
    },
    {
      "cell_type": "markdown",
      "source": [
        "Plot:"
      ],
      "metadata": {
        "id": "v_ggO79Qyohi"
      }
    },
    {
      "cell_type": "code",
      "source": [
        "import matplotlib.pyplot as plt\n",
        "\n",
        "seq_lens = [128, 256, 512, 1024]\n",
        "y_jax, y_jax_triton, y_trit = [], [], []\n",
        "\n",
        "for s in seq_lens:\n",
        "  y_jax.append(bench_jax(batch=BATCH, heads=N_HEADS, seq_len=s, d_model=D_HEAD))\n",
        "  y_jax_triton.append(bench_jax_triton(batch=BATCH, heads=N_HEADS, seq_len=s, d_model=D_HEAD))\n",
        "  y_trit.append(bench_triton(batch=BATCH, heads=N_HEADS, seq_len=s, d_model=D_HEAD))\n",
        "\n",
        "plt.plot(seq_lens, y_jax, label='jax')\n",
        "plt.plot(seq_lens, y_jax_triton, label='jax+triton')\n",
        "plt.plot(seq_lens, y_trit, label='triton')\n",
        "plt.title('Time with sequence length')\n",
        "plt.ylabel('time (ms)')\n",
        "plt.xlabel('Sequence Length')\n",
        "plt.legend()\n",
        "plt.show()"
      ],
      "metadata": {
        "colab": {
          "base_uri": "https://localhost:8080/",
          "height": 295
        },
        "id": "obiF1ZrNzevb",
        "outputId": "5faf1c5f-b5c2-4135-936c-2edb12a3b723"
      },
      "execution_count": null,
      "outputs": [
        {
          "output_type": "display_data",
          "data": {
            "text/plain": [
              "<Figure size 432x288 with 1 Axes>"
            ],
            "image/png": "[encoded data removed]"
          },
          "metadata": {
            "needs_background": "light"
          }
        }
      ]
    }
  ]
}
