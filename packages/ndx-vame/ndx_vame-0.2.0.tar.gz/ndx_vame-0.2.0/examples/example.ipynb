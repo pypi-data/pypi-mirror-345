{
 "cells": [
  {
   "cell_type": "markdown",
   "metadata": {
    "vscode": {
     "languageId": "plaintext"
    }
   },
   "source": [
    "This example notebook demonstrates how to write VAME results to an NWB file, using the [ndx-vame]() extension.\n",
    "\n",
    "It will also include:\n",
    "- [Subject](https://pynwb.readthedocs.io/en/stable/pynwb.file.html#pynwb.file.Subject) metadata\n",
    "- [PoseEstimation](https://github.com/rly/ndx-pose) data\n",
    "\n",
    "Let's start by importing the necessary modules:"
   ]
  },
  {
   "cell_type": "code",
   "execution_count": null,
   "metadata": {
    "vscode": {
     "languageId": "plaintext"
    }
   },
   "outputs": [],
   "source": [
    "import datetime\n",
    "import numpy as np\n",
    "from pynwb import NWBFile, NWBHDF5IO\n",
    "from pynwb.file import Subject\n",
    "from ndx_pose import PoseEstimationSeries, PoseEstimation\n",
    "from ndx_vame import VAMEGroup, MotifSeries, CommunitySeries"
   ]
  },
  {
   "cell_type": "code",
   "execution_count": null,
   "metadata": {},
   "outputs": [],
   "source": [
    "# initialize an NWBFile object\n",
    "nwbfile = NWBFile(\n",
    "    session_description=\"session_description\",\n",
    "    identifier=\"identifier\",\n",
    "    session_start_time=datetime.datetime.now(datetime.timezone.utc),\n",
    ")\n",
    "\n",
    "# add a subject to the NWB file\n",
    "subject = Subject(subject_id=\"subject1\", species=\"Mus musculus\")\n",
    "nwbfile.subject = subject\n",
    "\n",
    "# create a device for the camera\n",
    "camera1 = nwbfile.create_device(\n",
    "    name=\"camera1\",\n",
    "    description=\"camera for recording behavior\",\n",
    "    manufacturer=\"manufacturer\",\n",
    ")\n",
    "\n",
    "# a PoseEstimationSeries represents the estimated position of a single marker.\n",
    "# in this example, we have three PoseEstimationSeries: one for the body and one for each front paw.\n",
    "data = np.random.rand(100, 2)  # num_frames x (x, y) but can be (x, y, z)\n",
    "confidence = np.random.rand(100)  # a confidence value for every frame\n",
    "reference_frame = \"(0,0,0) corresponds to ...\"\n",
    "front_left_paw = PoseEstimationSeries(\n",
    "    name=\"front_left_paw\",\n",
    "    description=\"Marker placed around fingers of front left paw.\",\n",
    "    data=data,\n",
    "    unit=\"pixels\",\n",
    "    rate=10.,\n",
    "    reference_frame=reference_frame,\n",
    "    confidence=confidence,\n",
    ")\n",
    "\n",
    "data = np.random.rand(100, 2)  # num_frames x (x, y) but can be (x, y, z)\n",
    "confidence = np.random.rand(100)  # a confidence value for every frame\n",
    "body = PoseEstimationSeries(\n",
    "    name=\"body\",\n",
    "    description=\"Marker placed on center of body.\",\n",
    "    data=data,\n",
    "    unit=\"pixels\",\n",
    "    rate=10.,\n",
    "    reference_frame=reference_frame,\n",
    "    confidence=confidence,\n",
    ")\n",
    "\n",
    "data = np.random.rand(100, 2)  # num_frames x (x, y) but can be num_frames x (x, y, z)\n",
    "confidence = np.random.rand(100)  # a confidence value for every frame\n",
    "front_right_paw = PoseEstimationSeries(\n",
    "    name=\"front_right_paw\",\n",
    "    description=\"Marker placed around fingers of front right paw.\",\n",
    "    data=data,\n",
    "    unit=\"pixels\",\n",
    "    rate=10.,\n",
    "    reference_frame=reference_frame,\n",
    "    confidence=confidence,\n",
    ")\n",
    "\n",
    "# create a PoseEstimation object\n",
    "pose_estimation = PoseEstimation(\n",
    "    name=\"PoseEstimation\",\n",
    "    pose_estimation_series=[front_left_paw, body, front_right_paw],\n",
    "    description=\"Estimated positions of front paws of subject1 using DeepLabCut.\",\n",
    "    original_videos=[\"path/to/camera1.mp4\"],\n",
    "    dimensions=np.array([[640, 480]], dtype=\"uint16\"),  # pixel dimensions of the video\n",
    "    devices=[camera1],\n",
    "    scorer=\"DLC_resnet50_openfieldOct30shuffle1_1600\",\n",
    "    source_software=\"DeepLabCut\",\n",
    "    source_software_version=\"2.3.8\",\n",
    ")\n",
    "\n",
    "# create a \"behavior\" processing module to store the PoseEstimation and Skeletons objects\n",
    "behavior_pm = nwbfile.create_processing_module(\n",
    "    name=\"behavior\",\n",
    "    description=\"processed behavioral data\",\n",
    ")\n",
    "behavior_pm.add(pose_estimation)\n",
    "\n",
    "# VAME data\n",
    "data_motifs = np.random.rand(100, 15)  # (n_samples, n_motifs)\n",
    "data_communities = np.random.rand(100, 3)  # (n_samples, n_communities)\n",
    "\n",
    "motif_series = MotifSeries(\n",
    "    name=\"MotifSeries\",\n",
    "    data=data_motifs,\n",
    "    rate=10.,\n",
    ")\n",
    "community_series = CommunitySeries(\n",
    "    name=\"CommunitySeries\",\n",
    "    data=data_communities,\n",
    "    rate=10.,\n",
    "    motif_series=motif_series,\n",
    ")\n",
    "\n",
    "vame_group = VAMEGroup(\n",
    "    name=\"VAMEGroup\",\n",
    "    motif_series=motif_series,\n",
    "    community_series=community_series,\n",
    "    vame_settings=\"dict containing config\",\n",
    "    pose_estimation=pose_estimation,\n",
    ")\n",
    "\n",
    "behavior_pm.add(vame_group)"
   ]
  },
  {
   "cell_type": "code",
   "execution_count": null,
   "metadata": {},
   "outputs": [],
   "source": [
    "# write the NWBFile to disk\n",
    "path = \"test_pose.nwb\"\n",
    "with NWBHDF5IO(path, mode=\"w\") as io:\n",
    "    io.write(nwbfile)\n",
    "\n",
    "# read the NWBFile from disk\n",
    "io = NWBHDF5IO(path, mode=\"r\")\n",
    "nwbfile = io.read()\n",
    "print(nwbfile.processing[\"behavior\"][\"VAMEGroup\"])"
   ]
  },
  {
   "cell_type": "code",
   "execution_count": null,
   "metadata": {},
   "outputs": [],
   "source": []
  },
  {
   "cell_type": "code",
   "execution_count": null,
   "metadata": {},
   "outputs": [],
   "source": []
  }
 ],
 "metadata": {
  "kernelspec": {
   "display_name": "Python [conda env:vame] *",
   "language": "python",
   "name": "conda-env-vame-py"
  },
  "language_info": {
   "codemirror_mode": {
    "name": "ipython",
    "version": 3
   },
   "file_extension": ".py",
   "mimetype": "text/x-python",
   "name": "python",
   "nbconvert_exporter": "python",
   "pygments_lexer": "ipython3",
   "version": "3.11.9"
  }
 },
 "nbformat": 4,
 "nbformat_minor": 4
}
