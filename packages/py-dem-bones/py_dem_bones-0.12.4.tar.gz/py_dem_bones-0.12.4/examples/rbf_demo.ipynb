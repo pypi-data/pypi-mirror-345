{
 "cells": [
  {
   "cell_type": "markdown",
   "metadata": {},
   "source": [
    "# RBF与DemBones集成演示\n",
    "\n",
    "这个Jupyter Notebook展示了如何结合DemBones和SciPy的RBF功能，实现类似于Chad Vernon的RBF节点功能。我们将使用DemBones计算骨骼权重和变换，然后使用RBF插值器驱动辅助关节。\n",
    "\n",
    "## 安装依赖\n",
    "\n",
    "首先，我们需要安装必要的依赖项："
   ]
  },
  {
   "cell_type": "code",
   "execution_count": null,
   "metadata": {},
   "source": [
    "!pip install py-dem-bones numpy scipy matplotlib"
   ]
  },
  {
   "cell_type": "markdown",
   "metadata": {},
   "source": [
    "## 导入必要的库"
   ]
  },
  {
   "cell_type": "code",
   "execution_count": null,
   "metadata": {},
   "source": [
    "import numpy as np\n",
    "from scipy.interpolate import RBFInterpolator\n",
    "import matplotlib.pyplot as plt\n",
    "from mpl_toolkits.mplot3d import Axes3D\n",
    "import py_dem_bones as pdb"
   ]
  },
  {
   "cell_type": "markdown",
   "metadata": {},
   "source": [
    "## 创建测试数据\n",
    "\n",
    "我们将创建一个简单的立方体网格和骨骼系统来演示RBF功能："
   ]
  },
  {
   "cell_type": "code",
   "execution_count": null,
   "metadata": {},
   "source": [
    "def create_cube_vertices(size=2.0):\n",
    "    \"\"\"创建一个简单的立方体网格顶点\"\"\"\n",
    "    vertices = np.array([\n",
    "        [-1, -1, -1],  # 前下左\n",
    "        [1, -1, -1],   # 前下右\n",
    "        [1, 1, -1],    # 前上右\n",
    "        [-1, 1, -1],   # 前上左\n",
    "        [-1, -1, 1],   # 后下左\n",
    "        [1, -1, 1],    # 后下右\n",
    "        [1, 1, 1],     # 后上右\n",
    "        [-1, 1, 1],    # 后上左\n",
    "    ]) * size/2\n",
    "    return vertices\n",
    "\n",
    "def create_joints():\n",
    "    \"\"\"创建测试用的骨骼位置\"\"\"\n",
    "    joints = np.array([\n",
    "        [-1, 0, 0],  # 根关节\n",
    "        [1, 0, 0],   # 末端关节\n",
    "    ])\n",
    "    return joints\n",
    "\n",
    "# 创建测试数据\n",
    "vertices = create_cube_vertices()\n",
    "joints = create_joints()\n",
    "\n",
    "# 可视化网格和骨骼\n",
    "fig = plt.figure(figsize=(10, 10))\n",
    "ax = fig.add_subplot(111, projection='3d')\n",
    "\n",
    "# 绘制顶点\n",
    "ax.scatter(vertices[:, 0], vertices[:, 1], vertices[:, 2], c='b', marker='o')\n",
    "\n",
    "# 绘制骨骼\n",
    "ax.plot(joints[:, 0], joints[:, 1], joints[:, 2], 'r-', linewidth=2)\n",
    "ax.scatter(joints[:, 0], joints[:, 1], joints[:, 2], c='r', marker='s')\n",
    "\n",
    "ax.set_xlabel('X')\n",
    "ax.set_ylabel('Y')\n",
    "ax.set_zlabel('Z')\n",
    "plt.title('测试网格和骨骼系统')\n",
    "plt.show()"
   ]
  },
  {
   "cell_type": "markdown",
   "metadata": {},
   "source": [
    "## 设置DemBones\n",
    "\n",
    "现在我们将设置DemBones系统并计算蒙皮权重："
   ]
  },
  {
   "cell_type": "code",
   "execution_count": null,
   "metadata": {},
   "source": [
    "# 创建DemBones实例\n",
    "dem_bones = pdb.DemBones()\n",
    "\n",
    "# 设置参数\n",
    "dem_bones.nV = len(vertices)  # 顶点数量\n",
    "dem_bones.nB = len(joints)    # 骨骼数量\n",
    "dem_bones.nnz = 4             # 每个顶点最大影响数\n",
    "dem_bones.weightsSmooth = 0.0001 * 3  # 权重平滑因子\n",
    "\n",
    "# 设置顶点位置\n",
    "dem_bones.u = vertices.astype(np.float64).flatten()\n",
    "\n",
    "# 计算权重\n",
    "dem_bones.compute()\n",
    "\n",
    "# 获取计算的权重\n",
    "weights = dem_bones.get_weights()\n",
    "\n",
    "# 可视化权重\n",
    "fig, (ax1, ax2) = plt.subplots(1, 2, figsize=(15, 5))\n",
    "\n",
    "# 第一个骨骼的权重\n",
    "ax1.scatter(vertices[:, 0], vertices[:, 1], c=weights[0], cmap='viridis')\n",
    "ax1.set_title('骨骼1的权重')\n",
    "\n",
    "# 第二个骨骼的权重\n",
    "ax2.scatter(vertices[:, 0], vertices[:, 1], c=weights[1], cmap='viridis')\n",
    "ax2.set_title('骨骼2的权重')\n",
    "\n",
    "plt.colorbar(ax1.collections[0], ax=ax1)\n",
    "plt.colorbar(ax2.collections[0], ax=ax2)\n",
    "plt.show()"
   ]
  },
  {
   "cell_type": "markdown",
   "metadata": {},
   "source": [
    "## 设置RBF插值\n",
    "\n",
    "现在我们将设置RBF插值器来驱动辅助关节："
   ]
  },
  {
   "cell_type": "code",
   "execution_count": null,
   "metadata": {},
   "source": [
    "def create_rbf_interpolator(key_poses, key_values, rbf_function='thin_plate_spline'):\n",
    "    \"\"\"创建RBF插值器\n",
    "    \n",
    "    参数：\n",
    "        key_poses: 关键姿势的输入值 (n_samples, n_features)\n",
    "        key_values: 每个关键姿势对应的输出值 (n_samples, m)\n",
    "        rbf_function: RBF函数类型\n",
    "    \"\"\"\n",
    "    return RBFInterpolator(\n",
    "        key_poses, \n",
    "        key_values,\n",
    "        kernel=rbf_function\n",
    "    )\n",
    "\n",
    "# 定义关键姿势\n",
    "key_poses = np.array([\n",
    "    [0.0, 0.0],  # 默认姿势\n",
    "    [1.0, 0.0],  # X方向极值\n",
    "    [0.0, 1.0],  # Y方向极值\n",
    "])\n",
    "\n",
    "# 定义对应的辅助关节位置\n",
    "key_values = np.array([\n",
    "    # 默认姿势的辅助关节位置\n",
    "    [[0.5, 0.5, 0.0], [0.5, 0.5, 1.0]],\n",
    "    # X方向极值的辅助关节位置\n",
    "    [[0.7, 0.5, 0.0], [0.7, 0.5, 1.2]],\n",
    "    # Y方向极值的辅助关节位置\n",
    "    [[0.5, 0.7, 0.0], [0.5, 0.7, 1.2]],\n",
    "])\n",
    "\n",
    "# 创建RBF插值器\n",
    "rbf = create_rbf_interpolator(\n",
    "    key_poses,\n",
    "    key_values.reshape(3, -1),\n",
    "    rbf_function='thin_plate_spline'\n",
    ")\n",
    "\n",
    "# 创建测试网格来可视化RBF插值效果\n",
    "x = np.linspace(-0.5, 1.5, 20)\n",
    "y = np.linspace(-0.5, 1.5, 20)\n",
    "X, Y = np.meshgrid(x, y)\n",
    "test_poses = np.column_stack((X.ravel(), Y.ravel()))\n",
    "\n",
    "# 计算插值结果\n",
    "interpolated = rbf(test_poses).reshape(-1, 2, 3)\n",
    "\n",
    "# 可视化插值结果\n",
    "fig = plt.figure(figsize=(15, 5))\n",
    "\n",
    "# 第一个辅助关节的位置\n",
    "ax1 = fig.add_subplot(131, projection='3d')\n",
    "ax1.scatter(interpolated[:, 0, 0], interpolated[:, 0, 1], interpolated[:, 0, 2], c=test_poses[:, 0])\n",
    "ax1.set_title('辅助关节1的插值位置')\n",
    "\n",
    "# 第二个辅助关节的位置\n",
    "ax2 = fig.add_subplot(132, projection='3d')\n",
    "ax2.scatter(interpolated[:, 1, 0], interpolated[:, 1, 1], interpolated[:, 1, 2], c=test_poses[:, 1])\n",
    "ax2.set_title('辅助关节2的插值位置')\n",
    "\n",
    "# 组合视图\n",
    "ax3 = fig.add_subplot(133, projection='3d')\n",
    "ax3.scatter(interpolated[:, 0, 0], interpolated[:, 0, 1], interpolated[:, 0, 2], c='r', label='Joint 1')\n",
    "ax3.scatter(interpolated[:, 1, 0], interpolated[:, 1, 1], interpolated[:, 1, 2], c='b', label='Joint 2')\n",
    "ax3.set_title('组合视图')\n",
    "ax3.legend()\n",
    "\n",
    "plt.tight_layout()\n",
    "plt.show()"
   ]
  },
  {
   "cell_type": "markdown",
   "metadata": {},
   "source": [
    "## 尝试不同的RBF核函数\n",
    "\n",
    "SciPy的RBFInterpolator支持多种核函数，让我们比较它们的效果："
   ]
  },
  {
   "cell_type": "code",
   "execution_count": null,
   "metadata": {},
   "source": [
    "kernels = [\n",
    "    'thin_plate_spline',\n",
    "    'multiquadric',\n",
    "    'inverse_multiquadric',\n",
    "    'gaussian',\n",
    "    'linear',\n",
    "    'cubic',\n",
    "    'quintic'\n",
    "]\n",
    "\n",
    "fig = plt.figure(figsize=(20, 10))\n",
    "\n",
    "for i, kernel in enumerate(kernels):\n",
    "    rbf = create_rbf_interpolator(key_poses, key_values.reshape(3, -1), kernel)\n",
    "    interpolated = rbf(test_poses).reshape(-1, 2, 3)\n",
    "    \n",
    "    ax = fig.add_subplot(2, 4, i+1, projection='3d')\n",
    "    ax.scatter(interpolated[:, 0, 0], interpolated[:, 0, 1], interpolated[:, 0, 2], c='r', alpha=0.5)\n",
    "    ax.scatter(interpolated[:, 1, 0], interpolated[:, 1, 1], interpolated[:, 1, 2], c='b', alpha=0.5)\n",
    "    ax.set_title(f'核函数: {kernel}')\n",
    "\n",
    "plt.tight_layout()\n",
    "plt.show()"
   ]
  },
  {
   "cell_type": "markdown",
   "metadata": {},
   "source": [
    "## 总结\n",
    "\n",
    "在这个演示中，我们展示了：\n",
    "\n",
    "1. 如何使用DemBones计算骨骼权重\n",
    "2. 如何使用RBF插值器创建平滑的辅助关节动画\n",
    "3. 不同RBF核函数的效果比较\n",
    "\n",
    "这些技术可以应用于：\n",
    "\n",
    "- 面部表情动画\n",
    "- 次级动画控制\n",
    "- 姿势空间变形\n",
    "- 其他需要平滑插值的动画场景\n",
    "\n",
    "选择合适的RBF核函数取决于你的具体需求：\n",
    "\n",
    "- `thin_plate_spline`: 适合大多数情况，提供平滑的插值\n",
    "- `multiquadric`: 类似于thin_plate_spline，但有不同的衰减特性\n",
    "- `gaussian`: 局部影响更强，适合需要局部控制的情况\n",
    "- `linear`: 最简单的线性插值，计算快但可能不够平滑"
   ]
  }
 ],
 "metadata": {
  "kernelspec": {
   "display_name": "Python 3",
   "language": "python",
   "name": "python3"
  },
  "language_info": {
   "codemirror_mode": {
    "name": "ipython",
    "version": 3
   },
   "file_extension": ".py",
   "mimetype": "text/x-python",
   "name": "python",
   "nbconvert_exporter": "python",
   "pygments_lexer": "ipython3",
   "version": "3.7.0"
  }
 },
 "nbformat": 4,
 "nbformat_minor": 2
}
