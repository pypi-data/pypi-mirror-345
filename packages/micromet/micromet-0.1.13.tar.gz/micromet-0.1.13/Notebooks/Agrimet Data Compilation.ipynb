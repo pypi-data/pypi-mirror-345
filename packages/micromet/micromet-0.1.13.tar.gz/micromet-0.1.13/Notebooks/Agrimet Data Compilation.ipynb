{
 "cells": [
  {
   "cell_type": "code",
   "execution_count": null,
   "id": "3813dd47",
   "metadata": {},
   "outputs": [],
   "source": [
    "%matplotlib inline\n",
    "\n",
    "import pandas as pd\n",
    "import datetime \n",
    "\n",
    "import numpy as np\n",
    "import matplotlib.pyplot as plt\n",
    "from matplotlib.backends.backend_pdf import PdfPages\n",
    "import matplotlib\n",
    "from matplotlib import rcParams\n",
    "import glob\n",
    "import os\n",
    "import getpass\n",
    "import sqlalchemy\n",
    "#import geoalchemy2\n",
    "import sys\n",
    "#from shutil import copyfile\n",
    "import platform\n",
    "\n",
    "import random\n",
    "\n",
    "import scipy\n",
    "\n",
    "import xmltodict\n",
    "import pandas as pd\n",
    "import geopandas as gpd\n",
    "\n",
    "from datetime import datetime \n",
    "import statsmodels.api as sm\n",
    "\n",
    "from pyproj import CRS\n",
    "from pyproj import Transformer\n",
    "from shapely.geometry import Point\n",
    "\n",
    "import rasterstats as rs\n",
    "import rasterio\n",
    "\n",
    "import requests\n",
    "\n",
    "from rasterio.plot import show\n",
    "from rasterio.mask import mask\n",
    "from rasterio.plot import show_hist\n",
    "from shapely.geometry import box\n",
    "from rasterstats import zonal_stats\n",
    "\n",
    "import cartopy\n",
    "\n",
    "from plotly.offline import download_plotlyjs, init_notebook_mode, plot, iplot\n",
    "import plotly.graph_objs as go\n",
    "\n",
    "init_notebook_mode(connected=True)\n",
    "\n",
    "import wellapplication as wa\n",
    "\n",
    "#import wellapplication as wa\n",
    "\n",
    "rcParams['figure.figsize'] = 15, 15"
   ]
  },
  {
   "cell_type": "code",
   "execution_count": null,
   "id": "e883b56e",
   "metadata": {},
   "outputs": [],
   "source": []
  },
  {
   "cell_type": "code",
   "execution_count": null,
   "id": "aa5409ee",
   "metadata": {},
   "outputs": [],
   "source": [
    "print(\"Operating System \" + platform.system() + \" \" + platform.release())\n",
    "print(\"Python Version \" + str(sys.version))\n",
    "print(\"Pandas Version \" + str(pd.__version__))\n",
    "print(\"Numpy Version \" + str(np.__version__))\n",
    "print(\"Matplotlib Version \" + str(matplotlib.__version__))\n",
    "print(\"Well Application Version \" + str(wa.__version__))\n",
    "print(\"Scipy Version \" +str(scipy.__version__))\n",
    "print (os.environ['CONDA_DEFAULT_ENV'])"
   ]
  },
  {
   "cell_type": "markdown",
   "id": "4dd202df",
   "metadata": {},
   "source": [
    "# Agrimet"
   ]
  },
  {
   "cell_type": "code",
   "execution_count": null,
   "id": "9401fba5",
   "metadata": {},
   "outputs": [],
   "source": [
    "https://www.usbr.gov/pn/agrimet/HydrometWebService.doc"
   ]
  },
  {
   "cell_type": "code",
   "execution_count": null,
   "id": "80056027",
   "metadata": {},
   "outputs": [],
   "source": []
  },
  {
   "cell_type": "code",
   "execution_count": null,
   "id": "cbc56fe5",
   "metadata": {},
   "outputs": [],
   "source": []
  },
  {
   "cell_type": "code",
   "execution_count": null,
   "id": "464f7db0",
   "metadata": {},
   "outputs": [],
   "source": []
  },
  {
   "cell_type": "markdown",
   "id": "4db0115b",
   "metadata": {},
   "source": [
    "# Mesowest"
   ]
  },
  {
   "cell_type": "code",
   "execution_count": null,
   "id": "b3809b74",
   "metadata": {},
   "outputs": [],
   "source": [
    "networks = {\"UDOT\":\"https://explore.synopticdata.com/metadata/mesonets/4?network=4&state=UT&status=ACTIVE\",\n",
    "            \"Union Pacific\":\"https://explore.synopticdata.com/metadata/stations?network=64&state=UT&status=ACTIVE\",\n",
    "            "
   ]
  },
  {
   "cell_type": "code",
   "execution_count": null,
   "id": "091d13c2",
   "metadata": {},
   "outputs": [],
   "source": [
    "https://explore.synopticdata.com/metadata/stations?network=64&state=UT&status=ACTIVE"
   ]
  },
  {
   "cell_type": "code",
   "execution_count": null,
   "id": "3e446190",
   "metadata": {},
   "outputs": [],
   "source": [
    "https://mesowest.utah.edu/cgi-bin/droman/download_api2.cgi?stn=UT7"
   ]
  },
  {
   "cell_type": "markdown",
   "id": "50205e7a",
   "metadata": {},
   "source": [
    "# SNOTEL"
   ]
  },
  {
   "cell_type": "code",
   "execution_count": null,
   "id": "1d036712",
   "metadata": {},
   "outputs": [],
   "source": [
    "https://www.nrcs.usda.gov/wps/portal/wcc/home/dataAccessHelp/webService/webServiceReference/"
   ]
  },
  {
   "cell_type": "code",
   "execution_count": null,
   "id": "fc0b5abe",
   "metadata": {},
   "outputs": [],
   "source": [
    "https://wcc.sc.egov.usda.gov/awdbWebService/services?WSDL"
   ]
  },
  {
   "cell_type": "code",
   "execution_count": null,
   "id": "252f2c81",
   "metadata": {},
   "outputs": [],
   "source": [
    "https://wcc.sc.egov.usda.gov/reportGenerator/edit/customMultiTimeSeriesGroupByStationReport,metric/hourly/start_of_period/814:UT:SNTL%7Cid=%22%22%7Cname/-334,0/PREC::value,TAVG::value,TOBS::value,STV:-2:value,STV:-8:value,STV:-20:value,SMS:-2:value,SMS:-8:value,SMS:-20:value,WTEQ::value,PRCP::value,STO:-2:value,STO:-8:value,STO:-20:value?fitToScreen=false"
   ]
  },
  {
   "cell_type": "code",
   "execution_count": null,
   "id": "aa88861a",
   "metadata": {},
   "outputs": [],
   "source": []
  }
 ],
 "metadata": {
  "kernelspec": {
   "display_name": "Python 3 (ipykernel)",
   "language": "python",
   "name": "python3"
  },
  "language_info": {
   "codemirror_mode": {
    "name": "ipython",
    "version": 3
   },
   "file_extension": ".py",
   "mimetype": "text/x-python",
   "name": "python",
   "nbconvert_exporter": "python",
   "pygments_lexer": "ipython3",
   "version": "3.10.4"
  },
  "latex_envs": {
   "LaTeX_envs_menu_present": true,
   "autoclose": false,
   "autocomplete": true,
   "bibliofile": "biblio.bib",
   "cite_by": "apalike",
   "current_citInitial": 1,
   "eqLabelWithNumbers": true,
   "eqNumInitial": 1,
   "hotkeys": {
    "equation": "Ctrl-E",
    "itemize": "Ctrl-I"
   },
   "labels_anchors": false,
   "latex_user_defs": false,
   "report_style_numbering": false,
   "user_envs_cfg": false
  },
  "toc": {
   "base_numbering": 1,
   "nav_menu": {},
   "number_sections": true,
   "sideBar": true,
   "skip_h1_title": false,
   "title_cell": "Table of Contents",
   "title_sidebar": "Contents",
   "toc_cell": false,
   "toc_position": {},
   "toc_section_display": true,
   "toc_window_display": false
  },
  "varInspector": {
   "cols": {
    "lenName": 16,
    "lenType": 16,
    "lenVar": 40
   },
   "kernels_config": {
    "python": {
     "delete_cmd_postfix": "",
     "delete_cmd_prefix": "del ",
     "library": "var_list.py",
     "varRefreshCmd": "print(var_dic_list())"
    },
    "r": {
     "delete_cmd_postfix": ") ",
     "delete_cmd_prefix": "rm(",
     "library": "var_list.r",
     "varRefreshCmd": "cat(var_dic_list()) "
    }
   },
   "types_to_exclude": [
    "module",
    "function",
    "builtin_function_or_method",
    "instance",
    "_Feature"
   ],
   "window_display": false
  }
 },
 "nbformat": 4,
 "nbformat_minor": 5
}
