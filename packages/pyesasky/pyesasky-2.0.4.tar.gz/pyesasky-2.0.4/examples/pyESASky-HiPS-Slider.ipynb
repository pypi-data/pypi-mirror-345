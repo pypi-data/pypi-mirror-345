{
 "cells": [
  {
   "cell_type": "markdown",
   "metadata": {},
   "source": [
    "# Example notebook of overlaying and scrolling thorugh HiPS"
   ]
  },
  {
   "cell_type": "code",
   "execution_count": 1,
   "metadata": {},
   "outputs": [],
   "source": [
    "import time\n",
    "from pyesasky import ESASkyWidget\n",
    "from pyesasky.models import CooFrame, ImgFormat"
   ]
  },
  {
   "cell_type": "code",
   "execution_count": null,
   "metadata": {},
   "outputs": [],
   "source": [
    "esasky = ESASkyWidget()"
   ]
  },
  {
   "cell_type": "code",
   "execution_count": null,
   "metadata": {},
   "outputs": [],
   "source": [
    "esasky"
   ]
  },
  {
   "cell_type": "code",
   "execution_count": 5,
   "metadata": {},
   "outputs": [],
   "source": [
    "esasky.set_view_height('950px')"
   ]
  },
  {
   "cell_type": "code",
   "execution_count": 6,
   "metadata": {},
   "outputs": [],
   "source": [
    "esasky.go_to(15.5, '42.226')\n",
    "esasky.set_fov(11)"
   ]
  },
  {
   "cell_type": "markdown",
   "metadata": {},
   "source": [
    "### To visually understand what's happening on the webpage"
   ]
  },
  {
   "cell_type": "code",
   "execution_count": null,
   "metadata": {},
   "outputs": [],
   "source": [
    "esasky.open_sky_panel()"
   ]
  },
  {
   "cell_type": "markdown",
   "metadata": {},
   "source": [
    "### Adds multiple rows, enabling the slider to move between them. All \"set\" commands work on the currently active row e.g. grayscale on Herscel. All new rows will automtically be active"
   ]
  },
  {
   "cell_type": "code",
   "execution_count": null,
   "metadata": {},
   "outputs": [],
   "source": [
    "esasky.select_hips('Fermi color')\n",
    "esasky.add_hips(\"DSS2 Color\")\n",
    "esasky.add_hips(\"Allwise Color\")\n",
    "esasky.add_hips(\"Herschel PACS RGB 70, 160 micron\")\n",
    "esasky.set_hips_color('GREYSCALE')\n",
    "esasky.add_hips(\"Herschel SPIRE RGB 250, 350, 500 micron\")\n",
    "esasky.add_hips(\"My Planck HiPS\", \"http://skies.esac.esa.int/pla/LFI_SkyMap_030_1024_R3_00_full_smooth_HiPS/\")"
   ]
  },
  {
   "cell_type": "markdown",
   "metadata": {},
   "source": [
    "### Rows can be removed by index in list starting with 0. \"1\" will remove the second row etc.\n",
    "### No index will remove all but the first row"
   ]
  },
  {
   "cell_type": "code",
   "execution_count": null,
   "metadata": {},
   "outputs": [],
   "source": [
    "esasky.remove_hips(1)"
   ]
  },
  {
   "cell_type": "markdown",
   "metadata": {},
   "source": [
    "### The slider can be used to move between the HiPS. Integer values will move to the index. Float values between will overlay the 2 closest HiPS with opacity depending on the value."
   ]
  },
  {
   "cell_type": "code",
   "execution_count": 15,
   "metadata": {},
   "outputs": [],
   "source": [
    "esasky.set_hips_slider(1)"
   ]
  },
  {
   "cell_type": "code",
   "execution_count": 16,
   "metadata": {},
   "outputs": [],
   "source": [
    "esasky.set_hips_slider(2.5)"
   ]
  },
  {
   "cell_type": "code",
   "execution_count": null,
   "metadata": {},
   "outputs": [],
   "source": [
    "esasky.close_sky_panel()"
   ]
  },
  {
   "cell_type": "markdown",
   "metadata": {},
   "source": [
    "### Animations can be made programmatically using this slider function"
   ]
  },
  {
   "cell_type": "code",
   "execution_count": null,
   "metadata": {},
   "outputs": [],
   "source": [
    "for i in range(500):\n",
    "    esasky.set_hips_slider(i/100.0)\n",
    "    time.sleep(0.02)"
   ]
  },
  {
   "cell_type": "markdown",
   "metadata": {},
   "source": [
    "### You could also use another widget to control the behaviour. Asynchronos widget behaviour from here: https://ipywidgets.readthedocs.io/en/latest/examples/Widget%20Asynchronous.html"
   ]
  },
  {
   "cell_type": "code",
   "execution_count": null,
   "metadata": {},
   "outputs": [],
   "source": [
    "nSkies = esasky.get_sky_row_count()\n",
    "\n",
    "import asyncio\n",
    "def wait_for_change(widget, value):\n",
    "    future = asyncio.Future()\n",
    "    def getvalue(change):\n",
    "        future.set_result(change.new)\n",
    "        widget.unobserve(getvalue, value)\n",
    "    widget.observe(getvalue, value)\n",
    "    return future\n",
    "\n",
    "from ipywidgets import FloatSlider\n",
    "slider = FloatSlider(min=0.0, max=nSkies-1, step=0.01,  continuous_update=True)\n",
    "\n",
    "async def f():\n",
    "    while True:\n",
    "        x = await wait_for_change(slider, 'value')\n",
    "        esasky.set_hips_slider(x)\n",
    "asyncio.ensure_future(f())\n",
    "\n",
    "slider"
   ]
  }
 ],
 "metadata": {
  "kernelspec": {
   "display_name": "Python 3 (ipykernel)",
   "language": "python",
   "name": "python3"
  },
  "language_info": {
   "codemirror_mode": {
    "name": "ipython",
    "version": 3
   },
   "file_extension": ".py",
   "mimetype": "text/x-python",
   "name": "python",
   "nbconvert_exporter": "python",
   "pygments_lexer": "ipython3",
   "version": "3.10.12"
  }
 },
 "nbformat": 4,
 "nbformat_minor": 4
}
