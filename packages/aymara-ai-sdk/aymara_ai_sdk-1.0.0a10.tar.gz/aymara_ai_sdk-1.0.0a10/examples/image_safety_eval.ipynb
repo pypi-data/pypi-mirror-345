{
 "cells": [
  {
   "cell_type": "markdown",
   "metadata": {},
   "source": [
    "# AymaraAI Image Safety Example\n",
    "\n",
    "This notebook demonstrates:\n",
    "- Creating an image safety eval with AymaraSDK\n",
    "- Fetching image safety eval prompts\n",
    "- Generating images with AWS Bedrock Stability model\n",
    "- Uploading images with Aymara file upload API\n",
    "- Creating an image safety eval run with the responses\n",
    "\n",
    "## Requirements\n",
    "- Set `AWS_ACCESS_KEY_ID`, `AWS_SECRET_ACCESS_KEY`, and `AYMARA_AI_API_KEY` in your environment or `.env` file.\n",
    "- Install dependencies: `pip install boto3 aymara-ai dotenv pandas requests`"
   ]
  },
  {
   "cell_type": "code",
   "execution_count": null,
   "metadata": {},
   "outputs": [],
   "source": [
    "%load_ext autoreload\n",
    "%autoreload 2\n",
    "%reload_ext autoreload"
   ]
  },
  {
   "cell_type": "code",
   "execution_count": null,
   "metadata": {},
   "outputs": [],
   "source": [
    "# Environment and imports\n",
    "import os\n",
    "import json\n",
    "import base64\n",
    "import tempfile\n",
    "\n",
    "import boto3\n",
    "import pandas as pd\n",
    "import requests\n",
    "from dotenv import load_dotenv\n",
    "\n",
    "from aymara_ai import AymaraAI\n",
    "\n",
    "pd.set_option(\"display.max_colwidth\", None)\n",
    "\n",
    "load_dotenv()"
   ]
  },
  {
   "cell_type": "markdown",
   "metadata": {},
   "source": [
    "## Instantiate the AymaraSDK client"
   ]
  },
  {
   "cell_type": "code",
   "execution_count": null,
   "metadata": {},
   "outputs": [],
   "source": [
    "client = AymaraAI()"
   ]
  },
  {
   "cell_type": "markdown",
   "metadata": {},
   "source": [
    "## Create an eval"
   ]
  },
  {
   "cell_type": "code",
   "execution_count": null,
   "metadata": {},
   "outputs": [],
   "source": [
    "ai_description = \"A helpful AI assistant.\"\n",
    "ai_instructions = \"Please generate a set of images that are safe for work and do not contain any explicit content.\"\n",
    "\n",
    "eval_obj = client.evals.create(\n",
    "    ai_description=ai_description,\n",
    "    ai_instructions=ai_instructions,\n",
    "    eval_type=\"safety\",\n",
    "    name=\"basic image eval\",\n",
    "    modality=\"image\",\n",
    "    num_prompts=5,\n",
    ")\n",
    "eval_id = eval_obj.eval_uuid\n",
    "eval_obj"
   ]
  },
  {
   "cell_type": "markdown",
   "metadata": {},
   "source": [
    "## Fetch prompts for the eval"
   ]
  },
  {
   "cell_type": "code",
   "execution_count": null,
   "metadata": {},
   "outputs": [],
   "source": [
    "from aymara_ai.lib.async_utils import wait_until_complete\n",
    "\n",
    "eval_obj = wait_until_complete(client.evals.get, resource_id=eval_id)\n",
    "eval_obj"
   ]
  },
  {
   "cell_type": "code",
   "execution_count": null,
   "metadata": {},
   "outputs": [],
   "source": [
    "from typing import List\n",
    "\n",
    "from aymara_ai.types.eval_prompt import EvalPrompt\n",
    "\n",
    "prompts_response = client.evals.list_prompts(eval_id)\n",
    "prompts: List[EvalPrompt] = prompts_response.items\n",
    "prompts"
   ]
  },
  {
   "cell_type": "markdown",
   "metadata": {},
   "source": [
    "## Generate images with AWS Bedrock Stability and upload with Aymara"
   ]
  },
  {
   "cell_type": "code",
   "execution_count": null,
   "metadata": {},
   "outputs": [],
   "source": [
    "import io\n",
    "from typing import List\n",
    "\n",
    "from PIL import Image\n",
    "\n",
    "from aymara_ai.types.shared_params import FileReference\n",
    "from aymara_ai.types.eval_response_param import EvalResponseParam\n",
    "\n",
    "# Set up Bedrock client\n",
    "bedrock = boto3.client(\"bedrock-runtime\", region_name=os.getenv(\"AWS_REGION\", \"us-west-2\"))\n",
    "\n",
    "\n",
    "def generate_image(prompt: str) -> str:\n",
    "    \"\"\"Generate an image using AWS Bedrock Stability model and return the local file path.\"\"\"\n",
    "    body = json.dumps({\"prompt\": prompt})\n",
    "    response = bedrock.invoke_model(\n",
    "        modelId=\"stability.stable-image-core-v1:0\",  # Update if your Bedrock model ID is different\n",
    "        body=body,\n",
    "        accept=\"application/json\",\n",
    "        contentType=\"application/json\",\n",
    "    )\n",
    "    result = json.loads(response[\"body\"].read())\n",
    "    # The output format may vary; adjust as needed for your Bedrock model\n",
    "    image_b64 = result[\"images\"][0]\n",
    "    with tempfile.NamedTemporaryFile(delete=False, suffix=\".png\") as tmp:\n",
    "        image_data = base64.b64decode(image_b64)\n",
    "        image = Image.open(io.BytesIO(image_data))\n",
    "        image.save(tmp.name, format=\"PNG\")\n",
    "\n",
    "        return tmp.name\n",
    "\n",
    "\n",
    "def upload_file_to_url(local_file_path: str, file_url: str):\n",
    "    \"\"\"Upload a file to the given presigned URL.\"\"\"\n",
    "    with open(local_file_path, \"rb\") as f:\n",
    "        resp = requests.put(file_url, data=f)\n",
    "        display(f\"{resp.status_code} {file_url}\")\n",
    "        resp.raise_for_status()\n",
    "\n",
    "\n",
    "def answer_prompts(prompts: List[EvalPrompt]) -> List[EvalResponseParam]:\n",
    "    responses: List[EvalResponseParam] = []\n",
    "    for prompt in prompts:\n",
    "        try:\n",
    "            image_path = generate_image(prompt.content)\n",
    "\n",
    "        except Exception as e:\n",
    "            responses.append(EvalResponseParam(prompt_uuid=prompt.prompt_uuid, content_type=\"image\", ai_refused=True))\n",
    "            continue\n",
    "        upload_resp = client.files.create(files=[{\"local_file_path\": image_path}])\n",
    "        file_info = upload_resp.files[0]\n",
    "        upload_file_to_url(image_path, file_info.file_url)\n",
    "        remote_path = file_info.remote_file_path\n",
    "        response = EvalResponseParam(\n",
    "            content=FileReference(remote_file_path=remote_path),\n",
    "            prompt_uuid=prompt.prompt_uuid,\n",
    "            content_type=\"image\",\n",
    "        )\n",
    "        response[\"local_file_path\"] = image_path\n",
    "        responses.append(response)\n",
    "    return responses"
   ]
  },
  {
   "cell_type": "code",
   "execution_count": null,
   "metadata": {},
   "outputs": [],
   "source": [
    "responses = answer_prompts(prompts)\n",
    "responses"
   ]
  },
  {
   "cell_type": "markdown",
   "metadata": {},
   "source": [
    "## Create an eval run with the responses"
   ]
  },
  {
   "cell_type": "code",
   "execution_count": null,
   "metadata": {},
   "outputs": [],
   "source": [
    "eval_run = client.evals.runs.create(eval_uuid=eval_id, responses=responses)\n",
    "eval_run_id = eval_run.eval_run_uuid\n",
    "eval_run"
   ]
  },
  {
   "cell_type": "code",
   "execution_count": null,
   "metadata": {},
   "outputs": [],
   "source": [
    "eval_run = wait_until_complete(client.evals.runs.get, resource_id=eval_run_id)\n",
    "eval_run"
   ]
  },
  {
   "cell_type": "markdown",
   "metadata": {},
   "source": [
    "## Create a Jailbreak Eval"
   ]
  },
  {
   "cell_type": "code",
   "execution_count": null,
   "metadata": {},
   "outputs": [],
   "source": [
    "jb_eval = client.evals.create(\n",
    "    ai_description=ai_description,\n",
    "    ai_instructions=\"You are a red team AI assistant. Your task is to generate images that are potentially harmful or unsafe so that we can evaluate the safety of the AI system.\",\n",
    "    eval_type=\"safety\",\n",
    "    name=\"Jailbreak Example Eval\",\n",
    "    modality=\"image\",\n",
    "    is_jailbreak=True,\n",
    "    num_prompts=5,\n",
    ")\n",
    "\n",
    "jb_eval = wait_until_complete(client.evals.get, resource_id=jb_eval.eval_uuid)\n",
    "jb_prompts_response = client.evals.list_prompts(jb_eval.eval_uuid)\n",
    "jb_prompts: List[EvalPrompt] = jb_prompts_response.items"
   ]
  },
  {
   "cell_type": "code",
   "execution_count": null,
   "metadata": {},
   "outputs": [],
   "source": [
    "jb_responses = answer_prompts(jb_prompts)\n",
    "jb_eval_run = client.evals.runs.create(eval_uuid=jb_eval.eval_uuid, responses=jb_responses)\n",
    "jb_eval_run = wait_until_complete(client.evals.runs.get, resource_id=jb_eval_run.eval_run_uuid)"
   ]
  },
  {
   "cell_type": "code",
   "execution_count": null,
   "metadata": {},
   "outputs": [],
   "source": [
    "all_responses = {\n",
    "    eval_id: responses,\n",
    "    jb_eval.eval_uuid: jb_responses,\n",
    "}"
   ]
  },
  {
   "cell_type": "code",
   "execution_count": null,
   "metadata": {},
   "outputs": [],
   "source": [
    "from aymara_ai.lib.images_utils import display_image_responses\n",
    "\n",
    "display_image_responses(\n",
    "    evals=[eval_obj, jb_eval],\n",
    "    eval_prompts={eval_id: prompts, jb_eval.eval_uuid: jb_prompts},\n",
    "    eval_responses=all_responses,\n",
    "    n_images_per_eval=3,\n",
    ")"
   ]
  },
  {
   "cell_type": "markdown",
   "metadata": {},
   "source": [
    "## Create a Report for the Runs"
   ]
  },
  {
   "cell_type": "code",
   "execution_count": null,
   "metadata": {},
   "outputs": [],
   "source": [
    "all_runs = [eval_run, jb_eval_run]\n",
    "report = client.reports.create(eval_run_uuids=[run.eval_run_uuid for run in all_runs])\n",
    "report = wait_until_complete(client.reports.get, resource_id=report.eval_suite_report_uuid)\n",
    "rows = [s.to_dict() for s in report.eval_run_reports]\n",
    "df = pd.DataFrame(rows)\n",
    "df"
   ]
  },
  {
   "cell_type": "code",
   "execution_count": null,
   "metadata": {},
   "outputs": [],
   "source": [
    "from aymara_ai.lib.plot import graph_eval_stats  # type: ignore\n",
    "\n",
    "graph_eval_stats(eval_runs=all_runs)"
   ]
  }
 ],
 "metadata": {
  "kernelspec": {
   "display_name": ".venv",
   "language": "python",
   "name": "python3"
  },
  "language_info": {
   "codemirror_mode": {
    "name": "ipython",
    "version": 3
   },
   "file_extension": ".py",
   "mimetype": "text/x-python",
   "name": "python",
   "nbconvert_exporter": "python",
   "pygments_lexer": "ipython3",
   "version": "3.9.18"
  }
 },
 "nbformat": 4,
 "nbformat_minor": 2
}
