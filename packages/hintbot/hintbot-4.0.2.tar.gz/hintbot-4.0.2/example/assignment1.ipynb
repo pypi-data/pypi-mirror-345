{
 "cells": [
  {
   "cell_type": "markdown",
   "metadata": {
    "deletable": false,
    "editable": false,
    "nbgrader": {
     "cell_type": "markdown",
     "checksum": "803cdb4812d160a125f5494f3dcd1c2f",
     "grade": false,
     "grade_id": "cell-d4da7eb9acee2a6d",
     "locked": true,
     "schema_version": 3,
     "solution": false
    }
   },
   "source": [
    "# Assignment 1\n",
    "Before you start working on the problems, here is a small example to help you understand how to write your answers. The solution should be written within the function body given, and the final result should be returned. Then the autograder will try to call the function and validate your returned result accordingly. Before submitting to the autograder, see if the tests we have included with this file pass by pressing the *Validate* button on the toolbar.\n",
    "\n",
    "**Note: For all assignments please write all of your code within the function we define in order to ensure it is run by the autograder correctly**"
   ]
  },
  {
   "cell_type": "code",
   "execution_count": null,
   "metadata": {
    "deletable": false,
    "editable": false,
    "nbgrader": {
     "cell_type": "code",
     "checksum": "3505cae18ed548a9a4dfdfc96aac4076",
     "grade": false,
     "grade_id": "cell-4a96535829224b3f",
     "locked": true,
     "schema_version": 3,
     "solution": false
    }
   },
   "outputs": [],
   "source": [
    "def example_word_count():\n",
    "    # This example question requires counting words in the example_string below.\n",
    "    example_string = \"Amy is 5 years old\"\n",
    "\n",
    "    # You should fix the given code only between ### FIX CODE BELOW and ### FIX CODE ABOVE. \n",
    "    # Your code should return a result. \n",
    "    # You can comment out or delete the NotImplementedError below.\n",
    "    \n",
    "    ### FIX CODE BELOW \n",
    "    result = example_string.split(\" \")\n",
    "    ### FIX CODE ABOVE\n",
    "    #raise NotImplementedError()\n",
    "    return len(result)"
   ]
  },
  {
   "cell_type": "markdown",
   "metadata": {
    "deletable": false,
    "editable": false,
    "nbgrader": {
     "cell_type": "markdown",
     "checksum": "85082cf890a4e734be8fa7d052ba85ed",
     "grade": false,
     "grade_id": "cell-05ff4d29ee8e275e",
     "locked": true,
     "schema_version": 3,
     "solution": false
    }
   },
   "source": [
    "## Question 1: names()\n",
    "\n",
    "Fix the incorrect regex between `### FIX CODE BELOW` and `### FIX CODE ABOVE` to generate a list of names in the simple_string."
   ]
  },
  {
   "cell_type": "code",
   "execution_count": null,
   "metadata": {
    "deletable": false,
    "nbgrader": {
     "cell_type": "code",
     "checksum": "24a55aac5c8cae7b07ed24de52e10760",
     "grade": false,
     "grade_id": "names",
     "locked": false,
     "schema_version": 3,
     "solution": true
    }
   },
   "outputs": [],
   "source": [
    "def names():\n",
    "    import re\n",
    "    simple_string = \"\"\"Amy is 5 years old, and her sister Mary is 2 years old. \n",
    "    Ruth and Peter, their parents, have 3 kids.\"\"\"\n",
    "\n",
    "    ### FIX CODE BELOW  \n",
    "    pattern = r'[A-Za-z]?'\n",
    "    match = re.finditer(pattern, simple_string)\n",
    "    ### FIX CODE ABOVE  \n",
    "    \n",
    "    # YOUR CODE HERE\n",
    "    raise NotImplementedError()\n",
    "    \n",
    "    return match\n",
    "    \n",
    "names()"
   ]
  },
  {
   "cell_type": "code",
   "execution_count": null,
   "metadata": {
    "deletable": false,
    "editable": false,
    "nbgrader": {
     "cell_type": "code",
     "checksum": "ed5c09ac57f7d98130d5abc557f6d6c4",
     "grade": true,
     "grade_id": "correct_names",
     "locked": true,
     "points": 1,
     "schema_version": 3,
     "solution": false
    }
   },
   "outputs": [],
   "source": [
    "assert len(names()) == 4, \"There are four names in the simple_string\"\n"
   ]
  },
  {
   "cell_type": "markdown",
   "metadata": {
    "deletable": false,
    "editable": false,
    "nbgrader": {
     "cell_type": "markdown",
     "checksum": "8cbdf33645b4e3ca0fb7a0d5ff11d370",
     "grade": false,
     "grade_id": "cell-ed64e3464ddd7ba7",
     "locked": true,
     "schema_version": 3,
     "solution": false
    },
     "tags": []
   },
   "source": [
    "## Question 2: student_grades()\n",
    "\n",
    "The dataset file in [assets/grades.txt](assets/grades.txt) contains multiple lines of people along with their grades in a class. Fix the incorrect regex between `### FIX CODE BELOW` and `### FIX CODE ABOVE` to generate a list of just those students who received a B in the course (e.g., \\[\\'John Doe\\', \\'Jane Doe\\'\\].)"
   ]
  },
  {
   "cell_type": "code",
   "execution_count": null,
   "metadata": {
    "deletable": false,
    "nbgrader": {
     "cell_type": "code",
     "checksum": "ce8e2112c1f2f0cc8be2b4e756053318",
     "grade": false,
     "grade_id": "grades",
     "locked": false,
     "schema_version": 3,
     "solution": true
    },
    "tags": []
   },
   "outputs": [],
   "source": [
    "def student_grades():\n",
    "    import re\n",
    "    with open (\"assets/grades.txt\", \"r\") as file:\n",
    "        grades = file.read()\n",
    "\n",
    "    ### FIX CODE BELOW\n",
    "    pattern = \"\"\"(\\w+)\"\"\"\n",
    "    matches = re.findall(pattern,grades)\n",
    "    ### FIX CODE ABOVE\n",
    "        \n",
    "        \n",
    "    # YOUR CODE HERE\n",
    "    raise NotImplementedError()\n",
    "\n",
    "    return matches  \n",
    "    \n",
    "student_grades()"
   ]
  },
  {
   "cell_type": "code",
   "execution_count": null,
   "metadata": {
    "deletable": false,
    "editable": false,
    "nbgrader": {
     "cell_type": "code",
     "checksum": "fce5378cac415725d1d549a4c6a6bcad",
     "grade": true,
     "grade_id": "correct_grades",
     "locked": true,
     "points": 1,
     "schema_version": 3,
     "solution": false
    },
    "tags": []
   },
   "outputs": [],
   "source": [
    "assert len(student_grades()) == 16"
   ]
  },
  {
   "cell_type": "markdown",
   "metadata": {
    "deletable": false,
    "editable": false,
    "nbgrader": {
     "cell_type": "markdown",
     "checksum": "0e28f2ec26e5ee9d77cd334a1d2d2462",
     "grade": false,
     "grade_id": "cell-e253518e37d33f0c",
     "locked": true,
     "schema_version": 3,
     "solution": false
    }
   },
   "source": [
    "## Question 3: logs()\n",
    "Consider the variable 'logdata' which is a string containing a standard web log. This variable records the access a user makes when visiting a web page (like this one!). Each line of the log has the following items: \n",
    "\n",
    "* a host (e.g., ‘146.204.224.152’) \n",
    "* a username (e.g., ‘feest6811’ or sometime '-' since it is missing) \n",
    "* the time a request was made (e.g., ‘21/Jun/2019:15:45:24 -0700’) \n",
    "* the post request type (e.g., ‘POST /incentivize HTTP/1.1’)\n",
    "\n",
    "Your task is to fix the incorrect regex between `### FIX CODE BELOW` and `### FIX CODE ABOVE` to convert the given data into a list of dictionaries, where each dictionary looks like the following:\n",
    "\n",
    "```\n",
    "example_dict = {\"host\":\"146.204.224.152\",\n",
    "                \"user_name\":\"feest6811\",\n",
    "                \"time\":\"21/Jun/2019:15:45:24 -0700\",\n",
    "                \"request\":\"POST /incentivize HTTP/1.1\"}\n",
    "```"
   ]
  },
  {
   "cell_type": "code",
   "execution_count": null,
   "metadata": {
    "deletable": false,
    "nbgrader": {
     "cell_type": "code",
     "checksum": "51cd13ae2d9fef48072f6fe9ff4af3fc",
     "grade": false,
     "grade_id": "logs",
     "locked": false,
     "schema_version": 3,
     "solution": true
    }
   },
   "outputs": [],
   "source": [
    "def logs():\n",
    "    import re\n",
    "    with open(\"assets/logdata.txt\", \"r\") as file:\n",
    "        logdata = file.read()\n",
    "    \n",
    "        \n",
    "    ### FIX CODE BELOW    \n",
    "    pattern = \"\"\"\n",
    "        ([.]+)                       # host %h\n",
    "        \\s\\-\\s(.+)\\s                 # user %u\n",
    "        \\[(.+)\\]                     # time %t\n",
    "        \\s\\\"(\\w\\.+)\\\"                # request \"%r\"\n",
    "    \"\"\"\n",
    "    result = [item.groupdict() for item in re.findall(pattern,logdata,re.VERBOSE)]\n",
    "\n",
    "    ### FIX CODE ABOVE\n",
    "    \n",
    "\n",
    "    # YOUR CODE HERE\n",
    "    raise NotImplementedError()\n",
    "\n",
    "    return result\n",
    "\n",
    "logs()"
   ]
  },
  {
   "cell_type": "code",
   "execution_count": null,
   "metadata": {
    "deletable": false,
    "editable": false,
    "nbgrader": {
     "cell_type": "code",
     "checksum": "effe94a0232fb80da3ad985b73696bec",
     "grade": true,
     "grade_id": "correct_logs",
     "locked": true,
     "points": 1,
     "schema_version": 3,
     "solution": false
    },
    "tags": []
   },
   "outputs": [],
   "source": [
    "assert len(logs()) == 979"
   ]
  }
 ],
 "metadata": {
  "etc_identifier": "373a3605-5bda-4e1f-beef-04a0173d3f41",
  "firstTimeUsingHintbot": false,
  "kernelspec": {
   "display_name": "Python 3 (ipykernel)",
   "language": "python",
   "name": "python3"
  },
  "language_info": {
   "codemirror_mode": {
    "name": "ipython",
    "version": 3
   },
   "file_extension": ".py",
   "mimetype": "text/x-python",
   "name": "python",
   "nbconvert_exporter": "python",
   "pygments_lexer": "ipython3",
   "version": "3.12.2"
  }
 },
 "nbformat": 4,
 "nbformat_minor": 4
}
