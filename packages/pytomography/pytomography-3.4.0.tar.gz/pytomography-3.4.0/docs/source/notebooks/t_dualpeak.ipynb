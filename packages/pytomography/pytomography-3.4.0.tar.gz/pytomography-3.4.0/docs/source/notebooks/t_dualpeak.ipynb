{
 "cells": [
  {
   "cell_type": "markdown",
   "id": "a80dfd37",
   "metadata": {
    "papermill": {
     "duration": 0.003296,
     "end_time": "2024-11-19T22:25:19.153105",
     "exception": false,
     "start_time": "2024-11-19T22:25:19.149809",
     "status": "completed"
    },
    "tags": []
   },
   "source": [
    "# Multi Photopeak Reconstruction"
   ]
  },
  {
   "cell_type": "code",
   "execution_count": 1,
   "id": "afbded82",
   "metadata": {
    "execution": {
     "iopub.execute_input": "2024-11-19T22:25:19.160631Z",
     "iopub.status.busy": "2024-11-19T22:25:19.160019Z",
     "iopub.status.idle": "2024-11-19T22:25:23.199202Z",
     "shell.execute_reply": "2024-11-19T22:25:23.198483Z"
    },
    "papermill": {
     "duration": 4.044966,
     "end_time": "2024-11-19T22:25:23.200988",
     "exception": false,
     "start_time": "2024-11-19T22:25:19.156022",
     "status": "completed"
    },
    "tags": []
   },
   "outputs": [],
   "source": [
    "import os\n",
    "import numpy as np\n",
    "from pytomography.io.SPECT import dicom\n",
    "from pytomography.transforms.SPECT import SPECTAttenuationTransform, SPECTPSFTransform\n",
    "from pytomography.algorithms import OSEM\n",
    "from pytomography.projectors.SPECT import SPECTSystemMatrix\n",
    "from pytomography.likelihoods import PoissonLogLikelihood\n",
    "from pytomography.utils import print_collimator_parameters\n",
    "from pytomography.projectors import ExtendedSystemMatrix\n",
    "import pytomography\n",
    "import matplotlib.pyplot as plt\n",
    "import pydicom\n",
    "import torch\n",
    "import shutil"
   ]
  },
  {
   "cell_type": "markdown",
   "id": "92d0f7a7",
   "metadata": {
    "papermill": {
     "duration": 0.002842,
     "end_time": "2024-11-19T22:25:23.207339",
     "exception": false,
     "start_time": "2024-11-19T22:25:23.204497",
     "status": "completed"
    },
    "tags": []
   },
   "source": [
    "Change this to the path where you downloaded the PyTomography tutorial data"
   ]
  },
  {
   "cell_type": "code",
   "execution_count": 2,
   "id": "f9a1f317",
   "metadata": {
    "execution": {
     "iopub.execute_input": "2024-11-19T22:25:23.214508Z",
     "iopub.status.busy": "2024-11-19T22:25:23.214013Z",
     "iopub.status.idle": "2024-11-19T22:25:23.217499Z",
     "shell.execute_reply": "2024-11-19T22:25:23.216912Z"
    },
    "papermill": {
     "duration": 0.008696,
     "end_time": "2024-11-19T22:25:23.218974",
     "exception": false,
     "start_time": "2024-11-19T22:25:23.210278",
     "status": "completed"
    },
    "tags": []
   },
   "outputs": [],
   "source": [
    "PATH = '/mnt/mydisk2/pytomo_tutorial_data/SPECT'"
   ]
  },
  {
   "cell_type": "code",
   "execution_count": 3,
   "id": "737c685a",
   "metadata": {
    "execution": {
     "iopub.execute_input": "2024-11-19T22:25:23.226402Z",
     "iopub.status.busy": "2024-11-19T22:25:23.225801Z",
     "iopub.status.idle": "2024-11-19T22:25:23.229696Z",
     "shell.execute_reply": "2024-11-19T22:25:23.229195Z"
    },
    "papermill": {
     "duration": 0.008913,
     "end_time": "2024-11-19T22:25:23.230969",
     "exception": false,
     "start_time": "2024-11-19T22:25:23.222056",
     "status": "completed"
    },
    "tags": []
   },
   "outputs": [],
   "source": [
    "path = os.path.join(PATH, 'Lu177-NEMA-SymT2')\n",
    "path_CT = os.path.join(path, 'CT')\n",
    "files_CT = [os.path.join(path_CT, file) for file in os.listdir(path_CT)]\n",
    "file_NM = os.path.join(path, 'projection_data.dcm')"
   ]
  },
  {
   "cell_type": "markdown",
   "id": "bc3bc703",
   "metadata": {
    "papermill": {
     "duration": 0.002651,
     "end_time": "2024-11-19T22:25:23.236308",
     "exception": false,
     "start_time": "2024-11-19T22:25:23.233657",
     "status": "completed"
    },
    "tags": []
   },
   "source": [
    "The idea behind dual peak reconstruction is that we will construct two seperate system matrices (one for each peak) and then combine them together. Most of this is similar to the standard DICOM tutorial, but now we're constructing two different system matrices"
   ]
  },
  {
   "cell_type": "code",
   "execution_count": 4,
   "id": "19525b31",
   "metadata": {
    "execution": {
     "iopub.execute_input": "2024-11-19T22:25:23.243648Z",
     "iopub.status.busy": "2024-11-19T22:25:23.243170Z",
     "iopub.status.idle": "2024-11-19T22:25:23.259978Z",
     "shell.execute_reply": "2024-11-19T22:25:23.259312Z"
    },
    "papermill": {
     "duration": 0.022416,
     "end_time": "2024-11-19T22:25:23.261474",
     "exception": false,
     "start_time": "2024-11-19T22:25:23.239058",
     "status": "completed"
    },
    "tags": []
   },
   "outputs": [
    {
     "name": "stdout",
     "output_type": "stream",
     "text": [
      "Index 0:   Name: \"Window Group A\", Energies: [187.19999694824keV, 228.80000305176keV]\n",
      "Index 1:   Name: \"Window Group B\", Energies: [166.39999389648keV, 187.19999694824keV]\n",
      "Index 2:   Name: \"Window Group C\", Energies: [228.80000305176keV, 249.60000610352keV]\n",
      "Index 3:   Name: \"Window Group D\", Energies: [101.69999694824keV, 124.30000305176keV]\n",
      "Index 4:   Name: \"Window Group E\", Energies: [85.879997253418keV, 101.69999694824keV]\n",
      "Index 5:   Name: \"Window Group F\", Energies: [124.30000305176keV, 146.89999389648keV]\n"
     ]
    }
   ],
   "source": [
    "dicom.print_energy_window_info(file_NM)"
   ]
  },
  {
   "cell_type": "code",
   "execution_count": 5,
   "id": "c86e2dcc",
   "metadata": {
    "execution": {
     "iopub.execute_input": "2024-11-19T22:25:23.269339Z",
     "iopub.status.busy": "2024-11-19T22:25:23.268939Z",
     "iopub.status.idle": "2024-11-19T22:25:28.327155Z",
     "shell.execute_reply": "2024-11-19T22:25:28.326316Z"
    },
    "papermill": {
     "duration": 5.063979,
     "end_time": "2024-11-19T22:25:28.328882",
     "exception": false,
     "start_time": "2024-11-19T22:25:23.264903",
     "status": "completed"
    },
    "tags": []
   },
   "outputs": [
    {
     "name": "stdout",
     "output_type": "stream",
     "text": [
      "Given photopeak energy 208.0 keV and CT energy 130 keV from the CT DICOM header, the HU->mu conversion from the following configuration is used: 208.0 keV SPECT energy, 130 keV CT energy, and scanner model symbiat2\n",
      "Given photopeak energy 113.0 keV and CT energy 130 keV from the CT DICOM header, the HU->mu conversion from the following configuration is used: 113.0 keV SPECT energy, 130 keV CT energy, and scanner model symbiat2\n"
     ]
    }
   ],
   "source": [
    "object_meta, proj_meta = dicom.get_metadata(file_NM)\n",
    "photopeak208 = dicom.get_projections(file_NM, index_peak=0)\n",
    "photopeak113 = dicom.get_projections(file_NM, index_peak=3)\n",
    "scatter208 = dicom.get_energy_window_scatter_estimate(file_NM, index_peak=0, index_lower=1, index_upper=2)\n",
    "scatter113 = dicom.get_energy_window_scatter_estimate(file_NM, index_peak=3, index_lower=4, index_upper=5)\n",
    "amap208 = dicom.get_attenuation_map_from_CT_slices(files_CT, file_NM, index_peak=0)\n",
    "amap113 = dicom.get_attenuation_map_from_CT_slices(files_CT, file_NM, index_peak=3)\n",
    "collimator_name = 'SY-ME'\n",
    "intrinsic_resolution=0.38 #mm at 140 keV\n",
    "psf_meta208 = dicom.get_psfmeta_from_scanner_params(\n",
    "    collimator_name,\n",
    "    energy_keV =  208,\n",
    "    intrinsic_resolution_140keV=intrinsic_resolution\n",
    ")\n",
    "psf_meta113 = dicom.get_psfmeta_from_scanner_params(\n",
    "    collimator_name,\n",
    "    energy_keV = 113,\n",
    "    intrinsic_resolution_140keV=intrinsic_resolution\n",
    ")\n",
    "att_transform208 = SPECTAttenuationTransform(attenuation_map=amap208)\n",
    "att_transform113 = SPECTAttenuationTransform(attenuation_map=amap113)\n",
    "psf_transform208 = SPECTPSFTransform(psf_meta=psf_meta208)\n",
    "psf_transform113 = SPECTPSFTransform(psf_meta=psf_meta113)\n",
    "system_matrix208 = SPECTSystemMatrix(\n",
    "    obj2obj_transforms=[att_transform208, psf_transform208],\n",
    "    proj2proj_transforms=[],\n",
    "    object_meta=object_meta,\n",
    "    proj_meta=proj_meta,\n",
    ")\n",
    "system_matrix113 = SPECTSystemMatrix(\n",
    "    obj2obj_transforms=[att_transform113, psf_transform113],\n",
    "    proj2proj_transforms=[],\n",
    "    object_meta=object_meta,\n",
    "    proj_meta=proj_meta,\n",
    ")"
   ]
  },
  {
   "cell_type": "markdown",
   "id": "db0730c9",
   "metadata": {
    "papermill": {
     "duration": 0.002893,
     "end_time": "2024-11-19T22:25:28.335255",
     "exception": false,
     "start_time": "2024-11-19T22:25:28.332362",
     "status": "completed"
    },
    "tags": []
   },
   "source": [
    "From these two system matrices, we build a single system matrix that simulatenously projects to both peaks at once\n",
    "\n",
    "* The system matrices need to be scaled by the relative calibration factor in CPS/MBq in order to compensate for differnces in count rate between the two peaks"
   ]
  },
  {
   "cell_type": "code",
   "execution_count": 6,
   "id": "fd270bfe",
   "metadata": {
    "execution": {
     "iopub.execute_input": "2024-11-19T22:25:28.342514Z",
     "iopub.status.busy": "2024-11-19T22:25:28.342274Z",
     "iopub.status.idle": "2024-11-19T22:25:28.346055Z",
     "shell.execute_reply": "2024-11-19T22:25:28.345476Z"
    },
    "papermill": {
     "duration": 0.009064,
     "end_time": "2024-11-19T22:25:28.347252",
     "exception": false,
     "start_time": "2024-11-19T22:25:28.338188",
     "status": "completed"
    },
    "tags": []
   },
   "outputs": [],
   "source": [
    "# These calibration factors are approximate and come from SIMIND\n",
    "calib208 = 10.2419 # CPS/MBq\n",
    "calib113 = 11.3 # CPS/MBq\n",
    "\n",
    "system_matrix = ExtendedSystemMatrix(\n",
    "    system_matrices= [\n",
    "        calib113*system_matrix113,\n",
    "        calib208*system_matrix208\n",
    "    ] \n",
    ")"
   ]
  },
  {
   "cell_type": "markdown",
   "id": "b31911a4",
   "metadata": {
    "papermill": {
     "duration": 0.002881,
     "end_time": "2024-11-19T22:25:28.354020",
     "exception": false,
     "start_time": "2024-11-19T22:25:28.351139",
     "status": "completed"
    },
    "tags": []
   },
   "source": [
    "Now if we create an object and forward project, it will project to both peaks"
   ]
  },
  {
   "cell_type": "code",
   "execution_count": 7,
   "id": "e5b3a753",
   "metadata": {
    "execution": {
     "iopub.execute_input": "2024-11-19T22:25:28.361391Z",
     "iopub.status.busy": "2024-11-19T22:25:28.360845Z",
     "iopub.status.idle": "2024-11-19T22:25:28.384306Z",
     "shell.execute_reply": "2024-11-19T22:25:28.383655Z"
    },
    "papermill": {
     "duration": 0.02874,
     "end_time": "2024-11-19T22:25:28.385589",
     "exception": false,
     "start_time": "2024-11-19T22:25:28.356849",
     "status": "completed"
    },
    "tags": []
   },
   "outputs": [],
   "source": [
    "test_object = torch.zeros((128,128,128)).to(pytomography.device)\n",
    "test_object[50:70,50:70,50:70] = 1"
   ]
  },
  {
   "cell_type": "code",
   "execution_count": 8,
   "id": "a8f500ef",
   "metadata": {
    "execution": {
     "iopub.execute_input": "2024-11-19T22:25:28.393096Z",
     "iopub.status.busy": "2024-11-19T22:25:28.392506Z",
     "iopub.status.idle": "2024-11-19T22:25:29.712722Z",
     "shell.execute_reply": "2024-11-19T22:25:29.712092Z"
    },
    "papermill": {
     "duration": 1.325524,
     "end_time": "2024-11-19T22:25:29.714151",
     "exception": false,
     "start_time": "2024-11-19T22:25:28.388627",
     "status": "completed"
    },
    "tags": []
   },
   "outputs": [
    {
     "data": {
      "text/plain": [
       "torch.Size([2, 96, 128, 128])"
      ]
     },
     "execution_count": 8,
     "metadata": {},
     "output_type": "execute_result"
    }
   ],
   "source": [
    "test_projections = system_matrix.forward(test_object)\n",
    "test_projections.shape"
   ]
  },
  {
   "cell_type": "code",
   "execution_count": 9,
   "id": "4c6576b9",
   "metadata": {
    "execution": {
     "iopub.execute_input": "2024-11-19T22:25:29.725319Z",
     "iopub.status.busy": "2024-11-19T22:25:29.724692Z",
     "iopub.status.idle": "2024-11-19T22:25:29.799367Z",
     "shell.execute_reply": "2024-11-19T22:25:29.798772Z"
    },
    "papermill": {
     "duration": 0.083189,
     "end_time": "2024-11-19T22:25:29.800870",
     "exception": false,
     "start_time": "2024-11-19T22:25:29.717681",
     "status": "completed"
    },
    "tags": []
   },
   "outputs": [
    {
     "data": {
      "image/png": "[encoded data removed]",
      "text/plain": [
       "<Figure size 600x300 with 2 Axes>"
      ]
     },
     "metadata": {},
     "output_type": "display_data"
    }
   ],
   "source": [
    "IDX_113 = 0\n",
    "IDX_208 = 1\n",
    "test_projection_113 = test_projections[IDX_113][25].cpu().T\n",
    "test_projection_208 = test_projections[IDX_208][25].cpu().T\n",
    "fig, ax = plt.subplots(1,2, figsize=(6,3), gridspec_kw={'wspace':0.0})\n",
    "ax[0].imshow(test_projection_113, cmap='magma', vmax=80)\n",
    "ax[0].set_xlim(45,90)\n",
    "ax[0].set_ylim(40,80)\n",
    "ax[0].axis('off')\n",
    "ax[0].text(0.03, 0.97, '113 keV', color='white', transform=ax[0].transAxes, ha='left', va='top', fontsize=16)\n",
    "ax[1].imshow(test_projection_208, cmap='magma', vmax=80)\n",
    "ax[1].set_xlim(45,90)\n",
    "ax[1].set_ylim(40,80)\n",
    "ax[1].axis('off')\n",
    "ax[1].text(0.03, 0.97, '208 keV', color='white', transform=ax[1].transAxes, ha='left', va='top', fontsize=16)\n",
    "plt.show()"
   ]
  },
  {
   "cell_type": "markdown",
   "id": "e79464ab",
   "metadata": {
    "papermill": {
     "duration": 0.00328,
     "end_time": "2024-11-19T22:25:29.807503",
     "exception": false,
     "start_time": "2024-11-19T22:25:29.804223",
     "status": "completed"
    },
    "tags": []
   },
   "source": [
    "We can create the likelihood by stacking the photopeak/scatters as well"
   ]
  },
  {
   "cell_type": "code",
   "execution_count": 10,
   "id": "eceda3a1",
   "metadata": {
    "execution": {
     "iopub.execute_input": "2024-11-19T22:25:29.817544Z",
     "iopub.status.busy": "2024-11-19T22:25:29.816924Z",
     "iopub.status.idle": "2024-11-19T22:25:29.821226Z",
     "shell.execute_reply": "2024-11-19T22:25:29.820627Z"
    },
    "papermill": {
     "duration": 0.010203,
     "end_time": "2024-11-19T22:25:29.822461",
     "exception": false,
     "start_time": "2024-11-19T22:25:29.812258",
     "status": "completed"
    },
    "tags": []
   },
   "outputs": [],
   "source": [
    "photopeak = torch.stack([photopeak113, photopeak208], dim=0)\n",
    "scatter = torch.stack([scatter113, scatter208], dim=0)\n",
    "likelihood = PoissonLogLikelihood(system_matrix, photopeak, scatter)"
   ]
  },
  {
   "cell_type": "markdown",
   "id": "b2afa2e2",
   "metadata": {
    "papermill": {
     "duration": 0.003309,
     "end_time": "2024-11-19T22:25:29.829093",
     "exception": false,
     "start_time": "2024-11-19T22:25:29.825784",
     "status": "completed"
    },
    "tags": []
   },
   "source": [
    "Then we reconstruct as normal:"
   ]
  },
  {
   "cell_type": "code",
   "execution_count": 11,
   "id": "b79df128",
   "metadata": {
    "execution": {
     "iopub.execute_input": "2024-11-19T22:25:29.838562Z",
     "iopub.status.busy": "2024-11-19T22:25:29.838067Z",
     "iopub.status.idle": "2024-11-19T22:25:56.775065Z",
     "shell.execute_reply": "2024-11-19T22:25:56.773705Z"
    },
    "papermill": {
     "duration": 26.942928,
     "end_time": "2024-11-19T22:25:56.777040",
     "exception": false,
     "start_time": "2024-11-19T22:25:29.834112",
     "status": "completed"
    },
    "tags": []
   },
   "outputs": [],
   "source": [
    "recon_algo = OSEM(likelihood)\n",
    "recon_OSEM = recon_algo(n_iters = 8, n_subsets=8)"
   ]
  },
  {
   "cell_type": "code",
   "execution_count": 12,
   "id": "041e4dfa",
   "metadata": {
    "execution": {
     "iopub.execute_input": "2024-11-19T22:25:56.787444Z",
     "iopub.status.busy": "2024-11-19T22:25:56.786939Z",
     "iopub.status.idle": "2024-11-19T22:25:56.942580Z",
     "shell.execute_reply": "2024-11-19T22:25:56.941955Z"
    },
    "papermill": {
     "duration": 0.161889,
     "end_time": "2024-11-19T22:25:56.943983",
     "exception": false,
     "start_time": "2024-11-19T22:25:56.782094",
     "status": "completed"
    },
    "tags": []
   },
   "outputs": [
    {
     "data": {
      "image/png": "[encoded data removed]",
      "text/plain": [
       "<Figure size 640x480 with 2 Axes>"
      ]
     },
     "metadata": {},
     "output_type": "display_data"
    }
   ],
   "source": [
    "plt.imshow(recon_OSEM[:,:,61].cpu().T, cmap='magma', interpolation='gaussian')\n",
    "plt.xlim(30,100)\n",
    "plt.ylim(100,40)\n",
    "plt.axis('off')\n",
    "plt.colorbar()\n",
    "plt.show()"
   ]
  },
  {
   "cell_type": "markdown",
   "id": "f4dbfa37",
   "metadata": {
    "papermill": {
     "duration": 0.004738,
     "end_time": "2024-11-19T22:25:56.953094",
     "exception": false,
     "start_time": "2024-11-19T22:25:56.948356",
     "status": "completed"
    },
    "tags": []
   },
   "source": [
    "You may wonder what the units are above. Since we scaled the system matrix by factors with units of Counts / second / MBq, the image has units of MBq $\\cdot$ seconds. Why?:\n",
    "* Image $\\times$ system matrix = projections and projecitons have units of counts\n",
    "\n",
    "So we can convert our image to units of MBq by diving by time, which in this case is the measured time per projection (15s):"
   ]
  },
  {
   "cell_type": "code",
   "execution_count": 13,
   "id": "714b16f7",
   "metadata": {
    "execution": {
     "iopub.execute_input": "2024-11-19T22:25:56.962900Z",
     "iopub.status.busy": "2024-11-19T22:25:56.962434Z",
     "iopub.status.idle": "2024-11-19T22:25:56.977389Z",
     "shell.execute_reply": "2024-11-19T22:25:56.976745Z"
    },
    "papermill": {
     "duration": 0.021786,
     "end_time": "2024-11-19T22:25:56.978579",
     "exception": false,
     "start_time": "2024-11-19T22:25:56.956793",
     "status": "completed"
    },
    "tags": []
   },
   "outputs": [
    {
     "data": {
      "text/plain": [
       "15.002"
      ]
     },
     "execution_count": 13,
     "metadata": {},
     "output_type": "execute_result"
    }
   ],
   "source": [
    "pydicom.dcmread(file_NM).RotationInformationSequence[0].ActualFrameDuration / 1000"
   ]
  }
 ],
 "metadata": {
  "kernelspec": {
   "display_name": "pytomo",
   "language": "python",
   "name": "python3"
  },
  "language_info": {
   "codemirror_mode": {
    "name": "ipython",
    "version": 3
   },
   "file_extension": ".py",
   "mimetype": "text/x-python",
   "name": "python",
   "nbconvert_exporter": "python",
   "pygments_lexer": "ipython3",
   "version": "3.12.9"
  },
  "papermill": {
   "default_parameters": {},
   "duration": 39.972697,
   "end_time": "2024-11-19T22:25:58.202095",
   "environment_variables": {},
   "exception": null,
   "input_path": "t_dualpeak.ipynb",
   "output_path": "t_dualpeak.ipynb",
   "parameters": {},
   "start_time": "2024-11-19T22:25:18.229398",
   "version": "2.6.0"
  }
 },
 "nbformat": 4,
 "nbformat_minor": 5
}
