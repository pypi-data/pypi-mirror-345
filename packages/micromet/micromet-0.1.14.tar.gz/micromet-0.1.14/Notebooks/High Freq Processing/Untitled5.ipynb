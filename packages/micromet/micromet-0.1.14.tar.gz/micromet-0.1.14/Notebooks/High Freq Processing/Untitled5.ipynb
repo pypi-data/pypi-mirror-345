{
 "cells": [
  {
   "cell_type": "code",
   "execution_count": null,
   "id": "864556b0",
   "metadata": {
    "ExecuteTime": {
     "end_time": "2022-05-17T13:55:23.236973Z",
     "start_time": "2022-05-17T13:55:23.226010Z"
    }
   },
   "outputs": [],
   "source": [
    "Ux = np.random.default_rng().uniform(low=-15, high=15, size=500)\n",
    "Uy = np.random.default_rng().uniform(low=-15, high=15, size=500)\n",
    "Uz = np.random.default_rng().uniform(low=-15, high=15, size=500)"
   ]
  },
  {
   "cell_type": "code",
   "execution_count": null,
   "id": "b2ccc6be",
   "metadata": {
    "ExecuteTime": {
     "end_time": "2022-05-17T19:56:57.605866Z",
     "start_time": "2022-05-17T19:56:57.588849Z"
    }
   },
   "outputs": [],
   "source": [
    "def calc_max_covariance(self, df: pd.DataFrame, colx: str, coly: str, lags: int = 10) -> [float, int]:\n",
    "    \"\"\"\n",
    "    Find maximum covariance between two variables\n",
    "    :param df: Pandas DataFrame containing the data\n",
    "    :param colx: DataFrame column with x variable\n",
    "    :param coly: DataFrame column with y variable\n",
    "    :param lags: number of lags to search over; default is 10; larger number requires more time\n",
    "    :return: maximum covariance between two variables, lag number of max covariance\n",
    "    \"\"\"\n",
    "    dfcov = []\n",
    "    for i in np.arange(-1 * lags, lags):\n",
    "        df[f\"{coly}_{i}\"] = df[coly].shift(i)\n",
    "        dfcov.append(df[[colx, f\"{coly}_{i}\"]].cov().loc[colx, f\"{coly}_{i}\"])\n",
    "        # print(i,df[[colx, f\"{coly}_{i}\"]].cov().loc[colx, f\"{coly}_{i}\"])\n",
    "        df = df.drop([f\"{coly}_{i}\"], axis=1)\n",
    "\n",
    "    abscov = np.abs(dfcov)\n",
    "    maxabscov = np.max(abscov)\n",
    "    try:\n",
    "        maxlagindex = np.where(abscov == maxabscov)[0][0]\n",
    "        lagno = maxlagindex - lags\n",
    "        maxcov = dfcov[maxlagindex]\n",
    "    except IndexError:\n",
    "        lagno = 0\n",
    "        maxcov = dfcov[10]\n",
    "    return maxcov, lagno"
   ]
  },
  {
   "cell_type": "code",
   "execution_count": null,
   "id": "23c005f3",
   "metadata": {
    "ExecuteTime": {
     "end_time": "2022-05-17T17:59:24.823930Z",
     "start_time": "2022-05-17T17:59:24.695275Z"
    }
   },
   "outputs": [],
   "source": [
    "data = np.linspace(0,50,1000)\n",
    "x = np.sin(data)\n",
    "y = np.cos(data)\n",
    "\n",
    "#plt.plot(data, x)\n",
    "#plt.plot(data, y)\n",
    "\n",
    "print(np.cov(x,y,bias=True))\n",
    "\n",
    "mca = MCA(np.stack([data,x], axis=1), np.stack([data,y], axis=1))\n",
    "mca.solve(complexify=True,period=100)\n",
    "#plt.plot(mca.temporal_amplitude()['left'])\n",
    "#plt.plot(mca.temporal_amplitude()['right'])\n",
    "plt.plot(mca.temporal_phase()['left'])\n",
    "#plt.plot(mca.temporal_phase()['right'])\n",
    "mca.singular_values(n=100)"
   ]
  },
  {
   "cell_type": "code",
   "execution_count": null,
   "id": "a7df6907",
   "metadata": {
    "ExecuteTime": {
     "end_time": "2022-05-17T17:43:55.501845Z",
     "start_time": "2022-05-17T17:43:55.483890Z"
    }
   },
   "outputs": [],
   "source": [
    "mca.correlation_matrix()"
   ]
  },
  {
   "cell_type": "code",
   "execution_count": null,
   "id": "7abcc43a",
   "metadata": {
    "ExecuteTime": {
     "end_time": "2022-05-17T22:58:46.066364Z",
     "start_time": "2022-05-17T22:58:46.055393Z"
    }
   },
   "outputs": [],
   "source": [
    "Ux = np.random.default_rng().uniform(low=-15, high=15, size=500)\n",
    "Uy = np.random.default_rng().uniform(low=-15, high=15, size=500)\n",
    "Uz = np.random.default_rng().uniform(low=-15, high=15, size=500)"
   ]
  },
  {
   "cell_type": "code",
   "execution_count": null,
   "id": "a2e3fb96",
   "metadata": {
    "ExecuteTime": {
     "end_time": "2022-05-17T22:59:27.460703Z",
     "start_time": "2022-05-17T22:59:26.183415Z"
    }
   },
   "outputs": [],
   "source": [
    "from numba import njit, prange\n",
    "import numpy as np\n",
    "\n",
    "@njit(parallel=True)\n",
    "def shadow_correction(Ux, Uy, Uz):\n",
    "    \"\"\"Correction for flow distortion of CSAT sonic anemometer from Horst and others (2015) based on work by Kaimal\n",
    "\n",
    "    :param Ux: Longitudinal component of the wind velocity (m s-1); aka u\n",
    "    :param Uy: Lateral component of the wind velocity (m s-1); aka v\n",
    "    :param Uz: Vertical component of the wind velocity (m s-1); aka w\n",
    "    :return: corrected wind components\n",
    "    \"\"\"\n",
    "\n",
    "    # Rotation Matrix to Align with Path Coordinate System of Transducers\n",
    "    h = [0.25, 0.4330127018922193, 0.8660254037844386,\n",
    "         -0.5, 0.0, 0.8660254037844386,\n",
    "         0.25, -0.4330127018922193, 0.8660254037844386]\n",
    "\n",
    "    # Inverse of the Rotation Matrix\n",
    "    hinv = [0.6666666666666666, -1.3333333333333333, 0.6666666666666666,\n",
    "            1.1547005383792517, 0.0, -1.1547005383792517,\n",
    "            0.38490017945975047, 0.38490017945975047, 0.38490017945975047]\n",
    "\n",
    "    iteration = 0\n",
    "\n",
    "    while iteration < 4:\n",
    "\n",
    "        Uxh = h[0] * Ux + h[1] * Uy + h[2] * Uz\n",
    "        Uyh = h[3] * Ux + h[4] * Uy + h[5] * Uz\n",
    "        Uzh = h[6] * Ux + h[7] * Uy + h[8] * Uz\n",
    "\n",
    "        scalar = np.sqrt(Ux ** 2. + Uy ** 2. + Uz ** 2.)\n",
    "\n",
    "        Theta1 = np.arccos(np.abs(h[0] * Ux + h[1] * Uy + h[2] * Uz) / scalar)\n",
    "        Theta2 = np.arccos(np.abs(h[3] * Ux + h[4] * Uy + h[5] * Uz) / scalar)\n",
    "        Theta3 = np.arccos(np.abs(h[6] * Ux + h[7] * Uy + h[8] * Uz) / scalar)\n",
    "\n",
    "        #  Adjustment Factors for Each Component\n",
    "        # Adjust for the Shadowing Effects\n",
    "\n",
    "        Uxa = Uxh / (0.84 + 0.16 * np.sin(Theta1))\n",
    "        Uya = Uyh / (0.84 + 0.16 * np.sin(Theta2))\n",
    "        Uza = Uzh / (0.84 + 0.16 * np.sin(Theta3))\n",
    "\n",
    "        # Transform the Winds Components Back to the CSAT Coordinate System.\n",
    "        # These are the Corrected Velocities.\n",
    "\n",
    "        Uxc = hinv[0] * Uxa + hinv[1] * Uya + hinv[2] * Uza\n",
    "        Uyc = hinv[3] * Uxa + hinv[4] * Uya + hinv[5] * Uza\n",
    "        Uzc = hinv[6] * Uxa + hinv[7] * Uya + hinv[8] * Uza\n",
    "\n",
    "        Ux = Uxc\n",
    "        Uy = Uyc\n",
    "        Uz = Uzc\n",
    "\n",
    "        iteration += 1\n",
    "\n",
    "    return Uxc, Uyc, Uzc\n",
    "\n",
    "%timeit shadow_correction(Ux, Uy, Uz)\n",
    "shadow_correction(Ux, Uy, Uz)"
   ]
  },
  {
   "cell_type": "code",
   "execution_count": null,
   "id": "0f580b4f",
   "metadata": {},
   "outputs": [],
   "source": []
  },
  {
   "cell_type": "code",
   "execution_count": null,
   "id": "28617e37",
   "metadata": {
    "ExecuteTime": {
     "end_time": "2022-05-17T22:57:26.284824Z",
     "start_time": "2022-05-17T22:57:25.256351Z"
    }
   },
   "outputs": [],
   "source": [
    "from numba import jit, int32\n",
    "\n",
    "@jit\n",
    "def shadow_correction(Ux, Uy, Uz):\n",
    "    \n",
    "    # Rotation Matrix to Align with Path Coordinate System of Transducers\n",
    "    h = [0.25, 0.4330127018922193, 0.8660254037844386, \n",
    "                  -0.5, 0.0, 0.8660254037844386, \n",
    "                  0.25, -0.4330127018922193, 0.8660254037844386]\n",
    "\n",
    "    # Inverse of the Rotation Matrix\n",
    "    hinv = [0.6666666666666666, -1.3333333333333333, 0.6666666666666666, \n",
    "                  1.1547005383792517, 0.0, -1.1547005383792517, \n",
    "                  0.38490017945975047, 0.38490017945975047, 0.38490017945975047]\n",
    "\n",
    "\n",
    "    Uxh = h[0]*Ux + h[1]*Uy + h[2]*Uz\n",
    "    Uyh = h[3]*Ux + h[4]*Uy + h[5]*Uz\n",
    "    Uzh = h[6]*Ux + h[7]*Uy + h[8]*Uz\n",
    "\n",
    "    scalar = np.sqrt(Ux ** 2. + Uy ** 2. + Uz ** 2.)\n",
    "\n",
    "    Theta1 = np.arccos(np.abs(h[0]*Ux + h[1]*Uy + h[2]*Uz) / scalar)\n",
    "    Theta2 = np.arccos(np.abs(h[3]*Ux + h[4]*Uy + h[5]*Uz) / scalar)\n",
    "    Theta3 = np.arccos(np.abs(h[6]*Ux + h[7]*Uy + h[8]*Uz) / scalar)\n",
    "\n",
    "    #  Adjustment Factors for Each Component\n",
    "\n",
    "    c1 = 1. / (0.84 + 0.16*np.sin(Theta1))\n",
    "    c2 = 1. / (0.84 + 0.16*np.sin(Theta2))\n",
    "    c3 = 1. / (0.84 + 0.16*np.sin(Theta3))\n",
    "\n",
    "    # Adjust for the Shadowing Effects\n",
    "\n",
    "    Uxa=Uxh*c1\n",
    "    Uya=Uyh*c2\n",
    "    Uza=Uzh*c3\n",
    "\n",
    "    # Transform the Winds Components Back to the CSAT Coordinate System.\n",
    "    # These are the Corrected Velocities.\n",
    "\n",
    "    Uxc = hinv[0]*Uxa + hinv[1]*Uya + hinv[2]*Uza\n",
    "    Uyc = hinv[3]*Uxa + hinv[4]*Uya + hinv[5]*Uza\n",
    "    Uzc = hinv[6]*Uxa + hinv[7]*Uya + hinv[8]*Uza\n",
    "\n",
    "    return Uxc, Uyc, Uzc\n",
    "#Uxx=Uxc\n",
    "#Uyy=Uyc\n",
    "#Uzz=Uzc\n",
    "%timeit shadow_correction(Ux, Uy, Uz)\n",
    "shadow_correction(Ux, Uy, Uz)"
   ]
  },
  {
   "cell_type": "code",
   "execution_count": null,
   "id": "4018acc3",
   "metadata": {
    "ExecuteTime": {
     "end_time": "2022-05-17T15:09:43.793367Z",
     "start_time": "2022-05-17T15:09:42.722965Z"
    }
   },
   "outputs": [],
   "source": [
    "https://link.springer.com/article/10.1007/s10546-015-0010-3\n",
    "\n",
    "@jit\n",
    "def shadow_correction(Ux, Uy, Uz):\n",
    "    \n",
    "    # Rotation Matrix to Align with Path Coordinate System of Transducers\n",
    "    h = [0.25, 0.4330127018922193, 0.8660254037844386, \n",
    "                  -0.5, 0.0, 0.8660254037844386, \n",
    "                  0.25, -0.4330127018922193, 0.8660254037844386]\n",
    "\n",
    "    # Inverse of the Rotation Matrix\n",
    "    hinv = [0.6666666666666666, -1.3333333333333333, 0.6666666666666666, \n",
    "                  1.1547005383792517, 0.0, -1.1547005383792517, \n",
    "                  0.38490017945975047, 0.38490017945975047, 0.38490017945975047]\n",
    "\n",
    "\n",
    "    Uxh = h[0]*Ux + h[1]*Uy + h[2]*Uz\n",
    "    Uyh = h[3]*Ux + h[4]*Uy + h[5]*Uz\n",
    "    Uzh = h[6]*Ux + h[7]*Uy + h[8]*Uz\n",
    "\n",
    "    scalar = np.sqrt(Ux ** 2. + Uy ** 2. + Uz ** 2.)\n",
    "\n",
    "    Theta1 = np.arccos(np.abs(h[0]*Ux + h[1]*Uy + h[2]*Uz) / scalar)\n",
    "    Theta2 = np.arccos(np.abs(h[3]*Ux + h[4]*Uy + h[5]*Uz) / scalar)\n",
    "    Theta3 = np.arccos(np.abs(h[6]*Ux + h[7]*Uy + h[8]*Uz) / scalar)\n",
    "\n",
    "    #  Adjustment Factors for Each Component\n",
    "    # Adjust for the Shadowing Effects\n",
    "\n",
    "    Uxa = Uxh / (0.84 + 0.16*np.sin(Theta1))\n",
    "    Uya = Uyh / (0.84 + 0.16*np.sin(Theta2))\n",
    "    Uza = Uzh / (0.84 + 0.16*np.sin(Theta3))\n",
    "\n",
    "    # Transform the Winds Components Back to the CSAT Coordinate System.\n",
    "    # These are the Corrected Velocities.\n",
    "\n",
    "    Uxc = hinv[0]*Uxa + hinv[1]*Uya + hinv[2]*Uza\n",
    "    Uyc = hinv[3]*Uxa + hinv[4]*Uya + hinv[5]*Uza\n",
    "    Uzc = hinv[6]*Uxa + hinv[7]*Uya + hinv[8]*Uza\n",
    "\n",
    "    return Uxc, Uyc, Uzc\n",
    "#Uxx=Uxc\n",
    "#Uyy=Uyc\n",
    "#Uzz=Uzc\n",
    "shadow_correction(Ux, Uy, Uz)"
   ]
  },
  {
   "cell_type": "code",
   "execution_count": null,
   "id": "575bddd2",
   "metadata": {
    "ExecuteTime": {
     "end_time": "2022-05-17T15:02:03.858116Z",
     "start_time": "2022-05-17T15:02:03.828197Z"
    }
   },
   "outputs": [],
   "source": [
    "def fix_csat(Ux, Uy, Uz):\n",
    "\n",
    "    CSAT3Inverse = [[-0.5, 0, 0.8660254037844386],\n",
    "                    [0.25, 0.4330127018922193, 0.8660254037844386],\n",
    "                    [0.25, -0.4330127018922193, 0.8660254037844386]]\n",
    "    CSAT3Transform = [[-1.3333333333333, 0.66666666666666, 0.66666666666666],\n",
    "                      [0, 1.1547005383792, -1.1547005383792],\n",
    "                      [0.3849001794597, 0.3849001794597, 0.3849001794597]]\n",
    "\n",
    "    u = {}\n",
    "    u[0] = CSAT3Inverse[0][0] * Ux + CSAT3Inverse[0][1] * Uy + CSAT3Inverse[0][2] * Uz\n",
    "    u[1] = CSAT3Inverse[1][0] * Ux + CSAT3Inverse[1][1] * Uy + CSAT3Inverse[1][2] * Uz\n",
    "    u[2] = CSAT3Inverse[2][0] * Ux + CSAT3Inverse[2][1] * Uy + CSAT3Inverse[2][2] * Uz\n",
    "\n",
    "    scalar = (Ux ** 2. + Uy ** 2. + Uz ** 2.) ** 0.5\n",
    "\n",
    "    u[0] = u[0] / (0.68 + 0.32 * np.sin(np.arccos(u[0] / scalar)))\n",
    "    u[1] = u[1] / (0.68 + 0.32 * np.sin(np.arccos(u[1] / scalar)))\n",
    "    u[2] = u[2] / (0.68 + 0.32 * np.sin(np.arccos(u[2] / scalar)))\n",
    "\n",
    "    Ux_out = CSAT3Transform[0][0] * u[0] + CSAT3Transform[0][1] * u[1] + CSAT3Transform[0][2] * u[2]\n",
    "    Uy_out = CSAT3Transform[1][0] * u[0] + CSAT3Transform[1][1] * u[1] + CSAT3Transform[1][2] * u[2]\n",
    "    Uz_out = CSAT3Transform[2][0] * u[0] + CSAT3Transform[2][1] * u[1] + CSAT3Transform[2][2] * u[2]\n",
    "\n",
    "    return Ux_out, Uy_out, Uz_out\n",
    "\n",
    "fix_csat(Ux, Uy, Uz)"
   ]
  },
  {
   "cell_type": "code",
   "execution_count": null,
   "id": "f24e7844",
   "metadata": {
    "ExecuteTime": {
     "end_time": "2022-05-17T15:02:09.162819Z",
     "start_time": "2022-05-17T15:02:09.130875Z"
    }
   },
   "outputs": [],
   "source": [
    "#@numba.njit#(forceobj=True)\n",
    "def fix_csat(Ux, Uy, Uz):\n",
    "\n",
    "    CSAT3Inverse = [[-0.5, 0, 0.8660254037844386],\n",
    "                    [0.25, 0.4330127018922193, 0.8660254037844386],\n",
    "                    [0.25, -0.4330127018922193, 0.8660254037844386]]\n",
    "    CSAT3Transform = [[-1.3333333333333, 0.66666666666666, 0.66666666666666],\n",
    "                      [0, 1.1547005383792, -1.1547005383792],\n",
    "                      [0.3849001794597, 0.3849001794597, 0.3849001794597]]\n",
    "\n",
    "    Ux_out = []\n",
    "    Uy_out = []\n",
    "    Uz_out = []\n",
    "\n",
    "    for i in range(len(Ux)):\n",
    "        u = {}\n",
    "        u[0] = CSAT3Inverse[0][0] * Ux[i] + CSAT3Inverse[0][1] * Uy[i] + CSAT3Inverse[0][2] * Uz[i]\n",
    "        u[1] = CSAT3Inverse[1][0] * Ux[i] + CSAT3Inverse[1][1] * Uy[i] + CSAT3Inverse[1][2] * Uz[i]\n",
    "        u[2] = CSAT3Inverse[2][0] * Ux[i] + CSAT3Inverse[2][1] * Uy[i] + CSAT3Inverse[2][2] * Uz[i]\n",
    "\n",
    "        scalar = (Ux[i] ** 2. + Uy[i] ** 2. + Uz[i] ** 2.) ** 0.5\n",
    "\n",
    "        u[0] = u[0] / (0.68 + 0.32 * np.sin(np.arccos(u[0] / scalar)))\n",
    "        u[1] = u[1] / (0.68 + 0.32 * np.sin(np.arccos(u[1] / scalar)))\n",
    "        u[2] = u[2] / (0.68 + 0.32 * np.sin(np.arccos(u[2] / scalar)))\n",
    "\n",
    "        Ux_out.append(CSAT3Transform[0][0] * u[0] + CSAT3Transform[0][1] * u[1] + CSAT3Transform[0][2] * u[2])\n",
    "        Uy_out.append(CSAT3Transform[1][0] * u[0] + CSAT3Transform[1][1] * u[1] + CSAT3Transform[1][2] * u[2])\n",
    "        Uz_out.append(CSAT3Transform[2][0] * u[0] + CSAT3Transform[2][1] * u[1] + CSAT3Transform[2][2] * u[2])\n",
    "\n",
    "    return Ux_out, Uy_out, Uz_out\n",
    "\n",
    "fix_csat(Ux, Uy, Uz)"
   ]
  },
  {
   "cell_type": "code",
   "execution_count": null,
   "id": "50083215",
   "metadata": {
    "ExecuteTime": {
     "end_time": "2022-05-16T15:31:00.132655Z",
     "start_time": "2022-05-16T15:31:00.115700Z"
    }
   },
   "outputs": [],
   "source": [
    "def calc_Td(E):\n",
    "    \"\"\"\n",
    "    Dew point equation\n",
    "    :param E: Water vapour pressure at saturation\n",
    "    :return:\n",
    "    \"\"\"\n",
    "    c0 = 207.98233\n",
    "    c1 = -20.156028\n",
    "    c2 = 0.46778925\n",
    "    c3 = -0.0000092288067\n",
    "    d0 = 1\n",
    "    d1 = -0.13319669\n",
    "    d2 = 0.0056577518\n",
    "    d3 = -0.000075172865\n",
    "    lne = np.log(E)\n",
    "    return (c0 + c1 * lne + c2 * lne ** 2 + c3 * lne ** 3) / (d0 + d1 * lne + d2 * lne ** 2 + d3 * lne ** 3)\n",
    "\n",
    "def calc_Q(P, E):\n",
    "    return (0.622 * E) / (P - 0.378 * E)\n",
    "\n",
    "def calc_E(pV, T, Rv):\n",
    "    return pV * Rv * T\n",
    "\n",
    "def calc_L(Ust, Tsa, Uz_Ta):\n",
    "    #removed negative sign\n",
    "    return -1*(Ust ** 3) * Tsa / (9.8 * 0.4 * Uz_Ta)\n",
    "\n",
    "#@numba.njit#(forceobj=True)\n",
    "def calc_Tsa(Ts, P, pV, Rv=461.51):\n",
    "    \"\"\"\n",
    "    Calculate the average sonic temperature\n",
    "    :param Ts:\n",
    "    :param P:\n",
    "    :param pV:\n",
    "    :param Rv:\n",
    "    :return:\n",
    "    \"\"\"\n",
    "    E = pV * Rv * Ts\n",
    "    return -0.01645278052 * (\n",
    "                -500 * P - 189 * E + np.sqrt(250000 * P ** 2 + 128220 * E * P + 35721 * E ** 2)) / pV / Rv\n",
    "\n",
    "\n",
    "#@numba.njit#(forceobj=True)\n",
    "def tetens(t, a=0.611, b=17.502, c=240.97):\n",
    "    \"\"\"Tetens formula for computing the\n",
    "    saturation vapor pressure of water from temperature; eq. 3.8\n",
    "\n",
    "    :param t: temperature (C)\n",
    "    :param a: constant (kPa)\n",
    "    :param b: constant (dimensionless)\n",
    "    :param c: constant (C)\n",
    "    :return: saturation vapor pressure (kPa)\n",
    "    \"\"\"\n",
    "    return a * np.exp((b * t) / (t + c))\n",
    "\n",
    "def convert_CtoK(T):\n",
    "    \"\"\"\n",
    "    Convert Celcius to Kelvin\n",
    "    :param T: Temperature in Celcius degrees\n",
    "    :return: Temperature in Kelvin\n",
    "    \"\"\"\n",
    "    return T + 273.16\n",
    "\n",
    "#@numba.jit(forceobj=True)\n",
    "def calc_Es(T: float) -> float:\n",
    "    \"\"\"\n",
    "    Saturation Vapor Pressure Equation\n",
    "    :param T: Water temperature in Celcius\n",
    "    :return: Saturation Vapor Pressure (Pa)\n",
    "    \"\"\"\n",
    "    g0 = -2836.5744\n",
    "    g1 = -6028.076559\n",
    "    g2 = 19.54263612\n",
    "    g3 = -0.02737830188\n",
    "    g4 = 0.000016261698\n",
    "    g5 = 0.00000000070229056\n",
    "    g6 = -0.00000000000018680009\n",
    "    g7 = 2.7150305\n",
    "    \n",
    "    T = convert_CtoK(T)\n",
    "    return np.exp(\n",
    "        g0 * T ** (-2) + g1 * T ** (-1) + g2 + g3 * T + g4 * T ** 2 + g5 * T ** 3 + g6 * T ** 4 + g7 * np.log(T))"
   ]
  },
  {
   "cell_type": "code",
   "execution_count": null,
   "id": "29c0a035",
   "metadata": {
    "ExecuteTime": {
     "end_time": "2022-05-16T15:30:42.761392Z",
     "start_time": "2022-05-16T15:30:42.755409Z"
    }
   },
   "outputs": [],
   "source": [
    "print(tetens(15))\n",
    "print(calc_Es(15))"
   ]
  },
  {
   "cell_type": "code",
   "execution_count": null,
   "id": "6934d164",
   "metadata": {},
   "outputs": [],
   "source": []
  },
  {
   "cell_type": "code",
   "execution_count": null,
   "id": "06e44715",
   "metadata": {
    "ExecuteTime": {
     "end_time": "2022-05-16T15:10:12.169665Z",
     "start_time": "2022-05-16T15:10:12.163721Z"
    }
   },
   "outputs": [],
   "source": [
    "from dataclasses import dataclass, field"
   ]
  },
  {
   "cell_type": "code",
   "execution_count": null,
   "id": "0e483bad",
   "metadata": {
    "ExecuteTime": {
     "end_time": "2022-05-16T15:19:09.235471Z",
     "start_time": "2022-05-16T15:19:09.219539Z"
    }
   },
   "outputs": [],
   "source": [
    "class Constants:\n",
    "    c0: float = 207.98233\n",
    "    c1: float = -20.156028\n",
    "    c2: float = 0.46778925\n",
    "    c3: float = -0.0000092288067\n",
    "    d0: float = 1\n",
    "    d1: float = -0.13319669\n",
    "    d2: float = 0.0056577518\n",
    "    d3: float = -0.000075172865\n",
    "        \n",
    "    g0: float = -2836.5744\n",
    "    g1: float = -6028.076559\n",
    "    g2: float = 19.54263612\n",
    "    g3: float = -0.02737830188\n",
    "    g4: float = 0.000016261698\n",
    "    g5: float = 0.00000000070229056\n",
    "    g6: float = -0.00000000000018680009\n",
    "    g7: float = 2.7150305\n",
    "\n"
   ]
  },
  {
   "cell_type": "code",
   "execution_count": null,
   "id": "b53fd1e0",
   "metadata": {
    "ExecuteTime": {
     "end_time": "2022-05-16T15:19:12.522805Z",
     "start_time": "2022-05-16T15:19:12.507254Z"
    }
   },
   "outputs": [],
   "source": [
    "const = Constants()\n",
    "const.g0"
   ]
  }
 ],
 "metadata": {
  "kernelspec": {
   "display_name": "Python 3 (ipykernel)",
   "language": "python",
   "name": "python3"
  },
  "language_info": {
   "codemirror_mode": {
    "name": "ipython",
    "version": 3
   },
   "file_extension": ".py",
   "mimetype": "text/x-python",
   "name": "python",
   "nbconvert_exporter": "python",
   "pygments_lexer": "ipython3",
   "version": "3.10.4"
  },
  "latex_envs": {
   "LaTeX_envs_menu_present": true,
   "autoclose": false,
   "autocomplete": true,
   "bibliofile": "biblio.bib",
   "cite_by": "apalike",
   "current_citInitial": 1,
   "eqLabelWithNumbers": true,
   "eqNumInitial": 1,
   "hotkeys": {
    "equation": "Ctrl-E",
    "itemize": "Ctrl-I"
   },
   "labels_anchors": false,
   "latex_user_defs": false,
   "report_style_numbering": false,
   "user_envs_cfg": false
  },
  "toc": {
   "base_numbering": 1,
   "nav_menu": {},
   "number_sections": true,
   "sideBar": true,
   "skip_h1_title": false,
   "title_cell": "Table of Contents",
   "title_sidebar": "Contents",
   "toc_cell": false,
   "toc_position": {},
   "toc_section_display": true,
   "toc_window_display": false
  },
  "varInspector": {
   "cols": {
    "lenName": 16,
    "lenType": 16,
    "lenVar": 40
   },
   "kernels_config": {
    "python": {
     "delete_cmd_postfix": "",
     "delete_cmd_prefix": "del ",
     "library": "var_list.py",
     "varRefreshCmd": "print(var_dic_list())"
    },
    "r": {
     "delete_cmd_postfix": ") ",
     "delete_cmd_prefix": "rm(",
     "library": "var_list.r",
     "varRefreshCmd": "cat(var_dic_list()) "
    }
   },
   "types_to_exclude": [
    "module",
    "function",
    "builtin_function_or_method",
    "instance",
    "_Feature"
   ],
   "window_display": false
  }
 },
 "nbformat": 4,
 "nbformat_minor": 5
}
