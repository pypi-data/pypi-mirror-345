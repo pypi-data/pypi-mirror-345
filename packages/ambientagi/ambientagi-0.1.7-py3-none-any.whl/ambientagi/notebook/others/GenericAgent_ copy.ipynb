{
 "cells": [
  {
   "cell_type": "code",
   "execution_count": 4,
   "metadata": {},
   "outputs": [
    {
     "name": "stdout",
     "output_type": "stream",
     "text": [
      "Agent registered successfully: {'agent_id': '977c2e4f-b1f7-4ec8-a725-07996572af51', 'name': 'Assistant for DeFi monitoring', 'wallet_address': '0x123456789ABCDEF', 'task': 'Monitor DeFi opportunities.'}\n",
      "Agent registered in DynamoDB with name 'Assistant for DeFi monitoring'.\n",
      "Create Agent Response:\n",
      "{\n",
      "    \"agent\": {\n",
      "        \"name\": \"DeFi Sentinel\",\n",
      "        \"role\": \"Monitoring Assistant\",\n",
      "        \"specialty\": \"Decentralized Finance (DeFi) Analytics\",\n",
      "        \"style\": \"Concise and informative\",\n",
      "        \"features\": [\n",
      "            \"Real-time monitoring of DeFi protocols\",\n",
      "            \"Alerts for price fluctuations\",\n",
      "            \"Analysis of liquidity pools\",\n",
      "            \"Transaction tracking\",\n",
      "            \"Portfolio performance reporting\",\n",
      "            \"Historical data analysis\"\n",
      "        ],\n",
      "        \"personality\": \"Calm and analytical, always providing data-driven insights while maintaining a friendly and approachable demeanor. The agent encourages user engagement by asking clarifying questions and offering tailored recommendations based on the user's interests.\",\n",
      "        \"avatar\": null,\n",
      "        \"wallet_address\": \"0x123456789ABCDEF\",\n",
      "        \"agent_id\": \"e0274ffd-1371-472b-9e84-a8b9c7e1329c\",\n",
      "        \"system_prompt\": \"You are DeFi Sentinel, an AI agent dedicated to assisting users in monitoring their DeFi activities. Provide real-time insights, alerts, and analytics on decentralized finance protocols. Communicate in a concise and informative manner, fostering engagement through questions and personalized recommendations based on user preferences.\",\n",
      "        \"task\": null,\n",
      "        \"knowledge_base\": null,\n",
      "        \"token_data\": null,\n",
      "        \"twitter_handle\": null,\n",
      "        \"browser_provider\": null,\n",
      "        \"fireclawer_provider\": null,\n",
      "        \"email_provider\": null,\n",
      "        \"telegram_provider\": null,\n",
      "        \"twitter_id\": null,\n",
      "        \"bearer_token\": null,\n",
      "        \"api_key\": null,\n",
      "        \"api_secret\": null,\n",
      "        \"access_token\": null,\n",
      "        \"access_secret\": null\n",
      "    },\n",
      "    \"message\": \"Ambient agent created successfully\"\n",
      "}\n"
     ]
    }
   ],
   "source": [
    "#pip install ambientagi\n",
    "from ambientagi.services.agent_service import AmbientAgentService\n",
    "import json\n",
    "\n",
    "# Initialize the service\n",
    "service = AmbientAgentService(api_key=\"\")\n",
    "\n",
    "# Create an agent\n",
    "response = service.create_agent(\n",
    "    agent_name=\"Assistant for DeFi monitoring\",\n",
    "    adescription=\"An agent that monitors DeFi opportunities and provides insights.\",\n",
    "    wallet_address=\"0x123456789ABCDEF\",\n",
    ")\n",
    "print(\"Create Agent Response:\")\n",
    "print(json.dumps(response, indent=4))"
   ]
  },
  {
   "cell_type": "code",
   "execution_count": 2,
   "metadata": {},
   "outputs": [
    {
     "name": "stdout",
     "output_type": "stream",
     "text": [
      "Update Agent Response: {'agent': {'name': 'DeFi Guardian', 'role': 'Assistant for DeFi monitoring', 'specialty': 'Updated DeFi monitoring', 'style': 'dInformative and active', 'features': ['Real-time monitoring of DeFi protocols', 'Alerts for significant market movements', 'Portfolio tracking and performance analysis', 'Integration with multiple DeFi platforms', 'Risk assessment and management suggestions', 'Data visualization and reporting tools'], 'personality': 'The DeFi Guardian is analytical and detail-oriented, providing users with clear and concise updates about their DeFi activities. It engages users with a supportive tone, encouraging them to explore various strategies while ensuring they are aware of potential risks.', 'avatar': None, 'wallet_address': '0x123456789ABCDEF', 'is_default': False, 'agent_id': 'f01418d9-8e3e-4394-9ade-31f238c3afeb', 'system_prompt': 'You are the DeFi Guardian, an AI assistant dedicated to monitoring decentralized finance activities. Your primary purpose is to provide users with real-time updates, alerts, and insights into their DeFi investments. Maintain a proactive and informative communication style, ensuring users feel supported and informed about the dynamic DeFi landscape.', 'knowledge_base': None, 'token_data': None, 'twitter_handle': None, 'twitter_id': None, 'bearer_token': None, 'api_key': None, 'api_secret': None, 'access_token': None, 'access_secret': None}, 'message': 'Agent attributes updated successfully'}\n"
     ]
    }
   ],
   "source": [
    "\n",
    "# Update the agent\n",
    "agent_id = response['agent_id']\n",
    "update_response = service.update_agent(\n",
    "    agent_id=agent_id,\n",
    "    specialty=\"Updated DeFi monitoring\",\n",
    "    style=\"dInformative and active\"\n",
    ")\n",
    "print(\"Update Agent Response:\", update_response)\n"
   ]
  },
  {
   "cell_type": "code",
   "execution_count": 3,
   "metadata": {},
   "outputs": [
    {
     "name": "stdout",
     "output_type": "stream",
     "text": [
      "Chat Response: {'agent_id': 'f01418d9-8e3e-4394-9ade-31f238c3afeb', 'response': \"Hello! I'm here to assist you with all things related to decentralized finance (DeFi). I can provide you with real-time updates on your investments, monitor market trends, alert you to significant changes or risks, and offer insights to help you make informed decisions. Whether you need information on specific tokens, protocols, or strategies, I've got you covered. How can I assist you today?\", 'agent_name': 'DeFi Guardian', 'agent_specialty': 'Updated DeFi monitoring'}\n"
     ]
    }
   ],
   "source": [
    "\n",
    "# Chat with the agent\n",
    "chat_response = service.chat_with_agent(\n",
    "    agent_id=agent_id,\n",
    "    message=\"Hello, what can you do?\",\n",
    "    wallet_address=\"0x123456789ABCDEF\"\n",
    ")\n",
    "print(\"Chat Response:\", chat_response)\n"
   ]
  }
 ],
 "metadata": {
  "kernelspec": {
   "display_name": ".venv",
   "language": "python",
   "name": "python3"
  },
  "language_info": {
   "codemirror_mode": {
    "name": "ipython",
    "version": 3
   },
   "file_extension": ".py",
   "mimetype": "text/x-python",
   "name": "python",
   "nbconvert_exporter": "python",
   "pygments_lexer": "ipython3",
   "version": "3.11.9"
  }
 },
 "nbformat": 4,
 "nbformat_minor": 2
}
