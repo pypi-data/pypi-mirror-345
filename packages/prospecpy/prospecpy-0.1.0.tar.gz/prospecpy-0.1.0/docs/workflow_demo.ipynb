{
 "cells": [
  {
   "cell_type": "code",
   "execution_count": null,
   "metadata": {},
   "outputs": [],
   "source": [
    "import sys\n",
    "sys.path.append(\"PATH TO src folder\")\n",
    "sys.path.append(\"PATH TO DIRECTORY CONTAINING THIS NOTEBOOK\")\n"
   ]
  },
  {
   "cell_type": "code",
   "execution_count": null,
   "metadata": {},
   "outputs": [],
   "source": [
    "%load_ext autoreload\n",
    "%autoreload 2\n",
    "\n",
    "#Setting Up and Importing the Necessary Packages/Libraries\n",
    "##Package for reading in Bruker OPUS type files\n",
    "from brukeropusreader import read_file\n",
    "import matplotlib.pyplot as plt\n",
    "from scipy.interpolate import UnivariateSpline\n",
    "import pathlib\n",
    "\n",
    "#Local Functions\n",
    "from prospecpy.cut_range import cut_range_subtract_prospecpy_objects\n",
    "from prospecpy.second_deriv import  second_deriv_prospecpy_objects\n",
    "from prospecpy.baseline import baseline_correction_prospecpy_objects\n",
    "from prospecpy.peak_fit import gaussian_fit_prospecpy_objects, lorentzian_fit_prospecpy_objects\n",
    "from prospecpy.io import import_run_data\n",
    "from prospecpy.interact import interact\n"
   ]
  },
  {
   "cell_type": "markdown",
   "metadata": {},
   "source": [
    "# Importing spectra data and water vapor data"
   ]
  },
  {
   "cell_type": "markdown",
   "metadata": {},
   "source": [
    "# Creating Folders for Data and Plots\n",
    "\n",
    "Within the data folder, create three more folders, water_vapor, output_plots, and one with a name describing this run or experiment.\n"
   ]
  },
  {
   "cell_type": "code",
   "execution_count": null,
   "metadata": {},
   "outputs": [],
   "source": [
    "#Paths to Local Data\n",
    "path_to_water_vapor_data = pathlib.Path(\"../../data/opus_files/water_vapor\")\n",
    "path_to_output_plots_= pathlib.Path(\"../../data/output_plots/\")\n",
    "path_to_FILL_IN_data = pathlib.Path(\"../../data/opus_files/FILL_IN\")"
   ]
  },
  {
   "cell_type": "markdown",
   "metadata": {},
   "source": [
    "### Workflow Overview\n",
    "The function called below `import_run_data`, creates a dict full of ProSpecPy objects, with empty attributes to be completed in the each of the following steps. For each of these steps, the function will write a corresponding plot labeled with the name of the sample to a folder describing the sample and step, within the `output_plots` directory specified above.\n"
   ]
  },
  {
   "cell_type": "code",
   "execution_count": null,
   "metadata": {},
   "outputs": [],
   "source": [
    "FILL_IN_raw_data = import_run_data(path_to_FILL_IN_data, input_type=\"raw spectra\", output_folder = '../../output_plots/')\n",
    "wv_data = import_run_data(path_to_water_vapor_data)"
   ]
  },
  {
   "cell_type": "markdown",
   "metadata": {},
   "source": [
    "# Subtracting water vapor from raw spectra"
   ]
  },
  {
   "cell_type": "markdown",
   "metadata": {},
   "source": [
    "Make sure to define the desired wave numbers for `range_start` and `range_end` which best fit your sample run."
   ]
  },
  {
   "cell_type": "code",
   "execution_count": null,
   "metadata": {},
   "outputs": [],
   "source": [
    "#Initializing dict of post water vapor subtraction spectra\n",
    "cut_range_subtract_prospecpy_objects(FILL_IN_raw_data, wv_data, range_start = 2150, range_end = 1850, showplots=False, verbose= True)\n",
    "#pD6_raw_data[].cut_subtracted_data"
   ]
  },
  {
   "cell_type": "markdown",
   "metadata": {},
   "source": [
    "## Get the second derivatives"
   ]
  },
  {
   "cell_type": "code",
   "execution_count": null,
   "metadata": {},
   "outputs": [],
   "source": [
    "second_deriv_prospecpy_objects(FILL_IN_raw_data, show_plots=False, verbose = True)"
   ]
  },
  {
   "cell_type": "markdown",
   "metadata": {},
   "source": [
    "## Using a user interface please select the appropriate number of peaks using the threshold variable and number of anchor points using adjustment factor variable"
   ]
  },
  {
   "cell_type": "markdown",
   "metadata": {},
   "source": [
    "Be sure to do this for each sample in the run, otherwise the notebook will give you some warnings."
   ]
  },
  {
   "cell_type": "code",
   "execution_count": null,
   "metadata": {},
   "outputs": [],
   "source": [
    "interact(FILL_IN_raw_data,0.4,1.8)"
   ]
  },
  {
   "cell_type": "markdown",
   "metadata": {},
   "source": [
    "# Baseline correction and cruve fit for an example spectra workflow:"
   ]
  },
  {
   "cell_type": "markdown",
   "metadata": {},
   "source": [
    "## Fit baseline spline through these anchor points to be used for baseline correction of raw spectra"
   ]
  },
  {
   "cell_type": "code",
   "execution_count": null,
   "metadata": {},
   "outputs": [],
   "source": [
    "baseline_correction_prospecpy_objects(FILL_IN_raw_data, showplot = True, save = True, verbose = True)"
   ]
  },
  {
   "cell_type": "markdown",
   "metadata": {},
   "source": [
    "# Fitting gaussian and lorentizian curves on the baseline corrected data"
   ]
  },
  {
   "cell_type": "markdown",
   "metadata": {},
   "source": [
    "Please keep in mind, as of May 2nd, 2025, the following cells do not reliably fit functions to the baseline corrected curves. We have an open [issue](https://github.com/ProSpecPy/ProSpecPy/issues/12) to revert to a prior version of the software where users can enter their own guesses for the peaks, and fit the functions like so."
   ]
  },
  {
   "cell_type": "code",
   "execution_count": null,
   "metadata": {},
   "outputs": [],
   "source": [
    "test_object = FIIL_IN_raw_data[0]\n",
    "test_object.baseline_corrected_abs\n"
   ]
  },
  {
   "cell_type": "code",
   "execution_count": null,
   "metadata": {},
   "outputs": [],
   "source": [
    "gaussian_fit_prospecpy_objects(FILL_IN_raw_data, show_plots = True, save = True, verbose = True)"
   ]
  },
  {
   "cell_type": "code",
   "execution_count": null,
   "metadata": {},
   "outputs": [],
   "source": [
    "lorentzian_fit_prospecpy_objects(FILL_IN_raw_data, show_plots = True, save = True, verbose = True)"
   ]
  }
 ],
 "metadata": {
  "kernelspec": {
   "display_name": "hydrogen",
   "language": "python",
   "name": "python3"
  },
  "language_info": {
   "codemirror_mode": {
    "name": "ipython",
    "version": 3
   },
   "file_extension": ".py",
   "mimetype": "text/x-python",
   "name": "python",
   "nbconvert_exporter": "python",
   "pygments_lexer": "ipython3",
   "version": "3.11.5"
  }
 },
 "nbformat": 4,
 "nbformat_minor": 2
}
