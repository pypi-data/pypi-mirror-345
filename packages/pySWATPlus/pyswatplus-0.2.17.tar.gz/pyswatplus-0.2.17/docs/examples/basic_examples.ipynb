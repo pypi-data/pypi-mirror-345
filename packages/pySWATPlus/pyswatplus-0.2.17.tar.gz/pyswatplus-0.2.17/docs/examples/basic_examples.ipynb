{
 "cells": [
  {
   "cell_type": "code",
   "execution_count": 1,
   "metadata": {},
   "outputs": [],
   "source": [
    "%load_ext autoreload"
   ]
  },
  {
   "cell_type": "markdown",
   "metadata": {},
   "source": [
    "# SWAT+ Model Simulation with `pySWATPlus`\n",
    "\n",
    "This notebook demonstrates how to use the `pySWATPlus` library to interact with SWAT+ models, modify input files, and run simulations. We'll cover the following steps:\n",
    "\n",
    "- **Loading the necessary libraries.**\n",
    "- **Initializing the `TxtinoutReader` to interact with the SWAT+ model.**\n",
    "- **Reading and modifying input files (e.g., `plants.plt`).**\n",
    "- **Running the SWAT+ simulation and analyzing results.**\n",
    "- **Running multiple simulations in parallel.**\n",
    "\n",
    "Let’s get started!\n",
    "\n",
    "---\n",
    "\n",
    "## 1. Importing Required Libraries\n",
    "\n",
    "First, we import the `pySWATPlus` module.\n"
   ]
  },
  {
   "cell_type": "code",
   "execution_count": 2,
   "metadata": {},
   "outputs": [],
   "source": [
    "from pySWATPlus import TxtinoutReader"
   ]
  },
  {
   "cell_type": "markdown",
   "metadata": {},
   "source": [
    "---\n",
    "\n",
    "## 2. Setting Up the SWAT+ Model\n",
    "\n",
    "To work with a SWAT+ model, we need to specify the path to the `txtinout` folder. This folder contains all the input files required for the simulation, including the SWAT+ executable."
   ]
  },
  {
   "cell_type": "code",
   "execution_count": 3,
   "metadata": {},
   "outputs": [],
   "source": [
    "# Path to the SWAT+ model folder\n",
    "txtinout_folder = '/mnt/c/Users/joans/OneDrive/Escriptori/icra/muga_windows'\n",
    "filename =  'plants.plt'"
   ]
  },
  {
   "cell_type": "markdown",
   "metadata": {},
   "source": [
    "---\n",
    "## 3. Initializing the `TxtinoutReader`\n",
    "\n",
    "The `TxtinoutReader` class is used to interact with the SWAT+ model. It allows us to read, modify, and run simulations."
   ]
  },
  {
   "cell_type": "code",
   "execution_count": 4,
   "metadata": {},
   "outputs": [],
   "source": [
    "# Initialize the TxtinoutReader\n",
    "# Note: The folder must contain a .exe file to run the simulation.\n",
    "reader = TxtinoutReader(txtinout_folder)"
   ]
  },
  {
   "cell_type": "markdown",
   "metadata": {},
   "source": [
    "---\n",
    "## 4. Reading Input Files\n",
    "\n",
    "We can read specific input files, such as `plants.plt`, using the `register_file` method. This method returns a `FileReader` object that allows us to manipulate the file.\n"
   ]
  },
  {
   "cell_type": "code",
   "execution_count": 5,
   "metadata": {},
   "outputs": [
    {
     "data": {
      "text/plain": [
       "'plants.plt: written by SWAT+ editor v2.2.0 on 2023-09-25 11:54 for SWAT+ rev.60.5.4\\n'"
      ]
     },
     "execution_count": 5,
     "metadata": {},
     "output_type": "execute_result"
    }
   ],
   "source": [
    "# Read the 'plants.plt' file\n",
    "plants_reader = reader.register_file(\n",
    "    filename, \n",
    "    has_units=False,  # Indicates if the file has units information\n",
    "    index='name'      # Use the 'name' column as the index\n",
    ")\n",
    "\n",
    "# Display the header of the file\n",
    "plants_reader.header_file"
   ]
  },
  {
   "cell_type": "markdown",
   "metadata": {},
   "source": [
    "---\n",
    "## 5. Exploring the Input Data \n",
    "\n",
    "The `plants.plt` file contains information about different plant species used in the SWAT+ model. Let’s take a look at the data."
   ]
  },
  {
   "cell_type": "code",
   "execution_count": 6,
   "metadata": {},
   "outputs": [
    {
     "data": {
      "text/html": [
       "<div>\n",
       "<style scoped>\n",
       "    .dataframe tbody tr th:only-of-type {\n",
       "        vertical-align: middle;\n",
       "    }\n",
       "\n",
       "    .dataframe tbody tr th {\n",
       "        vertical-align: top;\n",
       "    }\n",
       "\n",
       "    .dataframe thead th {\n",
       "        text-align: right;\n",
       "    }\n",
       "</style>\n",
       "<table border=\"1\" class=\"dataframe\">\n",
       "  <thead>\n",
       "    <tr style=\"text-align: right;\">\n",
       "      <th></th>\n",
       "      <th>name</th>\n",
       "      <th>plnt_typ</th>\n",
       "      <th>gro_trig</th>\n",
       "      <th>nfix_co</th>\n",
       "      <th>days_mat</th>\n",
       "      <th>bm_e</th>\n",
       "      <th>harv_idx</th>\n",
       "      <th>lai_pot</th>\n",
       "      <th>frac_hu1</th>\n",
       "      <th>lai_max1</th>\n",
       "      <th>...</th>\n",
       "      <th>rt_st_end</th>\n",
       "      <th>plnt_pop1</th>\n",
       "      <th>frac_lai1</th>\n",
       "      <th>plnt_pop2</th>\n",
       "      <th>frac_lai2</th>\n",
       "      <th>frac_sw_gro</th>\n",
       "      <th>aeration</th>\n",
       "      <th>wnd_dead</th>\n",
       "      <th>wnd_flat</th>\n",
       "      <th>description</th>\n",
       "    </tr>\n",
       "    <tr>\n",
       "      <th></th>\n",
       "      <th></th>\n",
       "      <th></th>\n",
       "      <th></th>\n",
       "      <th></th>\n",
       "      <th></th>\n",
       "      <th></th>\n",
       "      <th></th>\n",
       "      <th></th>\n",
       "      <th></th>\n",
       "      <th></th>\n",
       "      <th></th>\n",
       "      <th></th>\n",
       "      <th></th>\n",
       "      <th></th>\n",
       "      <th></th>\n",
       "      <th></th>\n",
       "      <th></th>\n",
       "      <th></th>\n",
       "      <th></th>\n",
       "      <th></th>\n",
       "      <th></th>\n",
       "    </tr>\n",
       "  </thead>\n",
       "  <tbody>\n",
       "    <tr>\n",
       "      <th>agrc</th>\n",
       "      <td>agrc</td>\n",
       "      <td>cold_annual</td>\n",
       "      <td>temp_gro</td>\n",
       "      <td>0.0</td>\n",
       "      <td>110.0</td>\n",
       "      <td>40.0</td>\n",
       "      <td>0.40</td>\n",
       "      <td>4.0</td>\n",
       "      <td>0.05</td>\n",
       "      <td>0.05</td>\n",
       "      <td>...</td>\n",
       "      <td>0.0</td>\n",
       "      <td>0.0</td>\n",
       "      <td>0.0</td>\n",
       "      <td>0.0</td>\n",
       "      <td>0.0</td>\n",
       "      <td>0.5</td>\n",
       "      <td>0.0</td>\n",
       "      <td>0.0</td>\n",
       "      <td>0.0</td>\n",
       "      <td>agricultural_land_close_grown</td>\n",
       "    </tr>\n",
       "    <tr>\n",
       "      <th>agrl</th>\n",
       "      <td>agrl</td>\n",
       "      <td>warm_annual</td>\n",
       "      <td>temp_gro</td>\n",
       "      <td>0.0</td>\n",
       "      <td>110.0</td>\n",
       "      <td>50.0</td>\n",
       "      <td>0.45</td>\n",
       "      <td>3.0</td>\n",
       "      <td>0.15</td>\n",
       "      <td>0.05</td>\n",
       "      <td>...</td>\n",
       "      <td>0.0</td>\n",
       "      <td>0.0</td>\n",
       "      <td>0.0</td>\n",
       "      <td>0.0</td>\n",
       "      <td>0.0</td>\n",
       "      <td>0.5</td>\n",
       "      <td>0.0</td>\n",
       "      <td>0.0</td>\n",
       "      <td>0.0</td>\n",
       "      <td>agricultural_land_generic</td>\n",
       "    </tr>\n",
       "    <tr>\n",
       "      <th>agrr</th>\n",
       "      <td>agrr</td>\n",
       "      <td>warm_annual</td>\n",
       "      <td>temp_gro</td>\n",
       "      <td>0.0</td>\n",
       "      <td>110.0</td>\n",
       "      <td>50.0</td>\n",
       "      <td>0.50</td>\n",
       "      <td>3.0</td>\n",
       "      <td>0.15</td>\n",
       "      <td>0.05</td>\n",
       "      <td>...</td>\n",
       "      <td>0.0</td>\n",
       "      <td>0.0</td>\n",
       "      <td>0.0</td>\n",
       "      <td>0.0</td>\n",
       "      <td>0.0</td>\n",
       "      <td>0.5</td>\n",
       "      <td>0.0</td>\n",
       "      <td>0.0</td>\n",
       "      <td>0.0</td>\n",
       "      <td>agricultural_land_row</td>\n",
       "    </tr>\n",
       "    <tr>\n",
       "      <th>alfa</th>\n",
       "      <td>alfa</td>\n",
       "      <td>perennial</td>\n",
       "      <td>temp_gro</td>\n",
       "      <td>0.5</td>\n",
       "      <td>0.0</td>\n",
       "      <td>50.0</td>\n",
       "      <td>0.90</td>\n",
       "      <td>5.0</td>\n",
       "      <td>0.15</td>\n",
       "      <td>0.01</td>\n",
       "      <td>...</td>\n",
       "      <td>0.0</td>\n",
       "      <td>0.0</td>\n",
       "      <td>0.0</td>\n",
       "      <td>0.0</td>\n",
       "      <td>0.0</td>\n",
       "      <td>0.5</td>\n",
       "      <td>0.0</td>\n",
       "      <td>0.0</td>\n",
       "      <td>0.0</td>\n",
       "      <td>alfalfa</td>\n",
       "    </tr>\n",
       "    <tr>\n",
       "      <th>almd</th>\n",
       "      <td>almd</td>\n",
       "      <td>perennial</td>\n",
       "      <td>temp_gro</td>\n",
       "      <td>0.0</td>\n",
       "      <td>0.0</td>\n",
       "      <td>50.0</td>\n",
       "      <td>0.05</td>\n",
       "      <td>1.2</td>\n",
       "      <td>0.05</td>\n",
       "      <td>0.05</td>\n",
       "      <td>...</td>\n",
       "      <td>0.0</td>\n",
       "      <td>0.0</td>\n",
       "      <td>0.0</td>\n",
       "      <td>0.0</td>\n",
       "      <td>0.0</td>\n",
       "      <td>0.5</td>\n",
       "      <td>0.0</td>\n",
       "      <td>0.0</td>\n",
       "      <td>0.0</td>\n",
       "      <td>almond</td>\n",
       "    </tr>\n",
       "  </tbody>\n",
       "</table>\n",
       "<p>5 rows × 54 columns</p>\n",
       "</div>"
      ],
      "text/plain": [
       "      name     plnt_typ  gro_trig  nfix_co  days_mat  bm_e  harv_idx  lai_pot  \\\n",
       "                                                                                \n",
       "agrc  agrc  cold_annual  temp_gro      0.0     110.0  40.0      0.40      4.0   \n",
       "agrl  agrl  warm_annual  temp_gro      0.0     110.0  50.0      0.45      3.0   \n",
       "agrr  agrr  warm_annual  temp_gro      0.0     110.0  50.0      0.50      3.0   \n",
       "alfa  alfa    perennial  temp_gro      0.5       0.0  50.0      0.90      5.0   \n",
       "almd  almd    perennial  temp_gro      0.0       0.0  50.0      0.05      1.2   \n",
       "\n",
       "      frac_hu1  lai_max1  ...  rt_st_end  plnt_pop1  frac_lai1  plnt_pop2  \\\n",
       "                          ...                                               \n",
       "agrc      0.05      0.05  ...        0.0        0.0        0.0        0.0   \n",
       "agrl      0.15      0.05  ...        0.0        0.0        0.0        0.0   \n",
       "agrr      0.15      0.05  ...        0.0        0.0        0.0        0.0   \n",
       "alfa      0.15      0.01  ...        0.0        0.0        0.0        0.0   \n",
       "almd      0.05      0.05  ...        0.0        0.0        0.0        0.0   \n",
       "\n",
       "      frac_lai2  frac_sw_gro  aeration  wnd_dead  wnd_flat  \\\n",
       "                                                             \n",
       "agrc        0.0          0.5       0.0       0.0       0.0   \n",
       "agrl        0.0          0.5       0.0       0.0       0.0   \n",
       "agrr        0.0          0.5       0.0       0.0       0.0   \n",
       "alfa        0.0          0.5       0.0       0.0       0.0   \n",
       "almd        0.0          0.5       0.0       0.0       0.0   \n",
       "\n",
       "                        description  \n",
       "                                     \n",
       "agrc  agricultural_land_close_grown  \n",
       "agrl      agricultural_land_generic  \n",
       "agrr          agricultural_land_row  \n",
       "alfa                        alfalfa  \n",
       "almd                         almond  \n",
       "\n",
       "[5 rows x 54 columns]"
      ]
     },
     "execution_count": 6,
     "metadata": {},
     "output_type": "execute_result"
    }
   ],
   "source": [
    "# Display the first few rows of the 'plants.plt' file\n",
    "plants_reader.df.head()"
   ]
  },
  {
   "cell_type": "markdown",
   "metadata": {},
   "source": [
    "---\n",
    "## 6. Modifying Input Parameters\n",
    "\n",
    "We can modify the input parameters directly in the DataFrame. For example, let’s change the `bm_e` (biomass-energy ratio) for the `agrc` plant."
   ]
  },
  {
   "cell_type": "code",
   "execution_count": 7,
   "metadata": {},
   "outputs": [],
   "source": [
    "# Modify the 'bm_e' value for the 'agrc' plant\n",
    "plants_reader.df.loc['agrc', 'bm_e'] = 40\n",
    "\n",
    "# Save the changes back to the file\n",
    "plants_reader.overwrite_file()"
   ]
  },
  {
   "cell_type": "markdown",
   "metadata": {},
   "source": [
    "---\n",
    "## 7. Running the SWAT+ Simulation\n",
    "\n",
    "Now that we’ve modified the input file, let’s run the SWAT+ simulation. We can also specify additional parameters, such as the simulation period and warmup period."
   ]
  },
  {
   "cell_type": "code",
   "execution_count": 8,
   "metadata": {},
   "outputs": [],
   "source": [
    "# Set the beginning and end years for the simulation\n",
    "reader.set_beginning_and_end_year(2009, 2011)\n",
    "\n",
    "# Set the warmup period (in years)\n",
    "reader.set_warmup(1)\n",
    "\n",
    "# Enable the 'channel_sd' object in the 'print.prt' file for daily output\n",
    "reader.enable_object_in_print_prt(obj='channel_sd', daily=True, monthly=False, yearly=False, avann=False)"
   ]
  },
  {
   "cell_type": "markdown",
   "metadata": {},
   "source": [
    "### Handling Simulation Output\n",
    "\n",
    "To avoid cluttering the notebook with long simulation output:\n",
    "- Set `show_output=False` to suppress all output.\n",
    "- Use `%%capture` to store the output and print only a portion (e.g., the first 20 lines)."
   ]
  },
  {
   "cell_type": "code",
   "execution_count": 9,
   "metadata": {},
   "outputs": [],
   "source": [
    "%%capture captured_output\n",
    "simulation_path = reader.run_swat(show_output=True)"
   ]
  },
  {
   "cell_type": "code",
   "execution_count": 10,
   "metadata": {},
   "outputs": [
    {
     "name": "stdout",
     "output_type": "stream",
     "text": [
      "Simulation Output (First 20 Lines):\n",
      "SWAT+\n",
      "Revision 60.5.7\n",
      "Soil & Water Assessment Tool\n",
      "PC Version\n",
      "Program reading . . . executing\n",
      "Date of Sim   3/23/2025 Time  19:59: 1\n",
      "reading from precipitation file         Time  19:59: 1\n",
      "reading from temperature file           Time  19:59: 1\n",
      "reading from solar radiation file       Time  19:59: 2\n",
      "reading from relative humidity file     Time  19:59: 2\n",
      "reading from wind file                  Time  19:59: 2\n",
      "reading from wgn file                   Time  19:59: 3\n",
      "reading from wx station file            Time  19:59: 3\n",
      "Original Simulation        1   1  2009 Yr    1 of    3 Time  19:59: 4\n",
      "Original Simulation        1   2  2009 Yr    1 of    3 Time  19:59: 4\n",
      "Original Simulation        1   3  2009 Yr    1 of    3 Time  19:59: 4\n",
      "Original Simulation        1   4  2009 Yr    1 of    3 Time  19:59: 5\n",
      "Original Simulation        1   5  2009 Yr    1 of    3 Time  19:59: 5\n",
      "Original Simulation        1   6  2009 Yr    1 of    3 Time  19:59: 5\n",
      "Original Simulation        1   7  2009 Yr    1 of    3 Time  19:59: 5\n"
     ]
    }
   ],
   "source": [
    "# Print the first 20 lines of the output\n",
    "print(\"Simulation Output (First 20 Lines):\")\n",
    "print(\"\\n\".join(captured_output.stdout.splitlines()[:20]))"
   ]
  },
  {
   "cell_type": "markdown",
   "metadata": {},
   "source": [
    "---\n",
    "## 8. Reading Simulation Results\n",
    "\n",
    "After running the simulation, we can read the results from the output files. For example, let’s read the daily channel output (`channel_sd_day.txt`)."
   ]
  },
  {
   "cell_type": "code",
   "execution_count": 11,
   "metadata": {},
   "outputs": [
    {
     "data": {
      "text/html": [
       "<div>\n",
       "<style scoped>\n",
       "    .dataframe tbody tr th:only-of-type {\n",
       "        vertical-align: middle;\n",
       "    }\n",
       "\n",
       "    .dataframe tbody tr th {\n",
       "        vertical-align: top;\n",
       "    }\n",
       "\n",
       "    .dataframe thead th {\n",
       "        text-align: right;\n",
       "    }\n",
       "</style>\n",
       "<table border=\"1\" class=\"dataframe\">\n",
       "  <thead>\n",
       "    <tr style=\"text-align: right;\">\n",
       "      <th></th>\n",
       "      <th>jday</th>\n",
       "      <th>mon</th>\n",
       "      <th>day</th>\n",
       "      <th>yr</th>\n",
       "      <th>unit</th>\n",
       "      <th>gis_id</th>\n",
       "      <th>name</th>\n",
       "      <th>area</th>\n",
       "      <th>precip</th>\n",
       "      <th>evap</th>\n",
       "      <th>...</th>\n",
       "      <th>cbod_out</th>\n",
       "      <th>dox_out</th>\n",
       "      <th>san_out</th>\n",
       "      <th>sil_out</th>\n",
       "      <th>cla_out</th>\n",
       "      <th>sag_out</th>\n",
       "      <th>lag_out</th>\n",
       "      <th>grv_out</th>\n",
       "      <th>null.2</th>\n",
       "      <th>water_temp</th>\n",
       "    </tr>\n",
       "  </thead>\n",
       "  <tbody>\n",
       "    <tr>\n",
       "      <th>0</th>\n",
       "      <td>1.0</td>\n",
       "      <td>1.0</td>\n",
       "      <td>1.0</td>\n",
       "      <td>2010.0</td>\n",
       "      <td>1.0</td>\n",
       "      <td>1.0</td>\n",
       "      <td>cha01</td>\n",
       "      <td>22.360</td>\n",
       "      <td>1521.00</td>\n",
       "      <td>119.30</td>\n",
       "      <td>...</td>\n",
       "      <td>869.100</td>\n",
       "      <td>278.100</td>\n",
       "      <td>0.0</td>\n",
       "      <td>0.0</td>\n",
       "      <td>0.0</td>\n",
       "      <td>0.0</td>\n",
       "      <td>0.0</td>\n",
       "      <td>0.0</td>\n",
       "      <td>10.74</td>\n",
       "      <td>10.74</td>\n",
       "    </tr>\n",
       "    <tr>\n",
       "      <th>1</th>\n",
       "      <td>1.0</td>\n",
       "      <td>1.0</td>\n",
       "      <td>1.0</td>\n",
       "      <td>2010.0</td>\n",
       "      <td>2.0</td>\n",
       "      <td>2.0</td>\n",
       "      <td>cha02</td>\n",
       "      <td>24.660</td>\n",
       "      <td>616.40</td>\n",
       "      <td>132.10</td>\n",
       "      <td>...</td>\n",
       "      <td>1.564</td>\n",
       "      <td>33.480</td>\n",
       "      <td>0.0</td>\n",
       "      <td>0.0</td>\n",
       "      <td>0.0</td>\n",
       "      <td>0.0</td>\n",
       "      <td>0.0</td>\n",
       "      <td>0.0</td>\n",
       "      <td>10.70</td>\n",
       "      <td>10.74</td>\n",
       "    </tr>\n",
       "    <tr>\n",
       "      <th>2</th>\n",
       "      <td>1.0</td>\n",
       "      <td>1.0</td>\n",
       "      <td>1.0</td>\n",
       "      <td>2010.0</td>\n",
       "      <td>3.0</td>\n",
       "      <td>3.0</td>\n",
       "      <td>cha03</td>\n",
       "      <td>2.618</td>\n",
       "      <td>133.50</td>\n",
       "      <td>14.14</td>\n",
       "      <td>...</td>\n",
       "      <td>5.037</td>\n",
       "      <td>23.630</td>\n",
       "      <td>0.0</td>\n",
       "      <td>0.0</td>\n",
       "      <td>0.0</td>\n",
       "      <td>0.0</td>\n",
       "      <td>0.0</td>\n",
       "      <td>0.0</td>\n",
       "      <td>10.53</td>\n",
       "      <td>10.74</td>\n",
       "    </tr>\n",
       "    <tr>\n",
       "      <th>3</th>\n",
       "      <td>1.0</td>\n",
       "      <td>1.0</td>\n",
       "      <td>1.0</td>\n",
       "      <td>2010.0</td>\n",
       "      <td>4.0</td>\n",
       "      <td>4.0</td>\n",
       "      <td>cha04</td>\n",
       "      <td>2.999</td>\n",
       "      <td>74.96</td>\n",
       "      <td>16.06</td>\n",
       "      <td>...</td>\n",
       "      <td>1.831</td>\n",
       "      <td>23.070</td>\n",
       "      <td>0.0</td>\n",
       "      <td>0.0</td>\n",
       "      <td>0.0</td>\n",
       "      <td>0.0</td>\n",
       "      <td>0.0</td>\n",
       "      <td>0.0</td>\n",
       "      <td>10.70</td>\n",
       "      <td>10.74</td>\n",
       "    </tr>\n",
       "    <tr>\n",
       "      <th>4</th>\n",
       "      <td>1.0</td>\n",
       "      <td>1.0</td>\n",
       "      <td>1.0</td>\n",
       "      <td>2010.0</td>\n",
       "      <td>5.0</td>\n",
       "      <td>5.0</td>\n",
       "      <td>cha05</td>\n",
       "      <td>8.043</td>\n",
       "      <td>160.90</td>\n",
       "      <td>43.47</td>\n",
       "      <td>...</td>\n",
       "      <td>84.530</td>\n",
       "      <td>7.442</td>\n",
       "      <td>0.0</td>\n",
       "      <td>0.0</td>\n",
       "      <td>0.0</td>\n",
       "      <td>0.0</td>\n",
       "      <td>0.0</td>\n",
       "      <td>0.0</td>\n",
       "      <td>12.29</td>\n",
       "      <td>10.74</td>\n",
       "    </tr>\n",
       "  </tbody>\n",
       "</table>\n",
       "<p>5 rows × 66 columns</p>\n",
       "</div>"
      ],
      "text/plain": [
       "   jday  mon  day      yr  unit  gis_id   name    area   precip    evap  ...  \\\n",
       "0   1.0  1.0  1.0  2010.0   1.0     1.0  cha01  22.360  1521.00  119.30  ...   \n",
       "1   1.0  1.0  1.0  2010.0   2.0     2.0  cha02  24.660   616.40  132.10  ...   \n",
       "2   1.0  1.0  1.0  2010.0   3.0     3.0  cha03   2.618   133.50   14.14  ...   \n",
       "3   1.0  1.0  1.0  2010.0   4.0     4.0  cha04   2.999    74.96   16.06  ...   \n",
       "4   1.0  1.0  1.0  2010.0   5.0     5.0  cha05   8.043   160.90   43.47  ...   \n",
       "\n",
       "   cbod_out  dox_out  san_out  sil_out  cla_out  sag_out  lag_out  grv_out  \\\n",
       "0   869.100  278.100      0.0      0.0      0.0      0.0      0.0      0.0   \n",
       "1     1.564   33.480      0.0      0.0      0.0      0.0      0.0      0.0   \n",
       "2     5.037   23.630      0.0      0.0      0.0      0.0      0.0      0.0   \n",
       "3     1.831   23.070      0.0      0.0      0.0      0.0      0.0      0.0   \n",
       "4    84.530    7.442      0.0      0.0      0.0      0.0      0.0      0.0   \n",
       "\n",
       "   null.2  water_temp  \n",
       "0   10.74       10.74  \n",
       "1   10.70       10.74  \n",
       "2   10.53       10.74  \n",
       "3   10.70       10.74  \n",
       "4   12.29       10.74  \n",
       "\n",
       "[5 rows x 66 columns]"
      ]
     },
     "execution_count": 11,
     "metadata": {},
     "output_type": "execute_result"
    }
   ],
   "source": [
    "# Read the daily channel output\n",
    "channel_sd = reader.register_file('channel_sd_day.txt', has_units=True)\n",
    "\n",
    "# Display the first few rows of the results\n",
    "channel_sd.df.head()"
   ]
  },
  {
   "cell_type": "markdown",
   "metadata": {},
   "source": [
    "---\n",
    "## 9. Running SWAT+ with Specific Modifications\n",
    "\n",
    "Instead of modifying input files manually, you can directly specify the modifications when running the simulation. This is useful for quickly testing different scenarios.\n",
    "\n",
    "#### Option 1: Modify Specific Values\n",
    "You can specify the file, column, and value to modify. For example, let’s change the `bm_e` value for the `agrc` plant."
   ]
  },
  {
   "cell_type": "code",
   "execution_count": 12,
   "metadata": {},
   "outputs": [
    {
     "data": {
      "text/plain": [
       "PosixPath('/mnt/c/Users/joans/OneDrive/Escriptori/icra/muga_windows')"
      ]
     },
     "execution_count": 12,
     "metadata": {},
     "output_type": "execute_result"
    }
   ],
   "source": [
    "# Run the simulation with specific modifications\n",
    "txtinout_path = reader.run_swat(\n",
    "    params={'plants.plt': ('name', [('agrc', 'bm_e', 40)])}, \n",
    "    show_output=False\n",
    ")\n",
    "txtinout_path"
   ]
  },
  {
   "cell_type": "markdown",
   "metadata": {},
   "source": [
    "#### Option 2: Use Regular Expressions\n",
    "You can also use regular expressions to select rows for modification. For example, let’s modify the `bm_e` value for all plants whose names start with the letter \"A\".\n"
   ]
  },
  {
   "cell_type": "code",
   "execution_count": 13,
   "metadata": {},
   "outputs": [
    {
     "data": {
      "text/plain": [
       "PosixPath('/mnt/c/Users/joans/OneDrive/Escriptori/icra/muga_windows')"
      ]
     },
     "execution_count": 13,
     "metadata": {},
     "output_type": "execute_result"
    }
   ],
   "source": [
    "# Run the simulation using a regular expression to select rows\n",
    "txtinout_path = reader.run_swat(\n",
    "    params={'plants.plt': ('name', [(r'^A.*', 'bm_e', 40)])}, \n",
    "    show_output=False\n",
    ")\n",
    "txtinout_path"
   ]
  },
  {
   "cell_type": "markdown",
   "metadata": {},
   "source": [
    "---\n",
    "\n",
    "## 10. Running Multiple Simulations in Parallel\n",
    "\n",
    "If you need to run multiple simulations with different parameters, you can use the `run_parallel_swat` method. This allows you to run simulations in parallel using multiple threads or processes."
   ]
  },
  {
   "cell_type": "code",
   "execution_count": 14,
   "metadata": {},
   "outputs": [
    {
     "data": {
      "text/plain": [
       "[PosixPath('/tmp/tmpa7a397py'), PosixPath('/tmp/tmpa227i7m4')]"
      ]
     },
     "execution_count": 14,
     "metadata": {},
     "output_type": "execute_result"
    }
   ],
   "source": [
    "#You can also run multiple simulations in parallel\n",
    "txtinout_paths = reader.run_parallel_swat(params = [{'plants.plt': ('name', [('bana', 'bm_e', 45)])}, {'plants.plt': ('name', [('bana', 'bm_e', 40)])}], n_workers = 2, parallelization='threads')\n",
    "txtinout_paths"
   ]
  }
 ],
 "metadata": {
  "kernelspec": {
   "display_name": "pyswatplus",
   "language": "python",
   "name": "python3"
  },
  "language_info": {
   "codemirror_mode": {
    "name": "ipython",
    "version": 3
   },
   "file_extension": ".py",
   "mimetype": "text/x-python",
   "name": "python",
   "nbconvert_exporter": "python",
   "pygments_lexer": "ipython3",
   "version": "undefined.undefined.undefined"
  }
 },
 "nbformat": 4,
 "nbformat_minor": 2
}
