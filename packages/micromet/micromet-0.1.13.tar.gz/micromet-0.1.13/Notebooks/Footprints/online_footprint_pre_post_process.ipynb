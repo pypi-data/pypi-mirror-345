{
 "cells": [
  {
   "cell_type": "code",
   "execution_count": null,
   "id": "initial_id",
   "metadata": {
    "collapsed": true
   },
   "outputs": [],
   "source": [
    "f_2d = np.array(temp_ffp['fclim_2d'])\n",
    "x_2d = np.array(temp_ffp['x_2d']) + station_x\n",
    "y_2d = np.array(temp_ffp['y_2d']) + station_y\n",
    "f_2d = f_2d*dx**2\n",
    "\n",
    "#Calculate affine transform for given x_2d and y_2d\n",
    "affine_transform = ffp.find_transform(y_2d,x_2d)\n",
    "\n",
    "#Create data file if not already created\n",
    "if new_dat is None:\n",
    "    out_f = f\"C:/Users/paulinkenbrandt/Documents/GitHub/MicroMet/station_config/output/a{date}_{station}.tif\"\n",
    "    #out_f = f'../../station_config/output/a{date}_{station}.tif'\n",
    "    print(f_2d.shape)\n",
    "    new_dat = rasterio.open(out_f,'w',driver='GTiff',dtype=rasterio.float64,\n",
    "                            count=len(hours),height=f_2d.shape[0],width=f_2d.shape[1],\n",
    "                            transform=affine_transform,\n",
    "                            crs=transformer.target_crs,\n",
    "                            nodata=0.00000000e+000)"
   ]
  }
 ],
 "metadata": {
  "kernelspec": {
   "display_name": "Python 3",
   "language": "python",
   "name": "python3"
  },
  "language_info": {
   "codemirror_mode": {
    "name": "ipython",
    "version": 2
   },
   "file_extension": ".py",
   "mimetype": "text/x-python",
   "name": "python",
   "nbconvert_exporter": "python",
   "pygments_lexer": "ipython2",
   "version": "2.7.6"
  }
 },
 "nbformat": 4,
 "nbformat_minor": 5
}
