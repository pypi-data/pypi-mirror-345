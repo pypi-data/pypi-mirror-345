{
 "cells": [
  {
   "cell_type": "markdown",
   "id": "0c2eaaf0",
   "metadata": {},
   "source": []
  },
  {
   "cell_type": "markdown",
   "id": "0761bf6d",
   "metadata": {},
   "source": [
    "### Example of Use "
   ]
  },
  {
   "cell_type": "code",
   "execution_count": null,
   "id": "792262f3",
   "metadata": {},
   "outputs": [],
   "source": [
    "from agrihealth import FoliumMap, LeafletMap"
   ]
  },
  {
   "cell_type": "markdown",
   "id": "0a9dd173",
   "metadata": {},
   "source": [
    "Using FoliumMap"
   ]
  },
  {
   "cell_type": "code",
   "execution_count": null,
   "id": "78f06d67",
   "metadata": {},
   "outputs": [],
   "source": [
    "# Example usage:\n",
    "m = FoliumMap(center=(40.7128, -74.0060), zoom_start=12)\n",
    "m.add_basemap(\"OpenStreetMap\")\n",
    "m\n",
    "\n"
   ]
  },
  {
   "cell_type": "code",
   "execution_count": null,
   "id": "36adf60b",
   "metadata": {},
   "outputs": [],
   "source": [
    "m = FoliumMap(center=(-12.6814, -55.4853), zoom_start=6, height=600)\n",
    "m.add_basemap(\"OpenStreetMap\")\n",
    "\n",
    "# Add GeoJSON file\n",
    "geojson_url = \"./data/State of Mato Grosso, Brazil.geojson\"\n",
    "m.add_geojson(geojson_url)\n",
    "m"
   ]
  },
  {
   "cell_type": "code",
   "execution_count": null,
   "id": "6b4285e9",
   "metadata": {},
   "outputs": [],
   "source": [
    "# Add shapefile\n",
    "shapefile_path = \"./data/MT_Municipios_2024/MT_Municipios_2024.shp\"\n",
    "m.add_shp(shapefile_path)\n",
    "m"
   ]
  },
  {
   "cell_type": "markdown",
   "id": "d30e5e65",
   "metadata": {},
   "source": [
    "Using LeafletMap\n"
   ]
  },
  {
   "cell_type": "code",
   "execution_count": null,
   "id": "0f939cdd",
   "metadata": {},
   "outputs": [],
   "source": [
    "m = LeafletMap(center=(40.7128, -74.0060), zoom=12, height=\"600px\")\n",
    "m.add_basemap(\"Esri Satellite\")\n",
    "m\n"
   ]
  },
  {
   "cell_type": "code",
   "execution_count": null,
   "id": "d7915454",
   "metadata": {},
   "outputs": [],
   "source": [
    "m = LeafletMap(center=(-12.6814, -55.4853), zoom=6, height=\"600px\")\n",
    "m.add_basemap(\"OpenStreetMap\")\n",
    "m.add_geojson(\"./data/State of Mato Grosso, Brazil.geojson\")\n",
    "m\n"
   ]
  },
  {
   "cell_type": "code",
   "execution_count": null,
   "id": "134bac20",
   "metadata": {},
   "outputs": [],
   "source": []
  },
  {
   "cell_type": "code",
   "execution_count": null,
   "id": "d07fae44",
   "metadata": {},
   "outputs": [],
   "source": []
  },
  {
   "cell_type": "code",
   "execution_count": null,
   "id": "a252962a",
   "metadata": {},
   "outputs": [],
   "source": []
  }
 ],
 "metadata": {
  "kernelspec": {
   "display_name": "gis",
   "language": "python",
   "name": "python3"
  },
  "language_info": {
   "codemirror_mode": {
    "name": "ipython",
    "version": 3
   },
   "file_extension": ".py",
   "mimetype": "text/x-python",
   "name": "python",
   "nbconvert_exporter": "python",
   "pygments_lexer": "ipython3",
   "version": "3.12.8"
  }
 },
 "nbformat": 4,
 "nbformat_minor": 5
}
