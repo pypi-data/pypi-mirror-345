{
 "cells": [
  {
   "cell_type": "code",
   "metadata": {
    "jupyter": {
     "is_executing": true
    }
   },
   "source": [
    "from line_solver import *\n",
    "GlobalConstants.setVerbose(VerboseLevel.STD)"
   ],
   "outputs": [],
   "execution_count": null
  },
  {
   "cell_type": "code",
   "metadata": {
    "ExecuteTime": {
     "end_time": "2024-08-21T19:28:57.837297Z",
     "start_time": "2024-08-21T19:28:57.742233Z"
    }
   },
   "source": [
    "model = Network('M/M/1')\n",
    "# Block 1: nodes\n",
    "source = Source(model, 'mySource')\n",
    "queue = Queue(model, 'myQueue', SchedStrategy.FCFS)\n",
    "sink = Sink(model, 'mySink')\n",
    "# Block 2: classes\n",
    "oclass = OpenClass(model, 'myClass')\n",
    "source.setArrival(oclass, Exp(1))\n",
    "queue.setService(oclass, Exp(2))\n",
    "# Block 3: topology\n",
    "model.link(Network.serialRouting(source, queue, sink))"
   ],
   "outputs": [],
   "execution_count": 9
  },
  {
   "cell_type": "code",
   "source": [
    "# Block 4: solution\n",
    "AvgTable = SolverJMT(model, 'seed', 23000, 'verbose', VerboseLevel.SILENT).getAvgTable()"
   ],
   "metadata": {
    "collapsed": false,
    "ExecuteTime": {
     "end_time": "2024-08-21T19:28:58.682341Z",
     "start_time": "2024-08-21T19:28:57.851906Z"
    }
   },
   "outputs": [
    {
     "name": "stdout",
     "output_type": "stream",
     "text": [
      "    Station JobClass    QLen    Util   RespT  ResidT    ArvR    Tput\n",
      "0  mySource  myClass  0.0000  0.0000  0.0000  0.0000  0.0000  0.9989\n",
      "1   myQueue  myClass  0.9555  0.4874  0.9543  0.9543  0.9989  0.9999\n"
     ]
    }
   ],
   "execution_count": 10
  },
  {
   "cell_type": "code",
   "source": [
    "# select a particular table row\n",
    "print(tget(AvgTable, queue, oclass))"
   ],
   "metadata": {
    "collapsed": false,
    "ExecuteTime": {
     "end_time": "2024-08-21T19:28:58.766584Z",
     "start_time": "2024-08-21T19:28:58.751911Z"
    }
   },
   "outputs": [
    {
     "name": "stdout",
     "output_type": "stream",
     "text": [
      "   Station JobClass    QLen    Util   RespT  ResidT    ArvR    Tput\n",
      "1  myQueue  myClass  0.9555  0.4874  0.9543  0.9543  0.9989  0.9999\n"
     ]
    }
   ],
   "execution_count": 11
  },
  {
   "cell_type": "code",
   "source": [
    "# select a particular table row by node and class label\n",
    "print(tget(AvgTable, 'myQueue', 'myClass'))"
   ],
   "metadata": {
    "collapsed": false,
    "ExecuteTime": {
     "end_time": "2024-08-21T19:28:58.913170Z",
     "start_time": "2024-08-21T19:28:58.814239Z"
    }
   },
   "outputs": [
    {
     "name": "stdout",
     "output_type": "stream",
     "text": [
      "   Station JobClass    QLen    Util   RespT  ResidT    ArvR    Tput\n",
      "1  myQueue  myClass  0.9555  0.4874  0.9543  0.9543  0.9989  0.9999\n"
     ]
    }
   ],
   "execution_count": 12
  },
  {
   "metadata": {
    "ExecuteTime": {
     "end_time": "2024-08-21T19:28:59.028412Z",
     "start_time": "2024-08-21T19:28:58.927415Z"
    }
   },
   "cell_type": "code",
   "source": "print(AvgTable['RespT'].tolist())",
   "outputs": [
    {
     "name": "stdout",
     "output_type": "stream",
     "text": [
      "[0.0, 0.9542929280966826]\n"
     ]
    }
   ],
   "execution_count": 13
  },
  {
   "metadata": {
    "ExecuteTime": {
     "end_time": "2024-08-21T19:28:59.151709Z",
     "start_time": "2024-08-21T19:28:59.043128Z"
    }
   },
   "cell_type": "code",
   "source": "print(tget(AvgTable,'myQueue','myClass')['RespT'].tolist())",
   "outputs": [
    {
     "name": "stdout",
     "output_type": "stream",
     "text": [
      "[0.9542929280966826]\n"
     ]
    }
   ],
   "execution_count": 14
  }
 ],
 "metadata": {
  "kernelspec": {
   "display_name": "Python 3",
   "language": "python",
   "name": "python3"
  },
  "language_info": {
   "codemirror_mode": {
    "name": "ipython",
    "version": 3
   },
   "file_extension": ".py",
   "mimetype": "text/x-python",
   "name": "python",
   "nbconvert_exporter": "python",
   "pygments_lexer": "ipython3",
   "version": "3.6.4"
  }
 },
 "nbformat": 4,
 "nbformat_minor": 2
}
