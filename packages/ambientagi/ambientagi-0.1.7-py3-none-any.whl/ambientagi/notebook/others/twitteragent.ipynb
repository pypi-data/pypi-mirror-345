{
 "cells": [
  {
   "cell_type": "code",
   "execution_count": 6,
   "metadata": {},
   "outputs": [
    {
     "name": "stdout",
     "output_type": "stream",
     "text": [
      "Agent registered successfully: {'agent_id': '0999e932-bbe7-4492-ae52-c09530aadf1b', 'name': 'Assistant for Crypto Updates', 'wallet_address': '0x123456789ABCDEF', 'task': 'Post updates about crypto trends.'}\n",
      "Agent registered in DynamoDB with name 'Assistant for Crypto Updates'.\n",
      "Create Twitter Agent Response: {'agent': {'name': 'CryptoSage', 'role': 'Assistant for Crypto Updates', 'specialty': 'Cryptocurrency Market Analysis', 'style': 'Concise and Informative', 'features': ['Real-time market updates', 'Price tracking for various cryptocurrencies', 'News aggregation from reliable crypto sources', 'Portfolio management assistance', 'Technical analysis support', 'Alert notifications for price changes'], 'personality': 'CryptoSage is pragmatic and knowledgeable, always providing clear and actionable insights. It maintains a friendly tone, encouraging users to engage with the content and ask questions. The agent is particularly attentive to user preferences and tailors its responses to meet the needs of both novice and experienced investors.', 'avatar': None, 'wallet_address': '0x123456789ABCDEF', 'is_default': False, 'agent_id': '33968767-66c5-4e3e-9770-1951b375d9e1', 'system_prompt': 'You are CryptoSage, a virtual assistant specialized in providing the latest cryptocurrency updates, market analyses, and personalized support for users interested in digital currencies. Your goal is to inform and empower users by delivering timely and accurate information while maintaining a friendly and approachable demeanor.', 'knowledge_base': None, 'token_data': None, 'twitter_handle': 'mynewagent_handle', 'twitter_id': None, 'bearer_token': None, 'api_key': None, 'api_secret': None, 'access_token': None, 'access_secret': None}, 'message': 'Ambient agent created successfully'}\n"
     ]
    }
   ],
   "source": [
    "from ambientagi.services.agent_service import AmbientAgentService\n",
    "\n",
    "\n",
    "# 1) Initialize the AmbientAgentService\n",
    "service = AmbientAgentService()\n",
    "\n",
    "# 2) Create a generic agent with a prompt & wallet\n",
    "create_resp = service.create_agent(\n",
    "    agent_name=\"TwitterAssistant\",\n",
    "    description=\"An agent to assist with Twitter interactions.\",\n",
    "    wallet_address=\"0xABCDEF\"\n",
    ")\n",
    "print(\"Create Agent Response:\", create_resp)\n",
    "\n",
    "# Extract the agent_id from the response\n",
    "agent_id = create_resp[\"agent_id\"]\n",
    "\n",
    "# 3) Attach a Twitter agent wrapper for the existing agent\n",
    "twitter_agent = service.add_twitter_agent(agent_id)\n",
    "\n",
    "# 4) Update Twitter credentials\n",
    "#    This ensures the agent's record is updated with your keys/tokens\n",
    "creds_resp = twitter_agent.update_twitter_credentials(\n",
    "    twitter_handle=\"myTwitterBot\",\n",
    "    api_key=\"YOUR_API_KEY\",\n",
    "    api_secret=\"YOUR_API_SECRET\",\n",
    "    access_token=\"YOUR_ACCESS_TOKEN\",\n",
    "    access_secret=\"YOUR_ACCESS_SECRET\"\n",
    ")\n",
    "print(\"Update Twitter Credentials Response:\", creds_resp)\n",
    "\n",
    "# 5) Post a basic tweet\n",
    "try:\n",
    "    tweet_text = \"Hello world from AmbientAGI Twitter agent!\"\n",
    "    tweet_result = twitter_agent.post_tweet(tweet_text)\n",
    "    print(\"Posted tweet:\", tweet_result)\n",
    "except Exception as e:\n",
    "    print(\"Error posting tweet:\", e)\n",
    "\n",
    "# 6) (Optional) Reply to a tweet\n",
    "try:\n",
    "    # Suppose you have a target tweet ID to reply to\n",
    "    tweet_id_to_reply = \"1234567890123456789\"\n",
    "    reply_text = \"This is a reply from our AmbientAGI agent!\"\n",
    "    reply_result = twitter_agent.reply_to_tweet(tweet_id_to_reply, reply_text)\n",
    "    print(\"Reply to Tweet Result:\", reply_result)\n",
    "except Exception as e:\n",
    "    print(\"Error replying to tweet:\", e)\n",
    "\n",
    "# 7) (Optional) Quote Tweet\n",
    "try:\n",
    "    tweet_id_to_quote = \"9876543210987654321\"\n",
    "    quote_text = \"**Tweet:** Here's a quote from a great tweet!\"\n",
    "    quote_result = twitter_agent.post_quote_tweet(tweet_id_to_quote, quote_text)\n",
    "    print(\"Quote Tweet Result:\", quote_result)\n",
    "except Exception as e:\n",
    "    print(\"Error quoting tweet:\", e)\n",
    "\n",
    "# 8) (Optional) Post tweet with media\n",
    "try:\n",
    "    media_id = twitter_agent.upload_media_from_url(\"https://example.com/some_image.jpg\")\n",
    "    tweet_with_media_result = twitter_agent.post_with_media(\"Check out this image!\", media_id)\n",
    "    print(\"Tweet with Media Result:\", tweet_with_media_result)\n",
    "except Exception as e:\n",
    "    print(\"Error posting tweet with media:\", e)\n"
   ]
  },
  {
   "cell_type": "code",
   "execution_count": 8,
   "metadata": {},
   "outputs": [
    {
     "name": "stdout",
     "output_type": "stream",
     "text": [
      "Update Twitter Agent Response: {'agent': {'name': 'CryptoSage', 'role': 'Assistant for Crypto Updates', 'specialty': 'Updated Specialty', 'style': 'Informative and proactive', 'features': ['Real-time market updates', 'Price tracking for various cryptocurrencies', 'News aggregation from reliable crypto sources', 'Portfolio management assistance', 'Technical analysis support', 'Alert notifications for price changes'], 'personality': 'CryptoSage is pragmatic and knowledgeable, always providing clear and actionable insights. It maintains a friendly tone, encouraging users to engage with the content and ask questions. The agent is particularly attentive to user preferences and tailors its responses to meet the needs of both novice and experienced investors.', 'avatar': None, 'wallet_address': '0x123456789ABCDEF', 'is_default': False, 'agent_id': '33968767-66c5-4e3e-9770-1951b375d9e1', 'system_prompt': 'You are CryptoSage, a virtual assistant specialized in providing the latest cryptocurrency updates, market analyses, and personalized support for users interested in digital currencies. Your goal is to inform and empower users by delivering timely and accurate information while maintaining a friendly and approachable demeanor.', 'knowledge_base': None, 'token_data': None, 'twitter_handle': 'mynewagent_handle', 'twitter_id': None, 'bearer_token': None, 'api_key': None, 'api_secret': None, 'access_token': None, 'access_secret': None}, 'message': 'Agent attributes updated successfully'}\n"
     ]
    }
   ],
   "source": [
    "# 2. Update the agent's details\n",
    "update_response = twitter_provider.update_twitter_agent(\n",
    "    agent_id=response[\"agent_id\"],\n",
    "    specialty=\"Updated Specialty\",\n",
    "    style=\"Informative and proactive\"\n",
    ")\n",
    "print(\"Update Twitter Agent Response:\", update_response)\n"
   ]
  }
 ],
 "metadata": {
  "kernelspec": {
   "display_name": ".venv",
   "language": "python",
   "name": "python3"
  },
  "language_info": {
   "codemirror_mode": {
    "name": "ipython",
    "version": 3
   },
   "file_extension": ".py",
   "mimetype": "text/x-python",
   "name": "python",
   "nbconvert_exporter": "python",
   "pygments_lexer": "ipython3",
   "version": "3.11.9"
  }
 },
 "nbformat": 4,
 "nbformat_minor": 2
}
