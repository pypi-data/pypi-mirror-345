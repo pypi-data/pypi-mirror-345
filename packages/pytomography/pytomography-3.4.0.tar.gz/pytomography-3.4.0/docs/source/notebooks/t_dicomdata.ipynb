{
 "cells": [
  {
   "attachments": {},
   "cell_type": "markdown",
   "id": "d42c0672",
   "metadata": {
    "papermill": {
     "duration": 0.006107,
     "end_time": "2025-04-30T22:20:17.841505",
     "exception": false,
     "start_time": "2025-04-30T22:20:17.835398",
     "status": "completed"
    },
    "tags": []
   },
   "source": [
    "# DICOM Introduction"
   ]
  },
  {
   "cell_type": "code",
   "execution_count": 1,
   "id": "18553297",
   "metadata": {
    "execution": {
     "iopub.execute_input": "2025-04-30T22:20:17.854095Z",
     "iopub.status.busy": "2025-04-30T22:20:17.853600Z",
     "iopub.status.idle": "2025-04-30T22:20:26.157989Z",
     "shell.execute_reply": "2025-04-30T22:20:26.157201Z"
    },
    "papermill": {
     "duration": 8.312371,
     "end_time": "2025-04-30T22:20:26.159650",
     "exception": false,
     "start_time": "2025-04-30T22:20:17.847279",
     "status": "completed"
    },
    "tags": []
   },
   "outputs": [],
   "source": [
    "import os\n",
    "import numpy as np\n",
    "from pytomography.io.SPECT import dicom\n",
    "from pytomography.transforms.SPECT import SPECTAttenuationTransform, SPECTPSFTransform\n",
    "from pytomography.algorithms import OSEM\n",
    "from pytomography.projectors.SPECT import SPECTSystemMatrix\n",
    "from pytomography.likelihoods import PoissonLogLikelihood\n",
    "from pytomography.utils import print_collimator_parameters\n",
    "import matplotlib.pyplot as plt\n",
    "import pydicom\n",
    "import shutil"
   ]
  },
  {
   "cell_type": "code",
   "execution_count": 2,
   "id": "a9388a8e",
   "metadata": {
    "execution": {
     "iopub.execute_input": "2025-04-30T22:20:26.172156Z",
     "iopub.status.busy": "2025-04-30T22:20:26.171755Z",
     "iopub.status.idle": "2025-04-30T22:20:26.175307Z",
     "shell.execute_reply": "2025-04-30T22:20:26.174748Z"
    },
    "papermill": {
     "duration": 0.010201,
     "end_time": "2025-04-30T22:20:26.176155",
     "exception": false,
     "start_time": "2025-04-30T22:20:26.165954",
     "status": "completed"
    },
    "tags": []
   },
   "outputs": [],
   "source": [
    "# change this to where you downloaded the SPECT tutorial data\n",
    "PATH = '/mnt/mydisk2/pytomo_tutorial_data/SPECT'\n",
    "PATH = os.path.join(PATH, 'Lu177-NEMA-SymT2')"
   ]
  },
  {
   "cell_type": "markdown",
   "id": "fcaad5aa",
   "metadata": {
    "papermill": {
     "duration": 0.005126,
     "end_time": "2025-04-30T22:20:26.186668",
     "exception": false,
     "start_time": "2025-04-30T22:20:26.181542",
     "status": "completed"
    },
    "tags": []
   },
   "source": [
    "## Part 1: Opening Data"
   ]
  },
  {
   "attachments": {},
   "cell_type": "markdown",
   "id": "272f9ffa",
   "metadata": {
    "papermill": {
     "duration": 0.005353,
     "end_time": "2025-04-30T22:20:26.197235",
     "exception": false,
     "start_time": "2025-04-30T22:20:26.191882",
     "status": "completed"
    },
    "tags": []
   },
   "source": [
    "First we specify the required filepaths to open the SPECT scan (`file_NM`) and the CT data files (`files_CT`)."
   ]
  },
  {
   "cell_type": "code",
   "execution_count": 3,
   "id": "eab43513",
   "metadata": {
    "execution": {
     "iopub.execute_input": "2025-04-30T22:20:26.209221Z",
     "iopub.status.busy": "2025-04-30T22:20:26.208826Z",
     "iopub.status.idle": "2025-04-30T22:20:26.212542Z",
     "shell.execute_reply": "2025-04-30T22:20:26.211932Z"
    },
    "papermill": {
     "duration": 0.011022,
     "end_time": "2025-04-30T22:20:26.213511",
     "exception": false,
     "start_time": "2025-04-30T22:20:26.202489",
     "status": "completed"
    },
    "tags": []
   },
   "outputs": [],
   "source": [
    "# initialize the `path`` variable below to specify the location of the required data\n",
    "path_CT = os.path.join(PATH, 'CT')\n",
    "files_CT = [os.path.join(path_CT, file) for file in os.listdir(path_CT)]\n",
    "file_NM = os.path.join(PATH, 'projection_data.dcm')"
   ]
  },
  {
   "cell_type": "markdown",
   "id": "ef816082",
   "metadata": {
    "papermill": {
     "duration": 0.005023,
     "end_time": "2025-04-30T22:20:26.223590",
     "exception": false,
     "start_time": "2025-04-30T22:20:26.218567",
     "status": "completed"
    },
    "tags": []
   },
   "source": [
    "The metadata for object space and projection space can be obtained from the projection data file using `dicom.get_metadata`\n",
    "\n",
    "* This contains informaiton such as the voxel size, number of angles, scanner radius, etc."
   ]
  },
  {
   "cell_type": "code",
   "execution_count": 4,
   "id": "1a38b044",
   "metadata": {
    "execution": {
     "iopub.execute_input": "2025-04-30T22:20:26.234770Z",
     "iopub.status.busy": "2025-04-30T22:20:26.234359Z",
     "iopub.status.idle": "2025-04-30T22:20:26.663128Z",
     "shell.execute_reply": "2025-04-30T22:20:26.662407Z"
    },
    "papermill": {
     "duration": 0.436041,
     "end_time": "2025-04-30T22:20:26.664744",
     "exception": false,
     "start_time": "2025-04-30T22:20:26.228703",
     "status": "completed"
    },
    "tags": []
   },
   "outputs": [],
   "source": [
    "object_meta, proj_meta = dicom.get_metadata(file_NM, index_peak=0)"
   ]
  },
  {
   "cell_type": "markdown",
   "id": "004b3e30",
   "metadata": {
    "papermill": {
     "duration": 0.005115,
     "end_time": "2025-04-30T22:20:26.676102",
     "exception": false,
     "start_time": "2025-04-30T22:20:26.670987",
     "status": "completed"
    },
    "tags": []
   },
   "source": [
    "We can get the photopeak projection data from the DICOM file provided we know the indices of each of the energy windows. We can obtain that as follows:"
   ]
  },
  {
   "cell_type": "code",
   "execution_count": 5,
   "id": "25c71173",
   "metadata": {
    "execution": {
     "iopub.execute_input": "2025-04-30T22:20:26.687473Z",
     "iopub.status.busy": "2025-04-30T22:20:26.687052Z",
     "iopub.status.idle": "2025-04-30T22:20:26.698388Z",
     "shell.execute_reply": "2025-04-30T22:20:26.697726Z"
    },
    "papermill": {
     "duration": 0.018015,
     "end_time": "2025-04-30T22:20:26.699305",
     "exception": false,
     "start_time": "2025-04-30T22:20:26.681290",
     "status": "completed"
    },
    "tags": []
   },
   "outputs": [
    {
     "name": "stdout",
     "output_type": "stream",
     "text": [
      "Index 0:   Name: \"Window Group A\", Energies: [187.19999694824keV, 228.80000305176keV]\n",
      "Index 1:   Name: \"Window Group B\", Energies: [166.39999389648keV, 187.19999694824keV]\n",
      "Index 2:   Name: \"Window Group C\", Energies: [228.80000305176keV, 249.60000610352keV]\n",
      "Index 3:   Name: \"Window Group D\", Energies: [101.69999694824keV, 124.30000305176keV]\n",
      "Index 4:   Name: \"Window Group E\", Energies: [85.879997253418keV, 101.69999694824keV]\n",
      "Index 5:   Name: \"Window Group F\", Energies: [124.30000305176keV, 146.89999389648keV]\n"
     ]
    }
   ],
   "source": [
    "dicom.print_energy_window_info(file_NM)"
   ]
  },
  {
   "attachments": {},
   "cell_type": "markdown",
   "id": "b0b23350",
   "metadata": {
    "papermill": {
     "duration": 0.005539,
     "end_time": "2025-04-30T22:20:26.709995",
     "exception": false,
     "start_time": "2025-04-30T22:20:26.704456",
     "status": "completed"
    },
    "tags": []
   },
   "source": [
    "In this case, since we are specifically imaging the 208 keV peak, we specify `index_peak=0`, so it only returns the projections corresponding to the 187-228 energy window above."
   ]
  },
  {
   "cell_type": "code",
   "execution_count": 6,
   "id": "0bab5813",
   "metadata": {
    "execution": {
     "iopub.execute_input": "2025-04-30T22:20:26.721264Z",
     "iopub.status.busy": "2025-04-30T22:20:26.720858Z",
     "iopub.status.idle": "2025-04-30T22:20:26.825345Z",
     "shell.execute_reply": "2025-04-30T22:20:26.824732Z"
    },
    "papermill": {
     "duration": 0.111219,
     "end_time": "2025-04-30T22:20:26.826323",
     "exception": false,
     "start_time": "2025-04-30T22:20:26.715104",
     "status": "completed"
    },
    "tags": []
   },
   "outputs": [
    {
     "data": {
      "text/plain": [
       "torch.Size([96, 128, 128])"
      ]
     },
     "execution_count": 6,
     "metadata": {},
     "output_type": "execute_result"
    }
   ],
   "source": [
    "photopeak = dicom.get_projections(file_NM, index_peak=0)\n",
    "photopeak.shape"
   ]
  },
  {
   "cell_type": "markdown",
   "id": "23f8b4ce",
   "metadata": {
    "papermill": {
     "duration": 0.005423,
     "end_time": "2025-04-30T22:20:26.838028",
     "exception": false,
     "start_time": "2025-04-30T22:20:26.832605",
     "status": "completed"
    },
    "tags": []
   },
   "source": [
    "The shape of the photopeak is $(N_{angles}, \\text{Width}, \\text{Height})$."
   ]
  },
  {
   "cell_type": "code",
   "execution_count": 7,
   "id": "b811f6b8",
   "metadata": {
    "execution": {
     "iopub.execute_input": "2025-04-30T22:20:26.849732Z",
     "iopub.status.busy": "2025-04-30T22:20:26.849254Z",
     "iopub.status.idle": "2025-04-30T22:20:26.986818Z",
     "shell.execute_reply": "2025-04-30T22:20:26.986231Z"
    },
    "papermill": {
     "duration": 0.144459,
     "end_time": "2025-04-30T22:20:26.987707",
     "exception": false,
     "start_time": "2025-04-30T22:20:26.843248",
     "status": "completed"
    },
    "tags": []
   },
   "outputs": [
    {
     "data": {
      "text/plain": [
       "<matplotlib.colorbar.Colorbar at 0x78ed2e5a8a70>"
      ]
     },
     "execution_count": 7,
     "metadata": {},
     "output_type": "execute_result"
    },
    {
     "data": {
      "image/png": "[encoded data removed]",
      "text/plain": [
       "<Figure size 700x600 with 2 Axes>"
      ]
     },
     "metadata": {},
     "output_type": "display_data"
    }
   ],
   "source": [
    "plt.figure(figsize=(7,6))\n",
    "plt.imshow(photopeak[0].cpu().T, cmap='nipy_spectral', origin='lower')\n",
    "plt.axis('off')\n",
    "plt.colorbar(label='Counts')"
   ]
  },
  {
   "attachments": {},
   "cell_type": "markdown",
   "id": "233f5cb3",
   "metadata": {
    "papermill": {
     "duration": 0.005477,
     "end_time": "2025-04-30T22:20:26.999186",
     "exception": false,
     "start_time": "2025-04-30T22:20:26.993709",
     "status": "completed"
    },
    "tags": []
   },
   "source": [
    "Scatter projections can be estimated using the triple energy window function `dicom_get_scatterTEW`. One needs to specify the index of the peak, and lower/upper energy windows"
   ]
  },
  {
   "cell_type": "code",
   "execution_count": 8,
   "id": "5c653ab8",
   "metadata": {
    "execution": {
     "iopub.execute_input": "2025-04-30T22:20:27.011152Z",
     "iopub.status.busy": "2025-04-30T22:20:27.010742Z",
     "iopub.status.idle": "2025-04-30T22:20:27.147735Z",
     "shell.execute_reply": "2025-04-30T22:20:27.146994Z"
    },
    "papermill": {
     "duration": 0.144707,
     "end_time": "2025-04-30T22:20:27.149343",
     "exception": false,
     "start_time": "2025-04-30T22:20:27.004636",
     "status": "completed"
    },
    "tags": []
   },
   "outputs": [],
   "source": [
    "scatter = dicom.get_energy_window_scatter_estimate(file_NM, index_peak=0, index_lower=1, index_upper=2)"
   ]
  },
  {
   "cell_type": "markdown",
   "id": "4f057acd",
   "metadata": {
    "papermill": {
     "duration": 0.005449,
     "end_time": "2025-04-30T22:20:27.161502",
     "exception": false,
     "start_time": "2025-04-30T22:20:27.156053",
     "status": "completed"
    },
    "tags": []
   },
   "source": [
    "## Part 2: Modeling"
   ]
  },
  {
   "cell_type": "markdown",
   "id": "8153f02b",
   "metadata": {
    "papermill": {
     "duration": 0.00557,
     "end_time": "2025-04-30T22:20:27.172582",
     "exception": false,
     "start_time": "2025-04-30T22:20:27.167012",
     "status": "completed"
    },
    "tags": []
   },
   "source": [
    "### Attenuation Transform"
   ]
  },
  {
   "cell_type": "markdown",
   "id": "fd7f5ffc",
   "metadata": {
    "papermill": {
     "duration": 0.013323,
     "end_time": "2025-04-30T22:20:27.191399",
     "exception": false,
     "start_time": "2025-04-30T22:20:27.178076",
     "status": "completed"
    },
    "tags": []
   },
   "source": [
    "The attenuation transform is used to \"correct\" for the fact that some photons get atteunated in the patient before they reach the detector. PyTomography has functionality to do attenuation correction provided either (i) an argument `attenuation_map=...` OR (ii) an argument `filepath=...` is provided to the `SPECTAttenuationTransform`.\n",
    "\n",
    "* `attenuation_map` must be aligned with the SPECT projection data and have units of cm $^{-1}$ .\n",
    "* `filepath` specifies the directory of some CT scan which will be used for attenuation correction. PyTomography has functionality to align this with the SPECT projections and convert to units of cm $^{-1}$.\n",
    "\n",
    "In this case, since we're reconstructing DICOM data, it's easier to use `filepath` than to manually align/rescale the CT data"
   ]
  },
  {
   "cell_type": "code",
   "execution_count": 9,
   "id": "66f048d2",
   "metadata": {
    "execution": {
     "iopub.execute_input": "2025-04-30T22:20:27.215588Z",
     "iopub.status.busy": "2025-04-30T22:20:27.215095Z",
     "iopub.status.idle": "2025-04-30T22:20:27.631003Z",
     "shell.execute_reply": "2025-04-30T22:20:27.630243Z"
    },
    "papermill": {
     "duration": 0.433929,
     "end_time": "2025-04-30T22:20:27.632809",
     "exception": false,
     "start_time": "2025-04-30T22:20:27.198880",
     "status": "completed"
    },
    "tags": []
   },
   "outputs": [],
   "source": [
    "att_transform = SPECTAttenuationTransform(filepath=files_CT)"
   ]
  },
  {
   "cell_type": "markdown",
   "id": "675f9e64",
   "metadata": {
    "papermill": {
     "duration": 0.005471,
     "end_time": "2025-04-30T22:20:27.645505",
     "exception": false,
     "start_time": "2025-04-30T22:20:27.640034",
     "status": "completed"
    },
    "tags": []
   },
   "source": [
    "If we want to view the attenuation map, we need to *configure* the `att_transform` so that (i) the CT data can be aligned with SPECT projection data and (ii) the CT data can be converted to attenuation coefficients.\n",
    "\n",
    "* *Note*: This is not required if you don't want to view the attenuation map. Later, when the system matrix is built, it automatically configures all the transforms"
   ]
  },
  {
   "cell_type": "code",
   "execution_count": 10,
   "id": "9632593e",
   "metadata": {
    "execution": {
     "iopub.execute_input": "2025-04-30T22:20:27.657980Z",
     "iopub.status.busy": "2025-04-30T22:20:27.657538Z",
     "iopub.status.idle": "2025-04-30T22:20:29.650524Z",
     "shell.execute_reply": "2025-04-30T22:20:29.649519Z"
    },
    "papermill": {
     "duration": 2.000881,
     "end_time": "2025-04-30T22:20:29.652160",
     "exception": false,
     "start_time": "2025-04-30T22:20:27.651279",
     "status": "completed"
    },
    "tags": []
   },
   "outputs": [
    {
     "name": "stdout",
     "output_type": "stream",
     "text": [
      "Given photopeak energy 208.0 keV and CT energy 130 keV from the CT DICOM header, the HU->mu conversion from the following configuration is used: 208.0 keV SPECT energy, 130 keV CT energy, and scanner model symbiat2\n"
     ]
    }
   ],
   "source": [
    "att_transform.configure(object_meta, proj_meta)\n",
    "attenuation_map = att_transform.attenuation_map"
   ]
  },
  {
   "attachments": {},
   "cell_type": "markdown",
   "id": "c41ac6a9",
   "metadata": {
    "papermill": {
     "duration": 0.005841,
     "end_time": "2025-04-30T22:20:29.664430",
     "exception": false,
     "start_time": "2025-04-30T22:20:29.658589",
     "status": "completed"
    },
    "tags": []
   },
   "source": [
    "Viewing the attenuation map allows for a consistency check to ensure that it's properly aligned with the projection data"
   ]
  },
  {
   "cell_type": "code",
   "execution_count": 11,
   "id": "3e8e4c05",
   "metadata": {
    "execution": {
     "iopub.execute_input": "2025-04-30T22:20:29.677244Z",
     "iopub.status.busy": "2025-04-30T22:20:29.676758Z",
     "iopub.status.idle": "2025-04-30T22:20:29.681297Z",
     "shell.execute_reply": "2025-04-30T22:20:29.680744Z"
    },
    "papermill": {
     "duration": 0.012104,
     "end_time": "2025-04-30T22:20:29.682271",
     "exception": false,
     "start_time": "2025-04-30T22:20:29.670167",
     "status": "completed"
    },
    "tags": []
   },
   "outputs": [],
   "source": [
    "sample_slice = attenuation_map.cpu()[:,70].T"
   ]
  },
  {
   "cell_type": "code",
   "execution_count": 12,
   "id": "699e1dc0",
   "metadata": {
    "execution": {
     "iopub.execute_input": "2025-04-30T22:20:29.694999Z",
     "iopub.status.busy": "2025-04-30T22:20:29.694787Z",
     "iopub.status.idle": "2025-04-30T22:20:30.140913Z",
     "shell.execute_reply": "2025-04-30T22:20:30.140266Z"
    },
    "papermill": {
     "duration": 0.453926,
     "end_time": "2025-04-30T22:20:30.141978",
     "exception": false,
     "start_time": "2025-04-30T22:20:29.688052",
     "status": "completed"
    },
    "tags": []
   },
   "outputs": [
    {
     "data": {
      "text/plain": [
       "<matplotlib.colorbar.Colorbar at 0x78ed2c33f6e0>"
      ]
     },
     "execution_count": 12,
     "metadata": {},
     "output_type": "execute_result"
    },
    {
     "data": {
      "image/png": "[encoded data removed]",
      "text/plain": [
       "<Figure size 700x300 with 4 Axes>"
      ]
     },
     "metadata": {},
     "output_type": "display_data"
    }
   ],
   "source": [
    "plt.subplots(1,2,figsize=(7,3))\n",
    "plt.subplot(121)\n",
    "plt.title('Projection Data')\n",
    "plt.imshow(photopeak[0].cpu().T, cmap='nipy_spectral', origin='lower')\n",
    "plt.axis('off')\n",
    "plt.colorbar(label='Counts')\n",
    "plt.subplot(122)\n",
    "plt.title('From CT Slices')\n",
    "plt.imshow(sample_slice, cmap='Greys_r', origin='lower', interpolation='Gaussian')\n",
    "plt.axis('off')\n",
    "plt.colorbar()"
   ]
  },
  {
   "cell_type": "markdown",
   "id": "5a06b768",
   "metadata": {
    "papermill": {
     "duration": 0.006164,
     "end_time": "2025-04-30T22:20:30.155219",
     "exception": false,
     "start_time": "2025-04-30T22:20:30.149055",
     "status": "completed"
    },
    "tags": []
   },
   "source": [
    "### PSF Modeling"
   ]
  },
  {
   "attachments": {},
   "cell_type": "markdown",
   "id": "b21aeb9b",
   "metadata": {
    "papermill": {
     "duration": 0.005942,
     "end_time": "2025-04-30T22:20:30.167137",
     "exception": false,
     "start_time": "2025-04-30T22:20:30.161195",
     "status": "completed"
    },
    "tags": []
   },
   "source": [
    "PSF modeling requires knowing the parameters of the collimators used for the scan. A list of all supported collimator types can be determined by uncommenting the following line and running it"
   ]
  },
  {
   "cell_type": "code",
   "execution_count": 13,
   "id": "5f310bef",
   "metadata": {
    "execution": {
     "iopub.execute_input": "2025-04-30T22:20:30.180240Z",
     "iopub.status.busy": "2025-04-30T22:20:30.179814Z",
     "iopub.status.idle": "2025-04-30T22:20:30.182746Z",
     "shell.execute_reply": "2025-04-30T22:20:30.182188Z"
    },
    "papermill": {
     "duration": 0.010669,
     "end_time": "2025-04-30T22:20:30.183734",
     "exception": false,
     "start_time": "2025-04-30T22:20:30.173065",
     "status": "completed"
    },
    "tags": []
   },
   "outputs": [],
   "source": [
    "#print_collimator_parameters()"
   ]
  },
  {
   "cell_type": "markdown",
   "id": "358a99e4",
   "metadata": {
    "papermill": {
     "duration": 0.070462,
     "end_time": "2025-04-30T22:20:30.260481",
     "exception": false,
     "start_time": "2025-04-30T22:20:30.190019",
     "status": "completed"
    },
    "tags": []
   },
   "source": [
    "In our case, we know that this scan was performed on a Siemens Symbia scanner with medium energy collimators and 3/8'' crystals\n",
    "* There is an option to use intrinsic resolution of the crystals of the scanner (if you know it); this has a minor impact on the reconstruction"
   ]
  },
  {
   "cell_type": "code",
   "execution_count": 14,
   "id": "7c403021",
   "metadata": {
    "execution": {
     "iopub.execute_input": "2025-04-30T22:20:30.274105Z",
     "iopub.status.busy": "2025-04-30T22:20:30.273723Z",
     "iopub.status.idle": "2025-04-30T22:20:30.280445Z",
     "shell.execute_reply": "2025-04-30T22:20:30.279888Z"
    },
    "papermill": {
     "duration": 0.014514,
     "end_time": "2025-04-30T22:20:30.281390",
     "exception": false,
     "start_time": "2025-04-30T22:20:30.266876",
     "status": "completed"
    },
    "tags": []
   },
   "outputs": [
    {
     "name": "stdout",
     "output_type": "stream",
     "text": [
      "kernel_dimensions = 2D\n",
      "min_sigmas = 3\n",
      "shape = gaussian\n",
      "sigma_fit_params = [np.float64(0.03161982627275948), np.float64(0.1248503046423388), np.float64(0.16137114205472364)]\n",
      "\n"
     ]
    }
   ],
   "source": [
    "collimator_name = 'SY-ME'\n",
    "energy_kev = 208 #keV\n",
    "intrinsic_resolution=0.38 #mm\n",
    "psf_meta = dicom.get_psfmeta_from_scanner_params(\n",
    "    collimator_name,\n",
    "    energy_kev,\n",
    "    intrinsic_resolution=intrinsic_resolution\n",
    ")\n",
    "print(psf_meta)"
   ]
  },
  {
   "cell_type": "markdown",
   "id": "da253908",
   "metadata": {
    "papermill": {
     "duration": 0.005987,
     "end_time": "2025-04-30T22:20:30.293799",
     "exception": false,
     "start_time": "2025-04-30T22:20:30.287812",
     "status": "completed"
    },
    "tags": []
   },
   "source": [
    "Now we can build our PSF transform required to create the system matrix"
   ]
  },
  {
   "cell_type": "code",
   "execution_count": 15,
   "id": "f59ac1ac",
   "metadata": {
    "execution": {
     "iopub.execute_input": "2025-04-30T22:20:30.307694Z",
     "iopub.status.busy": "2025-04-30T22:20:30.307285Z",
     "iopub.status.idle": "2025-04-30T22:20:30.310174Z",
     "shell.execute_reply": "2025-04-30T22:20:30.309584Z"
    },
    "papermill": {
     "duration": 0.011216,
     "end_time": "2025-04-30T22:20:30.311084",
     "exception": false,
     "start_time": "2025-04-30T22:20:30.299868",
     "status": "completed"
    },
    "tags": []
   },
   "outputs": [],
   "source": [
    "psf_transform = SPECTPSFTransform(psf_meta)"
   ]
  },
  {
   "cell_type": "markdown",
   "id": "8522b4af",
   "metadata": {
    "papermill": {
     "duration": 0.006293,
     "end_time": "2025-04-30T22:20:30.331880",
     "exception": false,
     "start_time": "2025-04-30T22:20:30.325587",
     "status": "completed"
    },
    "tags": []
   },
   "source": [
    "## System Matrix"
   ]
  },
  {
   "cell_type": "markdown",
   "id": "eadc002a",
   "metadata": {
    "papermill": {
     "duration": 0.006219,
     "end_time": "2025-04-30T22:20:30.344813",
     "exception": false,
     "start_time": "2025-04-30T22:20:30.338594",
     "status": "completed"
    },
    "tags": []
   },
   "source": [
    "Now that we have the required transforms, we can begin to build the system matrix. It requires:\n",
    "1. `obj2obj_transforms`. These map from object space to object space. In the case of SPECT imaging, both the attenuation transform and PSF transform correspond to these types of transforms.\n",
    "2. `proj2proj_transforms`: These map from projection to projection space. Though we have none here, they would be used to model PSF in PET imaging.\n",
    "3. `object_meta` and `proj_meta`. These are used to initialize the transforms. For example, data from `object_meta` is used to align the attenuation map, and radial position from `proj_meta` is used to get proper blurring parameters for the PSF transform"
   ]
  },
  {
   "cell_type": "code",
   "execution_count": 16,
   "id": "4f2371df",
   "metadata": {
    "execution": {
     "iopub.execute_input": "2024-11-19T22:19:04.547670Z",
     "iopub.status.busy": "2024-11-19T22:19:04.547297Z",
     "iopub.status.idle": "2024-11-19T22:19:06.682191Z",
     "shell.execute_reply": "2024-11-19T22:19:06.681328Z"
    },
    "papermill": {
     "duration": null,
     "end_time": null,
     "exception": false,
     "start_time": "2025-04-30T22:20:30.350936",
     "status": "running"
    },
    "tags": []
   },
   "outputs": [
    {
     "name": "stdout",
     "output_type": "stream",
     "text": [
      "Given photopeak energy 208.0 keV and CT energy 130 keV from the CT DICOM header, the HU->mu conversion from the following configuration is used: 208.0 keV SPECT energy, 130 keV CT energy, and scanner model symbiat2\n"
     ]
    }
   ],
   "source": [
    "system_matrix = SPECTSystemMatrix(\n",
    "        obj2obj_transforms = [att_transform,psf_transform],\n",
    "        proj2proj_transforms = [],\n",
    "        object_meta = object_meta,\n",
    "        proj_meta = proj_meta)"
   ]
  },
  {
   "cell_type": "markdown",
   "id": "730619bf",
   "metadata": {
    "papermill": {
     "duration": null,
     "end_time": null,
     "exception": null,
     "start_time": null,
     "status": "pending"
    },
    "tags": []
   },
   "source": [
    "The system matrix $H$ represents the imaging system and maps an object $f$ to a corresponding image $g$ under the imaging system"
   ]
  },
  {
   "cell_type": "markdown",
   "id": "b22a7707",
   "metadata": {
    "papermill": {
     "duration": null,
     "end_time": null,
     "exception": null,
     "start_time": null,
     "status": "pending"
    },
    "tags": []
   },
   "source": [
    "## Likelihood"
   ]
  },
  {
   "cell_type": "code",
   "execution_count": 17,
   "id": "c48b18b2",
   "metadata": {
    "execution": {
     "iopub.execute_input": "2024-11-19T22:19:06.728785Z",
     "iopub.status.busy": "2024-11-19T22:19:06.728263Z",
     "iopub.status.idle": "2024-11-19T22:19:06.732101Z",
     "shell.execute_reply": "2024-11-19T22:19:06.731486Z"
    },
    "papermill": {
     "duration": null,
     "end_time": null,
     "exception": null,
     "start_time": null,
     "status": "pending"
    },
    "tags": []
   },
   "outputs": [],
   "source": [
    "likelihood = PoissonLogLikelihood(system_matrix, photopeak, scatter)"
   ]
  },
  {
   "attachments": {},
   "cell_type": "markdown",
   "id": "c8014eff",
   "metadata": {
    "papermill": {
     "duration": null,
     "end_time": null,
     "exception": null,
     "start_time": null,
     "status": "pending"
    },
    "tags": []
   },
   "source": [
    "# Reconstruct the object"
   ]
  },
  {
   "cell_type": "markdown",
   "id": "3c31e20a",
   "metadata": {
    "papermill": {
     "duration": null,
     "end_time": null,
     "exception": null,
     "start_time": null,
     "status": "pending"
    },
    "tags": []
   },
   "source": [
    "We'll reconstruct the object using OSEM. For this, we need to specify the measured projection data (`photopeak`/`scatter`) and the `system_matrix`"
   ]
  },
  {
   "cell_type": "code",
   "execution_count": 18,
   "id": "5e07e874",
   "metadata": {
    "execution": {
     "iopub.execute_input": "2024-11-19T22:19:06.777941Z",
     "iopub.status.busy": "2024-11-19T22:19:06.777398Z",
     "iopub.status.idle": "2024-11-19T22:19:06.798739Z",
     "shell.execute_reply": "2024-11-19T22:19:06.798136Z"
    },
    "papermill": {
     "duration": null,
     "end_time": null,
     "exception": null,
     "start_time": null,
     "status": "pending"
    },
    "tags": []
   },
   "outputs": [],
   "source": [
    "reconstruction_algorithm = OSEM(likelihood)"
   ]
  },
  {
   "cell_type": "markdown",
   "id": "376c0192",
   "metadata": {
    "papermill": {
     "duration": null,
     "end_time": null,
     "exception": null,
     "start_time": null,
     "status": "pending"
    },
    "tags": []
   },
   "source": [
    "We can reconstruct the object by calling the reconstruction algorithm for a given number of iterations/subsets."
   ]
  },
  {
   "cell_type": "code",
   "execution_count": 19,
   "id": "e24adf5a",
   "metadata": {
    "execution": {
     "iopub.execute_input": "2024-11-19T22:19:06.830982Z",
     "iopub.status.busy": "2024-11-19T22:19:06.830443Z",
     "iopub.status.idle": "2024-11-19T22:19:14.451292Z",
     "shell.execute_reply": "2024-11-19T22:19:14.450279Z"
    },
    "papermill": {
     "duration": null,
     "end_time": null,
     "exception": null,
     "start_time": null,
     "status": "pending"
    },
    "tags": []
   },
   "outputs": [],
   "source": [
    "reconstructed_object = reconstruction_algorithm(n_iters=4, n_subsets=8)"
   ]
  },
  {
   "attachments": {},
   "cell_type": "markdown",
   "id": "8a366340",
   "metadata": {
    "papermill": {
     "duration": null,
     "end_time": null,
     "exception": null,
     "start_time": null,
     "status": "pending"
    },
    "tags": []
   },
   "source": [
    "We can compare this reconstruction to one done by the vendor:\n",
    "\n",
    "* Note: we divide the vendor reconstruction by 96 because this particualr vendor multiplies by the number of acquisition angles when saving the data. (*some vendors alternatively divide by 48, the number of projection angles, so be careful*)"
   ]
  },
  {
   "cell_type": "code",
   "execution_count": 20,
   "id": "c27122df",
   "metadata": {
    "execution": {
     "iopub.execute_input": "2024-11-19T22:19:14.484704Z",
     "iopub.status.busy": "2024-11-19T22:19:14.484335Z",
     "iopub.status.idle": "2024-11-19T22:19:14.544684Z",
     "shell.execute_reply": "2024-11-19T22:19:14.543955Z"
    },
    "papermill": {
     "duration": null,
     "end_time": null,
     "exception": null,
     "start_time": null,
     "status": "pending"
    },
    "tags": []
   },
   "outputs": [],
   "source": [
    "ds_recon = pydicom.dcmread(os.path.join(PATH, 'scanner_recon.dcm'))\n",
    "recon_vendor = ds_recon.pixel_array / proj_meta.num_projections\n",
    "recon_vendor = np.transpose(recon_vendor, (2,1,0))"
   ]
  },
  {
   "attachments": {},
   "cell_type": "markdown",
   "id": "519423ed",
   "metadata": {
    "papermill": {
     "duration": null,
     "end_time": null,
     "exception": null,
     "start_time": null,
     "status": "pending"
    },
    "tags": []
   },
   "source": [
    "We can looks at axial slices from all three reconstructions."
   ]
  },
  {
   "cell_type": "code",
   "execution_count": 21,
   "id": "20e3c8d3",
   "metadata": {
    "execution": {
     "iopub.execute_input": "2024-11-19T22:19:14.576403Z",
     "iopub.status.busy": "2024-11-19T22:19:14.575993Z",
     "iopub.status.idle": "2024-11-19T22:19:14.583099Z",
     "shell.execute_reply": "2024-11-19T22:19:14.582516Z"
    },
    "papermill": {
     "duration": null,
     "end_time": null,
     "exception": null,
     "start_time": null,
     "status": "pending"
    },
    "tags": []
   },
   "outputs": [],
   "source": [
    "idx_z = 61\n",
    "slice_pytomography = reconstructed_object.cpu()[:,:,idx_z].T\n",
    "slice_vendor = recon_vendor[:,:,idx_z].T"
   ]
  },
  {
   "cell_type": "code",
   "execution_count": 22,
   "id": "6d6a9571",
   "metadata": {
    "execution": {
     "iopub.execute_input": "2024-11-19T22:19:14.599848Z",
     "iopub.status.busy": "2024-11-19T22:19:14.599473Z",
     "iopub.status.idle": "2024-11-19T22:19:14.736270Z",
     "shell.execute_reply": "2024-11-19T22:19:14.735639Z"
    },
    "papermill": {
     "duration": null,
     "end_time": null,
     "exception": null,
     "start_time": null,
     "status": "pending"
    },
    "tags": []
   },
   "outputs": [
    {
     "data": {
      "image/png": "[encoded data removed]",
      "text/plain": [
       "<Figure size 700x300 with 2 Axes>"
      ]
     },
     "metadata": {},
     "output_type": "display_data"
    }
   ],
   "source": [
    "plt.subplots(1,2,figsize=(7,3), gridspec_kw={'wspace':0.0})\n",
    "plt.subplot(121)\n",
    "plt.imshow(slice_pytomography , cmap='magma', vmax=27, interpolation='gaussian', origin='lower')\n",
    "plt.text(0.03, 0.97, 'PyTomography', color='white', fontsize=12, fontweight='bold', transform=plt.gca().transAxes, ha='left', va='top')\n",
    "plt.xlim(30,98)\n",
    "plt.ylim(98,40)\n",
    "plt.axis('off')\n",
    "plt.subplot(122)\n",
    "plt.imshow(slice_vendor, cmap='magma', vmax=27, interpolation='gaussian', origin='lower')\n",
    "plt.text(0.03, 0.97, 'Siemens Software', color='white', fontsize=12, fontweight='bold', transform=plt.gca().transAxes, ha='left', va='top')\n",
    "plt.xlim(30,98)\n",
    "plt.ylim(98,40)\n",
    "plt.axis('off')\n",
    "plt.show()"
   ]
  },
  {
   "cell_type": "markdown",
   "id": "a5fefb40",
   "metadata": {
    "papermill": {
     "duration": null,
     "end_time": null,
     "exception": null,
     "start_time": null,
     "status": "pending"
    },
    "tags": []
   },
   "source": [
    "## Saving Data"
   ]
  },
  {
   "cell_type": "markdown",
   "id": "f8c49be3",
   "metadata": {
    "papermill": {
     "duration": null,
     "end_time": null,
     "exception": null,
     "start_time": null,
     "status": "pending"
    },
    "tags": []
   },
   "source": [
    "PyTomography has functionality for saving DICOM data. There are a few things required:\n",
    "\n",
    "1. The folder where you want to save the data. The folder can't exist already (has to be a new folder); this prevents overwriting potential data.\n",
    "2. The reconstructed object itself: in this case, `recon_CTslices`\n",
    "3. The filepath of the projection data `file_NM`. Much of the study/patient information is copied over from this file to the reconstructed file.\n",
    "4. An optional string that represents the type of reconstruction performed. If left blank, will be an empty string `''`"
   ]
  },
  {
   "cell_type": "markdown",
   "id": "49b269c4",
   "metadata": {
    "papermill": {
     "duration": null,
     "end_time": null,
     "exception": null,
     "start_time": null,
     "status": "pending"
    },
    "tags": []
   },
   "source": [
    "**Note: Some vendor reconstructions (i) multiply by the total number of projections and/or (ii) normalize to counts/second when they save their SPECT reconstructions. Make sure to multiply `reconstructed_object` by these values before you save if you want to do such comparisons.**"
   ]
  },
  {
   "cell_type": "code",
   "execution_count": 23,
   "id": "bf87b778",
   "metadata": {
    "execution": {
     "iopub.execute_input": "2024-11-19T22:19:14.802808Z",
     "iopub.status.busy": "2024-11-19T22:19:14.802233Z",
     "iopub.status.idle": "2024-11-19T22:19:15.219061Z",
     "shell.execute_reply": "2024-11-19T22:19:15.218333Z"
    },
    "papermill": {
     "duration": null,
     "end_time": null,
     "exception": null,
     "start_time": null,
     "status": "pending"
    },
    "tags": []
   },
   "outputs": [],
   "source": [
    "# Modify the path below to a location on your computer where you want to save the data\n",
    "save_path = os.path.join(PATH, 'SPECT', 'Pytomo-Recon')\n",
    "# Code only works if folder doesnt exist, so delete it if present\n",
    "if os.path.exists(save_path) and os.path.isdir(save_path):\n",
    "    shutil.rmtree(save_path)\n",
    "# Save\n",
    "dicom.save_dcm(\n",
    "    save_path = save_path,\n",
    "    object = reconstructed_object,\n",
    "    file_NM = file_NM,\n",
    "    recon_name = 'OSEM_4it_8ss')"
   ]
  },
  {
   "cell_type": "markdown",
   "id": "fa1e5272",
   "metadata": {
    "papermill": {
     "duration": null,
     "end_time": null,
     "exception": null,
     "start_time": null,
     "status": "pending"
    },
    "tags": []
   },
   "source": [
    "The data can now be exported to any DICOM viewer of your choice!"
   ]
  }
 ],
 "metadata": {
  "kernelspec": {
   "display_name": "pytomo",
   "language": "python",
   "name": "python3"
  },
  "language_info": {
   "codemirror_mode": {
    "name": "ipython",
    "version": 3
   },
   "file_extension": ".py",
   "mimetype": "text/x-python",
   "name": "python",
   "nbconvert_exporter": "python",
   "pygments_lexer": "ipython3",
   "version": "3.12.9"
  },
  "papermill": {
   "default_parameters": {},
   "duration": null,
   "end_time": null,
   "environment_variables": {},
   "exception": null,
   "input_path": "t_dicomdata.ipynb",
   "output_path": "t_dicomdata.ipynb",
   "parameters": {},
   "start_time": "2025-04-30T22:20:16.907827",
   "version": "2.6.0"
  }
 },
 "nbformat": 4,
 "nbformat_minor": 5
}
