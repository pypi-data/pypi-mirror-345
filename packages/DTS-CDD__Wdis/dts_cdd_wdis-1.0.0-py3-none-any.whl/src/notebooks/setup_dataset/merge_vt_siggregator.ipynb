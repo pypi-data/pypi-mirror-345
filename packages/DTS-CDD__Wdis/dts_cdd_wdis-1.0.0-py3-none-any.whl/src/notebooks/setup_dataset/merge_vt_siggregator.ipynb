{
 "cells": [
  {
   "cell_type": "code",
   "execution_count": 1,
   "id": "41625c44-786b-4ff0-9342-ce4dd17a09e0",
   "metadata": {
    "ExecuteTime": {
     "end_time": "2024-03-12T13:18:16.981190888Z",
     "start_time": "2024-03-12T13:18:16.443538867Z"
    }
   },
   "outputs": [],
   "source": [
    "import pandas as pd\n",
    "from io import StringIO"
   ]
  },
  {
   "cell_type": "code",
   "execution_count": 2,
   "id": "8f135bca-3024-4118-85ac-367ab46a981a",
   "metadata": {
    "ExecuteTime": {
     "end_time": "2024-03-12T13:18:16.990249361Z",
     "start_time": "2024-03-12T13:18:16.983629511Z"
    }
   },
   "outputs": [],
   "source": [
    "# Open VT reports and get SHA256 and first_submission_date values for each json (line).\n",
    "def extract_first_submission_dates(file_path) -> pd.DataFrame:\n",
    "    malwares_first_sub_date = []\n",
    "    with open(file_path, \"r\") as reports:\n",
    "        sha256_key, first_sub_date_key = \"sha256\", \"first_submission_date\"\n",
    "        # Iterate through all reports\n",
    "        for report in reports:\n",
    "            df_report = pd.read_json(StringIO(report))[\"data\"][\"attributes\"]\n",
    "            sha256, first_sub_date = (\n",
    "                df_report[sha256_key],\n",
    "                df_report[first_sub_date_key],\n",
    "            )\n",
    "            malwares_first_sub_date.append((sha256, first_sub_date))\n",
    "\n",
    "    return pd.DataFrame(\n",
    "        malwares_first_sub_date, columns=[sha256_key, first_sub_date_key]\n",
    "    )"
   ]
  },
  {
   "cell_type": "code",
   "execution_count": 4,
   "id": "aa786b9e-f1ea-4efa-912c-b37fffeb44a0",
   "metadata": {
    "ExecuteTime": {
     "end_time": "2024-03-12T13:21:50.862754959Z",
     "start_time": "2024-03-12T13:18:28.699744966Z"
    }
   },
   "outputs": [
    {
     "data": {
      "text/html": "<div>\n<style scoped>\n    .dataframe tbody tr th:only-of-type {\n        vertical-align: middle;\n    }\n\n    .dataframe tbody tr th {\n        vertical-align: top;\n    }\n\n    .dataframe thead th {\n        text-align: right;\n    }\n</style>\n<table border=\"1\" class=\"dataframe\">\n  <thead>\n    <tr style=\"text-align: right;\">\n      <th></th>\n      <th>sha256</th>\n      <th>first_submission_date</th>\n    </tr>\n  </thead>\n  <tbody>\n    <tr>\n      <th>0</th>\n      <td>98f8e26e12b978102fa39c197f300ebe5fe535617737d5...</td>\n      <td>1630575593</td>\n    </tr>\n    <tr>\n      <th>1</th>\n      <td>7b2999ffadbc3b5b5c5e94145ca4e2f8de66ac1e3ddd52...</td>\n      <td>1629375559</td>\n    </tr>\n    <tr>\n      <th>2</th>\n      <td>e7569d494fe00be04ef6c9fcc5e54720c0df623b08e79d...</td>\n      <td>1362057319</td>\n    </tr>\n    <tr>\n      <th>3</th>\n      <td>1ed60c04f572b6acb9f64c31db55ef5c6b5465bd4da1eb...</td>\n      <td>1630624233</td>\n    </tr>\n    <tr>\n      <th>4</th>\n      <td>4c4aaff20a57213d9a786e56ad22f1eaa94694a2f1042b...</td>\n      <td>1592186154</td>\n    </tr>\n  </tbody>\n</table>\n</div>",
      "text/plain": "                                              sha256  first_submission_date\n0  98f8e26e12b978102fa39c197f300ebe5fe535617737d5...             1630575593\n1  7b2999ffadbc3b5b5c5e94145ca4e2f8de66ac1e3ddd52...             1629375559\n2  e7569d494fe00be04ef6c9fcc5e54720c0df623b08e79d...             1362057319\n3  1ed60c04f572b6acb9f64c31db55ef5c6b5465bd4da1eb...             1630624233\n4  4c4aaff20a57213d9a786e56ad22f1eaa94694a2f1042b...             1592186154"
     },
     "execution_count": 4,
     "metadata": {},
     "output_type": "execute_result"
    }
   ],
   "source": [
    "reports_path = \"../../vt_reports/vt_reports67k.jsons\"\n",
    "df_malwares_first_sub_date = extract_first_submission_dates(file_path=reports_path)\n",
    "\n",
    "df_malwares_first_sub_date.head()"
   ]
  },
  {
   "cell_type": "code",
   "execution_count": null,
   "id": "74743895-f376-4014-9470-0490564d51af",
   "metadata": {
    "ExecuteTime": {
     "end_time": "2024-03-12T13:18:17.246173612Z",
     "start_time": "2024-03-12T13:18:17.246015994Z"
    }
   },
   "outputs": [],
   "source": [
    "def extract_malware_family(file_path) -> pd.DataFrame:\n",
    "    df = pd.read_csv(file_path, usecols=[\"SHA256\", \"FAMILY\"])\n",
    "    return df.rename(str.lower, axis=\"columns\")"
   ]
  },
  {
   "cell_type": "code",
   "execution_count": null,
   "id": "0e238386-5986-42ea-bc45-c576826647a4",
   "metadata": {
    "ExecuteTime": {
     "end_time": "2024-03-12T13:18:17.247407480Z",
     "start_time": "2024-03-12T13:18:17.246805575Z"
    }
   },
   "outputs": [],
   "source": [
    "malware_families_path = \"../../vt_reports/siggregator_all_samples_no_fuzzy_hash.csv\"\n",
    "df_malware_families = extract_malware_family(file_path=malware_families_path)\n",
    "df_malware_families.head()"
   ]
  },
  {
   "cell_type": "code",
   "execution_count": null,
   "id": "c1c250ad-8ec6-4085-9939-d955fc5fe239",
   "metadata": {
    "ExecuteTime": {
     "start_time": "2024-03-12T13:18:17.249288187Z"
    }
   },
   "outputs": [],
   "source": [
    "# Join dataframes\n",
    "df = pd.merge(left=df_malwares_first_sub_date, right=df_malware_families, on=\"sha256\")\n",
    "df.head()"
   ]
  },
  {
   "cell_type": "code",
   "execution_count": null,
   "id": "256e070f9fc296a0",
   "metadata": {
    "ExecuteTime": {
     "end_time": "2024-03-12T13:18:17.328232314Z",
     "start_time": "2024-03-12T13:18:17.292265165Z"
    },
    "collapsed": false
   },
   "outputs": [],
   "source": [
    "df.to_csv(\"../../vt_reports/merge.csv\", index=False)"
   ]
  }
 ],
 "metadata": {
  "kernelspec": {
   "display_name": "concept_drift",
   "language": "python",
   "name": "concept_drift"
  },
  "language_info": {
   "codemirror_mode": {
    "name": "ipython",
    "version": 3
   },
   "file_extension": ".py",
   "mimetype": "text/x-python",
   "name": "python",
   "nbconvert_exporter": "python",
   "pygments_lexer": "ipython3",
   "version": "3.11.6"
  }
 },
 "nbformat": 4,
 "nbformat_minor": 5
}
