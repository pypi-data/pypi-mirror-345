{
 "cells": [
  {
   "cell_type": "code",
   "execution_count": 1,
   "metadata": {},
   "outputs": [],
   "source": [
    "import os\n",
    "import numpy as np\n",
    "from pytomography.io.SPECT import dicom\n",
    "from pytomography.transforms.SPECT import SPECTAttenuationTransform, SPECTPSFTransform\n",
    "from pytomography.algorithms import OSEM\n",
    "from pytomography.projectors.SPECT import SPECTSystemMatrix\n",
    "from pytomography.likelihoods import PoissonLogLikelihood\n",
    "from pytomography.utils import print_collimator_parameters\n",
    "import matplotlib.pyplot as plt\n",
    "import pydicom\n",
    "import shutil"
   ]
  },
  {
   "cell_type": "code",
   "execution_count": 2,
   "metadata": {},
   "outputs": [],
   "source": [
    "PATH = '/disk1/pytomography_tutorial_data' \n",
    "data_path = os.path.join(PATH, 'dicom_intro_tutorial')"
   ]
  },
  {
   "cell_type": "code",
   "execution_count": null,
   "metadata": {},
   "outputs": [],
   "source": [
    "TYPE = 'DICOM' # DICOM or SIMIND recons"
   ]
  },
  {
   "cell_type": "code",
   "execution_count": 3,
   "metadata": {},
   "outputs": [
    {
     "name": "stdout",
     "output_type": "stream",
     "text": [
      "Given photopeak energy 208.0 keV and CT energy 130 keV from the CT DICOM header, the HU->mu conversion from the following configuration is used: 208.0 keV SPECT energy, 130 keV CT energy, and scanner model symbiat2\n"
     ]
    }
   ],
   "source": [
    "if TYPE=='DICOM':\n",
    "    path_CT = os.path.join(data_path, 'CT')\n",
    "    files_CT = [os.path.join(path_CT, file) for file in os.listdir(path_CT)]\n",
    "    file_NM = os.path.join(data_path, 'projection_data.dcm')\n",
    "    object_meta, proj_meta = dicom.get_metadata(file_NM, index_peak=0)\n",
    "    photopeak = dicom.get_projections(file_NM, index_peak=0)\n",
    "    scatter = dicom.get_energy_window_scatter_estimate(file_NM, index_peak=0, index_lower=1, index_upper=2)\n",
    "    att_transform = SPECTAttenuationTransform(filepath=files_CT)\n",
    "    collimator_name = 'SY-ME'\n",
    "    energy_kev = 208 #keV\n",
    "    intrinsic_resolution=0.38 #mm\n",
    "    psf_meta = dicom.get_psfmeta_from_scanner_params(\n",
    "        collimator_name,\n",
    "        energy_kev,\n",
    "        intrinsic_resolution=intrinsic_resolution\n",
    "    )\n",
    "    psf_transform = SPECTPSFTransform(psf_meta)\n",
    "    system_matrix = SPECTSystemMatrix(\n",
    "        obj2obj_transforms = [att_transform,psf_transform],\n",
    "        proj2proj_transforms = [],\n",
    "        object_meta = object_meta,\n",
    "        proj_meta = proj_meta)\n",
    "    likelihood = PoissonLogLikelihood(system_matrix, photopeak, scatter)\n",
    "elif TYPE=='SIMIND'"
   ]
  },
  {
   "cell_type": "code",
   "execution_count": null,
   "metadata": {},
   "outputs": [],
   "source": []
  }
 ],
 "metadata": {
  "kernelspec": {
   "display_name": "pytomo_install_test",
   "language": "python",
   "name": "python3"
  },
  "language_info": {
   "codemirror_mode": {
    "name": "ipython",
    "version": 3
   },
   "file_extension": ".py",
   "mimetype": "text/x-python",
   "name": "python",
   "nbconvert_exporter": "python",
   "pygments_lexer": "ipython3",
   "version": "3.11.10"
  }
 },
 "nbformat": 4,
 "nbformat_minor": 2
}
