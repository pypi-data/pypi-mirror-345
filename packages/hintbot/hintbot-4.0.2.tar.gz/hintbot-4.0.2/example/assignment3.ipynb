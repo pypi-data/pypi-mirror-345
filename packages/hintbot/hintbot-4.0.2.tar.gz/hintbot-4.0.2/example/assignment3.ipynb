{
 "cells": [
  {
   "cell_type": "markdown",
   "metadata": {
    "deletable": false,
    "editable": false,
    "nbgrader": {
     "cell_type": "markdown",
     "checksum": "f79a043a06dada39f406fa40c3301e60",
     "grade": false,
     "grade_id": "cell-018440ed2f1b6a62",
     "locked": true,
     "schema_version": 3,
     "solution": false
    }
   },
   "source": [
    "# Assignment 3\n",
    "The data you will be using is the FOIA data gathered from the city of Ann Arbor on parking tickets. The repository is made up of a set of Excel files which you're going to have to figure out how to load into a pandas `DataFrame` (time to check the APIs!). The files may have more than one sheet in them (who knows why!?). I'd like you to answer the following questions for me.\n",
    "\n",
    "This is a substantial amount of data. Therefore, things will take a while to run. For testing purposes, I would recommend using a reasonable representative subset before applying your functions on the entire dataframe. Make sure you remove any extraneous outputs before you turn in your final copy though!"
   ]
  },
  {
   "cell_type": "markdown",
   "metadata": {
    "deletable": false,
    "editable": false,
    "nbgrader": {
     "cell_type": "markdown",
     "checksum": "98694c9269352e7d8679956841660959",
     "grade": false,
     "grade_id": "cell-7e5190c7ff1f2e42",
     "locked": true,
     "schema_version": 3,
     "solution": false
    }
   },
   "source": [
    "## Question 1: load_ticket_data()\n",
    "First, write the code to create a single `DataFrame` object in a function called `load_ticket_data()`. This function should return the full dataframe and take no parameters (you can assume the ticket files are in the same directory as your assignment notebook). Column labels should be as follows:\n",
    "\n",
    "`['Ticket #', 'Badge', 'Issue Date ', 'IssueTime', 'Plate', 'State',\n",
    "       'Make', 'Model', 'Violation', ' Description', 'Location', 'Meter',\n",
    "       ' Fine ', 'Penalty']`\n",
    "\n",
    "\n",
    "Here are some hints.\n",
    "<ol>\n",
    "<li> Be sure to scroll through every single sheet to make sure what rows should be dropped.</li>\n",
    "<li> Make sure to exclude unnecessary footers and headers from the datafile.</li>\n",
    "<li> Check if your header labels are correct.</li>\n",
    "</ol>"
   ]
  },
  {
   "cell_type": "code",
   "execution_count": null,
   "metadata": {
    "deletable": false,
    "nbgrader": {
     "cell_type": "code",
     "checksum": "6d4a0b9b6d884189c3b2fbd4dee3441a",
     "grade": false,
     "grade_id": "cell-85d6b39df17aa02f",
     "locked": false,
     "schema_version": 3,
     "solution": true
    }
   },
   "outputs": [],
   "source": [
    "def load_ticket_data():\n",
    "    import xlrd\n",
    "    import pandas as pd\n",
    "    import numpy as np\n",
    "    import re\n",
    "\n",
    "    # Filter all warnings. If you would like to see the warnings, please comment the two lines below.\n",
    "    import warnings\n",
    "    warnings.filterwarnings('ignore')\n",
    "\n",
    "    # YOUR CODE HERE\n",
    "    raise NotImplementedError()"
   ]
  },
  {
   "cell_type": "code",
   "execution_count": null,
   "metadata": {
    "deletable": false,
    "editable": false,
    "nbgrader": {
     "cell_type": "code",
     "checksum": "29ea532dada4e7b1eb210da385b8c3e4",
     "grade": true,
     "grade_id": "cell-ece042ccd621104a",
     "locked": true,
     "points": 1,
     "schema_version": 3,
     "solution": false
    }
   },
   "outputs": [],
   "source": [
    "import xlrd\n",
    "import pandas as pd\n",
    "import numpy as np\n",
    "import re\n",
    "\n",
    "df_1_test = load_ticket_data()\n",
    "assert isinstance(df_1_test, pd.DataFrame), \"Q1: What your function returns must be pd.DataFrame.\"\n",
    "assert len(df_1_test) == 811439, \"Q1: There should be 811439 rows in the dataframe.\"\n",
    "assert len(df_1_test.columns) == 14, \"Q1: There should be 14 columns in the dataframe.\""
   ]
  },
  {
   "cell_type": "markdown",
   "metadata": {
    "deletable": false,
    "editable": false,
    "nbgrader": {
     "cell_type": "markdown",
     "checksum": "b796a0f6835cc7a9a16ff211790053db",
     "grade": false,
     "grade_id": "cell-babe0ff2a1fc6b17",
     "locked": true,
     "schema_version": 3,
     "solution": false
    }
   },
   "source": [
    "## Question 2: generate_descriptors()\n",
    "Write a function called `generate_descriptors(df)` which takes in the DataFrame you loaded from Question1 and returns a dataframe of all unique ticket descriptions and how frequent they are (e.g. it will tell you how many \"HANDICAP\" or \"NO PERMITS U/M\" tickets have been issued) for each of the following three time periods: morning (3 am to 11:59 am), afternoon (12 pm - 5:59 pm), and evening (6 pm - 2:59 am).\n",
    "\n",
    "* Make sure you drop na values of input `df`. \n",
    "* The DataFrame which `generate_descriptors(df)` returns should have 3 rows and 51 columns. \n",
    "* Index should be labelled as `Morning`, `Afternoon`, and `Evening`. \n",
    "* Column names should be unique values of `df[\"Description\"]`.   "
   ]
  },
  {
   "cell_type": "code",
   "execution_count": null,
   "metadata": {
    "deletable": false,
    "nbgrader": {
     "cell_type": "code",
     "checksum": "ae2402240ea1b46bcd76c7b694854c94",
     "grade": false,
     "grade_id": "cell-b0c3202c000aada4",
     "locked": false,
     "schema_version": 3,
     "solution": true
    }
   },
   "outputs": [],
   "source": [
    "def generate_descriptors(df):\n",
    "    import xlrd\n",
    "    import pandas as pd\n",
    "    import numpy as np\n",
    "    import re\n",
    "\n",
    "    # Filter all warnings. If you would like to see the warnings, please comment the two lines below.\n",
    "    import warnings\n",
    "    warnings.filterwarnings('ignore')\n",
    "    \n",
    "    # YOUR CODE HERE\n",
    "    raise NotImplementedError()\n",
    "    return df_q2"
   ]
  },
  {
   "cell_type": "code",
   "execution_count": null,
   "metadata": {
    "deletable": false,
    "editable": false,
    "nbgrader": {
     "cell_type": "code",
     "checksum": "193f197dec728ed4e5b59e7e7f54dbec",
     "grade": true,
     "grade_id": "cell-c97ee66ccdccb430",
     "locked": true,
     "points": 1,
     "schema_version": 3,
     "solution": false
    }
   },
   "outputs": [],
   "source": [
    "df_q2 = generate_descriptors(load_ticket_data())\n",
    "assert df_q2.shape == (3, 51), \"Q2: The shape of the DataFrame is incorrect.\"\n",
    "assert \"Morning\" in df_q2.index, 'Q2: \"Morning\" shoud be in the index of the DataFrame'\n",
    "assert \"Afternoon\" in df_q2.index, 'Q2: \"Afternoon\" should be in the index of the DataFrame'\n",
    "assert \"Evening\" in df_q2.index, 'Q2: \"Evening\" should be in the index of the DataFrame'"
   ]
  },
  {
   "cell_type": "markdown",
   "metadata": {
    "deletable": false,
    "editable": false,
    "nbgrader": {
     "cell_type": "markdown",
     "checksum": "0a21b223301cd89aefc8a763a46f7d05",
     "grade": false,
     "grade_id": "cell-89d80693491a3d33",
     "locked": true,
     "schema_version": 3,
     "solution": false
    }
   },
   "source": [
    "## Question 3: common_car_make()\n",
    "What is the most common make of car which received tickets from the state of NY? The answer should be a string."
   ]
  },
  {
   "cell_type": "code",
   "execution_count": null,
   "metadata": {
    "deletable": false,
    "nbgrader": {
     "cell_type": "code",
     "checksum": "6b99b41fbc6e7ba6bc5136a23f88a5e8",
     "grade": false,
     "grade_id": "cell-bce4d6f2ecdd1297",
     "locked": false,
     "schema_version": 3,
     "solution": true
    }
   },
   "outputs": [],
   "source": [
    "def common_car_make():\n",
    "    import xlrd\n",
    "    import pandas as pd\n",
    "    import numpy as np\n",
    "    import re\n",
    "\n",
    "    # Filter all warnings. If you would like to see the warnings, please comment the two lines below.\n",
    "    import warnings\n",
    "    warnings.filterwarnings('ignore')\n",
    "\n",
    "    df = load_ticket_data()\n",
    "# YOUR CODE HERE\n",
    "raise NotImplementedError()"
   ]
  },
  {
   "cell_type": "code",
   "execution_count": null,
   "metadata": {
    "deletable": false,
    "editable": false,
    "nbgrader": {
     "cell_type": "code",
     "checksum": "329494751336ddd909063ed0b5f0b732",
     "grade": true,
     "grade_id": "cell-780b5a4da845dbc3",
     "locked": true,
     "points": 1,
     "schema_version": 3,
     "solution": false
    }
   },
   "outputs": [],
   "source": [
    "answer3 = common_car_make()\n",
    "assert isinstance(answer3, str), \"Q3: Your answer should be a string type.\""
   ]
  },
  {
   "cell_type": "markdown",
   "metadata": {
    "deletable": false,
    "editable": false,
    "nbgrader": {
     "cell_type": "markdown",
     "checksum": "2aa9a09b8452b0322b8e1d8168e42f59",
     "grade": false,
     "grade_id": "cell-2e54816014e48c18",
     "locked": true,
     "schema_version": 3,
     "solution": false
    }
   },
   "source": [
    "## Question 4: fine_per_plates()\n",
    "Starting in 2004 Michigan moved to issuing plates with the format of ABC1234. That got me thinking, how many vanity plate holders there are in our dataset? Count for me the number of Michigan vehicles with plates in the following formats that have received a ticket:\n",
    "- ABC1234\n",
    "- ABC123\n",
    "- 123ABC\n",
    "- Vanity Plates (i.e. anything other than the aforementioned formats, including missing or NaN values)\n",
    "\n",
    "Complete the function `fine_per_plates()` returning a dictionary. The dictinary should be formatted as follows:\n",
    "```\n",
    "plates_dict = {\"ABC1234\":the_number_of_vehicles,\n",
    "                \"ABC123\":the_number_of_vehicles,\n",
    "                \"123ABC\":the_number_of_vehicles,\n",
    "                \"vanity\":the_number_of_vehicles}\n",
    "```"
   ]
  },
  {
   "cell_type": "code",
   "execution_count": null,
   "metadata": {
    "deletable": false,
    "nbgrader": {
     "cell_type": "code",
     "checksum": "e91f2ea1a824e036d1fddc561b4f26d3",
     "grade": false,
     "grade_id": "cell-8c3d74335c0d489a",
     "locked": false,
     "schema_version": 3,
     "solution": true
    }
   },
   "outputs": [],
   "source": [
    "def fine_per_plates():\n",
    "    import xlrd\n",
    "    import pandas as pd\n",
    "    import numpy as np\n",
    "    import re\n",
    "\n",
    "    # Filter all warnings. If you would like to see the warnings, please comment the two lines below.\n",
    "    import warnings\n",
    "    warnings.filterwarnings('ignore')\n",
    "    \n",
    "    df = load_ticket_data()\n",
    "    # YOUR CODE HERE\n",
    "    raise NotImplementedError()"
   ]
  },
  {
   "cell_type": "code",
   "execution_count": null,
   "metadata": {
    "deletable": false,
    "editable": false,
    "nbgrader": {
     "cell_type": "code",
     "checksum": "e0103e9d106caf0e70656b956ead7fa5",
     "grade": true,
     "grade_id": "cell-aaaa11ef7d26f4cf",
     "locked": true,
     "points": 1,
     "schema_version": 3,
     "solution": false
    }
   },
   "outputs": [],
   "source": [
    "assert len(fine_per_plates())==4, \"Return a dictionary with four items.\"\n"
   ]
  }
 ],
 "metadata": {
  "anaconda-cloud": {},
  "etc_identifier": "7ca0093b-b622-4463-9696-65f1e0f33522",
  "kernelspec": {
   "display_name": "Python 3 (ipykernel)",
   "language": "python",
   "name": "python3"
  },
  "language_info": {
   "codemirror_mode": {
    "name": "ipython",
    "version": 3
   },
   "file_extension": ".py",
   "mimetype": "text/x-python",
   "name": "python",
   "nbconvert_exporter": "python",
   "pygments_lexer": "ipython3",
   "version": "3.12.2"
  }
 },
 "nbformat": 4,
 "nbformat_minor": 4
}
