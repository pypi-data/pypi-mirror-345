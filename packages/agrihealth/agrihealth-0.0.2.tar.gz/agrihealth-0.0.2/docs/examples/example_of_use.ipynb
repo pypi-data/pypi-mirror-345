{
 "cells": [
  {
   "cell_type": "markdown",
   "metadata": {},
   "source": [
    "\n",
    "### Example of Agrihealth use: \n",
    "\n",
    "**Using TiffHandler and ShapefileHandler**\n",
    "\n",
    "Use TiffHandler to load and process your .tif raster image. From satellite or drone imagery with multiple spectral bands (e.g., red, NIR) needed for vegetation analysis.\n",
    "\n",
    "**Use ShapefileHandler** to load your shapefile, which contains vector data such as field boundaries or management zones. This allows you to link raster-based vegetation indices to real-world geographic features.\n",
    "\n",
    "**Calculating Vegetation Indices**\n",
    "\n",
    "Upload your own .tif image and choose the vegetation index you want to calculate. The TiffHandler will automatically extract the required spectral bands and compute the selected index using built-in formulas.\n",
    "\n",
    "The results will be returned as a DataFrame, which you can merge with shapefile data to assign vegetation index values to specific geographic areas.\n",
    "\n",
    "**Plotting the Results**\n",
    "\n",
    "Use matplotlib to visualize the shapefile polygons. Each polygon will be color-coded based on its vegetation index value, helping you quickly identify differences in vegetation health across your fields or zones.\n",
    "\n",
    "**Interactive Map Visualization**\n",
    "\n",
    "To explore your data interactively, use one of the following map classes:\n",
    "\n",
    "*LeafletMap* – a lightweight option for basic interactive mapping.\n",
    "\n",
    "*FoliumMap* – includes more advanced features like basemap toggling and layer controls.\n",
    "\n",
    "Both map types support coloring your shapefile polygons by vegetation index values, giving you a clear, visual way to assess vegetation conditions across your area of interest.\n"
   ]
  },
  {
   "cell_type": "markdown",
   "metadata": {},
   "source": [
    "### 1. Import necessary libraries from agrihealth"
   ]
  },
  {
   "cell_type": "code",
   "execution_count": null,
   "metadata": {},
   "outputs": [],
   "source": [
    "from agrihealth import TiffHandler, LeafletMap, FoliumMap, ShapefileHandler\n"
   ]
  },
  {
   "cell_type": "markdown",
   "metadata": {},
   "source": [
    "### 2. Load a TIF Image and Extract Bands"
   ]
  },
  {
   "cell_type": "code",
   "execution_count": null,
   "metadata": {},
   "outputs": [],
   "source": [
    "# Provide the path to your .tif image\n",
    "tif_path = \"./data/fields.tif\"\n",
    "\n",
    "# Initialize TiffHandler\n",
    "tiff = TiffHandler(tif_path)\n",
    "\n",
    "# Load and extract bands\n",
    "df = tiff.extract_bands()\n",
    "\n",
    "# Show the first few rows\n",
    "df.head()\n"
   ]
  },
  {
   "cell_type": "markdown",
   "metadata": {},
   "source": [
    "### 3. Initialize the TiffHandler again for the specific .tif file and ShapefileHandler for the shapefile"
   ]
  },
  {
   "cell_type": "code",
   "execution_count": null,
   "metadata": {},
   "outputs": [],
   "source": [
    " # Initialize the TiffHandler and ShapefileHandler\n",
    "tiff_handler = TiffHandler(\"./data/fields.tif\")\n",
    "shapefile_handler = ShapefileHandler('./data/fields/All_Fields_Export.shp')"
   ]
  },
  {
   "cell_type": "code",
   "execution_count": null,
   "metadata": {},
   "outputs": [],
   "source": [
    "# Print the first few rows of the DataFrame (NDVI values in the DataFrame)\n",
    "print(df.head())\n",
    "print(df['NDVI'].describe())"
   ]
  },
  {
   "cell_type": "code",
   "execution_count": null,
   "metadata": {},
   "outputs": [],
   "source": [
    "# Extract NDVI from the raster\n",
    "df = tiff_handler.extract_bands()\n",
    "\n",
    "# Get the shapefile data\n",
    "gdf = shapefile_handler.get_shapefile_data()\n",
    "\n",
    "# Print the GeoDataFrame (shapefile data)\n",
    "print(gdf)\n"
   ]
  },
  {
   "cell_type": "markdown",
   "metadata": {},
   "source": [
    "### 4. Visualization "
   ]
  },
  {
   "cell_type": "code",
   "execution_count": null,
   "metadata": {},
   "outputs": [],
   "source": [
    "# Import the necessary library for plotting\n",
    "import matplotlib.pyplot as plt\n",
    "\n",
    "# We merge the vegetation index (ndvi, evi, gndvi or savi) data into the shapefile data (GeoDataFrame)\n",
    "gdf = shapefile_handler.get_shapefile_data()\n",
    "\n",
    "# Merge NDVI values into the GeoDataFrame\n",
    "gdf['NDVI'] = df['NDVI']  # Assuming df has NDVI values in the same order\n",
    "\n",
    "# Plot the shapefile with NDVI values\n",
    "fig, ax = plt.subplots(figsize=(10, 10))\n",
    "gdf.plot(column='NDVI', ax=ax, legend=True,\n",
    "         legend_kwds={'label': \"NDVI by Polygon\",\n",
    "                      'orientation': \"horizontal\"})\n",
    "ax.set_title(\"Shapefile with Vegetation Index (NDVI)\")\n",
    "plt.show()\n"
   ]
  },
  {
   "cell_type": "markdown",
   "metadata": {},
   "source": [
    "### 5. Create Maps "
   ]
  },
  {
   "cell_type": "code",
   "execution_count": null,
   "metadata": {},
   "outputs": [],
   "source": [
    "# Compute the map center using geometries\n",
    "centroid = gdf.geometry.centroid\n",
    "map_center = [centroid.y.mean(), centroid.x.mean()]\n",
    "\n",
    "# Initialize the map\n",
    "fmap = LeafletMap(center=map_center, zoom=13)\n",
    "\n",
    "# Add desired basemaps (each only once)\n",
    "fmap.add_basemaps()\n",
    "\n",
    "# Add vector layer colored by 'NDVI'\n",
    "fmap.add_vector(gdf, color_column=\"NDVI\")\n",
    "\n",
    "# Display the map\n",
    "fmap.show()"
   ]
  },
  {
   "cell_type": "markdown",
   "metadata": {},
   "source": [
    "# Create map with Folium"
   ]
  },
  {
   "cell_type": "code",
   "execution_count": null,
   "metadata": {},
   "outputs": [],
   "source": [
    "# Compute map center\n",
    "centroid = gdf.geometry.centroid\n",
    "map_center = [centroid.y.mean(), centroid.x.mean()]\n",
    "\n",
    "# Initialize the map\n",
    "fmap = FoliumMap(location=map_center, zoom_start=13)\n",
    "\n",
    "# Add all basemaps (this will automatically avoid duplicates)\n",
    "fmap.add_all_basemaps()  # This adds all basemaps defined in self.basemaps\n",
    "\n",
    "# Add vector layer to the map (color based on 'NDVI' column)\n",
    "fmap.add_vector(gdf, color_column='NDVI')\n",
    "\n",
    "# Add layer control (to toggle between layers)\n",
    "fmap.add_layer_control()\n",
    "\n",
    "# Display the map\n",
    "fmap.show()"
   ]
  },
  {
   "cell_type": "code",
   "execution_count": null,
   "metadata": {},
   "outputs": [],
   "source": []
  }
 ],
 "metadata": {
  "kernelspec": {
   "display_name": "gis",
   "language": "python",
   "name": "python3"
  },
  "language_info": {
   "codemirror_mode": {
    "name": "ipython",
    "version": 3
   },
   "file_extension": ".py",
   "mimetype": "text/x-python",
   "name": "python",
   "nbconvert_exporter": "python",
   "pygments_lexer": "ipython3",
   "version": "3.12.8"
  }
 },
 "nbformat": 4,
 "nbformat_minor": 2
}
