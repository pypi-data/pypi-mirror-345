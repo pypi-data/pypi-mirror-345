{
 "cells": [
  {
   "cell_type": "code",
   "execution_count": 1,
   "metadata": {},
   "outputs": [
    {
     "name": "stdout",
     "output_type": "stream",
     "text": [
      "|    |   Model | Split   |   Step |     reward |\n",
      "|---:|--------:|:--------|-------:|-----------:|\n",
      "|  0 |     001 | train   |   0000 |  0.135417  |\n",
      "|  1 |     001 | train   |   0001 |  0.40625   |\n",
      "|  2 |     001 | train   |   0002 |  0.0520833 |\n",
      "|  3 |     001 | train   |   0003 | -0.875     |\n",
      "|  4 |     001 | train   |   0004 | -0.75      |\n",
      "|  5 |     001 | train   |   0005 | -0.645833  |\n",
      "|  6 |     001 | train   |   0006 | -0.604167  |\n",
      "|  7 |     001 | train   |   0007 | -0.375     |\n",
      "|  8 |     001 | train   |   0008 |  0.520833  |\n",
      "|  9 |     001 | train   |   0009 |  0.458333  |\n",
      "| 10 |     001 | train   |   0010 |  0.489583  |\n"
     ]
    }
   ],
   "source": [
    "from art.utils.old_benchmarking.generate_comparison_table import generate_comparison_table\n",
    "from art.utils.old_benchmarking.types import BenchmarkedModelKey\n",
    "\n",
    "table = generate_comparison_table(\n",
    "    project=\"tic-tac-toe\",\n",
    "    benchmark_keys=[\n",
    "        BenchmarkedModelKey(\"001\", \"train\")\n",
    "    ],\n",
    "    metrics=[\"reward\"]\n",
    ")\n",
    "\n",
    "print(table.to_markdown())"
   ]
  },
  {
   "cell_type": "code",
   "execution_count": null,
   "metadata": {},
   "outputs": [
    {
     "ename": "",
     "evalue": "",
     "output_type": "error",
     "traceback": [
      "\u001b[1;31mThe Kernel crashed while executing code in the current cell or a previous cell. \n",
      "\u001b[1;31mPlease review the code in the cell(s) to identify a possible cause of the failure. \n",
      "\u001b[1;31mClick <a href='https://aka.ms/vscodeJupyterKernelCrash'>here</a> for more info. \n",
      "\u001b[1;31mView Jupyter <a href='command:jupyter.viewOutput'>log</a> for further details."
     ]
    }
   ],
   "source": [
    "from art.utils.old_benchmarking.generate_line_graphs import generate_line_graphs\n",
    "from art.utils.old_benchmarking.display_image_grid import display_image_grid\n",
    "from art.utils.old_benchmarking.types import BenchmarkedModelKey\n",
    "\n",
    "graph_image_paths = generate_line_graphs(\n",
    "    project=\"tic-tac-toe\",\n",
    "    line_graph_keys=[\n",
    "        BenchmarkedModelKey(\"003\", \"train\"),\n",
    "    ],\n",
    "    comparison_keys=[\n",
    "        BenchmarkedModelKey(\"gpt-4o\", \"val\"),\n",
    "    ],\n",
    "    metrics=[\"reward\", \"reward_std_dev\"],\n",
    "    x_axis_metric=\"step\"\n",
    ")\n",
    "\n",
    "display_image_grid(graph_image_paths)"
   ]
  }
 ],
 "metadata": {
  "kernelspec": {
   "display_name": ".venv",
   "language": "python",
   "name": "python3"
  },
  "language_info": {
   "codemirror_mode": {
    "name": "ipython",
    "version": 3
   },
   "file_extension": ".py",
   "mimetype": "text/x-python",
   "name": "python",
   "nbconvert_exporter": "python",
   "pygments_lexer": "ipython3",
   "version": "3.10.13"
  }
 },
 "nbformat": 4,
 "nbformat_minor": 2
}
