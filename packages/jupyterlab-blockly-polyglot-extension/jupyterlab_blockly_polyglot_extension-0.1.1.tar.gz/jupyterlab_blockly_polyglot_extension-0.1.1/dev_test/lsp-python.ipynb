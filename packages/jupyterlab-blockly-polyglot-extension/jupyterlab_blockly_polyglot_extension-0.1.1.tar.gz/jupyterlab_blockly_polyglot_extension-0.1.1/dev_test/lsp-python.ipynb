{
 "cells": [
  {
   "cell_type": "markdown",
   "id": "8e7159d6-d6d1-4387-962b-913105d30188",
   "metadata": {},
   "source": [
    "# start"
   ]
  },
  {
   "cell_type": "code",
   "execution_count": 19,
   "id": "4f96fa39-d15b-47a7-a234-214bfd42d3d7",
   "metadata": {},
   "outputs": [],
   "source": [
    "import pandas as pd\n",
    "\n",
    "#<xml xmlns=\"https://developers.google.com/blockly/xml\"><variables><variable id=\"xKANhr$+hvj,P*[4AarF\">pd</variable></variables><block type=\"importAs\" id=\"{Pz6yF%F|,C?[P22:j.0\" x=\"16\" y=\"8\"><field name=\"libraryName\">pandas</field><field name=\"libraryAlias\" id=\"xKANhr$+hvj,P*[4AarF\">pd</field></block></xml>"
   ]
  },
  {
   "cell_type": "code",
   "execution_count": 10,
   "id": "f4ab3f6e-b490-4cce-ba0f-0e7f5667c9f0",
   "metadata": {},
   "outputs": [],
   "source": [
    "df = pd.read_csv('datasets/iris.csv')\n",
    "\n",
    "#<xml xmlns=\"https://developers.google.com/blockly/xml\"><variables><variable id=\"ld[f:iF_J(ZQvwYk#Iam\">df</variable><variable id=\"xKANhr$+hvj,P*[4AarF\">pd</variable></variables><block type=\"variables_set\" id=\"dG{af;+`7aEZ-qBtrOHC\" x=\"133\" y=\"149\"><field name=\"VAR\" id=\"ld[f:iF_J(ZQvwYk#Iam\">df</field><value name=\"VALUE\"><block type=\"varDoMethod\" id=\"]zH36{_vsqSWH014r8ga\"><mutation items=\"1\"></mutation><field name=\"VAR\" id=\"xKANhr$+hvj,P*[4AarF\">pd</field><field name=\"MEMBER\">read_csv</field><data>pd:read_csv</data><value name=\"ADD0\"><block type=\"text\" id=\"8hp_v#*Z{H`bcSnLBh)6\"><field name=\"TEXT\">datasets/iris.csv</field></block></value></block></value></block></xml>"
   ]
  },
  {
   "cell_type": "code",
   "execution_count": 5,
   "id": "40390acc-4343-42ef-b4c4-4dd6b6641205",
   "metadata": {},
   "outputs": [],
   "source": [
    "x = 0\n",
    "\n",
    "x.\n",
    "\n",
    "#<xml xmlns=\"https://developers.google.com/blockly/xml\"><variables><variable id=\"zqC]{1azE#X+Y4pTqQY$\">x</variable></variables><block type=\"variables_set\" id=\".*Z}w/O~V71BpNBAWd4,\" x=\"41\" y=\"275\"><field name=\"VAR\" id=\"zqC]{1azE#X+Y4pTqQY$\">x</field><value name=\"VALUE\"><block type=\"math_number\" id=\"Q+[*Bo`xw_gA%(snd`-8\"><field name=\"NUM\">0</field></block></value></block></xml>"
   ]
  },
  {
   "cell_type": "code",
   "execution_count": 20,
   "id": "ca606f0c-c887-4d9f-b794-68a66763a223",
   "metadata": {},
   "outputs": [],
   "source": [
    "import numpy as np\n",
    "\n",
    "#<xml xmlns=\"https://developers.google.com/blockly/xml\"><variables><variable id=\"WEz?:@(i(^HgHE;,v{CQ\">np</variable></variables><block type=\"importAs\" id=\"G(990E0FWT.zPH0^]72/\" x=\"16\" y=\"8\"><field name=\"libraryName\">numpy</field><field name=\"libraryAlias\" id=\"WEz?:@(i(^HgHE;,v{CQ\">np</field></block></xml>"
   ]
  },
  {
   "cell_type": "code",
   "execution_count": null,
   "id": "4994a494-682c-443f-83e1-be608a071289",
   "metadata": {},
   "outputs": [],
   "source": [
    "np.abs()\n",
    "\n",
    "#<xml xmlns=\"https://developers.google.com/blockly/xml\"><variables><variable id=\"WEz?:@(i(^HgHE;,v{CQ\">np</variable></variables><block type=\"varDoMethod\" id=\"bKI^(bg=y(c9FYqz(dtM\" x=\"8\" y=\"186\"><mutation items=\"1\"></mutation><field name=\"VAR\" id=\"WEz?:@(i(^HgHE;,v{CQ\">np</field><field name=\"MEMBER\">abs</field><data>np:abs</data></block></xml>"
   ]
  }
 ],
 "metadata": {
  "kernelspec": {
   "display_name": "Python 3 (ipykernel)",
   "language": "python",
   "name": "python3"
  },
  "language_info": {
   "codemirror_mode": {
    "name": "ipython",
    "version": 3
   },
   "file_extension": ".py",
   "mimetype": "text/x-python",
   "name": "python",
   "nbconvert_exporter": "python",
   "pygments_lexer": "ipython3",
   "version": "3.10.6"
  }
 },
 "nbformat": 4,
 "nbformat_minor": 5
}
