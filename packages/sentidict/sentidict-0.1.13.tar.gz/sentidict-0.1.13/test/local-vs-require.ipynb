{
 "cells": [
  {
   "cell_type": "code",
   "execution_count": 1,
   "metadata": {
    "deletable": true,
    "editable": true
   },
   "outputs": [],
   "source": [
    "from IPython.display import Javascript, HTML"
   ]
  },
  {
   "cell_type": "code",
   "execution_count": 5,
   "metadata": {
    "collapsed": false,
    "deletable": true,
    "editable": true,
    "jupyter": {
     "outputs_hidden": false
    }
   },
   "outputs": [
    {
     "data": {
      "text/html": [
       "<script src=\"static/d3.v3.js\"charset=\"utf-8\"></script>"
      ],
      "text/plain": [
       "<IPython.core.display.HTML object>"
      ]
     },
     "execution_count": 5,
     "metadata": {},
     "output_type": "execute_result"
    }
   ],
   "source": [
    "# works if the static directory is in this folder\n",
    "HTML(\"\"\"<script src=\"static/d3.v3.js\"charset=\"utf-8\"></script>\"\"\")"
   ]
  },
  {
   "cell_type": "code",
   "execution_count": 12,
   "metadata": {
    "collapsed": false,
    "deletable": true,
    "editable": true,
    "jupyter": {
     "outputs_hidden": false
    }
   },
   "outputs": [
    {
     "data": {
      "text/html": [
       "<script src=\"../static/hedotools.js\"charset=\"utf-8\"></script>"
      ],
      "text/plain": [
       "<IPython.core.display.HTML object>"
      ]
     },
     "execution_count": 12,
     "metadata": {},
     "output_type": "execute_result"
    }
   ],
   "source": [
    "# works if it's one up\n",
    "HTML(\"\"\"<script src=\"../static/hedotools.js\"charset=\"utf-8\"></script>\"\"\")"
   ]
  },
  {
   "cell_type": "code",
   "execution_count": 7,
   "metadata": {
    "collapsed": false,
    "deletable": true,
    "editable": true,
    "jupyter": {
     "outputs_hidden": false
    }
   },
   "outputs": [
    {
     "data": {
      "application/javascript": [
       "console.log(d3);"
      ],
      "text/plain": [
       "<IPython.core.display.Javascript object>"
      ]
     },
     "execution_count": 7,
     "metadata": {},
     "output_type": "execute_result"
    }
   ],
   "source": [
    "# check!\n",
    "Javascript(\"\"\"console.log(d3);\"\"\")"
   ]
  },
  {
   "cell_type": "code",
   "execution_count": 14,
   "metadata": {
    "collapsed": false,
    "deletable": true,
    "editable": true,
    "jupyter": {
     "outputs_hidden": false
    }
   },
   "outputs": [
    {
     "data": {
      "application/javascript": [
       "requirejs.config({\n",
       "    paths: {\n",
       "        d3: \"https://cdnjs.cloudflare.com/ajax/libs/d3/3.5.17/d3\",\n",
       "        hedotools: \"https://andyreagan.github.io/hedotools/js/hedotools\"\n",
       "    }\n",
       "});\n",
       "    require(['d3','hedotools'], function(d3,hedotools) {\n",
       "    window.d3 = d3;\n",
       "    // console.log(d3);\n",
       "});"
      ],
      "text/plain": [
       "<IPython.core.display.Javascript object>"
      ]
     },
     "execution_count": 14,
     "metadata": {},
     "output_type": "execute_result"
    }
   ],
   "source": [
    "# also, require!\n",
    "Javascript(\"\"\"requirejs.config({\n",
    "    paths: {\n",
    "        d3: \"https://cdnjs.cloudflare.com/ajax/libs/d3/3.5.17/d3\",\n",
    "        hedotools: \"https://andyreagan.github.io/hedotools/js/hedotools\"\n",
    "    }\n",
    "});\n",
    "    require(['d3','hedotools'], function(d3,hedotools) {\n",
    "    window.d3 = d3;\n",
    "    // console.log(d3);\n",
    "});\"\"\")"
   ]
  }
 ],
 "metadata": {
  "kernelspec": {
   "display_name": "Python 3 (ipykernel)",
   "language": "python",
   "name": "python3"
  },
  "language_info": {
   "codemirror_mode": {
    "name": "ipython",
    "version": 3
   },
   "file_extension": ".py",
   "mimetype": "text/x-python",
   "name": "python",
   "nbconvert_exporter": "python",
   "pygments_lexer": "ipython3",
   "version": "3.11.11"
  }
 },
 "nbformat": 4,
 "nbformat_minor": 4
}
