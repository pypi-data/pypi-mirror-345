{
 "cells": [
  {
   "cell_type": "code",
   "execution_count": null,
   "id": "initial_id",
   "metadata": {
    "ExecuteTime": {
     "end_time": "2025-03-04T01:45:15.091035Z",
     "start_time": "2025-03-04T01:45:15.084595Z"
    },
    "collapsed": true
   },
   "outputs": [],
   "source": [
    "from pathlib import Path\n",
    "\n",
    "import os\n",
    "\n",
    "import numpy as np\n",
    "import pandas as pd\n",
    "import rasterio\n",
    "import matplotlib.pyplot as plt\n",
    "import pyproj\n",
    "from fluxdataqaqc import Data\n",
    "from rasterio.plot import show\n",
    "\n",
    "import sys\n",
    "sys.path.append(\"../../../micromet/\")\n",
    "import micromet.volk as ffp\n",
    "\n",
    "#import utm\n",
    "%matplotlib inline\n",
    "__author__ = 'John Volk'"
   ]
  },
  {
   "cell_type": "code",
   "execution_count": null,
   "id": "6cb9608d9f7b48eb",
   "metadata": {
    "ExecuteTime": {
     "end_time": "2025-03-04T01:45:15.799261Z",
     "start_time": "2025-03-04T01:45:15.107720Z"
    }
   },
   "outputs": [],
   "source": [
    "stat_data = Data('../../station_config/US-UTM.ini')\n",
    "stat_data.out_dir = Path('../../station_config/output')\n",
    "stat_data.variables['MO_LENGTH'] = 'MO_LENGTH'\n",
    "stat_data.variables['USTAR'] = 'USTAR'\n",
    "stat_data.variables['V_SIGMA'] = 'V_SIGMA'\n",
    "\n",
    "df = stat_data.df.rename(columns=stat_data.inv_map)\n",
    "df = df.resample('h').mean()"
   ]
  },
  {
   "cell_type": "code",
   "execution_count": null,
   "id": "2c5e443c5672eea",
   "metadata": {
    "ExecuteTime": {
     "end_time": "2025-03-04T01:47:23.937333Z",
     "start_time": "2025-03-04T01:47:23.883786Z"
    }
   },
   "outputs": [],
   "source": [
    "latitude = stat_data.latitude\n",
    "longitude = stat_data.longitude\n",
    "station_coord = (latitude, longitude)\n",
    "# get EPSG code from lat,long, convert to UTM https://epsg.io/32617\n",
    "#EPSG=32700-np.round((45+latitude)/90.0)*100+np.round((-183+longitude)/6.0)\n",
    "EPSG = 5070\n",
    "#utm_coords = utm.from_latlon(latitude, longitude)\n",
    "\n",
    "transformer = pyproj.Transformer.from_crs(\"EPSG:4326\", f\"EPSG:{EPSG:.0f}\")\n",
    "(station_y, station_x) = transformer.transform(*station_coord)\n",
    "station = stat_data.site_id\n",
    "(station_y, station_x)"
   ]
  },
  {
   "cell_type": "code",
   "execution_count": null,
   "id": "9db136e262e86a7e",
   "metadata": {
    "ExecuteTime": {
     "end_time": "2025-03-04T01:47:26.774422Z",
     "start_time": "2025-03-04T01:47:26.770158Z"
    }
   },
   "outputs": [],
   "source": [
    "print(latitude, longitude)"
   ]
  },
  {
   "cell_type": "code",
   "execution_count": null,
   "id": "d576d0d3b82ed28b",
   "metadata": {
    "ExecuteTime": {
     "end_time": "2025-02-12T14:35:36.110156Z",
     "start_time": "2025-02-12T14:35:35.841387Z"
    }
   },
   "outputs": [],
   "source": [
    "#Other model parameters\n",
    "h_c = 0.2 #Height of canopy [m]\n",
    "# Estimated displacement height [m]\n",
    "d = 10**(0.979* np.log10(h_c) - 0.154)\n",
    "\n",
    "zm_s = 2. #Measurement height [m] from AMF metadata\n",
    "h_s = 2000. #Height of atmos. boundary layer [m] - assumed\n",
    "dx = 3. #Model resolution [m]\n",
    "origin_d = 200. #Model bounds distance from origin [m]\n",
    "# from 7 AM to 8 PM only, modify if needed\n",
    "start_hr = 6\n",
    "end_hr = 18\n",
    "hours = np.arange(start_hr,end_hr+1)\n",
    "\n",
    "#Loop through each day in the dataframe\n",
    "for date in df.index.date[:10]:\n",
    "    \n",
    "    #Subset dataframe to only values in day of year\n",
    "    print(f'Date: {date}')\n",
    "    temp_df = df[(df.index.date == date)&(df.index.hour.isin(hours))]\n",
    "        \n",
    "    new_dat = None\n",
    "    \n",
    "    for indx,t in enumerate(hours):\n",
    "        \n",
    "        band = indx + 1\n",
    "        print(f'Hour: {t}')\n",
    "\n",
    "        try:\n",
    "            temp_line = temp_df.loc[temp_df.index.hour == t,:]\n",
    "\n",
    "            #Calculate footprint\n",
    "            temp_ffp = ffp.ffp_climatology(domain=[-origin_d,origin_d,-origin_d,origin_d],dx=dx,dy=dx,\n",
    "                                    zm=zm_s-d, h=h_s, rs=None, z0=h_c*.123, \n",
    "                                    ol=temp_line['MO_LENGTH'].values,sigmav=temp_line['V_SIGMA'].values,\n",
    "                                    ustar=temp_line['USTAR'].values, #umean=temp_line['ws'].values,\n",
    "                                    wind_dir=temp_line['wd'].values,\n",
    "                                    crop=0,fig=0,verbosity=0)\n",
    "            ####verbosoity=2 prints out errors; if z0 triggers errors, use umean\n",
    "            #    print(zm_s-d)\n",
    "\n",
    "            f_2d = np.array(temp_ffp['fclim_2d'])\n",
    "            x_2d = np.array(temp_ffp['x_2d']) + station_x\n",
    "            y_2d = np.array(temp_ffp['y_2d']) + station_y\n",
    "            f_2d = f_2d*dx**2\n",
    "\n",
    "            #Calculate affine transform for given x_2d and y_2d\n",
    "            affine_transform = ffp.find_transform(y_2d,x_2d)\n",
    "\n",
    "            #Create data file if not already created\n",
    "            if new_dat is None:\n",
    "                out_f = f\"C:/Users/paulinkenbrandt/Documents/GitHub/MicroMet/station_config/output/a{date}_{station}.tif\"\n",
    "                #out_f = f'../../station_config/output/a{date}_{station}.tif'\n",
    "                print(f_2d.shape)\n",
    "                new_dat = rasterio.open(out_f,'w',driver='GTiff',dtype=rasterio.float64,\n",
    "                                        count=len(hours),height=f_2d.shape[0],width=f_2d.shape[1],\n",
    "                                        transform=affine_transform,\n",
    "                                        crs=transformer.target_crs,\n",
    "                                        nodata=0.00000000e+000)\n",
    "\n",
    "        except Exception as e:\n",
    "\n",
    "            print(f'Hour {t} footprint failed, band {band} not written.')\n",
    "            print(e)\n",
    "            temp_ffp = None\n",
    "\n",
    "            continue\n",
    "\n",
    "        #Mask out points that are below a % threshold (defaults to 90%)\n",
    "        f_2d = ffp.mask_fp_cutoff(f_2d)\n",
    "\n",
    "        #Write the new band\n",
    "        new_dat.write(f_2d,indx+1)\n",
    "\n",
    "        #Update tags with metadata\n",
    "        tag_dict = {'hour':f'{t*100:04}',\n",
    "                    'wind_dir':temp_line['wd'].values,\n",
    "                    'total_footprint':np.nansum(f_2d)}\n",
    "\n",
    "        new_dat.update_tags(indx+1,**tag_dict)\n",
    "    \n",
    "    #Close dataset if it exists\n",
    "    try:\n",
    "        new_dat.close()\n",
    "    except:\n",
    "        continue\n",
    "    \n",
    "    print()\n",
    "    \n"
   ]
  },
  {
   "cell_type": "code",
   "execution_count": null,
   "id": "c287c51231e27260",
   "metadata": {},
   "outputs": [],
   "source": [
    "\n"
   ]
  },
  {
   "cell_type": "code",
   "execution_count": null,
   "id": "dead6d83e6978677",
   "metadata": {
    "ExecuteTime": {
     "end_time": "2024-07-13T22:34:16.796882Z",
     "start_time": "2024-07-13T22:34:16.460914Z"
    }
   },
   "outputs": [],
   "source": [
    "plt.figure(figsize=(14,14))\n",
    "src = rasterio.open(\"../../station_config/output/a2021-05-20_US-UTW.tif\")\n",
    "show(src)"
   ]
  },
  {
   "cell_type": "code",
   "execution_count": null,
   "id": "a074baec977ed065",
   "metadata": {
    "ExecuteTime": {
     "end_time": "2024-07-13T22:34:56.328088Z",
     "start_time": "2024-07-13T22:34:55.850807Z"
    }
   },
   "outputs": [],
   "source": [
    "show(src.read(6))\n",
    "# Daily average\n",
    "arrs = []\n",
    "cnt = 0\n",
    "for i in range(1, 15):\n",
    "    arr = src.read(i)\n",
    "    if (arr == 0).all():\n",
    "        continue\n",
    "    else:\n",
    "        cnt += 1\n",
    "        arrs.append(arr)\n",
    "avg_for_day = sum(arrs) / cnt\n",
    "\n",
    "plt.figure(figsize=(14, 14))\n",
    "plt.imshow(avg_for_day)"
   ]
  },
  {
   "cell_type": "code",
   "execution_count": null,
   "id": "f616fbd99852db7",
   "metadata": {},
   "outputs": [],
   "source": []
  }
 ],
 "metadata": {
  "kernelspec": {
   "display_name": "py313",
   "language": "python",
   "name": "python3"
  },
  "language_info": {
   "codemirror_mode": {
    "name": "ipython",
    "version": 3
   },
   "file_extension": ".py",
   "mimetype": "text/x-python",
   "name": "python",
   "nbconvert_exporter": "python",
   "pygments_lexer": "ipython3",
   "version": "3.13.1"
  }
 },
 "nbformat": 4,
 "nbformat_minor": 5
}
