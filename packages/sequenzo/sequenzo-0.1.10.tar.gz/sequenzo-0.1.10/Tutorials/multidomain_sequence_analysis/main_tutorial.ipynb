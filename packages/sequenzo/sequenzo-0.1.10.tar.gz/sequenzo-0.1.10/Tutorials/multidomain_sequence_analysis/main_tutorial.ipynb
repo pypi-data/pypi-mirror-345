{
 "cells": [
  {
   "cell_type": "markdown",
   "source": [
    "# Step-by-step Tutorial on Multi-Domain Sequence Analysis\n",
    "\n",
    "**Multi-domain sequence analysis** is a powerful approach to studying life course trajectories across multiple interrelated domains — such as family, work, and education. \n",
    "\n",
    "Instead of analyzing each domain (e.g., marriage or childbearing) separately, this method allows us to capture how life events unfold *together* across different areas of life.\n",
    "\n",
    "### Why is this important?  \n",
    "\n",
    "Because real lives are complex. For example, getting married might affect when someone leaves home or starts having children. Ignoring these interconnections can lead to oversimplified or even misleading conclusions.\n",
    "\n",
    "### What Will You Learn?\n",
    "\n",
    "In this tutorial, you will learn how to:\n",
    "\n",
    "- **Prepare and align life course sequence data** across different domains  \n",
    "- **Assess the association** between domains to see if and how they are related  \n",
    "- Understand and apply the **four main strategies** for multi-domain sequence analysis:\n",
    "  1. **IDCD** – Individual Domain Combined Dynamics  \n",
    "  2. **CAT** – Concatenation of Aligned Trajectories  \n",
    "  3. **DAT** – Distance Aggregation Technique  \n",
    "  4. **CombT** – Combined Typology Strategy  \n",
    "\n",
    "Each strategy has its own logic and use case. We'll use the `biofam` dataset from the `MedSeq` R package to illustrate the key differences between them.\n",
    "\n",
    "Whether you're exploring family formation, education-employment transitions, or any multi-domain longitudinal data, this tutorial will provide you with a comprehensive hands-on introduction.\n",
    "\n",
    "Let’s get started! "
   ],
   "metadata": {
    "collapsed": false
   },
   "id": "8a746398aef330b0"
  },
  {
   "cell_type": "code",
   "execution_count": 1,
   "id": "initial_id",
   "metadata": {
    "collapsed": true,
    "ExecuteTime": {
     "end_time": "2025-05-03T19:03:36.379917Z",
     "start_time": "2025-05-03T19:03:36.002975Z"
    }
   },
   "outputs": [
    {
     "data": {
      "text/plain": "        id  age_15  age_16  age_17  age_18  age_19  age_20  age_21  age_22  \\\n0        1       0       0       0       0       0       0       0       0   \n1        2       0       1       1       1       1       1       1       1   \n2        3       0       0       0       0       0       0       0       1   \n3        4       0       0       0       0       0       1       1       1   \n4        5       0       0       0       0       0       1       1       1   \n...    ...     ...     ...     ...     ...     ...     ...     ...     ...   \n1995  1996       0       0       0       0       0       0       1       1   \n1996  1997       0       0       1       1       1       1       1       1   \n1997  1998       0       0       0       0       0       0       0       0   \n1998  1999       0       0       0       0       0       0       0       0   \n1999  2000       0       0       0       0       0       0       1       1   \n\n      age_23  age_24  age_25  age_26  age_27  age_28  age_29  age_30  \n0          0       1       1       1       1       1       1       1  \n1          1       1       1       1       1       1       1       1  \n2          1       1       1       1       1       1       1       1  \n3          1       1       1       1       1       1       1       1  \n4          1       1       1       1       1       1       1       1  \n...      ...     ...     ...     ...     ...     ...     ...     ...  \n1995       1       1       1       1       1       1       1       1  \n1996       1       1       1       1       1       1       1       1  \n1997       0       0       0       0       0       0       0       0  \n1998       0       0       0       0       0       0       0       0  \n1999       1       1       1       1       1       1       1       1  \n\n[2000 rows x 17 columns]",
      "text/html": "<div>\n<style scoped>\n    .dataframe tbody tr th:only-of-type {\n        vertical-align: middle;\n    }\n\n    .dataframe tbody tr th {\n        vertical-align: top;\n    }\n\n    .dataframe thead th {\n        text-align: right;\n    }\n</style>\n<table border=\"1\" class=\"dataframe\">\n  <thead>\n    <tr style=\"text-align: right;\">\n      <th></th>\n      <th>id</th>\n      <th>age_15</th>\n      <th>age_16</th>\n      <th>age_17</th>\n      <th>age_18</th>\n      <th>age_19</th>\n      <th>age_20</th>\n      <th>age_21</th>\n      <th>age_22</th>\n      <th>age_23</th>\n      <th>age_24</th>\n      <th>age_25</th>\n      <th>age_26</th>\n      <th>age_27</th>\n      <th>age_28</th>\n      <th>age_29</th>\n      <th>age_30</th>\n    </tr>\n  </thead>\n  <tbody>\n    <tr>\n      <th>0</th>\n      <td>1</td>\n      <td>0</td>\n      <td>0</td>\n      <td>0</td>\n      <td>0</td>\n      <td>0</td>\n      <td>0</td>\n      <td>0</td>\n      <td>0</td>\n      <td>0</td>\n      <td>1</td>\n      <td>1</td>\n      <td>1</td>\n      <td>1</td>\n      <td>1</td>\n      <td>1</td>\n      <td>1</td>\n    </tr>\n    <tr>\n      <th>1</th>\n      <td>2</td>\n      <td>0</td>\n      <td>1</td>\n      <td>1</td>\n      <td>1</td>\n      <td>1</td>\n      <td>1</td>\n      <td>1</td>\n      <td>1</td>\n      <td>1</td>\n      <td>1</td>\n      <td>1</td>\n      <td>1</td>\n      <td>1</td>\n      <td>1</td>\n      <td>1</td>\n      <td>1</td>\n    </tr>\n    <tr>\n      <th>2</th>\n      <td>3</td>\n      <td>0</td>\n      <td>0</td>\n      <td>0</td>\n      <td>0</td>\n      <td>0</td>\n      <td>0</td>\n      <td>0</td>\n      <td>1</td>\n      <td>1</td>\n      <td>1</td>\n      <td>1</td>\n      <td>1</td>\n      <td>1</td>\n      <td>1</td>\n      <td>1</td>\n      <td>1</td>\n    </tr>\n    <tr>\n      <th>3</th>\n      <td>4</td>\n      <td>0</td>\n      <td>0</td>\n      <td>0</td>\n      <td>0</td>\n      <td>0</td>\n      <td>1</td>\n      <td>1</td>\n      <td>1</td>\n      <td>1</td>\n      <td>1</td>\n      <td>1</td>\n      <td>1</td>\n      <td>1</td>\n      <td>1</td>\n      <td>1</td>\n      <td>1</td>\n    </tr>\n    <tr>\n      <th>4</th>\n      <td>5</td>\n      <td>0</td>\n      <td>0</td>\n      <td>0</td>\n      <td>0</td>\n      <td>0</td>\n      <td>1</td>\n      <td>1</td>\n      <td>1</td>\n      <td>1</td>\n      <td>1</td>\n      <td>1</td>\n      <td>1</td>\n      <td>1</td>\n      <td>1</td>\n      <td>1</td>\n      <td>1</td>\n    </tr>\n    <tr>\n      <th>...</th>\n      <td>...</td>\n      <td>...</td>\n      <td>...</td>\n      <td>...</td>\n      <td>...</td>\n      <td>...</td>\n      <td>...</td>\n      <td>...</td>\n      <td>...</td>\n      <td>...</td>\n      <td>...</td>\n      <td>...</td>\n      <td>...</td>\n      <td>...</td>\n      <td>...</td>\n      <td>...</td>\n      <td>...</td>\n    </tr>\n    <tr>\n      <th>1995</th>\n      <td>1996</td>\n      <td>0</td>\n      <td>0</td>\n      <td>0</td>\n      <td>0</td>\n      <td>0</td>\n      <td>0</td>\n      <td>1</td>\n      <td>1</td>\n      <td>1</td>\n      <td>1</td>\n      <td>1</td>\n      <td>1</td>\n      <td>1</td>\n      <td>1</td>\n      <td>1</td>\n      <td>1</td>\n    </tr>\n    <tr>\n      <th>1996</th>\n      <td>1997</td>\n      <td>0</td>\n      <td>0</td>\n      <td>1</td>\n      <td>1</td>\n      <td>1</td>\n      <td>1</td>\n      <td>1</td>\n      <td>1</td>\n      <td>1</td>\n      <td>1</td>\n      <td>1</td>\n      <td>1</td>\n      <td>1</td>\n      <td>1</td>\n      <td>1</td>\n      <td>1</td>\n    </tr>\n    <tr>\n      <th>1997</th>\n      <td>1998</td>\n      <td>0</td>\n      <td>0</td>\n      <td>0</td>\n      <td>0</td>\n      <td>0</td>\n      <td>0</td>\n      <td>0</td>\n      <td>0</td>\n      <td>0</td>\n      <td>0</td>\n      <td>0</td>\n      <td>0</td>\n      <td>0</td>\n      <td>0</td>\n      <td>0</td>\n      <td>0</td>\n    </tr>\n    <tr>\n      <th>1998</th>\n      <td>1999</td>\n      <td>0</td>\n      <td>0</td>\n      <td>0</td>\n      <td>0</td>\n      <td>0</td>\n      <td>0</td>\n      <td>0</td>\n      <td>0</td>\n      <td>0</td>\n      <td>0</td>\n      <td>0</td>\n      <td>0</td>\n      <td>0</td>\n      <td>0</td>\n      <td>0</td>\n      <td>0</td>\n    </tr>\n    <tr>\n      <th>1999</th>\n      <td>2000</td>\n      <td>0</td>\n      <td>0</td>\n      <td>0</td>\n      <td>0</td>\n      <td>0</td>\n      <td>0</td>\n      <td>1</td>\n      <td>1</td>\n      <td>1</td>\n      <td>1</td>\n      <td>1</td>\n      <td>1</td>\n      <td>1</td>\n      <td>1</td>\n      <td>1</td>\n      <td>1</td>\n    </tr>\n  </tbody>\n</table>\n<p>2000 rows × 17 columns</p>\n</div>"
     },
     "execution_count": 1,
     "metadata": {},
     "output_type": "execute_result"
    }
   ],
   "source": [
    "from sequenzo import *\n",
    "\n",
    "# Load datasets, and which dataset corresponds to one domain\n",
    "left_df = load_dataset('biofam_left_domain')\n",
    "children_df = load_dataset('biofam_child_domain')\n",
    "married_df = load_dataset('biofam_married_domain')\n",
    "\n",
    "# For example, let's take a look at the dataset about whether individuals left home or not\n",
    "left_df"
   ]
  },
  {
   "cell_type": "markdown",
   "source": [
    "## Assessing whether and to what extent domains are associated with each other\n",
    "\n",
    "To explore how different life domains (e.g. marriage, leaving home, having children) are related across time, we use **sequence association analysis**. This helps us understand **if** and **how strongly** two domains tend to move together across a person's life.\n",
    "\n",
    "### Step 1: Create Sequence Objects\n",
    "\n",
    "We first create sequence data objects for each domain (e.g. a sequence showing whether someone was married at each age). These objects are then compared **pairwise** to analyze their associations.\n"
   ],
   "metadata": {
    "collapsed": false
   },
   "id": "f2074c699788f196"
  },
  {
   "cell_type": "code",
   "execution_count": 2,
   "outputs": [
    {
     "name": "stdout",
     "output_type": "stream",
     "text": [
      "\n",
      "------ seq_left ------\n",
      "\n",
      "[>] SequenceData initialized successfully! Here's a summary:\n",
      "[>] Number of sequences: 2000\n",
      "[>] Number of time points: 16\n",
      "[>] Min/Max sequence length: 16 / 16\n",
      "[>] States: [0, 1]\n",
      "\n",
      "------ seq_child ------\n",
      "\n",
      "[>] SequenceData initialized successfully! Here's a summary:\n",
      "[>] Number of sequences: 2000\n",
      "[>] Number of time points: 16\n",
      "[>] Min/Max sequence length: 16 / 16\n",
      "[>] States: [0, 1]\n",
      "\n",
      "------ seq_married ------\n",
      "\n",
      "[>] SequenceData initialized successfully! Here's a summary:\n",
      "[>] Number of sequences: 2000\n",
      "[>] Number of time points: 16\n",
      "[>] Min/Max sequence length: 16 / 16\n",
      "[>] States: [0, 1]\n"
     ]
    }
   ],
   "source": [
    "# Extract the columns related to age/time\n",
    "# which is a prerequisite for building a sequence data.\n",
    "time_cols = [col for col in children_df.columns if col.startswith(\"age_\")]\n",
    "\n",
    "# Construct a sequence data for each \n",
    "print(\"\\n------ seq_left ------\")\n",
    "seq_left = SequenceData(data=left_df, \n",
    "                        time_type=\"age\", \n",
    "                        time=time_cols, \n",
    "                        states=[0, 1],\n",
    "                        labels=[\"At home\", \"Left home\"],\n",
    "                        id_col='id')\n",
    "\n",
    "print(\"\\n------ seq_child ------\")\n",
    "seq_child = SequenceData(data=children_df, \n",
    "                         time_type=\"age\", \n",
    "                         time=time_cols, \n",
    "                         states=[0, 1],\n",
    "                         labels=[\"No child\", \"Child\"],\n",
    "                         id_col='id')\n",
    "\n",
    "print(\"\\n------ seq_married ------\")\n",
    "seq_married = SequenceData(data=married_df, \n",
    "                        time_type=\"age\", \n",
    "                        time=time_cols, \n",
    "                        states=[0, 1],\n",
    "                        labels=[\"Not married\", \"Married\"],\n",
    "                        id_col='id')"
   ],
   "metadata": {
    "collapsed": false,
    "ExecuteTime": {
     "end_time": "2025-05-03T19:01:05.404831Z",
     "start_time": "2025-05-03T19:01:05.346318Z"
    }
   },
   "id": "cdbd73189fae9043"
  },
  {
   "cell_type": "markdown",
   "source": [
    "### Step 2: Measuring Association\n",
    "\n",
    "We use two complementary statistical measures:\n",
    "\n",
    "| Measure      | Description                                                                 | What it tells us                                       |\n",
    "|--------------|-----------------------------------------------------------------------------|---------------------------------------------------------|\n",
    "| **LRT (Likelihood Ratio Test)** | A test of **whether** two domains are statistically associated | Tells you **if there is any significant link** at all    |\n",
    "| **Cramer's V (v)**              | A measure of **how strong** the association is (0 to 1)         | Tells you **how strong** the link is if it exists       |\n",
    "\n",
    "Both of these are calculated **based on cross-tabulations** of aligned sequence positions (e.g., marriage status vs. childbearing at each age).\n",
    "\n",
    "### What's the Difference?\n",
    "\n",
    "- **LRT (`p(LRT)`):**  \n",
    "  Think of this as a **yes/no test** — *Is there any relationship?*\n",
    "  - A low p-value (e.g., < 0.05) means \"Yes, the association is statistically significant.\"\n",
    "  - A high p-value means there's no evidence of association.\n",
    "\n",
    "- **Cramer's V (`v` and `p(v)`):**  \n",
    "  This tells you **how strong** the relationship is, even if it's weak.\n",
    "  - Value ranges from 0 (no association) to 1 (perfect association).\n",
    "  - We also attach a label:\n",
    "    - `None` (v < 0.1)\n",
    "    - `Weak` (0.1 ≤ v < 0.3)\n",
    "    - `Moderate` (0.3 ≤ v < 0.5)\n",
    "    - `Strong` (v ≥ 0.5)\n",
    "\n",
    "> **Note:** Even when `v = 0`, non-linear associations *might* exist — this test only captures **linear dependencies**.\n",
    "\n",
    "### Output Table\n",
    "\n",
    "The result is a table that looks like the following. \n",
    "\n",
    "Each row shows how two domains relate to each other, how statistically significant that relationship is, and how strong it is."
   ],
   "metadata": {
    "collapsed": false
   },
   "id": "b3471810ee0c7f09"
  },
  {
   "cell_type": "code",
   "execution_count": 3,
   "outputs": [
    {
     "name": "stdout",
     "output_type": "stream",
     "text": [
      "\n",
      "📜 Full results table:\n"
     ]
    },
    {
     "data": {
      "text/plain": "                     df   LRT          p(LRT)      v        p(v)        \\\nleft vs children     1.0   9144.680641  0.000 ***  0.481817  0.000 ***   \nleft vs married      1.0   9561.568952  0.000 ***  0.531414  0.000 ***   \nchildren vs married  1.0  12430.120849  0.000 ***  0.626851  0.000 ***   \n\n                    strength   \nleft vs children     Moderate  \nleft vs married        Strong  \nchildren vs married    Strong  ",
      "text/html": "<div>\n<style scoped>\n    .dataframe tbody tr th:only-of-type {\n        vertical-align: middle;\n    }\n\n    .dataframe tbody tr th {\n        vertical-align: top;\n    }\n\n    .dataframe thead th {\n        text-align: right;\n    }\n</style>\n<table border=\"1\" class=\"dataframe\">\n  <thead>\n    <tr style=\"text-align: left;\">\n      <th></th>\n      <th>df</th>\n      <th>LRT</th>\n      <th>p(LRT)</th>\n      <th>v</th>\n      <th>p(v)</th>\n      <th>strength</th>\n    </tr>\n  </thead>\n  <tbody>\n    <tr>\n      <th>left vs children</th>\n      <td>1.0</td>\n      <td>9144.680641</td>\n      <td>0.000 ***</td>\n      <td>0.481817</td>\n      <td>0.000 ***</td>\n      <td>Moderate</td>\n    </tr>\n    <tr>\n      <th>left vs married</th>\n      <td>1.0</td>\n      <td>9561.568952</td>\n      <td>0.000 ***</td>\n      <td>0.531414</td>\n      <td>0.000 ***</td>\n      <td>Strong</td>\n    </tr>\n    <tr>\n      <th>children vs married</th>\n      <td>1.0</td>\n      <td>12430.120849</td>\n      <td>0.000 ***</td>\n      <td>0.626851</td>\n      <td>0.000 ***</td>\n      <td>Strong</td>\n    </tr>\n  </tbody>\n</table>\n</div>"
     },
     "metadata": {},
     "output_type": "display_data"
    },
    {
     "name": "stdout",
     "output_type": "stream",
     "text": [
      "\n",
      "📘 Column explanations:\n",
      "  - df       : Degrees of freedom for the test (typically 1 for binary state sequences).\n",
      "  - LRT      : Likelihood Ratio Test statistic (higher = stronger dependence).\n",
      "  - p(LRT)   : p-value for LRT + significance stars: * (p<.05), ** (p<.01), *** (p<.001)\n",
      "  - v        : Cramer's V statistic (0 to 1, measures association strength).\n",
      "  - p(v)     : p-value for Cramer's V (based on chi-squared test) + significance stars: * (p<.05), ** (p<.01), *** (p<.001)\n",
      "  - strength : Qualitative label for association strength based on Cramer's V:\n",
      "               0.00–0.09 → None, 0.10–0.29 → Weak, 0.30–0.49 → Moderate, ≥0.50 → Strong\n"
     ]
    }
   ],
   "source": [
    "result = get_association_between_domains(\n",
    "    [seq_left, seq_child, seq_married],\n",
    "    assoc=[\"V\", \"LRT\"],\n",
    "    rep_method=\"overall\",\n",
    "    cross_table=True,\n",
    "    weighted=True,\n",
    "    dnames=[\"left\", \"children\", \"married\"], \n",
    "    # It is domain name that you specify by yourself, e.g., seq_left - > left\n",
    "    explain=True,\n",
    ")"
   ],
   "metadata": {
    "collapsed": false,
    "ExecuteTime": {
     "end_time": "2025-05-03T18:57:22.594170Z",
     "start_time": "2025-05-03T18:57:22.568529Z"
    }
   },
   "id": "ed00f86121927943"
  },
  {
   "cell_type": "markdown",
   "source": [],
   "metadata": {
    "collapsed": false
   },
   "id": "78475f5443feba98"
  },
  {
   "cell_type": "markdown",
   "source": [
    "## The first strategy to conduct multi-domain sequence analysis: IDCD - Individual Domain Combined Dynamics \n",
    "\n",
    "### Core Idea\n",
    "\n",
    "Instead of analyzing each domain separately, **IDCD looks at what's happening in all domains *at the same time*, at every point in the life course**.\n",
    "\n",
    "Think of it this way:  \n",
    "* At each age, a person is in **one specific state** in each domain (e.g., *not married*, *has no children*, *still lives at home*).  \n",
    "* IDCD creates a **combined state** from these — so now you're tracking sequences like:\n",
    "\n",
    "> `At home + No child + Single` → `Left home + No child + Single` → `Left home + Child + Married` → ...\n",
    "\n",
    "This results in **a new combined sequence** for each individual, reflecting how their entire life unfolds across all domains *together*.\n",
    "\n",
    "### Why is this useful?\n",
    "\n",
    "- It gives a **rich and detailed picture** of how domains evolve in parallel.\n",
    "- We can directly compare full life-course trajectories that combine domains.\n",
    "- It enables **standard sequence analysis** (like clustering, visualization, etc.) to be applied to these combined sequences.\n",
    "\n",
    "### A Simple Example\n",
    "\n",
    "Let’s say we have three life domains:\n",
    "\n",
    "1. **Leaving home** — [0 = At home, 1 = Left home]  \n",
    "2. **Having children** — [0 = No child, 1 = Has child]  \n",
    "3. **Marital status** — [0 = Single, 1 = Married]\n",
    "\n",
    "At age 18, a person might be:\n",
    "- At home (0)\n",
    "- No child (0)\n",
    "- Single (0)\n",
    "\n",
    "→ So we represent this as: `0+0+0`\n",
    "\n",
    "At age 24, they might be:\n",
    "- Left home (1)\n",
    "- Has child (1)\n",
    "- Married (1)\n",
    "\n",
    "→ That becomes: `1+1+1`\n",
    "\n",
    "The full sequence might look like this:\n",
    "\n",
    "> `0+0+0 → 0+0+0 → 1+0+0 → 1+0+1 → 1+1+1`\n",
    "\n",
    "### What Can You Do With This?\n",
    "\n",
    "Once we have these combined sequences, we can:\n",
    "\n",
    "- Visualize the most common patterns of life-course combinations\n",
    "- Cluster individuals based on similar life trajectories\n",
    "- Study the diversity and timing of transitions across groups\n",
    "\n",
    "In short, **IDCD lets us zoom out and look at full life paths in a multidimensional way**, while keeping all the timing information intact.\n",
    "\n",
    "Ready to try it out? Let’s construct combined sequences using the IDCD approach.\n"
   ],
   "metadata": {
    "collapsed": false
   },
   "id": "456d39b08d48c7ff"
  },
  {
   "cell_type": "code",
   "execution_count": 4,
   "outputs": [
    {
     "name": "stdout",
     "output_type": "stream",
     "text": [
      "\n",
      "[IDCD] Observed Combined States Frequency Table:\n",
      "State                          Label  Frequency  Proportion (%)\n",
      "0+0+0    At Home + No Child + Single      16378           51.18\n",
      "1+0+0  Left Home + No Child + Single       5888           18.40\n",
      "1+1+1    Left Home + Child + Married       4838           15.12\n",
      "1+0+1 Left Home + No Child + Married       3244           10.14\n",
      "0+0+1   At Home + No Child + Married       1466            4.58\n",
      "1+1+0     Left Home + Child + Single        167            0.52\n",
      "0+1+0       At Home + Child + Single         19            0.06\n",
      "\n",
      "[>] SequenceData initialized successfully! Here's a summary:\n",
      "[>] Number of sequences: 2000\n",
      "[>] Number of time points: 16\n",
      "[>] Min/Max sequence length: 16 / 16\n",
      "[>] States: ['0+0+0', '1+0+0', '1+1+1', '1+0+1', '0+0+1', '1+1+0', '0+1+0']\n"
     ]
    }
   ],
   "source": [
    "left_df = load_dataset('biofam_left_domain')\n",
    "children_df = load_dataset('biofam_child_domain')\n",
    "married_df = load_dataset('biofam_married_domain')\n",
    "\n",
    "time_cols = [col for col in children_df.columns if col.startswith(\"age_\")]\n",
    "\n",
    "common_path = './datasets'\n",
    "csv_list = [f'{common_path}/biofam_left_domain.csv',\n",
    "        f'{common_path}/biofam_child_domain.csv',\n",
    "        f'{common_path}/biofam_married_domain.csv']\n",
    "\n",
    "time_cols = [f\"age_{i}\" for i in range(15, 31)]\n",
    "\n",
    "seqdata = create_idcd_sequence_from_csvs(\n",
    "    csv_paths=csv_list,\n",
    "    time_cols=time_cols,\n",
    "    time_type=\"age\",\n",
    "    id_col=\"id\",\n",
    "    domain_state_labels=[\n",
    "        {0: \"At Home\", 1: \"Left Home\"}, \n",
    "        # Pair of state-label for domain 1. e.g., for state 0, the corresponding label is \"At Home\"\n",
    "        {0: \"No Child\", 1: \"Child\"},\n",
    "        {0: \"Single\", 1: \"Married\"}\n",
    "    ]\n",
    ")"
   ],
   "metadata": {
    "collapsed": false,
    "ExecuteTime": {
     "end_time": "2025-05-03T18:57:28.389341Z",
     "start_time": "2025-05-03T18:57:27.927858Z"
    }
   },
   "id": "65ab497d78c0e585"
  },
  {
   "cell_type": "markdown",
   "source": [
    "After this, we can follow the common workflow of sequence analysis."
   ],
   "metadata": {
    "collapsed": false
   },
   "id": "40615a2cdaf96c3b"
  },
  {
   "cell_type": "code",
   "execution_count": 5,
   "outputs": [
    {
     "data": {
      "text/plain": "<Figure size 1000x600 with 1 Axes>",
      "image/png": "[encoded data removed]"
     },
     "metadata": {},
     "output_type": "display_data"
    },
    {
     "data": {
      "text/plain": "<Figure size 640x480 with 0 Axes>"
     },
     "metadata": {},
     "output_type": "display_data"
    }
   ],
   "source": [
    "plot_sequence_index(seqdata, \n",
    "                    # save_as='index_plot_idcd'\n",
    "                    )"
   ],
   "metadata": {
    "collapsed": false,
    "ExecuteTime": {
     "end_time": "2025-05-03T18:57:37.550603Z",
     "start_time": "2025-05-03T18:57:37.250087Z"
    }
   },
   "id": "1e658bd78bce371c"
  },
  {
   "cell_type": "code",
   "execution_count": null,
   "outputs": [],
   "source": [
    "# You can keep working on the rest, such as dissimilarity measures and cluster analysis.\n",
    "\n"
   ],
   "metadata": {
    "collapsed": false
   },
   "id": "a0ceceb28f3d40c8"
  },
  {
   "cell_type": "markdown",
   "source": [
    "## The second strategy for multi-domain sequence analysis: CAT — Concatenation of Aligned Trajectories\n",
    "\n",
    "### Core Idea\n",
    "\n",
    "While **IDCD combines all domains at each point in time**, **CAT simply *sticks the domains together* — one after another** — to form one long “super sequence.”\n",
    "\n",
    "Think of CAT as **gluing together** the individual sequences from each domain, rather than fusing them in time.\n",
    "\n",
    "### How It Works\n",
    "\n",
    "Let’s say you’re tracking a person’s life from age 15 to 30, across three domains:\n",
    "\n",
    "1. **Leaving home** (16 years of data)  \n",
    "2. **Having children** (16 years)  \n",
    "3. **Marital status** (16 years)\n",
    "\n",
    "Each domain is a sequence on its own — like:\n",
    "\n",
    "- Leaving home: `0, 0, 0, 1, 1, 1, ..., 1`\n",
    "- Having children: `0, 0, 0, 0, 1, 1, ..., 1`\n",
    "- Marriage: `0, 0, 0, 0, 0, 1, ..., 1`\n",
    "\n",
    "**CAT just puts them side-by-side** into a single sequence of length 48:\n",
    "\n",
    "> `0, 0, 0, ..., 1` (Leaving home)  \n",
    "> `0, 0, 0, ..., 1` (Children)  \n",
    "> `0, 0, 0, ..., 1` (Marriage)\n",
    "\n",
    "→ Final CAT sequence:  \n",
    "`0, 0, 0, ..., 1, 0, 0, ..., 1, 0, 0, ..., 1`\n",
    "\n",
    "So it’s still **a single sequence per individual**, but **the three domains are placed sequentially, not simultaneously**.\n",
    "\n",
    "### How Is This Different from IDCD?\n",
    "\n",
    "| Feature              | IDCD                               | CAT                                  |\n",
    "|----------------------|-------------------------------------|---------------------------------------|\n",
    "| How domains are used | Combined *at each point in time*    | Placed one *after another*            |\n",
    "| Sequence length      | Same as one domain (e.g., 16)       | Sum of all domain lengths (e.g., 48)  |\n",
    "| Goal                 | Capture *inter-domain synchronicity*| Capture *overall life trajectory*     |\n",
    "| Example unit         | `\"0+0+1\"` (combined state)          | `0, 0, 0, ..., 1` (concatenated states)|\n",
    "\n",
    "### Why Use CAT?\n",
    "\n",
    "- You preserve the **order of events across all domains**, even when they happen at different times.\n",
    "- You avoid creating *too many combined states* (a problem in IDCD when domains have many states).\n",
    "- You can **use standard sequence clustering tools**, treating each CAT sequence as a “full life history.”\n",
    "\n",
    "### Example Scenario\n",
    "\n",
    "Imagine three people:\n",
    "\n",
    "| Person | Leaving Home       | Children           | Marriage          |\n",
    "|--------|--------------------|--------------------|-------------------|\n",
    "| A      | `0, 0, 1, 1, ...`  | `0, 0, 0, 1, ...`  | `0, 0, 0, 0, ...` |\n",
    "| B      | `0, 1, 1, 1, ...`  | `0, 0, 0, 0, ...`  | `0, 1, 1, 1, ...` |\n",
    "\n",
    "Their CAT sequences would look like this:\n",
    "\n",
    "- **A**: `[0, 0, 1, 1, ..., 0, 0, 0, 1, ..., 0, 0, 0, 0, ...]`\n",
    "- **B**: `[0, 1, 1, 1, ..., 0, 0, 0, 0, ..., 0, 1, 1, 1, ...]`\n",
    "\n",
    "You can now **cluster** people based on these full-path patterns — and ask questions like:\n",
    "\n",
    "> “Are there typical paths through life when we look across all domains, not just one?”\n",
    "\n"
   ],
   "metadata": {
    "collapsed": false
   },
   "id": "f6d8e53b9a9b2c34"
  },
  {
   "cell_type": "code",
   "execution_count": 2,
   "outputs": [
    {
     "name": "stdout",
     "output_type": "stream",
     "text": [
      "\n",
      "[>] SequenceData initialized successfully! Here's a summary:\n",
      "[>] Number of sequences: 2000\n",
      "[>] Number of time points: 16\n",
      "[>] Min/Max sequence length: 16 / 16\n",
      "[>] States: [0, 1]\n",
      "\n",
      "[>] SequenceData initialized successfully! Here's a summary:\n",
      "[>] Number of sequences: 2000\n",
      "[>] Number of time points: 16\n",
      "[>] Min/Max sequence length: 16 / 16\n",
      "[>] States: [0, 1]\n",
      "\n",
      "[>] SequenceData initialized successfully! Here's a summary:\n",
      "[>] Number of sequences: 2000\n",
      "[>] Number of time points: 16\n",
      "[>] Min/Max sequence length: 16 / 16\n",
      "[>] States: [0, 1]\n",
      "[>] 3 domains with 2000 sequences.\n",
      "[>] Building MD sequences of combined states.\n",
      "  - OK.\n",
      "[>] Computing substitution cost matrix for domain 0.\n",
      "[>] Computing substitution cost matrix for domain 1.\n",
      "[>] Computing substitution cost matrix for domain 2.\n",
      "[>] Computing MD substitution and indel costs with additive trick.\n",
      "  - OK.\n",
      "[>] Computing MD distances using additive trick.\n",
      "  - OK.\n"
     ]
    },
    {
     "data": {
      "text/plain": "         1     2        3     4        5     6     7        8        9     \\\n1      0.0000  20.0   8.0000  12.0  12.0000  18.0  14.0  10.0000   8.0000   \n2     20.0000   0.0  16.0000  28.0  16.0000  34.0  38.0  22.0000  20.0000   \n3      8.0000  16.0   0.0000   8.0   8.0000  22.0  30.0   6.0000   8.0000   \n4     12.0000  28.0   8.0000   0.0  12.0000  22.0  50.0  14.0000  12.0000   \n5     12.0000  16.0   8.0000  12.0   0.0000  22.0  38.0  16.0000  12.0000   \n...       ...   ...      ...   ...      ...   ...   ...      ...      ...   \n1996  12.0000  10.0  20.0000   2.0   2.0000  20.0  20.0  26.0000  10.0000   \n1997  18.0000  14.0  26.0000  38.0  26.0000  44.0  32.0  20.0000  30.0000   \n1998  18.0000  34.0  22.0000  22.0  22.0000   0.0  28.0  32.0000  10.0000   \n1999  38.0234  62.0  54.0117  74.0  62.0117  52.0  24.0  52.0078  42.0195   \n2000  12.0000  10.0  28.0000   2.0   2.0000  20.0  20.0  38.0000  10.0000   \n\n      10    ...  1991  1992  1993     1994  1995     1996  1997  1998  \\\n1     24.0  ...  18.0  12.0  20.0  16.0000  18.0  12.0000  18.0  18.0   \n2     16.0  ...  34.0  28.0  36.0  32.0000  34.0  10.0000  14.0  34.0   \n3     32.0  ...  22.0   8.0  24.0  20.0000  22.0  20.0000  26.0  22.0   \n4     38.0  ...  22.0   0.0  18.0  20.0000  34.0   2.0000  38.0  22.0   \n5     26.0  ...  22.0  12.0  26.0  20.0000  22.0   2.0000  26.0  22.0   \n...    ...  ...   ...   ...   ...      ...   ...      ...   ...   ...   \n1996  12.0  ...  20.0   2.0  24.0  18.0000  20.0   0.0000  12.0  20.0   \n1997  26.0  ...  44.0  38.0  44.0  42.0000  44.0  12.0000   0.0  44.0   \n1998  32.0  ...   0.0  22.0   4.0   2.0000  12.0  20.0000  44.0   0.0   \n1999  56.0  ...  52.0  74.0  56.0  50.0039  40.0  44.0273  48.0  52.0   \n2000  12.0  ...  20.0   2.0  24.0  18.0000  20.0  12.0000   8.0  20.0   \n\n         1999    2000  \n1     38.0234  12.000  \n2     62.0000  10.000  \n3     54.0117  28.000  \n4     74.0000   2.000  \n5     62.0117   2.000  \n...       ...     ...  \n1996  44.0273  12.000  \n1997  48.0000   8.000  \n1998  52.0000  20.000  \n1999   0.0000  32.039  \n2000  32.0390   0.000  \n\n[2000 rows x 2000 columns]",
      "text/html": "<div>\n<style scoped>\n    .dataframe tbody tr th:only-of-type {\n        vertical-align: middle;\n    }\n\n    .dataframe tbody tr th {\n        vertical-align: top;\n    }\n\n    .dataframe thead th {\n        text-align: right;\n    }\n</style>\n<table border=\"1\" class=\"dataframe\">\n  <thead>\n    <tr style=\"text-align: right;\">\n      <th></th>\n      <th>1</th>\n      <th>2</th>\n      <th>3</th>\n      <th>4</th>\n      <th>5</th>\n      <th>6</th>\n      <th>7</th>\n      <th>8</th>\n      <th>9</th>\n      <th>10</th>\n      <th>...</th>\n      <th>1991</th>\n      <th>1992</th>\n      <th>1993</th>\n      <th>1994</th>\n      <th>1995</th>\n      <th>1996</th>\n      <th>1997</th>\n      <th>1998</th>\n      <th>1999</th>\n      <th>2000</th>\n    </tr>\n  </thead>\n  <tbody>\n    <tr>\n      <th>1</th>\n      <td>0.0000</td>\n      <td>20.0</td>\n      <td>8.0000</td>\n      <td>12.0</td>\n      <td>12.0000</td>\n      <td>18.0</td>\n      <td>14.0</td>\n      <td>10.0000</td>\n      <td>8.0000</td>\n      <td>24.0</td>\n      <td>...</td>\n      <td>18.0</td>\n      <td>12.0</td>\n      <td>20.0</td>\n      <td>16.0000</td>\n      <td>18.0</td>\n      <td>12.0000</td>\n      <td>18.0</td>\n      <td>18.0</td>\n      <td>38.0234</td>\n      <td>12.000</td>\n    </tr>\n    <tr>\n      <th>2</th>\n      <td>20.0000</td>\n      <td>0.0</td>\n      <td>16.0000</td>\n      <td>28.0</td>\n      <td>16.0000</td>\n      <td>34.0</td>\n      <td>38.0</td>\n      <td>22.0000</td>\n      <td>20.0000</td>\n      <td>16.0</td>\n      <td>...</td>\n      <td>34.0</td>\n      <td>28.0</td>\n      <td>36.0</td>\n      <td>32.0000</td>\n      <td>34.0</td>\n      <td>10.0000</td>\n      <td>14.0</td>\n      <td>34.0</td>\n      <td>62.0000</td>\n      <td>10.000</td>\n    </tr>\n    <tr>\n      <th>3</th>\n      <td>8.0000</td>\n      <td>16.0</td>\n      <td>0.0000</td>\n      <td>8.0</td>\n      <td>8.0000</td>\n      <td>22.0</td>\n      <td>30.0</td>\n      <td>6.0000</td>\n      <td>8.0000</td>\n      <td>32.0</td>\n      <td>...</td>\n      <td>22.0</td>\n      <td>8.0</td>\n      <td>24.0</td>\n      <td>20.0000</td>\n      <td>22.0</td>\n      <td>20.0000</td>\n      <td>26.0</td>\n      <td>22.0</td>\n      <td>54.0117</td>\n      <td>28.000</td>\n    </tr>\n    <tr>\n      <th>4</th>\n      <td>12.0000</td>\n      <td>28.0</td>\n      <td>8.0000</td>\n      <td>0.0</td>\n      <td>12.0000</td>\n      <td>22.0</td>\n      <td>50.0</td>\n      <td>14.0000</td>\n      <td>12.0000</td>\n      <td>38.0</td>\n      <td>...</td>\n      <td>22.0</td>\n      <td>0.0</td>\n      <td>18.0</td>\n      <td>20.0000</td>\n      <td>34.0</td>\n      <td>2.0000</td>\n      <td>38.0</td>\n      <td>22.0</td>\n      <td>74.0000</td>\n      <td>2.000</td>\n    </tr>\n    <tr>\n      <th>5</th>\n      <td>12.0000</td>\n      <td>16.0</td>\n      <td>8.0000</td>\n      <td>12.0</td>\n      <td>0.0000</td>\n      <td>22.0</td>\n      <td>38.0</td>\n      <td>16.0000</td>\n      <td>12.0000</td>\n      <td>26.0</td>\n      <td>...</td>\n      <td>22.0</td>\n      <td>12.0</td>\n      <td>26.0</td>\n      <td>20.0000</td>\n      <td>22.0</td>\n      <td>2.0000</td>\n      <td>26.0</td>\n      <td>22.0</td>\n      <td>62.0117</td>\n      <td>2.000</td>\n    </tr>\n    <tr>\n      <th>...</th>\n      <td>...</td>\n      <td>...</td>\n      <td>...</td>\n      <td>...</td>\n      <td>...</td>\n      <td>...</td>\n      <td>...</td>\n      <td>...</td>\n      <td>...</td>\n      <td>...</td>\n      <td>...</td>\n      <td>...</td>\n      <td>...</td>\n      <td>...</td>\n      <td>...</td>\n      <td>...</td>\n      <td>...</td>\n      <td>...</td>\n      <td>...</td>\n      <td>...</td>\n      <td>...</td>\n    </tr>\n    <tr>\n      <th>1996</th>\n      <td>12.0000</td>\n      <td>10.0</td>\n      <td>20.0000</td>\n      <td>2.0</td>\n      <td>2.0000</td>\n      <td>20.0</td>\n      <td>20.0</td>\n      <td>26.0000</td>\n      <td>10.0000</td>\n      <td>12.0</td>\n      <td>...</td>\n      <td>20.0</td>\n      <td>2.0</td>\n      <td>24.0</td>\n      <td>18.0000</td>\n      <td>20.0</td>\n      <td>0.0000</td>\n      <td>12.0</td>\n      <td>20.0</td>\n      <td>44.0273</td>\n      <td>12.000</td>\n    </tr>\n    <tr>\n      <th>1997</th>\n      <td>18.0000</td>\n      <td>14.0</td>\n      <td>26.0000</td>\n      <td>38.0</td>\n      <td>26.0000</td>\n      <td>44.0</td>\n      <td>32.0</td>\n      <td>20.0000</td>\n      <td>30.0000</td>\n      <td>26.0</td>\n      <td>...</td>\n      <td>44.0</td>\n      <td>38.0</td>\n      <td>44.0</td>\n      <td>42.0000</td>\n      <td>44.0</td>\n      <td>12.0000</td>\n      <td>0.0</td>\n      <td>44.0</td>\n      <td>48.0000</td>\n      <td>8.000</td>\n    </tr>\n    <tr>\n      <th>1998</th>\n      <td>18.0000</td>\n      <td>34.0</td>\n      <td>22.0000</td>\n      <td>22.0</td>\n      <td>22.0000</td>\n      <td>0.0</td>\n      <td>28.0</td>\n      <td>32.0000</td>\n      <td>10.0000</td>\n      <td>32.0</td>\n      <td>...</td>\n      <td>0.0</td>\n      <td>22.0</td>\n      <td>4.0</td>\n      <td>2.0000</td>\n      <td>12.0</td>\n      <td>20.0000</td>\n      <td>44.0</td>\n      <td>0.0</td>\n      <td>52.0000</td>\n      <td>20.000</td>\n    </tr>\n    <tr>\n      <th>1999</th>\n      <td>38.0234</td>\n      <td>62.0</td>\n      <td>54.0117</td>\n      <td>74.0</td>\n      <td>62.0117</td>\n      <td>52.0</td>\n      <td>24.0</td>\n      <td>52.0078</td>\n      <td>42.0195</td>\n      <td>56.0</td>\n      <td>...</td>\n      <td>52.0</td>\n      <td>74.0</td>\n      <td>56.0</td>\n      <td>50.0039</td>\n      <td>40.0</td>\n      <td>44.0273</td>\n      <td>48.0</td>\n      <td>52.0</td>\n      <td>0.0000</td>\n      <td>32.039</td>\n    </tr>\n    <tr>\n      <th>2000</th>\n      <td>12.0000</td>\n      <td>10.0</td>\n      <td>28.0000</td>\n      <td>2.0</td>\n      <td>2.0000</td>\n      <td>20.0</td>\n      <td>20.0</td>\n      <td>38.0000</td>\n      <td>10.0000</td>\n      <td>12.0</td>\n      <td>...</td>\n      <td>20.0</td>\n      <td>2.0</td>\n      <td>24.0</td>\n      <td>18.0000</td>\n      <td>20.0</td>\n      <td>12.0000</td>\n      <td>8.0</td>\n      <td>20.0</td>\n      <td>32.0390</td>\n      <td>0.000</td>\n    </tr>\n  </tbody>\n</table>\n<p>2000 rows × 2000 columns</p>\n</div>"
     },
     "execution_count": 2,
     "metadata": {},
     "output_type": "execute_result"
    }
   ],
   "source": [
    "# NOTE: please make sure that all the domain dataframes follow the same column names. \n",
    "\n",
    "left_df = load_dataset('biofam_left_domain')\n",
    "children_df = load_dataset('biofam_child_domain')\n",
    "married_df = load_dataset('biofam_married_domain')\n",
    "\n",
    "time_cols = [col for col in children_df.columns if col.startswith(\"age_\")]\n",
    "\n",
    "seq_left = SequenceData(data=left_df, time_type=\"age\", time=time_cols, states=[0, 1],\n",
    "                        labels=[\"At home\", \"Left home\"], id_col='id')\n",
    "seq_child = SequenceData(data=children_df, time_type=\"age\", time=time_cols, states=[0, 1],\n",
    "                         labels=[\"No child\", \"Child\"], id_col='id')\n",
    "seq_marr = SequenceData(data=married_df, time_type=\"age\", time=time_cols, states=[0, 1],\n",
    "                        labels=[\"Not married\", \"Married\"], id_col='id')\n",
    "\n",
    "sequence_data = [seq_left, seq_child, seq_marr]\n",
    "\n",
    "cat_distance_matrix = compute_cat_distance_matrix(sequence_data, \n",
    "                                                  method=\"OM\", \n",
    "                                                  sm=[\"CONSTANT\"], \n",
    "                                                  indel=[1, 1, 1],  # indel=[1, 1] if you have two domains\n",
    "                                                  what=\"diss\", \n",
    "                                                  link=\"sum\")\n",
    "\n",
    "cat_distance_matrix"
   ],
   "metadata": {
    "collapsed": false,
    "ExecuteTime": {
     "end_time": "2025-05-03T19:03:50.941296Z",
     "start_time": "2025-05-03T19:03:50.068428Z"
    }
   },
   "id": "22a964a2ee93cb0c"
  },
  {
   "cell_type": "markdown",
   "source": [
    "After this, we can follow the common workflow of sequence analysis."
   ],
   "metadata": {
    "collapsed": false
   },
   "id": "2289aaea416a87e6"
  },
  {
   "cell_type": "code",
   "execution_count": null,
   "outputs": [],
   "source": [
    "# For instance, you can do cluster analysis and visualization based on the clusters. \n"
   ],
   "metadata": {
    "collapsed": false
   },
   "id": "4228666f0002ae07"
  },
  {
   "cell_type": "code",
   "execution_count": null,
   "outputs": [],
   "source": [],
   "metadata": {
    "collapsed": false
   },
   "id": "ca4c69fb9bd0c2f8"
  },
  {
   "cell_type": "markdown",
   "source": [
    "## The third strategy for multi-domain sequence analysis: DAT — Distance Aggregation of Trajectories\n",
    "\n",
    "**DAT** takes a very different approach compared to IDCD and CAT. Instead of modifying or combining the sequences directly, **DAT combines the distances between sequences** across multiple domains.\n",
    "\n",
    "### Core Idea\n",
    "\n",
    "You don’t always need to *combine the sequences* — sometimes, it’s better to **combine how different people are similar or different** in each domain.\n",
    "\n",
    "DAT works like this:\n",
    "\n",
    "1. In each domain (e.g., marriage, children, leaving home), compute **a distance matrix** — how different is person A from B in that domain?\n",
    "2. Then, **aggregate these distances** across domains into a single distance matrix.\n",
    "3. Use this combined distance matrix for **clustering or visualization**, as if it came from one “meta-domain.”\n",
    "\n",
    "> DAT is like comparing *life patterns* instead of *life states*.\n",
    "\n",
    "### Intuition: Distance-first, not sequence-first\n",
    "\n",
    "Imagine two people:\n",
    "\n",
    "| Person | Marriage            | Children           | Leaving Home       |\n",
    "|--------|---------------------|--------------------|--------------------|\n",
    "| A      | `0, 0, 0, 1, 1...`  | `0, 0, 1, 1, 1...` | `0, 1, 1, 1, 1...` |\n",
    "| B      | `0, 0, 0, 0, 1...`  | `0, 0, 0, 1, 1...` | `0, 0, 1, 1, 1...` |\n",
    "\n",
    "- In each domain, we can calculate how similar A and B are.\n",
    "- Then DAT aggregates these three distances (e.g., by adding or averaging them) to get **a global distance** between A and B.\n",
    "\n",
    "We **never need to combine sequences** directly — just the distances.\n",
    "\n",
    "### Technical Note\n",
    "\n",
    "The aggregation can be done in various ways:\n",
    "- **Sum of distances** across domains (default)\n",
    "- **Weighted sum** (e.g., some domains are more important)\n",
    "- Other tricks like **normalization**, if needed\n",
    "\n",
    "The key requirement is that all distance matrices are comparable — e.g., based on the same method like Optimal Matching (OM), DHD, etc.\n",
    "\n",
    "### How DAT Differs from Other Strategies\n",
    "\n",
    "| Strategy | How it combines domains             | Key unit for analysis        |\n",
    "|----------|-------------------------------------|------------------------------|\n",
    "| IDCD     | Fuses *states* at each time point   | Combined state sequences     |\n",
    "| CAT      | Concatenates domain sequences       | One long sequence per person |\n",
    "| **DAT**  | Aggregates *distances* between people| Combined distance matrix     |\n",
    "\n",
    "### Example Scenario\n",
    "\n",
    "Let’s say we compute **pairwise distances** between 2,000 individuals in:\n",
    "\n",
    "- Domain 1 (Leaving Home): `D₁`\n",
    "- Domain 2 (Children): `D₂`\n",
    "- Domain 3 (Marriage): `D₃`\n",
    "\n",
    "Then, the **DAT distance** between Person A and B is:\n",
    "\n",
    "> `DAT_Distance(A,B) = D₁(A,B) + D₂(A,B) + D₃(A,B)`\n",
    "\n",
    "Once we have this full matrix, we can use it with:\n",
    "- Hierarchical clustering\n",
    "- MDS (Multidimensional Scaling)\n",
    "- t-SNE or UMAP\n",
    "\n",
    "→ All based on overall **similarity across life domains**.\n",
    "\n",
    "### Why Use DAT?\n",
    "\n",
    "- You **don’t lose detail** by merging states or sequences.\n",
    "- You can mix **different distance methods** per domain if needed.\n",
    "- It’s **statistically elegant** — it focuses on *structure* of similarity, not exact paths.\n",
    "\n",
    "### Practical Tip\n",
    "\n",
    "You can still examine:\n",
    "- Which domain contributes most to the distance\n",
    "- Whether certain clusters are closer in some domains than others\n",
    "\n",
    "DAT offers **flexibility** and **modularity** — especially when domains are hard to align or interpret jointly.\n",
    "\n"
   ],
   "metadata": {
    "collapsed": false
   },
   "id": "7234902769dd6190"
  },
  {
   "cell_type": "code",
   "execution_count": 10,
   "outputs": [
    {
     "name": "stdout",
     "output_type": "stream",
     "text": [
      "\n",
      "[>] SequenceData initialized successfully! Here's a summary:\n",
      "[>] Number of sequences: 2000\n",
      "[>] Number of time points: 16\n",
      "[>] Min/Max sequence length: 16 / 16\n",
      "[>] States: [0, 1]\n",
      "\n",
      "[>] SequenceData initialized successfully! Here's a summary:\n",
      "[>] Number of sequences: 2000\n",
      "[>] Number of time points: 16\n",
      "[>] Min/Max sequence length: 16 / 16\n",
      "[>] States: [0, 1]\n",
      "\n",
      "[>] SequenceData initialized successfully! Here's a summary:\n",
      "[>] Number of sequences: 2000\n",
      "[>] Number of time points: 16\n",
      "[>] Min/Max sequence length: 16 / 16\n",
      "[>] States: [0, 1]\n",
      "[>] Processing 2000 sequences with 2 unique states.\n",
      "[>] Transition-based substitution-cost matrix (TRATE) initiated...\n",
      "  - Computing transition probabilities for: [0, 1]\n",
      "[>] Indel cost generated.\n",
      "\n",
      "[>] Identified 64 unique sequences.\n",
      "[>] Sequence length: min/max = 16 / 16.\n",
      "\n",
      "[>] Starting Optimal Matching(OM)...\n",
      "[>] Computing all pairwise distances...\n",
      "[>] Computed Successfully.\n",
      "[>] Processing 2000 sequences with 2 unique states.\n",
      "  - Creating 3x3 substitution-cost matrix using 2 as constant value\n",
      "[>] Indel cost generated.\n",
      "\n",
      "[>] Identified 38 unique sequences.\n",
      "[>] Sequence length: min/max = 16 / 16.\n",
      "\n",
      "[>] Starting Optimal Matching(OM)...\n",
      "[>] Computing all pairwise distances...\n",
      "[>] Computed Successfully.\n",
      "[>] Processing 2000 sequences with 2 unique states.\n",
      "[>] Creating a 'sm' with the costs derived from the transition rates.\n",
      "\n",
      "[>] Transition-based substitution-cost matrix (TRATE) initiated...\n",
      "  - Computing transition probabilities for: [0, 1]\n",
      "[>] Indel cost generated.\n",
      "\n",
      "[>] Identified 58 unique sequences.\n",
      "[>] Sequence length: min/max = 16 / 16.\n",
      "\n",
      "[>] Starting (Dynamic) Hamming Distance(DHD/HAM)...\n",
      "[>] Computing all pairwise distances...\n",
      "[>] Computed Successfully.\n"
     ]
    },
    {
     "data": {
      "text/plain": "           1          2          3          4          5          6     \\\n1      0.000000  26.557654  20.813797  45.450287  28.308613  51.160212   \n2     26.557654   0.000000  17.095842  34.119099  16.977425  55.055490   \n3     20.813797  17.095842   0.000000  24.636490   7.494817  37.959649   \n4     45.450287  34.119099  24.636490   0.000000  17.141674  20.936391   \n5     28.308613  16.977425   7.494817  17.141674   0.000000  38.078065   \n...         ...        ...        ...        ...        ...        ...   \n1996   7.709925  22.847730  20.910488  41.740362  24.598688  58.870137   \n1997  21.081951  12.993290  26.282515  43.305772  26.164098  64.242163   \n1998  51.160212  55.055490  37.959649  20.936391  38.078065   0.000000   \n1999  48.525782  67.083436  57.339578  69.976069  64.834395  49.039678   \n2000  25.101763  40.239568  38.302327  59.132200  41.990527  76.261975   \n\n           7          8          9          10    ...       1991       1992  \\\n1     25.323158  21.041113  13.137805  19.129775  ...  51.160212  45.450287   \n2     43.880812  13.516541  21.033083  15.234496  ...  55.055490  34.119099   \n3     34.136955   7.579300  15.289225  32.330338  ...  37.959649  24.636490   \n4     46.773445  24.409174  39.925716  49.353595  ...  20.936391   0.000000   \n5     41.631771  11.267500  22.784042  32.211921  ...  38.078065  17.141674   \n...         ...        ...        ...        ...  ...        ...        ...   \n1996  33.033083  17.331188  20.847730  11.419850  ...  58.870137  41.740362   \n1997  38.405110  22.703215  30.219756  13.565410  ...  64.242163  43.305772   \n1998  25.837054  41.538949  38.022407  70.289987  ...   0.000000  20.936391   \n1999  23.202624  53.566895  50.050353  67.655556  ...  49.039678  69.976069   \n2000  50.424921  34.723026  38.239568  28.811688  ...  76.261975  59.132200   \n\n           1993       1994       1995       1996       1997       1998  \\\n1     47.353595  43.539009  40.018538   7.709925  21.081951  51.160212   \n2     51.248874  47.434287  43.913816  22.847730  12.993290  55.055490   \n3     34.153032  30.338446  26.817975  20.910488  26.282515  37.959649   \n4     17.129775  24.750977  32.078065  41.740362  43.305772  20.936391   \n5     34.271449  30.456862  26.936391  24.598688  26.164098  38.078065   \n...         ...        ...        ...        ...        ...        ...   \n1996  55.063520  51.248934  47.728463   0.000000  17.372027  58.870137   \n1997  60.435547  56.620961  53.100489  17.372027   0.000000  64.242163   \n1998   3.806617   7.621203  11.141674  58.870137  64.242163   0.000000   \n1999  52.846294  49.225091  37.898004  56.235707  54.090146  49.039678   \n2000  72.455359  68.640772  65.120301  17.391838  27.246278  76.261975   \n\n           1999       2000  \n1     48.525782  25.101763  \n2     67.083436  40.239568  \n3     57.339578  38.302327  \n4     69.976069  59.132200  \n5     64.834395  41.990527  \n...         ...        ...  \n1996  56.235707  17.391838  \n1997  54.090146  27.246278  \n1998  49.039678  76.261975  \n1999   0.000000  50.843868  \n2000  50.843868   0.000000  \n\n[2000 rows x 2000 columns]",
      "text/html": "<div>\n<style scoped>\n    .dataframe tbody tr th:only-of-type {\n        vertical-align: middle;\n    }\n\n    .dataframe tbody tr th {\n        vertical-align: top;\n    }\n\n    .dataframe thead th {\n        text-align: right;\n    }\n</style>\n<table border=\"1\" class=\"dataframe\">\n  <thead>\n    <tr style=\"text-align: right;\">\n      <th></th>\n      <th>1</th>\n      <th>2</th>\n      <th>3</th>\n      <th>4</th>\n      <th>5</th>\n      <th>6</th>\n      <th>7</th>\n      <th>8</th>\n      <th>9</th>\n      <th>10</th>\n      <th>...</th>\n      <th>1991</th>\n      <th>1992</th>\n      <th>1993</th>\n      <th>1994</th>\n      <th>1995</th>\n      <th>1996</th>\n      <th>1997</th>\n      <th>1998</th>\n      <th>1999</th>\n      <th>2000</th>\n    </tr>\n  </thead>\n  <tbody>\n    <tr>\n      <th>1</th>\n      <td>0.000000</td>\n      <td>26.557654</td>\n      <td>20.813797</td>\n      <td>45.450287</td>\n      <td>28.308613</td>\n      <td>51.160212</td>\n      <td>25.323158</td>\n      <td>21.041113</td>\n      <td>13.137805</td>\n      <td>19.129775</td>\n      <td>...</td>\n      <td>51.160212</td>\n      <td>45.450287</td>\n      <td>47.353595</td>\n      <td>43.539009</td>\n      <td>40.018538</td>\n      <td>7.709925</td>\n      <td>21.081951</td>\n      <td>51.160212</td>\n      <td>48.525782</td>\n      <td>25.101763</td>\n    </tr>\n    <tr>\n      <th>2</th>\n      <td>26.557654</td>\n      <td>0.000000</td>\n      <td>17.095842</td>\n      <td>34.119099</td>\n      <td>16.977425</td>\n      <td>55.055490</td>\n      <td>43.880812</td>\n      <td>13.516541</td>\n      <td>21.033083</td>\n      <td>15.234496</td>\n      <td>...</td>\n      <td>55.055490</td>\n      <td>34.119099</td>\n      <td>51.248874</td>\n      <td>47.434287</td>\n      <td>43.913816</td>\n      <td>22.847730</td>\n      <td>12.993290</td>\n      <td>55.055490</td>\n      <td>67.083436</td>\n      <td>40.239568</td>\n    </tr>\n    <tr>\n      <th>3</th>\n      <td>20.813797</td>\n      <td>17.095842</td>\n      <td>0.000000</td>\n      <td>24.636490</td>\n      <td>7.494817</td>\n      <td>37.959649</td>\n      <td>34.136955</td>\n      <td>7.579300</td>\n      <td>15.289225</td>\n      <td>32.330338</td>\n      <td>...</td>\n      <td>37.959649</td>\n      <td>24.636490</td>\n      <td>34.153032</td>\n      <td>30.338446</td>\n      <td>26.817975</td>\n      <td>20.910488</td>\n      <td>26.282515</td>\n      <td>37.959649</td>\n      <td>57.339578</td>\n      <td>38.302327</td>\n    </tr>\n    <tr>\n      <th>4</th>\n      <td>45.450287</td>\n      <td>34.119099</td>\n      <td>24.636490</td>\n      <td>0.000000</td>\n      <td>17.141674</td>\n      <td>20.936391</td>\n      <td>46.773445</td>\n      <td>24.409174</td>\n      <td>39.925716</td>\n      <td>49.353595</td>\n      <td>...</td>\n      <td>20.936391</td>\n      <td>0.000000</td>\n      <td>17.129775</td>\n      <td>24.750977</td>\n      <td>32.078065</td>\n      <td>41.740362</td>\n      <td>43.305772</td>\n      <td>20.936391</td>\n      <td>69.976069</td>\n      <td>59.132200</td>\n    </tr>\n    <tr>\n      <th>5</th>\n      <td>28.308613</td>\n      <td>16.977425</td>\n      <td>7.494817</td>\n      <td>17.141674</td>\n      <td>0.000000</td>\n      <td>38.078065</td>\n      <td>41.631771</td>\n      <td>11.267500</td>\n      <td>22.784042</td>\n      <td>32.211921</td>\n      <td>...</td>\n      <td>38.078065</td>\n      <td>17.141674</td>\n      <td>34.271449</td>\n      <td>30.456862</td>\n      <td>26.936391</td>\n      <td>24.598688</td>\n      <td>26.164098</td>\n      <td>38.078065</td>\n      <td>64.834395</td>\n      <td>41.990527</td>\n    </tr>\n    <tr>\n      <th>...</th>\n      <td>...</td>\n      <td>...</td>\n      <td>...</td>\n      <td>...</td>\n      <td>...</td>\n      <td>...</td>\n      <td>...</td>\n      <td>...</td>\n      <td>...</td>\n      <td>...</td>\n      <td>...</td>\n      <td>...</td>\n      <td>...</td>\n      <td>...</td>\n      <td>...</td>\n      <td>...</td>\n      <td>...</td>\n      <td>...</td>\n      <td>...</td>\n      <td>...</td>\n      <td>...</td>\n    </tr>\n    <tr>\n      <th>1996</th>\n      <td>7.709925</td>\n      <td>22.847730</td>\n      <td>20.910488</td>\n      <td>41.740362</td>\n      <td>24.598688</td>\n      <td>58.870137</td>\n      <td>33.033083</td>\n      <td>17.331188</td>\n      <td>20.847730</td>\n      <td>11.419850</td>\n      <td>...</td>\n      <td>58.870137</td>\n      <td>41.740362</td>\n      <td>55.063520</td>\n      <td>51.248934</td>\n      <td>47.728463</td>\n      <td>0.000000</td>\n      <td>17.372027</td>\n      <td>58.870137</td>\n      <td>56.235707</td>\n      <td>17.391838</td>\n    </tr>\n    <tr>\n      <th>1997</th>\n      <td>21.081951</td>\n      <td>12.993290</td>\n      <td>26.282515</td>\n      <td>43.305772</td>\n      <td>26.164098</td>\n      <td>64.242163</td>\n      <td>38.405110</td>\n      <td>22.703215</td>\n      <td>30.219756</td>\n      <td>13.565410</td>\n      <td>...</td>\n      <td>64.242163</td>\n      <td>43.305772</td>\n      <td>60.435547</td>\n      <td>56.620961</td>\n      <td>53.100489</td>\n      <td>17.372027</td>\n      <td>0.000000</td>\n      <td>64.242163</td>\n      <td>54.090146</td>\n      <td>27.246278</td>\n    </tr>\n    <tr>\n      <th>1998</th>\n      <td>51.160212</td>\n      <td>55.055490</td>\n      <td>37.959649</td>\n      <td>20.936391</td>\n      <td>38.078065</td>\n      <td>0.000000</td>\n      <td>25.837054</td>\n      <td>41.538949</td>\n      <td>38.022407</td>\n      <td>70.289987</td>\n      <td>...</td>\n      <td>0.000000</td>\n      <td>20.936391</td>\n      <td>3.806617</td>\n      <td>7.621203</td>\n      <td>11.141674</td>\n      <td>58.870137</td>\n      <td>64.242163</td>\n      <td>0.000000</td>\n      <td>49.039678</td>\n      <td>76.261975</td>\n    </tr>\n    <tr>\n      <th>1999</th>\n      <td>48.525782</td>\n      <td>67.083436</td>\n      <td>57.339578</td>\n      <td>69.976069</td>\n      <td>64.834395</td>\n      <td>49.039678</td>\n      <td>23.202624</td>\n      <td>53.566895</td>\n      <td>50.050353</td>\n      <td>67.655556</td>\n      <td>...</td>\n      <td>49.039678</td>\n      <td>69.976069</td>\n      <td>52.846294</td>\n      <td>49.225091</td>\n      <td>37.898004</td>\n      <td>56.235707</td>\n      <td>54.090146</td>\n      <td>49.039678</td>\n      <td>0.000000</td>\n      <td>50.843868</td>\n    </tr>\n    <tr>\n      <th>2000</th>\n      <td>25.101763</td>\n      <td>40.239568</td>\n      <td>38.302327</td>\n      <td>59.132200</td>\n      <td>41.990527</td>\n      <td>76.261975</td>\n      <td>50.424921</td>\n      <td>34.723026</td>\n      <td>38.239568</td>\n      <td>28.811688</td>\n      <td>...</td>\n      <td>76.261975</td>\n      <td>59.132200</td>\n      <td>72.455359</td>\n      <td>68.640772</td>\n      <td>65.120301</td>\n      <td>17.391838</td>\n      <td>27.246278</td>\n      <td>76.261975</td>\n      <td>50.843868</td>\n      <td>0.000000</td>\n    </tr>\n  </tbody>\n</table>\n<p>2000 rows × 2000 columns</p>\n</div>"
     },
     "execution_count": 10,
     "metadata": {},
     "output_type": "execute_result"
    }
   ],
   "source": [
    "left_df = load_dataset('biofam_left_domain')\n",
    "children_df = load_dataset('biofam_child_domain')\n",
    "married_df = load_dataset('biofam_married_domain')\n",
    "\n",
    "time_cols = [col for col in children_df.columns if col.startswith(\"age_\")]\n",
    "\n",
    "seq_left = SequenceData(data=left_df, time_type=\"age\", time=time_cols, states=[0, 1],\n",
    "                        labels=[\"At home\", \"Left home\"], id_col='id')\n",
    "seq_child = SequenceData(data=children_df, time_type=\"age\", time=time_cols, states=[0, 1],\n",
    "                         labels=[\"No child\", \"Child\"], id_col='id')\n",
    "seq_marr = SequenceData(data=married_df, time_type=\"age\", time=time_cols, states=[0, 1],\n",
    "                        labels=[\"Not married\", \"Married\"], id_col='id')\n",
    "\n",
    "domains_seq_list = [seq_left, seq_child, seq_marr]\n",
    "\n",
    "domain_params = [\n",
    "    {\"method\": \"OM\", \"sm\": \"TRATE\", \"indel\": \"auto\"},\n",
    "    {\"method\": \"OM\", \"sm\": \"CONSTANT\", \"indel\": \"auto\"},\n",
    "    {\"method\": \"DHD\"}   \n",
    "]\n",
    "\n",
    "dat_matrix = compute_dat_distance_matrix(domains_seq_list, method_params=domain_params)\n",
    "\n",
    "dat_matrix"
   ],
   "metadata": {
    "collapsed": false,
    "ExecuteTime": {
     "end_time": "2025-05-03T18:56:41.627532Z",
     "start_time": "2025-05-03T18:56:41.068787Z"
    }
   },
   "id": "665a43b33dcfe666"
  },
  {
   "cell_type": "markdown",
   "source": [
    "After this, we can follow the common workflow of sequence analysis."
   ],
   "metadata": {
    "collapsed": false
   },
   "id": "5ac53b9d84400ec1"
  },
  {
   "cell_type": "code",
   "execution_count": null,
   "outputs": [],
   "source": [
    "# For instance, you can do cluster analysis and visualization based on the clusters. \n",
    "\n"
   ],
   "metadata": {
    "collapsed": false
   },
   "id": "dcf627c4f61fd4b8"
  },
  {
   "cell_type": "code",
   "execution_count": null,
   "outputs": [],
   "source": [],
   "metadata": {
    "collapsed": false
   },
   "id": "736936b335749d5d"
  },
  {
   "cell_type": "markdown",
   "source": [
    "## The fourth strategy for multi-domain sequence analysis: CombT — Combined Typology\n",
    "\n",
    "**CombT** stands for **Combined Typology**, and it's a helpful strategy when you want to cluster individuals **based on their patterns in each domain separately**, then **combine** those domain-level clusters into one **global typology**.\n",
    "\n",
    "### Core Idea\n",
    "\n",
    "Rather than trying to forcefully merge different life domains (like in IDCD or CAT), **CombT lets each domain speak for itself first**.\n",
    "\n",
    "Here's the process:\n",
    "\n",
    "1. Cluster each domain **individually** using its own distance matrix.\n",
    "2. Assign each individual a **cluster label** per domain.\n",
    "3. Combine these labels (like \"LeftCluster=1 + ChildCluster=2 + MarriedCluster=1\") into a new string — this is the **Combined Typology (CombT)**.\n",
    "4. Optionally, merge rare combinations if needed (e.g., clusters with too few people).\n",
    "\n",
    "> So an individual's CombT label might look like: `\"2+1+3\"` → Cluster 2 in Domain A, Cluster 1 in Domain B, Cluster 3 in Domain C.\n",
    "\n",
    "### What You Get\n",
    "\n",
    "The result is:\n",
    "- A **membership table** showing each person’s cluster per domain and their final CombT label.\n",
    "- A **frequency table** showing how common each combination is.\n",
    "- A barplot for quick visual inspection.\n",
    "\n",
    "### Example\n",
    "\n",
    "Suppose we have three domains:\n",
    "- Leaving home (6 clusters)\n",
    "- Having children (5 clusters)\n",
    "- Getting married (4 clusters)\n",
    "\n",
    "Combining those clusters could give **up to 6 × 5 × 4 = 120 possible CombTs** — but usually far fewer are actually observed in the data.\n",
    "\n",
    "Some example CombTs:\n",
    "- `\"1+1+1\"` → A very traditional trajectory\n",
    "- `\"4+5+2\"` → A more unconventional path\n",
    "- `\"3+1+4\"` → Something in-between\n",
    "\n",
    "These labels let us **analyze patterns of life-course diversity** at a higher level.\n",
    "\n",
    "### Why It Works\n",
    "\n",
    "CombT is particularly helpful when:\n",
    "- Domains are **distinct**, but each one is important.\n",
    "- You want to **respect the structure of each domain**, but still form a unified typology.\n",
    "- You want a result that is **interpretable**, traceable back to domain-specific behaviors.\n",
    "\n",
    "### Merge Rare Types\n",
    "\n",
    "Often, a few CombT types are very rare (e.g., only 1 or 2 people). You can:\n",
    "- Merge them with similar, larger groups\n",
    "- Ensure that the final typology is **stable**, meaningful, and doesn’t overfit\n",
    "\n",
    "This is usually done using **silhouette score**: only merge if the quality of clustering (ASW) stays acceptable (e.g., ≥ 0.5).\n",
    "\n",
    "### CombT Compared to Other Strategies\n",
    "\n",
    "| Strategy | Core Logic                        | Sequence Input | Output        |\n",
    "|----------|----------------------------------|----------------|---------------|\n",
    "| IDCD     | Merge states per time point      | Aligned        | Single sequence |\n",
    "| CAT      | Concatenate full trajectories     | Aligned        | Long sequence   |\n",
    "| DAT      | Combine distances post hoc       | Any            | Distance matrix |\n",
    "| **CombT**| Cluster per domain, then combine | Any            | Typology label  |\n",
    "\n",
    "### Summary\n",
    "\n",
    "- CombT = cluster in each domain + combine cluster labels\n",
    "- Great when domains are **independently meaningful**\n",
    "- Produces **interpretable and customizable** groupings\n",
    "- Allows further merging or simplification based on silhouette score\n",
    "\n",
    "> For further details on how CombT works, including optional merging of sparse types, see the `combt.py` file included in this project folder.\n"
   ],
   "metadata": {
    "collapsed": false
   },
   "id": "bc71db47bf90099"
  },
  {
   "cell_type": "markdown",
   "source": [
    "If you run the combt.py, you will have the following results in your terminal:\n",
    "\n",
    "```\n",
    "/Users/lei/Documents/Sequenzo_all_folders/Sequenzo-main/venv/bin/python /Applications/PyCharm.app/Contents/plugins/python/helpers/pydev/pydevd.py --multiprocess --qt-support=auto --client 127.0.0.1 --port 53371 --file /Users/lei/Documents/Sequenzo_all_folders/Sequenzo-main/sequenzo/multidomain/combt.py \n",
    "Connected to pydev debugger (build 232.9921.89)\n",
    "\n",
    "[>] SequenceData initialized successfully! Here's a summary:\n",
    "[>] Number of sequences: 2000\n",
    "[>] Min/Max sequence length: 16 / 16\n",
    "[>] Alphabet: [0, 1]\n",
    "\n",
    "[>] SequenceData initialized successfully! Here's a summary:\n",
    "[>] Number of sequences: 2000\n",
    "[>] Min/Max sequence length: 16 / 16\n",
    "[>] Alphabet: [0, 1]\n",
    "\n",
    "[>] SequenceData initialized successfully! Here's a summary:\n",
    "[>] Number of sequences: 2000\n",
    "[>] Min/Max sequence length: 16 / 16\n",
    "[>] Alphabet: [0, 1]\n",
    "[>] Processing 2000 sequences with 2 unique states.\n",
    "[>] Transition-based substitution-cost matrix (TRATE) initiated...\n",
    "  - Computing transition probabilities for: [0, 1]\n",
    "[>] Indel cost generated.\n",
    "\n",
    "[>] Identified 64 unique sequences.\n",
    "[>] Sequence length: min/max = 16 / 16.\n",
    "\n",
    "[>] Starting Optimal Matching(OM)...\n",
    "[>] Computing all pairwise distances...\n",
    "[>] Computed Successfully.\n",
    "[>] Processing 2000 sequences with 2 unique states.\n",
    "  - Creating 3x3 substitution-cost matrix using 2 as constant value\n",
    "[>] Indel cost generated.\n",
    "\n",
    "[>] Identified 38 unique sequences.\n",
    "[>] Sequence length: min/max = 16 / 16.\n",
    "\n",
    "[>] Starting Optimal Matching(OM)...\n",
    "[>] Computing all pairwise distances...\n",
    "[>] Computed Successfully.\n",
    "[>] Processing 2000 sequences with 2 unique states.\n",
    "  - Creating 3x3 substitution-cost matrix using 2 as constant value\n",
    "[>] Indel cost generated.\n",
    "\n",
    "[>] Identified 58 unique sequences.\n",
    "[>] Sequence length: min/max = 16 / 16.\n",
    "\n",
    "[>] Starting Optimal Matching(OM)...\n",
    "[>] Computing all pairwise distances...\n",
    "[>] Computed Successfully.\n",
    "\n",
    "[>] Processing domain: Left\n",
    "[>] Converting DataFrame to NumPy array...\n",
    "[>] Cluster Quality - Left.png has been saved. Please check it and then come back.\n",
    "\n",
    "[?] Enter number of clusters for domain 'Left': 6\n",
    "\n",
    "[>] Processing domain: Child\n",
    "[>] Converting DataFrame to NumPy array...\n",
    "[>] Cluster Quality - Child.png has been saved. Please check it and then come back.\n",
    "\n",
    "[?] Enter number of clusters for domain 'Child': 5\n",
    "\n",
    "[>] Processing domain: Married\n",
    "[>] Converting DataFrame to NumPy array...\n",
    "[>] Cluster Quality - Married.png has been saved. Please check it and then come back.\n",
    "\n",
    "[?] Enter number of clusters for domain 'Married': 4\n",
    "\n",
    "[>] Combined Typology Membership Table Preview:\n",
    "   id  Left_Cluster  Child_Cluster  Married_Cluster  CombT\n",
    "0   1             4              3                2  4+3+2\n",
    "1   2             1              3                3  1+3+3\n",
    "2   3             2              2                3  2+2+3\n",
    "3   4             2              1                4  2+1+4\n",
    "4   5             2              2                3  2+2+3\n",
    "\n",
    "[>] combt_membership_table.csv has been saved.\n",
    "\n",
    "[>] CombT Frequency Table:\n",
    "    CombT  Frequency  Proportion (%)\n",
    "0   3+1+4        250           12.50\n",
    "1   2+1+4        159            7.95\n",
    "2   2+3+2         97            4.85\n",
    "3   3+1+2         93            4.65\n",
    "4   4+3+2         91            4.55\n",
    "..    ...        ...             ...\n",
    "63  1+5+3          1            0.05\n",
    "64  3+2+1          1            0.05\n",
    "65  3+2+2          1            0.05\n",
    "66  6+5+3          1            0.05\n",
    "67  2+5+4          1            0.05\n",
    "\n",
    "[68 rows x 3 columns]\n",
    "\n",
    "[>] freq_table.csv has been saved.\n",
    "\n",
    "[>] Frequency of Combined Typologies.png has been saved.\n",
    "[>] Processing 2000 sequences with 2 unique states.\n",
    "[>] Transition-based substitution-cost matrix (TRATE) initiated...\n",
    "  - Computing transition probabilities for: [0, 1]\n",
    "[>] Indel cost generated.\n",
    "\n",
    "[>] Identified 64 unique sequences.\n",
    "[>] Sequence length: min/max = 16 / 16.\n",
    "\n",
    "[>] Starting Optimal Matching(OM)...\n",
    "[>] Computing all pairwise distances...\n",
    "[>] Computed Successfully.\n",
    "[>] Processing 2000 sequences with 2 unique states.\n",
    "  - Creating 3x3 substitution-cost matrix using 2 as constant value\n",
    "[>] Indel cost generated.\n",
    "\n",
    "[>] Identified 38 unique sequences.\n",
    "[>] Sequence length: min/max = 16 / 16.\n",
    "\n",
    "[>] Starting Optimal Matching(OM)...\n",
    "[>] Computing all pairwise distances...\n",
    "[>] Computed Successfully.\n",
    "[>] Processing 2000 sequences with 2 unique states.\n",
    "  - Creating 3x3 substitution-cost matrix using 2 as constant value\n",
    "[>] Indel cost generated.\n",
    "\n",
    "[>] Identified 58 unique sequences.\n",
    "[>] Sequence length: min/max = 16 / 16.\n",
    "\n",
    "[>] Starting Optimal Matching(OM)...\n",
    "[>] Computing all pairwise distances...\n",
    "[>] Computed Successfully.\n",
    "[>] Initial clusters: 68, Initial ASW: 0.3277\n",
    "[>] Beginning merge process with min_size=50 and ASW threshold=0.5\n",
    "\n",
    "[>] CombT clusters before merging: 68\n",
    "[>] CombT clusters after merging: 68\n",
    "[>] Total merges performed: 0\n",
    "[>] Final ASW: 0.3277\n",
    "\n",
    "[>] combt_membership_table.csv has been saved.\n",
    "\n",
    "Process finished with exit code 0\n",
    "\n",
    "```"
   ],
   "metadata": {
    "collapsed": false
   },
   "id": "6ac0217b22da8bad"
  },
  {
   "cell_type": "code",
   "execution_count": null,
   "outputs": [],
   "source": [],
   "metadata": {
    "collapsed": false
   },
   "id": "69840a8ba709ba3d"
  },
  {
   "cell_type": "code",
   "execution_count": null,
   "outputs": [],
   "source": [],
   "metadata": {
    "collapsed": false
   },
   "id": "37a1cd34ab741030"
  },
  {
   "cell_type": "code",
   "execution_count": null,
   "outputs": [],
   "source": [],
   "metadata": {
    "collapsed": false
   },
   "id": "7d0cf63a9c189a23"
  }
 ],
 "metadata": {
  "kernelspec": {
   "display_name": "Python 3",
   "language": "python",
   "name": "python3"
  },
  "language_info": {
   "codemirror_mode": {
    "name": "ipython",
    "version": 2
   },
   "file_extension": ".py",
   "mimetype": "text/x-python",
   "name": "python",
   "nbconvert_exporter": "python",
   "pygments_lexer": "ipython2",
   "version": "2.7.6"
  }
 },
 "nbformat": 4,
 "nbformat_minor": 5
}
