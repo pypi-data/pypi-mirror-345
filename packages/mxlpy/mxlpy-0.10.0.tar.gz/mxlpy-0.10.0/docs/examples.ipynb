{
 "cells": [
  {
   "cell_type": "code",
   "execution_count": null,
   "id": "020532ae",
   "metadata": {},
   "outputs": [],
   "source": [
    "import matplotlib.pyplot as plt\n",
    "\n",
    "from mxlpy import Model, Simulator, fns, plot\n",
    "from mxlpy.types import unwrap"
   ]
  },
  {
   "cell_type": "markdown",
   "id": "030e1b30",
   "metadata": {},
   "source": [
    "# SIR and SIRD models"
   ]
  },
  {
   "cell_type": "code",
   "execution_count": null,
   "id": "6c169bf0",
   "metadata": {},
   "outputs": [],
   "source": [
    "def sir() -> Model:\n",
    "    return (\n",
    "        Model()\n",
    "        .add_variables({\"s\": 0.9, \"i\": 0.1, \"r\": 0.0})\n",
    "        .add_parameters({\"beta\": 0.2, \"gamma\": 0.1})\n",
    "        .add_reaction(\n",
    "            \"infection\",\n",
    "            fns.mass_action_2s,\n",
    "            args=[\"s\", \"i\", \"beta\"],\n",
    "            stoichiometry={\"s\": -1, \"i\": 1},\n",
    "        )\n",
    "        .add_reaction(\n",
    "            \"recovery\",\n",
    "            fns.mass_action_1s,\n",
    "            args=[\"i\", \"gamma\"],\n",
    "            stoichiometry={\"i\": -1, \"r\": 1},\n",
    "        )\n",
    "    )\n",
    "\n",
    "\n",
    "res = unwrap(Simulator(sir()).simulate(100).get_result())\n",
    "\n",
    "fig, (ax1, ax2) = plot.two_axes(figsize=(7.5, 3.5))\n",
    "_ = plot.lines(res.variables, ax=ax1)\n",
    "_ = plot.lines(res.fluxes, ax=ax2)\n",
    "ax1.set(xlabel=\"Time / a.u.\", ylabel=\"Relative Population\")\n",
    "ax2.set(xlabel=\"Time / a.u.\", ylabel=\"Rate of change\")\n",
    "plt.show()"
   ]
  },
  {
   "cell_type": "markdown",
   "id": "b8261344",
   "metadata": {},
   "source": [
    "Now you can easily extend the original model by adding an additional reaction"
   ]
  },
  {
   "cell_type": "code",
   "execution_count": null,
   "id": "0c5bc9ab",
   "metadata": {},
   "outputs": [],
   "source": [
    "def sird() -> Model:\n",
    "    return (\n",
    "        sir()\n",
    "        .add_variable(\"d\", 0.0)\n",
    "        .add_parameter(\"mu\", 0.01)\n",
    "        .add_reaction(\n",
    "            \"death\",\n",
    "            fns.mass_action_1s,\n",
    "            args=[\"i\", \"mu\"],\n",
    "            stoichiometry={\"i\": -1, \"d\": 1},\n",
    "        )\n",
    "    )\n",
    "\n",
    "\n",
    "res = unwrap(Simulator(sird()).simulate(100).get_result())\n",
    "\n",
    "fig, (ax1, ax2) = plot.two_axes(figsize=(7.5, 3.5))\n",
    "_ = plot.lines(res.variables, ax=ax1)\n",
    "_ = plot.lines(res.fluxes, ax=ax2)\n",
    "ax1.set(xlabel=\"Time / a.u.\", ylabel=\"Relative Population\")\n",
    "ax2.set(xlabel=\"Time / a.u.\", ylabel=\"Rate of change\")\n",
    "plt.show()"
   ]
  },
  {
   "cell_type": "code",
   "execution_count": null,
   "id": "a74f8434",
   "metadata": {},
   "outputs": [],
   "source": []
  }
 ],
 "metadata": {
  "kernelspec": {
   "display_name": ".venv",
   "language": "python",
   "name": "python3"
  },
  "language_info": {
   "codemirror_mode": {
    "name": "ipython",
    "version": 3
   },
   "file_extension": ".py",
   "mimetype": "text/x-python",
   "name": "python",
   "nbconvert_exporter": "python",
   "pygments_lexer": "ipython3",
   "version": "3.12.8"
  }
 },
 "nbformat": 4,
 "nbformat_minor": 5
}
