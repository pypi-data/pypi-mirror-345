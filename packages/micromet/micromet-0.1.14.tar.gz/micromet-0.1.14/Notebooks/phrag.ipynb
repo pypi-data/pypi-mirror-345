{
 "cells": [
  {
   "cell_type": "code",
   "execution_count": null,
   "metadata": {},
   "outputs": [],
   "source": [
    "%matplotlib inline\n",
    "\n",
    "import pandas as pd\n",
    "import datetime \n",
    "\n",
    "import numpy as np\n",
    "import matplotlib.pyplot as plt\n",
    "from matplotlib.backends.backend_pdf import PdfPages\n",
    "import matplotlib\n",
    "from matplotlib import rcParams\n",
    "import glob\n",
    "import os\n",
    "import getpass\n",
    "import sqlalchemy\n",
    "#import geoalchemy2\n",
    "import sys\n",
    "#from shutil import copyfile\n",
    "import platform\n",
    "\n",
    "import random\n",
    "\n",
    "import scipy\n",
    "\n",
    "import pandas as pd\n",
    "import geopandas as gpd\n",
    "\n",
    "from datetime import datetime \n",
    "import statsmodels.api as sm\n",
    "\n",
    "from pyproj import CRS\n",
    "from pyproj import Transformer\n",
    "from shapely.geometry import Point\n",
    "\n",
    "\n",
    "\n",
    "\n",
    "\n",
    "#import wellapplication as wa\n",
    "\n",
    "rcParams['figure.figsize'] = 12, 8"
   ]
  },
  {
   "cell_type": "code",
   "execution_count": null,
   "metadata": {},
   "outputs": [],
   "source": [
    "import sys\n",
    "sys.path.append(\"../micromet\")\n",
    "import micromet\n",
    "from micromet import AmerifluxDataProcessor\n"
   ]
  },
  {
   "cell_type": "code",
   "execution_count": null,
   "metadata": {},
   "outputs": [],
   "source": []
  },
  {
   "cell_type": "code",
   "execution_count": null,
   "metadata": {},
   "outputs": [],
   "source": [
    "subset"
   ]
  },
  {
   "cell_type": "code",
   "execution_count": null,
   "metadata": {},
   "outputs": [],
   "source": [
    "data = pd.read_csv(r\"C:\\Users\\paulinkenbrandt\\Documents\\GitHub\\MicroMet\\Notebooks\\8441_Statistics_AmeriFlux_3.dat\")\n",
    "data = data[data['LE_1_1_2']<1000]\n",
    "plt.plot(data['LE_1_1_2'])\n",
    "subset = df[(df.index>('2025-03-21'))&(df['LE']<1000)]\n",
    "subset['LE'].plot()"
   ]
  },
  {
   "cell_type": "code",
   "execution_count": null,
   "metadata": {},
   "outputs": [],
   "source": [
    "df = pd.read_csv(\"Phragmites_Flux_AmeriFluxFormat.dat\",skiprows=[0,2,3],na_values=['NAN'])\n",
    "df['TIMESTAMP'] = pd.to_datetime(df['TIMESTAMP'])\n",
    "df = df.set_index(['TIMESTAMP'])\n",
    "for col in ['CO2','H2O']:\n",
    "    df[col] = pd.to_numeric(df[col])\n",
    "\n",
    "oet = pd.read_csv(\"openet_phrag.csv\",parse_dates=[0],index_col=0)\n",
    "oet = oet[oet.index>'2024-11-01']\n",
    "\n",
    "et_data = df[(df['ET']>0)&(df['ET']<1.5)]\n",
    "et_data = et_data[et_data.index>'2024-11-01']\n",
    "#oet = oet[oet.index>'2025-01-01']\n",
    "# Resample by day and count values\n",
    "df_count = et_data.resample('D').count()\n",
    "\n",
    "# Resample by day and calculate the mean\n",
    "df_resample = et_data.resample('D').sum()\n",
    "\n",
    "# Apply the condition: if count < 3, set the resampled value to NaN\n",
    "df_resample['ET'] = np.where(df_count['ET'] < 20, np.nan, df_resample['ET'])*0.0393701\n",
    "df_resample['ET'].plot(marker='.', label ='station measured')\n",
    "oet['Ensemble ET'].plot(label='OpenET Ensemble')\n",
    "oet['SSEBop ET'].plot(label = 'OpenET SSEBop')\n",
    "plt.grid()\n",
    "plt.ylabel('ET (in/day)')\n",
    "plt.legend()"
   ]
  }
 ],
 "metadata": {
  "kernelspec": {
   "display_name": "py313",
   "language": "python",
   "name": "python3"
  },
  "language_info": {
   "codemirror_mode": {
    "name": "ipython",
    "version": 3
   },
   "file_extension": ".py",
   "mimetype": "text/x-python",
   "name": "python",
   "nbconvert_exporter": "python",
   "pygments_lexer": "ipython3",
   "version": "3.13.1"
  }
 },
 "nbformat": 4,
 "nbformat_minor": 2
}
