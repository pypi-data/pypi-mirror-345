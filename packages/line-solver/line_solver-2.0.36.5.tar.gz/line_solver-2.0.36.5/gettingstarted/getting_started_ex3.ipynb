{
 "cells": [
  {
   "cell_type": "code",
   "metadata": {
    "ExecuteTime": {
     "end_time": "2024-09-01T12:56:12.824270Z",
     "start_time": "2024-09-01T12:56:12.714010Z"
    }
   },
   "source": [
    "from line_solver import *\n",
    "GlobalConstants.setVerbose(VerboseLevel.STD)"
   ],
   "outputs": [],
   "execution_count": 7
  },
  {
   "cell_type": "code",
   "metadata": {
    "ExecuteTime": {
     "end_time": "2024-09-01T12:56:12.950465Z",
     "start_time": "2024-09-01T12:56:12.838852Z"
    }
   },
   "source": [
    "model = Network('MRP')\n",
    "# Block 1: nodes\n",
    "delay = Delay(model, 'WorkingState')\n",
    "queue = Queue(model, 'RepairQueue', SchedStrategy.FCFS)\n",
    "queue.setNumberOfServers(2)\n",
    "# Block 2: classes\n",
    "cclass = ClosedClass(model, 'Machines', 3, delay)\n",
    "delay.setService(cclass, Exp(0.5))\n",
    "queue.setService(cclass, Exp(4.0))\n",
    "# Block 3: topology\n",
    "model.link(Network.serialRouting(delay, queue))"
   ],
   "outputs": [],
   "execution_count": 8
  },
  {
   "cell_type": "code",
   "source": [
    "# Block 4: solution\n",
    "solver = SolverCTMC(model)\n",
    "ctmcAvgTable = solver.getAvgTable()"
   ],
   "metadata": {
    "collapsed": false,
    "ExecuteTime": {
     "end_time": "2024-09-01T12:56:13.097600Z",
     "start_time": "2024-09-01T12:56:12.969957Z"
    }
   },
   "outputs": [
    {
     "name": "stdout",
     "output_type": "stream",
     "text": [
      "        Station  JobClass    QLen    Util   RespT  ResidT    ArvR    Tput\n",
      "0  WorkingState  Machines  2.6648  2.6648  2.0000  2.0000  1.3324  1.3324\n",
      "1   RepairQueue  Machines  0.3352  0.1666  0.2515  0.2515  1.3324  1.3324\n"
     ]
    }
   ],
   "execution_count": 9
  },
  {
   "cell_type": "code",
   "source": [
    "stateSpace, nodeStateSpace = solver.getStateSpace()\n",
    "print(\"CTMC state space:\")\n",
    "print(stateSpace)\n",
    "print(nodeStateSpace)"
   ],
   "metadata": {
    "ExecuteTime": {
     "end_time": "2024-09-01T12:56:13.175732Z",
     "start_time": "2024-09-01T12:56:13.126160Z"
    }
   },
   "outputs": [
    {
     "name": "stdout",
     "output_type": "stream",
     "text": [
      "CTMC state space:\n",
      "[[0. 1. 2.]\n",
      " [1. 0. 2.]\n",
      " [2. 0. 1.]\n",
      " [3. 0. 0.]]\n",
      "{0: array([[0.],\n",
      "       [1.],\n",
      "       [2.],\n",
      "       [3.]]), 1: array([[1., 2.],\n",
      "       [0., 2.],\n",
      "       [0., 1.],\n",
      "       [0., 0.]])}\n"
     ]
    }
   ],
   "execution_count": 10
  },
  {
   "cell_type": "code",
   "source": [
    "infGen, eventFilt = solver.getGenerator()\n",
    "print(\"CTMC infinitesimal generator:\")\n",
    "print(infGen)"
   ],
   "metadata": {
    "collapsed": false,
    "ExecuteTime": {
     "end_time": "2024-09-01T12:56:13.335860Z",
     "start_time": "2024-09-01T12:56:13.331190Z"
    }
   },
   "outputs": [
    {
     "name": "stdout",
     "output_type": "stream",
     "text": [
      "CTMC infinitesimal generator:\n",
      "[[-8.   8.   0.   0. ]\n",
      " [ 0.5 -8.5  8.   0. ]\n",
      " [ 0.   1.  -5.   4. ]\n",
      " [ 0.   0.   1.5 -1.5]]\n"
     ]
    }
   ],
   "execution_count": 11
  },
  {
   "metadata": {
    "ExecuteTime": {
     "end_time": "2024-09-01T12:56:13.500110Z",
     "start_time": "2024-09-01T12:56:13.418837Z"
    }
   },
   "cell_type": "code",
   "source": "SolverCTMC.printInfGen(infGen, stateSpace)\n",
   "outputs": [
    {
     "name": "stdout",
     "output_type": "stream",
     "text": [
      "[ 0.0   1.0   2.0 ] -> [ 1.0   0.0   2.0 ] : 8.0\n",
      "[ 1.0   0.0   2.0 ] -> [ 0.0   1.0   2.0 ] : 0.5\n",
      "[ 1.0   0.0   2.0 ] -> [ 2.0   0.0   1.0 ] : 8.0\n",
      "[ 2.0   0.0   1.0 ] -> [ 1.0   0.0   2.0 ] : 1.0\n",
      "[ 2.0   0.0   1.0 ] -> [ 3.0   0.0   0.0 ] : 4.0\n",
      "[ 3.0   0.0   0.0 ] -> [ 2.0   0.0   1.0 ] : 1.5\n"
     ]
    }
   ],
   "execution_count": 12
  }
 ],
 "metadata": {
  "kernelspec": {
   "display_name": "Python 3",
   "language": "python",
   "name": "python3"
  },
  "language_info": {
   "codemirror_mode": {
    "name": "ipython",
    "version": 3
   },
   "file_extension": ".py",
   "mimetype": "text/x-python",
   "name": "python",
   "nbconvert_exporter": "python",
   "pygments_lexer": "ipython3",
   "version": "3.6.4"
  }
 },
 "nbformat": 4,
 "nbformat_minor": 2
}
