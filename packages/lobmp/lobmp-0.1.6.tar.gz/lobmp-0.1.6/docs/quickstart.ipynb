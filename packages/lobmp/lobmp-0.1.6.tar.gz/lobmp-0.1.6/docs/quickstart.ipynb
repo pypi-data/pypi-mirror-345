{
 "cells": [
  {
   "cell_type": "markdown",
   "id": "ab73e2f3",
   "metadata": {},
   "source": [
    "# Quickstart\n",
    "\n",
    "## Install\n",
    "The package is available through PyPi\n",
    "```bash\n",
    "pip install --upgrade lobmp\n",
    "```\n",
    "\n",
    "Once installed you can run the following jupyter cells to run the example. The program will generate the output directory structure for you: be aware of overwriting existing folders!"
   ]
  },
  {
   "cell_type": "code",
   "execution_count": 1,
   "id": "d391c518",
   "metadata": {},
   "outputs": [],
   "source": [
    "content = \"\"\"LOBMP.MC,Market By Price,2025-03-04T16:01:39.983017253Z,+2,Raw,UPDATE,UNSPECIFIED,,,,100,,260,0\n",
    ",,,,Summary,,,,,,,,,3\n",
    ",,,,FID,3855,,QUOTIM_MS,50187282,\n",
    ",,,,FID,4148,,TIMACT_MS,50187282,\n",
    ",,,,FID,14269,,TIMACT_NS,16:01:39.983017253,\n",
    ",,,,MapEntry,,UPDATE,,,,,,1100.300000_B,8\n",
    ",,,,FID,266,,BID_TIME,13:56:27.000000000,\n",
    ",,,,FID,3427,,ORDER_PRC,1100.3,\n",
    ",,,,FID,3428,,ORDER_SIDE,1,BID\n",
    ",,,,FID,3430,,NO_ORD,10,\n",
    ",,,,FID,4356,,ACC_SIZE,100,\n",
    ",,,,FID,6527,,LV_TIM_MS,50187282,\n",
    ",,,,FID,6529,,LV_DATE,2025-04-25,\n",
    ",,,,FID,14268,,LV_TIM_NS,16:01:39.983017253,\n",
    "LOBMP.MC,Market By Price,2025-03-04T16:02:39.983017253Z,+2,Raw,UPDATE,UNSPECIFIED,,,,100,,260,0\n",
    ",,,,Summary,,,,,,,,,3\n",
    ",,,,FID,3855,,QUOTIM_MS,50187282,\n",
    ",,,,FID,4148,,TIMACT_MS,50187282,\n",
    ",,,,FID,14269,,TIMACT_NS,16:01:39.983017253,\n",
    ",,,,MapEntry,,UPDATE,,,,,,1100.40000_B,8\n",
    ",,,,FID,266,,BID_TIME,13:56:27.000000000,\n",
    ",,,,FID,3427,,ORDER_PRC,11100.455,\n",
    ",,,,FID,3428,,ORDER_SIDE,1,BID\n",
    ",,,,FID,3430,,NO_ORD,8,\n",
    ",,,,FID,4356,,ACC_SIZE,307,\n",
    ",,,,FID,6527,,LV_TIM_MS,50187282,\n",
    ",,,,FID,6529,,LV_DATE,2025-04-25,\n",
    ",,,,FID,14268,,LV_TIM_NS,16:01:39.983017253,\n",
    "TEST.MC,Market By Price,2025-03-04T16:01:39.983017253Z,+2,Raw,UPDATE,UNSPECIFIED,,,,100,,260,0\n",
    ",,,,Summary,,,,,,,,,3\n",
    ",,,,FID,3855,,QUOTIM_MS,50187282,\n",
    ",,,,FID,4148,,TIMACT_MS,50187282,\n",
    ",,,,FID,14269,,TIMACT_NS,16:01:39.983017253,\n",
    ",,,,MapEntry,,ADD,,,,,,1100.300000_B,8\n",
    ",,,,FID,266,,BID_TIME,13:56:27.000000000,\n",
    ",,,,FID,3427,,ORDER_PRC,1100.3,\n",
    ",,,,FID,3428,,ORDER_SIDE,1,BID\n",
    ",,,,FID,3430,,NO_ORD,1,\n",
    ",,,,FID,4356,,ACC_SIZE,100,\n",
    ",,,,FID,6527,,LV_TIM_MS,50187282,\n",
    ",,,,FID,6529,,LV_DATE,2025-04-26,\n",
    ",,,,FID,14268,,LV_TIM_NS,16:01:39.983017253,\n",
    "TEST.MC,Market By Price,2025-03-04T16:02:39.983017253Z,+2,Raw,UPDATE,UNSPECIFIED,,,,100,,260,0\n",
    ",,,,Summary,,,,,,,,,3\n",
    ",,,,FID,3855,,QUOTIM_MS,50187282,\n",
    ",,,,FID,4148,,TIMACT_MS,50187282,\n",
    ",,,,MapEntry,,ADD,,,,,,1100.40000_B,8\n",
    ",,,,FID,266,,BID_TIME,13:56:27.000000000,\n",
    ",,,,FID,3427,,ORDER_PRC,11100.455,\n",
    ",,,,FID,3428,,ORDER_SIDE,1,BID\n",
    ",,,,FID,3430,,NO_ORD,2,\n",
    ",,,,FID,4356,,ACC_SIZE,307,\n",
    ",,,,FID,6527,,LV_TIM_MS,50187282,\n",
    ",,,,FID,6529,,LV_DATE,2025-04-26,\n",
    ",,,,FID,14268,,LV_TIM_NS,16:01:39.983017253,\n",
    "\"\"\"\n",
    "with open(\"testfile_lobmp.csv\", \"w\") as f:\n",
    "    f.write(content)"
   ]
  },
  {
   "cell_type": "code",
   "execution_count": 2,
   "id": "2cb700d5",
   "metadata": {
    "vscode": {
     "languageId": "shellscript"
    }
   },
   "outputs": [
    {
     "name": "stdout",
     "output_type": "stream",
     "text": [
      "2025-04-26 16:42:36,701 lobmp [MainThread] [DEBUG]  Started with timing: Execute run\n",
      "2025-04-26 16:42:36,702 lobmp [MainThread] [INFO]  Counting lines in file and recognising possible FIDs...\n",
      "2025-04-26 16:42:36,702 lobmp [MainThread] [INFO]  Found 55 lines in file\n",
      "2025-04-26 16:42:36,702 lobmp [MainThread] [DEBUG]  Using 8 CPUs\n",
      "2025-04-26 16:42:36,703 lobmp [MainThread] [INFO]  Starting file processing...\n",
      "2025-04-26 16:42:36,719 lobmp [MainThread] [DEBUG]  Parsing thread completed successfully\n",
      "2025-04-26 16:42:36,719 lobmp [MainThread] [DEBUG]  Parsing thread completed successfully\n",
      "2025-04-26 16:42:36,719 lobmp [MainThread] [DEBUG]  Parsing thread completed successfully\n",
      "2025-04-26 16:42:36,719 lobmp [MainThread] [DEBUG]  Parsing thread completed successfully\n",
      "2025-04-26 16:42:36,719 lobmp [MainThread] [DEBUG]  Parsing thread completed successfully\n",
      "2025-04-26 16:42:36,719 lobmp [MainThread] [DEBUG]  Parsing thread completed successfully\n",
      "2025-04-26 16:42:36,719 lobmp [MainThread] [DEBUG]  Parsing thread completed successfully\n",
      "2025-04-26 16:42:36,719 lobmp [MainThread] [DEBUG]  Parsing thread completed successfully\n",
      "2025-04-26 16:42:36,719 lobmp [MainThread] [DEBUG]  Writing queue is empty!\n",
      "2025-04-26 16:42:36,739 lobmp [MainThread] [DEBUG]  Writing thread completed successfully\n",
      "2025-04-26 16:42:36,739 lobmp [MainThread] [DEBUG]  Completed with timing: Execute run (Elapsed: 0.04s)\n"
     ]
    }
   ],
   "source": [
    "! lobmp testfile_lobmp.csv ./output --verbose DEBUG"
   ]
  },
  {
   "cell_type": "markdown",
   "id": "e24d6bb4",
   "metadata": {},
   "source": [
    "You should now have the following directory structure\n",
    "```\n",
    ".\n",
    "├── output\n",
    "│   └── testfile_lobmp.parquet\n",
    "│       └── part-000000.parquet\n",
    "└── testfile_lobmp.csv\n",
    "```"
   ]
  },
  {
   "cell_type": "code",
   "execution_count": 3,
   "id": "5df0cb17",
   "metadata": {},
   "outputs": [],
   "source": [
    "import polars as pl\n",
    "\n",
    "path = \"./output/testfile_lobmp.parquet/\"\n",
    "\n",
    "df = pl.read_parquet(path)"
   ]
  },
  {
   "cell_type": "code",
   "execution_count": 4,
   "id": "6b718454",
   "metadata": {},
   "outputs": [
    {
     "data": {
      "text/html": [
       "<div><style>\n",
       ".dataframe > thead > tr,\n",
       ".dataframe > tbody > tr {\n",
       "  text-align: right;\n",
       "  white-space: pre-wrap;\n",
       "}\n",
       "</style>\n",
       "<small>shape: (4, 17)</small><table border=\"1\" class=\"dataframe\"><thead><tr><th>ACC_SIZE</th><th>BID_TIME</th><th>GMT_OFFSET</th><th>LV_DATE</th><th>LV_TIM_MS</th><th>LV_TIM_NS</th><th>MAP_ENTRY_KEY</th><th>MAP_ENTRY_TYPE</th><th>MARKET_MESSAGE_TYPE</th><th>NO_ORD</th><th>ORDER_PRC</th><th>ORDER_SIDE</th><th>QUOTIM_MS</th><th>TICKER</th><th>TIMACT_MS</th><th>TIMACT_NS</th><th>TIMESTAMP</th></tr><tr><td>str</td><td>str</td><td>str</td><td>str</td><td>str</td><td>str</td><td>str</td><td>str</td><td>str</td><td>str</td><td>str</td><td>str</td><td>str</td><td>str</td><td>str</td><td>str</td><td>str</td></tr></thead><tbody><tr><td>&quot;100&quot;</td><td>&quot;13:56:27.000000000&quot;</td><td>&quot;+2&quot;</td><td>&quot;2025-04-25&quot;</td><td>&quot;50187282&quot;</td><td>&quot;16:01:39.983017253&quot;</td><td>&quot;1100.300000_B&quot;</td><td>&quot;UPDATE&quot;</td><td>&quot;UPDATE&quot;</td><td>&quot;10&quot;</td><td>&quot;1100.3&quot;</td><td>&quot;BID&quot;</td><td>&quot;50187282&quot;</td><td>&quot;LOBMP.MC&quot;</td><td>&quot;50187282&quot;</td><td>&quot;16:01:39.983017253&quot;</td><td>&quot;2025-03-04T16:01:39.983017253Z&quot;</td></tr><tr><td>&quot;307&quot;</td><td>&quot;13:56:27.000000000&quot;</td><td>&quot;+2&quot;</td><td>&quot;2025-04-25&quot;</td><td>&quot;50187282&quot;</td><td>&quot;16:01:39.983017253&quot;</td><td>&quot;1100.40000_B&quot;</td><td>&quot;UPDATE&quot;</td><td>&quot;UPDATE&quot;</td><td>&quot;8&quot;</td><td>&quot;11100.455&quot;</td><td>&quot;BID&quot;</td><td>&quot;50187282&quot;</td><td>&quot;LOBMP.MC&quot;</td><td>&quot;50187282&quot;</td><td>&quot;16:01:39.983017253&quot;</td><td>&quot;2025-03-04T16:02:39.983017253Z&quot;</td></tr><tr><td>&quot;100&quot;</td><td>&quot;13:56:27.000000000&quot;</td><td>&quot;+2&quot;</td><td>&quot;2025-04-26&quot;</td><td>&quot;50187282&quot;</td><td>&quot;16:01:39.983017253&quot;</td><td>&quot;1100.300000_B&quot;</td><td>&quot;ADD&quot;</td><td>&quot;UPDATE&quot;</td><td>&quot;1&quot;</td><td>&quot;1100.3&quot;</td><td>&quot;BID&quot;</td><td>&quot;50187282&quot;</td><td>&quot;TEST.MC&quot;</td><td>&quot;50187282&quot;</td><td>&quot;16:01:39.983017253&quot;</td><td>&quot;2025-03-04T16:01:39.983017253Z&quot;</td></tr><tr><td>&quot;307&quot;</td><td>&quot;13:56:27.000000000&quot;</td><td>&quot;+2&quot;</td><td>&quot;2025-04-26&quot;</td><td>&quot;50187282&quot;</td><td>&quot;16:01:39.983017253&quot;</td><td>&quot;1100.40000_B&quot;</td><td>&quot;ADD&quot;</td><td>&quot;UPDATE&quot;</td><td>&quot;2&quot;</td><td>&quot;11100.455&quot;</td><td>&quot;BID&quot;</td><td>&quot;50187282&quot;</td><td>&quot;TEST.MC&quot;</td><td>&quot;50187282&quot;</td><td>&quot;&quot;</td><td>&quot;2025-03-04T16:02:39.983017253Z&quot;</td></tr></tbody></table></div>"
      ],
      "text/plain": [
       "shape: (4, 17)\n",
       "┌──────────┬────────────┬───────────┬───────────┬───┬──────────┬───────────┬───────────┬───────────┐\n",
       "│ ACC_SIZE ┆ BID_TIME   ┆ GMT_OFFSE ┆ LV_DATE   ┆ … ┆ TICKER   ┆ TIMACT_MS ┆ TIMACT_NS ┆ TIMESTAMP │\n",
       "│ ---      ┆ ---        ┆ T         ┆ ---       ┆   ┆ ---      ┆ ---       ┆ ---       ┆ ---       │\n",
       "│ str      ┆ str        ┆ ---       ┆ str       ┆   ┆ str      ┆ str       ┆ str       ┆ str       │\n",
       "│          ┆            ┆ str       ┆           ┆   ┆          ┆           ┆           ┆           │\n",
       "╞══════════╪════════════╪═══════════╪═══════════╪═══╪══════════╪═══════════╪═══════════╪═══════════╡\n",
       "│ 100      ┆ 13:56:27.0 ┆ +2        ┆ 2025-04-2 ┆ … ┆ LOBMP.MC ┆ 50187282  ┆ 16:01:39. ┆ 2025-03-0 │\n",
       "│          ┆ 00000000   ┆           ┆ 5         ┆   ┆          ┆           ┆ 983017253 ┆ 4T16:01:3 │\n",
       "│          ┆            ┆           ┆           ┆   ┆          ┆           ┆           ┆ 9.9830172 │\n",
       "│          ┆            ┆           ┆           ┆   ┆          ┆           ┆           ┆ 53Z       │\n",
       "│ 307      ┆ 13:56:27.0 ┆ +2        ┆ 2025-04-2 ┆ … ┆ LOBMP.MC ┆ 50187282  ┆ 16:01:39. ┆ 2025-03-0 │\n",
       "│          ┆ 00000000   ┆           ┆ 5         ┆   ┆          ┆           ┆ 983017253 ┆ 4T16:02:3 │\n",
       "│          ┆            ┆           ┆           ┆   ┆          ┆           ┆           ┆ 9.9830172 │\n",
       "│          ┆            ┆           ┆           ┆   ┆          ┆           ┆           ┆ 53Z       │\n",
       "│ 100      ┆ 13:56:27.0 ┆ +2        ┆ 2025-04-2 ┆ … ┆ TEST.MC  ┆ 50187282  ┆ 16:01:39. ┆ 2025-03-0 │\n",
       "│          ┆ 00000000   ┆           ┆ 6         ┆   ┆          ┆           ┆ 983017253 ┆ 4T16:01:3 │\n",
       "│          ┆            ┆           ┆           ┆   ┆          ┆           ┆           ┆ 9.9830172 │\n",
       "│          ┆            ┆           ┆           ┆   ┆          ┆           ┆           ┆ 53Z       │\n",
       "│ 307      ┆ 13:56:27.0 ┆ +2        ┆ 2025-04-2 ┆ … ┆ TEST.MC  ┆ 50187282  ┆           ┆ 2025-03-0 │\n",
       "│          ┆ 00000000   ┆           ┆ 6         ┆   ┆          ┆           ┆           ┆ 4T16:02:3 │\n",
       "│          ┆            ┆           ┆           ┆   ┆          ┆           ┆           ┆ 9.9830172 │\n",
       "│          ┆            ┆           ┆           ┆   ┆          ┆           ┆           ┆ 53Z       │\n",
       "└──────────┴────────────┴───────────┴───────────┴───┴──────────┴───────────┴───────────┴───────────┘"
      ]
     },
     "execution_count": 4,
     "metadata": {},
     "output_type": "execute_result"
    }
   ],
   "source": [
    "df"
   ]
  },
  {
   "cell_type": "markdown",
   "id": "7bb184eb",
   "metadata": {},
   "source": [
    "Finally you may want to filter and transform some columns to a more useful format"
   ]
  },
  {
   "cell_type": "code",
   "execution_count": 5,
   "id": "149d9114",
   "metadata": {},
   "outputs": [
    {
     "data": {
      "text/html": [
       "<div><style>\n",
       ".dataframe > thead > tr,\n",
       ".dataframe > tbody > tr {\n",
       "  text-align: right;\n",
       "  white-space: pre-wrap;\n",
       "}\n",
       "</style>\n",
       "<small>shape: (1, 17)</small><table border=\"1\" class=\"dataframe\"><thead><tr><th>ACC_SIZE</th><th>BID_TIME</th><th>GMT_OFFSET</th><th>LV_DATE</th><th>LV_TIM_MS</th><th>LV_TIM_NS</th><th>MAP_ENTRY_KEY</th><th>MAP_ENTRY_TYPE</th><th>MARKET_MESSAGE_TYPE</th><th>NO_ORD</th><th>ORDER_PRC</th><th>ORDER_SIDE</th><th>QUOTIM_MS</th><th>TICKER</th><th>TIMACT_MS</th><th>TIMACT_NS</th><th>TIMESTAMP</th></tr><tr><td>i64</td><td>str</td><td>str</td><td>str</td><td>str</td><td>str</td><td>str</td><td>str</td><td>str</td><td>i64</td><td>decimal[*,3]</td><td>str</td><td>str</td><td>str</td><td>str</td><td>str</td><td>datetime[ns, UTC]</td></tr></thead><tbody><tr><td>100</td><td>&quot;13:56:27.000000000&quot;</td><td>&quot;+2&quot;</td><td>&quot;2025-04-26&quot;</td><td>&quot;50187282&quot;</td><td>&quot;16:01:39.983017253&quot;</td><td>&quot;1100.300000_B&quot;</td><td>&quot;ADD&quot;</td><td>&quot;UPDATE&quot;</td><td>1</td><td>1100.300</td><td>&quot;BID&quot;</td><td>&quot;50187282&quot;</td><td>&quot;TEST.MC&quot;</td><td>&quot;50187282&quot;</td><td>&quot;16:01:39.983017253&quot;</td><td>2025-03-04 16:01:39.983017253 UTC</td></tr></tbody></table></div>"
      ],
      "text/plain": [
       "shape: (1, 17)\n",
       "┌──────────┬────────────┬────────────┬───────────┬───┬─────────┬───────────┬───────────┬───────────┐\n",
       "│ ACC_SIZE ┆ BID_TIME   ┆ GMT_OFFSET ┆ LV_DATE   ┆ … ┆ TICKER  ┆ TIMACT_MS ┆ TIMACT_NS ┆ TIMESTAMP │\n",
       "│ ---      ┆ ---        ┆ ---        ┆ ---       ┆   ┆ ---     ┆ ---       ┆ ---       ┆ ---       │\n",
       "│ i64      ┆ str        ┆ str        ┆ str       ┆   ┆ str     ┆ str       ┆ str       ┆ datetime[ │\n",
       "│          ┆            ┆            ┆           ┆   ┆         ┆           ┆           ┆ ns, UTC]  │\n",
       "╞══════════╪════════════╪════════════╪═══════════╪═══╪═════════╪═══════════╪═══════════╪═══════════╡\n",
       "│ 100      ┆ 13:56:27.0 ┆ +2         ┆ 2025-04-2 ┆ … ┆ TEST.MC ┆ 50187282  ┆ 16:01:39. ┆ 2025-03-0 │\n",
       "│          ┆ 00000000   ┆            ┆ 6         ┆   ┆         ┆           ┆ 983017253 ┆ 4 16:01:3 │\n",
       "│          ┆            ┆            ┆           ┆   ┆         ┆           ┆           ┆ 9.9830172 │\n",
       "│          ┆            ┆            ┆           ┆   ┆         ┆           ┆           ┆ 53 …      │\n",
       "└──────────┴────────────┴────────────┴───────────┴───┴─────────┴───────────┴───────────┴───────────┘"
      ]
     },
     "execution_count": 5,
     "metadata": {},
     "output_type": "execute_result"
    }
   ],
   "source": [
    "df.filter(pl.col(\"TICKER\") == \"TEST.MC\").with_columns(\n",
    "    pl.col(\"TIMESTAMP\").str.strptime(pl.Datetime(\"ns\")),\n",
    "    pl.col(\"ORDER_PRC\").cast(pl.Decimal, strict=False),\n",
    "    pl.col(\"NO_ORD\").cast(pl.Int64, strict=False),\n",
    "    pl.col(\"ACC_SIZE\").cast(pl.Int64, strict=False),\n",
    ").filter(\n",
    "    # Get book changes between 2025-03-04T16:01:00 and 2025-03-04T16:02:00\n",
    "    pl.col(\"TIMESTAMP\").is_between(\n",
    "        pl.lit(\"2025-03-04T16:01:00.000000000Z\").str.to_datetime(time_unit=\"ns\", time_zone=\"UTC\"),\n",
    "        pl.lit(\"2025-03-04T16:02:00.000000000Z\").str.to_datetime(time_unit=\"ns\", time_zone=\"UTC\"),\n",
    "        closed=\"left\",\n",
    "    )\n",
    ")"
   ]
  }
 ],
 "metadata": {
  "kernelspec": {
   "display_name": ".venv",
   "language": "python",
   "name": "python3"
  },
  "language_info": {
   "codemirror_mode": {
    "name": "ipython",
    "version": 3
   },
   "file_extension": ".py",
   "mimetype": "text/x-python",
   "name": "python",
   "nbconvert_exporter": "python",
   "pygments_lexer": "ipython3",
   "version": "3.12.8"
  }
 },
 "nbformat": 4,
 "nbformat_minor": 5
}
