{
 "cells": [
  {
   "cell_type": "code",
   "execution_count": null,
   "metadata": {
    "ExecuteTime": {
     "end_time": "2025-03-18T14:32:22.569780Z",
     "start_time": "2025-03-18T14:32:19.840071Z"
    }
   },
   "outputs": [],
   "source": [
    "%load_ext autoreload\n",
    "%autoreload 2\n",
    "\n",
    "import pandas as pd\n",
    "from fluxdataqaqc import Data, QaQc, Plot\n",
    "from bokeh.plotting import figure, show, ColumnDataSource\n",
    "from bokeh.models.formatters import DatetimeTickFormatter\n",
    "from bokeh.models import LinearAxis, Range1d\n",
    "from bokeh.io import output_notebook\n",
    "output_notebook()\n",
    "\n",
    "import warnings\n",
    "warnings.filterwarnings('ignore')"
   ]
  },
  {
   "cell_type": "code",
   "execution_count": null,
   "metadata": {
    "ExecuteTime": {
     "end_time": "2025-03-18T14:32:22.611768Z",
     "start_time": "2025-03-18T14:32:22.608035Z"
    }
   },
   "outputs": [],
   "source": []
  },
  {
   "cell_type": "markdown",
   "metadata": {},
   "source": [
    "## Load input"
   ]
  },
  {
   "cell_type": "code",
   "execution_count": null,
   "metadata": {
    "ExecuteTime": {
     "end_time": "2025-03-18T14:32:25.760347Z",
     "start_time": "2025-03-18T14:32:22.622544Z"
    }
   },
   "outputs": [],
   "source": [
    "station = 'US-UTW'\n",
    "config_path = f'../../station_config/{station}.ini'\n",
    "d = Data(config_path)\n",
    "d.df.index.freq = '30min'\n",
    "df = d.df.rename(columns=d.inv_map)\n",
    "# get some metadata for saving\n",
    "site_id = d.site_id\n",
    "vars_we_want = ['H', 'LE', 'Rn', 'G']\n",
    "# rename variables, calculate basice statistics table and save to HTML\n",
    "df[vars_we_want].rename(columns=d.variables).describe().to_html('{}.html'.format(site_id))\n",
    "\n",
    "q = QaQc(d, daily_frac=3/4, max_interp_hours=4, max_interp_hours_night=6)\n",
    "\n",
    "# make copies of daily results of different correction options\n",
    "q.correct_data(meth='ebr', et_gap_fill=True)\n",
    "ebr_gapfilled = q.df\n",
    "\n",
    "#q.correct_data(meth='br',et_gap_fill=True)\n",
    "#br_gapfilled = q.df\n",
    "\n",
    "q.monthly_df\n",
    "q.write()"
   ]
  },
  {
   "cell_type": "code",
   "execution_count": null,
   "metadata": {
    "ExecuteTime": {
     "end_time": "2025-03-18T14:33:52.166118Z",
     "start_time": "2025-03-18T14:33:52.025722Z"
    }
   },
   "outputs": [],
   "source": [
    "monthly = q.monthly_df"
   ]
  },
  {
   "cell_type": "code",
   "execution_count": null,
   "metadata": {
    "ExecuteTime": {
     "end_time": "2025-03-18T14:59:49.015039Z",
     "start_time": "2025-03-18T14:59:48.962626Z"
    }
   },
   "outputs": [],
   "source": [
    "monthly.columns\n"
   ]
  },
  {
   "cell_type": "code",
   "execution_count": null,
   "metadata": {
    "ExecuteTime": {
     "end_time": "2025-03-18T15:01:59.333981Z",
     "start_time": "2025-03-18T15:01:59.104144Z"
    }
   },
   "outputs": [],
   "source": [
    "import matplotlib.pyplot as plt\n",
    "field_data = pd.read_csv(\"../openet-et-4974925.csv\",usecols=[0,1,2,3,4,5,6,7,8,9,10,11,12,13,14])\n",
    "field_data['DateTime'] = pd.to_datetime(field_data['DateTime'])\n",
    "field_data = field_data.set_index('DateTime')\n",
    "#monthly = monthly.resample('MS').bfill()\n",
    "field_data = field_data.resample('ME').ffill()\n",
    "\n",
    "fig, ax = plt.subplots()\n",
    "\n",
    "ax.plot(field_data.index, field_data['Ensemble ET'],marker='.',linestyle='--', label='OpenET Ensemble')\n",
    "ax.plot(monthly.index,monthly['ET']/25.4,marker='.',label='Measured')\n",
    "ax.plot(monthly.index,monthly['ET_corr']/25.4,marker='.',label='Closed',alpha=0.5)\n",
    "plt.grid()\n",
    "plt.ylabel('ET in/mo')\n",
    "plt.legend()\n",
    "plt.title('US-UTW Wellington')\n"
   ]
  },
  {
   "cell_type": "code",
   "execution_count": null,
   "metadata": {
    "ExecuteTime": {
     "end_time": "2025-03-18T13:30:07.042112Z",
     "start_time": "2025-03-18T13:30:06.750117Z"
    }
   },
   "outputs": [],
   "source": [
    "import numpy as np\n",
    "\n",
    "import matplotlib.pyplot as plt\n",
    "\n",
    "\n",
    "doy_ms = pd.date_range(start='2020-01-01', end='2020-12-01', freq='MS').day_of_year\n",
    "mo_no = pd.date_range(start='2020-01-01', end='2020-12-01', freq='MS')\n",
    "mo_nm = [f\"{m:%b}\" for m in mo_no]\n",
    "mo_no_dict = dict(zip(mo_no.month, np.column_stack((doy_ms, mo_nm))))\n",
    "\n",
    "months_used = [5,6,7,8,9]\n",
    "\n",
    "month_starts_doy = [np.int16(mo_no_dict[i][0]) for i in months_used]\n",
    "month_labels = [mo_no_dict[i][1] for i in months_used]\n",
    "\n",
    "\n",
    "summer = ebr_gapfilled[ebr_gapfilled.index.month.isin(months_used)]\n",
    "\n",
    "fig, ax = plt.subplots(2, 1, sharex=True, figsize=(10, 5))\n",
    "\n",
    "for year in summer.index.year.unique():\n",
    "    print(year)\n",
    "    yr_df = summer[summer.index.year == year]\n",
    "    ax[0].plot(yr_df.index.day_of_year, yr_df['ET'], label=year, alpha=0.5)\n",
    "    ax[1].plot(yr_df.index.day_of_year, yr_df['ET_corr'], label=year, alpha=0.5)\n",
    "ax[0].grid()\n",
    "ax[1].grid()\n",
    "plt.legend()\n",
    "\n",
    "# Set the ticks and labels explicitly\n",
    "ax[0].set_xticks(month_starts_doy, month_labels)\n",
    "ax[1].set_xticks(month_starts_doy, month_labels)\n",
    "\n",
    "ax[0].set_ylabel('ET mm/day')\n",
    "ax[1].set_ylabel('ET mm/day')\n",
    "ax[0].set_title('Measured ET')\n",
    "ax[1].set_title('Closed ET')\n",
    "\n",
    "plt.tight_layout()\n"
   ]
  },
  {
   "cell_type": "code",
   "execution_count": null,
   "metadata": {},
   "outputs": [],
   "source": [
    "\n",
    "doy_ms = pd.date_range(start='2020-01-01', end='2020-12-01', freq='MS').day_of_year\n",
    "mo_no = pd.date_range(start='2020-01-01', end='2020-12-01', freq='MS')\n",
    "mo_nm = [f\"{m:%b}\" for m in mo_no]\n",
    "mo_no_dict = dict(zip(mo_no.month, np.column_stack((doy_ms, mo_nm))))\n",
    "months_used = [7,8,9]\n",
    "\n"
   ]
  },
  {
   "cell_type": "code",
   "execution_count": null,
   "metadata": {
    "ExecuteTime": {
     "end_time": "2025-03-18T13:29:42.140780Z",
     "start_time": "2025-03-18T13:29:41.877277Z"
    }
   },
   "outputs": [],
   "source": [
    "import matplotlib.pyplot as plt\n",
    "summer = ebr_gapfilled[ebr_gapfilled.index.month.isin([4,5,6])]\n",
    "\n",
    "fig, ax = plt.subplots(1,2,sharey=True,figsize=(10,5))\n",
    "\n",
    "for year in summer.index.year.unique():\n",
    "    print(year)\n",
    "    yr_df = summer[summer.index.year == year]\n",
    "    ax[0].plot(yr_df.index.day_of_year, yr_df['ET'],label=year)\n",
    "    ax[1].plot(yr_df.index.day_of_year, yr_df['ET_corr'],label=year)\n",
    "ax[0].grid()\n",
    "ax[1].grid()\n",
    "plt.legend()"
   ]
  },
  {
   "cell_type": "code",
   "execution_count": null,
   "metadata": {
    "ExecuteTime": {
     "end_time": "2025-03-18T13:18:54.523658Z",
     "start_time": "2025-03-18T13:18:53.747164Z"
    }
   },
   "outputs": [],
   "source": [
    "import matplotlib.pyplot as plt\n",
    "\n",
    "ebr_gapfilled['Br'] = ebr_gapfilled['input_H']/ebr_gapfilled['input_LE']\n",
    "#ebr_gapfilled['Br'].plot(color='green')\n",
    "#plt.xlim(pd.to_datetime('2024-03-01'), pd.to_datetime('2024-04-01'))\n",
    "ebr_gapfilled['input_H'].plot()\n",
    "ebr_gapfilled['input_LE'].plot()\n",
    "ebr_gapfilled['input_G'].plot()\n",
    "ebr_gapfilled['NETRAD'].plot()\n",
    "plt.xlim(pd.to_datetime('2024-03-01'), pd.to_datetime('2024-04-01'))\n",
    "plt.grid()\n",
    "plt.legend()\n"
   ]
  },
  {
   "cell_type": "code",
   "execution_count": null,
   "metadata": {
    "ExecuteTime": {
     "end_time": "2024-07-10T23:18:37.174445Z",
     "start_time": "2024-07-10T23:18:36.374218Z"
    }
   },
   "outputs": [],
   "source": [
    "ebr_gapfilled['Br'].plot(color='green')\n",
    "plt.xlim(pd.to_datetime('2024-03-01'), pd.to_datetime('2024-04-01'))\n",
    "plt.ylim(0,1)"
   ]
  },
  {
   "cell_type": "code",
   "execution_count": null,
   "metadata": {
    "ExecuteTime": {
     "end_time": "2024-07-10T23:17:11.351075Z",
     "start_time": "2024-07-10T23:17:10.426720Z"
    }
   },
   "outputs": [],
   "source": [
    "ebr_gapfilled['input_H'].plot()\n",
    "ebr_gapfilled['input_LE'].plot()"
   ]
  },
  {
   "cell_type": "code",
   "execution_count": null,
   "metadata": {},
   "outputs": [],
   "source": [
    "nldas = pd.read_parquet(\"../Footprints/output/nldas_all_normed.parquet\")\n",
    "utw_nldas = nldas.loc['US-UTW','eto'].resample('1d').sum()\n",
    "#pd.read_parquet(\"../Footprints/output/nldas_all.parquet\")\n",
    "\n",
    "\n",
    "import matplotlib.pyplot as plt\n",
    "\n",
    "# make date lables\n",
    "doy_ms = pd.date_range(start='2020-01-01', end='2020-12-01', freq='MS').day_of_year\n",
    "mo_no = pd.date_range(start='2020-01-01', end='2020-12-01', freq='MS')\n",
    "mo_nm = [f\"{m:%b}\" for m in mo_no]\n",
    "mo_no_dict = dict(zip(mo_no.month, np.column_stack((doy_ms, mo_nm))))\n",
    "\n",
    "months_used = [5,6,7,8,9]\n",
    "\n",
    "month_starts_doy = [np.int16(mo_no_dict[i][0]) for i in months_used]\n",
    "month_labels = [mo_no_dict[i][1] for i in months_used]\n",
    "\n",
    "summer = pd.concat([ebr_gapfilled[ebr_gapfilled.index.month.isin(months_used)], utw_nldas[utw_nldas.index.month.isin(months_used)]],axis=1)\n",
    "\n",
    "eto = summer['eto'].copy().to_frame()\n",
    "eto['doy'] = eto.index.day_of_year\n",
    "avg_eto = eto.groupby('doy').max()\n",
    "\n",
    "fig, ax = plt.subplots(2, 1, sharex=True, figsize=(10, 5))\n",
    "\n",
    "for year in summer.index.year.unique():\n",
    "    print(year)\n",
    "    yr_df = summer[summer.index.year == year]\n",
    "    ax[0].plot(yr_df.index.day_of_year, yr_df['ET'], label=year, alpha=0.5)\n",
    "    ax[0].plot(avg_eto.index, avg_eto['eto'])\n",
    "    ax[1].plot(yr_df.index.day_of_year, yr_df['ET_corr'], label=year, alpha=0.5)\n",
    "    ax[1].plot(avg_eto.index, avg_eto['eto'])\n",
    "ax[0].grid()\n",
    "ax[1].grid()\n",
    "plt.legend()\n",
    "\n",
    "# Set the ticks and labels explicitly\n",
    "ax[0].set_xticks(month_starts_doy, month_labels)\n",
    "ax[1].set_xticks(month_starts_doy, month_labels)\n",
    "\n",
    "ax[0].set_ylabel('ET mm/day')\n",
    "ax[1].set_ylabel('ET mm/day')\n",
    "ax[0].set_title('Measured ET')\n",
    "ax[1].set_title('Closed ET')\n",
    "\n",
    "plt.tight_layout()"
   ]
  },
  {
   "cell_type": "code",
   "execution_count": null,
   "metadata": {
    "ExecuteTime": {
     "end_time": "2024-07-10T23:26:12.691607Z",
     "start_time": "2024-07-10T23:26:11.814985Z"
    }
   },
   "outputs": [],
   "source": [
    "import matplotlib.pyplot as plt\n",
    "\n",
    "ebr_gapfilled['input_H'].plot(color='blue')\n",
    "\n",
    "ebr_gapfilled['input_LE'].plot(color='green')\n",
    "ebr_gapfilled['input_G'].plot(color='red')\n",
    "\n",
    "ebr_gapfilled['NETRAD'].plot(color='yellow')\n",
    "\n",
    "plt.xlim(pd.to_datetime('2024-06-01'), pd.to_datetime('2024-06-20'))\n",
    "plt.grid()\n",
    "plt.legend()"
   ]
  },
  {
   "cell_type": "code",
   "execution_count": null,
   "metadata": {
    "ExecuteTime": {
     "end_time": "2024-07-11T00:08:28.504358Z",
     "start_time": "2024-07-11T00:08:27.966936Z"
    }
   },
   "outputs": [],
   "source": [
    "ebr_gapfilled[ebr_gapfilled['ebr']>=0.8][['input_H','input_LE','input_G','NETRAD']].plot()\n"
   ]
  },
  {
   "cell_type": "code",
   "execution_count": null,
   "metadata": {
    "ExecuteTime": {
     "end_time": "2024-07-10T23:20:01.135537Z",
     "start_time": "2024-07-10T23:20:00.546876Z"
    }
   },
   "outputs": [],
   "source": [
    "ebr_gapfilled['Br'].plot(color='green')\n",
    "plt.xlim(pd.to_datetime('2024-06-01'), pd.to_datetime('2024-06-20'))\n",
    "plt.ylim(-1,1)"
   ]
  },
  {
   "cell_type": "code",
   "execution_count": null,
   "metadata": {
    "ExecuteTime": {
     "end_time": "2025-03-18T13:19:19.514797Z",
     "start_time": "2025-03-18T13:19:18.559873Z"
    }
   },
   "outputs": [],
   "source": [
    "import plotly.express as px\n",
    "\n",
    "df = px.data.tips()\n",
    "df = ebr_gapfilled[(ebr_gapfilled.index>pd.to_datetime('2024-03-01'))&(ebr_gapfilled.index<=pd.to_datetime('2024-04-01'))]\n",
    "fig = px.scatter(x = df['input_H']+df['input_LE'], \n",
    "            y = df['NETRAD']+df['input_G'], trendline=\"ols\")\n",
    "fig.show()"
   ]
  },
  {
   "cell_type": "code",
   "execution_count": null,
   "metadata": {
    "ExecuteTime": {
     "end_time": "2024-07-10T19:22:28.462707Z",
     "start_time": "2024-07-10T19:22:28.126970Z"
    }
   },
   "outputs": [],
   "source": [
    "\n",
    "fig = figure(x_axis_label='date', y_axis_label='energy (W/m2)')\n",
    "# arguements needed for creating interactive plots\n",
    "plt_vars =['LE','H']\n",
    "colors = ['red', 'blue',]\n",
    "x_name = 'date'\n",
    "\n",
    "fig.line(df.index, df[plt_vars], line_width=2, legend_label=site_id)\n",
    "\n",
    "show(fig)"
   ]
  },
  {
   "cell_type": "markdown",
   "metadata": {},
   "source": [
    "Datetime-indexed ``pandas.DataFrame`` objects have useful features for time series analysis like grouping and calculating statistics by time aggregates. The example below shows how to calculate the day of year mean for energy balance components, it also demonstrates how to use the ``add_lines`` plotting method available to ``Data``, ``QaQc``, and ``Plot`` objects."
   ]
  },
  {
   "cell_type": "code",
   "execution_count": null,
   "metadata": {
    "ExecuteTime": {
     "end_time": "2024-07-10T19:47:23.785507Z",
     "start_time": "2024-07-10T19:47:23.353349Z"
    }
   },
   "outputs": [],
   "source": [
    "# convert to internal names, copy dataframe\n",
    "df = d.df.rename(columns=d.inv_map)\n",
    "# day of year mean of input energy balance components\n",
    "vars_we_want = ['H', 'LE', 'Rn', 'G']\n",
    "doy_means = df[vars_we_want].groupby(d.df.index.dayofyear).mean()\n",
    "# create a Bokeh figure\n",
    "fig = figure(x_axis_label='day of year', y_axis_label='day of year mean (w/m2)')\n",
    "# arguements needed for creating interactive plots\n",
    "plt_vars = vars_we_want\n",
    "colors = ['red', 'blue', 'black', 'green']\n",
    "x_name = 'date'\n",
    "source = ColumnDataSource(doy_means)\n",
    "Plot.add_lines(fig, doy_means, plt_vars, colors, x_name, source, labels=vars_we_want,\n",
    "    x_axis_type=None) \n",
    "show(fig)"
   ]
  },
  {
   "cell_type": "markdown",
   "metadata": {},
   "source": [
    "## Visualize input data\n",
    "\n",
    "The ``Data.plot`` method create a series of interactive time series plots of input data, potential plots inlcude:\n",
    "\n",
    "* energy balance components \n",
    "* radiation components \n",
    "* multiple soil heat flux measurements\n",
    "* air temperature\n",
    "* vapor pressure and vapor pressure deficit\n",
    "* wind speed\n",
    "* precipitation \n",
    "* latent energy\n",
    "* multiple soil moisture measurements\n",
    "\n",
    "If any of these variables are not found the plot(s) will not be added.\n",
    "\n",
    "The most useful interactive features of plots created by ``flux-data-qaqc`` are:\n",
    "\n",
    "* pan/zoom\n",
    "* hover tolltips on var names, values, date\n",
    "* linked x-axes on time series plots\n",
    "* save plot option (can save specific subplot zoomed in)\n",
    "\n",
    "Here is an example,"
   ]
  },
  {
   "cell_type": "markdown",
   "metadata": {},
   "source": [
    "#### Filter days with sub-daily gaps\n",
    "\n",
    "The ``drop_gaps`` and ``daily_frac`` keyword arguments used when creating a ``QaQc`` instance allow you to control how days with sub-daily measurement gaps will or will not be filtered out when resampling to daily frequency. \n",
    "\n",
    "Sub-daily gaps in energy balance variables $LE$, $H$, $Rn$, and $G$ can be linearly interpolated up to a certain gap length measured in hours, with options to control the longest length of gap to interpolate when $Rn \\ge 0$ controlled by the ``QaQc`` keyword argument ``max_interp_hours`` (default 2 hours) and the longest gap to interpolate when $Rn < 0$ set by the ``max_interp_hours_night`` (default 4 hours). \n",
    "\n",
    "**Important:** By default the ``QaQc`` constructor will first linearly interpolate energy balance variables ($LE$, $H$, $Rn$, and $G$) according to the maximum gap lengths (``max_interp_hours`` and ``max_interp_hours_night``) and then count sub-daily gaps and drop days (set values to null) for all climate data columns (not QC flag or sub-daily gap count columns) where any of the sub-daily data are missing because by default ``drop_gaps=True`` and ``daily_frac=1.0``. In other words, if you have hourly input data for $LE$ and one hour was missing on a given day, by default that hour will be linearly interpolated before calculating the daily time series and the daily mean will be calculated after. On the other hand, if other climate variables had a single hour missing on a given day, e.g. wind direction or air temperature, this day would be filtered out by the ``QaQc`` constructor. This is important because the daily time series is what is used in all energy balance closure correction algorithms. \n",
    "\n",
    "The percentage of sub-daily samples to require set by the ``daily_frac`` argument and the maximum length of gaps to linearly interpolate set by ``max_interp_hours`` and ``max_interp_hours_night`` complement each other and are used in tandem. For example, if the input data is half-hourly and you only want a maximum of 4 hours to be interpolated on any given day and gap lengths to interpolate should be no more than 2 hours each then you would pass the following parameters to the ``QaQc`` constructor:"
   ]
  },
  {
   "cell_type": "markdown",
   "metadata": {},
   "source": [
    "## Energy balance corrections \n",
    "\n",
    "``flux-data-qaqc`` provides routines that adjust turbulent heat fluxes (latent and sensible) to improve surface energy balance closure of eddy covariance flux station data. These routines ultimately result in a corrected daily and monthly time series of latent energy, sensible heat, and evapotranspiration with the option to gap-fill days in corrected ET with ET calculated from gridMET reference ET and fraction of reference ET.\n",
    "\n",
    "There are two methods currently implemented:\n",
    "1. Energy Balance Ratio method (default), modified from the [FLUXNET method](https://fluxnet.fluxdata.org/data/fluxnet2015-dataset/data-processing/) - use `ebr`\n",
    "2. Bowen Ratio approach (forces closure) - use `br`\n",
    "\n",
    "Detailed descriptions of both methods including ET gap-filling methods can be found in the online documentation [Closure Algorithms](https://flux-data-qaqc.readthedocs.io/en/latest/closure_explanation.html#closure-methodologies) page. A few important notes on the API of these methods and other hydro-climatic statistical variables that are calculated are shown below."
   ]
  },
  {
   "cell_type": "markdown",
   "metadata": {},
   "source": [
    "#### ET gap-filling\n",
    "\n",
    "A few notes on the option that uses reference ET and fraction of daily reference ET to fill in large gaps in corrected ET, i.e. the keyword argument ``QaQc.correct_data(etr_gap_fill = True)``. \n",
    "\n",
    "* The nearest [gridMET](http://www.climatologylab.org/gridmet.html) cell's time series data for precipitation and alfalfa reference ET is attempted to be downloaded if it is not found in the ``gridmet_file_path`` entry of the config.ini file. \n",
    "\n",
    "* If the path to a gridMET file is not found it is re-downloaded, the config file will be updated with the new path and resaved. \n",
    "\n",
    "* Only the overlapping time period that matches the eddy covariance time series data is attempted to be downloaded, i.e. the period in ``QaQc.df.index``. \n",
    "\n",
    "* When a gridMET file is downloaded it will always be saved in a subdirectory where the config file is located called \"gridMET_data\" and named using the ``QaQc.site_id`` and gridMET cell centroid latitude and longitude.\n",
    "\n",
    "* Corrected latent energy ($LE_{corr}$) gaps are also backwards filled from gap-filled ET.\n",
    "\n",
    "\n",
    "**Caution:** [gridMET](http://www.climatologylab.org/gridmet.html) only exists within the contiguous United States and from 1979 to present, therefore if your station lies outside of this region or you are analyzing eddy flux data recorded before 1979 this option will not be ususable and you should always run corrections with ``etr_gap_fill=False`` to avoid potential errors."
   ]
  },
  {
   "cell_type": "markdown",
   "metadata": {},
   "source": [
    "Lastly, although variables created by energy balance closure corrections are described in [Closure Algorithms](https://flux-data-qaqc.readthedocs.io/en/latest/closure_explanation.html#closure-methodologies). For reference here is a list of all possible variables created by the Energy Balance Ratio correction algorithm:\n",
    "\n",
    "```\n",
    "rso : potential clear sky radiation (ASCE formulation)\n",
    "flux : input LE + H\n",
    "energy : input Rn - G\n",
    "ebr_5day_clim : 5 day climatology of the filtered Energy Balance Ratio \n",
    "LE_corr : corrected latent energy\n",
    "ebc_cf  : energy balance closure correction factor (inverse of ebr_corr)\n",
    "ebr_corr : corrected energy balance ratio\n",
    "flux_corr : LE_corr + H_corr \n",
    "ebr : input energy balance ratio\n",
    "H_corr : corrected sensible heat\n",
    "ET : ET calculated from input LE and average air temperature\n",
    "ET_corr : ET calculated from LE_corr and avg. air temp.\n",
    "gridMET_ETr : gridMET alfalfa reference ET (nearest cell)\n",
    "gridMET_prcp : gridMET precipitation\n",
    "ETrF : fraction of reference ET for ET_corr, i.e. ET_corr / gridMET_ETr\n",
    "ETrF_filtered : filtered ETrF\n",
    "ET_fill : gridMET_ETr * ETrF_filtered (to fill gaps in ET_corr, full time series)\n",
    "ET_gap : True on gap days in ET_corr, False otherwise (for plotting and post-processing)\n",
    "ET_fill_val : value of ET_fill on gap days (for plotting and post-processing)\n",
    "```\n",
    "\n",
    "The Bowen Ratio correction method will produce the 'br' variable which is the Bowen Ratio. "
   ]
  },
  {
   "cell_type": "code",
   "execution_count": null,
   "metadata": {},
   "outputs": [],
   "source": []
  }
 ],
 "metadata": {
  "kernelspec": {
   "display_name": "py313",
   "language": "python",
   "name": "python3"
  },
  "language_info": {
   "codemirror_mode": {
    "name": "ipython",
    "version": 3
   },
   "file_extension": ".py",
   "mimetype": "text/x-python",
   "name": "python",
   "nbconvert_exporter": "python",
   "pygments_lexer": "ipython3",
   "version": "3.13.1"
  }
 },
 "nbformat": 4,
 "nbformat_minor": 2
}
