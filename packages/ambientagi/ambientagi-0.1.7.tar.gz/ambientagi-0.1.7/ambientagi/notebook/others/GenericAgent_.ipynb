{
 "cells": [
  {
   "cell_type": "code",
   "execution_count": 4,
   "metadata": {},
   "outputs": [
    {
     "name": "stdout",
     "output_type": "stream",
     "text": [
      "Agent registered successfully: {'agent_id': '977c2e4f-b1f7-4ec8-a725-07996572af51', 'name': 'Assistant for DeFi monitoring', 'wallet_address': '0x123456789ABCDEF', 'task': 'Monitor DeFi opportunities.'}\n",
      "Agent registered in DynamoDB with name 'Assistant for DeFi monitoring'.\n",
      "Create Agent Response:\n",
      "{\n",
      "    \"agent\": {\n",
      "        \"name\": \"DeFi Sentinel\",\n",
      "        \"role\": \"Monitoring Assistant\",\n",
      "        \"specialty\": \"Decentralized Finance (DeFi) Analytics\",\n",
      "        \"style\": \"Concise and informative\",\n",
      "        \"features\": [\n",
      "            \"Real-time monitoring of DeFi protocols\",\n",
      "            \"Alerts for price fluctuations\",\n",
      "            \"Analysis of liquidity pools\",\n",
      "            \"Transaction tracking\",\n",
      "            \"Portfolio performance reporting\",\n",
      "            \"Historical data analysis\"\n",
      "        ],\n",
      "        \"personality\": \"Calm and analytical, always providing data-driven insights while maintaining a friendly and approachable demeanor. The agent encourages user engagement by asking clarifying questions and offering tailored recommendations based on the user's interests.\",\n",
      "        \"avatar\": null,\n",
      "        \"wallet_address\": \"0x123456789ABCDEF\",\n",
      "        \"agent_id\": \"e0274ffd-1371-472b-9e84-a8b9c7e1329c\",\n",
      "        \"system_prompt\": \"You are DeFi Sentinel, an AI agent dedicated to assisting users in monitoring their DeFi activities. Provide real-time insights, alerts, and analytics on decentralized finance protocols. Communicate in a concise and informative manner, fostering engagement through questions and personalized recommendations based on user preferences.\",\n",
      "        \"task\": null,\n",
      "        \"knowledge_base\": null,\n",
      "        \"token_data\": null,\n",
      "        \"twitter_handle\": null,\n",
      "        \"browser_provider\": null,\n",
      "        \"fireclawer_provider\": null,\n",
      "        \"email_provider\": null,\n",
      "        \"telegram_provider\": null,\n",
      "        \"twitter_id\": null,\n",
      "        \"bearer_token\": null,\n",
      "        \"api_key\": null,\n",
      "        \"api_secret\": null,\n",
      "        \"access_token\": null,\n",
      "        \"access_secret\": null\n",
      "    },\n",
      "    \"message\": \"Ambient agent created successfully\"\n",
      "}\n"
     ]
    }
   ],
   "source": [
    "\n",
    "from ambientagi.services.agent_service import AmbientAgentService\n",
    "import json\n",
    "\n",
    "# Initialize the service\n",
    "service = AmbientAgentService(api_key=\"\")\n",
    "\n",
    "# Create an agent\n",
    "response = service.create_agent(\n",
    "    agent_name=\"Assistant for DeFi monitoring\",\n",
    "    description=\"An agent that monitors DeFi opportunities.\",\n",
    "    wallet_address=\"0x123456789ABCDEF\",\n",
    ")\n",
    "print(\"Create Agent Response:\")\n",
    "print(json.dumps(response, indent=4))"
   ]
  },
  {
   "cell_type": "code",
   "execution_count": null,
   "metadata": {},
   "outputs": [],
   "source": [
    "!pip install ambientagi"
   ]
  },
  {
   "cell_type": "code",
   "execution_count": 5,
   "metadata": {},
   "outputs": [
    {
     "name": "stdout",
     "output_type": "stream",
     "text": [
      "Update Agent Response: {'agent': {'name': 'DeFi Sentinel', 'role': 'Monitoring Assistant', 'specialty': 'Updated DeFi monitoring', 'style': 'dInformative and active', 'features': ['Real-time monitoring of DeFi protocols', 'Alerts for price fluctuations', 'Analysis of liquidity pools', 'Transaction tracking', 'Portfolio performance reporting', 'Historical data analysis'], 'personality': \"Calm and analytical, always providing data-driven insights while maintaining a friendly and approachable demeanor. The agent encourages user engagement by asking clarifying questions and offering tailored recommendations based on the user's interests.\", 'avatar': None, 'wallet_address': '0x123456789ABCDEF', 'agent_id': 'e0274ffd-1371-472b-9e84-a8b9c7e1329c', 'system_prompt': 'You are DeFi Sentinel, an AI agent dedicated to assisting users in monitoring their DeFi activities. Provide real-time insights, alerts, and analytics on decentralized finance protocols. Communicate in a concise and informative manner, fostering engagement through questions and personalized recommendations based on user preferences.', 'task': None, 'knowledge_base': None, 'token_data': None, 'twitter_handle': None, 'browser_provider': None, 'fireclawer_provider': None, 'email_provider': None, 'telegram_provider': None, 'twitter_id': None, 'bearer_token': None, 'api_key': None, 'api_secret': None, 'access_token': None, 'access_secret': None}, 'message': 'Agent attributes updated successfully'}\n"
     ]
    }
   ],
   "source": [
    "\n",
    "# Update the agent\n",
    "agent_id = response['agent']['agent_id']\n",
    "update_response = service.update_agent(\n",
    "    agent_id=agent_id,\n",
    "    specialty=\"Updated DeFi monitoring\",\n",
    "    style=\"dInformative and active\"\n",
    ")\n",
    "print(\"Update Agent Response:\", update_response)\n"
   ]
  },
  {
   "cell_type": "code",
   "execution_count": 3,
   "metadata": {},
   "outputs": [
    {
     "name": "stdout",
     "output_type": "stream",
     "text": [
      "Chat Response: {'agent_id': 'f01418d9-8e3e-4394-9ade-31f238c3afeb', 'response': \"Hello! I'm here to assist you with all things related to decentralized finance (DeFi). I can provide you with real-time updates on your investments, monitor market trends, alert you to significant changes or risks, and offer insights to help you make informed decisions. Whether you need information on specific tokens, protocols, or strategies, I've got you covered. How can I assist you today?\", 'agent_name': 'DeFi Guardian', 'agent_specialty': 'Updated DeFi monitoring'}\n"
     ]
    }
   ],
   "source": [
    "\n",
    "# Chat with the agent\n",
    "chat_response = service.chat_with_agent(\n",
    "    agent_id=agent_id,\n",
    "    message=\"Hello, what can you do?\",\n",
    "    wallet_address=\"0x123456789ABCDEF\"\n",
    ")\n",
    "print(\"Chat Response:\", chat_response)\n"
   ]
  },
  {
   "cell_type": "code",
   "execution_count": 6,
   "metadata": {},
   "outputs": [
    {
     "name": "stdout",
     "output_type": "stream",
     "text": [
      "Unexpected exception formatting exception. Falling back to standard exception\n"
     ]
    },
    {
     "name": "stderr",
     "output_type": "stream",
     "text": [
      "Traceback (most recent call last):\n",
      "  File \"/Users/iamreechi/Code/ambientagi_sdk/ambientagi/.venv/lib/python3.11/site-packages/IPython/core/interactiveshell.py\", line 3577, in run_code\n",
      "  File \"/var/folders/_4/jqqj__7101d9bv3qlry5jbxm0000gn/T/ipykernel_98535/310956538.py\", line 4, in <module>\n",
      "    attach_token = service.create_eth_token(agent_id)\n",
      "                   ^^^^^^^^^^^^^^^^^^^^^^^^\n",
      "AttributeError: 'AmbientAgentService' object has no attribute 'create_eth_token'\n",
      "\n",
      "During handling of the above exception, another exception occurred:\n",
      "\n",
      "Traceback (most recent call last):\n",
      "  File \"/Users/iamreechi/Code/ambientagi_sdk/ambientagi/.venv/lib/python3.11/site-packages/pygments/styles/__init__.py\", line 45, in get_style_by_name\n",
      "ModuleNotFoundError: No module named 'pygments.styles.default'\n",
      "\n",
      "During handling of the above exception, another exception occurred:\n",
      "\n",
      "Traceback (most recent call last):\n",
      "  File \"/Users/iamreechi/Code/ambientagi_sdk/ambientagi/.venv/lib/python3.11/site-packages/IPython/core/interactiveshell.py\", line 2168, in showtraceback\n",
      "  File \"/Users/iamreechi/Code/ambientagi_sdk/ambientagi/.venv/lib/python3.11/site-packages/IPython/core/ultratb.py\", line 1457, in structured_traceback\n",
      "  File \"/Users/iamreechi/Code/ambientagi_sdk/ambientagi/.venv/lib/python3.11/site-packages/IPython/core/ultratb.py\", line 1348, in structured_traceback\n",
      "  File \"/Users/iamreechi/Code/ambientagi_sdk/ambientagi/.venv/lib/python3.11/site-packages/IPython/core/ultratb.py\", line 1195, in structured_traceback\n",
      "  File \"/Users/iamreechi/Code/ambientagi_sdk/ambientagi/.venv/lib/python3.11/site-packages/IPython/core/ultratb.py\", line 1085, in format_exception_as_a_whole\n",
      "  File \"/Users/iamreechi/Code/ambientagi_sdk/ambientagi/.venv/lib/python3.11/site-packages/IPython/core/ultratb.py\", line 1136, in get_records\n",
      "  File \"/Users/iamreechi/Code/ambientagi_sdk/ambientagi/.venv/lib/python3.11/site-packages/pygments/styles/__init__.py\", line 47, in get_style_by_name\n",
      "pygments.util.ClassNotFound: Could not find style module 'pygments.styles.default', though it should be builtin.\n"
     ]
    }
   ],
   "source": [
    "# Attach token to agent \n",
    "import os \n",
    "agent_id = response['agent']['agent_id']\n",
    "attach_token = service.create_eth_token(agent_id)\n",
    "creds_resp = attach_token.create_eth_token(\n",
    "        privateKey=os.getenv(\"MY-PRIVATE-KEY\"),\n",
    "        token_name=\"aa45\",\n",
    "        symbol=\"a4\",\n",
    "        buy_value_eth=0.001,\n",
    "        image_path=\"mytoken.webp\"\n",
    ")\n"
   ]
  },
  {
   "cell_type": "code",
   "execution_count": null,
   "metadata": {},
   "outputs": [],
   "source": [
    "# Attach token to agent \n",
    "import os \n",
    "agent_id = response['agent']['agent_id']\n",
    "attach_token = service.add_blockchain(agent_id)\n",
    "\n",
    "creds_resp = attach_token.create_solana_token(\n",
    "        funder_private_key=os.getenv(\"SOLANA_API_KEY\"),\n",
    "        amount_sol=0.001,  # Required only if using a new wallet\n",
    "        token_name=\"aa49\",\n",
    "        token_symbol=\"APP\",  # 🔥 Use 'token_symbol' instead of 'symbol'\n",
    "        token_description=\"This is a test token\",\n",
    "        twitter=\"https://twitter.com/myproject\",\n",
    "        telegram=\"https://t.me/myproject\",\n",
    "        website=\"https://myproject.com\",\n",
    "        image_path=\"mytoken.png\",\n",
    "        dev_buy=0.001,  # Amount of SOL for dev buy\n",
    "        use_new_wallet=False\n",
    ")"
   ]
  }
 ],
 "metadata": {
  "kernelspec": {
   "display_name": ".venv",
   "language": "python",
   "name": "python3"
  },
  "language_info": {
   "codemirror_mode": {
    "name": "ipython",
    "version": 3
   },
   "file_extension": ".py",
   "mimetype": "text/x-python",
   "name": "python",
   "nbconvert_exporter": "python",
   "pygments_lexer": "ipython3",
   "version": "3.11.9"
  }
 },
 "nbformat": 4,
 "nbformat_minor": 2
}
