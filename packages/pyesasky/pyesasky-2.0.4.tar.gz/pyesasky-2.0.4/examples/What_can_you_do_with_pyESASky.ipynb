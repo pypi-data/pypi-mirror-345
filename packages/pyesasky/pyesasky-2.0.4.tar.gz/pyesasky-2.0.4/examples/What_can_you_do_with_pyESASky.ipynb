{
 "cells": [
  {
   "cell_type": "markdown",
   "metadata": {},
   "source": [
    "<p style=\"font-weight: bold;text-align: center;font-size: 3em;color: #00338D\">What can you do with pyESASky?</p>"
   ]
  },
  {
   "cell_type": "markdown",
   "metadata": {},
   "source": [
    "This notebook shows examples of what a scientist may typically want to do within a Jupyter notebook using pyESASky, e.g:\n",
    "* Download and inspect data from ESASky (images, spectra, catalogues, ...)\n",
    "* Cross-match catalogues available through ESASky\n",
    "* Upload your own data to ESASky, e.g.: \n",
    "  * Cross-matched tables\n",
    "  * Vizier catalogues (astropy tables) \n",
    "  * User provided tables\n",
    "  * Footprints\n",
    "  * HiPS\n",
    "* Interact with ESASky Functionalities:\n",
    "  * Set the: FoV, HiPS\n",
    "  * Go to a target or coordinates\n",
    "  * Slide through a selection of HiPS\n",
    "  * See the observations, catalogues and publications count in the current FoV\n",
    "  * Load the data panel for observations, spectra and catalogues accessible in ESASky\n",
    "  * JWST planning tool\n",
    "  * Set the coordinates grid on and off"
   ]
  },
  {
   "cell_type": "code",
   "execution_count": 1,
   "metadata": {},
   "outputs": [],
   "source": [
    "# Import the required python modules:\n",
    "from pyesasky import ESASkyWidget\n",
    "from pyesasky.models import Catalogue, CooFrame, ImgFormat, FootprintSet, MetadataType\n",
    "from pyesasky.descriptors import CatalogueDescriptor, FootprintSetDescriptor, MetadataDescriptor\n",
    "\n",
    "import pandas as pd"
   ]
  },
  {
   "cell_type": "code",
   "execution_count": null,
   "metadata": {},
   "outputs": [],
   "source": [
    "# Instantiate the pyESASky instance\n",
    "esasky = ESASkyWidget()"
   ]
  },
  {
   "cell_type": "markdown",
   "metadata": {},
   "source": [
    "All of the functions are now documented. Use the IPython ? magic to read about the function. Use tab to complete function names etc:"
   ]
  },
  {
   "cell_type": "code",
   "execution_count": 4,
   "metadata": {},
   "outputs": [
    {
     "data": {
      "text/plain": [
       "\u001b[0;31mSignature:\u001b[0m \u001b[0mESASkyWidget\u001b[0m\u001b[0;34m.\u001b[0m\u001b[0mgo_to\u001b[0m\u001b[0;34m(\u001b[0m\u001b[0mself\u001b[0m\u001b[0;34m,\u001b[0m \u001b[0mra\u001b[0m\u001b[0;34m,\u001b[0m \u001b[0mdec\u001b[0m\u001b[0;34m)\u001b[0m\u001b[0;34m\u001b[0m\u001b[0;34m\u001b[0m\u001b[0m\n",
       "\u001b[0;31mDocstring:\u001b[0m\n",
       "Moves the center of the view to the specified coordinate\n",
       "in current coordinate system\n",
       "\n",
       "Arguments:\n",
       "ra -- float or string in sexagesimal or decimal format\n",
       "dec -- float or string in sexagesimal or decimal format\n",
       "\u001b[0;31mFile:\u001b[0m      /src/git/pyesasky2/pyesasky/api_interactions.py\n",
       "\u001b[0;31mType:\u001b[0m      function\n"
      ]
     },
     "metadata": {},
     "output_type": "display_data"
    }
   ],
   "source": [
    "?ESASkyWidget.go_to"
   ]
  },
  {
   "cell_type": "code",
   "execution_count": null,
   "metadata": {
    "tags": []
   },
   "outputs": [],
   "source": [
    "# Load the pyESASky instance\n",
    "esasky"
   ]
  },
  {
   "cell_type": "markdown",
   "metadata": {},
   "source": [
    "### Set custom height of the view"
   ]
  },
  {
   "cell_type": "code",
   "execution_count": 6,
   "metadata": {},
   "outputs": [],
   "source": [
    "esasky.set_view_height('850px')"
   ]
  },
  {
   "cell_type": "markdown",
   "metadata": {},
   "source": [
    "### Go to a target name resolved against SIMBAD"
   ]
  },
  {
   "cell_type": "code",
   "execution_count": 7,
   "metadata": {},
   "outputs": [],
   "source": [
    "esasky.go_to_target('COSMOS Field')"
   ]
  },
  {
   "cell_type": "markdown",
   "metadata": {},
   "source": [
    "### Go to RA and Dec (decimal degrees or sexagesimal format)"
   ]
  },
  {
   "cell_type": "code",
   "execution_count": 8,
   "metadata": {},
   "outputs": [],
   "source": [
    "esasky.go_to('150.11917', '+02.20583') #COSMOS Field"
   ]
  },
  {
   "cell_type": "markdown",
   "metadata": {},
   "source": [
    "### Set the Field of View in degrees"
   ]
  },
  {
   "cell_type": "code",
   "execution_count": 9,
   "metadata": {},
   "outputs": [],
   "source": [
    "esasky.set_fov(0.5)"
   ]
  },
  {
   "cell_type": "markdown",
   "metadata": {},
   "source": [
    "### Change the background HiPS to Herschel PACS colour"
   ]
  },
  {
   "cell_type": "code",
   "execution_count": 10,
   "metadata": {},
   "outputs": [],
   "source": [
    "esasky.select_hips('Herschel PACS RGB 70, 160 micron')\n",
    "# type the following to see the available HiPS from ESASky:\n",
    "# esasky.getAvailableHiPS()"
   ]
  },
  {
   "cell_type": "markdown",
   "metadata": {},
   "source": [
    "<br />\n",
    "<p style=\"font-weight: bold;text-align: center;font-size: 2.5em;color: #00338D\">Download and inspect data from ESASky</p>"
   ]
  },
  {
   "cell_type": "markdown",
   "metadata": {},
   "source": [
    "### Information about the available data in the current field of view can be retrieved. For example the number of sources per catalogue:"
   ]
  },
  {
   "cell_type": "code",
   "execution_count": null,
   "metadata": {},
   "outputs": [],
   "source": [
    "catCount = esasky.get_cat_count()\n",
    "catCount = pd.DataFrame.from_dict([catCount]).transpose()\n",
    "catCount.columns = ['Count']\n",
    "catCount"
   ]
  },
  {
   "cell_type": "markdown",
   "metadata": {},
   "source": [
    "### Download sources from the XMM EPIC (3XMM-DR8) catalogue and Herschel PACS 100 micron Point Source Catalogue in the current field of view:"
   ]
  },
  {
   "cell_type": "code",
   "execution_count": 11,
   "metadata": {},
   "outputs": [
    {
     "name": "stdout",
     "output_type": "stream",
     "text": [
      "Catalogs from missionId: XMM-EPIC displayed in the ESASky\n"
     ]
    }
   ],
   "source": [
    "# Firstly, plot the XMM-Newton Serendipitous Source catalogue in ESASky:\n",
    "esasky.plot_cat('XMM-EPIC')"
   ]
  },
  {
   "cell_type": "code",
   "execution_count": 12,
   "metadata": {},
   "outputs": [
    {
     "data": {
      "text/html": [
       "<div>\n",
       "<style scoped>\n",
       "    .dataframe tbody tr th:only-of-type {\n",
       "        vertical-align: middle;\n",
       "    }\n",
       "\n",
       "    .dataframe tbody tr th {\n",
       "        vertical-align: top;\n",
       "    }\n",
       "\n",
       "    .dataframe thead th {\n",
       "        text-align: right;\n",
       "    }\n",
       "</style>\n",
       "<table border=\"1\" class=\"dataframe\">\n",
       "  <thead>\n",
       "    <tr style=\"text-align: right;\">\n",
       "      <th></th>\n",
       "      <th>bii</th>\n",
       "      <th>ccdm1</th>\n",
       "      <th>ccdm2</th>\n",
       "      <th>ccdpn</th>\n",
       "      <th>confused</th>\n",
       "      <th>date_end</th>\n",
       "      <th>date_obs</th>\n",
       "      <th>dist_nn</th>\n",
       "      <th>duration</th>\n",
       "      <th>ep_1_flux</th>\n",
       "      <th>...</th>\n",
       "      <th>ep_3_flux_err</th>\n",
       "      <th>ep_4_flux</th>\n",
       "      <th>ep_4_flux_err</th>\n",
       "      <th>ep_5_flux</th>\n",
       "      <th>ep_5_flux_err</th>\n",
       "      <th>mjd_start</th>\n",
       "      <th>m1_filter</th>\n",
       "      <th>m2_filter</th>\n",
       "      <th>pn_filter</th>\n",
       "      <th>tseries</th>\n",
       "    </tr>\n",
       "  </thead>\n",
       "  <tbody>\n",
       "    <tr>\n",
       "      <th>0</th>\n",
       "      <td>41.871898</td>\n",
       "      <td>1.0</td>\n",
       "      <td>1.0</td>\n",
       "      <td>1.0</td>\n",
       "      <td>False</td>\n",
       "      <td>2006-05-17T23:18:46.0</td>\n",
       "      <td>2006-05-17T17:46:47.0</td>\n",
       "      <td>38.559769</td>\n",
       "      <td>18038</td>\n",
       "      <td>2.495789e-16</td>\n",
       "      <td>...</td>\n",
       "      <td>5.351077e-16</td>\n",
       "      <td>4.068506e-15</td>\n",
       "      <td>1.335329e-15</td>\n",
       "      <td>1.986302e-15</td>\n",
       "      <td>4.816564e-15</td>\n",
       "      <td>53872.756829</td>\n",
       "      <td>Thin1</td>\n",
       "      <td>Thin1</td>\n",
       "      <td>Thin1</td>\n",
       "      <td>False</td>\n",
       "    </tr>\n",
       "    <tr>\n",
       "      <th>1</th>\n",
       "      <td>41.872270</td>\n",
       "      <td>6.0</td>\n",
       "      <td>2.0</td>\n",
       "      <td>1.0</td>\n",
       "      <td>False</td>\n",
       "      <td>2004-12-13T06:11:29.0</td>\n",
       "      <td>2004-12-12T21:36:12.0</td>\n",
       "      <td>36.265968</td>\n",
       "      <td>29035</td>\n",
       "      <td>2.267694e-16</td>\n",
       "      <td>...</td>\n",
       "      <td>6.389533e-16</td>\n",
       "      <td>3.323130e-15</td>\n",
       "      <td>1.260350e-15</td>\n",
       "      <td>9.980941e-15</td>\n",
       "      <td>7.301651e-15</td>\n",
       "      <td>53351.916192</td>\n",
       "      <td>Medium</td>\n",
       "      <td>Medium</td>\n",
       "      <td>Thin1</td>\n",
       "      <td>False</td>\n",
       "    </tr>\n",
       "    <tr>\n",
       "      <th>2</th>\n",
       "      <td>41.873052</td>\n",
       "      <td>1.0</td>\n",
       "      <td>1.0</td>\n",
       "      <td>8.0</td>\n",
       "      <td>False</td>\n",
       "      <td>2003-12-12T06:34:13.0</td>\n",
       "      <td>2003-12-11T22:32:19.0</td>\n",
       "      <td>33.497398</td>\n",
       "      <td>27037</td>\n",
       "      <td>3.677243e-16</td>\n",
       "      <td>...</td>\n",
       "      <td>4.208806e-16</td>\n",
       "      <td>1.926229e-15</td>\n",
       "      <td>8.514358e-16</td>\n",
       "      <td>5.367284e-17</td>\n",
       "      <td>2.905381e-15</td>\n",
       "      <td>52984.955139</td>\n",
       "      <td>Medium</td>\n",
       "      <td>Medium</td>\n",
       "      <td>Thin1</td>\n",
       "      <td>False</td>\n",
       "    </tr>\n",
       "    <tr>\n",
       "      <th>3</th>\n",
       "      <td>41.880882</td>\n",
       "      <td>2.0</td>\n",
       "      <td>4.0</td>\n",
       "      <td>11.0</td>\n",
       "      <td>False</td>\n",
       "      <td>2003-12-10T20:13:32.0</td>\n",
       "      <td>2003-12-10T11:23:18.0</td>\n",
       "      <td>38.327728</td>\n",
       "      <td>29936</td>\n",
       "      <td>1.269001e-15</td>\n",
       "      <td>...</td>\n",
       "      <td>1.287707e-15</td>\n",
       "      <td>5.872713e-15</td>\n",
       "      <td>3.515281e-15</td>\n",
       "      <td>2.725442e-14</td>\n",
       "      <td>2.994021e-14</td>\n",
       "      <td>52983.490486</td>\n",
       "      <td>Medium</td>\n",
       "      <td>Medium</td>\n",
       "      <td>Thin1</td>\n",
       "      <td>False</td>\n",
       "    </tr>\n",
       "    <tr>\n",
       "      <th>4</th>\n",
       "      <td>41.880989</td>\n",
       "      <td>1.0</td>\n",
       "      <td>1.0</td>\n",
       "      <td>1.0</td>\n",
       "      <td>False</td>\n",
       "      <td>2006-05-17T23:18:46.0</td>\n",
       "      <td>2006-05-17T17:46:47.0</td>\n",
       "      <td>42.199280</td>\n",
       "      <td>18038</td>\n",
       "      <td>7.511594e-16</td>\n",
       "      <td>...</td>\n",
       "      <td>6.976778e-16</td>\n",
       "      <td>7.799903e-15</td>\n",
       "      <td>1.780802e-15</td>\n",
       "      <td>1.450917e-14</td>\n",
       "      <td>8.522536e-15</td>\n",
       "      <td>53872.756829</td>\n",
       "      <td>Thin1</td>\n",
       "      <td>Thin1</td>\n",
       "      <td>Thin1</td>\n",
       "      <td>False</td>\n",
       "    </tr>\n",
       "    <tr>\n",
       "      <th>...</th>\n",
       "      <td>...</td>\n",
       "      <td>...</td>\n",
       "      <td>...</td>\n",
       "      <td>...</td>\n",
       "      <td>...</td>\n",
       "      <td>...</td>\n",
       "      <td>...</td>\n",
       "      <td>...</td>\n",
       "      <td>...</td>\n",
       "      <td>...</td>\n",
       "      <td>...</td>\n",
       "      <td>...</td>\n",
       "      <td>...</td>\n",
       "      <td>...</td>\n",
       "      <td>...</td>\n",
       "      <td>...</td>\n",
       "      <td>...</td>\n",
       "      <td>...</td>\n",
       "      <td>...</td>\n",
       "      <td>...</td>\n",
       "      <td>...</td>\n",
       "    </tr>\n",
       "    <tr>\n",
       "      <th>472</th>\n",
       "      <td>42.355234</td>\n",
       "      <td>1.0</td>\n",
       "      <td>1.0</td>\n",
       "      <td>1.0</td>\n",
       "      <td>False</td>\n",
       "      <td>2004-11-18T12:32:48.0</td>\n",
       "      <td>2004-11-17T21:48:58.0</td>\n",
       "      <td>86.703537</td>\n",
       "      <td>34793</td>\n",
       "      <td>5.602648e-16</td>\n",
       "      <td>...</td>\n",
       "      <td>2.837556e-16</td>\n",
       "      <td>2.018625e-15</td>\n",
       "      <td>1.023818e-15</td>\n",
       "      <td>1.496679e-15</td>\n",
       "      <td>3.038928e-15</td>\n",
       "      <td>53326.924965</td>\n",
       "      <td>Medium</td>\n",
       "      <td>Medium</td>\n",
       "      <td>Thin1</td>\n",
       "      <td>False</td>\n",
       "    </tr>\n",
       "    <tr>\n",
       "      <th>473</th>\n",
       "      <td>42.355442</td>\n",
       "      <td>1.0</td>\n",
       "      <td>1.0</td>\n",
       "      <td>1.0</td>\n",
       "      <td>False</td>\n",
       "      <td>2005-11-26T01:15:47.0</td>\n",
       "      <td>2005-11-25T19:43:56.0</td>\n",
       "      <td>79.801407</td>\n",
       "      <td>18037</td>\n",
       "      <td>1.345451e-15</td>\n",
       "      <td>...</td>\n",
       "      <td>4.468654e-16</td>\n",
       "      <td>1.130929e-15</td>\n",
       "      <td>7.385076e-16</td>\n",
       "      <td>3.970165e-15</td>\n",
       "      <td>4.550404e-15</td>\n",
       "      <td>53699.838113</td>\n",
       "      <td>Thin1</td>\n",
       "      <td>Thin1</td>\n",
       "      <td>Thin1</td>\n",
       "      <td>False</td>\n",
       "    </tr>\n",
       "    <tr>\n",
       "      <th>474</th>\n",
       "      <td>42.355441</td>\n",
       "      <td>3.0</td>\n",
       "      <td>5.0</td>\n",
       "      <td>7.0</td>\n",
       "      <td>False</td>\n",
       "      <td>2003-12-06T11:10:14.0</td>\n",
       "      <td>2003-12-06T01:35:03.0</td>\n",
       "      <td>111.027901</td>\n",
       "      <td>32637</td>\n",
       "      <td>4.357341e-16</td>\n",
       "      <td>...</td>\n",
       "      <td>3.185600e-16</td>\n",
       "      <td>1.088555e-15</td>\n",
       "      <td>7.350733e-16</td>\n",
       "      <td>3.841191e-15</td>\n",
       "      <td>4.553054e-15</td>\n",
       "      <td>52979.081968</td>\n",
       "      <td>Medium</td>\n",
       "      <td>Medium</td>\n",
       "      <td>Thin1</td>\n",
       "      <td>False</td>\n",
       "    </tr>\n",
       "    <tr>\n",
       "      <th>475</th>\n",
       "      <td>42.380717</td>\n",
       "      <td>3.0</td>\n",
       "      <td>5.0</td>\n",
       "      <td>8.0</td>\n",
       "      <td>False</td>\n",
       "      <td>2005-11-23T10:37:52.0</td>\n",
       "      <td>2005-11-23T05:05:30.0</td>\n",
       "      <td>111.249397</td>\n",
       "      <td>18037</td>\n",
       "      <td>1.157979e-15</td>\n",
       "      <td>...</td>\n",
       "      <td>6.964032e-16</td>\n",
       "      <td>2.042856e-15</td>\n",
       "      <td>1.602480e-15</td>\n",
       "      <td>3.360616e-16</td>\n",
       "      <td>6.094458e-15</td>\n",
       "      <td>53697.228079</td>\n",
       "      <td>Thin1</td>\n",
       "      <td>Thin1</td>\n",
       "      <td>Thin1</td>\n",
       "      <td>False</td>\n",
       "    </tr>\n",
       "    <tr>\n",
       "      <th>476</th>\n",
       "      <td>42.381281</td>\n",
       "      <td>3.0</td>\n",
       "      <td>5.0</td>\n",
       "      <td>8.0</td>\n",
       "      <td>False</td>\n",
       "      <td>2003-12-06T11:10:14.0</td>\n",
       "      <td>2003-12-06T01:35:03.0</td>\n",
       "      <td>34.543209</td>\n",
       "      <td>32637</td>\n",
       "      <td>1.649725e-15</td>\n",
       "      <td>...</td>\n",
       "      <td>5.463850e-16</td>\n",
       "      <td>7.077338e-15</td>\n",
       "      <td>1.494148e-15</td>\n",
       "      <td>5.463270e-15</td>\n",
       "      <td>4.967422e-15</td>\n",
       "      <td>52979.081968</td>\n",
       "      <td>Medium</td>\n",
       "      <td>Medium</td>\n",
       "      <td>Thin1</td>\n",
       "      <td>False</td>\n",
       "    </tr>\n",
       "  </tbody>\n",
       "</table>\n",
       "<p>477 rows × 222 columns</p>\n",
       "</div>"
      ],
      "text/plain": [
       "           bii  ccdm1  ccdm2  ccdpn  confused               date_end  \\\n",
       "0    41.871898    1.0    1.0    1.0     False  2006-05-17T23:18:46.0   \n",
       "1    41.872270    6.0    2.0    1.0     False  2004-12-13T06:11:29.0   \n",
       "2    41.873052    1.0    1.0    8.0     False  2003-12-12T06:34:13.0   \n",
       "3    41.880882    2.0    4.0   11.0     False  2003-12-10T20:13:32.0   \n",
       "4    41.880989    1.0    1.0    1.0     False  2006-05-17T23:18:46.0   \n",
       "..         ...    ...    ...    ...       ...                    ...   \n",
       "472  42.355234    1.0    1.0    1.0     False  2004-11-18T12:32:48.0   \n",
       "473  42.355442    1.0    1.0    1.0     False  2005-11-26T01:15:47.0   \n",
       "474  42.355441    3.0    5.0    7.0     False  2003-12-06T11:10:14.0   \n",
       "475  42.380717    3.0    5.0    8.0     False  2005-11-23T10:37:52.0   \n",
       "476  42.381281    3.0    5.0    8.0     False  2003-12-06T11:10:14.0   \n",
       "\n",
       "                  date_obs     dist_nn  duration     ep_1_flux  ...  \\\n",
       "0    2006-05-17T17:46:47.0   38.559769     18038  2.495789e-16  ...   \n",
       "1    2004-12-12T21:36:12.0   36.265968     29035  2.267694e-16  ...   \n",
       "2    2003-12-11T22:32:19.0   33.497398     27037  3.677243e-16  ...   \n",
       "3    2003-12-10T11:23:18.0   38.327728     29936  1.269001e-15  ...   \n",
       "4    2006-05-17T17:46:47.0   42.199280     18038  7.511594e-16  ...   \n",
       "..                     ...         ...       ...           ...  ...   \n",
       "472  2004-11-17T21:48:58.0   86.703537     34793  5.602648e-16  ...   \n",
       "473  2005-11-25T19:43:56.0   79.801407     18037  1.345451e-15  ...   \n",
       "474  2003-12-06T01:35:03.0  111.027901     32637  4.357341e-16  ...   \n",
       "475  2005-11-23T05:05:30.0  111.249397     18037  1.157979e-15  ...   \n",
       "476  2003-12-06T01:35:03.0   34.543209     32637  1.649725e-15  ...   \n",
       "\n",
       "     ep_3_flux_err     ep_4_flux  ep_4_flux_err     ep_5_flux  ep_5_flux_err  \\\n",
       "0     5.351077e-16  4.068506e-15   1.335329e-15  1.986302e-15   4.816564e-15   \n",
       "1     6.389533e-16  3.323130e-15   1.260350e-15  9.980941e-15   7.301651e-15   \n",
       "2     4.208806e-16  1.926229e-15   8.514358e-16  5.367284e-17   2.905381e-15   \n",
       "3     1.287707e-15  5.872713e-15   3.515281e-15  2.725442e-14   2.994021e-14   \n",
       "4     6.976778e-16  7.799903e-15   1.780802e-15  1.450917e-14   8.522536e-15   \n",
       "..             ...           ...            ...           ...            ...   \n",
       "472   2.837556e-16  2.018625e-15   1.023818e-15  1.496679e-15   3.038928e-15   \n",
       "473   4.468654e-16  1.130929e-15   7.385076e-16  3.970165e-15   4.550404e-15   \n",
       "474   3.185600e-16  1.088555e-15   7.350733e-16  3.841191e-15   4.553054e-15   \n",
       "475   6.964032e-16  2.042856e-15   1.602480e-15  3.360616e-16   6.094458e-15   \n",
       "476   5.463850e-16  7.077338e-15   1.494148e-15  5.463270e-15   4.967422e-15   \n",
       "\n",
       "        mjd_start  m1_filter  m2_filter  pn_filter  tseries  \n",
       "0    53872.756829      Thin1      Thin1      Thin1    False  \n",
       "1    53351.916192     Medium     Medium      Thin1    False  \n",
       "2    52984.955139     Medium     Medium      Thin1    False  \n",
       "3    52983.490486     Medium     Medium      Thin1    False  \n",
       "4    53872.756829      Thin1      Thin1      Thin1    False  \n",
       "..            ...        ...        ...        ...      ...  \n",
       "472  53326.924965     Medium     Medium      Thin1    False  \n",
       "473  53699.838113      Thin1      Thin1      Thin1    False  \n",
       "474  52979.081968     Medium     Medium      Thin1    False  \n",
       "475  53697.228079      Thin1      Thin1      Thin1    False  \n",
       "476  52979.081968     Medium     Medium      Thin1    False  \n",
       "\n",
       "[477 rows x 222 columns]"
      ]
     },
     "execution_count": 12,
     "metadata": {},
     "output_type": "execute_result"
    }
   ],
   "source": [
    "# then parse the data with pandas\n",
    "data=esasky.get_result_data()\n",
    "xmmepic = pd.DataFrame.from_dict(data)\n",
    "xmmepic"
   ]
  },
  {
   "cell_type": "code",
   "execution_count": null,
   "metadata": {},
   "outputs": [],
   "source": [
    "# Plot the Herschel-HPPSC-100 catalogue in ESASky:\n",
    "esasky.plot_cat('Herschel-HPPSC-100')"
   ]
  },
  {
   "cell_type": "code",
   "execution_count": null,
   "metadata": {},
   "outputs": [],
   "source": [
    "# then parse the data with pandas\n",
    "data=esasky.get_result_data()\n",
    "HPPSC100 = pd.DataFrame.from_dict(data)\n",
    "HPPSC100"
   ]
  },
  {
   "cell_type": "markdown",
   "metadata": {},
   "source": [
    "### Download and check the postcard of an observation from Chandra in the current FoV"
   ]
  },
  {
   "cell_type": "code",
   "execution_count": null,
   "metadata": {},
   "outputs": [],
   "source": [
    "# Firstly, plot the Chandra imaging observations in ESASky\n",
    "esasky.plot_obs('Chandra')"
   ]
  },
  {
   "cell_type": "code",
   "execution_count": null,
   "metadata": {
    "scrolled": true
   },
   "outputs": [],
   "source": [
    "data=esasky.get_result_data()\n",
    "chandra = pd.DataFrame.from_dict(data)\n",
    "chandra"
   ]
  },
  {
   "cell_type": "code",
   "execution_count": null,
   "metadata": {},
   "outputs": [],
   "source": [
    "# plot one of the Chandra observation postcards:\n",
    "from IPython.display import Image\n",
    "Image(chandra.iloc[5]['postcard_url'])"
   ]
  },
  {
   "cell_type": "markdown",
   "metadata": {},
   "source": [
    "### Download data from XMM-Newton in the current FoV"
   ]
  },
  {
   "cell_type": "code",
   "execution_count": null,
   "metadata": {},
   "outputs": [],
   "source": [
    "# Plot the XMM-Newton imaging observations in ESASky\n",
    "esasky.plot_obs('XMM')"
   ]
  },
  {
   "cell_type": "code",
   "execution_count": null,
   "metadata": {
    "scrolled": true
   },
   "outputs": [],
   "source": [
    "data=esasky.get_result_data()\n",
    "xmm_newton = pd.DataFrame.from_dict(data)\n",
    "xmm_newton"
   ]
  },
  {
   "cell_type": "markdown",
   "metadata": {},
   "source": [
    "### Display and get data from External Data Centres"
   ]
  },
  {
   "cell_type": "code",
   "execution_count": null,
   "metadata": {},
   "outputs": [],
   "source": [
    "# View the available predefined external TAP services in ESASky,\n",
    "# e.g. European Southern Observatory (ESO), MAST (STScI), Canadian \n",
    "# Astronomical Data Centre (CADC)\n",
    "esasky.get_tap_services()"
   ]
  },
  {
   "cell_type": "code",
   "execution_count": null,
   "metadata": {
    "scrolled": true
   },
   "outputs": [],
   "source": [
    "# View all the available external TAP missions:\n",
    "esasky.get_tap_missions()"
   ]
  },
  {
   "cell_type": "code",
   "execution_count": null,
   "metadata": {},
   "outputs": [],
   "source": [
    "# Return the available data in the current field of from ESO (from the ESO TAP):\n",
    "esasky.get_tap_count('ESO')"
   ]
  },
  {
   "cell_type": "code",
   "execution_count": null,
   "metadata": {},
   "outputs": [],
   "source": [
    "# Plot the footprints and metadata in pyESASky for ESO VLT images in the current FoV \n",
    "esasky.plot_tap('eso-image-eso-vlt-u')"
   ]
  },
  {
   "cell_type": "code",
   "execution_count": null,
   "metadata": {
    "scrolled": true,
    "tags": []
   },
   "outputs": [],
   "source": [
    "data=esasky.get_result_data()\n",
    "vlt = pd.DataFrame.from_dict(data)\n",
    "vlt"
   ]
  },
  {
   "cell_type": "markdown",
   "metadata": {},
   "source": [
    "<br />\n",
    "<p style=\"font-weight: bold;text-align: center;font-size: 2.0em;color: #00338D\">Cross-match catalogues using astropy</p>"
   ]
  },
  {
   "cell_type": "markdown",
   "metadata": {},
   "source": [
    "### Cross-match the two catalogues using astropy.coordinates"
   ]
  },
  {
   "cell_type": "code",
   "execution_count": null,
   "metadata": {},
   "outputs": [],
   "source": [
    "from astropy.coordinates import SkyCoord\n",
    "from astropy.coordinates import ICRS, Galactic, FK4, FK5\n",
    "from astropy import units as u"
   ]
  },
  {
   "cell_type": "code",
   "execution_count": null,
   "metadata": {},
   "outputs": [],
   "source": [
    "ra1 = xmmepic['ra']\n",
    "dec1 = xmmepic['dec']\n",
    "ra2 = HPPSC100['ra']\n",
    "dec2 = HPPSC100['dec']\n",
    "\n",
    "c = SkyCoord(ra1, dec1, frame='icrs', unit='deg')\n",
    "catalog = SkyCoord(ra2, dec2, frame='icrs', unit='deg')\n",
    "idx, d2d, d3d = c.match_to_catalog_sky(catalog)"
   ]
  },
  {
   "cell_type": "code",
   "execution_count": null,
   "metadata": {
    "scrolled": true
   },
   "outputs": [],
   "source": [
    "# Set a maximum separation as 5 arcseconds\n",
    "max_sep = 5.0 * u.arcsec\n",
    "idx, d2d, d3d = c.match_to_catalog_3d(catalog)\n",
    "sep_constraint = d2d < max_sep\n",
    "c_matches = c[sep_constraint]\n",
    "catalog_matches = catalog[idx[sep_constraint]]\n",
    "catalog_matches\n",
    "#catalog_matches"
   ]
  },
  {
   "cell_type": "code",
   "execution_count": null,
   "metadata": {},
   "outputs": [],
   "source": [
    "# Convert the SkyCoord column to an astropy table \n",
    "# and add a Name column (for pyESASky)\n",
    "from astropy.table import Table\n",
    "import numpy as np\n",
    "XMMEPIC_HPPSC100 = Table()\n",
    "XMMEPIC_HPPSC100['ra'] = catalog_matches.ra\n",
    "XMMEPIC_HPPSC100['dec'] = catalog_matches.dec\n",
    "XMMEPIC_HPPSC100['Name'] = np.linspace(1, catalog_matches.size, catalog_matches.size)\n",
    "XMMEPIC_HPPSC100"
   ]
  },
  {
   "cell_type": "markdown",
   "metadata": {},
   "source": [
    "<br />\n",
    "<p style=\"font-weight: bold;text-align: center;font-size: 2.5em;color: #00338D\">Send your data to ESASky</p>"
   ]
  },
  {
   "cell_type": "markdown",
   "metadata": {},
   "source": [
    "## Send the cross-matched table to ESASky"
   ]
  },
  {
   "cell_type": "code",
   "execution_count": null,
   "metadata": {},
   "outputs": [],
   "source": [
    "# overlayCatalogueFromAstropyTable('<catName>', '<cooFrame>', <color>, <lineWidth>, <table>, '<raColname>', '<decColname>', '<mainIDColname>')\n",
    "# where:\n",
    "# - <catName> : name of the catalogue that will be used in pyESASky as label\n",
    "# - <cooFRAME> : coordinate frame\n",
    "# - <color> : HTML color. It could be a \"Color name\", \"Hex color code\" or \"RGB color code\"\n",
    "# - <lineWidth> : width used to draw sources. From 1 to 10\n",
    "# - <table> : name of the column containing a unique identifier for sources if any. None if not applicable\n",
    "# - <raColname> : name of the RA column in degrees\n",
    "# - <decColname> : name of the Dec column in degrees\n",
    "# - <mainIDColname> : name of the column with the name of the source\n",
    "\n",
    "esasky.overlay_cat_astropy('XMMEPIC_HPPSC100', 'J2000', '#ffff00', 10, XMMEPIC_HPPSC100, 'ra','dec','Name')"
   ]
  },
  {
   "cell_type": "markdown",
   "metadata": {},
   "source": [
    "## Send a catalogue in VizieR to ESASky"
   ]
  },
  {
   "cell_type": "code",
   "execution_count": null,
   "metadata": {},
   "outputs": [],
   "source": [
    "# Import the VizieR astroquery module\n",
    "from astroquery.vizier import Vizier"
   ]
  },
  {
   "cell_type": "code",
   "execution_count": null,
   "metadata": {},
   "outputs": [],
   "source": [
    "# Query the Véron-Cetty+ 2010 catalogue, VII/258/vv10, for the \n",
    "# Cosmos field with search radius 0.5 degrees\n",
    "result = Vizier.query_region(\"Cosmos Field\", \n",
    "                             radius=0.5*u.deg, catalog='VII/258/vv10')\n",
    "print(result)"
   ]
  },
  {
   "cell_type": "code",
   "execution_count": null,
   "metadata": {
    "scrolled": true
   },
   "outputs": [],
   "source": [
    "Veron = result['VII/258/vv10']\n",
    "Veron"
   ]
  },
  {
   "cell_type": "code",
   "execution_count": null,
   "metadata": {
    "scrolled": true
   },
   "outputs": [],
   "source": [
    "#transform the RA and Dec to degrees and add two new columns\n",
    "c = SkyCoord(Veron['RAJ2000'], Veron['DEJ2000'], unit=(u.hourangle, u.deg))\n",
    "Veron['RAJ2000'] = c.ra\n",
    "Veron['DEJ2000'] = c.dec\n",
    "Veron"
   ]
  },
  {
   "cell_type": "code",
   "execution_count": null,
   "metadata": {},
   "outputs": [],
   "source": [
    "# Send the catalogue to ESASky\n",
    "esasky.overlay_cat_astropy('Veron', 'J2000', '#33c9cc', 5, Veron, 'RAJ2000', 'DEJ2000','Name')"
   ]
  },
  {
   "cell_type": "markdown",
   "metadata": {},
   "source": [
    "You can also upload your own tables from files or create your own tables and send them to ESASky."
   ]
  },
  {
   "cell_type": "markdown",
   "metadata": {},
   "source": [
    "## Send Footprints to ESASky"
   ]
  },
  {
   "cell_type": "markdown",
   "metadata": {},
   "source": [
    "Go to another region in the sky, set the Fov and change the HiPS to Spitzer"
   ]
  },
  {
   "cell_type": "code",
   "execution_count": null,
   "metadata": {},
   "outputs": [],
   "source": [
    "esasky.close_result()\n",
    "esasky.go_to_target('[SPK2012] MWP1G300134-001035')\n",
    "esasky.set_fov(2.3)\n",
    "esasky.select_hips(\"Spitzer cold SEIP IRAC-1-3-4 RGB bright\")\n",
    "#esasky.select_hips(\"Spitzer\", \"http://cdn.skies.esac.esa.int/Spitzer/IRAC134_RGB_bright/\")"
   ]
  },
  {
   "cell_type": "code",
   "execution_count": null,
   "metadata": {},
   "outputs": [],
   "source": [
    "footprintDesc = FootprintSetDescriptor('test footprints', 'red', 5, 'id', 'id', 'stcs', 'ra', 'dec', [])"
   ]
  },
  {
   "cell_type": "code",
   "execution_count": null,
   "metadata": {},
   "outputs": [],
   "source": [
    "esasky.overlay_footprints_csv('./testfootprint.csv', ',', footprintDesc)"
   ]
  },
  {
   "cell_type": "code",
   "execution_count": null,
   "metadata": {},
   "outputs": [],
   "source": [
    "esasky.close_result_tab()"
   ]
  },
  {
   "cell_type": "markdown",
   "metadata": {},
   "source": [
    "## Send your own HiPS to ESASky"
   ]
  },
  {
   "cell_type": "markdown",
   "metadata": {},
   "source": [
    "This will start a tornado server opening up a port allowing web browser access to this path and all folders/files underneath"
   ]
  },
  {
   "cell_type": "code",
   "execution_count": null,
   "metadata": {},
   "outputs": [],
   "source": [
    "esasky.go_to('266.41683', '-29.00781')\n",
    "esasky.set_fov(90)\n",
    "esasky.remove_hips('User')\n",
    "#Change the below directory to your own HiPS\n",
    "esasky.add_hips_local('/Users/dbaines/Downloads/LFI_SkyMap_030_1024_R3.00_full_HiPS/')\n",
    "esasky.open_sky_panel()"
   ]
  },
  {
   "cell_type": "code",
   "execution_count": null,
   "metadata": {},
   "outputs": [],
   "source": [
    "esasky.set_hips_color('PLANCK')"
   ]
  },
  {
   "cell_type": "code",
   "execution_count": null,
   "metadata": {},
   "outputs": [],
   "source": [
    "#Stop the tornado server:\n",
    "esasky.httpserver.stop()"
   ]
  },
  {
   "cell_type": "markdown",
   "metadata": {},
   "source": [
    "## Send HiPS from any URL to ESASky"
   ]
  },
  {
   "cell_type": "markdown",
   "metadata": {},
   "source": [
    "There are many additional HiPS available from many HiPS nodes, all listed here in the Aladin HiPS list: https://aladin.u-strasbg.fr/hips/list \n",
    "\n",
    "Select which HiPS you'd like to load in the list, copy the HiPS URL from the HiPS ID column in the HiPS sky maps section and paste the URL into the esasky.addHiPS command. Examples:"
   ]
  },
  {
   "cell_type": "code",
   "execution_count": null,
   "metadata": {},
   "outputs": [],
   "source": [
    "esasky.add_hips(\"Skymapper\", \"https://alasky.u-strasbg.fr/Skymapper/skymapper_color/\")\n",
    "esasky.add_hips(\"PanSTARRS DR1 color-i-r-g\", \"https://alasky.u-strasbg.fr/Pan-STARRS/DR1/color-i-r-g/\")\n",
    "esasky.add_hips(\"DECaLS DR5 color\", \"https://alasky.u-strasbg.fr/DECaLS/DR5/color/\")\n",
    "esasky.add_hips(\"ROSAT\", \"https://alasky.u-strasbg.fr/RASS/\")"
   ]
  },
  {
   "cell_type": "markdown",
   "metadata": {},
   "source": [
    "<br />\n",
    "<p style=\"font-weight: bold;text-align: center;font-size: 2.5em;color: #00338D\">Interacting with other ESASky Functionalities</p>"
   ]
  },
  {
   "cell_type": "markdown",
   "metadata": {},
   "source": [
    "## Perform Cone, Box and Polygon Searches"
   ]
  },
  {
   "cell_type": "markdown",
   "metadata": {},
   "source": [
    "There are a couple of ways to perform a cone search with pyESASky. "
   ]
  },
  {
   "cell_type": "markdown",
   "metadata": {},
   "source": [
    "#### Method 1) use the coneSearchCatalogues, Observations or Spectra commands:"
   ]
  },
  {
   "cell_type": "code",
   "execution_count": null,
   "metadata": {},
   "outputs": [],
   "source": [
    "esasky.go_to('15 0 0', '-59')\n",
    "esasky.set_fov(5)"
   ]
  },
  {
   "cell_type": "code",
   "execution_count": null,
   "metadata": {},
   "outputs": [],
   "source": [
    "?esasky.cs_cat"
   ]
  },
  {
   "cell_type": "code",
   "execution_count": null,
   "metadata": {},
   "outputs": [],
   "source": [
    "esasky.cs_cat('Herschel-HPPSC-160', '225.0', '-59', 1 )"
   ]
  },
  {
   "cell_type": "code",
   "execution_count": null,
   "metadata": {},
   "outputs": [],
   "source": [
    "esasky.cs_obs('Chandra', '225.0', '-59', 1 )"
   ]
  },
  {
   "cell_type": "code",
   "execution_count": null,
   "metadata": {},
   "outputs": [],
   "source": [
    "esasky.cs_spec('ISO-IR', '225.0', '-59', 1 )"
   ]
  },
  {
   "cell_type": "code",
   "execution_count": null,
   "metadata": {},
   "outputs": [],
   "source": [
    "esasky.close_result()"
   ]
  },
  {
   "cell_type": "markdown",
   "metadata": {},
   "source": [
    "#### Method 2) use the setConeSearchArea command:"
   ]
  },
  {
   "cell_type": "markdown",
   "metadata": {},
   "source": [
    "Define the Ra, Dec and radius, then data returned will only fall within this region. "
   ]
  },
  {
   "cell_type": "code",
   "execution_count": null,
   "metadata": {},
   "outputs": [],
   "source": [
    "ra = 225.0\n",
    "dec = -59.0\n",
    "radius = 1.0 # in decimal degrees\n",
    "esasky.cone_search(ra, dec, radius)"
   ]
  },
  {
   "cell_type": "code",
   "execution_count": null,
   "metadata": {},
   "outputs": [],
   "source": [
    "esasky.plot_cat('Herschel-HPPSC-160')\n",
    "esasky.plot_obs('Chandra')\n",
    "esasky.plot_spec('ISO-IR')"
   ]
  },
  {
   "cell_type": "markdown",
   "metadata": {},
   "source": [
    "#### To perform a box or polygon search, use the setPolygonSearchArea(STCS) command. "
   ]
  },
  {
   "cell_type": "markdown",
   "metadata": {},
   "source": [
    "STCS strings are expected to follow the format of 'BOX|POLYGON ICRS RA(1) Dec(1) ... RA(n) Dec(n)'."
   ]
  },
  {
   "cell_type": "code",
   "execution_count": null,
   "metadata": {},
   "outputs": [],
   "source": [
    "esasky.poly_search('BOX ICRS 226.8297 -58.0490 223.2086 -58.0496 223.1085 -59.9203 226.9319 -59.9197')"
   ]
  },
  {
   "cell_type": "code",
   "execution_count": null,
   "metadata": {},
   "outputs": [],
   "source": [
    "esasky.poly_search('POLYGON ICRS 226.8682 -58.2503 225.3984 -60.1154 222.9764 -57.9569')"
   ]
  },
  {
   "cell_type": "code",
   "execution_count": null,
   "metadata": {},
   "outputs": [],
   "source": [
    "esasky.clear_search()"
   ]
  },
  {
   "cell_type": "markdown",
   "metadata": {},
   "source": [
    "The Search tool panel can also be opened and closed with the following:"
   ]
  },
  {
   "cell_type": "code",
   "execution_count": null,
   "metadata": {},
   "outputs": [],
   "source": [
    "esasky.open_search_panel()"
   ]
  },
  {
   "cell_type": "code",
   "execution_count": null,
   "metadata": {},
   "outputs": [],
   "source": [
    "esasky.close_search_panel()"
   ]
  },
  {
   "cell_type": "code",
   "execution_count": null,
   "metadata": {},
   "outputs": [],
   "source": [
    "esasky.clear_search()"
   ]
  },
  {
   "cell_type": "code",
   "execution_count": null,
   "metadata": {},
   "outputs": [],
   "source": [
    "esasky.close_result()"
   ]
  },
  {
   "cell_type": "markdown",
   "metadata": {},
   "source": [
    "## Sliding through different HiPS"
   ]
  },
  {
   "cell_type": "code",
   "execution_count": null,
   "metadata": {},
   "outputs": [],
   "source": [
    "# Go to Seyfert 2 Galaxy Centaurus A\n",
    "esasky.remove_hips('User')\n",
    "esasky.go_to(201.365063, -43.019113)\n",
    "esasky.set_fov(0.2)"
   ]
  },
  {
   "cell_type": "markdown",
   "metadata": {},
   "source": [
    "Add HiPS to the sky panel"
   ]
  },
  {
   "cell_type": "code",
   "execution_count": null,
   "metadata": {},
   "outputs": [],
   "source": [
    "esasky.add_hips(\"Chandra RGB\")\n",
    "esasky.add_hips(\"XMM-Newton EPIC color\")\n",
    "esasky.add_hips(\"DSS2 Color\")\n",
    "esasky.add_hips(\"2MASS color JHK\")\n",
    "esasky.add_hips(\"Spitzer cold SEIP IRAC2 faint\")\n",
    "esasky.add_hips(\"Herschel PACS RGB 70, 160 micron\")"
   ]
  },
  {
   "cell_type": "markdown",
   "metadata": {},
   "source": [
    "Animations can be made programmatically using this slider function"
   ]
  },
  {
   "cell_type": "code",
   "execution_count": null,
   "metadata": {},
   "outputs": [],
   "source": [
    "import time\n",
    "for i in range(500):\n",
    "    esasky.set_hips_slider(i/100.0)\n",
    "    time.sleep(0.02)"
   ]
  },
  {
   "cell_type": "markdown",
   "metadata": {},
   "source": [
    "We can even create a slider in the python interface to control the HiPS"
   ]
  },
  {
   "cell_type": "code",
   "execution_count": null,
   "metadata": {},
   "outputs": [],
   "source": [
    "import asyncio\n",
    "nSkies = esasky.get_sky_row_count()\n",
    "def wait_for_change(widget, value):\n",
    "    future = asyncio.Future()\n",
    "    def getvalue(change):\n",
    "        future.set_result(change.new)\n",
    "        widget.unobserve(getvalue, value)\n",
    "    widget.observe(getvalue, value)\n",
    "    return future\n",
    "\n",
    "from ipywidgets import FloatSlider\n",
    "slider = FloatSlider(min=0.0, max=nSkies-1, step=0.01,  continuous_update=True)\n",
    "\n",
    "async def f():\n",
    "    while True:\n",
    "        x = await wait_for_change(slider, 'value')\n",
    "        esasky.set_hips_slider(x)\n",
    "asyncio.ensure_future(f())\n",
    "\n",
    "slider"
   ]
  },
  {
   "cell_type": "markdown",
   "metadata": {},
   "source": [
    "## Interacting with the JWST Planning Tool"
   ]
  },
  {
   "cell_type": "markdown",
   "metadata": {},
   "source": [
    "### Open the JWST Planning Tool and add an instrument at specific coordinates"
   ]
  },
  {
   "cell_type": "code",
   "execution_count": null,
   "metadata": {},
   "outputs": [],
   "source": [
    "esasky.close_sky_panel() #first, close the sky panel\n",
    "esasky.add_jwst(\"NIRSpec\", \"NRS_FULL_MSA\", False, \"201.365063\", \"-43.019113\", \"5\")"
   ]
  },
  {
   "cell_type": "markdown",
   "metadata": {},
   "source": [
    "### Add an instrument at the centre of the screen and include all instruments in the focal plane"
   ]
  },
  {
   "cell_type": "code",
   "execution_count": null,
   "metadata": {},
   "outputs": [],
   "source": [
    "esasky.set_fov(0.5)\n",
    "esasky.add_jwst(\"NIRCam\", \"NRCALL_FULL\", True)"
   ]
  },
  {
   "cell_type": "code",
   "execution_count": null,
   "metadata": {},
   "outputs": [],
   "source": [
    "esasky.add_jwst?"
   ]
  },
  {
   "cell_type": "code",
   "execution_count": null,
   "metadata": {},
   "outputs": [],
   "source": [
    "esasky.close_jwst()"
   ]
  },
  {
   "cell_type": "code",
   "execution_count": null,
   "metadata": {},
   "outputs": [],
   "source": [
    "esasky.open_jwst()"
   ]
  },
  {
   "cell_type": "code",
   "execution_count": null,
   "metadata": {},
   "outputs": [],
   "source": [
    "esasky.clear_jwst()\n",
    "esasky.close_jwst()"
   ]
  },
  {
   "cell_type": "markdown",
   "metadata": {},
   "source": [
    "## Coordinates Grid"
   ]
  },
  {
   "cell_type": "markdown",
   "metadata": {},
   "source": [
    "Switch on or off the coordinates grid:"
   ]
  },
  {
   "cell_type": "code",
   "execution_count": null,
   "metadata": {},
   "outputs": [],
   "source": [
    "esasky.go_to(350.850, +58.815) #Cas A\n",
    "esasky.set_fov(0.2)"
   ]
  },
  {
   "cell_type": "code",
   "execution_count": null,
   "metadata": {},
   "outputs": [],
   "source": [
    "esasky.select_hips('Chandra RGB')\n",
    "esasky.show_coo_grid(True)"
   ]
  },
  {
   "cell_type": "code",
   "execution_count": null,
   "metadata": {},
   "outputs": [],
   "source": [
    "esasky.show_coo_grid(False)"
   ]
  },
  {
   "cell_type": "markdown",
   "metadata": {},
   "source": [
    "## Healpix MOCs"
   ]
  },
  {
   "cell_type": "markdown",
   "metadata": {},
   "source": [
    "Display your own multi-order coverage (MOC) maps on the sky using IVOA string or JSON notation"
   ]
  },
  {
   "cell_type": "code",
   "execution_count": null,
   "metadata": {},
   "outputs": [],
   "source": [
    "esasky.select_hips('DSS2 color')\n",
    "esasky.go_to(43.376, +05.8587) #Cas A\n",
    "esasky.set_fov(150)\n",
    "esasky.overlay_moc('6/2-15 23 554 7/22 50-75', 'myMoc', 'red', 0.2)"
   ]
  },
  {
   "cell_type": "code",
   "execution_count": null,
   "metadata": {},
   "outputs": [],
   "source": [
    "esasky.overlay_moc('{\"3\":[1,2,3,4,5], \"4\":[26,27]}', 'myMoc2', '#FF1244', 1)"
   ]
  },
  {
   "cell_type": "code",
   "execution_count": null,
   "metadata": {},
   "outputs": [],
   "source": [
    "esasky.remove_moc('myMoc')\n",
    "esasky.remove_moc('myMoc2')"
   ]
  },
  {
   "cell_type": "markdown",
   "metadata": {},
   "source": [
    "## Multi-Messenger Events"
   ]
  },
  {
   "cell_type": "markdown",
   "metadata": {},
   "source": [
    "Return and visualise the multi-messenger events in ESASky."
   ]
  },
  {
   "cell_type": "markdown",
   "metadata": {},
   "source": [
    "#### Gravitational Wave (GW) Events:"
   ]
  },
  {
   "cell_type": "markdown",
   "metadata": {},
   "source": [
    "Return the IDs of all available GW events in ESASky"
   ]
  },
  {
   "cell_type": "code",
   "execution_count": null,
   "metadata": {
    "scrolled": true,
    "tags": []
   },
   "outputs": [],
   "source": [
    "gwdata=esasky.get_gw_ids() \n",
    "GWs = pd.DataFrame.from_dict(gwdata)\n",
    "GWs"
   ]
  },
  {
   "cell_type": "markdown",
   "metadata": {},
   "source": [
    "Return the metadata of all available GW Events in ESASky"
   ]
  },
  {
   "cell_type": "code",
   "execution_count": null,
   "metadata": {
    "scrolled": true,
    "tags": []
   },
   "outputs": [],
   "source": [
    "pd.set_option('max_colwidth', 400)\n",
    "gwdata=esasky.get_gw_data()\n",
    "GWs = pd.DataFrame.from_dict(gwdata)\n",
    "GWs"
   ]
  },
  {
   "cell_type": "markdown",
   "metadata": {},
   "source": [
    "Open the GWs Multi-Messenger Events in ESASky and display a GW Event"
   ]
  },
  {
   "cell_type": "code",
   "execution_count": null,
   "metadata": {},
   "outputs": [],
   "source": [
    "esasky.open_gw_panel()\n",
    "esasky.show_gw_event('S200316bj') "
   ]
  },
  {
   "cell_type": "markdown",
   "metadata": {},
   "source": [
    "#### Neutrino Events:"
   ]
  },
  {
   "cell_type": "markdown",
   "metadata": {},
   "source": [
    "Return the metadata of all available Neutrino events in ESASky"
   ]
  },
  {
   "cell_type": "code",
   "execution_count": null,
   "metadata": {
    "scrolled": true,
    "tags": []
   },
   "outputs": [],
   "source": [
    "ndata=esasky.get_neutorino_data()\n",
    "neutrinos = pd.DataFrame.from_dict(ndata)\n",
    "neutrinos"
   ]
  },
  {
   "cell_type": "markdown",
   "metadata": {},
   "source": [
    "Open the neutrino event panel"
   ]
  },
  {
   "cell_type": "code",
   "execution_count": null,
   "metadata": {},
   "outputs": [],
   "source": [
    "esasky.open_neutorino_panel()"
   ]
  },
  {
   "cell_type": "markdown",
   "metadata": {},
   "source": [
    "Close the Multi-Messenger panel in ESASky"
   ]
  },
  {
   "cell_type": "code",
   "execution_count": null,
   "metadata": {},
   "outputs": [],
   "source": [
    "esasky.close_event_panel() "
   ]
  },
  {
   "cell_type": "markdown",
   "metadata": {},
   "source": [
    "### Save and restore an ESASky session"
   ]
  },
  {
   "cell_type": "markdown",
   "metadata": {},
   "source": [
    "Save the current ESASky session as a JSON file object with all settings, HiPS stack, datapanels etc."
   ]
  },
  {
   "cell_type": "code",
   "execution_count": null,
   "metadata": {},
   "outputs": [],
   "source": [
    "esasky.save_session(file_name='ESASkySession.json')"
   ]
  },
  {
   "cell_type": "markdown",
   "metadata": {},
   "source": [
    "Change ESASky settings and then restore the previous session"
   ]
  },
  {
   "cell_type": "code",
   "execution_count": null,
   "metadata": {},
   "outputs": [],
   "source": [
    "esasky.show_coo_grid(False)\n",
    "esasky.select_hips('DSS2 color')\n",
    "esasky.go_to_target('M101')"
   ]
  },
  {
   "cell_type": "code",
   "execution_count": null,
   "metadata": {},
   "outputs": [],
   "source": [
    "esasky.restore_session_file('ESASkySession.json')"
   ]
  },
  {
   "cell_type": "code",
   "execution_count": null,
   "metadata": {},
   "outputs": [],
   "source": []
  }
 ],
 "metadata": {
  "kernelspec": {
   "display_name": "Python 3 (ipykernel)",
   "language": "python",
   "name": "python3"
  },
  "language_info": {
   "codemirror_mode": {
    "name": "ipython",
    "version": 3
   },
   "file_extension": ".py",
   "mimetype": "text/x-python",
   "name": "python",
   "nbconvert_exporter": "python",
   "pygments_lexer": "ipython3",
   "version": "3.10.12"
  }
 },
 "nbformat": 4,
 "nbformat_minor": 4
}
