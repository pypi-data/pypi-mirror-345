{
 "cells": [
  {
   "cell_type": "markdown",
   "id": "de6d92aa",
   "metadata": {},
   "source": [
    "# Basic Table Extraction\n",
    "\n",
    "PDFs often contain tables, and `natural-pdf` provides methods to extract their data, building on `pdfplumber`'s capabilities.\n",
    "\n",
    "Let's extract the \"Violations\" table from our practice PDF."
   ]
  },
  {
   "cell_type": "code",
   "execution_count": 1,
   "id": "adf88c30",
   "metadata": {
    "execution": {
     "iopub.execute_input": "2025-05-02T13:55:08.731753Z",
     "iopub.status.busy": "2025-05-02T13:55:08.731634Z",
     "iopub.status.idle": "2025-05-02T13:55:08.734866Z",
     "shell.execute_reply": "2025-05-02T13:55:08.734502Z"
    },
    "lines_to_next_cell": 2
   },
   "outputs": [],
   "source": [
    "#%pip install \"natural-pdf[all]\""
   ]
  },
  {
   "cell_type": "code",
   "execution_count": 2,
   "id": "e12b7832",
   "metadata": {
    "execution": {
     "iopub.execute_input": "2025-05-02T13:55:08.736971Z",
     "iopub.status.busy": "2025-05-02T13:55:08.736551Z",
     "iopub.status.idle": "2025-05-02T13:55:15.439685Z",
     "shell.execute_reply": "2025-05-02T13:55:15.439095Z"
    }
   },
   "outputs": [],
   "source": [
    "from natural_pdf import PDF\n",
    "\n",
    "# Load a PDF\n",
    "pdf = PDF(\"https://github.com/jsoma/natural-pdf/raw/refs/heads/main/pdfs/01-practice.pdf\")\n",
    "page = pdf.pages[0]\n",
    "\n",
    "# Use extract_tables() to find all tables on the page.\n",
    "# It returns a list of tables, where each table is a list of lists.\n",
    "tables_data = page.extract_tables()\n",
    "\n",
    "# Display the first table found\n",
    "tables_data[0] if tables_data else \"No tables found\"\n",
    "\n",
    "# You can also visualize the general area of the first table \n",
    "# by finding elements in that region\n",
    "if tables_data:\n",
    "    # Find a header element in the table\n",
    "    statute_header = page.find('text:contains(\"Statute\")')\n",
    "    if statute_header:\n",
    "        # Show the area\n",
    "        statute_header.below(height=100).highlight(color=\"green\", label=\"Table Area\")\n",
    "        page.to_image()"
   ]
  },
  {
   "cell_type": "markdown",
   "id": "0028edab",
   "metadata": {},
   "source": [
    "This code uses `page.extract_tables()` which attempts to automatically detect tables based on visual cues like lines and whitespace. The result is a list of lists, representing the rows and cells of the table.\n",
    "\n",
    "<div class=\"admonition note\">\n",
    "<p class=\"admonition-title\">Table Settings and Limitations</p>\n",
    "\n",
    "    The default `extract_tables()` works well for simple, clearly defined tables. However, it might struggle with:\n",
    "    *   Tables without clear borders or lines.\n",
    "    *   Complex merged cells.\n",
    "    *   Tables spanning multiple pages.\n",
    "\n",
    "    `pdfplumber` (and thus `natural-pdf`) allows passing `table_settings` dictionaries to `extract_tables()` for more control over the detection strategy (e.g., `\"vertical_strategy\": \"text\"`, `\"horizontal_strategy\": \"text\"`).\n",
    "\n",
    "    For even more robust table detection, especially for tables without explicit lines, using Layout Analysis (like `page.analyze_layout(engine='tatr')`) first, finding the table `region`, and then calling `region.extract_table()` can yield better results. We'll explore layout analysis in a later tutorial.\n",
    "</div> "
   ]
  }
 ],
 "metadata": {
  "jupytext": {
   "cell_metadata_filter": "-all",
   "main_language": "python",
   "notebook_metadata_filter": "-all"
  },
  "kernelspec": {
   "display_name": "Python (natural-pdf)",
   "language": "python",
   "name": "natural-pdf"
  },
  "language_info": {
   "codemirror_mode": {
    "name": "ipython",
    "version": 3
   },
   "file_extension": ".py",
   "mimetype": "text/x-python",
   "name": "python",
   "nbconvert_exporter": "python",
   "pygments_lexer": "ipython3",
   "version": "3.10.13"
  }
 },
 "nbformat": 4,
 "nbformat_minor": 5
}
