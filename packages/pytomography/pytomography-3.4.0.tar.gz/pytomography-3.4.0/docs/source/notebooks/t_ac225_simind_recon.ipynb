{
 "cells": [
  {
   "cell_type": "markdown",
   "id": "b9a3bee9",
   "metadata": {
    "papermill": {
     "duration": 0.002971,
     "end_time": "2024-11-19T22:30:03.804772",
     "exception": false,
     "start_time": "2024-11-19T22:30:03.801801",
     "status": "completed"
    },
    "tags": []
   },
   "source": [
    "# Ac-225 Advanced PSF Modeling (SIMIND)"
   ]
  },
  {
   "cell_type": "markdown",
   "id": "4f60caca",
   "metadata": {
    "papermill": {
     "duration": 0.003258,
     "end_time": "2024-11-19T22:30:03.835886",
     "exception": false,
     "start_time": "2024-11-19T22:30:03.832628",
     "status": "completed"
    },
    "tags": []
   },
   "source": [
    "This tutorial uses the PSF operators obtained using the SPECTPSF toolbox to reconstruct Ac225 data. The operator was obtained using tutorial 5, available at this [link](https://github.com/lukepolson/SPECTPSFToolbox/blob/main/tutorials/5_optimization_ac225.ipynb). Use of this operator requires the SPECTPSFToolbox to be installed; instructions for installing can be found on the README [here](https://github.com/lukepolson/SPECTPSFToolbox/tree/main)"
   ]
  },
  {
   "cell_type": "code",
   "execution_count": 1,
   "id": "0509a980",
   "metadata": {
    "execution": {
     "iopub.execute_input": "2024-11-19T22:30:03.843273Z",
     "iopub.status.busy": "2024-11-19T22:30:03.842502Z",
     "iopub.status.idle": "2024-11-19T22:30:07.898427Z",
     "shell.execute_reply": "2024-11-19T22:30:07.897697Z"
    },
    "papermill": {
     "duration": 4.06191,
     "end_time": "2024-11-19T22:30:07.900586",
     "exception": false,
     "start_time": "2024-11-19T22:30:03.838676",
     "status": "completed"
    },
    "tags": []
   },
   "outputs": [],
   "source": [
    "import os\n",
    "import torch\n",
    "import dill\n",
    "import pytomography\n",
    "from pytomography.io.SPECT import simind\n",
    "from pytomography.projectors.SPECT import SPECTSystemMatrix\n",
    "from pytomography.transforms.SPECT  import SPECTAttenuationTransform, SPECTPSFTransform\n",
    "from pytomography.algorithms import OSEM\n",
    "from pytomography.io.SPECT.shared import subsample_projections_and_modify_metadata, subsample_amap\n",
    "from pytomography.likelihoods import PoissonLogLikelihood\n",
    "import matplotlib.pyplot as plt"
   ]
  },
  {
   "cell_type": "code",
   "execution_count": 2,
   "id": "90753cf1",
   "metadata": {
    "execution": {
     "iopub.execute_input": "2024-11-19T22:30:07.912542Z",
     "iopub.status.busy": "2024-11-19T22:30:07.912065Z",
     "iopub.status.idle": "2024-11-19T22:30:07.915307Z",
     "shell.execute_reply": "2024-11-19T22:30:07.914770Z"
    },
    "papermill": {
     "duration": 0.013257,
     "end_time": "2024-11-19T22:30:07.916925",
     "exception": false,
     "start_time": "2024-11-19T22:30:07.903668",
     "status": "completed"
    },
    "tags": []
   },
   "outputs": [],
   "source": [
    "# change to where you saved the data\n",
    "PATH = '/mnt/mydisk2/pytomo_tutorial_data/SPECT/SIMIND-Jaszak'"
   ]
  },
  {
   "cell_type": "markdown",
   "id": "846534d4",
   "metadata": {
    "papermill": {
     "duration": 0.002724,
     "end_time": "2024-11-19T22:30:07.922208",
     "exception": false,
     "start_time": "2024-11-19T22:30:07.919484",
     "status": "completed"
    },
    "tags": []
   },
   "source": [
    "Load the SIMIND data. In this case, we'll use the ground truth scatter from SIMIND."
   ]
  },
  {
   "cell_type": "code",
   "execution_count": 3,
   "id": "e45a3064",
   "metadata": {
    "execution": {
     "iopub.execute_input": "2024-11-19T22:30:07.928659Z",
     "iopub.status.busy": "2024-11-19T22:30:07.928330Z",
     "iopub.status.idle": "2024-11-19T22:30:09.767193Z",
     "shell.execute_reply": "2024-11-19T22:30:09.766551Z"
    },
    "papermill": {
     "duration": 1.843949,
     "end_time": "2024-11-19T22:30:09.769033",
     "exception": false,
     "start_time": "2024-11-19T22:30:07.925084",
     "status": "completed"
    },
    "tags": []
   },
   "outputs": [],
   "source": [
    "dT = 2.5 * 60 # seconds per projection\n",
    "activity_conc = 10 # kBq/L, a very high activity conc for Ac225\n",
    "CPSpMBq = 17 # an approximate calibration factor\n",
    "\n",
    "# Specify the isotopes and equilibirum ratios based on Bateman equations\n",
    "isotopes = ['ac225', 'bi213', 'fr221', 'tl209']\n",
    "isotopes_ratios = [1,1,1,0.0209] \n",
    "# look at the .h00 files; there are many E windows simulated. These are 5% scat win for 440peak\n",
    "i_peak, i_lower, i_upper = 10, 11, 14 \n",
    "files_NM = [[os.path.join(PATH, f'{isotope}', f'tot_w{i}.h00') for isotope in isotopes] for i in [i_lower, i_peak, i_upper]]\n",
    "object_meta, proj_meta = simind.get_metadata(files_NM[0][0])\n",
    "activity_concs = [activity_conc * ratio for ratio in isotopes_ratios]\n",
    "projections = simind.get_projections(files_NM, activity_concs)\n",
    "projections *= dT\n",
    "\n",
    "# Based on how they are loaded, this is idx of peak, lower upper\n",
    "idx_peak, idx_lower, idx_upper = 1, 0, 2\n",
    "photopeak = projections[idx_peak]\n",
    "ww_lower, ww_peak, ww_upper = [simind.get_energy_window_width(path) for path in [files_NM[0][0], files_NM[0][1], files_NM[0][2]]]\n",
    "scatter_estimate_TEW = simind.compute_EW_scatter(\n",
    "    projections[idx_lower], projections[idx_upper],\n",
    "    ww_lower,\n",
    "    ww_upper,\n",
    "    ww_peak,\n",
    "    sigma_r=0.5,\n",
    "    sigma_z=0.5,\n",
    "    proj_meta=proj_meta\n",
    ")"
   ]
  },
  {
   "cell_type": "markdown",
   "id": "ca228773",
   "metadata": {
    "papermill": {
     "duration": 0.002635,
     "end_time": "2024-11-19T22:30:09.774911",
     "exception": false,
     "start_time": "2024-11-19T22:30:09.772276",
     "status": "completed"
    },
    "tags": []
   },
   "source": [
    "We're reconstructing the 440keV window so we'll use the 440keV attenuation map"
   ]
  },
  {
   "cell_type": "code",
   "execution_count": 4,
   "id": "4fb7f631",
   "metadata": {
    "execution": {
     "iopub.execute_input": "2024-11-19T22:30:09.781661Z",
     "iopub.status.busy": "2024-11-19T22:30:09.781286Z",
     "iopub.status.idle": "2024-11-19T22:30:09.801417Z",
     "shell.execute_reply": "2024-11-19T22:30:09.800098Z"
    },
    "papermill": {
     "duration": 0.025307,
     "end_time": "2024-11-19T22:30:09.802811",
     "exception": false,
     "start_time": "2024-11-19T22:30:09.777504",
     "status": "completed"
    },
    "tags": []
   },
   "outputs": [],
   "source": [
    "path_amap = os.path.join(PATH, 'attenuation_maps', 'amap440.hct')\n",
    "amap = simind.get_attenuation_map(path_amap)"
   ]
  },
  {
   "cell_type": "markdown",
   "id": "6c080296",
   "metadata": {
    "papermill": {
     "duration": 0.002614,
     "end_time": "2024-11-19T22:30:09.844157",
     "exception": false,
     "start_time": "2024-11-19T22:30:09.841543",
     "status": "completed"
    },
    "tags": []
   },
   "source": [
    "The code below reconstructs using OSEM with 50 iterations and 4 subsets"
   ]
  },
  {
   "cell_type": "code",
   "execution_count": 5,
   "id": "0c961aea",
   "metadata": {
    "execution": {
     "iopub.execute_input": "2024-11-19T22:30:09.850779Z",
     "iopub.status.busy": "2024-11-19T22:30:09.850444Z",
     "iopub.status.idle": "2024-11-19T22:30:09.854307Z",
     "shell.execute_reply": "2024-11-19T22:30:09.853657Z"
    },
    "papermill": {
     "duration": 0.008873,
     "end_time": "2024-11-19T22:30:09.855708",
     "exception": false,
     "start_time": "2024-11-19T22:30:09.846835",
     "status": "completed"
    },
    "tags": []
   },
   "outputs": [],
   "source": [
    "def perform_reconstruction(psf_transform):\n",
    "    att_transform = SPECTAttenuationTransform(attenuation_map=amap)\n",
    "    system_matrix = SPECTSystemMatrix(\n",
    "            obj2obj_transforms = [att_transform,psf_transform],\n",
    "            proj2proj_transforms = [],\n",
    "            object_meta = object_meta,\n",
    "            proj_meta = proj_meta)\n",
    "    likelihood = PoissonLogLikelihood(system_matrix, photopeak, scatter_estimate_TEW)\n",
    "    algorithm = OSEM(likelihood)\n",
    "    return algorithm(n_iters=50, n_subsets=4)"
   ]
  },
  {
   "cell_type": "markdown",
   "id": "b86383c8",
   "metadata": {
    "papermill": {
     "duration": 0.002604,
     "end_time": "2024-11-19T22:30:09.861065",
     "exception": false,
     "start_time": "2024-11-19T22:30:09.858461",
     "status": "completed"
    },
    "tags": []
   },
   "source": [
    "Open the PSF operator created in [this tutorial](https://github.com/lukepolson/SPECTPSFToolbox/blob/main/tutorials/5_optimization_ac225.ipynb)"
   ]
  },
  {
   "cell_type": "code",
   "execution_count": 6,
   "id": "658544c9",
   "metadata": {
    "execution": {
     "iopub.execute_input": "2024-11-19T22:30:09.867653Z",
     "iopub.status.busy": "2024-11-19T22:30:09.867264Z",
     "iopub.status.idle": "2024-11-19T22:30:56.917779Z",
     "shell.execute_reply": "2024-11-19T22:30:56.916719Z"
    },
    "papermill": {
     "duration": 47.056016,
     "end_time": "2024-11-19T22:30:56.919634",
     "exception": false,
     "start_time": "2024-11-19T22:30:09.863618",
     "status": "completed"
    },
    "tags": []
   },
   "outputs": [],
   "source": [
    "# Note that you may need to create this operator yourself with the SPECTPSFToolbox to match your GPU architecture\n",
    "with open(os.path.join(PATH, 'ac225_psf_operator.pkl'), 'rb') as f:\n",
    "    psf_operator = dill.load(f)\n",
    "psf_operator.set_device(pytomography.device)\n",
    "psf_transform = SPECTPSFTransform(psf_operator=psf_operator)\n",
    "recon_1Dfit = perform_reconstruction(psf_transform)"
   ]
  },
  {
   "cell_type": "markdown",
   "id": "3dc2d2fb",
   "metadata": {
    "papermill": {
     "duration": 0.0025,
     "end_time": "2024-11-19T22:30:56.925140",
     "exception": false,
     "start_time": "2024-11-19T22:30:56.922640",
     "status": "completed"
    },
    "tags": []
   },
   "source": [
    "Reconstruct using the Gaussian modeling which doesn't account for the septal penetration and septal scatter:"
   ]
  },
  {
   "cell_type": "code",
   "execution_count": 7,
   "id": "385bdd76",
   "metadata": {
    "execution": {
     "iopub.execute_input": "2024-11-19T22:30:56.932466Z",
     "iopub.status.busy": "2024-11-19T22:30:56.931970Z",
     "iopub.status.idle": "2024-11-19T22:31:10.067021Z",
     "shell.execute_reply": "2024-11-19T22:31:10.065923Z"
    },
    "papermill": {
     "duration": 13.140973,
     "end_time": "2024-11-19T22:31:10.069067",
     "exception": false,
     "start_time": "2024-11-19T22:30:56.928094",
     "status": "completed"
    },
    "tags": []
   },
   "outputs": [],
   "source": [
    "path_bi213_prim = files_NM[1][1]\n",
    "psf_meta = simind.get_psfmeta_from_header(path_bi213_prim)\n",
    "psf_transform = SPECTPSFTransform(psf_meta)\n",
    "reconbad = perform_reconstruction(psf_transform)"
   ]
  },
  {
   "cell_type": "markdown",
   "id": "ddc98aeb",
   "metadata": {
    "papermill": {
     "duration": 0.002669,
     "end_time": "2024-11-19T22:31:10.075288",
     "exception": false,
     "start_time": "2024-11-19T22:31:10.072619",
     "status": "completed"
    },
    "tags": []
   },
   "source": [
    "Lets compare the two reconstructions: the first one using the fitted PSF and the second one using the Monte Carlo kernels. Note that the fitted one was over twice as fast for reconstructing!"
   ]
  },
  {
   "cell_type": "code",
   "execution_count": 8,
   "id": "4b8abb4b",
   "metadata": {
    "execution": {
     "iopub.execute_input": "2024-11-19T22:31:10.082476Z",
     "iopub.status.busy": "2024-11-19T22:31:10.081995Z",
     "iopub.status.idle": "2024-11-19T22:31:10.085930Z",
     "shell.execute_reply": "2024-11-19T22:31:10.085375Z"
    },
    "papermill": {
     "duration": 0.009786,
     "end_time": "2024-11-19T22:31:10.087578",
     "exception": false,
     "start_time": "2024-11-19T22:31:10.077792",
     "status": "completed"
    },
    "tags": []
   },
   "outputs": [],
   "source": [
    "recons = [reconbad, recon_1Dfit]\n",
    "titles = ['Gaussian PSF', 'Full PSF']"
   ]
  },
  {
   "cell_type": "code",
   "execution_count": 26,
   "id": "81470adb",
   "metadata": {
    "execution": {
     "iopub.execute_input": "2024-11-19T22:31:10.094266Z",
     "iopub.status.busy": "2024-11-19T22:31:10.093805Z",
     "iopub.status.idle": "2024-11-19T22:31:10.387069Z",
     "shell.execute_reply": "2024-11-19T22:31:10.386452Z"
    },
    "papermill": {
     "duration": 0.299265,
     "end_time": "2024-11-19T22:31:10.389655",
     "exception": false,
     "start_time": "2024-11-19T22:31:10.090390",
     "status": "completed"
    },
    "tags": []
   },
   "outputs": [
    {
     "data": {
      "image/png": "[encoded data removed]",
      "text/plain": [
       "<Figure size 600x400 with 2 Axes>"
      ]
     },
     "metadata": {},
     "output_type": "display_data"
    }
   ],
   "source": [
    "fig, ax = plt.subplots(1,2,figsize=(6,4), gridspec_kw={'wspace':0.0})\n",
    "vmax = recons[1].max()\n",
    "for i in range(2):\n",
    "    plt.sca(ax[i])\n",
    "    plt.imshow(recons[i].cpu()[:,:,64].T, cmap='magma', interpolation='gaussian', vmax=vmax)\n",
    "    plt.text(0.05, 0.87, titles[i], ha='left', va='bottom', fontsize=22, transform=ax[i].transAxes, color='white')\n",
    "    plt.axis('off')\n",
    "    plt.xlim(35,95)\n",
    "    plt.ylim(35,95)\n",
    "fig.tight_layout()"
   ]
  }
 ],
 "metadata": {
  "kernelspec": {
   "display_name": "pytomo",
   "language": "python",
   "name": "python3"
  },
  "language_info": {
   "codemirror_mode": {
    "name": "ipython",
    "version": 3
   },
   "file_extension": ".py",
   "mimetype": "text/x-python",
   "name": "python",
   "nbconvert_exporter": "python",
   "pygments_lexer": "ipython3",
   "version": "3.12.9"
  },
  "papermill": {
   "default_parameters": {},
   "duration": 68.724101,
   "end_time": "2024-11-19T22:31:11.713931",
   "environment_variables": {},
   "exception": null,
   "input_path": "t_ac225_simind_recon.ipynb",
   "output_path": "t_ac225_simind_recon.ipynb",
   "parameters": {},
   "start_time": "2024-11-19T22:30:02.989830",
   "version": "2.6.0"
  }
 },
 "nbformat": 4,
 "nbformat_minor": 5
}
