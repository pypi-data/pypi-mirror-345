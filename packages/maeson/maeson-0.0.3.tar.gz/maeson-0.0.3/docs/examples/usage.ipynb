{
 "cells": [
  {
   "cell_type": "markdown",
   "metadata": {},
   "source": [
    "# Example Code Usage\n",
    "\n",
    "[![Open In Colab](https://colab.research.google.com/assets/colab-badge.svg)](https://colab.research.google.com/github/dzfinch/maeson/blob/main/docs/examples/usage.ipynb)"
   ]
  },
  {
   "cell_type": "code",
   "execution_count": null,
   "metadata": {},
   "outputs": [],
   "source": [
    "import maeson as maeson"
   ]
  },
  {
   "cell_type": "code",
   "execution_count": null,
   "metadata": {},
   "outputs": [],
   "source": [
    "json = {\n",
    "    \"type\": \"FeatureCollection\",\n",
    "    \"features\": [\n",
    "        {\n",
    "            \"type\": \"Feature\",\n",
    "            \"properties\": {},\n",
    "            \"geometry\": {\n",
    "                \"coordinates\": [\n",
    "                    [\n",
    "                        [-0.23448112880515737, 5.569309741857438],\n",
    "                        [-0.23448112880515737, 5.536174574314842],\n",
    "                        [-0.19047541529968726, 5.536174574314842],\n",
    "                        [-0.19047541529968726, 5.569309741857438],\n",
    "                        [-0.23448112880515737, 5.569309741857438],\n",
    "                    ]\n",
    "                ],\n",
    "                \"type\": \"Polygon\",\n",
    "            },\n",
    "        }\n",
    "    ],\n",
    "}"
   ]
  },
  {
   "cell_type": "markdown",
   "metadata": {},
   "source": [
    "# ipyleaflet Functionality"
   ]
  },
  {
   "cell_type": "markdown",
   "metadata": {},
   "source": [
    "### Vector Data"
   ]
  },
  {
   "cell_type": "code",
   "execution_count": null,
   "metadata": {},
   "outputs": [],
   "source": [
    "# Create map\n",
    "m = maeson.Map(zoom=12, center=(5.55, -0.2))\n",
    "\n",
    "# Add GeoJSON Layer\n",
    "m.add_geojson(json, name=\"GeoJSON Layer\", style={\"color\": \"blue\", \"weight\": 2})\n",
    "\n",
    "m"
   ]
  },
  {
   "cell_type": "markdown",
   "metadata": {},
   "source": [
    "### Raster Data"
   ]
  },
  {
   "cell_type": "code",
   "execution_count": null,
   "metadata": {},
   "outputs": [],
   "source": [
    "url = \"https://github.com/opengeos/datasets/releases/download/samgeo/tree_image.tif\"\n",
    "\n",
    "rmap = maeson.Map(zoom=12, center=(5.55, -0.2))\n",
    "\n",
    "# Add GeoJSON Layer\n",
    "rmap.add_raster(filepath=url, name=\"Trees\", colormap=\"viridis\", opacity=0.8)\n",
    "\n",
    "rmap"
   ]
  },
  {
   "cell_type": "markdown",
   "metadata": {},
   "source": [
    "### Image/GIFs"
   ]
  },
  {
   "cell_type": "code",
   "execution_count": null,
   "metadata": {},
   "outputs": [],
   "source": [
    "url = \"https://i.imgur.com/06Q1fSz.png\"\n",
    "imap = maeson.Map(zoom=4)\n",
    "\n",
    "# Add Image Layer\n",
    "imap.add_image(url, name=\"Image\", bounds=((13, -130), (32, -100)), opacity=0.5)\n",
    "\n",
    "imap"
   ]
  },
  {
   "cell_type": "markdown",
   "metadata": {},
   "source": [
    "### Video Layers"
   ]
  },
  {
   "cell_type": "code",
   "execution_count": null,
   "metadata": {},
   "outputs": [],
   "source": [
    "url = \"https://www.mapbox.com/bites/00188/patricia_nasa.webm\"\n",
    "\n",
    "vmap = maeson.Map(zoom=4)\n",
    "\n",
    "# Add Video Layer\n",
    "vmap.add_video(url, bounds=((13, -130), (32, -100)))\n",
    "vmap"
   ]
  },
  {
   "cell_type": "markdown",
   "metadata": {},
   "source": [
    "### WMS Layers"
   ]
  },
  {
   "cell_type": "code",
   "execution_count": null,
   "metadata": {},
   "outputs": [],
   "source": [
    "url = \"http://mesonet.agron.iastate.edu/cgi-bin/wms/nexrad/n0r.cgi\"\n",
    "\n",
    "wms = maeson.Map(zoom=4, center=(39.5, -98.35))\n",
    "\n",
    "# Add WMS Layer\n",
    "wms.add_wms_layer(\n",
    "    url,\n",
    "    name=\"WMS Layer\",\n",
    "    layers=\"nexrad-n0r-900913\",\n",
    "    format=\"image/png\",\n",
    "    transparent=True,\n",
    ")\n",
    "wms"
   ]
  },
  {
   "cell_type": "markdown",
   "metadata": {},
   "source": [
    "## Basemap Widget"
   ]
  },
  {
   "cell_type": "code",
   "execution_count": null,
   "metadata": {},
   "outputs": [],
   "source": [
    "wid = maeson.Map()\n",
    "\n",
    "wid.add_basemap_dropdown()\n",
    "\n",
    "wid"
   ]
  },
  {
   "cell_type": "markdown",
   "metadata": {},
   "source": [
    "# Folium Functionality "
   ]
  },
  {
   "cell_type": "code",
   "execution_count": null,
   "metadata": {},
   "outputs": [],
   "source": [
    "from maeson import folmap\n",
    "\n",
    "# Create map\n",
    "m = folmap.Map(zoom=12, center=(5.55, -0.2))\n",
    "\n",
    "# # Choose a built-in basemap\n",
    "# m.add_basemap(name='Topo')\n",
    "# m.add_basemap(name='Terrain')\n",
    "m.add_basemap(name=\"Satellite\")\n",
    "# m.add_basemap(name='Road')\n",
    "\n",
    "# # Add layer control\n",
    "m.add_layer_control()\n",
    "\n",
    "m"
   ]
  },
  {
   "cell_type": "code",
   "execution_count": null,
   "metadata": {},
   "outputs": [],
   "source": [
    "map = folmap.Map(zoom=12, center=(5.55, -0.2))\n",
    "\n",
    "# Add JSON Layer\n",
    "map.add_geojson(json, name=\"GeoJSON Layer\", style={\"color\": \"blue\", \"weight\": 2})\n",
    "map"
   ]
  },
  {
   "cell_type": "markdown",
   "metadata": {},
   "source": [
    "## gistory"
   ]
  },
  {
   "cell_type": "markdown",
   "metadata": {},
   "source": [
    "### SceneBuilder"
   ]
  },
  {
   "cell_type": "code",
   "execution_count": null,
   "metadata": {},
   "outputs": [],
   "source": [
    "import maeson\n",
    "from maeson.gistory import SceneBuilder\n",
    "\n",
    "## Raster layer\n",
    "# -22.1757, -51.2527\n",
    "# https://github.com/opengeos/datasets/releases/download/samgeo/tree_image.tif\n",
    "\n",
    "## Image layer\n",
    "# https://i.imgur.com/06Q1fSz.png\n",
    "# ((13, -130), (32, -100))\n",
    "\n",
    "\n",
    "m = maeson.Map(center=(0, 0), zoom=2)\n",
    "builder = SceneBuilder(m)\n",
    "builder.display()\n",
    "m"
   ]
  }
 ],
 "metadata": {
  "kernelspec": {
   "display_name": "510",
   "language": "python",
   "name": "python3"
  },
  "language_info": {
   "codemirror_mode": {
    "name": "ipython",
    "version": 3
   },
   "file_extension": ".py",
   "mimetype": "text/x-python",
   "name": "python",
   "nbconvert_exporter": "python",
   "pygments_lexer": "ipython3",
   "version": "3.12.8"
  }
 },
 "nbformat": 4,
 "nbformat_minor": 2
}
