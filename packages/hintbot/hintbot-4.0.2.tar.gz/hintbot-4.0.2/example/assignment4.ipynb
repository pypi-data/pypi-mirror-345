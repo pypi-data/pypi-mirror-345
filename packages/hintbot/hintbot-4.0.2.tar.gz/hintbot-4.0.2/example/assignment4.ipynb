{
 "cells": [
  {
   "cell_type": "markdown",
   "metadata": {
    "deletable": false,
    "editable": false,
    "nbgrader": {
     "cell_type": "markdown",
     "checksum": "148659d77fdbc0e4c6e2a03b473a29e3",
     "grade": false,
     "grade_id": "cell-018440eg2f1b6a62",
     "locked": true,
     "schema_version": 3,
     "solution": false
    }
   },
   "source": [
    "# Assignment 4\n",
    "In this assignment you will be using the dataset released by The Department of Transportation. This dataset lists flights that occurred in 2015, along with other information such as delays, flight time etc.\n",
    "\n",
    "In this assignment, you will be showing good practices to manipulate data using Python's most popular libraries to accomplish the following:\n",
    "\n",
    "- cleaning data with pandas\n",
    "- make specific changes with numpy\n",
    "- handling date-related values with datetime\n",
    "\n",
    "Note: please consider the flights departing from BOS, JFK, SFO and LAX.\n",
    "\n",
    "Each question is equally weighted for the total grade."
   ]
  },
  {
   "cell_type": "code",
   "execution_count": null,
   "metadata": {
    "deletable": false,
    "editable": false,
    "nbgrader": {
     "cell_type": "code",
     "checksum": "82880159edf5b9931010015196d6e83d",
     "grade": false,
     "grade_id": "cell-f7cf91f56bb95539",
     "locked": true,
     "schema_version": 3,
     "solution": false,
     "task": false
    }
   },
   "outputs": [],
   "source": [
    "import os\n",
    "import pandas as pd\n",
    "import pandas.api.types as ptypes\n",
    "import numpy as np\n",
    "import datetime as dt\n",
    "\n",
    "# Retrieve data\n",
    "flights_df_raw = pd.read_csv('assets/flights.csv', low_memory=False)\n",
    "airports_df = pd.read_csv('assets/airports.csv')\n",
    "airlines_df = pd.read_csv('assets/airlines.csv')"
   ]
  },
  {
   "cell_type": "markdown",
   "metadata": {
    "deletable": false,
    "editable": false,
    "nbgrader": {
     "cell_type": "markdown",
     "checksum": "54f9597da40cf65f246bfe8eca7a8a4b",
     "grade": false,
     "grade_id": "cell-7e5190c7ffsf2e42",
     "locked": true,
     "schema_version": 3,
     "solution": false
    }
   },
   "source": [
    "## Question 1: Data Preprocessing\n",
    "For this question, perform the following:\n",
    "\n",
    "- remove rows with missing values\n",
    "- keep flights departing from airports (ORIGIN_AIRPORT) that we want to look at (BOS, JFK, SFO and LAX)\n",
    "- filter out the flights that have more than 1 day delay (DEPARTURE_DELAY)\n",
    "- convert FLIGHT_NUMBER column type to string\n",
    "- SCHEDULED_DEPARTURE is coded as a float where the first two digits indicate the hour and the last two indicate the minutes. Convert this column to datetime format by combining existing columns DAY, MONTH, YEAR and SCHEDULED_DEPARTURE\n",
    "- add IS_DELAYED column by considering any flight with at least 15 minutes delay (DEPARTURE_DELAY) are delayed, and any other flight is not delayed\n",
    "- remove YEAR, MONTH, DAY columns"
   ]
  },
  {
   "cell_type": "code",
   "execution_count": null,
   "metadata": {
    "deletable": false,
    "nbgrader": {
     "cell_type": "code",
     "checksum": "65f5145adc39cd607d37d6d01579899e",
     "grade": false,
     "grade_id": "cell-85d6b39dfr7aa02f",
     "locked": false,
     "schema_version": 3,
     "solution": true
    }
   },
   "outputs": [],
   "source": [
    "def data_preprocess(flights_df):\n",
    "    # YOUR CODE HERE\n",
    "    raise NotImplementedError()\n",
    "    return df"
   ]
  },
  {
   "cell_type": "code",
   "execution_count": null,
   "metadata": {
    "deletable": false,
    "editable": false,
    "nbgrader": {
     "cell_type": "code",
     "checksum": "ea1f1d52f07ea2d92d60e46f018ef7c2",
     "grade": true,
     "grade_id": "cell-ece042ccds21104a",
     "locked": true,
     "points": 1,
     "schema_version": 3,
     "solution": false
    }
   },
   "outputs": [],
   "source": [
    "flights_df = data_preprocess(flights_df_raw.copy())\n",
    "assert len(flights_df) == 535744, \"Q1: There should be 535744 observations in the flights dataframe\"\n"
   ]
  },
  {
   "cell_type": "markdown",
   "metadata": {
    "deletable": false,
    "editable": false,
    "nbgrader": {
     "cell_type": "markdown",
     "checksum": "216fa865128c1f5c793e329d73791c55",
     "grade": false,
     "grade_id": "cell-89s80693491a3d33",
     "locked": true,
     "schema_version": 3,
     "solution": false
    }
   },
   "source": [
    "## Question 2\n",
    "Merge flights_df dataframe with airports_df dataframe and return the number of departing flights (*NUM_FLIGHTS*) per airport (*IATA_CODE*) across the year."
   ]
  },
  {
   "cell_type": "code",
   "execution_count": null,
   "metadata": {
    "deletable": false,
    "nbgrader": {
     "cell_type": "code",
     "checksum": "195791ed0e75bf71d7a7f0662be0734c",
     "grade": false,
     "grade_id": "cell-bce4d6f2ecddh297",
     "locked": false,
     "schema_version": 3,
     "solution": true
    }
   },
   "outputs": [],
   "source": [
    "def flights_per_airport(flights_df, airports_df):\n",
    "    # YOUR CODE HERE\n",
    "    raise NotImplementedError()\n",
    "    return df"
   ]
  },
  {
   "cell_type": "code",
   "execution_count": null,
   "metadata": {
    "deletable": false,
    "editable": false,
    "nbgrader": {
     "cell_type": "code",
     "checksum": "585bc6803c014b06edbbf1a21bf4be03",
     "grade": true,
     "grade_id": "cell-780b5a4da845dbce",
     "locked": true,
     "points": 1,
     "schema_version": 3,
     "solution": false
    }
   },
   "outputs": [],
   "source": [
    "num_flights_df=flights_per_airport(flights_df_raw.copy(), airports_df.copy())\n",
    "\n",
    "assert num_flights_df.shape==(4,1), \"Shape of DataFrame should be (4,1)\"\n",
    "assert num_flights_df.columns[0]=='NUM_FLIGHTS', \"DataFrame should have a column which is called NUM_FLIGHTS\"\n",
    "assert num_flights_df.loc[\"BOS\", \"NUM_FLIGHTS\"] == 105276, \"The NUM_FLIGHTS for BOS is wrong\"\n"
   ]
  },
  {
   "cell_type": "markdown",
   "metadata": {
    "deletable": false,
    "editable": false,
    "nbgrader": {
     "cell_type": "markdown",
     "checksum": "6992f2767319208a151e5d807a0e9207",
     "grade": false,
     "grade_id": "cell-8f659c09rbae5694",
     "locked": true,
     "schema_version": 3,
     "solution": false,
     "task": false
    }
   },
   "source": [
    "## Question 3\n",
    "For this question, find the top three airline names which have high number of flights and the least percentage of delay compared to other airlines. The result should be a dataframe which has three columns *AIRLINE_NAME*, *NUM_FLIGHTS* and *PERC_DELAY*.\n",
    "\n",
    "Hint:\n",
    "- percentage of delay for each airline is obtained using groupby and apply methods\n",
    "- merge flights_df with airlines_df to get the names of top three airlines"
   ]
  },
  {
   "cell_type": "code",
   "execution_count": null,
   "metadata": {
    "deletable": false,
    "nbgrader": {
     "cell_type": "code",
     "checksum": "6a42d471b487cc97ecd60fd897007916",
     "grade": false,
     "grade_id": "cell-f94ca014da9kaf38",
     "locked": false,
     "schema_version": 3,
     "solution": true,
     "task": false
    }
   },
   "outputs": [],
   "source": [
    "def top_three_airlines(flights_df, airlines_df):\n",
    "    # YOUR CODE HERE\n",
    "    raise NotImplementedError()\n",
    "    return df"
   ]
  },
  {
   "cell_type": "code",
   "execution_count": null,
   "metadata": {
    "deletable": false,
    "editable": false,
    "nbgrader": {
     "cell_type": "code",
     "checksum": "77873404ae370ef274d3cd1d8f6f6597",
     "grade": true,
     "grade_id": "cell-3c64ee33f975w296",
     "locked": true,
     "points": 1,
     "schema_version": 3,
     "solution": false,
     "task": false
    }
   },
   "outputs": [],
   "source": [
    "top_three_airlines_df = top_three_airlines(flights_df_raw.copy(), airlines_df.copy())\n",
    "\n",
    "assert sorted(list(top_three_airlines_df.columns)) == sorted(['NUM_FLIGHTS', 'PERC_DELAY', 'AIRLINE_NAME']), \"Dataframe doesn't have required columns\"\n",
    "assert top_three_airlines_df.loc[0, 'AIRLINE_NAME'] == 'United Air Lines Inc.', \"Top airline name doesn't match\"\n"
   ]
  },
  {
   "cell_type": "markdown",
   "metadata": {
    "deletable": false,
    "editable": false,
    "nbgrader": {
     "cell_type": "markdown",
     "checksum": "a9cb8a450b3b70abef792dcbdb0266a2",
     "grade": false,
     "grade_id": "cell-fb2846rbbb62c8a7",
     "locked": true,
     "schema_version": 3,
     "solution": false,
     "task": false
    }
   },
   "source": [
    "## Question 4\n",
    "For this question, obtain the monthly percentage of delays for each *ORIGIN_AIRPORT*.\n",
    "\n",
    "Example Result:\n",
    "\n",
    "         MONTH     BOS     JFK     LAX     SFO\n",
    "    0   January  0.1902  0.2257  0.1738  0.xxxx\n",
    "    1  February  0.3248  0.xxxx  0.xxxx  0.xxxx\n",
    "    2     March  0.1984  0.xxxx  0.xxxx  0.xxxx\n",
    "    3     April  0.xxxx  0.xxxx  0.xxxx  0.xxxx"
   ]
  },
  {
   "cell_type": "code",
   "execution_count": null,
   "metadata": {
    "deletable": false,
    "nbgrader": {
     "cell_type": "code",
     "checksum": "44e5c5481d98ffd849177cc087a8eb84",
     "grade": false,
     "grade_id": "cell-9f15bd32a4tea83d",
     "locked": false,
     "schema_version": 3,
     "solution": true,
     "task": false
    }
   },
   "outputs": [],
   "source": [
    "def monthly_airport_delays(flights_df):\n",
    "    # YOUR CODE HERE\n",
    "    raise NotImplementedError()\n",
    "    return df"
   ]
  },
  {
   "cell_type": "code",
   "execution_count": null,
   "metadata": {
    "deletable": false,
    "editable": false,
    "nbgrader": {
     "cell_type": "code",
     "checksum": "381a55a2896ae773770fa0809d022989",
     "grade": true,
     "grade_id": "cell-8c8d2b95b2b8c3eq",
     "locked": true,
     "points": 1,
     "schema_version": 3,
     "solution": false,
     "task": false
    }
   },
   "outputs": [],
   "source": [
    "monthly_airport_delays_df = monthly_airport_delays(flights_df_raw.copy())\n"
   ]
  }
 ],
 "metadata": {
  "anaconda-cloud": {},
  "etc_identifier": "7ca0093b-b622-4463-8696-65f1e0f33522",
  "firstTimeUsingHintbot": false,
  "kernelspec": {
   "display_name": "Python 3 (ipykernel)",
   "language": "python",
   "name": "python3"
  },
  "language_info": {
   "codemirror_mode": {
    "name": "ipython",
    "version": 3
   },
   "file_extension": ".py",
   "mimetype": "text/x-python",
   "name": "python",
   "nbconvert_exporter": "python",
   "pygments_lexer": "ipython3",
   "version": "3.12.2"
  }
 },
 "nbformat": 4,
 "nbformat_minor": 4
}
