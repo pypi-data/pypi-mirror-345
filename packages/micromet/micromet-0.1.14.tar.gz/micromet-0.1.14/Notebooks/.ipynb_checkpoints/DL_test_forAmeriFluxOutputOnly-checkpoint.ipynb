{
 "cells": [
  {
   "cell_type": "code",
   "execution_count": null,
   "id": "initial_id",
   "metadata": {
    "ExecuteTime": {
     "end_time": "2024-11-21T19:15:52.416435Z",
     "start_time": "2024-11-21T19:15:43.424267Z"
    }
   },
   "outputs": [],
   "source": [
    "import pandas as pd\n",
    "\n",
    "import sys\n",
    "import pathlib\n",
    "\n",
    "import statsmodels.api as sm\n",
    "#import pingouin as pg\n",
    "import plotly.express as px\n",
    "\n",
    "import numpy as np\n",
    "import matplotlib.pyplot as plt\n",
    "from ipywidgets import widgets, HBox, Dropdown, IntSlider, interact\n",
    "from IPython.display import display\n",
    "\n",
    "%matplotlib inline"
   ]
  },
  {
   "cell_type": "code",
   "execution_count": null,
   "id": "61e3a29165852b08",
   "metadata": {
    "ExecuteTime": {
     "end_time": "2024-11-21T19:15:53.000653Z",
     "start_time": "2024-11-21T19:15:52.418443Z"
    }
   },
   "outputs": [],
   "source": [
    "#sys.path.append(\"G:/Shared drives/UGS_Flux/Data_Processing/Jupyter_Notebooks/MicroMet\")\n",
    "#sys.path.append(\"C:/Users/kladig/Documents/GitHub/MicroMet\")\n",
    "sys.path.append(\"../../Micromet\")\n",
    "import micromet"
   ]
  },
  {
   "cell_type": "code",
   "execution_count": null,
   "id": "f55d5e4d-166c-496c-949b-9102e4217260",
   "metadata": {
    "ExecuteTime": {
     "end_time": "2024-11-21T19:16:30.120640Z",
     "start_time": "2024-11-21T19:15:53.006195Z"
    }
   },
   "outputs": [],
   "source": [
    "# dictionary of station ids as keys and values as subdirectories\n",
    "site_folders = {#'US-UTD':'Dugout_Ranch',\n",
    "                #'US-UTB':'BSF',\n",
    "                #'US-UTJ':'Bluff',\n",
    "                #'US-UTW':'Wellington',\n",
    "                'US-UTE':'Escalante',\n",
    "                #'US-UTM':'Matheson',\n",
    "                #'US-UTP':'Phrag',\n",
    "                #'US-CdM':'Cedar_Mesa',\n",
    "                'US-UTV':'Desert_View_Myton',\n",
    "                }\n",
    "\n",
    "compdf = {}\n",
    "am = micromet.AmerifluxDataProcessor()\n",
    "\n",
    "for key, value in site_folders.items():\n",
    "\n",
    "    print(key)\n",
    "    raw_fold = pathlib.Path('G:/Shared drives/UGS_Flux/Data_Downloads/')\n",
    "    amflux_out = 'G:/Shared drives/UGS_Flux/Data_Processing/Ameriflux/'\n",
    "    raw_data = am.raw_file_compile(raw_fold, value, search_str = \"*Flux_AmeriFluxFormat*.dat\")\n",
    "    if raw_data is not None:\n",
    "        am_data = micromet.Reformatter(raw_data)\n",
    "        am_df = am_data.et_data\n",
    "        compdf[key] = am_df\n",
    "        micromet.outfile(am_df, key, amflux_out)\n",
    "\n",
    "        \n",
    "cdf = pd.concat(compdf,axis=0)\n",
    "\n",
    "# make lists for selection dropdowns in the interactive parts of the code\n",
    "categories = cdf.index.get_level_values(0).unique()\n",
    "fields = list(cdf.columns)"
   ]
  },
  {
   "cell_type": "code",
   "execution_count": null,
   "id": "1fdc201b-4c08-493a-a54a-2b165c086cb3",
   "metadata": {
    "ExecuteTime": {
     "end_time": "2024-11-21T19:16:50.472613Z",
     "start_time": "2024-11-21T19:16:50.346887Z"
    }
   },
   "outputs": [],
   "source": [
    "\n",
    "def filter_data(index_value):\n",
    "    #index_value = change['new']\n",
    "\n",
    "    # Check if input index exists in DataFrame\n",
    "    if index_value in cdf.index:\n",
    "        display(cdf.loc[index_value])\n",
    "    else:\n",
    "        print(f\"Index {index_value} does not exist in DataFrame.\")\n",
    "\n",
    "index_input = interact(filter_data,\n",
    "    index_value = widgets.Dropdown(\n",
    "        options=categories,\n",
    "        value=categories[0],\n",
    "        description='Categories',\n",
    "        disabled=False\n",
    "    ))"
   ]
  },
  {
   "cell_type": "markdown",
   "id": "fc740cef2ec09aca",
   "metadata": {},
   "source": [
    "# Interactive intital Plots"
   ]
  },
  {
   "cell_type": "code",
   "execution_count": null,
   "id": "459998a6-70d1-4bb9-9749-d40287a98b4b",
   "metadata": {
    "ExecuteTime": {
     "end_time": "2024-11-21T19:17:19.863217Z",
     "start_time": "2024-11-21T19:17:18.297884Z"
    }
   },
   "outputs": [],
   "source": [
    "# Create interactive widgets with date range\n",
    "interact(\n",
    "    micromet.plot_timeseries_daterange,\n",
    "    input_df = widgets.fixed(cdf),\n",
    "    selected_station=widgets.Dropdown(\n",
    "        options=categories,\n",
    "        value=categories[0],\n",
    "        description='Categories',\n",
    "        disabled=False\n",
    "    ),\n",
    "    selected_field=widgets.Dropdown(\n",
    "        options=fields,\n",
    "        value=fields[0],\n",
    "        description='Field',\n",
    "        disabled=False\n",
    "    ),\n",
    "    start_date=widgets.DatePicker(\n",
    "        description='Start Date',\n",
    "        value=pd.to_datetime('2020-01-01')\n",
    "    ),\n",
    "    end_date=widgets.DatePicker(\n",
    "        description='End Date',\n",
    "        value=pd.to_datetime('2024-12-31')\n",
    "    )\n",
    ")\n",
    "\n",
    "save_button = widgets.Button(description=\"Save Plot\")\n",
    "save_button.on_click(micromet.save_plot)\n",
    "display(save_button)\n"
   ]
  },
  {
   "cell_type": "code",
   "execution_count": null,
   "id": "f40754ba-b1d3-4b77-bdc5-10e61d314420",
   "metadata": {},
   "outputs": [],
   "source": [
    "UTV = cdf.loc['US-UTV']"
   ]
  },
  {
   "cell_type": "code",
   "execution_count": null,
   "id": "93ad469d-1494-42e2-99dc-98b83d508b82",
   "metadata": {},
   "outputs": [],
   "source": [
    "UTV"
   ]
  },
  {
   "cell_type": "code",
   "execution_count": null,
   "id": "bf0fe985-49f7-444b-baec-6f38b0000685",
   "metadata": {},
   "outputs": [],
   "source": [
    "UTV_filtered = UTV"
   ]
  },
  {
   "cell_type": "code",
   "execution_count": null,
   "id": "62a4e2d1-9622-4678-8775-fdeb2edd9723",
   "metadata": {},
   "outputs": [],
   "source": [
    "# Define the date boundaries\n",
    "start_date = pd.to_datetime('2023-10-15')\n",
    "end_date = pd.to_datetime('2023-11-21')\n",
    "\n",
    "# Create a boolean mask to select rows within August 2024\n",
    "mask = (UTV_filtered.index >= start_date) & (UTV_filtered.index <= end_date)\n",
    "\n",
    "# Set the values of 'tw' to -9999 within August 2024\n",
    "UTV_filtered.loc[mask, 'TA_1_4_1'] = -9999\n",
    "UTV_filtered.loc[mask, 'TS_1_2_1'] = -9999\n",
    "UTV_filtered.loc[mask, 'TS_1_1_1'] = -9999"
   ]
  },
  {
   "cell_type": "code",
   "execution_count": null,
   "id": "5212daac-90f7-4394-ab4a-44dcc5951526",
   "metadata": {},
   "outputs": [],
   "source": [
    "# Define the date boundaries\n",
    "start_date2 = pd.to_datetime('2024-02-20')\n",
    "end_date2 = pd.to_datetime('2024-03-14')\n",
    "\n",
    "# Create a boolean mask to select rows within August 2024\n",
    "mask = (UTV_filtered.index >= start_date2) & (UTV_filtered.index <= end_date2)\n",
    "\n",
    "# Set the values of 'tw' to -9999 within August 2024\n",
    "UTV_filtered.loc[mask, 'TS_1_2_1'] = -9999"
   ]
  },
  {
   "cell_type": "code",
   "execution_count": null,
   "id": "77dd2b75-ca21-415d-9b52-31e30bdb40c4",
   "metadata": {},
   "outputs": [],
   "source": [
    "# Define the date boundaries\n",
    "start_date3 = pd.to_datetime('2024-04-18')\n",
    "end_date3 = pd.to_datetime('2024-10-26')\n",
    "\n",
    "# Create a boolean mask to select rows within August 2024\n",
    "mask = (UTV_filtered.index >= start_date3) & (UTV_filtered.index <= end_date3)\n",
    "\n",
    "# Set the values of 'tw' to -9999 within August 2024\n",
    "UTV_filtered.loc[mask, 'TA_1_4_1'] = -9999\n",
    "UTV_filtered.loc[mask, 'LW_OUT'] = -9999\n",
    "UTV_filtered.loc[mask, 'LW_IN'] = -9999\n",
    "UTV_filtered.loc[mask, 'SW_OUT'] = -9999"
   ]
  },
  {
   "cell_type": "code",
   "execution_count": null,
   "id": "e74ce93a-fe39-4780-b33e-1c2ad60b625e",
   "metadata": {},
   "outputs": [],
   "source": [
    "def replace_low_values(df, column_name, threshold=150, replacement=-9999):\n",
    "  \"\"\"\n",
    "  Replaces values in a specified column of a Pandas DataFrame that are less than a threshold with a replacement value.\n",
    "\n",
    "  Args:\n",
    "    df: Pandas DataFrame.\n",
    "    column_name: Name of the column to modify.\n",
    "    threshold: Threshold value. Values less than this will be replaced.\n",
    "    replacement: Value to replace values below the threshold.\n",
    "\n",
    "  Returns:\n",
    "    Pandas DataFrame with the modified column.\n",
    "  \"\"\"\n",
    "\n",
    "  df[column_name] = np.where(df[column_name] < threshold, replacement, df[column_name])\n",
    "  return df\n"
   ]
  },
  {
   "cell_type": "code",
   "execution_count": null,
   "id": "e94d4035-3d71-4976-9084-75607cd5c2a5",
   "metadata": {},
   "outputs": [],
   "source": [
    "UTV_filtered = replace_low_values(UTV_filtered, 'LW_IN')"
   ]
  },
  {
   "cell_type": "code",
   "execution_count": null,
   "id": "3c26d35f-17f5-41d9-ab62-ed4ef0807a2f",
   "metadata": {},
   "outputs": [],
   "source": [
    "UTV_filtered = replace_low_values(UTV_filtered, 'LW_OUT')"
   ]
  },
  {
   "cell_type": "code",
   "execution_count": null,
   "id": "69118fa4-4926-4603-a426-a7722677bcc8",
   "metadata": {},
   "outputs": [],
   "source": [
    "UTV_filtered"
   ]
  },
  {
   "cell_type": "code",
   "execution_count": null,
   "id": "aee44e88-1978-43cd-b52d-88d666308e4a",
   "metadata": {},
   "outputs": [],
   "source": [
    "UTV_filtered.to_csv(amflux_out + 'US-UTV/US-UTV_HH_202309271530_202412111330.csv')"
   ]
  },
  {
   "cell_type": "code",
   "execution_count": null,
   "id": "6d4d7730-ac84-4628-94cf-fe5cdbae0e17",
   "metadata": {},
   "outputs": [],
   "source": []
  },
  {
   "cell_type": "code",
   "execution_count": null,
   "id": "6b32aec1-47e1-4942-80c5-64319698ca48",
   "metadata": {},
   "outputs": [],
   "source": []
  },
  {
   "cell_type": "code",
   "execution_count": null,
   "id": "46dd8e98-ee5d-48f2-b999-64aa84065fd6",
   "metadata": {},
   "outputs": [],
   "source": []
  },
  {
   "cell_type": "code",
   "execution_count": null,
   "id": "170413d5-c894-44b0-8c60-bcc0b8931fc8",
   "metadata": {},
   "outputs": [],
   "source": []
  },
  {
   "cell_type": "code",
   "execution_count": null,
   "id": "92163bc1-6449-42dc-8346-dcbee8ee9055",
   "metadata": {},
   "outputs": [],
   "source": [
    "UTE = cdf.loc['US-UTE']"
   ]
  },
  {
   "cell_type": "code",
   "execution_count": null,
   "id": "7f424438-83f9-471c-bb61-0532654d7a7a",
   "metadata": {},
   "outputs": [],
   "source": [
    "UTE"
   ]
  },
  {
   "cell_type": "code",
   "execution_count": null,
   "id": "525758cc-c282-4a42-8f08-bb76984e6353",
   "metadata": {},
   "outputs": [],
   "source": []
  },
  {
   "cell_type": "code",
   "execution_count": null,
   "id": "35e96bb5-e68d-408c-bcc7-d9485a33e062",
   "metadata": {},
   "outputs": [],
   "source": []
  },
  {
   "cell_type": "code",
   "execution_count": null,
   "id": "f713e9b9-ec44-4b5b-96b2-edbac7311dba",
   "metadata": {},
   "outputs": [],
   "source": []
  },
  {
   "cell_type": "code",
   "execution_count": null,
   "id": "2422f3d8-6337-42ca-b3ab-66a1ff2ca975",
   "metadata": {},
   "outputs": [],
   "source": []
  },
  {
   "cell_type": "code",
   "execution_count": null,
   "id": "73980e76-a69a-40f1-83a9-c476dfb94eb9",
   "metadata": {},
   "outputs": [],
   "source": []
  },
  {
   "cell_type": "code",
   "execution_count": null,
   "id": "3e172bcd-6247-4594-8491-b5fc03dacfe3",
   "metadata": {},
   "outputs": [],
   "source": []
  },
  {
   "cell_type": "code",
   "execution_count": null,
   "id": "2a264285-be7a-412e-a17a-3b17df399689",
   "metadata": {},
   "outputs": [],
   "source": []
  },
  {
   "cell_type": "code",
   "execution_count": null,
   "id": "b805b8b7-842d-45cf-9b26-b084a0546a84",
   "metadata": {},
   "outputs": [],
   "source": []
  },
  {
   "cell_type": "code",
   "execution_count": null,
   "id": "f5ce9a9e-2649-4974-8e1d-5996dd241dd8",
   "metadata": {},
   "outputs": [],
   "source": [
    "UTD = cdf.loc['US-UTD']"
   ]
  },
  {
   "cell_type": "code",
   "execution_count": null,
   "id": "df025a23-305e-463d-8f13-0a01c11d2dc3",
   "metadata": {},
   "outputs": [],
   "source": [
    "UTD"
   ]
  },
  {
   "cell_type": "code",
   "execution_count": null,
   "id": "7c69b890-5fba-484f-ac89-7250912acf81",
   "metadata": {},
   "outputs": [],
   "source": [
    "CdM = cdf.loc['US-CdM']"
   ]
  },
  {
   "cell_type": "code",
   "execution_count": null,
   "id": "a3236847-d634-44c6-8896-b3bf7ae73068",
   "metadata": {},
   "outputs": [],
   "source": [
    "CdM"
   ]
  },
  {
   "cell_type": "code",
   "execution_count": null,
   "id": "bea0ecdc-11aa-47a4-bfe8-58257c7b49f7",
   "metadata": {},
   "outputs": [],
   "source": [
    "CdM_filtered = CdM[(CdM.index >= pd.to_datetime('2023-10-21 00:00'))] #202310210000"
   ]
  },
  {
   "cell_type": "code",
   "execution_count": null,
   "id": "eaece22a-784f-4b5b-86f7-92c0efe617ba",
   "metadata": {},
   "outputs": [],
   "source": [
    "CdM_filtered"
   ]
  },
  {
   "cell_type": "code",
   "execution_count": null,
   "id": "41350b31-1160-4be4-aa00-03a54b0c65e3",
   "metadata": {},
   "outputs": [],
   "source": [
    "amflux_out = 'G:/Shared drives/UGS_Flux/Data_Processing/Ameriflux/'\n",
    "CdM_filtered = pd.read_csv(amflux_out + 'US-CdM/US-CdM_HH_202310210000_202410081630.csv')"
   ]
  },
  {
   "cell_type": "code",
   "execution_count": null,
   "id": "a4ca24c2-ee34-42ab-a333-7a30a4f34fd7",
   "metadata": {},
   "outputs": [],
   "source": [
    "def subtract_hour_after_date(df, datetime_col, cutoff_date='202312120000'):\n",
    "  \"\"\"\n",
    "  Subtracts one hour from a datetime column for every date after a specified cutoff date.\n",
    "\n",
    "  Args:\n",
    "    df: The pandas DataFrame containing the datetime column.\n",
    "    datetime_col: The name of the datetime column.\n",
    "    cutoff_date: The cutoff date (default: '2024-05-01').\n",
    "\n",
    "  Returns:\n",
    "    A new DataFrame with the modified datetime column.\n",
    "  \"\"\"\n",
    "\n",
    "  cutoff_date = pd.to_datetime(cutoff_date, format = '%Y%m%d%H%M')\n",
    "  df.loc[df[datetime_col] > cutoff_date, datetime_col] -= pd.to_timedelta('1 hour') \n",
    "\n",
    "  return df\n",
    "\n",
    "  df.drop('date_only', axis=1, inplace=True) \n",
    "\n",
    "  return df"
   ]
  },
  {
   "cell_type": "code",
   "execution_count": null,
   "id": "a0bcc201-8e59-4a04-91d6-46629d029b61",
   "metadata": {},
   "outputs": [],
   "source": [
    "CdM_filtered['TIMESTAMP_START'] = pd.to_datetime(CdM_filtered['TIMESTAMP_START'], format = '%Y%m%d%H%M')\n",
    "CdM_filtered['TIMESTAMP_END'] = pd.to_datetime(CdM_filtered['TIMESTAMP_END'], format = '%Y%m%d%H%M')\n",
    "\n",
    "CdM_filtered = subtract_hour_after_date(CdM_filtered, 'TIMESTAMP_START')\n",
    "CdM_filtered = subtract_hour_after_date(CdM_filtered, 'TIMESTAMP_END')"
   ]
  },
  {
   "cell_type": "code",
   "execution_count": null,
   "id": "a832173c-4402-4028-9186-f0bdd908e473",
   "metadata": {},
   "outputs": [],
   "source": [
    "CdM_filtered['TIMESTAMP_START'] = CdM_filtered['TIMESTAMP_START'].astype('str').str.replace('-', '').str.replace(' ', '').str.replace(':', '')\n",
    "CdM_filtered['TIMESTAMP_END'] = CdM_filtered['TIMESTAMP_END'].astype('str').str.replace('-', '').str.replace(' ', '').str.replace(':', '')"
   ]
  },
  {
   "cell_type": "code",
   "execution_count": null,
   "id": "ca4e40ec-0551-4279-9c5e-34cfc9d460f9",
   "metadata": {},
   "outputs": [],
   "source": [
    "CdM_filtered = drop_two_zeros_from_column(CdM_filtered, 'TIMESTAMP_START')\n",
    "\n",
    "CdM_filtered = drop_two_zeros_from_column(CdM_filtered, 'TIMESTAMP_END')"
   ]
  },
  {
   "cell_type": "code",
   "execution_count": null,
   "id": "9baba221-b67d-4a81-b112-02488f17487c",
   "metadata": {},
   "outputs": [],
   "source": [
    "CdM_filtered"
   ]
  },
  {
   "cell_type": "code",
   "execution_count": null,
   "id": "9a593b69-4107-4425-9e3a-f927ad08b816",
   "metadata": {},
   "outputs": [],
   "source": [
    "CdM_filtered.to_csv(amflux_out + 'US-CdM/US-CdM_HH_202310210000_202410081600.csv')"
   ]
  },
  {
   "cell_type": "code",
   "execution_count": null,
   "id": "797063f1-e49c-46da-a4c0-cf8e67992127",
   "metadata": {},
   "outputs": [],
   "source": []
  },
  {
   "cell_type": "code",
   "execution_count": null,
   "id": "a8ef37ca-e580-42d9-89f7-430fbe8da478",
   "metadata": {},
   "outputs": [],
   "source": []
  },
  {
   "cell_type": "code",
   "execution_count": null,
   "id": "6058ef62-fd99-469e-a8a3-fee6bc111932",
   "metadata": {},
   "outputs": [],
   "source": []
  },
  {
   "cell_type": "code",
   "execution_count": null,
   "id": "151ca391-b7fb-4b04-bdb1-6f58c6fc6f7f",
   "metadata": {},
   "outputs": [],
   "source": []
  },
  {
   "cell_type": "code",
   "execution_count": null,
   "id": "a817755b-0c1c-4bd5-a377-39af9b39950d",
   "metadata": {},
   "outputs": [],
   "source": [
    "UTM = cdf.loc['US-UTM']"
   ]
  },
  {
   "cell_type": "code",
   "execution_count": null,
   "id": "6d3ce18f-5d8d-4e6d-817c-da3c4de9b5f8",
   "metadata": {},
   "outputs": [],
   "source": [
    "#start_date = pd.to_datetime('202210261430')\n",
    "#to_delete = [pd.to_datetime('2022-10-26 14:30'), pd.to_datetime('2024-10-09 06:00')]\n",
    "#UTM = UTM[~(UTM.index.strftime('%Y-%m-%d %H:%M').isin(to_delete))]\n",
    "#to_save = [pd.to_datetime('2022-10-26 14:30'), pd.to_datetime('2024-10-09 06:00')] \n",
    "#UTM2 = UTM[~UTM.index.isin(to_save)] \n",
    "UTM_filtered = UTM[(UTM.index >= pd.to_datetime('2022-10-26 15:00'))] \n"
   ]
  },
  {
   "cell_type": "code",
   "execution_count": null,
   "id": "a07751bf-ee74-4e95-9871-1d29a28be1d6",
   "metadata": {},
   "outputs": [],
   "source": [
    "UTM_filtered"
   ]
  },
  {
   "cell_type": "code",
   "execution_count": null,
   "id": "9346fc1c-f0cc-47c5-8b76-60b41e7f214b",
   "metadata": {},
   "outputs": [],
   "source": [
    "UTM_filtered = UTM_filtered.drop('TA_1_4_1', axis = 1)"
   ]
  },
  {
   "cell_type": "code",
   "execution_count": null,
   "id": "948752fa-baf4-4b5c-b08a-79cc138fc8ce",
   "metadata": {},
   "outputs": [],
   "source": [
    "UTM_filtered = UTM_filtered.drop('RH_1_3_1', axis = 1)"
   ]
  },
  {
   "cell_type": "code",
   "execution_count": null,
   "id": "d90992e9-7297-4bac-8f2e-209826e8f7f6",
   "metadata": {},
   "outputs": [],
   "source": [
    "# Define the date boundaries\n",
    "start_date = pd.to_datetime('2023-05-01')\n",
    "end_date = pd.to_datetime('2024-05-01')\n",
    "\n",
    "# Create boolean masks for the date ranges\n",
    "before_05_2023 = UTM_filtered.index < start_date\n",
    "after_05_2024 = UTM_filtered.index > end_date\n",
    "\n",
    "# Set 'TA' to -9999 for the specified date ranges\n",
    "UTM_filtered.loc[before_05_2023, 'TA_1_3_1'] = -9999\n",
    "UTM_filtered.loc[after_05_2024, 'TA_1_3_1'] = -9999\n",
    "UTM_filtered.loc[before_05_2023, 'RH_1_3_1'] = -9999"
   ]
  },
  {
   "cell_type": "code",
   "execution_count": null,
   "id": "b46cfb13-e656-4bc9-a568-b60fd963942f",
   "metadata": {},
   "outputs": [],
   "source": [
    "start_date2 = pd.to_datetime('2024-08-01')\n",
    "end_date2 = pd.to_datetime('2024-08-31')\n",
    "\n",
    "# Create a boolean mask to select rows within August 2024\n",
    "mask = (UTM_filtered.index >= start_date2) & (UTM_filtered.index <= end_date2)\n",
    "\n",
    "# Set the values of 'tw' to -9999 within August 2024\n",
    "UTM_filtered.loc[mask, 'LW_IN'] = -9999\n"
   ]
  },
  {
   "cell_type": "code",
   "execution_count": null,
   "id": "4adfd5af-a629-4cc1-a30b-310b71b99c46",
   "metadata": {},
   "outputs": [],
   "source": [
    "start_date3 = pd.to_datetime('2024-10-10')\n",
    "end_date3 = pd.to_datetime('2024-10-18')\n",
    "\n",
    "# Create a boolean mask to select rows within August 2024\n",
    "mask = (UTM_filtered.index >= start_date3) & (UTM_filtered.index <= end_date3)\n",
    "\n",
    "# Set the values of 'tw' to -9999 within August 2024\n",
    "UTM_filtered.loc[mask, 'LW_IN'] = -9999"
   ]
  },
  {
   "cell_type": "code",
   "execution_count": null,
   "id": "03f32e5a-37ef-4dc6-a2bf-a7ab115f9a2a",
   "metadata": {},
   "outputs": [],
   "source": [
    "UTM_filtered.reset_index(drop=True, inplace=True)"
   ]
  },
  {
   "cell_type": "code",
   "execution_count": null,
   "id": "ded08a81-ab46-407c-93b9-83b60bbd52d5",
   "metadata": {},
   "outputs": [],
   "source": [
    "UTM_filtered"
   ]
  },
  {
   "cell_type": "code",
   "execution_count": null,
   "id": "3c030dd9-3395-4c30-84db-4c984feaa168",
   "metadata": {},
   "outputs": [],
   "source": [
    "def subtract_hour_after_date(df, datetime_col, cutoff_date='202405010000'):\n",
    "  \"\"\"\n",
    "  Subtracts one hour from a datetime column for every date after a specified cutoff date.\n",
    "\n",
    "  Args:\n",
    "    df: The pandas DataFrame containing the datetime column.\n",
    "    datetime_col: The name of the datetime column.\n",
    "    cutoff_date: The cutoff date (default: '2024-05-01').\n",
    "\n",
    "  Returns:\n",
    "    A new DataFrame with the modified datetime column.\n",
    "  \"\"\"\n",
    "\n",
    "  cutoff_date = pd.to_datetime(cutoff_date, format = '%Y%m%d%H%M')\n",
    "  df.loc[df[datetime_col] > cutoff_date, datetime_col] -= pd.to_timedelta('1 hour') \n",
    "\n",
    "  return df\n",
    "\n",
    "  df.drop('date_only', axis=1, inplace=True) \n",
    "\n",
    "  return df"
   ]
  },
  {
   "cell_type": "code",
   "execution_count": null,
   "id": "2a85eca8-943c-42d9-9068-4d3af76da3a1",
   "metadata": {},
   "outputs": [],
   "source": [
    "dtypelist = UTM_filtered.dtypes\n",
    "print(dtypelist)"
   ]
  },
  {
   "cell_type": "code",
   "execution_count": null,
   "id": "12a3c072-2bf4-401a-af00-e63cea93fbec",
   "metadata": {},
   "outputs": [],
   "source": [
    "UTM_filtered['TIMESTAMP_START'] = pd.to_datetime(UTM_filtered['TIMESTAMP_START'], format = '%Y%m%d%H%M')"
   ]
  },
  {
   "cell_type": "code",
   "execution_count": null,
   "id": "1727a007-a94f-4400-9744-922e75ad9166",
   "metadata": {},
   "outputs": [],
   "source": [
    "UTM_filtered['TIMESTAMP_END'] = pd.to_datetime(UTM_filtered['TIMESTAMP_END'], format = '%Y%m%d%H%M')"
   ]
  },
  {
   "cell_type": "code",
   "execution_count": null,
   "id": "5321fac0-0990-490f-96d2-84c01dd3b3de",
   "metadata": {},
   "outputs": [],
   "source": [
    "UTM_filtered = subtract_hour_after_date(UTM_filtered, 'TIMESTAMP_END', '202405010000')"
   ]
  },
  {
   "cell_type": "code",
   "execution_count": null,
   "id": "c9d02095-f631-46f4-987c-3d438153bf41",
   "metadata": {},
   "outputs": [],
   "source": [
    "UTM_filtered = subtract_hour_after_date(UTM_filtered, 'TIMESTAMP_START', '202405010000')"
   ]
  },
  {
   "cell_type": "code",
   "execution_count": null,
   "id": "9fa8154c-8982-4dfe-914a-e44626c7d809",
   "metadata": {},
   "outputs": [],
   "source": [
    "UTM_filtered['TIMESTAMP_START'] = UTM_filtered['TIMESTAMP_START'].astype('str').str.replace('-', '').str.replace(' ', '').str.replace(':', '')\n",
    "UTM_filtered['TIMESTAMP_END'] = UTM_filtered['TIMESTAMP_END'].astype('str').str.replace('-', '').str.replace(' ', '').str.replace(':', '')"
   ]
  },
  {
   "cell_type": "code",
   "execution_count": null,
   "id": "9223cb0f-653a-4317-ad68-1c75e834eea1",
   "metadata": {},
   "outputs": [],
   "source": [
    "UTM_filtered"
   ]
  },
  {
   "cell_type": "code",
   "execution_count": null,
   "id": "31473403-4005-42a6-8090-d3a6776dcf10",
   "metadata": {},
   "outputs": [],
   "source": [
    "def drop_two_zeros_from_column(df, column_name):\n",
    "  \"\"\"\n",
    "  Drops the last two zeros from the end of every string in a specified column of a pandas DataFrame.\n",
    "\n",
    "  Args:\n",
    "    df: The pandas DataFrame.\n",
    "    column_name: The name of the column containing the strings.\n",
    "\n",
    "  Returns:\n",
    "    A new DataFrame with the modified column.\n",
    "  \"\"\"\n",
    "\n",
    "  def drop_two_trailing_zeros(string):\n",
    "    if string.endswith(\"00\"):\n",
    "      return string[:-2]\n",
    "    else:\n",
    "      return string\n",
    "\n",
    "  df[column_name] = df[column_name].apply(drop_two_trailing_zeros)\n",
    "  return df"
   ]
  },
  {
   "cell_type": "code",
   "execution_count": null,
   "id": "dcf80782-8dd3-4f8c-bfa2-6f1d25f761ee",
   "metadata": {},
   "outputs": [],
   "source": [
    "UTM_filtered = drop_two_zeros_from_column(UTM_filtered, 'TIMESTAMP_START')\n",
    "\n",
    "UTM_filtered = drop_two_zeros_from_column(UTM_filtered, 'TIMESTAMP_END')"
   ]
  },
  {
   "cell_type": "code",
   "execution_count": null,
   "id": "331037de-c487-48ca-8986-5818b03dcfc9",
   "metadata": {},
   "outputs": [],
   "source": [
    "UTM_filtered"
   ]
  },
  {
   "cell_type": "code",
   "execution_count": null,
   "id": "0ffc2112-45d3-458c-951a-7c0ce4fb60d5",
   "metadata": {},
   "outputs": [],
   "source": [
    "UTM_filtered.to_csv(amflux_out + 'US-UTM/US-UTM_HH_202210261500_202412110700.csv')"
   ]
  },
  {
   "cell_type": "code",
   "execution_count": null,
   "id": "38de4eb5-839b-4689-8067-c5793de48466",
   "metadata": {},
   "outputs": [],
   "source": []
  },
  {
   "cell_type": "code",
   "execution_count": null,
   "id": "b802ce08-b029-41b0-b873-85c73865c26e",
   "metadata": {},
   "outputs": [],
   "source": []
  },
  {
   "cell_type": "code",
   "execution_count": null,
   "id": "cf97a690-7ba0-479e-84d9-95896adfdec6",
   "metadata": {},
   "outputs": [],
   "source": []
  },
  {
   "cell_type": "code",
   "execution_count": null,
   "id": "18270bbd-0e02-42ba-88fa-bcf718082643",
   "metadata": {},
   "outputs": [],
   "source": []
  },
  {
   "cell_type": "code",
   "execution_count": null,
   "id": "3d8bd52e-7005-41f8-bdb4-417b5f74437b",
   "metadata": {},
   "outputs": [],
   "source": [
    "UTW = cdf.loc['US-UTW']"
   ]
  },
  {
   "cell_type": "code",
   "execution_count": null,
   "id": "ef7e9ed3-8271-420c-bbfd-5133e7a5a7f3",
   "metadata": {},
   "outputs": [],
   "source": [
    "UTW_filtered = UTW"
   ]
  },
  {
   "cell_type": "code",
   "execution_count": null,
   "id": "5a566de8-932b-468f-8d86-15e18c73f414",
   "metadata": {},
   "outputs": [],
   "source": [
    "UTW_filtered"
   ]
  },
  {
   "cell_type": "code",
   "execution_count": null,
   "id": "fb8b3c43-e715-409f-a116-b7e14efb54c4",
   "metadata": {},
   "outputs": [],
   "source": [
    "start_date4 = pd.to_datetime('2024-10-12')\n",
    "end_date4 = pd.to_datetime('2024-10-18')\n",
    "\n",
    "# Create a boolean mask to select rows within August 2024\n",
    "mask = (UTW_filtered.index >= start_date4) & (UTW_filtered.index <= end_date4)\n",
    "\n",
    "# Set the values of 'tw' to -9999 within August 2024\n",
    "UTW_filtered.loc[mask, 'LW_IN'] = -9999\n",
    "UTW_filtered.loc[mask, 'LW_OUT'] = -9999\n",
    "UTW_filtered.loc[mask, 'SW_IN'] = -9999"
   ]
  },
  {
   "cell_type": "code",
   "execution_count": null,
   "id": "f4c05c38-033c-4790-8cbf-9f81e9bbc86b",
   "metadata": {},
   "outputs": [],
   "source": [
    "UTW_filtered"
   ]
  },
  {
   "cell_type": "code",
   "execution_count": null,
   "id": "7cbbb865-a496-4243-9c2d-76b59af37283",
   "metadata": {},
   "outputs": [],
   "source": [
    "start_date5 = pd.to_datetime('2022-09-22')\n",
    "end_date5 = pd.to_datetime('2022-10-22')\n",
    "\n",
    "# Create a boolean mask to select rows within August 2024\n",
    "mask = (UTW_filtered.index >= start_date5) & (UTW_filtered.index <= end_date5)\n",
    "\n",
    "# Set the values of 'tw' to -9999 within August 2024\n",
    "UTW_filtered.loc[mask, 'T_SONIC'] = -9999"
   ]
  },
  {
   "cell_type": "code",
   "execution_count": null,
   "id": "aff9434d-1386-4da4-a2e9-7cb41ebb7bdc",
   "metadata": {},
   "outputs": [],
   "source": [
    "UTW_filtered"
   ]
  },
  {
   "cell_type": "code",
   "execution_count": null,
   "id": "89791793-d53c-49ba-a462-95e182bb644e",
   "metadata": {},
   "outputs": [],
   "source": [
    "start_date6 = pd.to_datetime('2023-02-09')\n",
    "end_date6 = pd.to_datetime('2023-02-17')\n",
    "\n",
    "# Create a boolean mask to select rows within August 2024\n",
    "mask = (UTW_filtered.index >= start_date6) & (UTW_filtered.index <= end_date6)\n",
    "\n",
    "# Set the values of 'tw' to -9999 within August 2024\n",
    "UTW_filtered.loc[mask, 'T_SONIC'] = -9999"
   ]
  },
  {
   "cell_type": "code",
   "execution_count": null,
   "id": "7235dcfc-e617-41db-b406-863936d435ef",
   "metadata": {},
   "outputs": [],
   "source": [
    "UTW_filtered"
   ]
  },
  {
   "cell_type": "code",
   "execution_count": null,
   "id": "5eff2f62-b156-418b-a182-225c6bc9496b",
   "metadata": {},
   "outputs": [],
   "source": [
    "start_date7 = pd.to_datetime('2022-09-22')\n",
    "end_date7 = pd.to_datetime('2022-10-22')\n",
    "\n",
    "# Create a boolean mask to select rows within August 2024\n",
    "mask = (UTW_filtered.index >= start_date7) & (UTW_filtered.index <= end_date7)\n",
    "\n",
    "# Set the values of 'tw' to -9999 within August 2024\n",
    "UTW_filtered.loc[mask, 'T_SONIC'] = -9999"
   ]
  },
  {
   "cell_type": "code",
   "execution_count": null,
   "id": "cefd9faa-2b2d-4d7d-8d5b-4c6b7e90a120",
   "metadata": {},
   "outputs": [],
   "source": [
    "UTW_filtered = UTW_filtered.drop('P', axis = 1)"
   ]
  },
  {
   "cell_type": "code",
   "execution_count": null,
   "id": "42831443-a750-4ef6-b981-d02fd8f9b8b3",
   "metadata": {},
   "outputs": [],
   "source": [
    "UTW_filtered"
   ]
  },
  {
   "cell_type": "code",
   "execution_count": null,
   "id": "2c30c9c2-51fb-45af-977d-30fe690af9c8",
   "metadata": {},
   "outputs": [],
   "source": [
    "UTW_filtered.to_csv(amflux_out + 'US-UTW/US-UTW_HH_202105200830_202412111300.csv')"
   ]
  },
  {
   "cell_type": "code",
   "execution_count": null,
   "id": "5ec56b9d-b9d5-4eae-88ef-799d7b1739c7",
   "metadata": {},
   "outputs": [],
   "source": []
  },
  {
   "cell_type": "code",
   "execution_count": null,
   "id": "33623a0f-b2f4-4e7e-b2eb-528da9b8fd12",
   "metadata": {},
   "outputs": [],
   "source": []
  },
  {
   "cell_type": "code",
   "execution_count": null,
   "id": "e5ab4069-b1b3-439c-8cb4-1318a0f80212",
   "metadata": {},
   "outputs": [],
   "source": []
  },
  {
   "cell_type": "code",
   "execution_count": null,
   "id": "6c6a2e5d-9f16-46b7-95fa-73a9616ede9b",
   "metadata": {},
   "outputs": [],
   "source": []
  },
  {
   "cell_type": "code",
   "execution_count": null,
   "id": "67f84eb2-de4e-45fa-9d9b-65053c923355",
   "metadata": {},
   "outputs": [],
   "source": []
  },
  {
   "cell_type": "code",
   "execution_count": null,
   "id": "c534f3f2-a930-4d04-8188-ba1f7bb14ba8",
   "metadata": {},
   "outputs": [],
   "source": []
  },
  {
   "cell_type": "code",
   "execution_count": null,
   "id": "8e1369c519a367c",
   "metadata": {
    "ExecuteTime": {
     "end_time": "2024-07-25T19:53:20.821201Z",
     "start_time": "2024-07-25T19:53:20.795359Z"
    }
   },
   "outputs": [],
   "source": [
    "raw_fold = pathlib.Path('H:/UGS_Flux/Data_Downloads/Wellington')\n",
    "value = 'm20240723'\n",
    "raw_met_data = micromet.raw_file_compile(raw_fold, value, search_str = \"*AmeriFlux*.dat\")\n",
    "\n",
    "print(pd.to_datetime(raw_met_data['TIMESTAMP_START'][0],format='%Y%m%d%H%M'))\n",
    "\n",
    "raw_met_data['datetime'] = pd.date_range(start='2024-07-11 06:00:00', freq='30min', periods=len(raw_met_data))\n",
    "raw_met_data.set_index('datetime', inplace=True)\n",
    "#micromet.Reformatter(raw_met_data)"
   ]
  },
  {
   "cell_type": "code",
   "execution_count": null,
   "id": "41fff546a773de92",
   "metadata": {
    "ExecuteTime": {
     "end_time": "2024-07-25T21:39:44.447Z",
     "start_time": "2024-07-25T21:39:44.436836Z"
    }
   },
   "outputs": [],
   "source": [
    "data.rename(columns={'WD':'csat_WD'})['csat_WD']"
   ]
  },
  {
   "cell_type": "code",
   "execution_count": null,
   "id": "b18cfc388476297b",
   "metadata": {
    "ExecuteTime": {
     "end_time": "2024-07-25T22:24:42.920686Z",
     "start_time": "2024-07-25T22:24:42.898170Z"
    }
   },
   "outputs": [],
   "source": [
    "df_wd = pd.concat([data.rename(columns={'WD':'csat_WD','WS':'csat_WS'}),\n",
    "                  raw_met_data.rename(columns={'WD':'young_WD','WS':'young_WS'}).shift(-1)], axis=1)\n",
    "df_wd = df_wd[['csat_WD','young_WD','csat_WS','young_WS']].dropna(axis=1, how='all')\n",
    "df_wd['csat_wd_rad'] = pg.circ_axial(pg.convert_angles(df_wd['csat_WD'],positive=True),2)\n",
    "csat_wd_mean = pg.circ_mean(pg.convert_angles(df_wd['csat_WD']))\n",
    "df_wd['young_wd_rad'] = pg.circ_axial(pg.convert_angles(df_wd['young_WD'],positive=True),2)\n",
    "young_wd_mean = pg.circ_mean(pg.convert_angles(df_wd['young_WD']))\n",
    "\n",
    "\n",
    "\n",
    "print(csat_wd_mean, young_wd_mean)\n",
    "pg.circ_corrcc(df_wd['csat_wd_rad'], df_wd['young_wd_rad'], correction_uniform=True)"
   ]
  },
  {
   "cell_type": "code",
   "execution_count": null,
   "id": "cf38593cbecb39ff",
   "metadata": {
    "ExecuteTime": {
     "end_time": "2024-07-25T22:24:45.932191Z",
     "start_time": "2024-07-25T22:24:45.866296Z"
    }
   },
   "outputs": [],
   "source": [
    "df_wd.loc[(df_wd['young_wd_rad']>3.2) & (df_wd['csat_wd_rad']<2),'csat_wd_rad'] = df_wd.loc[(df_wd['young_wd_rad']<3.2) & (df_wd['csat_wd_rad']>2),'csat_wd_rad'] + 6.25\n",
    "\n",
    "fig = px.scatter(df_wd, x='csat_wd_rad', y='young_wd_rad', trendline=\"ols\",color=df_wd.index.hour)\n",
    "fig.show()"
   ]
  },
  {
   "cell_type": "code",
   "execution_count": null,
   "id": "9ca90f1f9a602a3b",
   "metadata": {
    "ExecuteTime": {
     "end_time": "2024-07-25T22:08:29.646407Z",
     "start_time": "2024-07-25T22:08:29.573375Z"
    }
   },
   "outputs": [],
   "source": [
    "\n",
    "#fig = px.line(df_wd, y=[\"young_WS\",\"csat_WS\"],\n",
    "#              title='custom tick labels')\n",
    "fig = px.scatter(df_wd, x='young_WS', y='csat_WS', trendline=\"ols\",color=df_wd.index.hour)\n",
    "fig.show()"
   ]
  },
  {
   "cell_type": "code",
   "execution_count": null,
   "id": "cb5754b303166230",
   "metadata": {
    "ExecuteTime": {
     "end_time": "2024-07-25T21:55:24.866535Z",
     "start_time": "2024-07-25T21:55:24.794807Z"
    }
   },
   "outputs": [],
   "source": [
    "\n",
    "\n",
    "fig = px.line(df_wd, y=[\"young_WD\",\"csat_WD\"],\n",
    "              title='custom tick labels')\n",
    "\n",
    "fig.show()"
   ]
  },
  {
   "cell_type": "code",
   "execution_count": null,
   "id": "d705443af955a654",
   "metadata": {
    "ExecuteTime": {
     "end_time": "2024-07-25T21:56:59.309008Z",
     "start_time": "2024-07-25T21:56:58.956543Z"
    }
   },
   "outputs": [],
   "source": [
    "#raw_met_data['SW_IN'].plot()\n",
    "\n",
    "comp_col = 'LW_OUT'\n",
    "\n",
    "sql = \"SELECT * FROM groundwater.amfluxeddy WHERE (groundwater.amfluxeddy.stationid = 'US-UTW') AND (groundwater.amfluxeddy.timestamp_start >= 202407110000)\"\n",
    "data = pd.read_sql(sql, con=engine)\n",
    "data = data.replace(-9999, np.nan)\n",
    "data.set_index('datetime_start', inplace=True)\n",
    "for col in data.columns:\n",
    "    data.rename(columns={col:col.upper()}, inplace=True)\n",
    "#data['SW_IN'].plot()\n",
    "\n",
    "df = pd.concat([data.rename(columns={f'{comp_col}':f'{comp_col}_HF'})[f'{comp_col}_HF'].shift(-1),\n",
    "                raw_met_data.rename(columns={f'{comp_col}':f'{comp_col}_AP'})[f'{comp_col}_AP']],axis=1).dropna()\n",
    "\n",
    "\n",
    "y = df[f'{comp_col}_HF']\n",
    "x = df[f'{comp_col}_AP']\n",
    "X = sm.add_constant(x)\n",
    "model = sm.OLS(y,X)\n",
    "results = model.fit()\n",
    "print(results.params)\n",
    "\n",
    "\n",
    "\n",
    "fig = px.scatter(df, x=f'{comp_col}_HF', y=f'{comp_col}_AP', trendline=\"ols\",color=df.index.hour)\n",
    "\n",
    "ax = pg.plot_blandaltman(x, y)\n",
    "\n",
    "fig.show()\n",
    "print(results.summary())"
   ]
  },
  {
   "cell_type": "code",
   "execution_count": null,
   "id": "a77a60cd343d2c2d",
   "metadata": {
    "ExecuteTime": {
     "end_time": "2024-07-25T21:20:43.573585Z",
     "start_time": "2024-07-25T21:20:43.351136Z"
    }
   },
   "outputs": [],
   "source": [
    "d = pg.plot_blandaltman(x, y)"
   ]
  },
  {
   "cell_type": "code",
   "execution_count": null,
   "id": "c7b67dbde286411c",
   "metadata": {
    "ExecuteTime": {
     "end_time": "2024-07-25T23:35:37.243734Z",
     "start_time": "2024-07-25T23:35:37.223372Z"
    }
   },
   "outputs": [],
   "source": [
    "import plotly.graph_objects as go\n",
    "\n",
    "dt_tm = pd.to_datetime('2024-07-15 11:00')\n",
    "lwin  = data.loc[dt_tm,'LW_IN']\n",
    "lwout = data.loc[dt_tm,'LW_OUT']\n",
    "swin = data.loc[dt_tm,'SW_IN']\n",
    "swout = data.loc[dt_tm,'SW_OUT']\n",
    "shf = data.loc[dt_tm,'G']\n",
    "le = data.loc[dt_tm,'LE']\n",
    "h = data.loc[dt_tm,'H']\n",
    "netrad = data.loc[dt_tm,'NETRAD']\n",
    "\n",
    "\n",
    "import plotly.graph_objects as go\n",
    "\n",
    "fig = go.Figure(data=[go.Sankey(\n",
    "    node = dict(\n",
    "        pad = 15,\n",
    "        thickness = 20,\n",
    "        line = dict(color = \"black\", width = 0.5),\n",
    "        label = [\"Longwave In\", \"Shortwave In\",\"Energy In\", \"Net Radiation\",\"Longwave Out\", \"Shortwave Out\",\"Soil Heat Flux\",\"Latent Energy\",\"Sensible Heat\"],\n",
    "        color = ['red','yellow','orange','red','yellow','green','blue','orange']\n",
    "    ),\n",
    "    link = dict(\n",
    "        source = [0,1,2,2,2,3,3,3,], # indices correspond to labels, eg A1, A2, A1, B1, ...\n",
    "        target = [2,2,3,4,5,6,7,8,],\n",
    "        value = [lwin,swin,netrad,lwout,swout,shf,le,h],\n",
    "        color = ['red','yellow','red','yellow','green','blue','orange']\n",
    "    ))])\n",
    "\n",
    "fig.update_layout(title_text=\"Basic Sankey Diagram\", font_size=10)\n",
    "fig.show()"
   ]
  },
  {
   "cell_type": "code",
   "execution_count": null,
   "id": "d41f87c29df684a0",
   "metadata": {
    "ExecuteTime": {
     "end_time": "2024-07-25T23:07:40.794702Z",
     "start_time": "2024-07-25T23:07:40.788702Z"
    }
   },
   "outputs": [],
   "source": [
    "data.loc[dt_tm,'ALB']"
   ]
  },
  {
   "cell_type": "code",
   "execution_count": null,
   "id": "23c020dbd295c27d",
   "metadata": {
    "ExecuteTime": {
     "end_time": "2024-07-25T21:06:29.597075Z",
     "start_time": "2024-07-25T21:06:29.587152Z"
    }
   },
   "outputs": [],
   "source": [
    "print(df.ptests(paired=True, stars=False))"
   ]
  },
  {
   "cell_type": "code",
   "execution_count": null,
   "id": "ad714db2dc6c0726",
   "metadata": {
    "ExecuteTime": {
     "end_time": "2024-07-25T19:55:33.584797Z",
     "start_time": "2024-07-25T19:55:31.205679Z"
    }
   },
   "outputs": [],
   "source": [
    "sql = \"SELECT * FROM groundwater.amfluxeddy WHERE groundwater.amfluxeddy.stationid = 'US-UTW'\"\n",
    "data = pd.read_sql(sql, con=engine, )\n",
    "\n",
    "data"
   ]
  },
  {
   "cell_type": "code",
   "execution_count": null,
   "id": "ccc659e58a7bd09f",
   "metadata": {},
   "outputs": [],
   "source": [
    "cdf = pd.read_parquet('station_config/station_data/all_data.parquet')\n",
    "cdf.replace(-9999,np.nan,inplace=True)\n",
    "cdf['le_pos'] = cdf['LE'].apply(lambda x: np.nan if x < 0 else x)\n",
    "cdf['et_pos'] = cdf['ET'].apply(lambda x: np.nan if x < 0 else x)\n",
    "\n",
    "utw= cdf.loc['US-UTW']#.loc[pd.to_datetime('2021-01-15'):pd.to_datetime('2022-07-14')].copy(deep=True)\n",
    "\n",
    "utw = utw.dropna(axis=1, how='all')\n",
    "#for col in utd.columns:\n",
    "#    if \"SSITC\" in col:\n",
    "#        utd.drop([col],axis=1,inplace=True)\n",
    "#td.drop(['station','TIMESTAMP_END','TIMESTAMP_START'],axis=1,inplace=True)"
   ]
  },
  {
   "cell_type": "code",
   "execution_count": null,
   "id": "1053007d2ac5b216",
   "metadata": {},
   "outputs": [],
   "source": [
    "cdf"
   ]
  },
  {
   "cell_type": "code",
   "execution_count": null,
   "id": "1b2698d18c17c18b",
   "metadata": {},
   "outputs": [],
   "source": [
    "import plotly.express as px\n",
    "import pandas as pd\n",
    "\n",
    "\n",
    "fig = px.line(utw, x=utw.index, y=['SWC_1_1_1','SWC_2_1_1'], title='Time Series with Rangeslider')\n",
    "\n",
    "fig.update_xaxes(rangeslider_visible=True)\n",
    "fig.show()"
   ]
  },
  {
   "cell_type": "code",
   "execution_count": null,
   "id": "33c421fcdb177773",
   "metadata": {},
   "outputs": [],
   "source": [
    "from scipy.signal import find_peaks\n",
    "import matplotlib.pyplot as plt\n",
    "\n",
    "cdf = pd.read_parquet('station_config/station_data/all_data.parquet')\n",
    "cdf.replace(-9999,np.nan,inplace=True)\n",
    "cdf['le_pos'] = cdf['LE'].apply(lambda x: np.nan if x < 0 else x)\n",
    "cdf['et_pos'] = cdf['ET'].apply(lambda x: np.nan if x < 0 else x)\n",
    "\n",
    "utw= cdf.loc['US-UTW']#.loc[pd.to_datetime('2021-01-15'):pd.to_datetime('2022-07-14')].copy(deep=True)\n",
    "\n",
    "utw = utw.dropna(axis=1, how='all')\n",
    "\n",
    "\n",
    "\n",
    "def find_irr_dates(df, swc_col='SWC_1_1_1', do_plot=False, dist=20, height=35, prom=0.5):\n",
    "    \"\"\"\n",
    "    Finds irrigation dates within a DataFrame.\n",
    "\n",
    "    :param df: A pandas DataFrame containing the data.\n",
    "    :param swc_col: String. The column name in 'df' containing the soil water content data. Should be in units of percent and not a decimal; Default is 'SWC_1_1_1'.\n",
    "    :param do_plot: Boolean. Whether to plot the irrigation dates on a graph. Default is False.\n",
    "    :param dist: Integer. The minimum number of time steps between peaks in 'swc_col'. Default is 20.\n",
    "    :param height: Integer. The minimum height (vertical distance) of the peaks in 'swc_col'. Default is 35(%).\n",
    "    :param prom: Float. The minimum prominence of the peaks in 'swc_col'. Default is 0.5.\n",
    "\n",
    "    :return: A tuple containing the irrigation dates and the corresponding soil water content values.\n",
    "    \"\"\"\n",
    "    df_irr_season = df[df.index.month.isin([4,5,6,7,8,9,10])]\n",
    "    peaks, _ = find_peaks(df_irr_season[swc_col], distance=dist, height=height,prominence=(prom,None))\n",
    "    dates_of_irr = df_irr_season.iloc[peaks].index\n",
    "    swc_during_irr = df_irr_season[swc_col].iloc[peaks]\n",
    "    if do_plot:\n",
    "        plt.plot(df.index,df[swc_col])\n",
    "        plt.plot(dates_of_irr,swc_during_irr, \"x\")\n",
    "        plt.show()\n",
    "    return dates_of_irr, swc_during_irr\n",
    "\n",
    "find_irr_dates(utw, 'SWC_1_1_1',do_plot=True)"
   ]
  },
  {
   "cell_type": "code",
   "execution_count": null,
   "id": "47a4f4080556702a",
   "metadata": {},
   "outputs": [],
   "source": [
    "utw.iloc[peaks].index"
   ]
  },
  {
   "cell_type": "code",
   "execution_count": null,
   "id": "7fc05a91-2c76-4916-a2a2-37a06c2a79b2",
   "metadata": {},
   "outputs": [],
   "source": [
    "camp = pd.read_csv(\"C:/Users/paulinkenbrandt/Downloads/Wellington_Flux_CSFormat.dat\",skiprows=[0,2,3],index_col='TIMESTAMP',\n",
    "                   parse_dates=True)\n",
    "camp = camp[camp.index < pd.to_datetime('2025-01-01')]\n",
    "fig = px.line(camp, x=camp.index, y='TA_1_1_1', title='Time Series with Rangeslider')\n",
    "\n",
    "fig.update_xaxes(rangeslider_visible=True)\n",
    "fig.show()\n",
    "\n",
    "camp"
   ]
  },
  {
   "cell_type": "code",
   "execution_count": null,
   "id": "347765c0-7262-4d7d-8645-2939cd68cc59",
   "metadata": {},
   "outputs": [],
   "source": [
    "fig = px.line(utw, x=utw.index, y=['TA_1_1_1','TA_1_2_1','TA_1_3_1'], title='Time Series with Rangeslider')\n",
    "\n",
    "fig.update_xaxes(rangeslider_visible=True)\n",
    "fig.show()"
   ]
  },
  {
   "cell_type": "code",
   "execution_count": null,
   "id": "80233a4c463d624f",
   "metadata": {},
   "outputs": [],
   "source": [
    "import plotly.express as px\n",
    "import pandas as pd\n",
    "import numpy as np\n",
    "from sklearn.experimental import enable_iterative_imputer\n",
    "from sklearn.impute import IterativeImputer\n",
    "imp_mean = IterativeImputer(random_state=0, max_iter=30, missing_values=np.nan,\n",
    "                            sample_posterior=True,n_nearest_features=100,)\n",
    "imp_mean.fit(utd)\n",
    "#X = [[np.nan, 2, 3], [4, np.nan, 6], [10, np.nan, 9]]\n",
    "new_utd = pd.DataFrame(imp_mean.transform(utd), columns=utd.columns)\n",
    "utd['imp_LE'] = new_utd['LE']\n"
   ]
  },
  {
   "cell_type": "code",
   "execution_count": null,
   "id": "835e17698423a345",
   "metadata": {},
   "outputs": [],
   "source": [
    "fig = px.line(utd, y=['LE'], title='Time Series with Range Slider and Selectors')\n",
    "\n",
    "\n",
    "fig.update_xaxes(\n",
    "    rangeslider_visible=True,\n",
    "    rangeselector=dict(\n",
    "        buttons=list([\n",
    "            dict(count=1, label=\"1m\", step=\"month\", stepmode=\"backward\"),\n",
    "            dict(count=6, label=\"6m\", step=\"month\", stepmode=\"backward\"),\n",
    "            dict(count=1, label=\"YTD\", step=\"year\", stepmode=\"todate\"),\n",
    "            dict(count=1, label=\"1y\", step=\"year\", stepmode=\"backward\"),\n",
    "            dict(step=\"all\")\n",
    "        ])\n",
    "    )\n",
    ")"
   ]
  },
  {
   "cell_type": "code",
   "execution_count": null,
   "id": "601bb08841ee39b3",
   "metadata": {},
   "outputs": [],
   "source": [
    "\n",
    "\n",
    "new_utd.index = utd.index\n",
    "new_utd['NETRAD'].resample('1D').sum().plot()\n",
    "new_utd['LE'].resample('1D').sum().plot()\n",
    "new_utd['G'].resample('1D').sum().plot()\n",
    "new_utd['H'].resample('1D').sum().plot()\n"
   ]
  },
  {
   "cell_type": "code",
   "execution_count": null,
   "id": "f235edc155d64aac",
   "metadata": {},
   "outputs": [],
   "source": [
    "import matplotlib\n",
    "import matplotlib.pyplot as plt\n",
    "\n",
    "dlybalance = new_utd[['LE','NETRAD','G','H']].resample('1D').sum()#.plot()\n",
    "plt.scatter(dlybalance['LE']+dlybalance['H'],dlybalance['NETRAD']-dlybalance['G'])\n",
    "plt.plot([1000,8000],[1000,8000])\n",
    "plt.grid()"
   ]
  },
  {
   "cell_type": "code",
   "execution_count": null,
   "id": "f85057a8485182c0",
   "metadata": {},
   "outputs": [],
   "source": []
  },
  {
   "cell_type": "code",
   "execution_count": null,
   "id": "738dadac330972e2",
   "metadata": {},
   "outputs": [],
   "source": [
    "pd.read_csv(r\"C:\\Users\\paulinkenbrandt\\Downloads\\Dugout Ranch_Flux_AmeriFluxFormat.dat\",skiprows=[0,2,3])"
   ]
  },
  {
   "cell_type": "code",
   "execution_count": null,
   "id": "c7fe681d0d84b6df",
   "metadata": {},
   "outputs": [],
   "source": [
    "sql = \"SELECT * FROM groundwater.amfluxeddy\"\n",
    "df = pd.read_sql(sql, engine)\n",
    "existing = df.station.unique()\n",
    "\n",
    "site_folders = {'US-UTD':'Dugout_Ranch','US-UTB':'BSF','US-UTJ':'Bluff','US-UTW':'Wellington','US-UTE':'Escalante',\n",
    "                'US-UTM':'Matheson','US-UTP':'Phrag','US-CdM':'Cedar_mesa','US-UTV':'Desert_View_Myton'}\n",
    "\n",
    "for key, value in site_folders.items():\n",
    "    if key in existing:\n",
    "        pass\n",
    "    else:\n",
    "        print(key)\n",
    "        raw_fold = pathlib.Path('H:/UGS_Flux/Data_Downloads/')\n",
    "        raw_data = flux_network.raw_file_compile(raw_fold, value)\n",
    "        if raw_data is not None:\n",
    "            am_data = flux_network.Reformatter(raw_data)\n",
    "    \n",
    "            am_df = am_data.et_data\n",
    "            am_df['station'] = key\n",
    "            am_df = flux_network.remove_extra_soil_params(am_df)\n",
    "    \n",
    "            print(len(raw_data))\n",
    "            print(len(am_df))\n",
    "    \n",
    "            am_df.to_sql(name = 'amfluxeddy',schema='groundwater', con=engine, if_exists='append', chunksize=2000)\n",
    "            #am_df.to_csv(f'{key}_amfluxeddy.csv')"
   ]
  },
  {
   "cell_type": "code",
   "execution_count": null,
   "id": "f2defb827557b04c",
   "metadata": {},
   "outputs": [],
   "source": [
    "sql = \"SELECT * FROM groundwater.amfluxeddy\"\n",
    "df = pd.read_sql(sql, engine)\n",
    "statdf = df.set_index(['station','datetime_start'])\n",
    "for station in statdf.index.get_level_values(0).unique():\n",
    "    statdf.loc[station,'ET'].plot()"
   ]
  },
  {
   "cell_type": "code",
   "execution_count": null,
   "id": "fc0a82934870b265",
   "metadata": {},
   "outputs": [],
   "source": []
  },
  {
   "cell_type": "code",
   "execution_count": null,
   "id": "59323f2979f6d9be",
   "metadata": {},
   "outputs": [],
   "source": [
    "statdf.loc['US-UTD']"
   ]
  },
  {
   "cell_type": "code",
   "execution_count": null,
   "id": "9b34d2eb0f07036d",
   "metadata": {},
   "outputs": [],
   "source": []
  }
 ],
 "metadata": {
  "kernelspec": {
   "display_name": "Python 3 (ipykernel)",
   "language": "python",
   "name": "python3"
  },
  "language_info": {
   "codemirror_mode": {
    "name": "ipython",
    "version": 3
   },
   "file_extension": ".py",
   "mimetype": "text/x-python",
   "name": "python",
   "nbconvert_exporter": "python",
   "pygments_lexer": "ipython3",
   "version": "3.12.6"
  }
 },
 "nbformat": 4,
 "nbformat_minor": 5
}
