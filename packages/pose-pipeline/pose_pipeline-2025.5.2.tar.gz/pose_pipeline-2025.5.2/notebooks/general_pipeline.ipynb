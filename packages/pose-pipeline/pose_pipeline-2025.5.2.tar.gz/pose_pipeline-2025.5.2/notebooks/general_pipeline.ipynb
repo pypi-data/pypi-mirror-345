{
 "cells": [
  {
   "cell_type": "code",
   "execution_count": null,
   "id": "a59620b6",
   "metadata": {},
   "outputs": [],
   "source": [
    "%load_ext autoreload\n",
    "%autoreload 2\n",
    "\n",
    "%matplotlib widget\n",
    "#%pylab inline\n",
    "\n",
    "import matplotlib.pyplot as plt\n",
    "import numpy as np\n",
    "import pandas as pd\n",
    "import json\n",
    "import datetime\n",
    "import io\n",
    "import os\n",
    "import sys\n",
    "import cv2\n",
    "\n",
    "os.environ[\"CUDA_VISIBLE_DEVICES\"] = '2'\n",
    "os.environ['PYOPENGL_PLATFORM'] = 'osmesa'\n",
    "\n",
    "# start datajoint using local server\n",
    "import datajoint as dj\n",
    "from pose_pipeline.utils.jupyter import play, play_grid\n",
    "\n",
    "import pose_pipeline\n",
    "pose_pipeline.set_environmental_variables()\n",
    "from pose_pipeline.pipeline import *"
   ]
  },
  {
   "cell_type": "code",
   "execution_count": null,
   "id": "9a220083",
   "metadata": {},
   "outputs": [],
   "source": [
    "# set up tracking method\n",
    "\n",
    "filt = 'video_project=\"SPASTICITY\" or video_project=\"SLING\" or video_project=\"AMPUTEE_SAMPLES\" or video_project=\"PARKINSONS\" or video_project=\"PROSTHETIC_GAIT\"'\n",
    "\n",
    "keys = ((pose_pipeline.Video & filt) - pose_pipeline.TrackingBboxMethod).fetch('KEY')\n",
    "\n",
    "print(f'Missing tracking methods: {len(keys)}')\n",
    "tracking_method = (pose_pipeline.TrackingBboxMethodLookup & 'tracking_method_name=\"MMTrack\"').fetch1('tracking_method')\n",
    "# switched from DeepSortYOLOv4 to MMTrack as it seems to be more reliable\n",
    "for key in keys:\n",
    "    key['tracking_method'] = tracking_method\n",
    "    pose_pipeline.TrackingBboxMethod.insert1(key)\n",
    "\n",
    "pose_pipeline.PersonBbox.populate(filt)\n",
    "keys = ((pose_pipeline.PersonBbox & filt) - pose_pipeline.TopDownMethod).fetch('KEY')\n",
    "\n",
    "print(f'Missing top down methods: {len(keys)}')\n",
    "top_down_method = (pose_pipeline.TopDownMethodLookup & 'top_down_method_name=\"MMPose\"').fetch1('top_down_method')\n",
    "for key in keys:\n",
    "    key['top_down_method'] = top_down_method\n",
    "    pose_pipeline.TopDownMethod.insert1(key)"
   ]
  },
  {
   "cell_type": "code",
   "execution_count": null,
   "id": "3bc5882d",
   "metadata": {},
   "outputs": [],
   "source": [
    "pose_pipeline.OpenPose.populate(filt)\n",
    "pose_pipeline.TrackingBbox.populate(filt)\n",
    "pose_pipeline.TopDownPerson.populate(filt)"
   ]
  }
 ],
 "metadata": {
  "kernelspec": {
   "display_name": "Python 3 (ipykernel)",
   "language": "python",
   "name": "python3"
  },
  "language_info": {
   "codemirror_mode": {
    "name": "ipython",
    "version": 3
   },
   "file_extension": ".py",
   "mimetype": "text/x-python",
   "name": "python",
   "nbconvert_exporter": "python",
   "pygments_lexer": "ipython3",
   "version": "3.8.0"
  }
 },
 "nbformat": 4,
 "nbformat_minor": 5
}
