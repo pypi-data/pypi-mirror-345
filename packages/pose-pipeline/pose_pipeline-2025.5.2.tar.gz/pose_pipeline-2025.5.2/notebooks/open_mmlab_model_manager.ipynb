{
 "cells": [
  {
   "cell_type": "code",
   "execution_count": null,
   "metadata": {},
   "outputs": [],
   "source": [
    "from mim import install, uninstall, list_package, get_model_info, download"
   ]
  },
  {
   "cell_type": "markdown",
   "metadata": {},
   "source": [
    "# Search for mmlab models"
   ]
  },
  {
   "cell_type": "code",
   "execution_count": null,
   "metadata": {},
   "outputs": [],
   "source": [
    "# from mim import get_model_info\n",
    "\n",
    "# get_model_info('mmcls')\n",
    "# get_model_info('mmcls==0.23.0', local=False)\n",
    "# get_model_info('mmcls', models=['resnet'])\n",
    "# get_model_info('mmcls', training_datasets=['cifar-10'])\n",
    "# get_model_info('mmcls', filter_conditions='batch_size>45,epochs>100')\n",
    "# get_model_info('mmcls', filter_conditions='batch_size>45 epochs>100')\n",
    "# get_model_info('mmcls', filter_conditions='128<batch_size<=256')\n",
    "# get_model_info('mmcls', sorted_fields=['batch_size', 'epochs'])\n",
    "# get_model_info('mmcls', shown_fields=['epochs', 'batch_size', 'weight'])"
   ]
  },
  {
   "cell_type": "code",
   "execution_count": null,
   "metadata": {},
   "outputs": [],
   "source": [
    "search_args = {'package': 'mmdet',\n",
    "               'models'  : ['deepsort','bytetrack','qdtrack'],\n",
    "            #    'training_datasets': [],\n",
    "            #    'filter_conditions' : '',\n",
    "            #    'sorted_fields': [],\n",
    "            #    'shown_fields': ['weight','config','model','training_data']\n",
    "               }\n",
    "\n",
    "print_full_checkpoint_path = False\n",
    "\n",
    "search_results = get_model_info(**search_args)\n",
    "\n",
    "print(f'Package Name: {search_args[\"package\"]}')\n",
    "\n",
    "# Getting unique model names\n",
    "model_names = search_results['model'].unique()\n",
    "\n",
    "for m in model_names:\n",
    "    # Get the rows that match the current model name\n",
    "    model_configurations = search_results[search_results['model'] == m]\n",
    "\n",
    "    print(f'    Model Name: {m}')\n",
    "\n",
    "    # Iterate through the different model configurations\n",
    "    for c in model_configurations.index:\n",
    "\n",
    "        print(f'        Config ID: {c}')\n",
    "\n",
    "        # Get the weights for the current model configuration\n",
    "        weight = model_configurations.loc[c]['weight']\n",
    "\n",
    "        # Split the weights into a list if there are multiple\n",
    "        weight = weight.split(',')\n",
    "\n",
    "        if not print_full_checkpoint_path:\n",
    "            # Only take the last part of the path for the checkpoint name for each weight\n",
    "            weight = [w.split('/')[-1] for w in weight]\n",
    "\n",
    "        print(f'            Checkpoint(s): {weight}')"
   ]
  },
  {
   "cell_type": "code",
   "execution_count": null,
   "metadata": {},
   "outputs": [],
   "source": []
  }
 ],
 "metadata": {
  "kernelspec": {
   "display_name": "Python 3",
   "language": "python",
   "name": "python3"
  },
  "language_info": {
   "codemirror_mode": {
    "name": "ipython",
    "version": 3
   },
   "file_extension": ".py",
   "mimetype": "text/x-python",
   "name": "python",
   "nbconvert_exporter": "python",
   "pygments_lexer": "ipython3",
   "version": "3.10.12"
  }
 },
 "nbformat": 4,
 "nbformat_minor": 2
}
