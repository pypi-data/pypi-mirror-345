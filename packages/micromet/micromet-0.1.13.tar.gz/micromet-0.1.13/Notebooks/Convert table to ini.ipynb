{
 "cells": [
  {
   "cell_type": "code",
   "id": "initial_id",
   "metadata": {
    "collapsed": true,
    "ExecuteTime": {
     "end_time": "2024-06-29T22:20:22.812377Z",
     "start_time": "2024-06-29T22:20:22.445393Z"
    }
   },
   "source": [
    "import pandas as pd\n",
    "import pathlib\n",
    "from configparser import ConfigParser"
   ],
   "outputs": [],
   "execution_count": 3
  },
  {
   "metadata": {
    "ExecuteTime": {
     "end_time": "2024-06-29T22:20:23.787638Z",
     "start_time": "2024-06-29T22:20:23.771267Z"
    }
   },
   "cell_type": "code",
   "source": [
    "ameriflux_download = pd.read_csv(\"station_config/AmeriFlux-site-search-results-202406291619.tsv\",sep=\"\\t\",index_col=0)\n",
    "ameriflux_download.columns"
   ],
   "id": "3740d6c48f92cea0",
   "outputs": [
    {
     "data": {
      "text/plain": [
       "Index(['Name', 'Principal Investigator', 'Data Use Policy',\n",
       "       'AmeriFlux BASE Data', 'AmeriFlux FLUXNET Data',\n",
       "       'Vegetation Abbreviation (IGBP)', 'Vegetation Description (IGBP)',\n",
       "       'Climate Class Abbreviation (Koeppen)',\n",
       "       'Climate Class Description (Koeppen)',\n",
       "       'Mean Average Precipitation (mm)',\n",
       "       'Mean Average Temperature (degrees C)', 'Country', 'Latitude (degrees)',\n",
       "       'Longitude (degrees)', 'Elevation (m)', 'Years of AmeriFlux BASE Data',\n",
       "       'AmeriFlux BASE DOI', 'Years of AmeriFlux FLUXNET Data',\n",
       "       'AmeriFlux FLUXNET DOI', 'Site Start', 'Site End',\n",
       "       'BASE variables available', 'FLUXNET variables available'],\n",
       "      dtype='object')"
      ]
     },
     "execution_count": 4,
     "metadata": {},
     "output_type": "execute_result"
    }
   ],
   "execution_count": 4
  },
  {
   "metadata": {},
   "cell_type": "markdown",
   "source": "https://stackoverflow.com/questions/8884188/how-to-read-and-write-ini-file-with-python3",
   "id": "536f2e557d27d7ac"
  },
  {
   "metadata": {
    "ExecuteTime": {
     "end_time": "2024-06-29T22:20:26.050205Z",
     "start_time": "2024-06-29T22:20:25.983053Z"
    }
   },
   "cell_type": "code",
   "source": [
    "# instantiate\n",
    "config = ConfigParser()\n",
    "\n",
    "# parse existing file\n",
    "config.read('station_config/template_config.ini')\n",
    "\n",
    "for ind in ameriflux_download.index:\n",
    "    # read values from a section\n",
    "    #string_val = config.get('section_a', 'string_val')\n",
    "    #bool_val = config.getboolean('section_a', 'bool_val')\n",
    "    #int_val = config.getint('section_a', 'int_val')\n",
    "    #float_val = config.getfloat('section_a', 'pi_val')\n",
    "    \n",
    "    # update existing value\n",
    "\n",
    "    config.set('METADATA', 'climate_file_path', f\"../station_data/{ind}_amfluxeddy.csv\")\n",
    "    config.set('METADATA', 'station_latitude', f\"{ameriflux_download.loc[ind, 'Latitude (degrees)']}\")\n",
    "    config.set('METADATA', 'station_longitude', f\"{ameriflux_download.loc[ind, 'Longitude (degrees)']}\")\n",
    "    config.set('METADATA', 'station_elevation', f\"{ameriflux_download.loc[ind, 'Elevation (m)']}\")\n",
    "    config.set('METADATA', 'site_id', ind)\n",
    "    config.set('METADATA', 'site_name', ameriflux_download.loc[ind, 'Name'])\n",
    "    config.set('METADATA', 'igbp', ameriflux_download.loc[ind, 'Vegetation Abbreviation (IGBP)'])\n",
    "    #config.set('METADATA', 'igbp_comment', ameriflux_download.loc[ind, 'Vegetation Description (IGBP)'])\n",
    "    config.set('METADATA', 'mat', f\"{ameriflux_download.loc[ind, 'Mean Average Temperature (degrees C)']}\")\n",
    "    config.set('METADATA', 'map', f\"{ameriflux_download.loc[ind, 'Mean Average Precipitation (mm)']}\")\n",
    "    config.set('METADATA', 'climate_koeppen', ameriflux_download.loc[ind, 'Climate Class Abbreviation (Koeppen)'])\n",
    "    \n",
    "\n",
    "    # add a new section and some values\n",
    "    #config.add_section('section_b')\n",
    "    #config.set('section_b', 'meal_val', 'spam')\n",
    "    #config.set('section_b', 'not_found_val', '404')\n",
    "    \n",
    "    # save to a file\n",
    "    with open(f'station_config/{ind}.ini', 'w') as configfile:\n",
    "        config.write(configfile)"
   ],
   "id": "e4dd566ce5dbb630",
   "outputs": [],
   "execution_count": 5
  },
  {
   "metadata": {},
   "cell_type": "code",
   "source": "",
   "id": "942331a5a72fc400",
   "outputs": [],
   "execution_count": null
  }
 ],
 "metadata": {
  "kernelspec": {
   "display_name": "Python 3",
   "language": "python",
   "name": "python3"
  },
  "language_info": {
   "codemirror_mode": {
    "name": "ipython",
    "version": 2
   },
   "file_extension": ".py",
   "mimetype": "text/x-python",
   "name": "python",
   "nbconvert_exporter": "python",
   "pygments_lexer": "ipython2",
   "version": "2.7.6"
  }
 },
 "nbformat": 4,
 "nbformat_minor": 5
}
