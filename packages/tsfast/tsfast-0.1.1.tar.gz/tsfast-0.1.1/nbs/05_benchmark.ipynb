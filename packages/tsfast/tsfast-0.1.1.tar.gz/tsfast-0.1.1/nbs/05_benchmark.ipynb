{
 "cells": [
  {
   "cell_type": "raw",
   "metadata": {},
   "source": [
    "---\n",
    "description: Pytorch Models for Sequential Data\n",
    "output-file: benchmark.html\n",
    "title: Benchmarking Module\n",
    "---"
   ]
  },
  {
   "cell_type": "code",
   "execution_count": null,
   "metadata": {},
   "outputs": [],
   "source": [
    "#| default_exp benchmark\n",
    "#| default_cls_lvl 3"
   ]
  },
  {
   "cell_type": "code",
   "execution_count": null,
   "metadata": {},
   "outputs": [],
   "source": [
    "#| export\n",
    "from fastai.data.all import *\n",
    "from tsfast.datasets.core import create_dls_downl\n",
    "import identibench as idb"
   ]
  },
  {
   "cell_type": "code",
   "execution_count": null,
   "metadata": {},
   "outputs": [],
   "source": [
    "#| export\n",
    "BENCHMARK_DL_KWARGS = {\n",
    "    # Simulation Benchmarks\n",
    "    'BenchmarkWH_Simulation':               {'win_sz': 200},\n",
    "    'BenchmarkSilverbox_Simulation':        {'win_sz': 200},\n",
    "    'BenchmarkCascadedTanks_Simulation':   {'win_sz': 150, 'bs': 16},\n",
    "    'BenchmarkEMPS_Simulation':             {'win_sz': 1000},\n",
    "    'BenchmarkCED_Simulation':              {'win_sz': 100, 'bs': 16},\n",
    "    'BenchmarkNoisyWH_Simulation':         {'win_sz': 100, 'stp_sz': 50},\n",
    "    'BenchmarkRobotForward_Simulation':    {'win_sz': 300, 'valid_stp_sz': 4},\n",
    "    'BenchmarkRobotInverse_Simulation':    {'win_sz': 300, 'valid_stp_sz': 4},\n",
    "    'BenchmarkShip_Simulation':             {'win_sz': 100},\n",
    "    'BenchmarkQuadPelican_Simulation':     {'win_sz': 300, 'valid_stp_sz': 40},\n",
    "    'BenchmarkQuadPi_Simulation':          {'win_sz': 200, 'valid_stp_sz': 20},\n",
    "\n",
    "    # Prediction Benchmarks\n",
    "    'BenchmarkWH_Prediction':               {},\n",
    "    'BenchmarkSilverbox_Prediction':        {},\n",
    "    'BenchmarkCascadedTanks_Prediction':   {'bs': 16},\n",
    "    'BenchmarkEMPS_Prediction':             {},\n",
    "    'BenchmarkCED_Prediction':              {'bs': 16},\n",
    "    'BenchmarkNoisyWH_Prediction':         {'stp_sz': 50},\n",
    "    'BenchmarkRobotForward_Prediction':    {'valid_stp_sz': 4},\n",
    "    'BenchmarkRobotInverse_Prediction':    {'valid_stp_sz': 4},\n",
    "    'BenchmarkShip_Prediction':             {},\n",
    "    'BenchmarkQuadPelican_Prediction':     {'valid_stp_sz': 40},\n",
    "    'BenchmarkQuadPi_Prediction':          {'valid_stp_sz': 20},\n",
    "}"
   ]
  },
  {
   "cell_type": "code",
   "execution_count": null,
   "metadata": {},
   "outputs": [],
   "source": [
    "#| export\n",
    "@delegates(create_dls_downl,keep=True)\n",
    "def create_dls_from_spec(\n",
    "    spec: idb.benchmark.BenchmarkSpecBase, # Specification of the benchmark from identibench\n",
    "    **kwargs # kwargs for create_dls_downl\n",
    "    ):\n",
    "    '''\n",
    "    Create a dataloaders object from identibench benchmark specification. Extracts\n",
    "    benchmark specific kwargs from BENCHMARK_DL_KWARGS and adds them to the kwargs for create_dls_downl.\n",
    "    '''\n",
    "    # add kwargs form spec to dl_kwargs if the key is not already in dl_kwargs\n",
    "    spec_kwargs = {\n",
    "        'u': spec.u_cols,\n",
    "        'y': spec.y_cols,\n",
    "        'download_function': spec.download_func,\n",
    "    }\n",
    "\n",
    "    #add prediction specific kwargs\n",
    "    if isinstance(spec, idb.benchmark.BenchmarkSpecPrediction):\n",
    "        spec_kwargs.update({\n",
    "            'win_sz': spec.pred_horizon+spec.init_window,\n",
    "            'valid_stp_sz': spec.pred_step,\n",
    "            'prediction': True\n",
    "        })\n",
    "\n",
    "    #add tsfast specific kwargs using BENCHMARK_DL_KWARGS\n",
    "    if spec.name in BENCHMARK_DL_KWARGS:\n",
    "        spec_kwargs.update(BENCHMARK_DL_KWARGS[spec.name])\n",
    "\n",
    "    dl_kwargs = {**spec_kwargs, **kwargs}\n",
    "    return create_dls_downl(**dl_kwargs)"
   ]
  },
  {
   "cell_type": "code",
   "execution_count": null,
   "metadata": {},
   "outputs": [],
   "source": [
    "#| include: false\n",
    "import nbdev; nbdev.nbdev_export()"
   ]
  },
  {
   "cell_type": "code",
   "execution_count": null,
   "metadata": {},
   "outputs": [],
   "source": []
  }
 ],
 "metadata": {
  "kernelspec": {
   "display_name": "python3",
   "language": "python",
   "name": "python3"
  }
 },
 "nbformat": 4,
 "nbformat_minor": 4
}
