{
 "cells": [
  {
   "cell_type": "code",
   "execution_count": 3,
   "id": "7fad1cb8",
   "metadata": {},
   "outputs": [
    {
     "name": "stdout",
     "output_type": "stream",
     "text": [
      "2025-04-21T165623 - Hello, World!\n"
     ]
    }
   ],
   "source": [
    "import datetime\n",
    "print(f\"{datetime.datetime.today():%Y-%m-%dT%H%M%S} - Hello, World!\")"
   ]
  },
  {
   "cell_type": "code",
   "execution_count": null,
   "id": "f054a5e1",
   "metadata": {},
   "outputs": [],
   "source": [
    "import pathlib\n",
    "from configparser import ConfigParser\n",
    "import datetime\n",
    "import os\n",
    "import pandas as pd"
   ]
  },
  {
   "cell_type": "code",
   "execution_count": null,
   "id": "d978c67a",
   "metadata": {},
   "outputs": [],
   "source": [
    "# Load the default config data\n",
    "default_config_path = f'C:/Users/paulinkenbrandt/Desktop/Flux/{stat}_auto.eddypro'\n",
    "# instantiate\n",
    "config = ConfigParser()\n",
    "\n",
    "# parse existing file\n",
    "config.read(config_path)\n",
    "\n",
    "fpath = pathlib.Path(r\"C:\\Users\\paulinkenbrandt\\Downloads\\UGS Flux SDI12 Addresses Pakbus Metadata and Connection - Site_metadata.csv\")\n",
    "df = pd.read_csv(fpath)\n",
    "df.dropna(subset=['stationid'], inplace=True)\n",
    "df\n",
    "\n",
    "file_dir = \"D:/UGS_Flux/Data_Downloads/Cedar_Mesa\"\n",
    "\n",
    "for stat in df.index:\n",
    "\n",
    "    \n",
    "    site_id = df.loc[stat, 'stationid']\n",
    "    name = df.loc[stat, 'parameter']\n",
    "    latitude = df.loc[stat, 'latitude']\n",
    "    longitude = df.loc[stat, 'longitude']\n",
    "    altitude = df.loc[stat, 'altitude']\n",
    "    canopy_height = df.loc[stat, 'height_canopy']\n",
    "    hf_meth = 5 # method used to correct high frequency data\n",
    "\n",
    "    file_prototype = \"21314_imputed_???_yyyy_mm_dd_HHMM.csv\"\n",
    "    metadata_file = \"station_config/edpro_\" + site_id.split(\"-\")[-1] + \".metadata\"\n",
    "    out_path =  f\"{file_dir}/eddypro_output\"\n",
    "    ex_file=f\"{file_dir}/eddypro_dt_fluxnet_{datetime.datetime.today():%Y-%m-%dT%H%M%S}_adv.csv\"\n",
    "    sa_bin_spectra= f\"{file_dir}/eddypro_binned_cospectra\"\n",
    "    sa_full_spectra= f\"{file_dir}/eddypro_full_cospectra\"\n",
    "\n",
    "    data_path=f\"{file_dir}\"\n",
    "\n",
    "    config.set('Project', 'project_title', f\"{name}\")    \n",
    "    config.set('Project', 'proj_file', metadata_file)\n",
    "    config.set('Project', 'file_prototype', file_prototype)\n",
    "    config.set('Project', 'out_path', out_path)\n",
    "    config.set('Project', 'hf_meth', f\"{hf_meth}\")\n",
    "\n",
    "    config.set('FluxCorrection_SpectralAnalysis_General', 'ex_file', ex_file)\n",
    "    config.set('FluxCorrection_SpectralAnalysis_General', 'sa_bin_spectra', sa_bin_spectra)\n",
    "    config.set('FluxCorrection_SpectralAnalysis_General', 'sa_full_spectra', sa_full_spectra)\n",
    "    config.set('RawProcess_General', 'data_path', data_path)\n",
    "\n",
    "    config_path = f'{file_dir}/{stat}_auto.eddypro'\n",
    "    with open(config_path, 'w') as configfile:\n",
    "        config.write(configfile)\n",
    "    prepend_line(f'../station_config/edpro_{site_id.split(\"-\")[-1]}.metadata', \";EDDYPRO_PROCESSING\")"
   ]
  },
  {
   "cell_type": "markdown",
   "id": "3715a360",
   "metadata": {},
   "source": [
    "[FluxCorrection_SpectralAnalysis_General]\n",
    "sa_start_date=2000-01-01\n",
    "sa_end_date=2025-04-20\n",
    "sa_start_time=00:00\n",
    "sa_end_time=10:14\n",
    "\n",
    "[Project]\n",
    "creation_date=2025-04-20T10:14:24\n",
    "last_change_date=2025-04-21T07:24:18\n",
    "pr_start_date=2023-10-27\n",
    "pr_start_time=00:00\n",
    "pr_end_date=2023-10-28\n",
    "pr_end_time=00:00\n",
    "\n",
    "[RawProcess_TiltCorrection_Settings]\n",
    "pf_start_date=2023-10-27\n",
    "pf_end_date=2023-10-28\n",
    "pf_start_time=00:00\n",
    "pf_end_time=00:00\n",
    "\n",
    "[RawProcess_TimelagOptimization_Settings]\n",
    "to_start_date=2023-10-27\n",
    "to_end_date=2023-10-28\n",
    "to_start_time=00:00\n",
    "to_end_time=10:14"
   ]
  }
 ],
 "metadata": {
  "kernelspec": {
   "display_name": "pyts312",
   "language": "python",
   "name": "python3"
  },
  "language_info": {
   "codemirror_mode": {
    "name": "ipython",
    "version": 3
   },
   "file_extension": ".py",
   "mimetype": "text/x-python",
   "name": "python",
   "nbconvert_exporter": "python",
   "pygments_lexer": "ipython3",
   "version": "3.12.10"
  }
 },
 "nbformat": 4,
 "nbformat_minor": 5
}
