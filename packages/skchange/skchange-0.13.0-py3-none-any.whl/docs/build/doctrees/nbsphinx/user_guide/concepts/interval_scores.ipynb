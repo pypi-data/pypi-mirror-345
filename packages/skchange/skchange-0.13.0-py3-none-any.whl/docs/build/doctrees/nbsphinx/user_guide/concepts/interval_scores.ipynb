{
 "cells": [
  {
   "cell_type": "markdown",
   "metadata": {},
   "source": [
    "# Interval scores"
   ]
  },
  {
   "cell_type": "markdown",
   "metadata": {},
   "source": [
    "The choice of interval score represents the choice of distributional feature(s) to detect changes in.\n",
    "\n",
    "Interval scores are not primarily meant to be used directly, but they are important building blocks to understand to make full use of the library."
   ]
  },
  {
   "cell_type": "markdown",
   "metadata": {},
   "source": [
    "The most basic type of interval scores in Skchange are *costs*.\n",
    "A cost measures the cost/loss/error of a model fit to a data interval `X[s:e]`."
   ]
  },
  {
   "cell_type": "code",
   "execution_count": 1,
   "metadata": {
    "execution": {
     "iopub.execute_input": "2025-04-21T17:52:01.236464Z",
     "iopub.status.busy": "2025-04-21T17:52:01.236464Z",
     "iopub.status.idle": "2025-04-21T17:52:34.907403Z",
     "shell.execute_reply": "2025-04-21T17:52:34.907403Z"
    }
   },
   "outputs": [
    {
     "data": {
      "text/plain": [
       "array([[-5.63978161]])"
      ]
     },
     "execution_count": 1,
     "metadata": {},
     "output_type": "execute_result"
    }
   ],
   "source": [
    "import numpy as np\n",
    "\n",
    "from skchange.costs import GaussianCost\n",
    "\n",
    "X = np.random.rand(100)\n",
    "\n",
    "cost = GaussianCost()  # Cost for a Gaussian model with constant mean and variance.\n",
    "cost.fit(X)  # Set up the cost for the given data.\n",
    "cost.evaluate([0, 10])  # Evaluate the cost for the given interval, X[0:10]."
   ]
  },
  {
   "cell_type": "markdown",
   "metadata": {},
   "source": [
    "Another type of interval score are *change scores*. A change score measures the degree of change between two intervals adjacent `X[s:k]` and `X[k:e]`. They can be statistical tests, time series distances, or any other measure of difference."
   ]
  },
  {
   "cell_type": "code",
   "execution_count": 2,
   "metadata": {
    "execution": {
     "iopub.execute_input": "2025-04-21T17:52:35.053187Z",
     "iopub.status.busy": "2025-04-21T17:52:35.049773Z",
     "iopub.status.idle": "2025-04-21T17:52:35.174149Z",
     "shell.execute_reply": "2025-04-21T17:52:35.174149Z"
    }
   },
   "outputs": [
    {
     "data": {
      "text/plain": [
       "array([[0.30029151]])"
      ]
     },
     "execution_count": 2,
     "metadata": {},
     "output_type": "execute_result"
    }
   ],
   "source": [
    "from skchange.change_scores import CUSUM\n",
    "\n",
    "score = CUSUM()  # CUSUM score for a change in mean.\n",
    "score.fit(X)  # Set up the score for the given data.\n",
    "score.evaluate([0, 5, 10])  # Evaluate the change score between X[0, 5] and X[5, 10]."
   ]
  },
  {
   "cell_type": "markdown",
   "metadata": {},
   "source": [
    "We can also compute several interval scores at once."
   ]
  },
  {
   "cell_type": "code",
   "execution_count": 3,
   "metadata": {
    "execution": {
     "iopub.execute_input": "2025-04-21T17:52:35.174149Z",
     "iopub.status.busy": "2025-04-21T17:52:35.174149Z",
     "iopub.status.idle": "2025-04-21T17:52:35.199924Z",
     "shell.execute_reply": "2025-04-21T17:52:35.199924Z"
    }
   },
   "outputs": [
    {
     "data": {
      "text/plain": [
       "array([[0.30029151],\n",
       "       [0.42547556],\n",
       "       [0.30441832]])"
      ]
     },
     "execution_count": 3,
     "metadata": {},
     "output_type": "execute_result"
    }
   ],
   "source": [
    "score.evaluate([[0, 5, 10], [10, 12, 30], [60, 69, 71]])"
   ]
  },
  {
   "cell_type": "markdown",
   "metadata": {},
   "source": [
    "The computational bottleneck of change detection algorithms is to evaluate an interval score over a large number of intervals and possible splits. In Skchange, this is solved as follows:\n",
    "\n",
    "- In `fit`, relevant quantities are precomputed to speed up the cost evaluations.\n",
    "- In `evaluate`, `numba` is leveraged to efficiently evaluate many interval-split-pairs in one call."
   ]
  },
  {
   "cell_type": "markdown",
   "metadata": {},
   "source": [
    "Moreover, costs can always be used to construct a change score by the following formula:\n",
    "```\n",
    "score.evaluate([start, split, end]) = cost.evaluate([start, end]) - (cost.evaluate([start, split]) + cost.evaluate([split, end]))\n",
    "```\n",
    "You can read this formula as \"score = cost of the interval without a change point - cost of the interval with a single change point\"\n",
    "\n",
    "This means that you can always pass a cost to a change detector, even the ones that expects change scores, because it is converted to a change score internally.\n",
    "\n",
    "At the same time, we also support change scores that can not be reduced to costs. This is different from e.g. the `ruptures` library. There are quite a few important scores that can not be reduced to costs, such as the Mann-Whitney U test, the Kolmogorov-Smirnov test, as well as scores for sparse change detection."
   ]
  }
 ],
 "metadata": {
  "language_info": {
   "codemirror_mode": {
    "name": "ipython",
    "version": 3
   },
   "file_extension": ".py",
   "mimetype": "text/x-python",
   "name": "python",
   "nbconvert_exporter": "python",
   "pygments_lexer": "ipython3",
   "version": "3.12.10"
  }
 },
 "nbformat": 4,
 "nbformat_minor": 2
}
