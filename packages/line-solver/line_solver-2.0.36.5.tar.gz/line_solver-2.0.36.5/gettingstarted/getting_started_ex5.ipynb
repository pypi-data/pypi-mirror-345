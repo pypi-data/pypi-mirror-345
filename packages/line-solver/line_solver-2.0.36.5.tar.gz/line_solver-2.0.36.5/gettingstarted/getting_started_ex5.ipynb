{
 "cells": [
  {
   "cell_type": "markdown",
   "metadata": {},
   "source": ""
  },
  {
   "cell_type": "code",
   "metadata": {
    "ExecuteTime": {
     "end_time": "2024-08-22T06:34:53.050687Z",
     "start_time": "2024-08-22T06:34:53.046201Z"
    }
   },
   "source": [
    "from line_solver import *\n",
    "GlobalConstants.setVerbose(VerboseLevel.STD)"
   ],
   "outputs": [],
   "execution_count": 7
  },
  {
   "cell_type": "code",
   "metadata": {
    "ExecuteTime": {
     "end_time": "2024-08-22T06:34:53.142340Z",
     "start_time": "2024-08-22T06:34:53.059928Z"
    }
   },
   "source": [
    "model = Network('RL')\n",
    "queue = Queue(model, 'Queue', SchedStrategy.FCFS)\n",
    "K = 3\n",
    "N = (1, 0, 0)\n",
    "jobclass = []\n",
    "for k in range(K):\n",
    "    jobclass.append(ClosedClass(model, 'Class' + str(k+1), N[k], queue))\n",
    "    queue.setService(jobclass[k], Erlang.fitMeanAndOrder(1+k, 2))\n",
    "P = model.initRoutingMatrix()\n",
    "P.set(jobclass[0], jobclass[1], queue, queue, 1.0)\n",
    "P.set(jobclass[1], jobclass[2], queue, queue, 1.0)\n",
    "P.set(jobclass[2], jobclass[0], queue, queue, 1.0)\n",
    "model.link(P)\n",
    "sn = model.getStruct()"
   ],
   "outputs": [],
   "execution_count": 8
  },
  {
   "cell_type": "code",
   "source": "ncAvgTable = SolverNC(model).getAvgTable()",
   "metadata": {
    "collapsed": false,
    "ExecuteTime": {
     "end_time": "2024-08-22T06:34:53.326631Z",
     "start_time": "2024-08-22T06:34:53.313969Z"
    }
   },
   "outputs": [
    {
     "name": "stdout",
     "output_type": "stream",
     "text": [
      "  Station JobClass    QLen    Util  RespT  ResidT    ArvR    Tput\n",
      "0   Queue   Class1  0.1667  0.1667    1.0  0.3333  0.1667  0.1667\n",
      "1   Queue   Class2  0.3333  0.3333    2.0  0.6667  0.1667  0.1667\n",
      "2   Queue   Class3  0.5000  0.5000    3.0  1.0000  0.1667  0.1667\n"
     ]
    }
   ],
   "execution_count": 9
  },
  {
   "cell_type": "code",
   "source": "ncAvgSysTable = SolverNC(model).getAvgSysTable()",
   "metadata": {
    "collapsed": false,
    "ExecuteTime": {
     "end_time": "2024-08-22T06:34:53.442665Z",
     "start_time": "2024-08-22T06:34:53.409707Z"
    }
   },
   "outputs": [
    {
     "name": "stdout",
     "output_type": "stream",
     "text": [
      "    Chain              JobClasses  SysRespT  SysTput\n",
      "0  Chain1  (Class1 Class2 Class3)       2.0      0.5\n"
     ]
    }
   ],
   "execution_count": 10
  },
  {
   "cell_type": "code",
   "source": [
    "jobclass[0].completes = False\n",
    "jobclass[1].completes = False\n",
    "ncAvgSysTable2 = SolverNC(model).getAvgSysTable()"
   ],
   "metadata": {
    "collapsed": false,
    "ExecuteTime": {
     "end_time": "2024-08-22T06:34:53.542285Z",
     "start_time": "2024-08-22T06:34:53.492269Z"
    }
   },
   "outputs": [
    {
     "name": "stdout",
     "output_type": "stream",
     "text": [
      "    Chain              JobClasses  SysRespT  SysTput\n",
      "0  Chain1  (Class1 Class2 Class3)       6.0   0.1667\n"
     ]
    }
   ],
   "execution_count": 11
  },
  {
   "metadata": {
    "ExecuteTime": {
     "end_time": "2024-08-22T06:34:53.658471Z",
     "start_time": "2024-08-22T06:34:53.570370Z"
    }
   },
   "cell_type": "code",
   "source": "ncAvgSysTable = SolverNC(model).getAvgSysTable()",
   "outputs": [
    {
     "name": "stdout",
     "output_type": "stream",
     "text": [
      "    Chain              JobClasses  SysRespT  SysTput\n",
      "0  Chain1  (Class1 Class2 Class3)       6.0   0.1667\n"
     ]
    }
   ],
   "execution_count": 12
  }
 ],
 "metadata": {
  "kernelspec": {
   "display_name": "Python 3",
   "language": "python",
   "name": "python3"
  },
  "language_info": {
   "codemirror_mode": {
    "name": "ipython",
    "version": 3
   },
   "file_extension": ".py",
   "mimetype": "text/x-python",
   "name": "python",
   "nbconvert_exporter": "python",
   "pygments_lexer": "ipython3",
   "version": "3.6.4"
  }
 },
 "nbformat": 4,
 "nbformat_minor": 2
}
