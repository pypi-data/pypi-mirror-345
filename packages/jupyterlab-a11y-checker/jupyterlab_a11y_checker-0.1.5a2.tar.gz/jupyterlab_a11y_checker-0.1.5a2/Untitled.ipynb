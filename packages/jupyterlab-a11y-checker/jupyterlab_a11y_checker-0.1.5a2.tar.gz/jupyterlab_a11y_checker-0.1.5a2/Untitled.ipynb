{
 "cells": [
  {
   "cell_type": "markdown",
   "id": "3ea5a37d-8c8e-48c3-b62e-1d34686c4320",
   "metadata": {},
   "source": [
    "Image with no alt text (should error), axe core rule ID image-alt\t\n",
    "<img src=\"https://zumvet.com/blog/wp-content/uploads/2023/01/close-up-red-cat-with-green-eyes-looking-straight-towards-camera.jpg\" alt=\"Hello, this is the input thext.\">"
   ]
  },
  {
   "cell_type": "markdown",
   "id": "e797e9f5-ca9e-47a5-8ae7-1643a0eec87c",
   "metadata": {},
   "source": [
    "<table border=\"1\">\n",
    "  <caption>This is a table caption</caption>\n",
    "  <tbody><tr>\n",
    "    <th scope=\"col\">Header 1</th>\n",
    "    <th scope=\"col\">Header 2</th>\n",
    "    <th scope=\"col\">Header 3</th>\n",
    "  </tr>\n",
    "  <tr>\n",
    "    <th scope=\"row\">Header 1</th>\n",
    "    <td>Row 1, Cell 1</td>\n",
    "    <td>Row 1, Cell 2</td>\n",
    "    <td>Row 1, Cell 3</td>\n",
    "  </tr>\n",
    "  <tr>\n",
    "    <th scope=\"row\">Header 2</th>\n",
    "    <td>Row 2, Cell 1</td>\n",
    "    <td>Row 2, Cell 2</td>\n",
    "    <td>Row 2, Cell 3</td>\n",
    "  </tr>\n",
    "</tbody></table>"
   ]
  },
  {
   "cell_type": "code",
   "execution_count": null,
   "id": "d59d3cce-acd8-4b87-9eed-0e685f5b2b1b",
   "metadata": {},
   "outputs": [],
   "source": []
  }
 ],
 "metadata": {
  "kernelspec": {
   "display_name": "Python 3 (ipykernel)",
   "language": "python",
   "name": "python3"
  },
  "language_info": {
   "codemirror_mode": {
    "name": "ipython",
    "version": 3
   },
   "file_extension": ".py",
   "mimetype": "text/x-python",
   "name": "python",
   "nbconvert_exporter": "python",
   "pygments_lexer": "ipython3",
   "version": "3.13.2"
  }
 },
 "nbformat": 4,
 "nbformat_minor": 5
}
