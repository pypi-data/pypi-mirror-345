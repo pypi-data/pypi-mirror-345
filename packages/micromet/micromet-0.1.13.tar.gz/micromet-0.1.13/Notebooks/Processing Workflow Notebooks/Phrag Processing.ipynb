{
 "cells": [
  {
   "metadata": {
    "ExecuteTime": {
     "end_time": "2025-01-04T04:37:31.018672Z",
     "start_time": "2025-01-04T04:37:31.013426Z"
    }
   },
   "cell_type": "code",
   "source": "",
   "id": "b5e580bdf0b1a898",
   "outputs": [],
   "execution_count": 18
  },
  {
   "metadata": {},
   "cell_type": "code",
   "outputs": [],
   "execution_count": null,
   "source": "",
   "id": "a9dff64490e49586"
  }
 ],
 "metadata": {
  "kernelspec": {
   "display_name": "Python 3",
   "language": "python",
   "name": "python3"
  },
  "language_info": {
   "codemirror_mode": {
    "name": "ipython",
    "version": 2
   },
   "file_extension": ".py",
   "mimetype": "text/x-python",
   "name": "python",
   "nbconvert_exporter": "python",
   "pygments_lexer": "ipython2",
   "version": "2.7.6"
  }
 },
 "nbformat": 4,
 "nbformat_minor": 5
}
