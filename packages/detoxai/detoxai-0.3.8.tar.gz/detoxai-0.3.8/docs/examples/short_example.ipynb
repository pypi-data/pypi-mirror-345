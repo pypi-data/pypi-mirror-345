{
 "cells": [
  {
   "cell_type": "markdown",
   "id": "87d68d37",
   "metadata": {},
   "source": [
    "# A minimal code snippet"
   ]
  },
  {
   "cell_type": "code",
   "execution_count": null,
   "id": "c98f3a6b",
   "metadata": {},
   "outputs": [],
   "source": [
    "import torch\n",
    "import torchvision\n",
    "import detoxai\n",
    "\n",
    "\n",
    "model = torchvision.models.resnet18(pretrained=True)\n",
    "model.fc = torch.nn.Linear(model.fc.in_features, 2)  # Make it binary classification\n",
    "\n",
    "X = torch.rand(128, 3, 224, 224)\n",
    "Y = torch.randint(0, 2, size=(128,))\n",
    "PA = torch.randint(0, 2, size=(128,))\n",
    "\n",
    "dataloader = torch.utils.data.DataLoader(list(zip(X, Y, PA)), batch_size=32)\n",
    "\n",
    "results: dict[str, detoxai.CorrectionResult] = detoxai.debias(model, dataloader)"
   ]
  }
 ],
 "metadata": {
  "kernelspec": {
   "display_name": ".venv",
   "language": "python",
   "name": "python3"
  },
  "language_info": {
   "codemirror_mode": {
    "name": "ipython",
    "version": 3
   },
   "file_extension": ".py",
   "mimetype": "text/x-python",
   "name": "python",
   "nbconvert_exporter": "python",
   "pygments_lexer": "ipython3",
   "version": "3.11.11"
  }
 },
 "nbformat": 4,
 "nbformat_minor": 5
}
