{
 "cells": [
  {
   "cell_type": "markdown",
   "metadata": {},
   "source": [
    "Opsmate is designed to be predominantly used via CLI and Web UI. That being said it is also trivial to use it for high-level automation via Python runtime. You can consider Opsmate as the \"AppleScript\" for your production enviornment.\n",
    "\n",
    "In this cookbook we will show you how to use Opsmate for performing automation tasks."
   ]
  },
  {
   "cell_type": "markdown",
   "metadata": {},
   "source": [
    "## Prerequisites\n",
    "\n",
    "* You have a OpenAI API key, otherwise Anthropic API key is also supported, as Opsmate is LLM provider agnostic.\n",
    "* You have Opsmate installed - see [getting started](/#getting-started) for more details.\n"
   ]
  },
  {
   "cell_type": "markdown",
   "metadata": {},
   "source": [
    "## Setup\n",
    "\n",
    "First, let's install our required packages and set our API keys."
   ]
  },
  {
   "cell_type": "code",
   "execution_count": 4,
   "metadata": {},
   "outputs": [],
   "source": [
    "import getpass\n",
    "import os\n",
    "\n",
    "\n",
    "def _set_if_undefined(var: str) -> None:\n",
    "    if os.environ.get(var):\n",
    "        return\n",
    "    os.environ[var] = getpass.getpass(var)\n",
    "\n",
    "\n",
    "_set_if_undefined(\"OPENAI_API_KEY\") # Feel to comment this out and use Anthropic API key instead\n",
    "_set_if_undefined(\"ANTHROPIC_API_KEY\")\n"
   ]
  },
  {
   "cell_type": "markdown",
   "metadata": {},
   "source": [
    "## Introducing `dino`\n",
    "Under the hood of Opsmate it is powered by `dino` (short for \"Dino IS NOT Opsmate\") - a lightweight framework that allows you to write LLM powered scripts in a functional manner.\n",
    "\n",
    "Here are some of the core design principles of `dino`:\n",
    "\n",
    "* Enable end-developers to write code in a **high-level and functional** manner.\n",
    "* Extact the implementation details of an execution procedure away from the code and delegate it to LLM tool calls, so that the end-developers can **focus on the business logic**.\n",
    "* **Structured outputs** out of box over raw text outputs/schemas, allowing easy validation, chaining and integration with other functions, libraries and tools.\n",
    "* The **LLM is swappable**, allowing you to use different LLM providers without changing the code.\n",
    "\n",
    "\n",
    "## Getting Started\n",
    "\n",
    "Let's start with a simple script that will show you how to use Opsmate for scripting."
   ]
  },
  {
   "cell_type": "code",
   "execution_count": 3,
   "metadata": {},
   "outputs": [
    {
     "name": "stdout",
     "output_type": "stream",
     "text": [
      "1234567890\n"
     ]
    }
   ],
   "source": [
    "from opsmate.dino import dino\n",
    "\n",
    "@dino(model=\"gpt-4o-mini\", response_model=str)\n",
    "async def extract_phone_number(text: str):\n",
    "  \"\"\"\n",
    "  Extract phone number digits from the text\n",
    "  \"\"\"\n",
    "  return text\n",
    "\n",
    "\n",
    "phone_number = await extract_phone_number(\"My phone number is 123-456-7890\")\n",
    "assert phone_number == \"1234567890\"\n",
    "print(phone_number)"
   ]
  },
  {
   "cell_type": "markdown",
   "metadata": {},
   "source": [
    "In the above script, we have defined a function `extract_phone_number` that takes a text as input and returns the extracted phone number as output.\n",
    "\n",
    "The `@dino` decorator is used to define the function, and it takes the following arguments:\n",
    "\n",
    "* `model`: The LLM model to use.\n",
    "* `response_model`: The type of the output.\n",
    "\n",
    "Note that there is a `Extract phone number digits from the text` docstring in the function definition. This is essentially used as a system prompt for the LLM to follow, and help it to understand the purpose of the function.\n"
   ]
  },
  {
   "cell_type": "markdown",
   "metadata": {},
   "source": [
    "## Structured Outputs\n",
    "\n",
    "Structured output is one of the core features of `dino`. It allows you to define the output type of your function in a structured manner, and `dino` will automatically parse the output for you.\n",
    "\n",
    "In the example above, we have defined the output type as `str`, and `dino` will automatically parse the output for you. It also support more complex and nuanced structures, namely Pydantic models.\n",
    "\n",
    "Here is an example of structured output:"
   ]
  },
  {
   "cell_type": "code",
   "execution_count": 4,
   "metadata": {},
   "outputs": [
    {
     "name": "stdout",
     "output_type": "stream",
     "text": [
      "[UserInfo(name='Matt', phone_number='1234567890'), UserInfo(name='John', phone_number='1234567891')]\n"
     ]
    }
   ],
   "source": [
    "from pydantic import BaseModel, Field, field_validator\n",
    "from typing import List\n",
    "\n",
    "\n",
    "class UserInfo(BaseModel):\n",
    "  name: str = Field(description=\"The name of the user\")\n",
    "  phone_number: str = Field(description=\"The phone number of the user, must be all digits\")\n",
    "\n",
    "  @field_validator(\"phone_number\")\n",
    "  def validate_phone_number(cls, v: str) -> str:\n",
    "    if not v.isdigit():\n",
    "      raise ValueError(\"Phone number must be all digits\")\n",
    "    return v\n",
    "\n",
    "@dino(model=\"gpt-4o-mini\", response_model=List[UserInfo])\n",
    "async def extract_user_info(text: str):\n",
    "  \"\"\"\n",
    "  Extract all the user information from the text\n",
    "  \"\"\"\n",
    "  return text\n",
    "\n",
    "user_infos = await extract_user_info(\"\"\"\n",
    "You can call Matt at 123-456-7890. John's number is the same except for the last digit being 1.\n",
    "\"\"\")\n",
    "\n",
    "assert len(user_infos) == 2\n",
    "assert user_infos[0].name == \"Matt\"\n",
    "assert user_infos[0].phone_number == \"1234567890\"\n",
    "assert user_infos[1].name == \"John\"\n",
    "assert user_infos[1].phone_number == \"1234567891\"\n",
    "\n",
    "print(user_infos)\n"
   ]
  },
  {
   "cell_type": "markdown",
   "metadata": {},
   "source": [
    "In the example above we not only defined the output type as a list of `UserInfo`, but also make sure that the `phone_number` is all digits. Under the hood if the LLM returns a phone number that is not all digits, `dino` will automatically retry the function call for better results.\n",
    "\n",
    "Note that `dino` also comes with nuanced type hinting. If you hover over the `extract_user_info` function, you will see that it is typed as follows by your IDE/Text editor:\n",
    "\n",
    "```\n",
    "(function) def extract_user_info(text: str) -> Awaitable[List[UserInfo]]\n",
    "Extract all the user information from the text\n",
    "```"
   ]
  },
  {
   "cell_type": "markdown",
   "metadata": {},
   "source": [
    "## Tool Calls\n",
    "\n",
    "Most of the time you will need opsmate to interact with the production environment, in which case you will need to use \"tool calls\" to the system as the LLM along has no knowledge of your system.\n",
    "\n",
    "Here is an example of how to use tool calls to achieve your goal:"
   ]
  },
  {
   "cell_type": "code",
   "execution_count": 5,
   "metadata": {},
   "outputs": [
    {
     "name": "stdout",
     "output_type": "stream",
     "text": [
      "cpus=8 rams=29\n"
     ]
    }
   ],
   "source": [
    "from opsmate.plugins import PluginRegistry as plugin\n",
    "import structlog\n",
    "import logging\n",
    "\n",
    "structlog.configure(\n",
    "    wrapper_class=structlog.make_filtering_bound_logger(logging.ERROR),\n",
    ")\n",
    "logger = structlog.get_logger(__name__)\n",
    "\n",
    "plugin.discover()\n",
    "\n",
    "# You can also import it directly via\n",
    "# from opsmate.tools.command_line import ShellCommand as shell\n",
    "shell = plugin.get_tool(\"ShellCommand\")\n",
    "\n",
    "class Info(BaseModel):\n",
    "  cpus: int = Field(description=\"The number of vCPUs on the machine\")\n",
    "  rams: int = Field(description=\"The number of GB of RAM on the machine\")\n",
    "\n",
    "@dino(model=\"gpt-4o-mini\", response_model=Info, tools=[shell])\n",
    "async def run_command(instruction: str):\n",
    "  \"\"\"\n",
    "  As a sys admin accessing to a workstation, given the instruction,\n",
    "  run the cli and return the result\n",
    "  \"\"\"\n",
    "  return instruction\n",
    "\n",
    "result = await run_command(\"How many cpus and rams on this machine?\")\n",
    "print(result)\n"
   ]
  },
  {
   "cell_type": "markdown",
   "metadata": {},
   "source": [
    "In the example above, we have defined a function `run_command` that takes an instruction as input and returns the result of the command as output.\n",
    "\n",
    "We have also defined the output type as `Info`, which is a Pydantic model with two fields: `cpus` and `rams` with the description of the fields. This agains is one of the benefits of using Pydantic for structured output:\n",
    "\n",
    "* The annotations not only provides a documentation for the output for clarity\n",
    "* They are also sent to the LLM as part of the prompt, allowing LLM to understand the output format\n",
    "* The validation is also performed by the Python runtime to ensure the legitimacy of the output.\n",
    "\n",
    "In the example above, we have also added the `shell` tool to the function, which is a tool call to the `ShellCommand` tool.\n",
    "\n",
    "Finally, we have called the `run_command` function with the instruction \"How many cpus and rams on this machine?\" and printed the result.\n"
   ]
  },
  {
   "cell_type": "markdown",
   "metadata": {},
   "source": [
    "### Built-in Tools\n",
    "To know all the tools available you can run `plugin.get_tools()`. This will return a list of all the tools available including:\n",
    "\n",
    "* The builtin tools, which are shipped with Opsmate and shown in the table below.\n",
    "* The custom tools you have defined - we will cover this in a later section."
   ]
  },
  {
   "cell_type": "code",
   "execution_count": 6,
   "metadata": {},
   "outputs": [
    {
     "data": {
      "text/html": [
       "<div>\n",
       "<style scoped>\n",
       "    .dataframe tbody tr th:only-of-type {\n",
       "        vertical-align: middle;\n",
       "    }\n",
       "\n",
       "    .dataframe tbody tr th {\n",
       "        vertical-align: top;\n",
       "    }\n",
       "\n",
       "    .dataframe thead th {\n",
       "        text-align: right;\n",
       "    }\n",
       "</style>\n",
       "<table border=\"1\" class=\"dataframe\">\n",
       "  <thead>\n",
       "    <tr style=\"text-align: right;\">\n",
       "      <th></th>\n",
       "      <th>Tool Name</th>\n",
       "      <th>Description</th>\n",
       "    </tr>\n",
       "  </thead>\n",
       "  <tbody>\n",
       "    <tr>\n",
       "      <th>0</th>\n",
       "      <td>FileAppend</td>\n",
       "      <td>FileAppend tool allows you to append to a file</td>\n",
       "    </tr>\n",
       "    <tr>\n",
       "      <th>1</th>\n",
       "      <td>FileDelete</td>\n",
       "      <td>FileDelete tool allows you to delete a file</td>\n",
       "    </tr>\n",
       "    <tr>\n",
       "      <th>2</th>\n",
       "      <td>FileRead</td>\n",
       "      <td>FileRead tool allows you to read a file</td>\n",
       "    </tr>\n",
       "    <tr>\n",
       "      <th>3</th>\n",
       "      <td>FileWrite</td>\n",
       "      <td>FileWrite tool allows you to write to a file</td>\n",
       "    </tr>\n",
       "    <tr>\n",
       "      <th>4</th>\n",
       "      <td>FilesFind</td>\n",
       "      <td>FilesFind tool allows you to find files in a d...</td>\n",
       "    </tr>\n",
       "    <tr>\n",
       "      <th>5</th>\n",
       "      <td>FilesList</td>\n",
       "      <td>FilesList tool allows you to list files in a d...</td>\n",
       "    </tr>\n",
       "    <tr>\n",
       "      <th>6</th>\n",
       "      <td>HttpCall</td>\n",
       "      <td>HttpCall tool allows you to call a URL\\n    Su...</td>\n",
       "    </tr>\n",
       "    <tr>\n",
       "      <th>7</th>\n",
       "      <td>HttpGet</td>\n",
       "      <td>HttpGet tool allows you to get the content of ...</td>\n",
       "    </tr>\n",
       "    <tr>\n",
       "      <th>8</th>\n",
       "      <td>HttpToText</td>\n",
       "      <td>HttpToText tool allows you to convert an HTTP ...</td>\n",
       "    </tr>\n",
       "    <tr>\n",
       "      <th>9</th>\n",
       "      <td>KnowledgeRetrieval</td>\n",
       "      <td>Knowledge retrieval tool allows you to search ...</td>\n",
       "    </tr>\n",
       "    <tr>\n",
       "      <th>10</th>\n",
       "      <td>ShellCommand</td>\n",
       "      <td>ShellCommand tool allows you to run shell comm...</td>\n",
       "    </tr>\n",
       "    <tr>\n",
       "      <th>11</th>\n",
       "      <td>SysEnv</td>\n",
       "      <td>SysEnv tool allows you to get the environment ...</td>\n",
       "    </tr>\n",
       "    <tr>\n",
       "      <th>12</th>\n",
       "      <td>SysStats</td>\n",
       "      <td>SysStats tool allows you to get the stats of a...</td>\n",
       "    </tr>\n",
       "    <tr>\n",
       "      <th>13</th>\n",
       "      <td>current_time</td>\n",
       "      <td>Get the current time in %Y-%m-%dT%H:%M:%SZ format</td>\n",
       "    </tr>\n",
       "    <tr>\n",
       "      <th>14</th>\n",
       "      <td>datetime_extraction</td>\n",
       "      <td>You are tasked to extract the datetime range f...</td>\n",
       "    </tr>\n",
       "  </tbody>\n",
       "</table>\n",
       "</div>"
      ],
      "text/plain": [
       "              Tool Name                                        Description\n",
       "0            FileAppend     FileAppend tool allows you to append to a file\n",
       "1            FileDelete        FileDelete tool allows you to delete a file\n",
       "2              FileRead            FileRead tool allows you to read a file\n",
       "3             FileWrite       FileWrite tool allows you to write to a file\n",
       "4             FilesFind  FilesFind tool allows you to find files in a d...\n",
       "5             FilesList  FilesList tool allows you to list files in a d...\n",
       "6              HttpCall  HttpCall tool allows you to call a URL\\n    Su...\n",
       "7               HttpGet  HttpGet tool allows you to get the content of ...\n",
       "8            HttpToText  HttpToText tool allows you to convert an HTTP ...\n",
       "9    KnowledgeRetrieval  Knowledge retrieval tool allows you to search ...\n",
       "10         ShellCommand  ShellCommand tool allows you to run shell comm...\n",
       "11               SysEnv  SysEnv tool allows you to get the environment ...\n",
       "12             SysStats  SysStats tool allows you to get the stats of a...\n",
       "13         current_time  Get the current time in %Y-%m-%dT%H:%M:%SZ format\n",
       "14  datetime_extraction  You are tasked to extract the datetime range f..."
      ]
     },
     "execution_count": 6,
     "metadata": {},
     "output_type": "execute_result"
    }
   ],
   "source": [
    "import pandas as pd\n",
    "\n",
    "df = pd.DataFrame(plugin.get_tools().items(), columns=[\"Tool Name\", \"Description\"])\n",
    "df[\"Description\"] = df[\"Tool Name\"].apply(lambda x: plugin.get_tool(x).__doc__.strip())\n",
    "df\n"
   ]
  },
  {
   "cell_type": "markdown",
   "metadata": {},
   "source": [
    "## \"Agentic\" via LLM Call as a Tool\n",
    "\n",
    "By now you might wonder can we make the LLM call as a tool call? The answer is yes, and this is a powerful feature of `dino` and `dtool`.\n",
    "\n",
    "Here is an example of how to use LLM call as a tool call:\n"
   ]
  },
  {
   "cell_type": "code",
   "execution_count": 7,
   "metadata": {},
   "outputs": [
    {
     "name": "stdout",
     "output_type": "stream",
     "text": [
      "There are 19 pods currently running in the Kubernetes cluster.\n"
     ]
    }
   ],
   "source": [
    "from opsmate.dino import dino\n",
    "from opsmate.dino.tools import dtool\n",
    "from typing import Annotated\n",
    "\n",
    "@dtool\n",
    "@dino(\"gpt-4o-mini\", response_model=str, tools=[shell])\n",
    "async def k8s_agent(\n",
    "    question: Annotated[str, \"The question to solve\"],\n",
    ") -> str:\n",
    "    \"\"\"\n",
    "    k8s_agent is a tool that solves a problem using kubectl.\n",
    "    \"\"\"\n",
    "    return f\"answer the question: {question}\"\n",
    "\n",
    "@dino(\"gpt-4o\", response_model=str, tools=[k8s_agent])\n",
    "async def sre_manager(query: str):\n",
    "    \"\"\"\n",
    "    You are a world class SRE manager who manages a team of SREs.\n",
    "    \"\"\"\n",
    "    return f\"answer the query: {query}\"\n",
    "\n",
    "result = await sre_manager(\"How many pods are running in the cluster?\")\n",
    "print(result)"
   ]
  },
  {
   "cell_type": "markdown",
   "metadata": {},
   "source": [
    "## Model Swapping\n",
    "\n",
    "By default you provide a model to the `dino` decorator. It will be used as the default-sane model for the executing the function. It is also trivial to swap the model at runtime.\n",
    "\n",
    "The example below demonstrates how to do it:"
   ]
  },
  {
   "cell_type": "code",
   "execution_count": 8,
   "metadata": {},
   "outputs": [
    {
     "name": "stdout",
     "output_type": "stream",
     "text": [
      "When the model is gpt-4o-mini, the result is openai\n",
      "When the model is claude-3-5-sonnet-20241022, the result is anthropic\n"
     ]
    }
   ],
   "source": [
    "from opsmate.dino import dino\n",
    "from typing import Literal\n",
    "\n",
    "brand = Literal[\"openai\", \"anthropic\"]\n",
    "\n",
    "@dino(model=\"gpt-4o-mini\", response_model=brand)\n",
    "async def query_model():\n",
    "  \"\"\"\n",
    "  Who creates ya?\n",
    "  \"\"\"\n",
    "  return \"The language model provider\"\n",
    "\n",
    "result = await query_model()\n",
    "assert result == \"openai\"\n",
    "print(f\"When the model is gpt-4o-mini, the result is {result}\")\n",
    "\n",
    "result = await query_model(model=\"claude-3-5-sonnet-20241022\")\n",
    "assert result == \"anthropic\"\n",
    "print(f\"When the model is claude-3-5-sonnet-20241022, the result is {result}\")\n"
   ]
  }
 ],
 "metadata": {
  "kernelspec": {
   "display_name": ".venv",
   "language": "python",
   "name": "python3"
  },
  "language_info": {
   "codemirror_mode": {
    "name": "ipython",
    "version": 3
   },
   "file_extension": ".py",
   "mimetype": "text/x-python",
   "name": "python",
   "nbconvert_exporter": "python",
   "pygments_lexer": "ipython3",
   "version": "3.12.3"
  }
 },
 "nbformat": 4,
 "nbformat_minor": 2
}
