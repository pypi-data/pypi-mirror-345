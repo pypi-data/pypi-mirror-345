{
 "cells": [
  {
   "cell_type": "code",
   "execution_count": null,
   "id": "c49daa31",
   "metadata": {},
   "outputs": [],
   "source": [
    "import pandas as pd\n",
    "import polars as pl\n",
    "import rtsvg\n",
    "rt = rtsvg.RACETrack()\n",
    "import os\n",
    "import kagglehub\n",
    "path = kagglehub.dataset_download(\"new-york-city/nyc-citywide-payroll-data\")\n",
    "os.listdir(path)\n",
    "df = pl.read_csv(path+\"/Citywide_Payroll_Data__Fiscal_Year_.csv\")\n",
    "#df = rt.columnsAreTimestamps(df, 'Agency Start Date')\n",
    "#for _column_ in ['Agency Name', 'Last Name', 'first Name', 'Mid Init', 'Work Location Borough', 'Title Description']:\n",
    "#    df = df.with_columns(pl.col(_column_).str.to_uppercase().alias(_column_))\n",
    "print(f'{len(df):_}')\n",
    "print(df.columns)"
   ]
  },
  {
   "cell_type": "code",
   "execution_count": null,
   "id": "33a82c45",
   "metadata": {},
   "outputs": [],
   "source": [
    "_tiles_ = []\n",
    "_list_  = list(df.columns)\n",
    "for i in range(len(_list_)):\n",
    "    _tiles_.append(rt.histogram(df, bin_by=_list_[i]))\n",
    "rt.tile(_tiles_)"
   ]
  },
  {
   "cell_type": "code",
   "execution_count": null,
   "id": "685cd11c",
   "metadata": {},
   "outputs": [],
   "source": [
    "df.null_count().pipe(sum).item() > 0"
   ]
  },
  {
   "cell_type": "code",
   "execution_count": null,
   "id": "cfd4243e",
   "metadata": {},
   "outputs": [],
   "source": []
  },
  {
   "cell_type": "code",
   "execution_count": null,
   "id": "230d1017",
   "metadata": {},
   "outputs": [],
   "source": []
  }
 ],
 "metadata": {
  "kernelspec": {
   "display_name": ".venv",
   "language": "python",
   "name": "python3"
  },
  "language_info": {
   "codemirror_mode": {
    "name": "ipython",
    "version": 3
   },
   "file_extension": ".py",
   "mimetype": "text/x-python",
   "name": "python",
   "nbconvert_exporter": "python",
   "pygments_lexer": "ipython3",
   "version": "3.12.3"
  }
 },
 "nbformat": 4,
 "nbformat_minor": 5
}
