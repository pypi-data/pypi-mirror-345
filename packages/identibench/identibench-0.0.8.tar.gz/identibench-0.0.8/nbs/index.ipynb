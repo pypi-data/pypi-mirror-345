{
 "cells": [
  {
   "cell_type": "markdown",
   "metadata": {},
   "source": [
    "<img src=\"https://raw.githubusercontent.com/daniel-om-weber/identibench/main/assets/logo.svg\" width=\"200\" align=\"left\" alt=\"identibench logo\">"
   ]
  },
  {
   "cell_type": "markdown",
   "metadata": {},
   "source": [
    "## identibench\n",
    "[![PyPI version](https://badge.fury.io/py/identibench.svg)](https://badge.fury.io/py/sysbench-loader)\n",
    "[![License: Apache 2.0](https://img.shields.io/badge/License-Apache_2.0-blue.svg)](https://opensource.org/licenses/Apache-2.0)\n",
    "[![Docs Status](https://img.shields.io/badge/docs-up_to_date-brightgreen.svg)](https://daniel-om-weber.github.io/identibench/)\n",
    "[![Python Versions](https://img.shields.io/pypi/pyversions/sysbench-loader)](https://pypi.org/project/sysbench-loader/)\n",
    "\n",
    "The `identibench` package provides a collection of standardized data loaders for common system identification benchmark datasets. It downloads, prepares, and converts various benchmark datasets into a unified HDF5 format, making them readily available for machine learning and system identification applications."
   ]
  },
  {
   "cell_type": "markdown",
   "metadata": {},
   "source": [
    "## Install"
   ]
  },
  {
   "cell_type": "markdown",
   "metadata": {},
   "source": [
    "```sh\n",
    "pip install identibench\n",
    "```"
   ]
  },
  {
   "cell_type": "markdown",
   "metadata": {},
   "source": [
    "## Features\n",
    "\n",
    "- Downloads benchmark datasets from various sources\n",
    "- Converts data to standardized HDF5 format\n",
    "- Splits data into train/validation/test sets\n",
    "- Provides consistent interface across different benchmarks\n",
    "- Handles setup and cleanup of downloaded files\n",
    "\n",
    "## Available Benchmarks\n",
    "\n",
    "The package includes loaders for the following benchmark datasets:\n",
    "\n",
    "### Nonlinear Systemidentification Workshop Benchmarks\n",
    "- **Wiener-Hammerstein**: Electronic nonlinear system\n",
    "- **Silverbox**: Electronic circuit with nonlinear feedback\n",
    "- **Cascaded Tanks**: Fluid dynamics system\n",
    "- **EMPS**: Electro-Mechanical Positioning System\n",
    "- **Noisy Wiener-Hammerstein**: WH system with process noise\n",
    "\n",
    "### Robotic Systems\n",
    "- **Industrial Robot**: Forward and inverse identification models\n",
    "- **Quad Pelican**: Quadrotor UAV system\n",
    "- **Quad Pi**: Raspberry Pi-based quadrotor system\n",
    "\n",
    "### Other Systems\n",
    "- **Ship**: Ship propulsion and steering dynamics\n",
    "- **Broad**: Broad spectrum system identification dataset"
   ]
  },
  {
   "cell_type": "code",
   "execution_count": null,
   "metadata": {},
   "outputs": [],
   "source": [
    "# Basic usage\n",
    "import identibench as idb\n",
    "from pathlib import Path\n",
    "\n",
    "# Example: Download a single dataset\n",
    "# Note: Always use a Path object, not a string\n",
    "save_path = Path('./tmp/wh')\n",
    "idb.datasets.workshop.wiener_hammerstein(save_path)"
   ]
  },
  {
   "cell_type": "code",
   "execution_count": null,
   "metadata": {},
   "outputs": [],
   "source": [
    "from sysidentpy.model_structure_selection import FROLS\n",
    "from sysidentpy.parameter_estimation import LeastSquares\n",
    "def build_frols_model(context):\n",
    "    u_train, y_train, _ = next(context.get_train_sequences())\n",
    "    \n",
    "    ylag = context.hyperparameters.get('ylag', 5)\n",
    "    xlag = context.hyperparameters.get('xlag', 5)\n",
    "    n_terms = context.hyperparameters.get('n_terms', 10)\n",
    "    estimator = context.hyperparameters.get('estimator', LeastSquares())\n",
    "\n",
    "    _model = FROLS(xlag=xlag, ylag=ylag, n_terms=n_terms,estimator=estimator)\n",
    "    _model.fit(X=u_train, y=y_train)\n",
    "\n",
    "    def model(u_test, y_init):\n",
    "        nonlocal _model\n",
    "        yhat_full = _model.predict(X=u_test, y=y_init[:_model.max_lag])\n",
    "        y_pred = yhat_full[_model.max_lag:]\n",
    "        return y_pred\n",
    "    \n",
    "    return model"
   ]
  },
  {
   "cell_type": "code",
   "execution_count": null,
   "metadata": {},
   "outputs": [
    {
     "data": {
      "text/plain": [
       "{'benchmark_name': 'BenchmarkWH_Simulation',\n",
       " 'dataset_id': 'wh',\n",
       " 'hyperparameters': {'ylag': 2,\n",
       "  'xlag': 2,\n",
       "  'n_terms': 10,\n",
       "  'estimator': <sysidentpy.parameter_estimation.estimators.LeastSquares>},\n",
       " 'seed': 3194310919,\n",
       " 'training_time_seconds': 0.9640552089986159,\n",
       " 'test_time_seconds': 1.0245963339984883,\n",
       " 'benchmark_type': 'BenchmarkSpecSimulation',\n",
       " 'metric_score': 0.2059879758473603}"
      ]
     },
     "execution_count": null,
     "metadata": {},
     "output_type": "execute_result"
    }
   ],
   "source": [
    "hyperparams = {\n",
    "    'ylag': 2,\n",
    "    'xlag': 2,\n",
    "    'n_terms': 10, # Number of terms for FROLS\n",
    "    'estimator': LeastSquares()\n",
    "}\n",
    "\n",
    "idb.run_benchmark(\n",
    "    spec=idb.BenchmarkWH_Simulation,\n",
    "    build_model=build_frols_model,\n",
    "    hyperparameters=hyperparams\n",
    ")"
   ]
  },
  {
   "cell_type": "markdown",
   "metadata": {},
   "source": [
    "## HDF5 Data Format\n",
    "\n",
    "Each dataset is converted to a standard HDF5 format with the following structure:\n",
    "- Train/valid/test split in separate directories\n",
    "- Input data stored as 'u0', 'u1', etc. (one per input dimension)\n",
    "- Output data stored as 'y0', 'y1', etc. (one per output dimension)\n",
    "- Data converted to 32-bit float (f4) for consistency\n",
    "\n",
    "This standardized format makes it easy to use these datasets with any machine learning framework that supports HDF5 files.\n"
   ]
  },
  {
   "cell_type": "markdown",
   "metadata": {},
   "source": []
  }
 ],
 "metadata": {
  "kernelspec": {
   "display_name": "python3",
   "language": "python",
   "name": "python3"
  }
 },
 "nbformat": 4,
 "nbformat_minor": 4
}
