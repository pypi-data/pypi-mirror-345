{
 "cells": [
  {
   "cell_type": "code",
   "execution_count": 47,
   "id": "58aab7ef-fdca-4e86-a8fd-b60533402e07",
   "metadata": {
    "ExecuteTime": {
     "end_time": "2025-02-15T13:46:31.532278Z",
     "start_time": "2025-02-15T13:46:30.666119Z"
    },
    "execution": {
     "iopub.execute_input": "2025-02-14T04:09:38.297343Z",
     "iopub.status.busy": "2025-02-14T04:09:38.296420Z",
     "iopub.status.idle": "2025-02-14T04:09:38.301648Z",
     "shell.execute_reply": "2025-02-14T04:09:38.300979Z",
     "shell.execute_reply.started": "2025-02-14T04:09:38.297315Z"
    }
   },
   "outputs": [],
   "source": [
    "import pandas as pd\n",
    "import numpy as np\n",
    "import matplotlib.pyplot as plt"
   ]
  },
  {
   "cell_type": "code",
   "execution_count": 48,
   "id": "e44bfdc6",
   "metadata": {},
   "outputs": [],
   "source": [
    "import requests\n",
    "from requests.auth import HTTPBasicAuth\n",
    "import pandas as pd\n",
    "from io import BytesIO\n",
    "import datetime\n",
    "import numpy as np\n",
    "import configparser\n",
    "import sys\n",
    "from sklearn.metrics import mean_squared_error\n",
    "import matplotlib.pyplot as plt\n",
    "from scipy.stats import linregress\n",
    "import statsmodels.api as sm\n"
   ]
  },
  {
   "cell_type": "code",
   "execution_count": 49,
   "id": "90fe364a",
   "metadata": {},
   "outputs": [],
   "source": [
    "sys.path.append(\"../\")\n",
    "import micromet\n",
    "from micromet import calculate_thermal_properties_for_all_pairs"
   ]
  },
  {
   "cell_type": "code",
   "execution_count": 50,
   "id": "d074fce2",
   "metadata": {},
   "outputs": [],
   "source": [
    "config = configparser.ConfigParser()\n",
    "\n",
    "config.read('../secrets/config.ini')\n",
    "\n",
    "from sqlalchemy import create_engine\n",
    "import urllib.parse\n",
    "host = config['DEFAULT']['ip']\n",
    "pw = config['DEFAULT']['pw']\n",
    "user = config['DEFAULT']['login']\n",
    "\n",
    "encoded_password = urllib.parse.quote_plus(pw)\n",
    "\n",
    "def postconn_et(encoded_password, host='localhost',user='postgres',port='5432',db='groundwater', schema = 'groundwater'):\n",
    "    connection_text = \"postgresql+psycopg2://{:}:{:}@{:}:{:}/{:}?gssencmode=disable\".format(user,encoded_password,host,port,db)\n",
    "    return create_engine(connection_text, connect_args={'options': '-csearch_path={}'.format(schema)})\n",
    "\n",
    "\n",
    "engine = postconn_et(encoded_password, host=host, user=user)"
   ]
  },
  {
   "cell_type": "code",
   "execution_count": 57,
   "id": "25f8be41",
   "metadata": {},
   "outputs": [],
   "source": [
    "station = 'US-UTE'\n",
    "\n",
    "loggertypes = [\"eddy\",\"met\",\"_merged_view\" ]\n",
    "\n",
    "dfs = {}\n",
    "\n",
    "for loggertype in loggertypes:\n",
    "    table = f\"amflux{loggertype}\"\n",
    "    query = f\"SELECT * FROM {table} WHERE stationid = '{station}';\"\n",
    "    \n",
    "    dfs[loggertype] = pd.read_sql(query, con = engine)\n",
    "\n",
    "df = dfs['met']\n",
    "#df = pd.read_csv(\"21027_Statistics_AmeriFlux16.dat\")"
   ]
  },
  {
   "cell_type": "code",
   "execution_count": 62,
   "id": "287cf4b8",
   "metadata": {},
   "outputs": [
    {
     "data": {
      "application/vnd.microsoft.datawrangler.viewer.v0+json": {
       "columns": [
        {
         "name": "timestamp_start",
         "rawType": "datetime64[ns]",
         "type": "datetime"
        },
        {
         "name": "stationid",
         "rawType": "object",
         "type": "string"
        },
        {
         "name": "datetime_start",
         "rawType": "datetime64[ns]",
         "type": "datetime"
        },
        {
         "name": "timestamp_end",
         "rawType": "int64",
         "type": "integer"
        },
        {
         "name": "alb_1_1_2",
         "rawType": "float64",
         "type": "float"
        },
        {
         "name": "netrad_1_1_2",
         "rawType": "float64",
         "type": "float"
        },
        {
         "name": "sw_in_1_1_2",
         "rawType": "float64",
         "type": "float"
        },
        {
         "name": "sw_out_1_1_2",
         "rawType": "float64",
         "type": "float"
        },
        {
         "name": "lw_in_1_1_2",
         "rawType": "float64",
         "type": "float"
        },
        {
         "name": "lw_out_1_1_2",
         "rawType": "float64",
         "type": "float"
        },
        {
         "name": "t_canopy",
         "rawType": "float64",
         "type": "float"
        },
        {
         "name": "t_si111_body",
         "rawType": "float64",
         "type": "float"
        },
        {
         "name": "ppfd_in",
         "rawType": "float64",
         "type": "float"
        },
        {
         "name": "swc_3_1_1",
         "rawType": "object",
         "type": "string"
        },
        {
         "name": "k_3_1_1",
         "rawType": "object",
         "type": "string"
        },
        {
         "name": "ts_3_1_1",
         "rawType": "object",
         "type": "string"
        },
        {
         "name": "ec_3_1_1",
         "rawType": "object",
         "type": "string"
        },
        {
         "name": "swc_3_2_1",
         "rawType": "object",
         "type": "string"
        },
        {
         "name": "k_3_2_1",
         "rawType": "object",
         "type": "string"
        },
        {
         "name": "ts_3_2_1",
         "rawType": "object",
         "type": "string"
        },
        {
         "name": "ec_3_2_1",
         "rawType": "object",
         "type": "string"
        },
        {
         "name": "swc_3_3_1",
         "rawType": "object",
         "type": "string"
        },
        {
         "name": "k_3_3_1",
         "rawType": "object",
         "type": "string"
        },
        {
         "name": "ts_3_3_1",
         "rawType": "object",
         "type": "string"
        },
        {
         "name": "ec_3_3_1",
         "rawType": "object",
         "type": "string"
        },
        {
         "name": "swc_3_4_1",
         "rawType": "object",
         "type": "string"
        },
        {
         "name": "k_3_4_1",
         "rawType": "object",
         "type": "string"
        },
        {
         "name": "ts_3_4_1",
         "rawType": "object",
         "type": "string"
        },
        {
         "name": "ec_3_4_1",
         "rawType": "object",
         "type": "string"
        },
        {
         "name": "swc_3_5_1",
         "rawType": "object",
         "type": "string"
        },
        {
         "name": "k_3_5_1",
         "rawType": "object",
         "type": "string"
        },
        {
         "name": "ts_3_5_1",
         "rawType": "object",
         "type": "string"
        },
        {
         "name": "ec_3_5_1",
         "rawType": "object",
         "type": "string"
        },
        {
         "name": "swc_3_6_1",
         "rawType": "object",
         "type": "string"
        },
        {
         "name": "k_3_6_1",
         "rawType": "object",
         "type": "string"
        },
        {
         "name": "ts_3_6_1",
         "rawType": "object",
         "type": "string"
        },
        {
         "name": "ec_3_6_1",
         "rawType": "object",
         "type": "string"
        },
        {
         "name": "swc_3_7_1",
         "rawType": "object",
         "type": "string"
        },
        {
         "name": "k_3_7_1",
         "rawType": "object",
         "type": "string"
        },
        {
         "name": "ts_3_7_1",
         "rawType": "object",
         "type": "string"
        },
        {
         "name": "ec_3_7_1",
         "rawType": "object",
         "type": "string"
        },
        {
         "name": "swc_3_8_1",
         "rawType": "object",
         "type": "string"
        },
        {
         "name": "k_3_8_1",
         "rawType": "object",
         "type": "string"
        },
        {
         "name": "ts_3_8_1",
         "rawType": "object",
         "type": "string"
        },
        {
         "name": "ec_3_8_1",
         "rawType": "object",
         "type": "string"
        },
        {
         "name": "swc_3_9_1",
         "rawType": "object",
         "type": "string"
        },
        {
         "name": "k_3_9_1",
         "rawType": "object",
         "type": "string"
        },
        {
         "name": "ts_3_9_1",
         "rawType": "object",
         "type": "string"
        },
        {
         "name": "ec_3_9_1",
         "rawType": "object",
         "type": "string"
        },
        {
         "name": "ws",
         "rawType": "float64",
         "type": "float"
        },
        {
         "name": "wd",
         "rawType": "float64",
         "type": "float"
        },
        {
         "name": "lwmv_1_1_1",
         "rawType": "float64",
         "type": "float"
        },
        {
         "name": "lwmdry_1_1_1",
         "rawType": "float64",
         "type": "float"
        },
        {
         "name": "lwmcon_1_1_1",
         "rawType": "float64",
         "type": "float"
        },
        {
         "name": "lwmwet_1_1_1",
         "rawType": "float64",
         "type": "float"
        },
        {
         "name": "lwmv_1_1_2",
         "rawType": "float64",
         "type": "float"
        },
        {
         "name": "lwmdry_1_1_2",
         "rawType": "float64",
         "type": "float"
        },
        {
         "name": "lwmcon_1_1_2",
         "rawType": "float64",
         "type": "float"
        },
        {
         "name": "lwmwet_1_1_2",
         "rawType": "float64",
         "type": "float"
        },
        {
         "name": "file_no",
         "rawType": "float64",
         "type": "float"
        },
        {
         "name": "datalogger_no",
         "rawType": "float64",
         "type": "float"
        },
        {
         "name": "t_3_5_1",
         "rawType": "float64",
         "type": "float"
        },
        {
         "name": "g_3_1_1",
         "rawType": "float64",
         "type": "float"
        },
        {
         "name": "leaf_wet_1_1_1",
         "rawType": "float64",
         "type": "float"
        },
        {
         "name": "leaf_wet_1_2_1",
         "rawType": "float64",
         "type": "float"
        },
        {
         "name": "lvl_ft",
         "rawType": "float64",
         "type": "float"
        },
        {
         "name": "lvlout_ft",
         "rawType": "float64",
         "type": "float"
        },
        {
         "name": "water_temp_c",
         "rawType": "float64",
         "type": "float"
        },
        {
         "name": "t__2_8_1",
         "rawType": "float64",
         "type": "float"
        },
        {
         "name": "wtd",
         "rawType": "float64",
         "type": "float"
        },
        {
         "name": "swc_4_1_1",
         "rawType": "object",
         "type": "string"
        },
        {
         "name": "k_4_1_1",
         "rawType": "object",
         "type": "string"
        },
        {
         "name": "ts_4_1_1",
         "rawType": "object",
         "type": "string"
        },
        {
         "name": "ec_4_1_1",
         "rawType": "object",
         "type": "string"
        },
        {
         "name": "swc_4_2_1",
         "rawType": "object",
         "type": "string"
        },
        {
         "name": "k_4_2_1",
         "rawType": "object",
         "type": "string"
        },
        {
         "name": "ts_4_2_1",
         "rawType": "object",
         "type": "string"
        },
        {
         "name": "ec_4_2_1",
         "rawType": "object",
         "type": "string"
        },
        {
         "name": "swc_4_3_1",
         "rawType": "object",
         "type": "string"
        },
        {
         "name": "k_4_3_1",
         "rawType": "object",
         "type": "string"
        },
        {
         "name": "ts_4_3_1",
         "rawType": "object",
         "type": "string"
        },
        {
         "name": "ec_4_3_1",
         "rawType": "object",
         "type": "string"
        },
        {
         "name": "swc_4_4_1",
         "rawType": "object",
         "type": "string"
        },
        {
         "name": "k_4_4_1",
         "rawType": "object",
         "type": "string"
        },
        {
         "name": "ts_4_4_1",
         "rawType": "object",
         "type": "string"
        },
        {
         "name": "ec_4_4_1",
         "rawType": "object",
         "type": "string"
        },
        {
         "name": "swc_4_5_1",
         "rawType": "object",
         "type": "string"
        },
        {
         "name": "k_4_5_1",
         "rawType": "object",
         "type": "string"
        },
        {
         "name": "ts_4_5_1",
         "rawType": "object",
         "type": "string"
        },
        {
         "name": "ec_4_5_1",
         "rawType": "object",
         "type": "string"
        },
        {
         "name": "swc_4_6_1",
         "rawType": "object",
         "type": "string"
        },
        {
         "name": "k_4_6_1",
         "rawType": "object",
         "type": "string"
        },
        {
         "name": "ts_4_6_1",
         "rawType": "object",
         "type": "string"
        },
        {
         "name": "ec_4_6_1",
         "rawType": "object",
         "type": "string"
        },
        {
         "name": "swc_4_7_1",
         "rawType": "object",
         "type": "string"
        },
        {
         "name": "k_4_7_1",
         "rawType": "object",
         "type": "string"
        },
        {
         "name": "ts_4_7_1",
         "rawType": "object",
         "type": "string"
        },
        {
         "name": "ec_4_7_1",
         "rawType": "object",
         "type": "string"
        },
        {
         "name": "swc_4_8_1",
         "rawType": "object",
         "type": "string"
        },
        {
         "name": "k_4_8_1",
         "rawType": "object",
         "type": "string"
        },
        {
         "name": "ts_4_8_1",
         "rawType": "object",
         "type": "string"
        },
        {
         "name": "ec_4_8_1",
         "rawType": "object",
         "type": "string"
        },
        {
         "name": "swc_4_9_1",
         "rawType": "object",
         "type": "string"
        },
        {
         "name": "k_4_9_1",
         "rawType": "object",
         "type": "string"
        },
        {
         "name": "ts_4_9_1",
         "rawType": "object",
         "type": "string"
        },
        {
         "name": "ec_4_9_1",
         "rawType": "object",
         "type": "string"
        },
        {
         "name": "do",
         "rawType": "float64",
         "type": "float"
        },
        {
         "name": "tw",
         "rawType": "float64",
         "type": "float"
        },
        {
         "name": "cond_water",
         "rawType": "float64",
         "type": "float"
        },
        {
         "name": "sw_in_1_1_3",
         "rawType": "float64",
         "type": "float"
        },
        {
         "name": "ta_1_3_1",
         "rawType": "float64",
         "type": "float"
        },
        {
         "name": "rh_1_3_1",
         "rawType": "float64",
         "type": "float"
        },
        {
         "name": "le_1_1_2",
         "rawType": "float64",
         "type": "float"
        },
        {
         "name": "h_1_1_2",
         "rawType": "float64",
         "type": "float"
        },
        {
         "name": "vpd_1_1_2",
         "rawType": "float64",
         "type": "float"
        },
        {
         "name": "pa_1_1_2",
         "rawType": "float64",
         "type": "float"
        },
        {
         "name": "ta_1_1_2",
         "rawType": "float64",
         "type": "float"
        },
        {
         "name": "rh_1_1_2",
         "rawType": "float64",
         "type": "float"
        },
        {
         "name": "d_snow",
         "rawType": "float64",
         "type": "float"
        }
       ],
       "conversionMethod": "pd.DataFrame",
       "ref": "3323c9c3-6392-4928-b361-19feb27761fc",
       "rows": [],
       "shape": {
        "columns": 118,
        "rows": 0
       }
      },
      "text/html": [
       "<div>\n",
       "<style scoped>\n",
       "    .dataframe tbody tr th:only-of-type {\n",
       "        vertical-align: middle;\n",
       "    }\n",
       "\n",
       "    .dataframe tbody tr th {\n",
       "        vertical-align: top;\n",
       "    }\n",
       "\n",
       "    .dataframe thead th {\n",
       "        text-align: right;\n",
       "    }\n",
       "</style>\n",
       "<table border=\"1\" class=\"dataframe\">\n",
       "  <thead>\n",
       "    <tr style=\"text-align: right;\">\n",
       "      <th></th>\n",
       "      <th>stationid</th>\n",
       "      <th>datetime_start</th>\n",
       "      <th>timestamp_end</th>\n",
       "      <th>alb_1_1_2</th>\n",
       "      <th>netrad_1_1_2</th>\n",
       "      <th>sw_in_1_1_2</th>\n",
       "      <th>sw_out_1_1_2</th>\n",
       "      <th>lw_in_1_1_2</th>\n",
       "      <th>lw_out_1_1_2</th>\n",
       "      <th>t_canopy</th>\n",
       "      <th>...</th>\n",
       "      <th>sw_in_1_1_3</th>\n",
       "      <th>ta_1_3_1</th>\n",
       "      <th>rh_1_3_1</th>\n",
       "      <th>le_1_1_2</th>\n",
       "      <th>h_1_1_2</th>\n",
       "      <th>vpd_1_1_2</th>\n",
       "      <th>pa_1_1_2</th>\n",
       "      <th>ta_1_1_2</th>\n",
       "      <th>rh_1_1_2</th>\n",
       "      <th>d_snow</th>\n",
       "    </tr>\n",
       "    <tr>\n",
       "      <th>timestamp_start</th>\n",
       "      <th></th>\n",
       "      <th></th>\n",
       "      <th></th>\n",
       "      <th></th>\n",
       "      <th></th>\n",
       "      <th></th>\n",
       "      <th></th>\n",
       "      <th></th>\n",
       "      <th></th>\n",
       "      <th></th>\n",
       "      <th></th>\n",
       "      <th></th>\n",
       "      <th></th>\n",
       "      <th></th>\n",
       "      <th></th>\n",
       "      <th></th>\n",
       "      <th></th>\n",
       "      <th></th>\n",
       "      <th></th>\n",
       "      <th></th>\n",
       "      <th></th>\n",
       "    </tr>\n",
       "  </thead>\n",
       "  <tbody>\n",
       "  </tbody>\n",
       "</table>\n",
       "<p>0 rows × 118 columns</p>\n",
       "</div>"
      ],
      "text/plain": [
       "Empty DataFrame\n",
       "Columns: [stationid, datetime_start, timestamp_end, alb_1_1_2, netrad_1_1_2, sw_in_1_1_2, sw_out_1_1_2, lw_in_1_1_2, lw_out_1_1_2, t_canopy, t_si111_body, ppfd_in, swc_3_1_1, k_3_1_1, ts_3_1_1, ec_3_1_1, swc_3_2_1, k_3_2_1, ts_3_2_1, ec_3_2_1, swc_3_3_1, k_3_3_1, ts_3_3_1, ec_3_3_1, swc_3_4_1, k_3_4_1, ts_3_4_1, ec_3_4_1, swc_3_5_1, k_3_5_1, ts_3_5_1, ec_3_5_1, swc_3_6_1, k_3_6_1, ts_3_6_1, ec_3_6_1, swc_3_7_1, k_3_7_1, ts_3_7_1, ec_3_7_1, swc_3_8_1, k_3_8_1, ts_3_8_1, ec_3_8_1, swc_3_9_1, k_3_9_1, ts_3_9_1, ec_3_9_1, ws, wd, lwmv_1_1_1, lwmdry_1_1_1, lwmcon_1_1_1, lwmwet_1_1_1, lwmv_1_1_2, lwmdry_1_1_2, lwmcon_1_1_2, lwmwet_1_1_2, file_no, datalogger_no, t_3_5_1, g_3_1_1, leaf_wet_1_1_1, leaf_wet_1_2_1, lvl_ft, lvlout_ft, water_temp_c, t__2_8_1, wtd, swc_4_1_1, k_4_1_1, ts_4_1_1, ec_4_1_1, swc_4_2_1, k_4_2_1, ts_4_2_1, ec_4_2_1, swc_4_3_1, k_4_3_1, ts_4_3_1, ec_4_3_1, swc_4_4_1, k_4_4_1, ts_4_4_1, ec_4_4_1, swc_4_5_1, k_4_5_1, ts_4_5_1, ec_4_5_1, swc_4_6_1, k_4_6_1, ts_4_6_1, ec_4_6_1, swc_4_7_1, k_4_7_1, ts_4_7_1, ec_4_7_1, swc_4_8_1, k_4_8_1, ts_4_8_1, ...]\n",
       "Index: []\n",
       "\n",
       "[0 rows x 118 columns]"
      ]
     },
     "execution_count": 62,
     "metadata": {},
     "output_type": "execute_result"
    }
   ],
   "source": [
    "df[df['ts_3_1_1'].notnull()]"
   ]
  },
  {
   "cell_type": "code",
   "execution_count": 59,
   "id": "2657bfa7",
   "metadata": {},
   "outputs": [],
   "source": [
    "df['timestamp_start'] = pd.to_datetime(df['timestamp_start'], format='%Y%m%d%H%M')\n",
    "df = df.set_index('timestamp_start')"
   ]
  },
  {
   "cell_type": "code",
   "execution_count": 46,
   "id": "4f0c9607",
   "metadata": {},
   "outputs": [
    {
     "name": "stdout",
     "output_type": "stream",
     "text": [
      "Warning: Not enough time points for logarithmic method between ts_3_1_1 and ts_3_2_1.\n",
      "Warning: Not enough time points for logarithmic method between ts_3_1_1 and ts_3_3_1.\n",
      "Warning: Not enough time points for logarithmic method between ts_3_2_1 and ts_3_3_1.\n",
      "Empty DataFrame\n",
      "Columns: [alpha_amp, G_alpha_amp, k_alpha_amp, theta_v, alpha_lag, G_alpha_lag, k_alpha_lag, theta_v]\n",
      "Index: []\n"
     ]
    }
   ],
   "source": [
    "# Define depth mapping\n",
    "depth_mapping = {\n",
    "    \"ts_3_1_1\": 0.05,  # 5 cm\n",
    "    \"ts_3_2_1\": 0.10,  # 10 cm\n",
    "    \"ts_3_3_1\": 0.20,  # 20 cm\n",
    "}\n",
    "\n",
    "# Calculate thermal properties\n",
    "results_df = calculate_thermal_properties_for_all_pairs(df, depth_mapping)\n",
    "print(results_df)"
   ]
  },
  {
   "cell_type": "markdown",
   "id": "4e36c411874c29d6",
   "metadata": {},
   "source": [
    "# Estimating Ground Heat Flux and Thermal Conductivity from SoilVue Data\n",
    "\n",
    "## **Initial Ground Heat Flux Calculation**\n",
    "To estimate ground heat flux (\\(G\\)) in \\(W/m^2\\) from the SoilVue soil moisture probe data, we used:\n",
    "\n",
    "$$\n",
    "G = -\\lambda \\frac{\\Delta T}{\\Delta z}\n",
    "$$\n",
    "\n",
    "Where:\n",
    "- $G =$ ground heat flux $(W/m^2)$\n",
    "- $\\lambda =$ soil thermal conductivity $(W/mK)$\n",
    "- $\\Delta T =$ temperature difference between two depths $(K)$\n",
    "- $\\Delta z =$ depth difference $(m)$\n",
    "\n",
    "We computed \\(G\\) for different depth pairs and displayed the results.\n",
    "\n",
    "---\n",
    "\n",
    "## **Thermal Conductivity from Time Lag**\n",
    "Thermal conductivity $(\\lambda)$ was estimated using the **thermal diffusivity approach**, which relies on the time lag between temperature variations at different depths.\n",
    "\n",
    "$$\n",
    "\\alpha = \\frac{\\lambda}{\\rho c}\n",
    "$$\n",
    "\n",
    "Using the time lag $(\\Delta t)$ between peaks at two depths:\n",
    "\n",
    "$$\n",
    "\\alpha = \\frac{(z_2 - z_1)^2}{\\pi \\Delta t}\n",
    "$$\n",
    "\n",
    "Then:\n",
    "\n",
    "$$\n",
    "\\lambda = \\alpha \\cdot \\rho c\n",
    "$$\n",
    "\n",
    "---\n",
    "\n",
    "## **Refined Analysis with Visual Confirmation**\n",
    "By plotting the **ground heat flux (G\\)**, we visually confirmed that the peaks were **about 120 minutes apart** rather than multiple days. Using this corrected time lag:\n",
    "\n",
    "$$\n",
    "\\alpha = \\frac{(0.05 \\text{ m})^2}{\\pi \\times 7200 \\text{ s}}\n",
    "$$\n",
    "\n",
    "$$\n",
    "\\lambda = \\alpha \\times 2.0 \\times 10^6 \\text{ J/m³K}\n",
    "$$\n",
    "\n",
    "---\n",
    "\n",
    "## **Refining with Soil Moisture Data**\n",
    "Since **volumetric heat capacity** depends on soil moisture (\\(\\theta\\)), we refined it using:\n",
    "\n",
    "$$\n",
    "\\rho c = \\rho_c^{\\text{dry}} + \\theta \\cdot \\rho_c^{\\text{water}}\n",
    "$$\n",
    "\n",
    "Where:\n",
    "- $\\rho_c^{\\text{dry}} = 1.0 \\times 10^6 J/m³K (dry soil)$\n",
    "- $\\rho_c^{\\text{water}} = 4.18 \\times 10^6 J/m³K (water)$\n",
    "- $\\theta = VWC (unitless, 0 to ~0.5)$\n",
    "\n",
    "This produced **time-varying thermal conductivity** values based on soil moisture.\n",
    "\n",
    "---\n",
    "\n",
    "## **Conclusion**\n",
    "- Computed **ground heat flux** using SoilVue probe data.\n",
    "- Identified and corrected an **overestimated time lag**.\n",
    "- Refined **thermal conductivity** estimates using **soil moisture-dependent heat capacity**.\n",
    "\n",
    "These refinements improve **soil energy balance modeling** and can be used for **land surface heat transfer studies**.\n",
    "\n"
   ]
  },
  {
   "cell_type": "code",
   "execution_count": 37,
   "id": "330617c8-e681-4df3-8bab-666c1f262ab5",
   "metadata": {
    "ExecuteTime": {
     "end_time": "2025-02-15T13:48:16.775070Z",
     "start_time": "2025-02-15T13:48:16.426021Z"
    },
    "execution": {
     "iopub.execute_input": "2025-02-14T04:45:08.900113Z",
     "iopub.status.busy": "2025-02-14T04:45:08.899722Z",
     "iopub.status.idle": "2025-02-14T04:45:09.101522Z",
     "shell.execute_reply": "2025-02-14T04:45:09.100660Z",
     "shell.execute_reply.started": "2025-02-14T04:45:08.900089Z"
    }
   },
   "outputs": [
    {
     "data": {
      "text/plain": [
       "<Axes: xlabel='datetime_start'>"
      ]
     },
     "execution_count": 37,
     "metadata": {},
     "output_type": "execute_result"
    },
    {
     "data": {
      "image/png": "[encoded data removed]",
      "text/plain": [
       "<Figure size 640x480 with 1 Axes>"
      ]
     },
     "metadata": {},
     "output_type": "display_data"
    }
   ],
   "source": [
    " # Extract column names to identify soil temperature and moisture variables\n",
    "columns = df.columns\n",
    "\n",
    "# Filter for soil temperature and volumetric water content variables\n",
    "temp_columns = [col for col in columns if col.startswith(\"ts_3_\")]\n",
    "vwc_columns = [col for col in columns if col.startswith(\"swc_3_\")]\n",
    "\n",
    "# Display identified columns\n",
    "\n",
    "# Define depths in meters (corresponding to temperature and VWC columns)\n",
    "depths_cm = [5, 10, 20, 30, 40, 50, 60, 75, 100]  # Expected depths\n",
    "depths_m = np.array(depths_cm) / 100  # Convert to meters\n",
    "\n",
    "# Ensure we only process available depths in the dataset\n",
    "available_depths = [int(col.split(\"_\")[2]) for col in temp_columns]\n",
    "available_depths_m = np.array(available_depths) / 100\n",
    "\n",
    "# Empirical model for estimating soil thermal conductivity (Johansen model approximation)\n",
    "def estimate_thermal_conductivity(vwc):\n",
    "    \"\"\"\n",
    "    Estimate thermal conductivity (W/mK) based on volumetric water content (VWC).\n",
    "    Using an empirical relationship where conductivity increases with moisture.\n",
    "    \"\"\"\n",
    "    lambda_dry = 0.25  # Typical dry soil thermal conductivity (W/mK)\n",
    "    lambda_sat = 2.5   # Typical saturated soil thermal conductivity (W/mK)\n",
    "    return lambda_dry + (lambda_sat - lambda_dry) * vwc\n",
    "\n",
    "# Compute temperature gradient and ground heat flux\n",
    "G_list = []\n",
    "for i in range(len(available_depths) - 1):\n",
    "    z1, z2 = available_depths_m[i], available_depths_m[i + 1]\n",
    "    T1, T2 = df[temp_columns[i]], df[temp_columns[i + 1]]\n",
    "    vwc_avg = (df[vwc_columns[i]] + df[vwc_columns[i + 1]]) / 2  # Average VWC for thermal conductivity\n",
    "    \n",
    "    # Estimate thermal conductivity\n",
    "    lambda_soil = estimate_thermal_conductivity(vwc_avg)\n",
    "    \n",
    "    # Compute temperature gradient\n",
    "    dT_dz = (T2 - T1) / (z2 - z1)\n",
    "    \n",
    "    # Compute ground heat flux (G)\n",
    "    G = -lambda_soil * dT_dz  # W/m²\n",
    "    G_list.append(G)\n",
    "\n",
    "# Combine results into a DataFrame\n",
    "G_df = pd.DataFrame(G_list).T  # Transpose to match time-series format\n",
    "G_df.columns = [f\"G_{available_depths[i]}_{available_depths[i+1]}\" for i in range(len(available_depths) - 1)]\n",
    "\n",
    "# Merge with timestamp for reference\n",
    "G_df['timestamp_start'] = df['timestamp_start']\n",
    "G_df[\"datetime_start\"] = pd.to_datetime(G_df[\"timestamp_start\"],format=\"%Y%m%d%H%M\")\n",
    "G_df = G_df.set_index('datetime_start')\n",
    "G_df[[\"G_1_2\",\"G_2_3\",\"G_3_4\"]].plot()\n"
   ]
  },
  {
   "cell_type": "code",
   "execution_count": 26,
   "id": "5ee3f4bb",
   "metadata": {},
   "outputs": [
    {
     "data": {
      "application/vnd.microsoft.datawrangler.viewer.v0+json": {
       "columns": [
        {
         "name": "index",
         "rawType": "int64",
         "type": "integer"
        },
        {
         "name": "0",
         "rawType": "float64",
         "type": "float"
        },
        {
         "name": "1",
         "rawType": "float64",
         "type": "float"
        },
        {
         "name": "2",
         "rawType": "float64",
         "type": "float"
        },
        {
         "name": "3",
         "rawType": "float64",
         "type": "float"
        },
        {
         "name": "4",
         "rawType": "float64",
         "type": "float"
        },
        {
         "name": "5",
         "rawType": "float64",
         "type": "float"
        },
        {
         "name": "6",
         "rawType": "float64",
         "type": "float"
        },
        {
         "name": "7",
         "rawType": "float64",
         "type": "float"
        }
       ],
       "conversionMethod": "pd.DataFrame",
       "ref": "fa2cd2a5-d2dd-4569-b78c-1711e7f21d01",
       "rows": [
        [
         "0",
         null,
         null,
         null,
         null,
         null,
         null,
         null,
         null
        ],
        [
         "1",
         null,
         null,
         null,
         null,
         null,
         null,
         null,
         null
        ],
        [
         "2",
         null,
         null,
         null,
         null,
         null,
         null,
         null,
         null
        ],
        [
         "3",
         null,
         null,
         null,
         null,
         null,
         null,
         null,
         null
        ],
        [
         "4",
         null,
         null,
         null,
         null,
         null,
         null,
         null,
         null
        ],
        [
         "5",
         null,
         null,
         null,
         null,
         null,
         null,
         null,
         null
        ],
        [
         "6",
         null,
         null,
         null,
         null,
         null,
         null,
         null,
         null
        ],
        [
         "7",
         null,
         null,
         null,
         null,
         null,
         null,
         null,
         null
        ],
        [
         "8",
         null,
         null,
         null,
         null,
         null,
         null,
         null,
         null
        ],
        [
         "9",
         null,
         null,
         null,
         null,
         null,
         null,
         null,
         null
        ],
        [
         "10",
         null,
         null,
         null,
         null,
         null,
         null,
         null,
         null
        ],
        [
         "11",
         null,
         null,
         null,
         null,
         null,
         null,
         null,
         null
        ],
        [
         "12",
         null,
         null,
         null,
         null,
         null,
         null,
         null,
         null
        ],
        [
         "13",
         null,
         null,
         null,
         null,
         null,
         null,
         null,
         null
        ],
        [
         "14",
         null,
         null,
         null,
         null,
         null,
         null,
         null,
         null
        ],
        [
         "15",
         null,
         null,
         null,
         null,
         null,
         null,
         null,
         null
        ],
        [
         "16",
         null,
         null,
         null,
         null,
         null,
         null,
         null,
         null
        ],
        [
         "17",
         null,
         null,
         null,
         null,
         null,
         null,
         null,
         null
        ],
        [
         "18",
         null,
         null,
         null,
         null,
         null,
         null,
         null,
         null
        ],
        [
         "19",
         null,
         null,
         null,
         null,
         null,
         null,
         null,
         null
        ],
        [
         "20",
         null,
         null,
         null,
         null,
         null,
         null,
         null,
         null
        ],
        [
         "21",
         null,
         null,
         null,
         null,
         null,
         null,
         null,
         null
        ],
        [
         "22",
         null,
         null,
         null,
         null,
         null,
         null,
         null,
         null
        ],
        [
         "23",
         null,
         null,
         null,
         null,
         null,
         null,
         null,
         null
        ],
        [
         "24",
         null,
         null,
         null,
         null,
         null,
         null,
         null,
         null
        ],
        [
         "25",
         null,
         null,
         null,
         null,
         null,
         null,
         null,
         null
        ],
        [
         "26",
         null,
         null,
         null,
         null,
         null,
         null,
         null,
         null
        ],
        [
         "27",
         null,
         null,
         null,
         null,
         null,
         null,
         null,
         null
        ],
        [
         "28",
         null,
         null,
         null,
         null,
         null,
         null,
         null,
         null
        ],
        [
         "29",
         null,
         null,
         null,
         null,
         null,
         null,
         null,
         null
        ],
        [
         "30",
         null,
         null,
         null,
         null,
         null,
         null,
         null,
         null
        ],
        [
         "31",
         null,
         null,
         null,
         null,
         null,
         null,
         null,
         null
        ],
        [
         "32",
         null,
         null,
         null,
         null,
         null,
         null,
         null,
         null
        ],
        [
         "33",
         null,
         null,
         null,
         null,
         null,
         null,
         null,
         null
        ],
        [
         "34",
         null,
         null,
         null,
         null,
         null,
         null,
         null,
         null
        ],
        [
         "35",
         null,
         null,
         null,
         null,
         null,
         null,
         null,
         null
        ],
        [
         "36",
         null,
         null,
         null,
         null,
         null,
         null,
         null,
         null
        ],
        [
         "37",
         null,
         null,
         null,
         null,
         null,
         null,
         null,
         null
        ],
        [
         "38",
         null,
         null,
         null,
         null,
         null,
         null,
         null,
         null
        ],
        [
         "39",
         null,
         null,
         null,
         null,
         null,
         null,
         null,
         null
        ],
        [
         "40",
         null,
         null,
         null,
         null,
         null,
         null,
         null,
         null
        ],
        [
         "41",
         null,
         null,
         null,
         null,
         null,
         null,
         null,
         null
        ],
        [
         "42",
         null,
         null,
         null,
         null,
         null,
         null,
         null,
         null
        ],
        [
         "43",
         null,
         null,
         null,
         null,
         null,
         null,
         null,
         null
        ],
        [
         "44",
         null,
         null,
         null,
         null,
         null,
         null,
         null,
         null
        ],
        [
         "45",
         null,
         null,
         null,
         null,
         null,
         null,
         null,
         null
        ],
        [
         "46",
         null,
         null,
         null,
         null,
         null,
         null,
         null,
         null
        ],
        [
         "47",
         null,
         null,
         null,
         null,
         null,
         null,
         null,
         null
        ],
        [
         "48",
         null,
         null,
         null,
         null,
         null,
         null,
         null,
         null
        ],
        [
         "49",
         null,
         null,
         null,
         null,
         null,
         null,
         null,
         null
        ]
       ],
       "shape": {
        "columns": 8,
        "rows": 19875
       }
      },
      "text/html": [
       "<div>\n",
       "<style scoped>\n",
       "    .dataframe tbody tr th:only-of-type {\n",
       "        vertical-align: middle;\n",
       "    }\n",
       "\n",
       "    .dataframe tbody tr th {\n",
       "        vertical-align: top;\n",
       "    }\n",
       "\n",
       "    .dataframe thead th {\n",
       "        text-align: right;\n",
       "    }\n",
       "</style>\n",
       "<table border=\"1\" class=\"dataframe\">\n",
       "  <thead>\n",
       "    <tr style=\"text-align: right;\">\n",
       "      <th></th>\n",
       "      <th>0</th>\n",
       "      <th>1</th>\n",
       "      <th>2</th>\n",
       "      <th>3</th>\n",
       "      <th>4</th>\n",
       "      <th>5</th>\n",
       "      <th>6</th>\n",
       "      <th>7</th>\n",
       "    </tr>\n",
       "  </thead>\n",
       "  <tbody>\n",
       "    <tr>\n",
       "      <th>0</th>\n",
       "      <td>NaN</td>\n",
       "      <td>NaN</td>\n",
       "      <td>NaN</td>\n",
       "      <td>NaN</td>\n",
       "      <td>NaN</td>\n",
       "      <td>NaN</td>\n",
       "      <td>NaN</td>\n",
       "      <td>NaN</td>\n",
       "    </tr>\n",
       "    <tr>\n",
       "      <th>1</th>\n",
       "      <td>NaN</td>\n",
       "      <td>NaN</td>\n",
       "      <td>NaN</td>\n",
       "      <td>NaN</td>\n",
       "      <td>NaN</td>\n",
       "      <td>NaN</td>\n",
       "      <td>NaN</td>\n",
       "      <td>NaN</td>\n",
       "    </tr>\n",
       "    <tr>\n",
       "      <th>2</th>\n",
       "      <td>NaN</td>\n",
       "      <td>NaN</td>\n",
       "      <td>NaN</td>\n",
       "      <td>NaN</td>\n",
       "      <td>NaN</td>\n",
       "      <td>NaN</td>\n",
       "      <td>NaN</td>\n",
       "      <td>NaN</td>\n",
       "    </tr>\n",
       "    <tr>\n",
       "      <th>3</th>\n",
       "      <td>NaN</td>\n",
       "      <td>NaN</td>\n",
       "      <td>NaN</td>\n",
       "      <td>NaN</td>\n",
       "      <td>NaN</td>\n",
       "      <td>NaN</td>\n",
       "      <td>NaN</td>\n",
       "      <td>NaN</td>\n",
       "    </tr>\n",
       "    <tr>\n",
       "      <th>4</th>\n",
       "      <td>NaN</td>\n",
       "      <td>NaN</td>\n",
       "      <td>NaN</td>\n",
       "      <td>NaN</td>\n",
       "      <td>NaN</td>\n",
       "      <td>NaN</td>\n",
       "      <td>NaN</td>\n",
       "      <td>NaN</td>\n",
       "    </tr>\n",
       "    <tr>\n",
       "      <th>...</th>\n",
       "      <td>...</td>\n",
       "      <td>...</td>\n",
       "      <td>...</td>\n",
       "      <td>...</td>\n",
       "      <td>...</td>\n",
       "      <td>...</td>\n",
       "      <td>...</td>\n",
       "      <td>...</td>\n",
       "    </tr>\n",
       "    <tr>\n",
       "      <th>19870</th>\n",
       "      <td>NaN</td>\n",
       "      <td>NaN</td>\n",
       "      <td>NaN</td>\n",
       "      <td>NaN</td>\n",
       "      <td>NaN</td>\n",
       "      <td>NaN</td>\n",
       "      <td>NaN</td>\n",
       "      <td>NaN</td>\n",
       "    </tr>\n",
       "    <tr>\n",
       "      <th>19871</th>\n",
       "      <td>NaN</td>\n",
       "      <td>NaN</td>\n",
       "      <td>NaN</td>\n",
       "      <td>NaN</td>\n",
       "      <td>NaN</td>\n",
       "      <td>NaN</td>\n",
       "      <td>NaN</td>\n",
       "      <td>NaN</td>\n",
       "    </tr>\n",
       "    <tr>\n",
       "      <th>19872</th>\n",
       "      <td>NaN</td>\n",
       "      <td>NaN</td>\n",
       "      <td>NaN</td>\n",
       "      <td>NaN</td>\n",
       "      <td>NaN</td>\n",
       "      <td>NaN</td>\n",
       "      <td>NaN</td>\n",
       "      <td>NaN</td>\n",
       "    </tr>\n",
       "    <tr>\n",
       "      <th>19873</th>\n",
       "      <td>NaN</td>\n",
       "      <td>NaN</td>\n",
       "      <td>NaN</td>\n",
       "      <td>NaN</td>\n",
       "      <td>NaN</td>\n",
       "      <td>NaN</td>\n",
       "      <td>NaN</td>\n",
       "      <td>NaN</td>\n",
       "    </tr>\n",
       "    <tr>\n",
       "      <th>19874</th>\n",
       "      <td>NaN</td>\n",
       "      <td>NaN</td>\n",
       "      <td>NaN</td>\n",
       "      <td>NaN</td>\n",
       "      <td>NaN</td>\n",
       "      <td>NaN</td>\n",
       "      <td>NaN</td>\n",
       "      <td>NaN</td>\n",
       "    </tr>\n",
       "  </tbody>\n",
       "</table>\n",
       "<p>19875 rows × 8 columns</p>\n",
       "</div>"
      ],
      "text/plain": [
       "        0   1   2   3   4   5   6   7\n",
       "0     NaN NaN NaN NaN NaN NaN NaN NaN\n",
       "1     NaN NaN NaN NaN NaN NaN NaN NaN\n",
       "2     NaN NaN NaN NaN NaN NaN NaN NaN\n",
       "3     NaN NaN NaN NaN NaN NaN NaN NaN\n",
       "4     NaN NaN NaN NaN NaN NaN NaN NaN\n",
       "...    ..  ..  ..  ..  ..  ..  ..  ..\n",
       "19870 NaN NaN NaN NaN NaN NaN NaN NaN\n",
       "19871 NaN NaN NaN NaN NaN NaN NaN NaN\n",
       "19872 NaN NaN NaN NaN NaN NaN NaN NaN\n",
       "19873 NaN NaN NaN NaN NaN NaN NaN NaN\n",
       "19874 NaN NaN NaN NaN NaN NaN NaN NaN\n",
       "\n",
       "[19875 rows x 8 columns]"
      ]
     },
     "execution_count": 26,
     "metadata": {},
     "output_type": "execute_result"
    }
   ],
   "source": [
    "pd.DataFrame(G_list).T "
   ]
  },
  {
   "cell_type": "code",
   "execution_count": 11,
   "id": "53e426ab13d8d9c9",
   "metadata": {
    "ExecuteTime": {
     "end_time": "2025-02-15T14:50:03.166330Z",
     "start_time": "2025-02-15T14:50:03.154739Z"
    }
   },
   "outputs": [],
   "source": [
    "G_df[[\"G_1_2\",\"G_2_3\",\"G_3_4\"]].round(3).to_clipboard()"
   ]
  },
  {
   "cell_type": "code",
   "execution_count": 6,
   "id": "9097ac4f-5a6d-4c69-b8b4-102b713123c8",
   "metadata": {
    "ExecuteTime": {
     "end_time": "2025-02-15T13:48:19.617840Z",
     "start_time": "2025-02-15T13:48:19.611537Z"
    },
    "execution": {
     "iopub.execute_input": "2025-02-14T05:15:10.076994Z",
     "iopub.status.busy": "2025-02-14T05:15:10.076458Z",
     "iopub.status.idle": "2025-02-14T05:15:10.085691Z",
     "shell.execute_reply": "2025-02-14T05:15:10.084758Z",
     "shell.execute_reply.started": "2025-02-14T05:15:10.076963Z"
    }
   },
   "outputs": [
    {
     "name": "stdout",
     "output_type": "stream",
     "text": [
      "0.12210711887355205\n"
     ]
    }
   ],
   "source": [
    "# Identify soil moisture (VWC) columns in the dataset\n",
    "vwc_columns_new = [col for col in df.columns if col.startswith(\"VWC_1_\")]\n",
    "\n",
    "# Extract VWC for the selected depths (2 cm and 3 cm)\n",
    "vwc_5cm = df[vwc_columns_new[1]]  # VWC at 2 cm\n",
    "vwc_10cm = df[vwc_columns_new[2]]  # VWC at 3 cm\n",
    "vwc_20cm = df[vwc_columns_new[3]]\n",
    "\n",
    "# Compute average VWC\n",
    "vwc_avg = (vwc_5cm + vwc_10cm) / 2\n",
    "\n",
    "# Define constants for dry soil and water heat capacity\n",
    "heat_capacity_dry = 1.0e6  # J/m³K\n",
    "heat_capacity_water = 4.18e6  # J/m³K\n",
    "\n",
    "# Compute refined heat capacity\n",
    "heat_capacity_refined = heat_capacity_dry + (vwc_avg * heat_capacity_water)\n",
    "\n",
    "# Given time lag and depth difference\n",
    "corrected_time_lag_seconds = 120 * 60  # Convert minutes to seconds\n",
    "corrected_depth_diff_m = 0.05  # 1 cm in meters\n",
    "\n",
    "# Compute corrected thermal diffusivity\n",
    "corrected_alpha = (corrected_depth_diff_m ** 2) / (np.pi * corrected_time_lag_seconds)\n",
    "\n",
    "# Compute corrected thermal conductivity\n",
    "corrected_lambda = corrected_alpha * heat_capacity_refined\n",
    "\n",
    "# Output the revised estimates\n",
    "print(np.median(corrected_lambda))\n",
    "\n"
   ]
  },
  {
   "cell_type": "code",
   "execution_count": 7,
   "id": "1254207850397409",
   "metadata": {
    "ExecuteTime": {
     "end_time": "2025-02-15T13:48:38.179095Z",
     "start_time": "2025-02-15T13:48:38.052647Z"
    }
   },
   "outputs": [
    {
     "data": {
      "text/plain": [
       "<matplotlib.collections.PathCollection at 0x1af2fda6270>"
      ]
     },
     "execution_count": 7,
     "metadata": {},
     "output_type": "execute_result"
    },
    {
     "data": {
      "image/png": "[encoded data removed]",
      "text/plain": [
       "<Figure size 640x480 with 1 Axes>"
      ]
     },
     "metadata": {},
     "output_type": "display_data"
    }
   ],
   "source": [
    "plt.scatter(vwc_avg, corrected_lambda)"
   ]
  },
  {
   "cell_type": "code",
   "execution_count": 9,
   "id": "6f784acf50d6e88c",
   "metadata": {
    "ExecuteTime": {
     "end_time": "2025-02-15T13:49:39.965804Z",
     "start_time": "2025-02-15T13:49:39.945856Z"
    }
   },
   "outputs": [
    {
     "data": {
      "text/html": [
       "<div>\n",
       "<style scoped>\n",
       "    .dataframe tbody tr th:only-of-type {\n",
       "        vertical-align: middle;\n",
       "    }\n",
       "\n",
       "    .dataframe tbody tr th {\n",
       "        vertical-align: top;\n",
       "    }\n",
       "\n",
       "    .dataframe thead th {\n",
       "        text-align: right;\n",
       "    }\n",
       "</style>\n",
       "<table border=\"1\" class=\"dataframe\">\n",
       "  <thead>\n",
       "    <tr style=\"text-align: right;\">\n",
       "      <th></th>\n",
       "      <th>TIMESTAMP_START</th>\n",
       "      <th>TIMESTAMP_END</th>\n",
       "      <th>ALB</th>\n",
       "      <th>NETRAD</th>\n",
       "      <th>SW_IN</th>\n",
       "      <th>SW_OUT</th>\n",
       "      <th>LW_IN</th>\n",
       "      <th>LW_OUT</th>\n",
       "      <th>T_CANOPY</th>\n",
       "      <th>T_SI111_body</th>\n",
       "      <th>...</th>\n",
       "      <th>WS</th>\n",
       "      <th>WD</th>\n",
       "      <th>LWmV_1_1_1</th>\n",
       "      <th>LWMDry_1_1_1</th>\n",
       "      <th>LWMCon_1_1_1</th>\n",
       "      <th>LWMWet_1_1_1</th>\n",
       "      <th>LWmV_1_1_2</th>\n",
       "      <th>LWMDry_1_1_2</th>\n",
       "      <th>LWMCon_1_1_2</th>\n",
       "      <th>LWMWet_1_1_2</th>\n",
       "    </tr>\n",
       "  </thead>\n",
       "  <tbody>\n",
       "    <tr>\n",
       "      <th>0</th>\n",
       "      <td>202410282330</td>\n",
       "      <td>202410290000</td>\n",
       "      <td>0.00000</td>\n",
       "      <td>-85.74638</td>\n",
       "      <td>-0.902583</td>\n",
       "      <td>0.040889</td>\n",
       "      <td>257.2221</td>\n",
       "      <td>342.0250</td>\n",
       "      <td>4.324737</td>\n",
       "      <td>7.069883</td>\n",
       "      <td>...</td>\n",
       "      <td>2.900254</td>\n",
       "      <td>281.8558</td>\n",
       "      <td>266.8754</td>\n",
       "      <td>100.00000</td>\n",
       "      <td>0.0</td>\n",
       "      <td>0.000000</td>\n",
       "      <td>268.7237</td>\n",
       "      <td>100.0</td>\n",
       "      <td>0.0</td>\n",
       "      <td>0.0</td>\n",
       "    </tr>\n",
       "    <tr>\n",
       "      <th>1</th>\n",
       "      <td>202410290000</td>\n",
       "      <td>202410290030</td>\n",
       "      <td>0.00000</td>\n",
       "      <td>-79.13544</td>\n",
       "      <td>-0.767361</td>\n",
       "      <td>0.042306</td>\n",
       "      <td>263.6420</td>\n",
       "      <td>341.9678</td>\n",
       "      <td>4.513260</td>\n",
       "      <td>6.316626</td>\n",
       "      <td>...</td>\n",
       "      <td>3.143894</td>\n",
       "      <td>278.1910</td>\n",
       "      <td>267.1759</td>\n",
       "      <td>100.00000</td>\n",
       "      <td>0.0</td>\n",
       "      <td>0.000000</td>\n",
       "      <td>269.1077</td>\n",
       "      <td>100.0</td>\n",
       "      <td>0.0</td>\n",
       "      <td>0.0</td>\n",
       "    </tr>\n",
       "    <tr>\n",
       "      <th>2</th>\n",
       "      <td>202410290030</td>\n",
       "      <td>202410290100</td>\n",
       "      <td>0.00000</td>\n",
       "      <td>-80.08758</td>\n",
       "      <td>-0.811583</td>\n",
       "      <td>-0.035361</td>\n",
       "      <td>263.9327</td>\n",
       "      <td>343.2440</td>\n",
       "      <td>4.706057</td>\n",
       "      <td>6.965338</td>\n",
       "      <td>...</td>\n",
       "      <td>2.752384</td>\n",
       "      <td>287.2395</td>\n",
       "      <td>267.0380</td>\n",
       "      <td>100.00000</td>\n",
       "      <td>0.0</td>\n",
       "      <td>0.000000</td>\n",
       "      <td>268.8788</td>\n",
       "      <td>100.0</td>\n",
       "      <td>0.0</td>\n",
       "      <td>0.0</td>\n",
       "    </tr>\n",
       "    <tr>\n",
       "      <th>3</th>\n",
       "      <td>202410290100</td>\n",
       "      <td>202410290130</td>\n",
       "      <td>0.00000</td>\n",
       "      <td>-88.16839</td>\n",
       "      <td>-0.911250</td>\n",
       "      <td>-0.013667</td>\n",
       "      <td>256.4900</td>\n",
       "      <td>343.7608</td>\n",
       "      <td>4.648794</td>\n",
       "      <td>7.650538</td>\n",
       "      <td>...</td>\n",
       "      <td>3.089123</td>\n",
       "      <td>282.4929</td>\n",
       "      <td>266.6425</td>\n",
       "      <td>100.00000</td>\n",
       "      <td>0.0</td>\n",
       "      <td>0.000000</td>\n",
       "      <td>268.3956</td>\n",
       "      <td>100.0</td>\n",
       "      <td>0.0</td>\n",
       "      <td>0.0</td>\n",
       "    </tr>\n",
       "    <tr>\n",
       "      <th>4</th>\n",
       "      <td>202410290130</td>\n",
       "      <td>202410290200</td>\n",
       "      <td>0.00000</td>\n",
       "      <td>-83.43222</td>\n",
       "      <td>-0.830611</td>\n",
       "      <td>0.038806</td>\n",
       "      <td>264.5235</td>\n",
       "      <td>347.0863</td>\n",
       "      <td>5.419833</td>\n",
       "      <td>8.077590</td>\n",
       "      <td>...</td>\n",
       "      <td>4.725887</td>\n",
       "      <td>278.5977</td>\n",
       "      <td>266.1454</td>\n",
       "      <td>100.00000</td>\n",
       "      <td>0.0</td>\n",
       "      <td>0.000000</td>\n",
       "      <td>267.6849</td>\n",
       "      <td>100.0</td>\n",
       "      <td>0.0</td>\n",
       "      <td>0.0</td>\n",
       "    </tr>\n",
       "    <tr>\n",
       "      <th>...</th>\n",
       "      <td>...</td>\n",
       "      <td>...</td>\n",
       "      <td>...</td>\n",
       "      <td>...</td>\n",
       "      <td>...</td>\n",
       "      <td>...</td>\n",
       "      <td>...</td>\n",
       "      <td>...</td>\n",
       "      <td>...</td>\n",
       "      <td>...</td>\n",
       "      <td>...</td>\n",
       "      <td>...</td>\n",
       "      <td>...</td>\n",
       "      <td>...</td>\n",
       "      <td>...</td>\n",
       "      <td>...</td>\n",
       "      <td>...</td>\n",
       "      <td>...</td>\n",
       "      <td>...</td>\n",
       "      <td>...</td>\n",
       "      <td>...</td>\n",
       "    </tr>\n",
       "    <tr>\n",
       "      <th>311</th>\n",
       "      <td>202411041100</td>\n",
       "      <td>202411041130</td>\n",
       "      <td>22.39097</td>\n",
       "      <td>127.88260</td>\n",
       "      <td>328.304000</td>\n",
       "      <td>75.300720</td>\n",
       "      <td>229.4426</td>\n",
       "      <td>354.5634</td>\n",
       "      <td>7.653487</td>\n",
       "      <td>6.293955</td>\n",
       "      <td>...</td>\n",
       "      <td>2.430619</td>\n",
       "      <td>278.5589</td>\n",
       "      <td>263.2868</td>\n",
       "      <td>99.72222</td>\n",
       "      <td>0.0</td>\n",
       "      <td>0.277778</td>\n",
       "      <td>264.3221</td>\n",
       "      <td>100.0</td>\n",
       "      <td>0.0</td>\n",
       "      <td>0.0</td>\n",
       "    </tr>\n",
       "    <tr>\n",
       "      <th>312</th>\n",
       "      <td>202411041130</td>\n",
       "      <td>202411041200</td>\n",
       "      <td>23.93350</td>\n",
       "      <td>252.91150</td>\n",
       "      <td>526.371500</td>\n",
       "      <td>125.985700</td>\n",
       "      <td>227.8604</td>\n",
       "      <td>375.3348</td>\n",
       "      <td>12.161940</td>\n",
       "      <td>9.471169</td>\n",
       "      <td>...</td>\n",
       "      <td>1.562718</td>\n",
       "      <td>259.0669</td>\n",
       "      <td>261.4109</td>\n",
       "      <td>100.00000</td>\n",
       "      <td>0.0</td>\n",
       "      <td>0.000000</td>\n",
       "      <td>263.6249</td>\n",
       "      <td>100.0</td>\n",
       "      <td>0.0</td>\n",
       "      <td>0.0</td>\n",
       "    </tr>\n",
       "    <tr>\n",
       "      <th>313</th>\n",
       "      <td>202411041200</td>\n",
       "      <td>202411041230</td>\n",
       "      <td>24.09812</td>\n",
       "      <td>272.57280</td>\n",
       "      <td>558.391000</td>\n",
       "      <td>134.562300</td>\n",
       "      <td>228.8342</td>\n",
       "      <td>380.0901</td>\n",
       "      <td>12.605790</td>\n",
       "      <td>10.032300</td>\n",
       "      <td>...</td>\n",
       "      <td>1.821330</td>\n",
       "      <td>277.2256</td>\n",
       "      <td>261.0339</td>\n",
       "      <td>100.00000</td>\n",
       "      <td>0.0</td>\n",
       "      <td>0.000000</td>\n",
       "      <td>263.0309</td>\n",
       "      <td>100.0</td>\n",
       "      <td>0.0</td>\n",
       "      <td>0.0</td>\n",
       "    </tr>\n",
       "    <tr>\n",
       "      <th>314</th>\n",
       "      <td>202411041230</td>\n",
       "      <td>202411041300</td>\n",
       "      <td>24.22349</td>\n",
       "      <td>284.00750</td>\n",
       "      <td>577.907100</td>\n",
       "      <td>139.988200</td>\n",
       "      <td>229.2270</td>\n",
       "      <td>383.1382</td>\n",
       "      <td>12.928760</td>\n",
       "      <td>10.437600</td>\n",
       "      <td>...</td>\n",
       "      <td>1.963593</td>\n",
       "      <td>232.4496</td>\n",
       "      <td>260.8577</td>\n",
       "      <td>100.00000</td>\n",
       "      <td>0.0</td>\n",
       "      <td>0.000000</td>\n",
       "      <td>262.3393</td>\n",
       "      <td>100.0</td>\n",
       "      <td>0.0</td>\n",
       "      <td>0.0</td>\n",
       "    </tr>\n",
       "    <tr>\n",
       "      <th>315</th>\n",
       "      <td>202411041300</td>\n",
       "      <td>202411041330</td>\n",
       "      <td>24.00883</td>\n",
       "      <td>282.76450</td>\n",
       "      <td>580.782200</td>\n",
       "      <td>140.037600</td>\n",
       "      <td>229.1895</td>\n",
       "      <td>387.1695</td>\n",
       "      <td>13.569840</td>\n",
       "      <td>10.972760</td>\n",
       "      <td>...</td>\n",
       "      <td>1.590160</td>\n",
       "      <td>219.2772</td>\n",
       "      <td>260.5353</td>\n",
       "      <td>100.00000</td>\n",
       "      <td>0.0</td>\n",
       "      <td>0.000000</td>\n",
       "      <td>262.0099</td>\n",
       "      <td>100.0</td>\n",
       "      <td>0.0</td>\n",
       "      <td>0.0</td>\n",
       "    </tr>\n",
       "  </tbody>\n",
       "</table>\n",
       "<p>316 rows × 57 columns</p>\n",
       "</div>"
      ],
      "text/plain": [
       "     TIMESTAMP_START  TIMESTAMP_END       ALB     NETRAD       SW_IN  \\\n",
       "0       202410282330   202410290000   0.00000  -85.74638   -0.902583   \n",
       "1       202410290000   202410290030   0.00000  -79.13544   -0.767361   \n",
       "2       202410290030   202410290100   0.00000  -80.08758   -0.811583   \n",
       "3       202410290100   202410290130   0.00000  -88.16839   -0.911250   \n",
       "4       202410290130   202410290200   0.00000  -83.43222   -0.830611   \n",
       "..               ...            ...       ...        ...         ...   \n",
       "311     202411041100   202411041130  22.39097  127.88260  328.304000   \n",
       "312     202411041130   202411041200  23.93350  252.91150  526.371500   \n",
       "313     202411041200   202411041230  24.09812  272.57280  558.391000   \n",
       "314     202411041230   202411041300  24.22349  284.00750  577.907100   \n",
       "315     202411041300   202411041330  24.00883  282.76450  580.782200   \n",
       "\n",
       "         SW_OUT     LW_IN    LW_OUT   T_CANOPY  T_SI111_body  ...        WS  \\\n",
       "0      0.040889  257.2221  342.0250   4.324737      7.069883  ...  2.900254   \n",
       "1      0.042306  263.6420  341.9678   4.513260      6.316626  ...  3.143894   \n",
       "2     -0.035361  263.9327  343.2440   4.706057      6.965338  ...  2.752384   \n",
       "3     -0.013667  256.4900  343.7608   4.648794      7.650538  ...  3.089123   \n",
       "4      0.038806  264.5235  347.0863   5.419833      8.077590  ...  4.725887   \n",
       "..          ...       ...       ...        ...           ...  ...       ...   \n",
       "311   75.300720  229.4426  354.5634   7.653487      6.293955  ...  2.430619   \n",
       "312  125.985700  227.8604  375.3348  12.161940      9.471169  ...  1.562718   \n",
       "313  134.562300  228.8342  380.0901  12.605790     10.032300  ...  1.821330   \n",
       "314  139.988200  229.2270  383.1382  12.928760     10.437600  ...  1.963593   \n",
       "315  140.037600  229.1895  387.1695  13.569840     10.972760  ...  1.590160   \n",
       "\n",
       "           WD  LWmV_1_1_1  LWMDry_1_1_1  LWMCon_1_1_1  LWMWet_1_1_1  \\\n",
       "0    281.8558    266.8754     100.00000           0.0      0.000000   \n",
       "1    278.1910    267.1759     100.00000           0.0      0.000000   \n",
       "2    287.2395    267.0380     100.00000           0.0      0.000000   \n",
       "3    282.4929    266.6425     100.00000           0.0      0.000000   \n",
       "4    278.5977    266.1454     100.00000           0.0      0.000000   \n",
       "..        ...         ...           ...           ...           ...   \n",
       "311  278.5589    263.2868      99.72222           0.0      0.277778   \n",
       "312  259.0669    261.4109     100.00000           0.0      0.000000   \n",
       "313  277.2256    261.0339     100.00000           0.0      0.000000   \n",
       "314  232.4496    260.8577     100.00000           0.0      0.000000   \n",
       "315  219.2772    260.5353     100.00000           0.0      0.000000   \n",
       "\n",
       "     LWmV_1_1_2  LWMDry_1_1_2  LWMCon_1_1_2  LWMWet_1_1_2  \n",
       "0      268.7237         100.0           0.0           0.0  \n",
       "1      269.1077         100.0           0.0           0.0  \n",
       "2      268.8788         100.0           0.0           0.0  \n",
       "3      268.3956         100.0           0.0           0.0  \n",
       "4      267.6849         100.0           0.0           0.0  \n",
       "..          ...           ...           ...           ...  \n",
       "311    264.3221         100.0           0.0           0.0  \n",
       "312    263.6249         100.0           0.0           0.0  \n",
       "313    263.0309         100.0           0.0           0.0  \n",
       "314    262.3393         100.0           0.0           0.0  \n",
       "315    262.0099         100.0           0.0           0.0  \n",
       "\n",
       "[316 rows x 57 columns]"
      ]
     },
     "execution_count": 9,
     "metadata": {},
     "output_type": "execute_result"
    }
   ],
   "source": [
    "df#['VWC_1_1_1']"
   ]
  },
  {
   "cell_type": "code",
   "execution_count": 23,
   "id": "0455b0e5-bdf5-450e-899c-28b80d6b57b5",
   "metadata": {
    "execution": {
     "iopub.execute_input": "2025-02-14T04:57:16.782363Z",
     "iopub.status.busy": "2025-02-14T04:57:16.781962Z",
     "iopub.status.idle": "2025-02-14T04:57:16.970307Z",
     "shell.execute_reply": "2025-02-14T04:57:16.969412Z",
     "shell.execute_reply.started": "2025-02-14T04:57:16.782334Z"
    }
   },
   "outputs": [
    {
     "data": {
      "image/png": "[encoded data removed]",
      "text/plain": [
       "<Figure size 640x480 with 1 Axes>"
      ]
     },
     "metadata": {},
     "output_type": "display_data"
    }
   ],
   "source": [
    "import matplotlib.pyplot as plt\n",
    "G_df[\"G_1_2\"].plot()\n",
    "G_df[\"G_2_3\"].shift(-2).plot()\n",
    "G_df[\"G_3_4\"].shift(-5).plot()\n",
    "plt.grid()"
   ]
  }
 ],
 "metadata": {
  "kernelspec": {
   "display_name": "py313",
   "language": "python",
   "name": "python3"
  },
  "language_info": {
   "codemirror_mode": {
    "name": "ipython",
    "version": 3
   },
   "file_extension": ".py",
   "mimetype": "text/x-python",
   "name": "python",
   "nbconvert_exporter": "python",
   "pygments_lexer": "ipython3",
   "version": "3.13.1"
  }
 },
 "nbformat": 4,
 "nbformat_minor": 5
}
