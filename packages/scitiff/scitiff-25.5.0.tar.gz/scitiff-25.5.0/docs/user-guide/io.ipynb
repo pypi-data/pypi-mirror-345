{
 "cells": [
  {
   "cell_type": "markdown",
   "metadata": {},
   "source": [
    "# IO\n",
    "\n",
    "\n",
    "## Export Tiff Image with Meta Data"
   ]
  },
  {
   "cell_type": "code",
   "execution_count": null,
   "metadata": {},
   "outputs": [],
   "source": [
    "from scitiff.data import hyperstack_example\n",
    "import scipp as sc\n",
    "\n",
    "sample_img = hyperstack_example()\n",
    "sample_img"
   ]
  },
  {
   "cell_type": "code",
   "execution_count": null,
   "metadata": {},
   "outputs": [],
   "source": [
    "config = {\"grid\": True, \"aspect\": True}\n",
    "img = sample_img.mean('c').mean('z')\n",
    "(img['t', 0].plot(title='T=0', **config) + img['t', 1].plot(title='T=1', **config)) / (\n",
    "    img['t', 2].plot(title='T=2', **config) + img['t', 3].plot(title='T=3', **config)\n",
    ")"
   ]
  },
  {
   "cell_type": "code",
   "execution_count": null,
   "metadata": {},
   "outputs": [],
   "source": [
    "from scitiff.io import save_scitiff\n",
    "\n",
    "save_scitiff(sample_img, 'sample_img.tiff')"
   ]
  },
  {
   "cell_type": "markdown",
   "metadata": {},
   "source": [
    "## Load TIFF Image with Meta Data"
   ]
  },
  {
   "cell_type": "code",
   "execution_count": null,
   "metadata": {},
   "outputs": [],
   "source": [
    "from scitiff.io import load_scitiff\n",
    "\n",
    "loaded_scitiff: sc.DataGroup[sc.DataArray] = load_scitiff('sample_img.tiff')\n",
    "loaded_scitiff"
   ]
  },
  {
   "cell_type": "code",
   "execution_count": null,
   "metadata": {},
   "outputs": [],
   "source": [
    "loaded_scitiff['image']"
   ]
  },
  {
   "cell_type": "code",
   "execution_count": null,
   "metadata": {},
   "outputs": [],
   "source": [
    "config = {\"grid\": True, \"aspect\": True}\n",
    "loaded_img = loaded_scitiff['image'].mean('c').mean('z')\n",
    "(\n",
    "    loaded_img['t', 0].plot(title='T=0', **config)\n",
    "    + loaded_img['t', 1].plot(title='T=1', **config)\n",
    ") / (\n",
    "    loaded_img['t', 2].plot(title='T=2', **config)\n",
    "    + loaded_img['t', 3].plot(title='T=3', **config)\n",
    ")"
   ]
  },
  {
   "cell_type": "markdown",
   "metadata": {},
   "source": [
    "## Load Non-Scitiff Images\n",
    "\n",
    "Sometimes you might want to load tiff images that are not compatible with scitiff.\n",
    "i.e. no metadata, incompatible dtype, or broken metadata with wrong fields or values.\n",
    "\n",
    "``load_scitiff`` will try to load metadata and handle incompatible profiles, but if it is not possible it will load the tiff image as it is and wrap it into scipp data structure.\n",
    "\n",
    ".. note::\n",
    "    ``load_scitiff` will throws warning if it fails to load the file as expected way\n",
    "    so please pay attention to the warning messages."
   ]
  },
  {
   "cell_type": "code",
   "execution_count": null,
   "metadata": {},
   "outputs": [],
   "source": [
    "import tifffile as tf\n",
    "\n",
    "tf.imwrite('no-meta.tiff', data=sample_img.values)\n",
    "no_meta_loaded_image = load_scitiff('no-meta.tiff')['image']\n",
    "display(no_meta_loaded_image)\n",
    "no_meta_loaded_image_reduced = no_meta_loaded_image.sum('dim_0').sum('dim_2')\n",
    "(\n",
    "    no_meta_loaded_image_reduced['dim_1', 0].plot(title='dim_1=0', **config)\n",
    "    + no_meta_loaded_image_reduced['dim_1', 1].plot(title='dim_1=1', **config)\n",
    ") / (\n",
    "    no_meta_loaded_image_reduced['dim_1', 2].plot(title='dim_1=2', **config)\n",
    "    + no_meta_loaded_image_reduced['dim_1', 3].plot(title='dim_1=3', **config)\n",
    ")"
   ]
  },
  {
   "cell_type": "markdown",
   "metadata": {},
   "source": [
    ".. tip::\n",
    "    You can rename the dimensions and use it just like other scitiff images.\n",
    "    Do it only if you know which `dim_{i}` corresponds to which of ('t', 'z', 'c', 'y', 'x')."
   ]
  },
  {
   "cell_type": "code",
   "execution_count": null,
   "metadata": {},
   "outputs": [],
   "source": [
    "renamed_image = no_meta_loaded_image.rename_dims({\n",
    "    \"dim_0\": \"c\", \"dim_1\": \"t\", \"dim_2\": \"z\", \"dim_3\": \"y\", \"dim_4\": \"x\"\n",
    "})\n",
    "display(renamed_image)\n",
    "renamed_image_reduced = renamed_image.sum('z').sum('c')\n",
    "(\n",
    "    renamed_image_reduced['t', 0].plot(title='T=0', **config)\n",
    "    + renamed_image_reduced['t', 1].plot(title='T=1', **config)\n",
    ") / (\n",
    "    renamed_image_reduced['t', 2].plot(title='T=2', **config)\n",
    "    + renamed_image_reduced['t', 3].plot(title='T=3', **config)\n",
    ")"
   ]
  }
 ],
 "metadata": {
  "kernelspec": {
   "display_name": "scitiff-dev-310",
   "language": "python",
   "name": "python3"
  },
  "language_info": {
   "codemirror_mode": {
    "name": "ipython",
    "version": 3
   },
   "file_extension": ".py",
   "mimetype": "text/x-python",
   "name": "python",
   "nbconvert_exporter": "python",
   "pygments_lexer": "ipython3",
   "version": "3.10.16"
  }
 },
 "nbformat": 4,
 "nbformat_minor": 2
}
