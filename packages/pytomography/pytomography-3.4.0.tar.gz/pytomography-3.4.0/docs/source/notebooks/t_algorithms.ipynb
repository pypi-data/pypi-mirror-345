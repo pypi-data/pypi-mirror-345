{
 "cells": [
  {
   "cell_type": "markdown",
   "id": "e43ee31a",
   "metadata": {
    "papermill": {
     "duration": 0.003902,
     "end_time": "2024-11-19T22:19:17.312090",
     "exception": false,
     "start_time": "2024-11-19T22:19:17.308188",
     "status": "completed"
    },
    "tags": []
   },
   "source": [
    "# Algorithms"
   ]
  },
  {
   "cell_type": "code",
   "execution_count": 1,
   "id": "c65c7bdc",
   "metadata": {
    "execution": {
     "iopub.execute_input": "2024-11-19T22:19:17.321522Z",
     "iopub.status.busy": "2024-11-19T22:19:17.321031Z",
     "iopub.status.idle": "2024-11-19T22:19:21.237428Z",
     "shell.execute_reply": "2024-11-19T22:19:21.236472Z"
    },
    "papermill": {
     "duration": 3.923133,
     "end_time": "2024-11-19T22:19:21.239315",
     "exception": false,
     "start_time": "2024-11-19T22:19:17.316182",
     "status": "completed"
    },
    "tags": []
   },
   "outputs": [],
   "source": [
    "import inspect\n",
    "import matplotlib.pyplot as plt\n",
    "import torch\n",
    "from pytomography.io.SPECT import simind, dicom\n",
    "from pytomography.projectors.SPECT import SPECTSystemMatrix\n",
    "from pytomography.transforms.SPECT import SPECTAttenuationTransform, SPECTPSFTransform\n",
    "from pytomography.algorithms import OSEM\n",
    "from pytomography.likelihoods import PoissonLogLikelihood\n",
    "from pytomography.algorithms import OSEM, OSMAPOSL, BSREM, KEM\n",
    "import matplotlib.pyplot as plt\n",
    "import torch\n",
    "from pytomography.priors import RelativeDifferencePrior\n",
    "from pytomography.priors import TopNAnatomyNeighbourWeight\n",
    "from pytomography.likelihoods import PoissonLogLikelihood\n",
    "from pytomography.transforms.shared import KEMTransform\n",
    "from pytomography.projectors.shared import KEMSystemMatrix\n",
    "import os"
   ]
  },
  {
   "cell_type": "code",
   "execution_count": 2,
   "id": "662fb3f3",
   "metadata": {
    "execution": {
     "iopub.execute_input": "2024-11-19T22:19:21.259640Z",
     "iopub.status.busy": "2024-11-19T22:19:21.258340Z",
     "iopub.status.idle": "2024-11-19T22:19:21.263007Z",
     "shell.execute_reply": "2024-11-19T22:19:21.262292Z"
    },
    "papermill": {
     "duration": 0.020643,
     "end_time": "2024-11-19T22:19:21.264328",
     "exception": false,
     "start_time": "2024-11-19T22:19:21.243685",
     "status": "completed"
    },
    "tags": []
   },
   "outputs": [],
   "source": [
    "# CHANGE THIS TO WHERE YOU DOWNLOADED THE TUTORIAL DATA\n",
    "PATH = '/mnt/mydisk2/pytomo_tutorial_data/SPECT'"
   ]
  },
  {
   "cell_type": "markdown",
   "id": "16da0d6d",
   "metadata": {
    "papermill": {
     "duration": 0.004,
     "end_time": "2024-11-19T22:19:21.272549",
     "exception": false,
     "start_time": "2024-11-19T22:19:21.268549",
     "status": "completed"
    },
    "tags": []
   },
   "source": [
    "The code below is a summary of the SIMIND/DICOM introduciton tutorials. You can select whether or not to explore the SIMIND/DICOM data here\n",
    "\n",
    "* This demonstrates what kind of code is reusable whether or not you're reconstructing SIMIND or DICOM data"
   ]
  },
  {
   "cell_type": "code",
   "execution_count": 3,
   "id": "878763e4",
   "metadata": {
    "execution": {
     "iopub.execute_input": "2024-11-19T22:19:21.294798Z",
     "iopub.status.busy": "2024-11-19T22:19:21.294509Z",
     "iopub.status.idle": "2024-11-19T22:19:21.297773Z",
     "shell.execute_reply": "2024-11-19T22:19:21.297231Z"
    },
    "papermill": {
     "duration": 0.013716,
     "end_time": "2024-11-19T22:19:21.302750",
     "exception": false,
     "start_time": "2024-11-19T22:19:21.289034",
     "status": "completed"
    },
    "tags": []
   },
   "outputs": [],
   "source": [
    "TYPE = 'DICOM' # DICOM or SIMIND"
   ]
  },
  {
   "cell_type": "code",
   "execution_count": 4,
   "id": "90402353",
   "metadata": {
    "execution": {
     "iopub.execute_input": "2024-11-19T22:19:21.312501Z",
     "iopub.status.busy": "2024-11-19T22:19:21.312225Z",
     "iopub.status.idle": "2024-11-19T22:19:26.679180Z",
     "shell.execute_reply": "2024-11-19T22:19:26.678328Z"
    },
    "papermill": {
     "duration": 5.374121,
     "end_time": "2024-11-19T22:19:26.680959",
     "exception": false,
     "start_time": "2024-11-19T22:19:21.306838",
     "status": "completed"
    },
    "tags": []
   },
   "outputs": [
    {
     "name": "stdout",
     "output_type": "stream",
     "text": [
      "Given photopeak energy 208.0 keV and CT energy 130 keV from the CT DICOM header, the HU->mu conversion from the following configuration is used: 208.0 keV SPECT energy, 130 keV CT energy, and scanner model symbiat2\n",
      "Given photopeak energy 208.0 keV and CT energy 130 keV from the CT DICOM header, the HU->mu conversion from the following configuration is used: 208.0 keV SPECT energy, 130 keV CT energy, and scanner model symbiat2\n"
     ]
    }
   ],
   "source": [
    "if TYPE=='SIMIND':\n",
    "    data_path = os.path.join(PATH, 'SIMIND-Jaszak', 'lu177_SYME_jaszak')\n",
    "    IDX_AXIAL = 64 # for plotting\n",
    "    photopeak_path = os.path.join(data_path,'tot_w4.h00')\n",
    "    lower_path = os.path.join(data_path, 'tot_w5.h00')\n",
    "    upper_path = os.path.join(data_path, 'tot_w6.h00')\n",
    "    path_amap = os.path.join(data_path,'amap.hct')\n",
    "    object_meta, proj_meta = simind.get_metadata(photopeak_path)\n",
    "    photopeak = simind.get_projections(photopeak_path)\n",
    "    activity = 1000 # MBq \n",
    "    time_per_proj = 15 # s\n",
    "    photopeak = torch.poisson(photopeak * activity * time_per_proj)\n",
    "    lower = simind.get_projections(lower_path)\n",
    "    upper = simind.get_projections(upper_path)\n",
    "    lower_realization = torch.poisson(lower * activity * time_per_proj)\n",
    "    upper_realization = torch.poisson(upper * activity * time_per_proj)\n",
    "    ww_peak, ww_lower, ww_upper = [simind.get_energy_window_width(path) for path in [photopeak_path, lower_path, upper_path]]\n",
    "    scatter = simind.compute_EW_scatter(lower_realization, upper_realization , ww_lower, ww_upper, ww_peak)\n",
    "    amap = simind.get_attenuation_map(path_amap)\n",
    "    psf_meta = simind.get_psfmeta_from_header(photopeak_path)\n",
    "    att_transform = SPECTAttenuationTransform(amap)\n",
    "    psf_transform = SPECTPSFTransform(psf_meta)\n",
    "elif TYPE=='DICOM':\n",
    "    data_path = os.path.join(PATH, 'Lu177-NEMA-SymT2')\n",
    "    IDX_AXIAL = 61 # for plotting\n",
    "    path_CT = os.path.join(data_path, 'CT')\n",
    "    files_CT = [os.path.join(path_CT, file) for file in os.listdir(path_CT)]\n",
    "    file_NM = os.path.join(data_path, 'projection_data.dcm')\n",
    "    object_meta, proj_meta = dicom.get_metadata(file_NM, index_peak=0)\n",
    "    photopeak = dicom.get_projections(file_NM, index_peak=0)\n",
    "    scatter = dicom.get_energy_window_scatter_estimate(file_NM, index_peak=0, index_lower=1, index_upper=2)\n",
    "    att_transform = SPECTAttenuationTransform(filepath=files_CT)\n",
    "    att_transform.configure(object_meta, proj_meta)\n",
    "    amap = att_transform.attenuation_map\n",
    "    collimator_name = 'SY-ME'\n",
    "    energy_kev = 208 #keV\n",
    "    intrinsic_resolution=0.38 #mm\n",
    "    psf_meta = dicom.get_psfmeta_from_scanner_params(\n",
    "        collimator_name,\n",
    "        energy_kev,\n",
    "        intrinsic_resolution=intrinsic_resolution\n",
    "    )\n",
    "    psf_transform = SPECTPSFTransform(psf_meta)\n",
    "    \n",
    "system_matrix = SPECTSystemMatrix(\n",
    "    obj2obj_transforms = [att_transform,psf_transform],\n",
    "    proj2proj_transforms = [],\n",
    "    object_meta = object_meta,\n",
    "    proj_meta = proj_meta\n",
    ")\n",
    "likelihood = PoissonLogLikelihood(\n",
    "    system_matrix = system_matrix,\n",
    "    projections = photopeak,\n",
    "    additive_term = scatter\n",
    ")"
   ]
  },
  {
   "cell_type": "markdown",
   "id": "381bcb67",
   "metadata": {
    "papermill": {
     "duration": 0.003816,
     "end_time": "2024-11-19T22:19:26.688955",
     "exception": false,
     "start_time": "2024-11-19T22:19:26.685139",
     "status": "completed"
    },
    "tags": []
   },
   "source": [
    "## Reconstruction Algorithms"
   ]
  },
  {
   "cell_type": "markdown",
   "id": "88403f3d",
   "metadata": {
    "papermill": {
     "duration": 0.003479,
     "end_time": "2024-11-19T22:19:26.696254",
     "exception": false,
     "start_time": "2024-11-19T22:19:26.692775",
     "status": "completed"
    },
    "tags": []
   },
   "source": [
    "With the likelihood established, we can now reconstruct our data. This tutorial will focus on ordered-subset preconditioned gradient ascent algorithms, which all have the form\n",
    "\n",
    "$$\\hat{f}^{n+1} = \\hat{f}^{n} + C^{n}(\\hat{f}^{n}) \\left[\\nabla_{f} L(g|f^{n}) - \\beta \\nabla_{f} V \\right] $$\n",
    "\n",
    "* $\\hat{f}^{n}$ is the object estimate of the nth iteration\n",
    "* $C^{n}(\\hat{f}^{n})$ is the preconditioner, which can depend on the current image estimate $\\hat{f}$\n",
    "* $\\nabla_{f} L(g|\\hat{f}^{n})$ is the gradient of the likelihood function\n",
    "* $\\nabla_{f} V$ is the gradient of some additional penalization or prior function, and $\\beta$ is a scaling factor."
   ]
  },
  {
   "cell_type": "markdown",
   "id": "483a1405",
   "metadata": {
    "papermill": {
     "duration": 0.003451,
     "end_time": "2024-11-19T22:19:26.703283",
     "exception": false,
     "start_time": "2024-11-19T22:19:26.699832",
     "status": "completed"
    },
    "tags": []
   },
   "source": [
    "### 4.1 OSEM\n",
    "\n",
    "The ordered-subset expectation maximum algorithm (OSEM) in SPECT imaging corresponds to\n",
    "\n",
    "* $C^{n}(\\hat{f}^{n}) = \\hat{f}^{n} / H^T 1$\n",
    "* $\\nabla_{f} L(g|f^{n}) = H^T \\left(\\frac{g}{H \\hat{f}^{n} + s}-H^T 1\\right)$ -> this is because of Poisson statistics\n",
    "* $V=0$\n",
    "\n",
    "so the reconstruction algorithm can be written as\n",
    "\n",
    "$$\\hat{f}^{n} = \\left[\\frac{1}{H^T 1} H^T \\left(\\frac{g}{H\\hat{f}^{n}+s}\\right)\\right] \\hat{f}^{n}$$\n",
    "\n",
    "To reconstruct with OSEM, we first create the reconstruction algorithm, then specify the number of iterations/subsets required for reconstruction."
   ]
  },
  {
   "cell_type": "code",
   "execution_count": 5,
   "id": "04378b92",
   "metadata": {
    "execution": {
     "iopub.execute_input": "2024-11-19T22:19:26.712299Z",
     "iopub.status.busy": "2024-11-19T22:19:26.711783Z",
     "iopub.status.idle": "2024-11-19T22:19:34.521561Z",
     "shell.execute_reply": "2024-11-19T22:19:34.520402Z"
    },
    "papermill": {
     "duration": 7.816516,
     "end_time": "2024-11-19T22:19:34.523355",
     "exception": false,
     "start_time": "2024-11-19T22:19:26.706839",
     "status": "completed"
    },
    "tags": []
   },
   "outputs": [],
   "source": [
    "recon_algorithm = OSEM(likelihood)\n",
    "recon_OSEM = recon_algorithm(n_iters = 4, n_subsets = 8)"
   ]
  },
  {
   "cell_type": "markdown",
   "id": "43604853",
   "metadata": {
    "papermill": {
     "duration": 0.003715,
     "end_time": "2024-11-19T22:19:34.531226",
     "exception": false,
     "start_time": "2024-11-19T22:19:34.527511",
     "status": "completed"
    },
    "tags": []
   },
   "source": [
    "### 4.2 OSMAPOSL"
   ]
  },
  {
   "cell_type": "markdown",
   "id": "2a1276c8",
   "metadata": {
    "papermill": {
     "duration": 0.003565,
     "end_time": "2024-11-19T22:19:34.538721",
     "exception": false,
     "start_time": "2024-11-19T22:19:34.535156",
     "status": "completed"
    },
    "tags": []
   },
   "source": [
    "The ordered subset maximum a posteriori one step late (OSMAPOSL) algorithm is an extension of OSEM that encorporates a prior function $V$\n",
    "\n",
    "* $C^{n}(\\hat{f}^{n}) = \\frac{\\hat{f}^{n}}{H^T 1 + \\beta \\nabla_{f^{n}} V}$\n",
    "* $\\nabla_{f^{n}} L(g|f^{n}) = H^T \\left(\\frac{g}{H \\hat{f}^{n} + s}-H^T 1\\right)$ -> this is because of Poisson statistics\n",
    "\n",
    "Thus the algorithm can be written as\n",
    "\n",
    "$$\\hat{f}^{n} = \\left[\\frac{1}{H^T 1  + \\beta \\nabla_{f} V} H^T \\left(\\frac{g}{H\\hat{f}^{n}+s}\\right)\\right] \\hat{f}^{n} $$\n",
    "\n",
    "The user need to provide the smoothing function $V$. In this case, we'll use a relative difference penalty for each voxel that only includes contributing terms from the 8 nearest neighbours based on the anatomical image.\n",
    "\n",
    "* `beta` (which is $\\beta$ above) is the scaling factor for the prior\n",
    "* `gamma` is a hyperparameter for the relative difference prior."
   ]
  },
  {
   "cell_type": "code",
   "execution_count": 6,
   "id": "d37bbc65",
   "metadata": {
    "execution": {
     "iopub.execute_input": "2024-11-19T22:19:34.547745Z",
     "iopub.status.busy": "2024-11-19T22:19:34.546997Z",
     "iopub.status.idle": "2024-11-19T22:21:01.081197Z",
     "shell.execute_reply": "2024-11-19T22:21:01.080059Z"
    },
    "papermill": {
     "duration": 86.540718,
     "end_time": "2024-11-19T22:21:01.083019",
     "exception": false,
     "start_time": "2024-11-19T22:19:34.542301",
     "status": "completed"
    },
    "tags": []
   },
   "outputs": [],
   "source": [
    "weight_top8anatomy = TopNAnatomyNeighbourWeight(amap, N_neighbours=8)\n",
    "prior_rdpap = RelativeDifferencePrior(beta=0.3, gamma=2, weight=weight_top8anatomy)\n",
    "# to use all nearest neighbours (non attenuation map based) use the code below:\n",
    "# prior_rdp = RelativeDifferencePrior(beta=0.3, gamma=2)\n",
    "recon_algorithm_osmaposl = OSMAPOSL(\n",
    "    likelihood = likelihood,\n",
    "    prior = prior_rdpap)\n",
    "recon_osmaposl = recon_algorithm_osmaposl(n_iters = 40, n_subsets = 8)"
   ]
  },
  {
   "cell_type": "markdown",
   "id": "4656dfb9",
   "metadata": {
    "papermill": {
     "duration": 0.005289,
     "end_time": "2024-11-19T22:21:01.092558",
     "exception": false,
     "start_time": "2024-11-19T22:21:01.087269",
     "status": "completed"
    },
    "tags": []
   },
   "source": [
    "### 4.3 BSREM"
   ]
  },
  {
   "cell_type": "markdown",
   "id": "a0d367ce",
   "metadata": {
    "papermill": {
     "duration": 0.003569,
     "end_time": "2024-11-19T22:21:01.099987",
     "exception": false,
     "start_time": "2024-11-19T22:21:01.096418",
     "status": "completed"
    },
    "tags": []
   },
   "source": [
    "The Block Sequential Regularized Expectation Maximum (BSREM) algorithm is another way of incorporating a prior funciton in a reconstruction algorithm. It has the form\n",
    "\n",
    "* $C^{n}(\\hat{f}^{n}) = \\alpha_n \\frac{\\hat{f}^{n}}{\\omega_m H^T 1}$ where $\\alpha_n$ is a user defined \"relaxation\" sequence and $\\omega_n = S_n/M$ is the number of elements in the subset $S_n$ considered in iteration $n$ divided by the total number of subsets $M$\n",
    "* $\\nabla_{f} L(g|f^{n}) = H^T \\left(\\frac{g}{H \\hat{f}^{n} + s}-H^T 1\\right)$ -> this is because of Poisson statistics\n",
    "\n",
    "The reconstruction algorithm can thus be written as\n",
    "\n",
    "$$\\hat{f}^{n+1} = \\hat{f}^{n} + \\alpha_n \\frac{\\hat{f}^{n}}{\\omega_n H^T 1} \\left[H^T \\left(\\frac{g}{H \\hat{f}^{n} + s} -1 \\right) - \\beta \\nabla_{f^{n}} V \\right] $$"
   ]
  },
  {
   "cell_type": "markdown",
   "id": "210453a4",
   "metadata": {
    "papermill": {
     "duration": 0.003758,
     "end_time": "2024-11-19T22:21:01.107529",
     "exception": false,
     "start_time": "2024-11-19T22:21:01.103771",
     "status": "completed"
    },
    "tags": []
   },
   "source": [
    "In addition to the prior $V$, we also specify the relaxation sequence $\\alpha_n$ when creating the algorithm (if `relaxation_sequence` is not provided, it defaults to 1 for all $n$)"
   ]
  },
  {
   "cell_type": "code",
   "execution_count": 7,
   "id": "ffce5898",
   "metadata": {
    "execution": {
     "iopub.execute_input": "2024-11-19T22:21:01.116369Z",
     "iopub.status.busy": "2024-11-19T22:21:01.115861Z",
     "iopub.status.idle": "2024-11-19T22:22:25.439460Z",
     "shell.execute_reply": "2024-11-19T22:22:25.438397Z"
    },
    "papermill": {
     "duration": 84.330236,
     "end_time": "2024-11-19T22:22:25.441311",
     "exception": false,
     "start_time": "2024-11-19T22:21:01.111075",
     "status": "completed"
    },
    "tags": []
   },
   "outputs": [],
   "source": [
    "weight_top8anatomy = TopNAnatomyNeighbourWeight(amap, N_neighbours=8)\n",
    "prior_rdpap = RelativeDifferencePrior(beta=0.3, gamma=2, weight=weight_top8anatomy)\n",
    "recon_algorithm_bsrem = BSREM(\n",
    "    likelihood = likelihood,\n",
    "    prior = prior_rdpap,\n",
    "    relaxation_sequence = lambda n: 1/(n/50+1))\n",
    "recon_bsrem = recon_algorithm_bsrem(40,8)"
   ]
  },
  {
   "cell_type": "markdown",
   "id": "48ebc119",
   "metadata": {
    "papermill": {
     "duration": 0.00353,
     "end_time": "2024-11-19T22:22:25.449231",
     "exception": false,
     "start_time": "2024-11-19T22:22:25.445701",
     "status": "completed"
    },
    "tags": []
   },
   "source": [
    "### 4.4 KEM"
   ]
  },
  {
   "cell_type": "markdown",
   "id": "df498ff9",
   "metadata": {
    "papermill": {
     "duration": 0.00401,
     "end_time": "2024-11-19T22:22:25.457223",
     "exception": false,
     "start_time": "2024-11-19T22:22:25.453213",
     "status": "completed"
    },
    "tags": []
   },
   "source": [
    "The kernel expectation maximum (KEM) algorithm assumes the reconstructed object $\\hat{f}^{n}$ can be represented by a kernel operator acting on a correspond 3D \"image\" of coefficients $\\hat{\\alpha}^{n}$ such that $\\hat{f}^{n} = K \\hat{\\alpha}^{n}$. The coefficient image $\\hat{\\alpha}^{n}$ is obtained via regular OSEM updates with a modified system matrix $\\tilde{H} = H K$, so image updates (in SPECT/PET) have the form:\n",
    "\n",
    "$$\\hat{\\alpha}^{n+1} = \\left[\\frac{1}{\\tilde{H}^T 1} \\tilde{H}^T \\left(\\frac{g}{\\tilde{H}\\hat{\\alpha}^{n}+s}\\right)\\right] \\hat{\\alpha}^{n}$$\n",
    "\n",
    "and the final image is givenby $\\hat{f}^{n} = K \\hat{\\alpha}^{n}$.\n",
    "\n",
    "We start by defining the kernel transform $K$. The matrix $K$ is a square matrix with components\n",
    "\n",
    "$$K_{ij} = \\left(\\prod_{v \\in S_v} k_v(v_i, v_j; ...) \\right) k_x(x_i, x_j; ...)$$\n",
    "\n",
    "where \n",
    "\n",
    "* $v$ corresponds to a \"support object\" (such as a CT scan, MRI, PET). These are denoted as `support_objects`\n",
    "* $S_v$ corresponds to the set of all support objects used\n",
    "* $k_v$ is the support kernel for support image $v$. These are denoted as `support_kernels`.\n",
    "* $x_i$ is the position of voxel $i$\n",
    "* $k_x$ is the kernel that weights based on positional differences. This is denoted as `distance_kernel`.\n",
    "* ... are additional parameters for each kernel. They are denoted as `distance_kernel_params` or `support_kernel_params`/\n",
    "\n",
    "In the `KEMTransform`, one gives a list of all the support objects via the `support_objects` argument. By default, the support kernel for each support object will be\n",
    "\n",
    "$$k_v(v_i, v_j; \\sigma) = \\exp\\left( -\\frac{(v_i-v_j)^2}{2\\sigma^2}\\right)$$\n",
    "\n",
    "In this default kernel, there is *one* additional required argument: $\\sigma$. The values of $\\sigma$ can be given using the `support_kernels_params` argument. The argument is a list of lists, where each internal list corresponds to all the additional required parameters for each kernel function. In the example below, one support object is used, and the function takes in one additional argument, so specifying $\\sigma=0.005$ cm $^{-1}$ requires giving `support_kernels_params=[[0.005]]`. Since there is a single distance kernel, any additional parameters to that kernel are given by a single list to the `distance_kernel_params` argument Alternative kernels can be specified using the `support_kernels` and `distance_kernel` arguments of the function; in this tutorial, we make use of the default ones:\n",
    "\n",
    "* **Note**: You may have to set `kernel_on_gpu=False` if your computer runs out of GPU memory; this means the kernel gets stored in regular RAM. Only portions of it get put on GPU during run time, but this results in a much longer run time (3x as long)"
   ]
  },
  {
   "cell_type": "code",
   "execution_count": 8,
   "id": "35dbce01",
   "metadata": {
    "execution": {
     "iopub.execute_input": "2024-11-19T22:22:25.466112Z",
     "iopub.status.busy": "2024-11-19T22:22:25.465614Z",
     "iopub.status.idle": "2024-11-19T22:22:25.470095Z",
     "shell.execute_reply": "2024-11-19T22:22:25.469447Z"
    },
    "papermill": {
     "duration": 0.010804,
     "end_time": "2024-11-19T22:22:25.471547",
     "exception": false,
     "start_time": "2024-11-19T22:22:25.460743",
     "status": "completed"
    },
    "tags": []
   },
   "outputs": [],
   "source": [
    "kem_transform = KEMTransform(\n",
    "    support_objects=[amap],\n",
    "    support_kernels_params=[[0.005]],\n",
    "    distance_kernel_params=[0.4],\n",
    "    top_N = 40,\n",
    "    kernel_on_gpu=True\n",
    "    )"
   ]
  },
  {
   "cell_type": "markdown",
   "id": "37a2b2ae",
   "metadata": {
    "papermill": {
     "duration": 0.003842,
     "end_time": "2024-11-19T22:22:25.478993",
     "exception": false,
     "start_time": "2024-11-19T22:22:25.475151",
     "status": "completed"
    },
    "tags": []
   },
   "source": [
    "This transform is used to build the system matrix $\\tilde{H} = HK$"
   ]
  },
  {
   "cell_type": "code",
   "execution_count": 9,
   "id": "3b11d598",
   "metadata": {
    "execution": {
     "iopub.execute_input": "2024-11-19T22:22:25.487686Z",
     "iopub.status.busy": "2024-11-19T22:22:25.487234Z",
     "iopub.status.idle": "2024-11-19T22:22:53.330168Z",
     "shell.execute_reply": "2024-11-19T22:22:53.329113Z"
    },
    "papermill": {
     "duration": 27.849244,
     "end_time": "2024-11-19T22:22:53.331999",
     "exception": false,
     "start_time": "2024-11-19T22:22:25.482755",
     "status": "completed"
    },
    "tags": []
   },
   "outputs": [],
   "source": [
    "system_matrix_kem = KEMSystemMatrix(system_matrix, kem_transform)"
   ]
  },
  {
   "cell_type": "markdown",
   "id": "d3450413",
   "metadata": {
    "papermill": {
     "duration": 0.003698,
     "end_time": "2024-11-19T22:22:53.340462",
     "exception": false,
     "start_time": "2024-11-19T22:22:53.336764",
     "status": "completed"
    },
    "tags": []
   },
   "source": [
    "One also has to define a new likelihood function, since the system matrix has now changed"
   ]
  },
  {
   "cell_type": "code",
   "execution_count": 10,
   "id": "f1b78781",
   "metadata": {
    "execution": {
     "iopub.execute_input": "2024-11-19T22:22:53.352208Z",
     "iopub.status.busy": "2024-11-19T22:22:53.351644Z",
     "iopub.status.idle": "2024-11-19T22:22:53.356047Z",
     "shell.execute_reply": "2024-11-19T22:22:53.355374Z"
    },
    "papermill": {
     "duration": 0.011351,
     "end_time": "2024-11-19T22:22:53.357615",
     "exception": false,
     "start_time": "2024-11-19T22:22:53.346264",
     "status": "completed"
    },
    "tags": []
   },
   "outputs": [],
   "source": [
    "likelihood_kem = PoissonLogLikelihood(system_matrix_kem, photopeak, additive_term=scatter)"
   ]
  },
  {
   "cell_type": "markdown",
   "id": "7e8f8e15",
   "metadata": {
    "papermill": {
     "duration": 0.003749,
     "end_time": "2024-11-19T22:22:53.365106",
     "exception": false,
     "start_time": "2024-11-19T22:22:53.361357",
     "status": "completed"
    },
    "tags": []
   },
   "source": [
    "We then create the KEM reconstruction algorithm, which iterates over the $\\hat{\\alpha}^{n,m}$ and automatically computes $\\hat{f}^{n,m} = K \\hat{\\alpha}^{n,m}$ at output:"
   ]
  },
  {
   "cell_type": "code",
   "execution_count": 11,
   "id": "35bc79e7",
   "metadata": {
    "execution": {
     "iopub.execute_input": "2024-11-19T22:22:53.374762Z",
     "iopub.status.busy": "2024-11-19T22:22:53.374305Z",
     "iopub.status.idle": "2024-11-19T22:24:17.445692Z",
     "shell.execute_reply": "2024-11-19T22:24:17.444630Z"
    },
    "papermill": {
     "duration": 84.078753,
     "end_time": "2024-11-19T22:24:17.447677",
     "exception": false,
     "start_time": "2024-11-19T22:22:53.368924",
     "status": "completed"
    },
    "tags": []
   },
   "outputs": [],
   "source": [
    "recon_algorithm_kem = KEM(likelihood_kem)\n",
    "recon_kem = recon_algorithm_kem(40,8)"
   ]
  },
  {
   "cell_type": "markdown",
   "id": "364996cb",
   "metadata": {
    "papermill": {
     "duration": 0.00356,
     "end_time": "2024-11-19T22:24:17.455650",
     "exception": false,
     "start_time": "2024-11-19T22:24:17.452090",
     "status": "completed"
    },
    "tags": []
   },
   "source": [
    "## Comparison"
   ]
  },
  {
   "cell_type": "code",
   "execution_count": 12,
   "id": "c22ac043",
   "metadata": {
    "execution": {
     "iopub.execute_input": "2024-11-19T22:24:17.464834Z",
     "iopub.status.busy": "2024-11-19T22:24:17.464212Z",
     "iopub.status.idle": "2024-11-19T22:24:17.468089Z",
     "shell.execute_reply": "2024-11-19T22:24:17.467543Z"
    },
    "papermill": {
     "duration": 0.009941,
     "end_time": "2024-11-19T22:24:17.469288",
     "exception": false,
     "start_time": "2024-11-19T22:24:17.459347",
     "status": "completed"
    },
    "tags": []
   },
   "outputs": [],
   "source": [
    "recons = [recon_OSEM, recon_osmaposl, recon_bsrem, recon_kem]\n",
    "recon_names = ['OSEM', 'OSMAPOSL', 'BSREM', 'KEM']"
   ]
  },
  {
   "cell_type": "code",
   "execution_count": 13,
   "id": "52ee2a9e",
   "metadata": {
    "execution": {
     "iopub.execute_input": "2024-11-19T22:24:17.477660Z",
     "iopub.status.busy": "2024-11-19T22:24:17.477128Z",
     "iopub.status.idle": "2024-11-19T22:24:17.670307Z",
     "shell.execute_reply": "2024-11-19T22:24:17.669597Z"
    },
    "papermill": {
     "duration": 0.199305,
     "end_time": "2024-11-19T22:24:17.672145",
     "exception": false,
     "start_time": "2024-11-19T22:24:17.472840",
     "status": "completed"
    },
    "tags": []
   },
   "outputs": [
    {
     "data": {
      "image/png": "[encoded data removed]",
      "text/plain": [
       "<Figure size 1000x300 with 4 Axes>"
      ]
     },
     "metadata": {},
     "output_type": "display_data"
    }
   ],
   "source": [
    "fig, ax = plt.subplots(1,4,figsize=(10,3), gridspec_kw={'wspace':0.0})\n",
    "for i in range(4):\n",
    "    plt.sca(ax[i])\n",
    "    plt.imshow(recons[i][:,:,IDX_AXIAL].cpu().T , cmap='magma', interpolation='gaussian', origin='lower', vmax=20)\n",
    "    plt.text(0.03, 0.97, recon_names[i], color='white', fontsize=12, fontweight='bold', transform=plt.gca().transAxes, ha='left', va='top')\n",
    "    plt.xlim(35,90)\n",
    "    plt.ylim(95,35)\n",
    "    plt.axis('off')\n",
    "plt.show()"
   ]
  }
 ],
 "metadata": {
  "kernelspec": {
   "display_name": "pytomo",
   "language": "python",
   "name": "python3"
  },
  "language_info": {
   "codemirror_mode": {
    "name": "ipython",
    "version": 3
   },
   "file_extension": ".py",
   "mimetype": "text/x-python",
   "name": "python",
   "nbconvert_exporter": "python",
   "pygments_lexer": "ipython3",
   "version": "3.12.9"
  },
  "papermill": {
   "default_parameters": {},
   "duration": 302.20795,
   "end_time": "2024-11-19T22:24:18.796732",
   "environment_variables": {},
   "exception": null,
   "input_path": "t_algorithms.ipynb",
   "output_path": "t_algorithms.ipynb",
   "parameters": {},
   "start_time": "2024-11-19T22:19:16.588782",
   "version": "2.6.0"
  }
 },
 "nbformat": 4,
 "nbformat_minor": 5
}
