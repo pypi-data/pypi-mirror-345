{
 "cells": [
  {
   "cell_type": "code",
   "execution_count": 1,
   "metadata": {},
   "outputs": [
    {
     "name": "stderr",
     "output_type": "stream",
     "text": [
      "2025-05-02 02:22:00,057 - INFO - ChallengeClient initialized for 'hyperliquid-ranking' at URL: http://localhost:8080/api\n"
     ]
    }
   ],
   "source": [
    "import crowdcent_challenge as cc\n",
    "import polars as pl\n",
    "\n",
    "client = cc.ChallengeClient(\n",
    "    challenge_slug=\"hyperliquid-ranking\",\n",
    "    api_key=\"hD5EB4pf.KvY8281Kz4igdNBCK7P0RL6tG6J8EaAU\",\n",
    "    base_url=\"http://localhost:8080/api\",\n",
    ")"
   ]
  },
  {
   "cell_type": "code",
   "execution_count": 2,
   "metadata": {},
   "outputs": [
    {
     "data": {
      "text/plain": [
       "[{'id': 5,\n",
       "  'challenge_slug': 'hyperliquid-ranking',\n",
       "  'version': '1',\n",
       "  'is_latest': True,\n",
       "  'feature_description': '',\n",
       "  'target_description': '',\n",
       "  'uploaded_at': '2025-04-23T18:49:24.671450Z',\n",
       "  'download_url': 'http://localhost:8080/api/challenges/hyperliquid-ranking/training_data/1/download/'}]"
      ]
     },
     "execution_count": 2,
     "metadata": {},
     "output_type": "execute_result"
    }
   ],
   "source": [
    "client.list_training_datasets()"
   ]
  },
  {
   "cell_type": "code",
   "execution_count": 6,
   "metadata": {},
   "outputs": [
    {
     "name": "stderr",
     "output_type": "stream",
     "text": [
      "2025-05-02 02:40:02,735 - INFO - Downloading inference data for challenge 'hyperliquid-ranking' 2025-04-28 to inference_data.csv\n",
      "2025-05-02 02:40:02,784 - INFO - Successfully downloaded inference data to inference_data.csv\n"
     ]
    }
   ],
   "source": [
    "client.download_inference_data(release_date=\"2025-04-28\", dest_path=\"inference_data.csv\")"
   ]
  },
  {
   "cell_type": "code",
   "execution_count": 38,
   "metadata": {},
   "outputs": [],
   "source": [
    "pl.read_csv(\"inference_data.csv\").write_parquet(\"inference_data.parquet\")"
   ]
  },
  {
   "cell_type": "code",
   "execution_count": null,
   "metadata": {},
   "outputs": [],
   "source": [
    "## Scoring"
   ]
  },
  {
   "cell_type": "code",
   "execution_count": null,
   "metadata": {},
   "outputs": [],
   "source": [
    "## Meta-model"
   ]
  }
 ],
 "metadata": {
  "kernelspec": {
   "display_name": ".venv",
   "language": "python",
   "name": "python3"
  },
  "language_info": {
   "codemirror_mode": {
    "name": "ipython",
    "version": 3
   },
   "file_extension": ".py",
   "mimetype": "text/x-python",
   "name": "python",
   "nbconvert_exporter": "python",
   "pygments_lexer": "ipython3",
   "version": "3.12.7"
  }
 },
 "nbformat": 4,
 "nbformat_minor": 2
}
