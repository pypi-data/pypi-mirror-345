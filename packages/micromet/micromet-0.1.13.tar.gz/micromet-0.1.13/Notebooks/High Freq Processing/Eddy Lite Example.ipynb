{
 "cells": [
  {
   "cell_type": "markdown",
   "id": "432cb49a-7571-4bfa-aeaf-32085677a53d",
   "metadata": {},
   "source": [
    "# Import Libraries"
   ]
  },
  {
   "cell_type": "code",
   "execution_count": null,
   "id": "376fa0df",
   "metadata": {
    "ExecuteTime": {
     "end_time": "2022-05-26T17:36:53.381674Z",
     "start_time": "2022-05-26T17:36:53.373673Z"
    }
   },
   "outputs": [],
   "source": [
    "import pandas as pd\n",
    "import numpy as np\n",
    "\n",
    "import requests\n",
    "import seaborn as sns\n",
    "\n",
    "import scipy\n",
    "import scipy.optimize as op\n",
    "from scipy.stats import linregress\n",
    "from scipy.optimize import curve_fit\n",
    "from scipy import stats\n",
    "\n",
    "from datetime import date, timedelta\n",
    "import datetime\n",
    "\n",
    "import statsmodels.api as sm\n",
    "from statsmodels.sandbox.regression.predstd import wls_prediction_std\n",
    "\n",
    "from matplotlib.backends.backend_pdf import PdfPages\n",
    "import matplotlib.pyplot as plt\n",
    "import matplotlib\n",
    "%matplotlib inline\n",
    "\n",
    "from sklearn.covariance import EmpiricalCovariance, MinCovDet\n",
    "\n",
    "import dask.dataframe as dd\n",
    "\n",
    "from pylab import rcParams\n",
    "rcParams['figure.figsize'] = 12, 10\n",
    "rcParams['pdf.fonttype'] = 42\n",
    "inline_rc = dict(plt.rcParams)\n",
    "\n",
    "#from matplotlib.pyplot import cm \n",
    "import platform\n",
    "import sys\n",
    "import glob\n",
    "import io\n",
    "import os"
   ]
  },
  {
   "cell_type": "code",
   "execution_count": null,
   "id": "f42aec5b",
   "metadata": {
    "ExecuteTime": {
     "end_time": "2022-05-26T17:36:54.037800Z",
     "start_time": "2022-05-26T17:36:53.781967Z"
    }
   },
   "outputs": [],
   "source": [
    "import ec"
   ]
  },
  {
   "cell_type": "code",
   "execution_count": null,
   "id": "f7a49732",
   "metadata": {
    "ExecuteTime": {
     "end_time": "2022-05-26T17:36:54.348308Z",
     "start_time": "2022-05-26T17:36:54.336382Z"
    }
   },
   "outputs": [],
   "source": [
    "fluxcalc = ec.CalcFlux()\n",
    "print(fluxcalc.calc_Tsa_air_temp_sonic(291.5,0.8))\n"
   ]
  },
  {
   "cell_type": "markdown",
   "id": "511290ff-b755-4d63-9c44-baf9ab5cba7b",
   "metadata": {},
   "source": [
    "# Import Data"
   ]
  },
  {
   "cell_type": "code",
   "execution_count": null,
   "id": "a5fbb660-55c7-4f92-8ab3-613cec74407c",
   "metadata": {},
   "outputs": [],
   "source": []
  },
  {
   "cell_type": "code",
   "execution_count": null,
   "id": "cf5db399",
   "metadata": {
    "ExecuteTime": {
     "end_time": "2021-07-01T18:26:06.083929Z",
     "start_time": "2021-07-01T18:22:26.051436Z"
    }
   },
   "outputs": [],
   "source": [
    "dfs = {}\n",
    "i=0\n",
    "fileplace = \"G:/Shared drives/UGS_Groundwater/Projects/Juab_Valley/Climate/ET_EddyCovariance/Data_Downloads/Juab/combined_farm/\"\n",
    "for file in glob.glob(fileplace+\"*Time_Series*\"):\n",
    "    print(file)\n",
    "    df = dd.read_csv(file,skiprows=[0,2,3],na_values=['NAN'],dtype={'diag_csat': 'float64'},\n",
    "                 parse_dates=True).set_index('TIMESTAMP')\n",
    "    #df['Pr'] = 86000\n",
    "\n",
    "    df.index = df.index.astype('M8[ns]')\n",
    "    dfs[i] = df.compute()\n",
    "    i+=1"
   ]
  },
  {
   "cell_type": "code",
   "execution_count": null,
   "id": "6f34e37b",
   "metadata": {
    "ExecuteTime": {
     "end_time": "2021-08-05T14:21:03.612859Z",
     "start_time": "2021-08-05T14:21:00.876423Z"
    }
   },
   "outputs": [],
   "source": [
    "import dask.dataframe as dd\n",
    "fileplace = \"C:/Users/paulinkenbrandt/Documents/Projects/Juab/20210622_farm_processed/\"\n",
    "file= fileplace + \"*Time_Series_290.dat\"\n",
    "df = dd.read_csv(file,skiprows=[0,2,3],na_values=['NAN'],dtype={'diag_csat': 'float64'},\n",
    "                 parse_dates=True).set_index('TIMESTAMP')\n",
    "#df['Pr'] = 86000\n",
    "\n",
    "df.index = df.index.astype('M8[ns]')\n",
    "df = df.compute()\n",
    "df['TA_1_1_1'] = df['TA_1_1_1'] + 23 \n",
    "df['T_SONIC'] = df['TA_1_1_1']\n",
    "#df = df.loc[pd.to_datetime(\"2009-05-27 16:00:00.000\"):]"
   ]
  },
  {
   "cell_type": "code",
   "execution_count": null,
   "id": "de8b79fc",
   "metadata": {
    "ExecuteTime": {
     "end_time": "2021-08-05T14:21:07.916326Z",
     "start_time": "2021-08-05T14:21:07.892389Z"
    }
   },
   "outputs": [],
   "source": [
    "df.head()"
   ]
  },
  {
   "cell_type": "markdown",
   "id": "889262e8",
   "metadata": {
    "ExecuteTime": {
     "end_time": "2021-05-25T18:22:25.968609Z",
     "start_time": "2021-05-25T18:22:25.950656Z"
    }
   },
   "source": [
    "# Using the Class"
   ]
  },
  {
   "cell_type": "code",
   "execution_count": null,
   "id": "4baaa79e",
   "metadata": {
    "ExecuteTime": {
     "end_time": "2022-05-26T16:43:36.636933Z",
     "start_time": "2022-05-26T16:43:36.625007Z"
    }
   },
   "outputs": [],
   "source": [
    "fluxcalc = ec.CalcFluxWithKH20()"
   ]
  },
  {
   "cell_type": "code",
   "execution_count": null,
   "id": "ffde69d8",
   "metadata": {
    "ExecuteTime": {
     "end_time": "2022-05-26T16:49:54.316108Z",
     "start_time": "2022-05-26T16:49:54.312118Z"
    }
   },
   "outputs": [],
   "source": [
    "print(fluxcalc.calc_E_vapor_pressure(3.4,290.2))"
   ]
  },
  {
   "cell_type": "code",
   "execution_count": null,
   "id": "dd29cb32-d6de-4172-8ec9-8cd2a5320f10",
   "metadata": {},
   "outputs": [],
   "source": [
    "#dfsm = df.loc[pd.to_datetime(\"2009-05-27 16:00:00.000\"):pd.to_datetime(\"2009-05-27 17:00:00.000\")]"
   ]
  },
  {
   "cell_type": "code",
   "execution_count": null,
   "id": "ab886212-1ca9-41d7-8d2d-80d491d16fe5",
   "metadata": {
    "ExecuteTime": {
     "end_time": "2021-07-01T18:54:36.307122Z",
     "start_time": "2021-07-01T18:54:20.653003Z"
    }
   },
   "outputs": [],
   "source": [
    "agmet = pd.read_csv(r\"C:\\Users\\paulinkenbrandt\\Downloads\\UCC_scan_2137_2021_06_08_1623185624\\UCC_scan_2137_2021_06_08_1623185624.csv\",\n",
    "            skiprows=14,na_values=['M','S'],index_col='Day',parse_dates=True)\n"
   ]
  },
  {
   "cell_type": "code",
   "execution_count": null,
   "id": "5d03e90c",
   "metadata": {
    "ExecuteTime": {
     "end_time": "2021-08-05T14:28:53.783652Z",
     "start_time": "2021-08-05T14:28:53.753783Z"
    }
   },
   "outputs": [],
   "source": [
    "df['Ta_K'] = fluxcalc.convert_CtoK(df['TA_1_1_1'])"
   ]
  },
  {
   "cell_type": "code",
   "execution_count": null,
   "id": "d95cdfbc",
   "metadata": {
    "ExecuteTime": {
     "end_time": "2021-08-05T14:31:42.409760Z",
     "start_time": "2021-08-05T14:29:52.484263Z"
    }
   },
   "outputs": [],
   "source": [
    "df['Ta_C'] = fluxcalc.convert_KtoC(df['Ta_K'])\n",
    "df['Ta_C'].plot()"
   ]
  },
  {
   "cell_type": "code",
   "execution_count": null,
   "id": "688abd23",
   "metadata": {
    "ExecuteTime": {
     "end_time": "2021-08-05T14:26:15.829356Z",
     "start_time": "2021-08-05T14:25:15.773359Z"
    }
   },
   "outputs": [],
   "source": [
    "outdf = {}\n",
    "for i, g in df.groupby(pd.Grouper(freq='1H')):\n",
    "    outdf[g.first_valid_index()] = fluxcalc.runall(g)\n",
    "    print(g.first_valid_index())\n",
    "    print(outdf[g.first_valid_index()])\n",
    "    #print(i)"
   ]
  },
  {
   "cell_type": "code",
   "execution_count": null,
   "id": "8399ddec-2285-48b8-9933-3a61bae94cab",
   "metadata": {
    "ExecuteTime": {
     "end_time": "2021-07-01T19:13:45.562561Z",
     "start_time": "2021-07-01T19:13:45.236433Z"
    }
   },
   "outputs": [],
   "source": [
    "pd.concat(outdf,axis=1).T['ET'].plot()#.to_clipboardboard()"
   ]
  },
  {
   "cell_type": "code",
   "execution_count": null,
   "id": "9d01ef5d",
   "metadata": {
    "ExecuteTime": {
     "end_time": "2021-06-01T22:54:48.114399Z",
     "start_time": "2021-06-01T22:54:47.334739Z"
    }
   },
   "outputs": [],
   "source": [
    "pd.concat(outdf,axis=1).T.to_csv(\"G:/My Drive/Python/Pycharm/MicroMet/output.csv\")#.reset_index().set_index('Firstdate')"
   ]
  },
  {
   "cell_type": "markdown",
   "id": "e8ed6434-a5a8-4fbe-b93a-cc684cf3d990",
   "metadata": {
    "tags": [],
    "toc-hr-collapsed": true
   },
   "source": [
    "# Step by Step"
   ]
  },
  {
   "cell_type": "markdown",
   "id": "4a051df6-b3e1-45e0-a179-cdcb9d86a3bf",
   "metadata": {},
   "source": [
    "## Constants"
   ]
  },
  {
   "cell_type": "code",
   "execution_count": null,
   "id": "8b49aa62-4b10-461b-a97a-59cbf45e8174",
   "metadata": {
    "ExecuteTime": {
     "end_time": "2021-08-05T13:40:04.437294Z",
     "start_time": "2021-08-05T13:40:04.425326Z"
    }
   },
   "outputs": [],
   "source": [
    "Rv = 461.51 # 'Water Vapor Gas Constant', 'J/[kg*K]'\n",
    "Ru = 8.314 # 'Universal Gas Constant', 'J/[kg*K]'\n",
    "Cpd = 1005 # 'Specific Heat of Dry Air', 'J/[kg*K]'\n",
    "Rd = 287.05 # 'Dry Air Gas Constant', 'J/[kg*K]'\n",
    "Co = 0.21  # Molar Fraction of Oxygen in the Atmosphere\n",
    "Mo = 0.032  # Molar Mass of Oxygen (gO2/mole)\n",
    "\n",
    "XKH20 = 1.412 # 'Path Length of KH20', 'cm'\n",
    "XKwC1 = -0.152214126 # First Order Coefficient in Vapor Density-KH20 Output Relationship, cm\n",
    "XKwC2 = -0.001667836 # Second Order Coefficient in Vapor Density-KH20 Output Relationship, cm\n",
    "directionKH20_U = 180\n",
    "UHeight = 3 # Height of Sonic Anemometer above Ground Surface', 'm'\n",
    "PathKH20_U = 0.1 # Separation Distance Between Sonic Anemometer and KH20', 'm', 0.1\n",
    "lag = 10 # number of lags to consider\n",
    "direction_bad_min = 0 # Clockwise Orientation from DirectionKH20_U\n",
    "direction_bad_max = 360 # Clockwise Orientation from DirectionKH20_U\n",
    "\n",
    "Kw = 1 # Extinction Coefficient of Water (m^3/[g*cm]) -instrument calibration\n",
    "Ko = -0.0045 # Extinction Coefficient of Oxygen (m^3/[g*cm]) -derived experimentally"
   ]
  },
  {
   "cell_type": "markdown",
   "id": "f465916b-7939-48d6-9e11-ae4a458b4d96",
   "metadata": {},
   "source": [
    "## Despike"
   ]
  },
  {
   "cell_type": "code",
   "execution_count": null,
   "id": "fb9dc15a-de12-4df8-a77c-626d75a27296",
   "metadata": {
    "ExecuteTime": {
     "end_time": "2021-08-05T13:40:08.988681Z",
     "start_time": "2021-08-05T13:40:08.968777Z"
    }
   },
   "outputs": [],
   "source": [
    "def despike(arr, nstd=4.5):\n",
    "    \"\"\"Removes spikes from parameter within a specified deviation from the mean.\n",
    "    \"\"\"\n",
    "    stdd = np.nanstd(arr) * nstd\n",
    "    avg = np.nanmean(arr)\n",
    "    avgdiff = stdd - np.abs(arr - avg)\n",
    "    y = np.where(avgdiff >= 0, arr, np.NaN)\n",
    "    nans, x = np.isnan(y), lambda z: z.nonzero()[0]\n",
    "    if len(x(~nans)) > 0:\n",
    "        y[nans] = np.interp(x(nans), x(~nans), y[~nans])\n",
    "    return y"
   ]
  },
  {
   "cell_type": "code",
   "execution_count": null,
   "id": "71cf02a8-ecbe-465c-baba-15caadd36101",
   "metadata": {
    "ExecuteTime": {
     "end_time": "2021-08-05T13:40:10.639971Z",
     "start_time": "2021-08-05T13:40:10.622020Z"
    }
   },
   "outputs": [],
   "source": [
    "def renamedf(df):\n",
    "    return df.rename(columns={'T_SONIC':'Ts',\n",
    "                              'TA_1_1_1':'Ta',\n",
    "                              'amb_press':'Pr',\n",
    "                              'RH_1_1_1':'Rh',\n",
    "                              't_hmp':'Ta',\n",
    "                              'e_hmp':'Ea',\n",
    "                              'kh':'volt_KH20'\n",
    "                              })"
   ]
  },
  {
   "cell_type": "code",
   "execution_count": null,
   "id": "2ec04b6f-9732-4cc0-938a-56746a068a34",
   "metadata": {
    "ExecuteTime": {
     "end_time": "2021-08-05T13:40:14.454490Z",
     "start_time": "2021-08-05T13:40:14.448505Z"
    }
   },
   "outputs": [],
   "source": [
    "#dfsm = df.loc[pd.to_datetime(\"2009-05-27 16:00:00.000\"):pd.to_datetime(\"2009-05-27 17:00:00.000\")]"
   ]
  },
  {
   "cell_type": "code",
   "execution_count": null,
   "id": "7e1ca943-2008-4d73-a329-cc58a8fb423f",
   "metadata": {
    "ExecuteTime": {
     "end_time": "2021-08-05T13:40:18.398466Z",
     "start_time": "2021-08-05T13:40:18.152125Z"
    }
   },
   "outputs": [],
   "source": [
    "dfsm = renamedf(df)\n",
    "\n",
    "despikefields = ['Ux', 'Uy', 'Uz', 'Ts', 'LnKH', 'Pr', 'Ta', 'Rh']\n",
    "\n",
    "dfsm['LnKH'] = np.log(dfsm['volt_KH20'].to_numpy())\n",
    "\n",
    "\n",
    "for col in despikefields:\n",
    "    if col in dfsm.columns:\n",
    "        dfsm[col] = despike(dfsm[col].to_numpy(), nstd=4.5)"
   ]
  },
  {
   "cell_type": "markdown",
   "id": "c5e7bd66-c9dd-4b72-a18a-07e783f87762",
   "metadata": {},
   "source": [
    "## CSAT Correction"
   ]
  },
  {
   "cell_type": "code",
   "execution_count": null,
   "id": "e05c2486-e0fa-4a1c-ab48-5c11e1c61bbf",
   "metadata": {
    "ExecuteTime": {
     "end_time": "2021-08-05T13:40:23.410728Z",
     "start_time": "2021-08-05T13:40:23.392776Z"
    }
   },
   "outputs": [],
   "source": [
    "def fix_csat(Ux, Uy, Uz):\n",
    "\n",
    "    CSAT3Inverse = [[-0.5, 0, 0.86602540378444],\n",
    "                    [0.25, 0.4330127018922, 0.86602540378444],\n",
    "                    [0.25, -0.4330127018922, 0.86602540378444]]\n",
    "    CSAT3Transform = [[-1.3333333333333, 0.66666666666666, 0.66666666666666],\n",
    "                      [0, 1.1547005383792, -1.1547005383792],\n",
    "                      [0.3849001794597, 0.3849001794597, 0.3849001794597]]\n",
    "\n",
    "    Ux_out = []\n",
    "    Uy_out = []\n",
    "    Uz_out = []\n",
    "\n",
    "    for i in range(len(Ux)):\n",
    "        u = {}\n",
    "        u[0] = CSAT3Inverse[0][0] * Ux[i] + CSAT3Inverse[0][1] * Uy[i] + CSAT3Inverse[0][2] * Uz[i]\n",
    "        u[1] = CSAT3Inverse[1][0] * Ux[i] + CSAT3Inverse[1][1] * Uy[i] + CSAT3Inverse[1][2] * Uz[i]\n",
    "        u[2] = CSAT3Inverse[2][0] * Ux[i] + CSAT3Inverse[2][1] * Uy[i] + CSAT3Inverse[2][2] * Uz[i]\n",
    "\n",
    "        scalar = (Ux[i] ** 2. + Uy[i] ** 2. + Uz[i] ** 2.) ** 0.5\n",
    "\n",
    "        u[0] = u[0] / (0.68 + 0.32 * np.sin(np.arccos(u[0] / scalar)))\n",
    "        u[1] = u[1] / (0.68 + 0.32 * np.sin(np.arccos(u[1] / scalar)))\n",
    "        u[2] = u[2] / (0.68 + 0.32 * np.sin(np.arccos(u[2] / scalar)))\n",
    "\n",
    "        Ux_out.append(CSAT3Transform[0][0] * u[0] + CSAT3Transform[0][1] * u[1] + CSAT3Transform[0][2] * u[2])\n",
    "        Uy_out.append(CSAT3Transform[1][0] * u[0] + CSAT3Transform[1][1] * u[1] + CSAT3Transform[1][2] * u[2])\n",
    "        Uz_out.append(CSAT3Transform[2][0] * u[0] + CSAT3Transform[2][1] * u[1] + CSAT3Transform[2][2] * u[2])\n",
    "\n",
    "    return Ux_out, Uy_out, Uz_out"
   ]
  },
  {
   "cell_type": "code",
   "execution_count": null,
   "id": "eb7770d1-f3c9-466c-b762-74a55ac0e6a6",
   "metadata": {
    "ExecuteTime": {
     "end_time": "2021-08-05T13:40:24.151855Z",
     "start_time": "2021-08-05T13:40:24.148864Z"
    }
   },
   "outputs": [],
   "source": [
    "def convert_KtoC(T):\n",
    "    return T - 273.16\n",
    "\n",
    "def convert_CtoK(T):\n",
    "    return T + 273.16"
   ]
  },
  {
   "cell_type": "code",
   "execution_count": null,
   "id": "f212c93f-4005-4754-a89d-9826e56f5bb0",
   "metadata": {
    "ExecuteTime": {
     "end_time": "2021-08-05T13:40:35.700071Z",
     "start_time": "2021-08-05T13:40:24.755414Z"
    }
   },
   "outputs": [],
   "source": [
    "dfsm['Ts'] = convert_CtoK(dfsm['Ts'].to_numpy())\n",
    "\n",
    "dfsm['Ux'],dfsm['Uy'],dfsm['Uz'] = fix_csat(dfsm['Ux'].to_numpy(),\n",
    "                                           dfsm['Uy'].to_numpy(),\n",
    "                                           dfsm['Uz'].to_numpy())"
   ]
  },
  {
   "cell_type": "code",
   "execution_count": null,
   "id": "684dc9e0-e20b-45ee-9b57-3504c3db8e95",
   "metadata": {
    "ExecuteTime": {
     "end_time": "2021-08-05T13:42:27.706581Z",
     "start_time": "2021-08-05T13:40:35.763902Z"
    }
   },
   "outputs": [],
   "source": [
    "dfsm['Ts'].plot()"
   ]
  },
  {
   "cell_type": "markdown",
   "id": "f0912be6-8c9b-4f0c-bd6a-f401876b73fe",
   "metadata": {},
   "source": [
    "## Weather Parameters"
   ]
  },
  {
   "cell_type": "code",
   "execution_count": null,
   "id": "f38f7457-86cc-40e1-b086-32fd85a862c6",
   "metadata": {
    "ExecuteTime": {
     "end_time": "2021-08-05T13:42:33.171525Z",
     "start_time": "2021-08-05T13:42:33.164534Z"
    }
   },
   "outputs": [],
   "source": [
    "def calculated_parameters(df):\n",
    "    df['pV'] = calc_pV(df['Ea'], df['Ts'])\n",
    "    df['Tsa'] = calc_Tsa(df['Ts'], df['Pr'], df['pV'])\n",
    "    df['E'] = calc_E(df['pV'], df['Tsa'])\n",
    "    df['Q'] = calc_Q(df['Pr'], df['E'])\n",
    "    df['Sd'] = calc_Q(df['Pr'], calc_Es(df['Tsa'])) - df['Q']\n",
    "    return df\n",
    "\n",
    "def calc_pV(Ea, Ts):\n",
    "    return (Ea * 1000.0) / (Rv * Ts)\n",
    "\n",
    "def calc_Tsa(Ts, P, pV, Rv=461.51):\n",
    "    E = pV * Rv * Ts\n",
    "    return -0.01645278052 * (\n",
    "                -500 * P - 189 * E + np.sqrt(250000 * P ** 2 + 128220 * E * P + 35721 * E ** 2)) / pV / Rv\n",
    "\n",
    "def calc_E(pV, T):\n",
    "    return pV * Rv * T\n",
    "\n",
    "def calc_Q(P, E):\n",
    "    return (0.622 * E) / (P - 0.378 * E)\n",
    "\n",
    "def calc_Es(T):\n",
    "    g0 = -2836.5744\n",
    "    g1 = -6028.076559\n",
    "    g2 = 19.54263612\n",
    "    g3 = -0.02737830188\n",
    "    g4 = 0.000016261698\n",
    "    g5 = 0.00000000070229056\n",
    "    g6 = -0.00000000000018680009\n",
    "    g7 = 2.7150305\n",
    "\n",
    "    return np.exp(\n",
    "        g0 * T ** (-2) + g1 * T ** (-1) + g2 + g3 * T + g4 * T ** 2 + g5 * T ** 3 + g6 * T ** 4 + g7 * np.log(T))"
   ]
  },
  {
   "cell_type": "code",
   "execution_count": null,
   "id": "bc681509",
   "metadata": {},
   "outputs": [],
   "source": []
  },
  {
   "cell_type": "code",
   "execution_count": null,
   "id": "9fa0b7f6-b7cd-45ed-9d37-85e8179b39da",
   "metadata": {
    "ExecuteTime": {
     "end_time": "2021-08-05T13:42:34.799112Z",
     "start_time": "2021-08-05T13:42:34.675201Z"
    }
   },
   "outputs": [],
   "source": [
    "dfsm = calculated_parameters(dfsm)"
   ]
  },
  {
   "cell_type": "markdown",
   "id": "9b9a9677-a2fb-4a32-9398-18c605882278",
   "metadata": {},
   "source": [
    "## Calculate the Correct XKw Value for KH20"
   ]
  },
  {
   "cell_type": "code",
   "execution_count": null,
   "id": "2dbc2f19-583a-4d2b-8429-b7be28a0657c",
   "metadata": {},
   "outputs": [],
   "source": [
    "XKw = XKwC1 + 2 * XKwC2 * (dfsm['pV'].mean() * 1000.)\n",
    "Kw = XKw / XKH20"
   ]
  },
  {
   "cell_type": "markdown",
   "id": "8f6474a3-bed4-4615-8b0a-ba1da3ff3184",
   "metadata": {},
   "source": [
    "## Covariances"
   ]
  },
  {
   "cell_type": "markdown",
   "id": "89b3ef7d-d0f8-4195-b2cb-788e053d6357",
   "metadata": {},
   "source": [
    "### regular covariance"
   ]
  },
  {
   "cell_type": "code",
   "execution_count": null,
   "id": "d607bbde-dd60-4342-b077-41c8f142d30c",
   "metadata": {},
   "outputs": [],
   "source": [
    "CovTs_Ts = dfsm[['Ts', 'Ts']].cov().iloc[0,0] # location index needed because of same fields\n",
    "CovUx_Uy = dfsm[['Ux', 'Uy']].cov().loc['Ux', 'Uy']  # CalcCovariance(IWP.Ux, IWP.Uy)\n",
    "CovUx_Uz = dfsm[['Ux', 'Uz']].cov().loc['Ux', 'Uz']  # CalcCovariance(IWP.Ux, IWP.Uz)\n",
    "CovUy_Uz = dfsm[['Uy', 'Uz']].cov().loc['Uy', 'Uz']  # CalcCovariance(IWP.Uy, IWP.Uz)"
   ]
  },
  {
   "cell_type": "code",
   "execution_count": null,
   "id": "e44c0dc1-1066-45eb-bc58-9d27e79ac2b4",
   "metadata": {},
   "outputs": [],
   "source": [
    "print(f\"CovTs_Ts = {CovTs_Ts}\") \n",
    "print(f\"CovUx_Uy = {CovUx_Uy}\")\n",
    "print(f\"CovUx_Uz = {CovUx_Uz}\")\n",
    "print(f\"CovUy_Uz = {CovUy_Uz}\")"
   ]
  },
  {
   "cell_type": "markdown",
   "id": "c4a5e045-384f-4237-80d5-4df9c5953f7f",
   "metadata": {},
   "source": [
    "0.24682559155736247, ux_uy"
   ]
  },
  {
   "cell_type": "code",
   "execution_count": null,
   "id": "b6495c0d-2f1e-41b4-a397-2a20c67ef53a",
   "metadata": {},
   "outputs": [],
   "source": [
    "covdata = dfsm[['Ux', 'Uy']].to_numpy()\n",
    "\n",
    "# fit a MCD robust estimator to data\n",
    "robust_cov = MinCovDet().fit(covdata)\n",
    "# fit a MLE estimator to data\n",
    "emp_cov = EmpiricalCovariance().fit(covdata)\n",
    "print('Estimated covariance matrix:\\n'\n",
    "      'MCD (Robust):\\n{}\\n'\n",
    "      'MLE:\\n{}'.format(robust_cov.covariance_, emp_cov.covariance_))"
   ]
  },
  {
   "cell_type": "markdown",
   "id": "d3a665fc-7625-4c86-971e-43fdba52f1ea",
   "metadata": {},
   "source": [
    "### Max covariance"
   ]
  },
  {
   "cell_type": "code",
   "execution_count": null,
   "id": "662b1d06-a46a-4684-96a3-1b1d8b79a704",
   "metadata": {},
   "outputs": [],
   "source": [
    "def calc_max_covariance(df, colx, coly, lags=10):\n",
    "    dfcov = []\n",
    "    for i in np.arange(-1 * lags, lags):\n",
    "\n",
    "        df[f\"{coly}_{i}\"] = df[coly].shift(i)\n",
    "        dfcov.append(df[[colx, f\"{coly}_{i}\"]].cov().loc[colx, f\"{coly}_{i}\"])\n",
    "        #print(i,df[[colx, f\"{coly}_{i}\"]].cov().loc[colx, f\"{coly}_{i}\"])\n",
    "        df = df.drop([f\"{coly}_{i}\"], axis=1)\n",
    "\n",
    "    abscov = np.abs(dfcov)\n",
    "    maxabscov = np.max(abscov)\n",
    "    try:\n",
    "        print(np.where(abscov == maxabscov)[0])\n",
    "        maxlagindex = np.where(abscov == maxabscov)[0][0]\n",
    "        lagno = maxlagindex - lags\n",
    "        maxcov = dfcov[maxlagindex]\n",
    "    except IndexError:\n",
    "        lagno = 0\n",
    "        maxcov = dfcov[10]\n",
    "    return maxcov, lagno"
   ]
  },
  {
   "cell_type": "code",
   "execution_count": null,
   "id": "35476943-e306-4cc5-ac7d-925eb68e68d2",
   "metadata": {},
   "outputs": [],
   "source": [
    "lag = 10\n",
    "CovTs_Q = calc_max_covariance(dfsm, 'Ts', 'Q', lag)[0]\n",
    "CovUx_LnKH = calc_max_covariance(dfsm, 'Ux', 'LnKH', lag)[0]\n",
    "CovUx_Q = calc_max_covariance(dfsm, 'Ux', 'Q', lag)[0]\n",
    "CovUx_Sd = calc_max_covariance(dfsm, 'Ux', 'Sd', lag)[0]\n",
    "CovUx_Ts = calc_max_covariance(dfsm, 'Ux', 'Ts', lag)[0]\n",
    "CovUy_LnKH = calc_max_covariance(dfsm, 'Uy', 'LnKH', lag)[0]\n",
    "CovUy_Q = calc_max_covariance(dfsm, 'Uy', 'Q', lag)[0]\n",
    "CovUy_Sd = calc_max_covariance(dfsm, 'Uy', 'Sd', lag)[0]\n",
    "CovUy_Ts = calc_max_covariance(dfsm, 'Uy', 'Ts', lag)[0]\n",
    "CovUz_LnKH = calc_max_covariance(dfsm, 'Uz', 'LnKH', lag)[0]\n",
    "CovUz_Q = calc_max_covariance(dfsm, 'Uz', 'Q', lag)[0]\n",
    "CovUz_Sd = calc_max_covariance(dfsm, 'Uz', 'Sd', lag)[0]\n",
    "CovUz_Ts = calc_max_covariance(dfsm, 'Uz', 'Ts', lag)[0]"
   ]
  },
  {
   "cell_type": "code",
   "execution_count": null,
   "id": "5302e78e-1064-41c9-8d39-3cc77a624ba2",
   "metadata": {},
   "outputs": [],
   "source": [
    "print(f\"CovTs_Q = {CovTs_Q}\") \n",
    "print(f\"CovUx_LnKH = {CovUx_LnKH}\")\n",
    "print(f\"CovUx_Q = {CovUx_Q}\")\n",
    "print(f\"CovUx_Sd = {CovUx_Sd}\")\n",
    "print(f\"CovUx_Ts = {CovUx_Ts}\")\n",
    "print(f\"CovUy_LnKH = {CovUy_LnKH}\")\n",
    "print(f\"CovUy_Q = {CovUy_Q}\")\n",
    "print(f\"CovUy_Sd = {CovUy_Sd}\")\n",
    "print(f\"CovUy_Ts = {CovUy_Ts}\")\n",
    "print(f\"CovUz_LnKH = {CovUz_LnKH}\")"
   ]
  },
  {
   "cell_type": "code",
   "execution_count": null,
   "id": "d7306fa0-84e2-4569-8dd2-135facb66219",
   "metadata": {},
   "outputs": [],
   "source": [
    "calc_max_covariance(dfsm, 'Ux', 'Sd', lag)"
   ]
  },
  {
   "cell_type": "markdown",
   "id": "ecbf98f8-da6e-4912-acf4-c642a9c7ecd7",
   "metadata": {},
   "source": [
    "## Coordinate Rotation"
   ]
  },
  {
   "cell_type": "code",
   "execution_count": null,
   "id": "7733f8d1-ebb5-4483-95e8-46c6d4bab30e",
   "metadata": {},
   "outputs": [],
   "source": [
    "def coord_rotation(df, Ux='Ux', Uy='Uy', Uz='Uz'):\n",
    "    \"\"\"Traditional Coordinate Rotation\n",
    "    \"\"\"\n",
    "    xmean = df[Ux].mean()\n",
    "    ymean = df[Uy].mean()\n",
    "    zmean = df[Uz].mean()\n",
    "    Uxy = np.sqrt(xmean ** 2 + ymean ** 2)\n",
    "    Uxyz = np.sqrt(xmean ** 2 + ymean ** 2 + zmean ** 2)\n",
    "    cosν = xmean / Uxy\n",
    "    sinν = ymean / Uxy\n",
    "    sinTheta = zmean / Uxyz\n",
    "    cosTheta = Uxy / Uxyz\n",
    "    return cosν, sinν, sinTheta, cosTheta, Uxy, Uxyz"
   ]
  },
  {
   "cell_type": "code",
   "execution_count": null,
   "id": "c72c45a3-86c4-4fea-9044-cdb4cc567c63",
   "metadata": {},
   "outputs": [],
   "source": []
  },
  {
   "cell_type": "code",
   "execution_count": null,
   "id": "b851182a-c6e0-48f0-91bd-525b83d0c2f2",
   "metadata": {},
   "outputs": [],
   "source": [
    "# Traditional Coordinate Rotation\n",
    "cosν, sinν, sinTheta, cosTheta, Uxy, Uxyz = coord_rotation(dfsm)"
   ]
  },
  {
   "cell_type": "code",
   "execution_count": null,
   "id": "1df1569c-98ca-458f-a287-af17d8e1f3a4",
   "metadata": {},
   "outputs": [],
   "source": []
  },
  {
   "cell_type": "markdown",
   "id": "de045dfa-3717-4967-b47d-7f4a055588ef",
   "metadata": {},
   "source": [
    "## Mean Squared Error"
   ]
  },
  {
   "cell_type": "code",
   "execution_count": null,
   "id": "e39e7fec-51ef-41f7-844d-a7344e749600",
   "metadata": {},
   "outputs": [],
   "source": [
    "def calc_MSE(y):\n",
    "    return np.mean((y - np.mean(y)) ** 2)"
   ]
  },
  {
   "cell_type": "code",
   "execution_count": null,
   "id": "6e4aae44-0da9-4ecd-b7f9-f895efb00f6b",
   "metadata": {},
   "outputs": [],
   "source": [
    "# Find the Mean Squared Error of Velocity Components and Humidity\n",
    "UxMSE = calc_MSE(dfsm['Ux'])\n",
    "UyMSE = calc_MSE(dfsm['Uy'])\n",
    "UzMSE = calc_MSE(dfsm['Uz'])\n",
    "QMSE = calc_MSE(dfsm['Q'])"
   ]
  },
  {
   "cell_type": "markdown",
   "id": "1b686192-dcde-4197-8388-59e8c84f79f4",
   "metadata": {},
   "source": [
    "## Correct Covariances for Coordinate Rotation"
   ]
  },
  {
   "cell_type": "code",
   "execution_count": null,
   "id": "fbd34432-0216-4216-b1ae-54c0f98e22be",
   "metadata": {},
   "outputs": [],
   "source": [
    "\n",
    "Uz_Ts = CovUz_Ts * cosTheta - CovUx_Ts * sinTheta * cosν - CovUy_Ts * sinTheta * sinν\n",
    "if np.abs(Uz_Ts) >= np.abs(CovUz_Ts):\n",
    "    CovUz_Ts = Uz_Ts\n",
    "\n",
    "Uz_LnKH = CovUz_LnKH * cosTheta - CovUx_LnKH * sinTheta * cosν - CovUy_LnKH * sinν * sinTheta\n",
    "if np.abs(Uz_LnKH) >= np.abs(CovUz_LnKH):\n",
    "    CovUz_LnKH = Uz_LnKH\n",
    "CovUx_Q = CovUx_Q * cosTheta * cosν + CovUy_Q * cosTheta * sinν + CovUz_Q * sinTheta\n",
    "CovUy_Q = CovUy_Q * cosν - CovUx_Q * sinν\n",
    "CovUz_Q = CovUz_Q * cosTheta - CovUx_Q * sinTheta * cosν - CovUy_Q * sinν * sinTheta\n",
    "CovUx_Uz = CovUx_Uz * cosν * (cosTheta**2 - sinTheta**2) - 2 * CovUx_Uy * sinTheta * cosTheta * sinν * cosν + CovUy_Uz * sinν * (cosTheta**2 - sinTheta**2) - UxMSE * sinTheta * cosTheta * cosν**2 - UyMSE * sinTheta * cosTheta * sinν**2 + UzMSE * sinTheta * cosTheta\n",
    "CovUy_Uz = CovUy_Uz * cosTheta * cosν - CovUx_Uz * cosTheta * sinν - CovUx_Uy * sinTheta * (cosν**2 - sinν**2) + UxMSE * sinTheta * sinν * cosν - UyMSE * sinTheta * sinν * cosν\n",
    "CovUz_Sd = CovUz_Sd * cosTheta - CovUx_Sd * sinTheta * cosν - CovUy_Sd * sinν * sinTheta\n",
    "Uxy_Uz = np.sqrt(CovUx_Uz**2 + CovUy_Uz**2)\n",
    "Ustr = np.sqrt(Uxy_Uz)"
   ]
  },
  {
   "cell_type": "markdown",
   "id": "47a9910e-2c40-4446-bb7f-1662a77935b0",
   "metadata": {},
   "source": [
    "## Find Average Air Temperature From Average Sonic Temperature"
   ]
  },
  {
   "cell_type": "code",
   "execution_count": null,
   "id": "6474fea7-71d8-4e88-93d8-8789f0fc541e",
   "metadata": {},
   "outputs": [],
   "source": [
    "def calc_Tsa(Ts, P, pV, Rv=461.51):\n",
    "    E = pV * Rv * Ts\n",
    "    return -0.01645278052 * (\n",
    "                -500 * P - 189 * E + np.sqrt(250000 * P ** 2 + 128220 * E * P + 35721 * E ** 2)) / pV / Rv"
   ]
  },
  {
   "cell_type": "code",
   "execution_count": null,
   "id": "dcb4b6eb-30d4-4150-bbe1-2f221df875c5",
   "metadata": {},
   "outputs": [],
   "source": [
    "Tsa = calc_Tsa(dfsm['Ts'].mean(), dfsm['Pr'].mean(), dfsm['pV'].mean())"
   ]
  },
  {
   "cell_type": "markdown",
   "id": "48a4be38-a883-458c-86b8-57fc5bca2684",
   "metadata": {},
   "source": [
    "## Calculate the Latent Heat of Vaporization"
   ]
  },
  {
   "cell_type": "code",
   "execution_count": null,
   "id": "a2c17029-5c9d-4cd1-baa6-97656169ccfc",
   "metadata": {},
   "outputs": [],
   "source": [
    "lamb = (2500800 - 2366.8 * (convert_KtoC(Tsa)))"
   ]
  },
  {
   "cell_type": "markdown",
   "id": "9de1a926-87bd-45ac-8342-7739cdccaae4",
   "metadata": {},
   "source": [
    "## Determine Vertical Wind and Water Vapor Density Covariance"
   ]
  },
  {
   "cell_type": "code",
   "execution_count": null,
   "id": "bfa8c05b-958e-4534-9538-d31351e72d43",
   "metadata": {},
   "outputs": [],
   "source": [
    "Uz_pV = (CovUz_LnKH / XKw) / 1000"
   ]
  },
  {
   "cell_type": "markdown",
   "id": "cf631f31-aadb-4341-9f61-0ec61e5c9e50",
   "metadata": {},
   "source": [
    "## Calculate the Correct Average Values of Some Key Parameters"
   ]
  },
  {
   "cell_type": "code",
   "execution_count": null,
   "id": "6ee49c6f-8526-4839-9663-7e672a1a9fad",
   "metadata": {},
   "outputs": [],
   "source": [
    "Cp = Cpd * (1 + 0.84 * dfsm['Q'].mean())\n",
    "pD = (dfsm['Pr'].mean() - dfsm['E'].mean()) / (Rd * Tsa)\n",
    "p = pD + dfsm['pV'].mean()"
   ]
  },
  {
   "cell_type": "code",
   "execution_count": null,
   "id": "d468a5ec-fa40-4353-b60f-40758f4b8a5f",
   "metadata": {},
   "outputs": [],
   "source": [
    "##"
   ]
  },
  {
   "cell_type": "code",
   "execution_count": null,
   "id": "7df8ff29-a0a4-4b14-aad7-dc2d592ef7a0",
   "metadata": {},
   "outputs": [],
   "source": [
    "StDevTa = np.sqrt(CovTs_Ts - 1.02 * dfsm['Ts'].mean() * CovTs_Q - 0.2601 * QMSE * dfsm['Ts'].mean()**2)\n",
    "Uz_Ta = CovUz_Ts - 0.07 * lamb * Uz_pV / (p * Cp)\n"
   ]
  },
  {
   "cell_type": "markdown",
   "id": "b117bf59-1d6b-4342-83f3-995d6f52433c",
   "metadata": {},
   "source": [
    "## Determine Saturation Vapor Pressure of the Air Using Highly Accurate Wexler's Equations Modified by Hardy"
   ]
  },
  {
   "cell_type": "code",
   "execution_count": null,
   "id": "ecd9355d-b8ce-4f4f-b028-d6fd7aed2919",
   "metadata": {},
   "outputs": [],
   "source": [
    "def calc_Td(E):\n",
    "    c0 = 207.98233\n",
    "    c1 = -20.156028\n",
    "    c2 = 0.46778925\n",
    "    c3 = -0.0000092288067\n",
    "    d0 = 1\n",
    "    d1 = -0.13319669\n",
    "    d2 = 0.0056577518\n",
    "    d3 = -0.000075172865\n",
    "    lne = np.log(E)\n",
    "    return (c0 + c1 * lne + c2 * lne ** 2 + c3 * lne ** 3) / (d0 + d1 * lne + d2 * lne ** 2 + d3 * lne ** 3)\n",
    "\n",
    "def calc_Es(T):\n",
    "    g0 = -2836.5744\n",
    "    g1 = -6028.076559\n",
    "    g2 = 19.54263612\n",
    "    g3 = -0.02737830188\n",
    "    g4 = 0.000016261698\n",
    "    g5 = 0.00000000070229056\n",
    "    g6 = -0.00000000000018680009\n",
    "    g7 = 2.7150305\n",
    "\n",
    "    return np.exp(g0 * T ** (-2) + g1 * T ** (-1) + g2 + g3 * T + g4 * T ** 2 + g5 * T ** 3 + g6 * T ** 4 + g7 * np.log(T))\n",
    "\n",
    "def calc_Q(P, E):\n",
    "    return (0.622 * E) / (P - 0.378 * E)\n"
   ]
  },
  {
   "cell_type": "code",
   "execution_count": null,
   "id": "ddb23328-a1e2-47bc-b060-f89f17c180a6",
   "metadata": {},
   "outputs": [],
   "source": [
    "Td = calc_Td(dfsm['E'].mean())\n",
    "D = calc_Es(Tsa) - dfsm['E'].mean()\n",
    "S = (calc_Q(dfsm['Pr'].mean(), calc_Es(Tsa + 1)) - calc_Q(dfsm['Pr'].mean(), calc_Es(Tsa - 1))) / 2"
   ]
  },
  {
   "cell_type": "markdown",
   "id": "bf6ca13f-5981-42e9-af2a-8cd71a311dc1",
   "metadata": {},
   "source": [
    "## Determine Wind Direction"
   ]
  },
  {
   "cell_type": "code",
   "execution_count": null,
   "id": "25fe8d4c-49cc-471f-bf7e-eef461c4497a",
   "metadata": {},
   "outputs": [],
   "source": [
    "\n",
    "WindDirection = np.arctan(df['Uy'].mean() / df['Ux'].mean()) * 180 / np.pi\n",
    "if df['Ux'].mean() < 0:\n",
    "    WindDirection += 180 * np.sign(df['Uy'].mean())"
   ]
  },
  {
   "cell_type": "code",
   "execution_count": null,
   "id": "45217c94-9561-4a5f-b7ad-585eb102bce0",
   "metadata": {},
   "outputs": [],
   "source": [
    "\n",
    "direction = directionKH20_U - WindDirection\n",
    "\n",
    "if direction < 0:\n",
    "    direction += 360"
   ]
  },
  {
   "cell_type": "markdown",
   "id": "74ab09e2-4010-4d78-af19-fbdb1d17332a",
   "metadata": {},
   "source": [
    "## Calculate the Lateral Separation Distance Projected Into the Mean Wind Direction"
   ]
  },
  {
   "cell_type": "code",
   "execution_count": null,
   "id": "df0cdc8a-8c7d-4bd9-936a-4c2f4cb9579b",
   "metadata": {},
   "outputs": [],
   "source": [
    "pathlen = PathKH20_U * np.abs(np.sin((np.pi / 180) * direction))"
   ]
  },
  {
   "cell_type": "markdown",
   "id": "f13aac75-eb66-4a59-b7a1-475d7080b2ae",
   "metadata": {},
   "source": [
    "## Calculate the Average and Standard Deviations of the Rotated Velocity Components"
   ]
  },
  {
   "cell_type": "code",
   "execution_count": null,
   "id": "844acd5c-8417-4d57-a405-9d58016f329c",
   "metadata": {},
   "outputs": [],
   "source": [
    "StDevUz = dfsm['Uz'].std()\n",
    "UMean = dfsm['Ux'].mean() * cosTheta * cosν + dfsm['Uy'].mean() * cosTheta * sinν + dfsm['Uz'].mean() * sinTheta"
   ]
  },
  {
   "cell_type": "markdown",
   "id": "a61ec340-fdb4-4a40-a35e-2cfb844fcb98",
   "metadata": {},
   "source": [
    "## Frequency Response Corrections (Massman, 2000 & 2001)"
   ]
  },
  {
   "cell_type": "code",
   "execution_count": null,
   "id": "0be9a351-f2ee-46a6-918a-a2f2d15b4e06",
   "metadata": {},
   "outputs": [],
   "source": [
    "tauB = (3600) / 2.8\n",
    "tauEKH20 = np.sqrt((0.01 / (4 * UMean)) **2 + (pathlen / (1.1 * UMean))**2)\n",
    "tauETs = np.sqrt((0.1 / (8.4 * UMean))**2)\n",
    "tauEMomentum = np.sqrt((0.1 / (5.7 * UMean))**2 + (0.1 / (2.8 * UMean))**2)"
   ]
  },
  {
   "cell_type": "markdown",
   "id": "7187c6fe-5728-4f9f-bf5f-63fd705f0826",
   "metadata": {},
   "source": [
    "## Calculate ζ and Correct Values of Uᕽ and Uz_Ta"
   ]
  },
  {
   "cell_type": "code",
   "execution_count": null,
   "id": "1780cd27-0c05-4058-a228-289fbe8e7514",
   "metadata": {},
   "outputs": [],
   "source": [
    "def calc_L(Ust, Tsa, Uz_Ta):\n",
    "    #removed negative sign\n",
    "    return -1*(Ust ** 3) * Tsa / (9.8 * 0.4 * Uz_Ta)\n",
    "\n",
    "def calc_AlphX(UHeight, L):\n",
    "    if (UHeight / L) <= 0:\n",
    "        alph = 0.925\n",
    "        X = 0.085\n",
    "    else:\n",
    "        alph = 1\n",
    "        X = 2 - 1.915 / (1 + 0.5 * UHeight / L)\n",
    "    return alph, X\n",
    "\n",
    "def correct_spectral(B, alpha, varib):\n",
    "    B_alpha = B ** alpha\n",
    "    V_alpha = varib ** alpha\n",
    "    return (B_alpha / (B_alpha + 1)) * (B_alpha / (B_alpha + V_alpha)) * (1 / (V_alpha + 1))"
   ]
  },
  {
   "cell_type": "code",
   "execution_count": null,
   "id": "8065a972-9fa9-4e5e-9714-8bad76a57323",
   "metadata": {},
   "outputs": [],
   "source": [
    "L = calc_L(Ustr, Tsa, Uz_Ta)\n",
    "alpha, X = calc_AlphX(UHeight, L)\n",
    "fX = X * UMean / UHeight\n",
    "B = 2 * np.pi * fX * tauB\n",
    "momentum = 2 * np.pi * fX * tauEMomentum\n",
    "_Ts = 2 * np.pi * fX * tauETs\n",
    "_KH20 = 2 * np.pi * fX * tauEKH20\n",
    "Ts = correct_spectral(B, alpha, _Ts)\n",
    "Uxy_Uz /= correct_spectral(B, alpha, momentum)\n",
    "Ustr = np.sqrt(Uxy_Uz)"
   ]
  },
  {
   "cell_type": "markdown",
   "id": "f7300e17-8665-495a-ae16-4da5002c88f7",
   "metadata": {},
   "source": [
    "## Recalculate L With New Uᕽ and Uz_Ta, and Calculate High Frequency Corrections"
   ]
  },
  {
   "cell_type": "code",
   "execution_count": null,
   "id": "3d2af8c7-a250-4437-a768-98be6e9ce5bd",
   "metadata": {},
   "outputs": [],
   "source": [
    "L = calc_L(Ustr, Tsa, Uz_Ta / Ts)\n",
    "alpha, X = calc_AlphX(UHeight, L)\n",
    "Ts = correct_spectral(B, alpha, _Ts)\n",
    "KH20 = correct_spectral(B, alpha, _KH20)"
   ]
  },
  {
   "cell_type": "markdown",
   "id": "6c285682-1784-42be-9780-57bb2b334b36",
   "metadata": {},
   "source": [
    "## Correct the Covariance Values"
   ]
  },
  {
   "cell_type": "code",
   "execution_count": null,
   "id": "b17af44b-1009-4017-bde2-538adb79177d",
   "metadata": {},
   "outputs": [],
   "source": [
    "Uz_Ta /= Ts\n",
    "Uz_pV /= KH20\n",
    "Uxy_Uz /= correct_spectral(B, alpha, momentum)\n",
    "Ustr = np.sqrt(Uxy_Uz)\n",
    "CovUz_Sd /= KH20\n",
    "exchange = ((p * Cp) / (S + Cp / lamb)) * CovUz_Sd"
   ]
  },
  {
   "cell_type": "markdown",
   "id": "5ab403d2-b085-4b7b-b3ce-8d0fbbd3ff8d",
   "metadata": {},
   "source": [
    "## KH20 Oxygen Correction"
   ]
  },
  {
   "cell_type": "code",
   "execution_count": null,
   "id": "9fdf0432-0737-4e58-b40b-3dc0cc6502ca",
   "metadata": {},
   "outputs": [],
   "source": [
    "def correct_KH20(Uz_Ta, P, T, Mo, Co, Ru, Ko, Kw):\n",
    "    \"\"\"Calculates an additive correction for the KH20 due to cross sensitivity between H20 and 02 molecules.\n",
    "    Uz_Ta = Covariance of Vertical Wind Component and Air Temperature (m*K/s)\n",
    "    P = Air Pressure (Pa)\n",
    "    T = Air Temperature (K)\n",
    "    Kw = Extinction Coefficient of Water (m^3/[g*cm]) -instrument calibration\n",
    "    Ko = Extinction Coefficient of Oxygen (m^3/[g*cm]) -derived experimentally\n",
    "    returns KH20 Oxygen Correction\n",
    "    \"\"\"\n",
    "    return ((Co * Mo * P) / (Ru * T ** 2)) * (Ko / Kw) * Uz_Ta"
   ]
  },
  {
   "cell_type": "code",
   "execution_count": null,
   "id": "daa7bd4f-3455-440d-ba6f-6452a1fea2bb",
   "metadata": {},
   "outputs": [],
   "source": [
    "Uz_pV += correct_KH20(Uz_Ta, dfsm['Pr'].mean(), Tsa, Mo, Co, Ru, Ko, Kw)"
   ]
  },
  {
   "cell_type": "markdown",
   "id": "56cac4fa-ece7-4746-9621-fb7395631728",
   "metadata": {},
   "source": [
    "## Calculate New H and LE Values"
   ]
  },
  {
   "cell_type": "code",
   "execution_count": null,
   "id": "bcaad807-cebe-4b2a-a86a-fbd152b513a0",
   "metadata": {},
   "outputs": [],
   "source": [
    "\n",
    "H = p * Cp * Uz_Ta\n",
    "lambdaE = lamb * Uz_pV"
   ]
  },
  {
   "cell_type": "markdown",
   "id": "2d6650e8-6cee-4f19-af32-ce3e6e6ebcb5",
   "metadata": {},
   "source": [
    "## Webb, Pearman and Leuning Correction"
   ]
  },
  {
   "cell_type": "code",
   "execution_count": null,
   "id": "4b876d20-8c7e-49f3-b184-9d5c5cfdef7e",
   "metadata": {},
   "outputs": [],
   "source": [
    "lambdaE = lamb * p * Cp * Tsa * (1.0 + (1.0 / 0.622) * (dfsm['pV'].mean() / pD)) * (Uz_pV + (dfsm['pV'].mean() / Tsa) * Uz_Ta) / (p * Cp * Tsa + lamb * (1.0 + (1 / 0.622) * (dfsm['pV'].mean() / pD)) * dfsm['pV'].mean() * 0.07)"
   ]
  },
  {
   "cell_type": "markdown",
   "id": "53c6f717-206f-4231-8804-51a97852d659",
   "metadata": {},
   "source": [
    "## Finish Output"
   ]
  },
  {
   "cell_type": "code",
   "execution_count": null,
   "id": "de73680f-a31b-4156-8e3f-71111c10d348",
   "metadata": {},
   "outputs": [],
   "source": [
    "def calc_water_density(temperature):\n",
    "    d1 = -3.983035  # °C\n",
    "    d2 = 301.797  # °C\n",
    "    d3 = 522528.9  # °C2\n",
    "    d4 = 69.34881  # °C\n",
    "    d5 = 999.97495  # kg/m3\n",
    "    return d5 * (1 - (temperature + d1) ** 2 * (temperature + d2) / (d3 * (temperature + d4)))  # 'kg/m^3\n",
    "\n",
    "def calc_latent_heat_of_vaporization(temperature):\n",
    "    l0 = 2500800\n",
    "    l1 = -2360\n",
    "    l2 = 1.6\n",
    "    l3 = -0.06\n",
    "    return l0 + l1 * temperature + l2 * temperature ** 2 + l3 * temperature ** 3  # 'J/kg\n",
    "\n",
    "def get_Watts_to_H2O_conversion_factor(temperature, day_fraction):\n",
    "    to_inches = 25.4\n",
    "    return (calc_water_density(temperature) * 86.4 * day_fraction) / (\n",
    "            calc_latent_heat_of_vaporization(temperature) * to_inches)\n",
    "\n"
   ]
  },
  {
   "cell_type": "code",
   "execution_count": null,
   "id": "f3af7dac-7e20-42ef-a9ed-3bee56b32af3",
   "metadata": {},
   "outputs": [],
   "source": [
    "Tsa = convert_KtoC(Tsa)\n",
    "Td = convert_KtoC(Td)\n",
    "zeta = UHeight / L\n",
    "ET = lambdaE * get_Watts_to_H2O_conversion_factor(Tsa, (dfsm.last_valid_index() - dfsm.first_valid_index())/ pd.to_timedelta(1, unit='D'))\n",
    "#'Out.Parameters = CWP\n",
    "columns = ['Ta','Td','D', 'Ustr', 'zeta', 'H', 'StDevUz', 'StDevTa',  'direction', 'exchange', 'lambdaE', 'ET', 'Uxy']\n",
    "out = [Tsa, Td, D, Ustr, zeta, H, StDevUz, StDevTa,  direction, exchange,  lambdaE, ET, Uxy]\n",
    "pd.Series(data=out,index=columns)"
   ]
  },
  {
   "cell_type": "markdown",
   "id": "40763eca-a6d6-4cdb-afae-db42fdd97dbf",
   "metadata": {},
   "source": [
    "# Extra Equations"
   ]
  },
  {
   "cell_type": "markdown",
   "id": "7140853d-bc04-4ec4-8044-185c1c15a489",
   "metadata": {},
   "source": [
    "-7.4889559330869538E-05, ux_xd"
   ]
  },
  {
   "cell_type": "markdown",
   "id": "7a8bcaa5",
   "metadata": {
    "ExecuteTime": {
     "end_time": "2021-05-25T18:20:28.778440Z",
     "start_time": "2021-05-25T18:20:28.748521Z"
    }
   },
   "source": [
    "## KH20 Conversions"
   ]
  },
  {
   "cell_type": "markdown",
   "id": "7b3113b0",
   "metadata": {
    "ExecuteTime": {
     "end_time": "2021-05-25T17:10:25.810094Z",
     "start_time": "2021-05-25T17:10:25.464389Z"
    }
   },
   "source": [
    "KH20 Manual: https://s.campbellsci.com/documents/us/manuals/kh20.pdf"
   ]
  },
  {
   "cell_type": "markdown",
   "id": "c222de83",
   "metadata": {},
   "source": [
    "KH20 Calibration Params"
   ]
  },
  {
   "cell_type": "code",
   "execution_count": null,
   "id": "b3a7104e",
   "metadata": {
    "ExecuteTime": {
     "end_time": "2021-05-25T18:38:30.476743Z",
     "start_time": "2021-05-25T18:38:30.318367Z"
    }
   },
   "outputs": [],
   "source": [
    "kh20sn = 1778\n",
    "vapor_density_gpm3 = [1.76,3.06,4.17,5.45,6.82,8.07,9.20,10.48,11.82,13.02,14.19,15.49,16.83,17.72,18.08]\n",
    "kh20_output_lnmv = [8.32,7.99,7.76,7.48,7.19,6.92,6.70,6.44,6.17,5.93,5.71,5.44,5.13,4.95,4.88]\n",
    "\n",
    "\n",
    "import statsmodels.api as sm\n",
    "\n",
    "y = vapor_density_gpm3\n",
    "x = kh20_output_lnmv\n",
    "X = sm.add_constant(x)\n",
    "model = sm.OLS(y,X)\n",
    "results = model.fit()\n",
    "intercept, slope = results.params\n",
    "print(f\"slope = {slope}\\nintercept={intercept}\")\n",
    "plt.scatter(x,y)\n",
    "plt.plot(x,[i*slope+intercept for i in x], color='red')\n",
    "\n",
    "df['LnKH'] = np.log(df['volt_KH20'])\n",
    "df['vap_density_gm3'] = df['LnKH']*slope + intercept"
   ]
  },
  {
   "cell_type": "code",
   "execution_count": null,
   "id": "4ca87902",
   "metadata": {},
   "outputs": [],
   "source": [
    "parameters = {\n",
    "    'Ea': ['Actual Vapor Pressure', 'kPa'],\n",
    "    'LnKH': ['Natural Log of Krypton Hygrometer Output', 'mV'],\n",
    "    'Pr': ['Air Pressure', 'Pa'],\n",
    "    'Ta': ['Air Temperature', 'K'],\n",
    "    'Ts': ['Sonic Temperature', 'K'],\n",
    "    'Ux': ['X Component of Wind Speed', 'm/s'],\n",
    "    'Uy': ['Y Component of Wind Speed', 'm/s'],\n",
    "    'Uz': ['Z Component of Wind Speed', 'm/s'],\n",
    "    'X': ['Path Length of KH20', 'cm', 1.412],\n",
    "    'XKwC1': ['First Order Coefficient in Vapor Density-KH20 Output Relationship (lnMV = C0 + C1 * VD + C2 * VD ^ 2, Windows Clean/Full Vapor Range)','cm', -0.152214126],\n",
    "    'XKwC2': ['Second Order Coefficient in Vapor Density-KH20 Output Relationship (lnMV = C0 + C1 * VD + C2 * VD ^ 2, Windows Clean/Full Vapor Range)','cm', -0.001667836],\n",
    "    'DirectionKH20_U': ['Clockwise Orientation of Sonic Anemometer from Northern Azimuth (degrees)',180],\n",
    "    'DirectionBadMin': ['Clockwise Orientation from DirectionKH20_U Where Unusable Wind Direction Data Begins','degrees', 0],\n",
    "    'DirectionBadMax': ['Clockwise Orientation from DirectionKH20_U Where Unusable Wind Direction Data Ends','degrees', 0],\n",
    "    'UHeight': ['Height of Sonic Anemometer above Ground Surface', 'm', 3],\n",
    "    'PathKH20_U':['Separation Distance Between Sonic Anemometer and KH20', 'm', 0.1],\n",
    "    'lag': ['Number of Shifts to Achieve Maximum Cross Correlation (Applied in Both Directions)','count', 10],\n",
    "    'E':['Vapor Pressure','kPa'],\n",
    "    'Q':['Specific Humidity','unitless'],'pV':['Water Vapor Density','kg/m^3'],\n",
    "    'Sd':['Entropy of Dry Air','J/K'],\n",
    "    'Tsa':['Absolute Air Temperature Derived from Sonic Temperature','K'], \n",
    "    \n",
    "}"
   ]
  },
  {
   "cell_type": "code",
   "execution_count": null,
   "id": "3df0f1ff",
   "metadata": {
    "ExecuteTime": {
     "end_time": "2021-05-24T21:42:52.246514Z",
     "start_time": "2021-05-24T21:42:52.237538Z"
    }
   },
   "outputs": [],
   "source": [
    "\n"
   ]
  },
  {
   "cell_type": "code",
   "execution_count": null,
   "id": "295ac080",
   "metadata": {},
   "outputs": [],
   "source": []
  }
 ],
 "metadata": {
  "kernelspec": {
   "display_name": "Python 3 (ipykernel)",
   "language": "python",
   "name": "python3"
  },
  "language_info": {
   "codemirror_mode": {
    "name": "ipython",
    "version": 3
   },
   "file_extension": ".py",
   "mimetype": "text/x-python",
   "name": "python",
   "nbconvert_exporter": "python",
   "pygments_lexer": "ipython3",
   "version": "3.10.4"
  },
  "latex_envs": {
   "LaTeX_envs_menu_present": true,
   "autoclose": false,
   "autocomplete": true,
   "bibliofile": "biblio.bib",
   "cite_by": "apalike",
   "current_citInitial": 1,
   "eqLabelWithNumbers": true,
   "eqNumInitial": 1,
   "hotkeys": {
    "equation": "Ctrl-E",
    "itemize": "Ctrl-I"
   },
   "labels_anchors": false,
   "latex_user_defs": false,
   "report_style_numbering": false,
   "user_envs_cfg": false
  },
  "toc": {
   "base_numbering": 1,
   "nav_menu": {},
   "number_sections": true,
   "sideBar": true,
   "skip_h1_title": false,
   "title_cell": "Table of Contents",
   "title_sidebar": "Contents",
   "toc_cell": false,
   "toc_position": {
    "height": "calc(100% - 180px)",
    "left": "10px",
    "top": "150px",
    "width": "426.656px"
   },
   "toc_section_display": true,
   "toc_window_display": true
  },
  "varInspector": {
   "cols": {
    "lenName": 16,
    "lenType": 16,
    "lenVar": 40
   },
   "kernels_config": {
    "python": {
     "delete_cmd_postfix": "",
     "delete_cmd_prefix": "del ",
     "library": "var_list.py",
     "varRefreshCmd": "print(var_dic_list())"
    },
    "r": {
     "delete_cmd_postfix": ") ",
     "delete_cmd_prefix": "rm(",
     "library": "var_list.r",
     "varRefreshCmd": "cat(var_dic_list()) "
    }
   },
   "types_to_exclude": [
    "module",
    "function",
    "builtin_function_or_method",
    "instance",
    "_Feature"
   ],
   "window_display": false
  }
 },
 "nbformat": 4,
 "nbformat_minor": 5
}
