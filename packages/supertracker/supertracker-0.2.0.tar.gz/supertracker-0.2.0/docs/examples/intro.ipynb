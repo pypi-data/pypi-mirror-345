{
 "cells": [
  {
   "cell_type": "markdown",
   "metadata": {},
   "source": [
    "# Supertracker Introduction\n",
    "\n",
    "This notebook demonstrates how to use the supertracker library for multi-object tracking."
   ]
  },
  {
   "cell_type": "markdown",
   "metadata": {},
   "source": [
    "## Installation"
   ]
  },
  {
   "cell_type": "code",
   "execution_count": null,
   "metadata": {},
   "outputs": [],
   "source": [
    "!pip install -q supertracker ultralytics opencv-python"
   ]
  },
  {
   "cell_type": "markdown",
   "metadata": {},
   "source": [
    "## Basic Usage with YOLO"
   ]
  },
  {
   "cell_type": "code",
   "execution_count": null,
   "metadata": {},
   "outputs": [],
   "source": [
    "import cv2\n",
    "from ultralytics import YOLO\n",
    "from supertracker import ByteTrack\n",
    "from supertracker import Detections\n",
    "\n",
    "# Initialize YOLO and tracker\n",
    "model = YOLO('yolov8n.pt')\n",
    "tracker = ByteTrack(\n",
    "    track_activation_threshold=0.25,\n",
    "    lost_track_buffer=30,\n",
    "    frame_rate=30\n",
    ")"
   ]
  },
  {
   "cell_type": "markdown",
   "metadata": {},
   "source": [
    "## Process Single Image"
   ]
  },
  {
   "cell_type": "code",
   "execution_count": null,
   "metadata": {},
   "outputs": [],
   "source": [
    "# Load and process single image\n",
    "image = cv2.imread('example.jpg')\n",
    "results = model(image, verbose=False)[0]\n",
    "\n",
    "# Convert YOLO results to Detections format\n",
    "detections = Detections(\n",
    "    xyxy=results.boxes.xyxy.cpu().numpy(),\n",
    "    confidence=results.boxes.conf.cpu().numpy(),\n",
    "    class_id=results.boxes.cls.cpu().numpy().astype(int)\n",
    ")\n",
    "\n",
    "# Update tracker\n",
    "tracked_objects = tracker.update_with_detections(detections)\n",
    "\n",
    "# Visualize results\n",
    "for i in range(len(tracked_objects)):\n",
    "    box = tracked_objects.xyxy[i].astype(int)\n",
    "    track_id = tracked_objects.tracker_id[i]\n",
    "    class_id = tracked_objects.class_id[i]\n",
    "    conf = tracked_objects.confidence[i]\n",
    "    \n",
    "    # Draw bounding box\n",
    "    cv2.rectangle(image, (box[0], box[1]), (box[2], box[3]), (0, 255, 0), 2)\n",
    "    \n",
    "    # Draw label\n",
    "    label = f\"#{track_id} {model.names[class_id]} {conf:.2f}\"\n",
    "    cv2.putText(image, label, (box[0], box[1]-10),\n",
    "                cv2.FONT_HERSHEY_SIMPLEX, 0.5, (0, 255, 0), 2)\n",
    "\n",
    "cv2.waitKey(0)"
   ]
  },
  {
   "cell_type": "markdown",
   "metadata": {},
   "source": [
    "## Process Video Stream"
   ]
  },
  {
   "cell_type": "code",
   "execution_count": null,
   "metadata": {},
   "outputs": [],
   "source": [
    "def process_video(source=0):  # 0 for webcam\n",
    "    cap = cv2.VideoCapture(source)\n",
    "    \n",
    "    while cap.isOpened():\n",
    "        ret, frame = cap.read()\n",
    "        if not ret:\n",
    "            break\n",
    "\n",
    "        # Run YOLO detection\n",
    "        results = model(frame, verbose=False)[0]\n",
    "        \n",
    "        # Convert to Detections format\n",
    "        detections = Detections(\n",
    "            xyxy=results.boxes.xyxy.cpu().numpy(),\n",
    "            confidence=results.boxes.conf.cpu().numpy(),\n",
    "            class_id=results.boxes.cls.cpu().numpy().astype(int)\n",
    "        )\n",
    "        \n",
    "        # Update tracker\n",
    "        tracked_objects = tracker.update_with_detections(detections)\n",
    "        \n",
    "        # Visualize results\n",
    "        for i in range(len(tracked_objects)):\n",
    "            box = tracked_objects.xyxy[i].astype(int)\n",
    "            track_id = tracked_objects.tracker_id[i]\n",
    "            class_id = tracked_objects.class_id[i]\n",
    "            conf = tracked_objects.confidence[i]\n",
    "            \n",
    "            cv2.rectangle(frame, (box[0], box[1]), (box[2], box[3]), (0, 255, 0), 2)\n",
    "            label = f\"#{track_id} {model.names[class_id]} {conf:.2f}\"\n",
    "            cv2.putText(frame, label, (box[0], box[1]-10),\n",
    "                        cv2.FONT_HERSHEY_SIMPLEX, 0.5, (0, 255, 0), 2)\n",
    "\n",
    "        if cv2.waitKey(1) & 0xFF == ord('q'):\n",
    "            break\n",
    "            \n",
    "    cap.release()\n",
    "    cv2.destroyAllWindows()\n",
    "\n",
    "# Run video processing\n",
    "process_video('vid.mp4')  # or just process_video() for webcam"
   ]
  },
  {
   "cell_type": "markdown",
   "metadata": {},
   "source": [
    "## Advanced Configuration"
   ]
  },
  {
   "cell_type": "code",
   "execution_count": null,
   "metadata": {},
   "outputs": [],
   "source": [
    "# Example with custom configuration\n",
    "tracker = ByteTrack(\n",
    "    track_activation_threshold=0.3,  # Higher threshold for more confident tracks\n",
    "    lost_track_buffer=45,           # Longer buffer for better occlusion handling\n",
    "    minimum_matching_threshold=0.85, # Stricter matching for better identity preservation\n",
    "    frame_rate=30,                  # Match your video frame rate\n",
    "    minimum_consecutive_frames=2     # Require more frames for track confirmation\n",
    ")"
   ]
  }
 ],
 "metadata": {
  "kernelspec": {
   "display_name": "pypi",
   "language": "python",
   "name": "python3"
  },
  "language_info": {
   "codemirror_mode": {
    "name": "ipython",
    "version": 3
   },
   "file_extension": ".py",
   "mimetype": "text/x-python",
   "name": "python",
   "nbconvert_exporter": "python",
   "pygments_lexer": "ipython3",
   "version": "3.10.16"
  }
 },
 "nbformat": 4,
 "nbformat_minor": 2
}
