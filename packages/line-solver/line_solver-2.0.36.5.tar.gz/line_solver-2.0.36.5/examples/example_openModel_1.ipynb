{
 "cells": [
  {
   "cell_type": "code",
   "id": "4930fb9c4fab467c",
   "metadata": {
    "collapsed": true,
    "ExecuteTime": {
     "end_time": "2024-09-01T13:21:42.435844Z",
     "start_time": "2024-09-01T13:21:42.432277Z"
    }
   },
   "source": [
    "from line_solver import *\n",
    "GlobalConstants.setVerbose(VerboseLevel.STD)"
   ],
   "outputs": [],
   "execution_count": 5
  },
  {
   "cell_type": "code",
   "source": [
    "model = Network('model')\n",
    "\n",
    "node = np.empty(4, dtype=object)\n",
    "node[0] = Delay(model, 'Delay')\n",
    "node[1] = Queue(model, 'Queue1', SchedStrategy.FCFS)\n",
    "node[2] = Source(model,'Source')\n",
    "node[3] = Sink(model,'Sink')\n",
    "\n",
    "jobclass = OpenClass(model, 'Class1', 0)\n",
    "\n",
    "node[0].setService(jobclass, HyperExp(0.5,3.0,10.0))\n",
    "node[1].setService(jobclass, Exp(1))\n",
    "node[2].setArrival(jobclass, Exp(0.1))\n",
    "\n",
    "M = model.getNumberOfStations()\n",
    "K = model.getNumberOfClasses()\n",
    "\n",
    "P = model.initRoutingMatrix()\n",
    "P.set(jobclass, jobclass, [[0,1,0,0],[0,0,0,1],[1,0,0,0],[0,0,0,0]])\n",
    "\n",
    "model.link(P)"
   ],
   "metadata": {
    "collapsed": false,
    "ExecuteTime": {
     "end_time": "2024-09-01T13:21:42.534888Z",
     "start_time": "2024-09-01T13:21:42.446343Z"
    }
   },
   "id": "bf3848b78f83c1f7",
   "outputs": [],
   "execution_count": 6
  },
  {
   "cell_type": "markdown",
   "source": [
    "This example shows the execution of the solver on a 1-class 2-node open model."
   ],
   "metadata": {
    "collapsed": false
   },
   "id": "b4e133009e163fe"
  },
  {
   "cell_type": "code",
   "source": [
    "#options = Solver.defaultOptions\n",
    "#options.keep = True\n",
    "#options.verbose = 1\n",
    "#options.cutoff = 10\n",
    "#options.seed = 23000\n",
    "#options.iter_max = 200\n",
    "#options.samples = 2000\n",
    "\n",
    "# This part illustrates the execution of different solvers\n",
    "solver = np.array([], dtype=object)\n",
    "solver = np.append(solver, SolverCTMC(model,'keep',True,'cutoff',1))\n",
    "solver = np.append(solver, SolverJMT(model,'seed',23000,'verbose',False,'keep',True))\n",
    "solver = np.append(solver, SolverSSA(model,'seed',23000,'verbose',True,'samples',10000))\n",
    "solver = np.append(solver, SolverFluid(model))\n",
    "solver = np.append(solver, SolverMVA(model))\n",
    "solver = np.append(solver, SolverNC(model))\n",
    "#solver = np.append(solver, SolverMAM(model)) # TODO: bug in MAM\n",
    "#solver = np.append(solver, LINE(model))\n",
    "\n",
    "AvgTable = np.empty(len(solver), dtype=object)\n",
    "for s in range(len(solver)):\n",
    "    print(f'\\nSOLVER: {solver[s].getName()}')\n",
    "    AvgTable[s] = solver[s].getAvgTable()"
   ],
   "metadata": {
    "collapsed": false,
    "ExecuteTime": {
     "end_time": "2024-09-01T13:21:45.777534Z",
     "start_time": "2024-09-01T13:21:42.550597Z"
    }
   },
   "id": "initial_id",
   "outputs": [
    {
     "name": "stdout",
     "output_type": "stream",
     "text": [
      "\n",
      "SOLVER: SolverCTMC\n",
      "  Station JobClass    QLen    Util   RespT  ResidT    ArvR    Tput\n",
      "0   Delay   Class1  0.0193  0.0193  0.2167  0.2167  0.0892  0.0892\n",
      "1  Queue1   Class1  0.0892  0.0892  1.0000  1.0000  0.0892  0.0892\n",
      "2  Source   Class1  0.0000  0.0000  0.0000  0.0000  0.0000  0.0892\n",
      "\n",
      "SOLVER: SolverJMT\n",
      "  Station JobClass    QLen    Util   RespT  ResidT    ArvR    Tput\n",
      "0   Delay   Class1  0.0227  0.0227  0.2148  0.2148  0.0996  0.0996\n",
      "1  Queue1   Class1  0.1133  0.1022  1.1075  1.1075  0.0996  0.1000\n",
      "2  Source   Class1  0.0000  0.0000  0.0000  0.0000  0.0000  0.0996\n",
      "\n",
      "SOLVER: SolverSSA\n",
      "SSA samples:   10000\n",
      "SolverSSA analysis (method: default, lang: java) completed. Runtime: 2.224000 seconds.\n",
      "  Station JobClass    QLen    Util   RespT  ResidT    ArvR    Tput\n",
      "0   Delay   Class1  0.0207  0.0207  0.2167  0.2167  0.1000  0.0953\n",
      "1  Queue1   Class1  0.1097  0.0953  1.1139  1.1139  0.0953  0.0985\n",
      "2  Source   Class1  0.0000  0.0000  0.0000  0.0000  0.0000  0.1000\n",
      "\n",
      "SOLVER: SolverFluid\n",
      "  Station JobClass    QLen    Util   RespT  ResidT  ArvR  Tput\n",
      "0   Delay   Class1  0.0217  0.0217  0.2167  0.2167   0.0   0.1\n",
      "1  Queue1   Class1  0.1000  0.1000  1.0000  1.0000   0.0   0.1\n",
      "2  Source   Class1  0.0000  0.0000  0.0000  0.0000   0.0   0.1\n",
      "\n",
      "SOLVER: SolverMVA\n",
      "  Station JobClass    QLen    Util   RespT  ResidT  ArvR  Tput\n",
      "0   Delay   Class1  0.0215  0.0217  0.2148  0.2148   0.0   0.1\n",
      "1  Queue1   Class1  0.1111  0.1000  1.1109  1.1109   0.0   0.1\n",
      "2  Source   Class1  0.0000  0.0000  0.0000  0.0000   0.0   0.1\n",
      "\n",
      "SOLVER: SolverNC\n",
      "  Station JobClass    QLen    Util   RespT  ResidT  ArvR  Tput\n",
      "0   Delay   Class1  0.0221  0.0217  0.2215  0.2215   0.0   0.1\n",
      "1  Queue1   Class1  0.1111  0.1000  1.1111  1.1111   0.0   0.1\n",
      "2  Source   Class1  0.0000  0.0000  0.0000  0.0000   0.0   0.1\n"
     ]
    }
   ],
   "execution_count": 7
  }
 ],
 "metadata": {
  "kernelspec": {
   "display_name": "Python 3",
   "language": "python",
   "name": "python3"
  },
  "language_info": {
   "codemirror_mode": {
    "name": "ipython",
    "version": 2
   },
   "file_extension": ".py",
   "mimetype": "text/x-python",
   "name": "python",
   "nbconvert_exporter": "python",
   "pygments_lexer": "ipython2",
   "version": "2.7.6"
  }
 },
 "nbformat": 4,
 "nbformat_minor": 5
}
