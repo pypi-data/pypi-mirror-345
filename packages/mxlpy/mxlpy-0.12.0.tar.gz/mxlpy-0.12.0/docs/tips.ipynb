{
 "cells": [
  {
   "cell_type": "markdown",
   "id": "781154dc",
   "metadata": {},
   "source": [
    "# Tips and tricks"
   ]
  },
  {
   "cell_type": "code",
   "execution_count": null,
   "id": "0b4f4a61",
   "metadata": {},
   "outputs": [],
   "source": [
    "import matplotlib.pyplot as plt\n",
    "\n",
    "from example_models import get_linear_chain_2v\n",
    "from mxlpy import Simulator, plot\n",
    "from mxlpy.types import unwrap"
   ]
  },
  {
   "cell_type": "markdown",
   "id": "bbc332a4",
   "metadata": {},
   "source": [
    "## Renaming plots arguments\n",
    "\n",
    "The easiest way to rename plot arguments, e.g. for `LaTeX` display, is to work on the `pandas.DataFrame` directly.  \n",
    "This conveniently offers a `rename` method, to which you can supply a dictionary of desired names. "
   ]
  },
  {
   "cell_type": "code",
   "execution_count": null,
   "id": "0b8699e6",
   "metadata": {},
   "outputs": [],
   "source": [
    "concs = unwrap(Simulator(get_linear_chain_2v()).simulate(5).get_result()).variables\n",
    "\n",
    "fig, ax = plot.lines(\n",
    "    concs.rename(\n",
    "        columns={\n",
    "            \"x\": r\"$x_{1}$\",\n",
    "            \"y\": r\"$x_{2}$\",\n",
    "        }\n",
    "    )\n",
    ")\n",
    "ax.set(xlabel=\"time / a.u.\", ylabel=\"concentration / a.u.\")\n",
    "plt.show()"
   ]
  }
 ],
 "metadata": {
  "kernelspec": {
   "display_name": ".venv",
   "language": "python",
   "name": "python3"
  },
  "language_info": {
   "codemirror_mode": {
    "name": "ipython",
    "version": 3
   },
   "file_extension": ".py",
   "mimetype": "text/x-python",
   "name": "python",
   "nbconvert_exporter": "python",
   "pygments_lexer": "ipython3",
   "version": "3.13.2"
  }
 },
 "nbformat": 4,
 "nbformat_minor": 5
}
