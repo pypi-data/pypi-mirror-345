{
 "cells": [
  {
   "cell_type": "code",
   "execution_count": 2,
   "metadata": {},
   "outputs": [],
   "source": [
    "#pip install ambientagi\n",
    "from ambientagi.services.agent_service import AmbientAgentService\n",
    "import json\n",
    "\n"
   ]
  },
  {
   "cell_type": "code",
   "execution_count": 3,
   "metadata": {},
   "outputs": [
    {
     "name": "stdout",
     "output_type": "stream",
     "text": [
      "Create Agent Response:\n",
      "{\n",
      "    \"agent\": {\n",
      "        \"name\": \"DeFi Watcher\",\n",
      "        \"role\": \"Assistant for DeFi Monitoring\",\n",
      "        \"specialty\": \"Decentralized Finance Analysis\",\n",
      "        \"style\": \"Informative and supportive\",\n",
      "        \"features\": [\n",
      "            \"Real-time monitoring of DeFi protocols\",\n",
      "            \"Alerts for significant price changes\",\n",
      "            \"Portfolio tracking and performance analysis\",\n",
      "            \"Risk assessment tools for DeFi investments\",\n",
      "            \"Educational resources on DeFi strategies\",\n",
      "            \"Integration with popular DeFi platforms\"\n",
      "        ],\n",
      "        \"personality\": \"The DeFi Watcher is analytical and detail-oriented, providing users with comprehensive insights into their DeFi investments. It maintains a friendly demeanor, encouraging users to ask questions and learn more about the DeFi landscape. The agent is patient, ensuring that even complex financial concepts are explained clearly.\",\n",
      "        \"avatar\": null,\n",
      "        \"wallet_address\": \"0x123456789ABCDEF\",\n",
      "        \"agent_id\": \"9151add0-245d-44cc-b5ba-06e940b01fa1\",\n",
      "        \"system_prompt\": \"You are DeFi Watcher, an AI assistant dedicated to helping users monitor and understand decentralized finance. Your primary focus is to provide real-time insights, alerts, and educational resources related to DeFi protocols and investments. Maintain a supportive and informative tone, always encouraging users to engage and learn.\",\n",
      "        \"task\": null,\n",
      "        \"knowledge_base\": null,\n",
      "        \"token_data\": null,\n",
      "        \"twitter_handle\": null,\n",
      "        \"browser_provider\": null,\n",
      "        \"fireclawer_provider\": null,\n",
      "        \"email_provider\": null,\n",
      "        \"telegram_provider\": null,\n",
      "        \"twitter_id\": null,\n",
      "        \"bearer_token\": null,\n",
      "        \"api_key\": null,\n",
      "        \"api_secret\": null,\n",
      "        \"access_token\": null,\n",
      "        \"access_secret\": null\n",
      "    },\n",
      "    \"message\": \"Ambient agent created successfully\"\n",
      "}\n"
     ]
    }
   ],
   "source": [
    "# Initialize the service\n",
    "service = AmbientAgentService(api_key= \"\")\n",
    "\n",
    "# Create an agent\n",
    "response = service.create_agent(\n",
    "    agent_name=\"Assistant for DeFi monitoring Assistant for DeFi monitoring\",\n",
    "    description=\"Assistant for DeFi monitoring\",\n",
    "    wallet_address=\"0x123456789ABCDEF\",\n",
    "\n",
    ")\n",
    "print(\"Create Agent Response:\")\n",
    "print(json.dumps(response, indent=4))"
   ]
  },
  {
   "cell_type": "code",
   "execution_count": 3,
   "metadata": {},
   "outputs": [
    {
     "name": "stdout",
     "output_type": "stream",
     "text": [
      "Update Agent Response: {'agent': {'name': 'DeFi Sentinel', 'role': 'DeFi Monitoring Assistant', 'specialty': 'Updated DeFi monitoring', 'style': 'Informative and active', 'features': ['Real-time market data tracking', 'Portfolio performance analysis', 'Alerts for significant market changes', 'Risk assessment tools', 'Transaction history monitoring', 'Integration with multiple DeFi platforms'], 'personality': 'The DeFi Sentinel is analytical and meticulous, always striving to provide the most accurate information. It engages users with a calm and reassuring tone, ensuring that even complex financial concepts are presented in an understandable manner. It values transparency and encourages users to make informed decisions.', 'avatar': None, 'wallet_address': '0x123456789ABCDEF', 'agent_id': '6e62aece-630b-4596-a9a9-5ed896ff4bbd', 'system_prompt': 'You are DeFi Sentinel, an AI assistant designed to monitor and analyze decentralized finance activities. Your main goal is to provide users with up-to-date information and alerts about their DeFi investments. Communicate clearly and concisely, helping users understand complex financial data. Always prioritize user security and data privacy.', 'task': None, 'knowledge_base': None, 'token_data': None, 'twitter_handle': None, 'browser_provider': None, 'fireclawer_provider': None, 'email_provider': None, 'telegram_provider': None, 'twitter_id': None, 'bearer_token': None, 'api_key': None, 'api_secret': None, 'access_token': None, 'access_secret': None}, 'message': 'Agent attributes updated successfully'}\n"
     ]
    }
   ],
   "source": [
    "# Update the agent\n",
    "agent_id = response['agent_id']\n",
    "update_response = service.update_agent(\n",
    "    agent_id=agent_id,\n",
    "    data={\"specialty\": \"Updated DeFi monitoring\", \"style\": \"Informative and active\"}\n",
    ")\n",
    "\n",
    "print(\"Update Agent Response:\", update_response)\n"
   ]
  },
  {
   "cell_type": "code",
   "execution_count": null,
   "metadata": {},
   "outputs": [],
   "source": [
    "# Attach token to agent \n",
    "import os \n",
    "agent_id = response['agent_id']\n",
    "attach_token = service.add_blockchain(agent_id)\n",
    "\n",
    "creds_resp = attach_token.create_eth_token(\n",
    "        privateKey=os.getenv(\"MY-PRIVATE-KEY\"),\n",
    "        token_name=\"aa45\",\n",
    "        symbol=\"app\",\n",
    "        buy_value_eth=0.001,\n",
    "        image_path=\"mytoken.png\"\n",
    ")\n"
   ]
  },
  {
   "cell_type": "code",
   "execution_count": 4,
   "metadata": {},
   "outputs": [
    {
     "name": "stdout",
     "output_type": "stream",
     "text": [
      "INFO     [root] 🛠️ Starting to create Solana token...\n",
      "INFO     [root] 📸 Uploading image from mytoken.png...\n",
      "INFO     [root] 🚀 Sending request to http://solana-toolkit-env.eba-mxurdvra.eu-west-1.elasticbeanstalk.com/pump/funder-create to create token aa49 (APP) with 0.001 SOL...\n",
      "INFO     [root] 🎉 Token aa49 created successfully with mint address BuC6srgq9KmEr1TqdwBPjZDWCVJNN3W3HUzf8eGRRstf.\n"
     ]
    }
   ],
   "source": [
    "# Attach solana token to agent \n",
    "import os \n",
    "agent_id = response['agent_id']\n",
    "attach_token = service.add_blockchain(agent_id)\n",
    "\n",
    "creds_resp = attach_token.create_solana_token(\n",
    "        funder_private_key=os.getenv(\"SOLANA_API_KEY\"),\n",
    "        amount_sol=0.001,  # Required only if using a new wallet\n",
    "        token_name=\"aa49\",\n",
    "        token_symbol=\"APP\",  # 🔥 Use 'token_symbol' instead of 'symbol'\n",
    "        token_description=\"This is a test token\",\n",
    "        twitter=\"https://twitter.com/myproject\",\n",
    "        telegram=\"https://t.me/myproject\",\n",
    "        website=\"https://myproject.com\",\n",
    "        image_path=\"mytoken.png\",\n",
    "        dev_buy=0.001,  # Amount of SOL for dev buy\n",
    "        use_new_wallet=False\n",
    ")"
   ]
  },
  {
   "cell_type": "code",
   "execution_count": null,
   "metadata": {},
   "outputs": [],
   "source": [
    "creds_resp = attach_token.create_eth_token(\n",
    "    privateKey=os.getenv(\"MY-PRIVATE-KEY\"),\n",
    "    token_name=\"aa45\",\n",
    "    symbol=\"app\",\n",
    "    buy_value_eth=0.001,\n",
    "    image_path=\"mytoken.png\",\n",
    ")"
   ]
  }
 ],
 "metadata": {
  "kernelspec": {
   "display_name": "newvenv",
   "language": "python",
   "name": "python3"
  },
  "language_info": {
   "codemirror_mode": {
    "name": "ipython",
    "version": 3
   },
   "file_extension": ".py",
   "mimetype": "text/x-python",
   "name": "python",
   "nbconvert_exporter": "python",
   "pygments_lexer": "ipython3",
   "version": "3.11.9"
  }
 },
 "nbformat": 4,
 "nbformat_minor": 2
}
