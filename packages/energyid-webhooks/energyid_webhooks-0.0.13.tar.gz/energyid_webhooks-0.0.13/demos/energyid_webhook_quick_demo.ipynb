{
 "cells": [
  {
   "cell_type": "markdown",
   "metadata": {},
   "source": [
    "# EnergyID Webhook V2 Quick Demo\n",
    "\n",
    "This notebook is a quick demonstration of the new EnergyID Webhook V2 API, which includes device provisioning, claiming, and the new data format for sending measurements to EnergyID.\n",
    "\n",
    "There is also a full developer demo available in another notebook, which includes more detailed information about the API and how to use it."
   ]
  },
  {
   "cell_type": "markdown",
   "metadata": {},
   "source": [
    "# Imports and setup"
   ]
  },
  {
   "cell_type": "code",
   "execution_count": null,
   "metadata": {},
   "outputs": [],
   "source": [
    "from time import sleep\n",
    "import json\n",
    "import uuid\n",
    "import datetime as dt\n",
    "\n",
    "from energyid_webhooks.client_v2 import WebhookClient"
   ]
  },
  {
   "cell_type": "markdown",
   "metadata": {},
   "source": [
    "To use a webhook, you will need a Client Secret and a Client Id. For this demo, we will load them from a file called `credentials.json`. You can create this file by copying the `credentials_sample.json` file and filling in the values."
   ]
  },
  {
   "cell_type": "code",
   "execution_count": null,
   "metadata": {},
   "outputs": [],
   "source": [
    "from dotenv import load_dotenv\n",
    "import os\n",
    "\n",
    "load_dotenv()\n",
    "\n",
    "credentials = {\n",
    "    \"PROVISIONING_KEY\": os.getenv(\"PROVISIONING_KEY\"),\n",
    "    \"PROVISIONING_SECRET\": os.getenv(\"PROVISIONING_SECRET\"),\n",
    "}"
   ]
  },
  {
   "cell_type": "markdown",
   "metadata": {},
   "source": [
    "Every device that sends data to EnergyID Needs a Unique Device ID. In this demo, we will use the `uuid` library to generate a random UUID for the device.\n",
    "\n",
    "Note: Only create this device ID once, and then re-use it when you run the demo again. If you create a new device ID every time you run the demo, you will end up with multiple devices in EnergyID."
   ]
  },
  {
   "cell_type": "code",
   "execution_count": null,
   "metadata": {},
   "outputs": [],
   "source": [
    "device_id = f\"jupyter_demo_{uuid.uuid4().hex[:8]}\"\n",
    "print(f\"Device ID: {device_id}\")"
   ]
  },
  {
   "cell_type": "markdown",
   "metadata": {},
   "source": [
    "# Webhook Client\n",
    "\n",
    "The `WebhookClient` class is a simple\n",
    "client that sends requests to the EnergyID Webhook API. It has methods for provisioning a device, claiming a device, and sending measurements.\n",
    "\n",
    "To instantiate the client, you need to pass the `provisioning_key` and `provisioning_secret` to the constructor, as well as the `device_id` and a `device_name` for the device you want to provision. You can also pass other metadata such as IP address or MAC address."
   ]
  },
  {
   "cell_type": "code",
   "execution_count": null,
   "metadata": {},
   "outputs": [],
   "source": [
    "client = WebhookClient(\n",
    "    provisioning_key=credentials[\"PROVISIONING_KEY\"],\n",
    "    provisioning_secret=credentials[\"PROVISIONING_SECRET\"],\n",
    "    device_id=\"PASTE_DEVICE_ID_HERE\",  # Replace with your device ID\n",
    "    device_name=\"Jupyter Demo Device\",\n",
    ")"
   ]
  },
  {
   "cell_type": "markdown",
   "metadata": {},
   "source": [
    "# Claiming a device\n",
    "\n",
    "If you use a device for the first time, you need to claim it before you can send measurements. Call `client.authenticate()`, check `is_claimed`, and if it is `False` you can visit the `claim_url` to claim the device."
   ]
  },
  {
   "cell_type": "code",
   "execution_count": null,
   "metadata": {},
   "outputs": [],
   "source": [
    "# Authenticate with EnergyID\n",
    "is_claimed = await client.authenticate()\n",
    "\n",
    "if is_claimed:\n",
    "    print(\"✅ Device is already claimed and ready to send data!\")\n",
    "    print(f\"Webhook URL: {client.webhook_url}\")\n",
    "    print(f\"Auth valid until: {client.auth_valid_until}\")\n",
    "    print(f\"\\nWebhook policy: {json.dumps(client.webhook_policy, indent=2)}\")\n",
    "else:\n",
    "    # Device needs to be claimed\n",
    "    claim_info = client.get_claim_info()\n",
    "    print(\"⚠️ Device needs to be claimed before sending data!\")\n",
    "    print(f\"\\nClaim Code: {claim_info['claim_code']}\")\n",
    "    print(f\"Claim URL: {claim_info['claim_url']}\")\n",
    "    print(f\"Valid until: {claim_info['valid_until']}\")\n",
    "    print(\"\\n1. Visit the claim URL above in your browser\")\n",
    "    print(\"2. Log in to your EnergyID account if needed\")\n",
    "    print(\"3. Enter the claim code shown above\")\n",
    "    print(\"4. Once claimed, re-run this cell to continue or run the next cell\")"
   ]
  },
  {
   "cell_type": "code",
   "execution_count": null,
   "metadata": {},
   "outputs": [],
   "source": [
    "# Authenticate with EnergyID\n",
    "is_claimed = await client.authenticate()\n",
    "\n",
    "if is_claimed:\n",
    "    print(\"✅ Device is already claimed and ready to send data!\")\n",
    "    print(f\"Webhook URL: {client.webhook_url}\")\n",
    "    # print(f\"client info: {client.client_info}\")\n",
    "    print(f\"Auth valid until: {client.auth_valid_until}\")\n",
    "    print(f\"\\nWebhook policy: {json.dumps(client.webhook_policy, indent=2)}\")\n",
    "else:\n",
    "    raise ValueError(\"Device is not claimed yet, please claim it first\")"
   ]
  },
  {
   "cell_type": "markdown",
   "metadata": {},
   "source": [
    "# Sending Measurements\n",
    "\n",
    "If you don't include a timestamp, we will use the current time."
   ]
  },
  {
   "cell_type": "code",
   "execution_count": null,
   "metadata": {},
   "outputs": [],
   "source": [
    "data = {\n",
    "    # ts is automatically added if not provided\n",
    "    \"el\": 1255.7,  # Electricity consumption\n",
    "    \"el-i\": 150.3,  # Electricity injection\n",
    "    \"pv\": 3570.8,  # Solar production\n",
    "    \"gas\": 450.2,  # Gas consumption\n",
    "    \"temperature\": 21.5,  # Custom metric for temperature\n",
    "}\n",
    "\n",
    "# Send the data\n",
    "await client.send_data(data)"
   ]
  },
  {
   "cell_type": "markdown",
   "metadata": {},
   "source": [
    "# Sending Measurements with Timestamp"
   ]
  },
  {
   "cell_type": "code",
   "execution_count": null,
   "metadata": {},
   "outputs": [],
   "source": [
    "data = {\n",
    "    \"el\": 1255.7,  # Electricity consumption\n",
    "    \"el-i\": 150.3,  # Electricity injection\n",
    "    \"pv\": 3570.8,  # Solar production\n",
    "    \"gas\": 450.2,  # Gas consumption\n",
    "    \"temperature\": 21.5,  # Custom metric for temperature\n",
    "}\n",
    "\n",
    "# Send the data\n",
    "await client.send_data(\n",
    "    data, timestamp=dt.datetime.now(dt.timezone.utc) - dt.timedelta(days=1)\n",
    ")"
   ]
  },
  {
   "cell_type": "markdown",
   "metadata": {},
   "source": [
    "# Bundling Measurements\n",
    "\n",
    "You can call `client.update_sensor` multiple times before calling `client.synchronize_sensors`. This way, only the most recent measurement for each sensor will be sent to EnergyID.\n",
    "\n",
    "This method is useful if you have sensors that update frequently, but you only want to send data to EnergyID every few minutes."
   ]
  },
  {
   "cell_type": "code",
   "execution_count": null,
   "metadata": {},
   "outputs": [],
   "source": [
    "await client.update_sensor(sensor_id=\"el\", value=1256)\n",
    "await client.update_sensor(sensor_id=\"el-i\", value=150.4)\n",
    "await client.update_sensor(sensor_id=\"pv\", value=3571.2)\n",
    "\n",
    "sleep(5)\n",
    "\n",
    "await client.update_sensor(sensor_id=\"gas\", value=450.3)\n",
    "await client.update_sensor(sensor_id=\"temperature\", value=21.6)\n",
    "\n",
    "sleep(5)\n",
    "\n",
    "# we overwrite the previous values\n",
    "await client.update_sensor(sensor_id=\"el\", value=1257)\n",
    "await client.update_sensor(sensor_id=\"el-i\", value=150.5)\n",
    "await client.update_sensor(sensor_id=\"pv\", value=3572.2)\n",
    "\n",
    "await client.synchronize_sensors()"
   ]
  },
  {
   "cell_type": "code",
   "execution_count": null,
   "metadata": {},
   "outputs": [],
   "source": [
    "# Simple example of a loop that updates a sensor called \"bat-soc\" every second, but uploads the data every 10 seconds\n",
    "\n",
    "# Set the total time you want the example to run\n",
    "total_time = 600  # 10 minutes\n",
    "\n",
    "start_time = dt.datetime.now(dt.timezone.utc)\n",
    "end_time = start_time + dt.timedelta(seconds=total_time)\n",
    "\n",
    "soc = 0\n",
    "direction = \"charge\"\n",
    "last_upload_time = None\n",
    "\n",
    "while dt.datetime.now(dt.timezone.utc) < end_time:\n",
    "    # Update the sensor value\n",
    "    if direction == \"charge\":\n",
    "        soc += 1\n",
    "        if soc >= 100:\n",
    "            direction = \"discharge\"\n",
    "    else:\n",
    "        soc -= 1\n",
    "        if soc <= 0:\n",
    "            direction = \"charge\"\n",
    "    await client.update_sensor(sensor_id=\"bat-soc\", value=soc)\n",
    "    print(f\"Updated sensor bat-soc to {soc}\")\n",
    "\n",
    "    # Upload the data every 60 seconds\n",
    "    if last_upload_time is None or dt.datetime.now(\n",
    "        dt.timezone.utc\n",
    "    ) - last_upload_time > dt.timedelta(seconds=60):\n",
    "        await client.synchronize_sensors()\n",
    "        last_upload_time = dt.datetime.now(dt.timezone.utc)\n",
    "        print(\"Uploaded data\")\n",
    "\n",
    "    sleep(10)"
   ]
  },
  {
   "cell_type": "code",
   "execution_count": null,
   "metadata": {},
   "outputs": [],
   "source": []
  }
 ],
 "metadata": {
  "kernelspec": {
   "display_name": ".venv",
   "language": "python",
   "name": "python3"
  },
  "language_info": {
   "codemirror_mode": {
    "name": "ipython",
    "version": 3
   },
   "file_extension": ".py",
   "mimetype": "text/x-python",
   "name": "python",
   "nbconvert_exporter": "python",
   "pygments_lexer": "ipython3",
   "version": "3.12.3"
  }
 },
 "nbformat": 4,
 "nbformat_minor": 2
}
