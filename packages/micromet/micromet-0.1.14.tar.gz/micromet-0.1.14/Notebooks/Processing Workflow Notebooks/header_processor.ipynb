{
 "cells": [
  {
   "cell_type": "code",
   "id": "initial_id",
   "metadata": {
    "collapsed": true,
    "ExecuteTime": {
     "end_time": "2025-04-29T00:37:40.709450Z",
     "start_time": "2025-04-29T00:37:33.309566Z"
    }
   },
   "source": [
    "import matplotlib\n",
    "import pandas\n",
    "import pathlib\n",
    "import sys\n",
    "sys.path.append(\"../../../Micromet\")\n",
    "import micromet\n",
    "from micromet import AmerifluxDataProcessor\n",
    "%matplotlib inline"
   ],
   "outputs": [
    {
     "name": "stdout",
     "output_type": "stream",
     "text": [
      "credentials needed\n"
     ]
    }
   ],
   "execution_count": 1
  },
  {
   "metadata": {
    "ExecuteTime": {
     "end_time": "2025-04-29T00:47:30.732303Z",
     "start_time": "2025-04-29T00:47:29.934464Z"
    }
   },
   "cell_type": "code",
   "source": [
    "parent = pathlib.Path(r\"G:\\Shared drives\\UGS_Flux\\Data_Downloads\\Bluff\")\n",
    "pths = micromet.fix_all_in_parent(parent)"
   ],
   "id": "1f7e405fdd850e49",
   "outputs": [
    {
     "name": "stdout",
     "output_type": "stream",
     "text": [
      "21020_Flux_AmeriFluxFormat_12.dat no dups\n",
      "21020_Flux_AmeriFluxFormat_13.dat no dups\n",
      "[INFO]  Patched  e20250219\\21020_Flux_AmeriFluxFormat_9.dat   (977 rows)\n",
      "21020_Flux_AmeriFluxFormat_15.dat no dups\n",
      "21020_Flux_AmeriFluxFormat_11.dat no dups\n",
      "21020_Flux_AmeriFluxFormat_10.dat no dups\n",
      "21020_Flux_AmeriFluxFormat_14.dat no dups\n",
      "21020_Flux_AmeriFluxFormat_7.dat no dups\n",
      "21020_Flux_AmeriFluxFormat_8.dat no dups\n",
      "\n",
      "✔ All possible files have been checked.\n"
     ]
    }
   ],
   "execution_count": 12
  },
  {
   "metadata": {},
   "cell_type": "code",
   "source": "",
   "id": "317a5a07f755e36a",
   "outputs": [],
   "execution_count": null
  },
  {
   "metadata": {},
   "cell_type": "code",
   "source": "pths",
   "id": "21d9f8324d1768a3",
   "outputs": [],
   "execution_count": null
  }
 ],
 "metadata": {
  "kernelspec": {
   "display_name": "Python 3",
   "language": "python",
   "name": "python3"
  },
  "language_info": {
   "codemirror_mode": {
    "name": "ipython",
    "version": 2
   },
   "file_extension": ".py",
   "mimetype": "text/x-python",
   "name": "python",
   "nbconvert_exporter": "python",
   "pygments_lexer": "ipython2",
   "version": "2.7.6"
  }
 },
 "nbformat": 4,
 "nbformat_minor": 5
}
