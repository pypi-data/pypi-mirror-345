{
 "cells": [
  {
   "cell_type": "markdown",
   "id": "82452f43",
   "metadata": {},
   "source": [
    "# Working with Regions\n",
    "\n",
    "Regions are rectangular areas on a page that let you focus on specific parts of a document. They're perfect for extracting text from defined areas, finding elements within certain boundaries, and working with document sections."
   ]
  },
  {
   "cell_type": "code",
   "execution_count": 1,
   "id": "d81c5f97",
   "metadata": {
    "execution": {
     "iopub.execute_input": "2025-05-02T13:57:16.681294Z",
     "iopub.status.busy": "2025-05-02T13:57:16.681054Z",
     "iopub.status.idle": "2025-05-02T13:57:16.686294Z",
     "shell.execute_reply": "2025-05-02T13:57:16.685514Z"
    }
   },
   "outputs": [],
   "source": [
    "#%pip install \"natural-pdf[all]\""
   ]
  },
  {
   "cell_type": "code",
   "execution_count": 2,
   "id": "f2ed403d",
   "metadata": {
    "execution": {
     "iopub.execute_input": "2025-05-02T13:57:16.689072Z",
     "iopub.status.busy": "2025-05-02T13:57:16.688859Z",
     "iopub.status.idle": "2025-05-02T13:57:23.589930Z",
     "shell.execute_reply": "2025-05-02T13:57:23.589564Z"
    }
   },
   "outputs": [
    {
     "data": {
      "text/plain": [
       "'INS-UP70N51NCL41R\\nSite: Durham’s Meatpacking Chicago, Ill.\\nDate: February 3, 1905\\nViolation Count: 7\\nSummary: Worst of any, however, were the fertilizer men, and those who served in the cooking rooms.\\nThese people could not be shown to the visitor - for the odor of a fertilizer man would scare any ordinary\\nvisitor at a hundred yards, and as for the other men, who worked in tank rooms full of steam, and in\\nsome of which there were open vats near the level of the floor, their peculiar trouble was that they fell'"
      ]
     },
     "execution_count": 2,
     "metadata": {},
     "output_type": "execute_result"
    }
   ],
   "source": [
    "from natural_pdf import PDF\n",
    "\n",
    "# Load a PDF\n",
    "pdf = PDF(\"https://github.com/jsoma/natural-pdf/raw/refs/heads/main/pdfs/01-practice.pdf\")\n",
    "page = pdf.pages[0]\n",
    "\n",
    "# Create a region in the top portion of the page\n",
    "top_region = page.create_region(\n",
    "    50,          # x0 (left)\n",
    "    50,          # y0 (top)\n",
    "    page.width - 50,  # x1 (right)\n",
    "    200          # y1 (bottom)\n",
    ")\n",
    "\n",
    "# Visualize the region\n",
    "top_region.show(color=\"blue\", label=\"Top Region\")\n",
    "\n",
    "# Extract text from this region\n",
    "top_region.extract_text()"
   ]
  },
  {
   "cell_type": "markdown",
   "id": "b70f72ff",
   "metadata": {},
   "source": [
    "## Creating Regions from Elements"
   ]
  },
  {
   "cell_type": "code",
   "execution_count": 3,
   "id": "9f0fa597",
   "metadata": {
    "execution": {
     "iopub.execute_input": "2025-05-02T13:57:23.591652Z",
     "iopub.status.busy": "2025-05-02T13:57:23.591319Z",
     "iopub.status.idle": "2025-05-02T13:57:23.657836Z",
     "shell.execute_reply": "2025-05-02T13:57:23.657484Z"
    }
   },
   "outputs": [
    {
     "data": {
      "text/plain": [
       "'INS-UP70N51NCL41R\\nSite: Durham’s Meatpacking Chicago, Ill.\\nDate: February 3, 1905\\nViolation Count: 7'"
      ]
     },
     "execution_count": 3,
     "metadata": {},
     "output_type": "execute_result"
    }
   ],
   "source": [
    "# Find an element to create regions around\n",
    "title = page.find('text:contains(\"Jungle Health\")')\n",
    "\n",
    "# Create regions relative to this element\n",
    "below_title = title.below(height=100)\n",
    "right_of_title = title.right(width=200) \n",
    "above_title = title.above(height=50)\n",
    "\n",
    "# Visualize these regions\n",
    "below_title.show(color=\"green\", label=\"Below\")\n",
    "right_of_title.show(color=\"red\", label=\"Right\")\n",
    "above_title.show(color=\"orange\", label=\"Above\")\n",
    "\n",
    "# Extract text from the region below the title\n",
    "below_title.extract_text()"
   ]
  },
  {
   "cell_type": "markdown",
   "id": "e9effe64",
   "metadata": {},
   "source": [
    "## Finding Elements Within Regions"
   ]
  },
  {
   "cell_type": "code",
   "execution_count": 4,
   "id": "739a6c6e",
   "metadata": {
    "execution": {
     "iopub.execute_input": "2025-05-02T13:57:23.659295Z",
     "iopub.status.busy": "2025-05-02T13:57:23.659141Z",
     "iopub.status.idle": "2025-05-02T13:57:23.705336Z",
     "shell.execute_reply": "2025-05-02T13:57:23.705010Z"
    }
   },
   "outputs": [
    {
     "data": {
      "text/plain": [
       "3"
      ]
     },
     "execution_count": 4,
     "metadata": {},
     "output_type": "execute_result"
    }
   ],
   "source": [
    "# Create a region for a specific document section\n",
    "form_region = page.create_region(50, 100, page.width - 50, 300)\n",
    "\n",
    "# Find elements only within this region\n",
    "labels = form_region.find_all('text:contains(\":\")') \n",
    "\n",
    "# Visualize the region and the elements found\n",
    "form_region.show(color=(0, 0, 1, 0.2), label=\"Form Region\")\n",
    "labels.show(color=\"purple\", label=\"Labels\")\n",
    "\n",
    "# Count the elements found\n",
    "len(labels)"
   ]
  },
  {
   "cell_type": "markdown",
   "id": "cfa6efc9",
   "metadata": {},
   "source": [
    "## Expanding and Adjusting Regions"
   ]
  },
  {
   "cell_type": "code",
   "execution_count": 5,
   "id": "47549aa6",
   "metadata": {
    "execution": {
     "iopub.execute_input": "2025-05-02T13:57:23.706915Z",
     "iopub.status.busy": "2025-05-02T13:57:23.706761Z",
     "iopub.status.idle": "2025-05-02T13:57:23.750255Z",
     "shell.execute_reply": "2025-05-02T13:57:23.749918Z"
    }
   },
   "outputs": [
    {
     "data": {
      "text/plain": [
       "'Summary: Worst of any, however, were the fertilizer men\\nThese people could not be shown to the visitor - for the o\\nvisitor at a hundred yards, and as for the other men, who\\nsome of which there were open vats near the level of the\\ninto the vats; and when they were fished out, there was n\\nexhibiting - sometimes they would be overlooked for days\\nto the world as Durham’s Pure Leaf Lard!'"
      ]
     },
     "execution_count": 5,
     "metadata": {},
     "output_type": "execute_result"
    }
   ],
   "source": [
    "# Find an element to work with\n",
    "element = page.find('text:contains(\"Summary:\")')\n",
    "\n",
    "# Create a tight region around the element\n",
    "tight_region = page.create_region(\n",
    "    element.x0, element.top, \n",
    "    element.x1, element.bottom\n",
    ")\n",
    "\n",
    "# Expand it to include surrounding content\n",
    "expanded_region = tight_region.expand(\n",
    "    left=10,       # Expand 10 points to the left\n",
    "    right=200,     # Expand 200 points to the right\n",
    "    top=5,  # Expand 5 points above\n",
    "    bottom=100  # Expand 100 points below\n",
    ")\n",
    "\n",
    "# Visualize both regions\n",
    "tight_region.show(color=\"red\", label=\"Original\")\n",
    "expanded_region.show(color=\"blue\", label=\"Expanded\")\n",
    "\n",
    "# Extract the content from the expanded region\n",
    "expanded_region.extract_text()"
   ]
  },
  {
   "cell_type": "markdown",
   "id": "5fbfa1d1",
   "metadata": {},
   "source": [
    "## Creating Bounded Regions"
   ]
  },
  {
   "cell_type": "code",
   "execution_count": 6,
   "id": "488b2bee",
   "metadata": {
    "execution": {
     "iopub.execute_input": "2025-05-02T13:57:23.751711Z",
     "iopub.status.busy": "2025-05-02T13:57:23.751561Z",
     "iopub.status.idle": "2025-05-02T13:57:23.780593Z",
     "shell.execute_reply": "2025-05-02T13:57:23.780231Z"
    }
   },
   "outputs": [
    {
     "data": {
      "text/plain": [
       "'Jungle Health and Safety Inspection Service\\nINS-UP70N51NCL41R\\nSite: Durham’s Meatpacking Chicago, Ill.\\nDate: February 3, 1905\\nViolation Count: 7\\nSummary: Worst of any, however, were the fertilizer men...'"
      ]
     },
     "execution_count": 6,
     "metadata": {},
     "output_type": "execute_result"
    }
   ],
   "source": [
    "# Find two elements to serve as boundaries\n",
    "start_elem = page.find('text:contains(\"Summary:\")')\n",
    "end_elem = page.find('text:contains(\"Statute\")')\n",
    "\n",
    "# Create a region from start to end element\n",
    "bounded_region = start_elem.until(end_elem)\n",
    "\n",
    "# Visualize the bounded region\n",
    "bounded_region.show(color=\"green\", label=\"Bounded Region\")\n",
    "\n",
    "# Extract text from this bounded region\n",
    "bounded_region.extract_text()[:200] + \"...\" if len(bounded_region.extract_text()) > 200 else bounded_region.extract_text()"
   ]
  },
  {
   "cell_type": "markdown",
   "id": "dde6ff10",
   "metadata": {},
   "source": [
    "## Working with Multiple Regions"
   ]
  },
  {
   "cell_type": "code",
   "execution_count": 7,
   "id": "cdb2be30",
   "metadata": {
    "execution": {
     "iopub.execute_input": "2025-05-02T13:57:23.782041Z",
     "iopub.status.busy": "2025-05-02T13:57:23.781895Z",
     "iopub.status.idle": "2025-05-02T13:57:23.854446Z",
     "shell.execute_reply": "2025-05-02T13:57:23.854088Z"
    }
   },
   "outputs": [
    {
     "data": {
      "text/plain": [
       "{'header': 'Jungle Health and Safety Inspection Service\\nINS-UP70N51NCL41R\\nSite: Durham’s Meatpacking Chicago, Ill.',\n",
       " 'main': 'ruary 3, 1905\\nCount: 7\\nWorst of any, however, were the fertilizer men, and those who served in the c...',\n",
       " 'footer': 'Jungle Health and Safety Inspection Service'}"
      ]
     },
     "execution_count": 7,
     "metadata": {},
     "output_type": "execute_result"
    }
   ],
   "source": [
    "# Define multiple regions to extract different parts of the document\n",
    "header_region = page.create_region(0, 0, page.width, 100)\n",
    "main_region = page.create_region(100, 100, page.width - 100, page.height - 150)\n",
    "footer_region = page.create_region(0, page.height - 50, page.width, page.height)\n",
    "\n",
    "# Visualize all regions\n",
    "header_region.show(color=\"blue\", label=\"Header\")\n",
    "main_region.show(color=\"green\", label=\"Main Content\")\n",
    "footer_region.show(color=\"red\", label=\"Footer\")\n",
    "\n",
    "# Extract content from each region\n",
    "document_parts = {\n",
    "    \"header\": header_region.extract_text(),\n",
    "    \"main\": main_region.extract_text()[:100] + \"...\",\n",
    "    \"footer\": footer_region.extract_text()\n",
    "}\n",
    "\n",
    "# Show what we extracted\n",
    "document_parts"
   ]
  },
  {
   "cell_type": "markdown",
   "id": "53a8173d",
   "metadata": {},
   "source": [
    "## Creating an Image of a Region"
   ]
  },
  {
   "cell_type": "code",
   "execution_count": 8,
   "id": "9835ae8c",
   "metadata": {
    "execution": {
     "iopub.execute_input": "2025-05-02T13:57:23.855915Z",
     "iopub.status.busy": "2025-05-02T13:57:23.855767Z",
     "iopub.status.idle": "2025-05-02T13:57:23.907981Z",
     "shell.execute_reply": "2025-05-02T13:57:23.907642Z"
    }
   },
   "outputs": [
    {
     "data": {
      "image/png": "[encoded data removed]",
      "text/plain": [
       "<PIL.Image.Image image mode=RGBA size=1275x206>"
      ]
     },
     "execution_count": 8,
     "metadata": {},
     "output_type": "execute_result"
    }
   ],
   "source": [
    "# Find a region of interest\n",
    "table_header = page.find('text:contains(\"Statute\")')\n",
    "table_region = table_header.below(height=100)\n",
    "\n",
    "# Visualize the region\n",
    "table_region.show(color=\"purple\", label=\"Table Region\")\n",
    "\n",
    "# Create an image of just this region\n",
    "table_region.to_image(resolution=150)"
   ]
  },
  {
   "cell_type": "markdown",
   "id": "6a424a39",
   "metadata": {},
   "source": [
    "Regions allow you to precisely target specific parts of a document for extraction and analysis. They're essential for handling complex document layouts and isolating the exact content you need. "
   ]
  }
 ],
 "metadata": {
  "jupytext": {
   "cell_metadata_filter": "-all",
   "main_language": "python",
   "notebook_metadata_filter": "-all"
  },
  "kernelspec": {
   "display_name": "Python (natural-pdf)",
   "language": "python",
   "name": "natural-pdf"
  },
  "language_info": {
   "codemirror_mode": {
    "name": "ipython",
    "version": 3
   },
   "file_extension": ".py",
   "mimetype": "text/x-python",
   "name": "python",
   "nbconvert_exporter": "python",
   "pygments_lexer": "ipython3",
   "version": "3.10.13"
  }
 },
 "nbformat": 4,
 "nbformat_minor": 5
}
