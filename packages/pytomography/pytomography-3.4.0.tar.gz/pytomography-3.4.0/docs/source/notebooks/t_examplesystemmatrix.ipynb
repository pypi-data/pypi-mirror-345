{
 "cells": [
  {
   "cell_type": "markdown",
   "id": "9fba7144",
   "metadata": {
    "papermill": {
     "duration": 0.010225,
     "end_time": "2024-11-19T22:42:34.546563",
     "exception": false,
     "start_time": "2024-11-19T22:42:34.536338",
     "status": "completed"
    },
    "tags": []
   },
   "source": [
    "# Implementing New System Matrices"
   ]
  },
  {
   "cell_type": "code",
   "execution_count": 1,
   "id": "664a5b9e",
   "metadata": {
    "execution": {
     "iopub.execute_input": "2024-11-19T22:42:34.566821Z",
     "iopub.status.busy": "2024-11-19T22:42:34.566309Z",
     "iopub.status.idle": "2024-11-19T22:42:38.195912Z",
     "shell.execute_reply": "2024-11-19T22:42:38.195173Z"
    },
    "papermill": {
     "duration": 3.642095,
     "end_time": "2024-11-19T22:42:38.198020",
     "exception": false,
     "start_time": "2024-11-19T22:42:34.555925",
     "status": "completed"
    },
    "tags": []
   },
   "outputs": [],
   "source": [
    "import pytomography\n",
    "from pytomography.algorithms import OSEM, MLEM\n",
    "from pytomography.metadata import ObjectMeta, ProjMeta\n",
    "from pytomography.projectors import SystemMatrix\n",
    "from pytomography.likelihoods import NegativeMSELikelihood\n",
    "import matplotlib.pyplot as plt\n",
    "import torch"
   ]
  },
  {
   "cell_type": "markdown",
   "id": "608c20bb",
   "metadata": {
    "papermill": {
     "duration": 0.01003,
     "end_time": "2024-11-19T22:42:38.218561",
     "exception": false,
     "start_time": "2024-11-19T22:42:38.208531",
     "status": "completed"
    },
    "tags": []
   },
   "source": [
    "For now, we'll set `pytomography.device='cpu'` since all the objects we'll be creating/testing on will be on CPU, but this can be changed (provided all created objects are placed on GPU)."
   ]
  },
  {
   "cell_type": "code",
   "execution_count": 2,
   "id": "a5e573b5",
   "metadata": {
    "execution": {
     "iopub.execute_input": "2024-11-19T22:42:38.239785Z",
     "iopub.status.busy": "2024-11-19T22:42:38.239406Z",
     "iopub.status.idle": "2024-11-19T22:42:38.242308Z",
     "shell.execute_reply": "2024-11-19T22:42:38.241798Z"
    },
    "papermill": {
     "duration": 0.015537,
     "end_time": "2024-11-19T22:42:38.243908",
     "exception": false,
     "start_time": "2024-11-19T22:42:38.228371",
     "status": "completed"
    },
    "tags": []
   },
   "outputs": [],
   "source": [
    "pytomography.device = 'cpu'"
   ]
  },
  {
   "cell_type": "markdown",
   "id": "c8b3a6ea",
   "metadata": {
    "papermill": {
     "duration": 0.010315,
     "end_time": "2024-11-19T22:42:38.263998",
     "exception": false,
     "start_time": "2024-11-19T22:42:38.253683",
     "status": "completed"
    },
    "tags": []
   },
   "source": [
    "This tutorial demonstrates how to implement new system matrices in PyTomography that interface with all the available likelihoods/reconstruction algorithms. We will consider a very simple scenario of an imaging system where \n",
    "\n",
    "* data is acquired at two angles (0 and 90 degrees)\n",
    "* detector consists of an MxM grid that perfectly aligns with an object of shape $M \\times M \\times M$\n",
    "* each detector pixel has a different sensitivity $s_j$\n",
    "\n",
    "The value of each pixel is thus\n",
    "\n",
    "$$ p_j = s_j \\sum_{i \\in \\text{line}_j} x_i$$\n",
    "\n",
    "<img src=\"../images/example_scanner_sm.png\"  width=\"500\">\n",
    "\n",
    "\n",
    "\n",
    " We'll call this system the **Example Scanner**, (or *EXS* for short) "
   ]
  },
  {
   "cell_type": "code",
   "execution_count": 3,
   "id": "9d74de56",
   "metadata": {
    "execution": {
     "iopub.execute_input": "2024-11-19T22:42:38.284976Z",
     "iopub.status.busy": "2024-11-19T22:42:38.284616Z",
     "iopub.status.idle": "2024-11-19T22:42:38.288191Z",
     "shell.execute_reply": "2024-11-19T22:42:38.287508Z"
    },
    "papermill": {
     "duration": 0.020966,
     "end_time": "2024-11-19T22:42:38.294306",
     "exception": false,
     "start_time": "2024-11-19T22:42:38.273340",
     "status": "completed"
    },
    "tags": []
   },
   "outputs": [],
   "source": [
    "M = 3\n",
    "object_meta = ObjectMeta(dr=(1.5,1.5,1.5), shape=(M,M,M))"
   ]
  },
  {
   "cell_type": "markdown",
   "id": "622a1606",
   "metadata": {
    "papermill": {
     "duration": 0.009184,
     "end_time": "2024-11-19T22:42:38.314053",
     "exception": false,
     "start_time": "2024-11-19T22:42:38.304869",
     "status": "completed"
    },
    "tags": []
   },
   "source": [
    "The objects we consider thus have dimensions of $3 \\times 3 \\times 3$ with voxel dimensions of $1.5 \\times 1.5 \\times 1.5$. The units of the voxel dimensions can be whatever (mm/cm): their units are defined by the system matrix."
   ]
  },
  {
   "cell_type": "markdown",
   "id": "9fd14578",
   "metadata": {
    "papermill": {
     "duration": 0.009194,
     "end_time": "2024-11-19T22:42:38.333767",
     "exception": false,
     "start_time": "2024-11-19T22:42:38.324573",
     "status": "completed"
    },
    "tags": []
   },
   "source": [
    "# Example 1: Non-ListMode"
   ]
  },
  {
   "cell_type": "markdown",
   "id": "4180e797",
   "metadata": {
    "papermill": {
     "duration": 0.009284,
     "end_time": "2024-11-19T22:42:38.353236",
     "exception": false,
     "start_time": "2024-11-19T22:42:38.343952",
     "status": "completed"
    },
    "tags": []
   },
   "source": [
    "## Metadata"
   ]
  },
  {
   "cell_type": "markdown",
   "id": "4364c1e4",
   "metadata": {
    "papermill": {
     "duration": 0.009267,
     "end_time": "2024-11-19T22:42:38.372683",
     "exception": false,
     "start_time": "2024-11-19T22:42:38.363416",
     "status": "completed"
    },
    "tags": []
   },
   "source": [
    "We'll start by creating a projection metadata class which will interface with the system matrix\n",
    "* It should be a subclass of the `ProjMeta` class of PyTomography"
   ]
  },
  {
   "cell_type": "code",
   "execution_count": 4,
   "id": "1a5f16fb",
   "metadata": {
    "execution": {
     "iopub.execute_input": "2024-11-19T22:42:38.394077Z",
     "iopub.status.busy": "2024-11-19T22:42:38.393595Z",
     "iopub.status.idle": "2024-11-19T22:42:38.397833Z",
     "shell.execute_reply": "2024-11-19T22:42:38.397193Z"
    },
    "papermill": {
     "duration": 0.016086,
     "end_time": "2024-11-19T22:42:38.399271",
     "exception": false,
     "start_time": "2024-11-19T22:42:38.383185",
     "status": "completed"
    },
    "tags": []
   },
   "outputs": [],
   "source": [
    "class EXSProjMeta(ProjMeta):\n",
    "    def __init__(self, M, sensitivity_factor):\n",
    "        self.M = M\n",
    "        self.sensitivity_factor = sensitivity_factor\n",
    "        if (sensitivity_factor.shape[0]!=M)*(sensitivity_factor.shape[1]!=M):\n",
    "            raise ValueError(\"sensitivity_factor should have side dimensions M\")"
   ]
  },
  {
   "cell_type": "code",
   "execution_count": 5,
   "id": "66d71c60",
   "metadata": {
    "execution": {
     "iopub.execute_input": "2024-11-19T22:42:38.422734Z",
     "iopub.status.busy": "2024-11-19T22:42:38.421980Z",
     "iopub.status.idle": "2024-11-19T22:42:38.428353Z",
     "shell.execute_reply": "2024-11-19T22:42:38.426653Z"
    },
    "papermill": {
     "duration": 0.019136,
     "end_time": "2024-11-19T22:42:38.429715",
     "exception": false,
     "start_time": "2024-11-19T22:42:38.410579",
     "status": "completed"
    },
    "tags": []
   },
   "outputs": [],
   "source": [
    "M = object_meta.shape[0]\n",
    "# Note: the sensitivty factor is the same for each projection angle, a single detector is \"rotating\" between angle 0 and 90\n",
    "sensitivity_factor = torch.ones((M,M))+0.3*torch.rand((M,M))\n",
    "proj_meta = EXSProjMeta(M, sensitivity_factor)"
   ]
  },
  {
   "cell_type": "markdown",
   "id": "c35a1fb7",
   "metadata": {
    "papermill": {
     "duration": 0.010514,
     "end_time": "2024-11-19T22:42:38.450121",
     "exception": false,
     "start_time": "2024-11-19T22:42:38.439607",
     "status": "completed"
    },
    "tags": []
   },
   "source": [
    "## System Matrix\n",
    "\n",
    "### Part 1: Understanding the Forward/Backward PRojections"
   ]
  },
  {
   "cell_type": "markdown",
   "id": "af64ab91",
   "metadata": {
    "papermill": {
     "duration": 0.009213,
     "end_time": "2024-11-19T22:42:38.468845",
     "exception": false,
     "start_time": "2024-11-19T22:42:38.459632",
     "status": "completed"
    },
    "tags": []
   },
   "source": [
    "Before we begin to build the system matrix, lets understand the operations required to implement this system matrix. \n",
    "\n",
    "* Forward projection requires summing the object along its $x$-axis and $y$-axis respectively, and then concatenating together.\n",
    "* In PyTomography, our object is 3D, so it's shape is `[Lx,Ly,Lz]`; our projections have shape `[2,M,M]`"
   ]
  },
  {
   "cell_type": "code",
   "execution_count": 6,
   "id": "590d28dc",
   "metadata": {
    "execution": {
     "iopub.execute_input": "2024-11-19T22:42:38.488454Z",
     "iopub.status.busy": "2024-11-19T22:42:38.488065Z",
     "iopub.status.idle": "2024-11-19T22:42:38.496202Z",
     "shell.execute_reply": "2024-11-19T22:42:38.495585Z"
    },
    "papermill": {
     "duration": 0.019507,
     "end_time": "2024-11-19T22:42:38.497434",
     "exception": false,
     "start_time": "2024-11-19T22:42:38.477927",
     "status": "completed"
    },
    "tags": []
   },
   "outputs": [
    {
     "data": {
      "text/plain": [
       "torch.Size([2, 3, 3])"
      ]
     },
     "execution_count": 6,
     "metadata": {},
     "output_type": "execute_result"
    }
   ],
   "source": [
    "sample_object = torch.rand(object_meta.shape) \n",
    "# Sum object along x to get projection at 0 degrees\n",
    "sample_projection_0degrees = sample_object.sum(dim=0) * proj_meta.sensitivity_factor\n",
    "# Sum object along y to get projection at 90 degrees\n",
    "sample_projection_90degrees = sample_object.sum(dim=1) * proj_meta.sensitivity_factor\n",
    "# Concatenate to get the full set of projections\n",
    "sample_projections = torch.stack([sample_projection_0degrees, sample_projection_90degrees], dim=0)\n",
    "sample_projections.shape"
   ]
  },
  {
   "cell_type": "markdown",
   "id": "e1f378ca",
   "metadata": {
    "papermill": {
     "duration": 0.009408,
     "end_time": "2024-11-19T22:42:38.516301",
     "exception": false,
     "start_time": "2024-11-19T22:42:38.506893",
     "status": "completed"
    },
    "tags": []
   },
   "source": [
    "Let's plot the projections at each angle"
   ]
  },
  {
   "cell_type": "code",
   "execution_count": 7,
   "id": "bb35936b",
   "metadata": {
    "execution": {
     "iopub.execute_input": "2024-11-19T22:42:38.536484Z",
     "iopub.status.busy": "2024-11-19T22:42:38.535931Z",
     "iopub.status.idle": "2024-11-19T22:42:38.736113Z",
     "shell.execute_reply": "2024-11-19T22:42:38.735462Z"
    },
    "papermill": {
     "duration": 0.212114,
     "end_time": "2024-11-19T22:42:38.737596",
     "exception": false,
     "start_time": "2024-11-19T22:42:38.525482",
     "status": "completed"
    },
    "tags": []
   },
   "outputs": [
    {
     "data": {
      "image/png": "[encoded data removed]",
      "text/plain": [
       "<Figure size 400x150 with 4 Axes>"
      ]
     },
     "metadata": {},
     "output_type": "display_data"
    }
   ],
   "source": [
    "plt.figure(figsize=(4,1.5))\n",
    "plt.subplot(121)\n",
    "plt.pcolormesh(sample_projections[0].cpu().T, vmin=0, vmax=2)\n",
    "plt.colorbar()\n",
    "plt.axis('off')\n",
    "plt.title('Angle 0')\n",
    "plt.subplot(122)\n",
    "plt.pcolormesh(sample_projections[1].cpu().T, vmin=0, vmax=2)\n",
    "plt.colorbar()\n",
    "plt.axis('off')\n",
    "plt.title('Angle 90')\n",
    "plt.show()"
   ]
  },
  {
   "cell_type": "markdown",
   "id": "298ad3af",
   "metadata": {
    "papermill": {
     "duration": 0.009394,
     "end_time": "2024-11-19T22:42:38.757228",
     "exception": false,
     "start_time": "2024-11-19T22:42:38.747834",
     "status": "completed"
    },
    "tags": []
   },
   "source": [
    "* Back projection: The transpose of summing along X and Y is duplication along X and Y"
   ]
  },
  {
   "cell_type": "code",
   "execution_count": 8,
   "id": "539cdaa5",
   "metadata": {
    "execution": {
     "iopub.execute_input": "2024-11-19T22:42:38.781798Z",
     "iopub.status.busy": "2024-11-19T22:42:38.781305Z",
     "iopub.status.idle": "2024-11-19T22:42:38.786092Z",
     "shell.execute_reply": "2024-11-19T22:42:38.785534Z"
    },
    "papermill": {
     "duration": 0.016906,
     "end_time": "2024-11-19T22:42:38.787353",
     "exception": false,
     "start_time": "2024-11-19T22:42:38.770447",
     "status": "completed"
    },
    "tags": []
   },
   "outputs": [],
   "source": [
    "# First adjust projections by sensitivity factor\n",
    "sample_projections_angle_0_sensitivity_adjusted = sample_projections[0]*proj_meta.sensitivity_factor\n",
    "# Back project at angle 0 by duplication\n",
    "sample_object_BP_angle0 = sample_projections_angle_0_sensitivity_adjusted.unsqueeze(0).repeat(object_meta.shape[0],1,1)\n",
    "# Back project at angle 90 by duplication\n",
    "sample_projections_angle_90_sensitivity_adjusted = sample_projections[1]*proj_meta.sensitivity_factor\n",
    "sample_object_BP_angle90 = sample_projections_angle_90_sensitivity_adjusted.unsqueeze(1).repeat(1,object_meta.shape[0],1)\n",
    "# Back projected object is sum of each\n",
    "sample_object_BP = sample_object_BP_angle0 + sample_object_BP_angle90"
   ]
  },
  {
   "cell_type": "code",
   "execution_count": 9,
   "id": "189754b7",
   "metadata": {
    "execution": {
     "iopub.execute_input": "2024-11-19T22:42:38.811488Z",
     "iopub.status.busy": "2024-11-19T22:42:38.810939Z",
     "iopub.status.idle": "2024-11-19T22:42:38.854234Z",
     "shell.execute_reply": "2024-11-19T22:42:38.853705Z"
    },
    "papermill": {
     "duration": 0.057841,
     "end_time": "2024-11-19T22:42:38.855619",
     "exception": false,
     "start_time": "2024-11-19T22:42:38.797778",
     "status": "completed"
    },
    "tags": []
   },
   "outputs": [
    {
     "data": {
      "image/png": "[encoded data removed]",
      "text/plain": [
       "<Figure size 200x200 with 1 Axes>"
      ]
     },
     "metadata": {},
     "output_type": "display_data"
    }
   ],
   "source": [
    "plt.figure(figsize=(2,2))\n",
    "plt.title('Top Z-Slice BP')\n",
    "plt.pcolormesh(sample_object_BP[:,:,-1].T)\n",
    "plt.axis('off')\n",
    "plt.show()"
   ]
  },
  {
   "cell_type": "markdown",
   "id": "48019e0f",
   "metadata": {
    "papermill": {
     "duration": 0.010945,
     "end_time": "2024-11-19T22:42:38.879326",
     "exception": false,
     "start_time": "2024-11-19T22:42:38.868381",
     "status": "completed"
    },
    "tags": []
   },
   "source": [
    "### Part 2: Implementing The Forward/Backward Projections in the System Matrix Class"
   ]
  },
  {
   "cell_type": "markdown",
   "id": "3be6e522",
   "metadata": {
    "papermill": {
     "duration": 0.009537,
     "end_time": "2024-11-19T22:42:38.900053",
     "exception": false,
     "start_time": "2024-11-19T22:42:38.890516",
     "status": "completed"
    },
    "tags": []
   },
   "source": [
    "We can now create a system matrix class that implements forward and back projection\n",
    "\n",
    "* We inherit from the `SystemMatrix` class of PyTomography\n",
    "* The method for forward projection should be called `forward`, while the method for back projection should be called `backward`"
   ]
  },
  {
   "cell_type": "code",
   "execution_count": 10,
   "id": "65933c32",
   "metadata": {
    "execution": {
     "iopub.execute_input": "2024-11-19T22:42:38.922184Z",
     "iopub.status.busy": "2024-11-19T22:42:38.921569Z",
     "iopub.status.idle": "2024-11-19T22:42:38.926977Z",
     "shell.execute_reply": "2024-11-19T22:42:38.926420Z"
    },
    "papermill": {
     "duration": 0.018037,
     "end_time": "2024-11-19T22:42:38.928262",
     "exception": false,
     "start_time": "2024-11-19T22:42:38.910225",
     "status": "completed"
    },
    "tags": []
   },
   "outputs": [],
   "source": [
    "class EXSSystemMatrix(SystemMatrix):\n",
    "    def forward(self, object, subset_idx = None):\n",
    "        projection_0degrees = object.sum(dim=0)\n",
    "        projection_90degrees = object.sum(dim=1)\n",
    "        projections = torch.stack([projection_0degrees, projection_90degrees], dim=0)\n",
    "        projections *= self.proj_meta.sensitivity_factor\n",
    "        return projections\n",
    "    def backward(self, projections, subset_idx = None):\n",
    "        object_BP_angle0 = (projections[0]*self.proj_meta.sensitivity_factor).unsqueeze(0).repeat(self.proj_meta.M,1,1)\n",
    "        object_BP_angle90 = (projections[1]*self.proj_meta.sensitivity_factor).unsqueeze(1).repeat(1,self.proj_meta.M,1)\n",
    "        object_BP = object_BP_angle0 + object_BP_angle90\n",
    "        return object_BP"
   ]
  },
  {
   "cell_type": "markdown",
   "id": "2da28fc9",
   "metadata": {
    "papermill": {
     "duration": 0.010271,
     "end_time": "2024-11-19T22:42:38.948434",
     "exception": false,
     "start_time": "2024-11-19T22:42:38.938163",
     "status": "completed"
    },
    "tags": []
   },
   "source": [
    "This system matrix can now be used for forward/backward projection"
   ]
  },
  {
   "cell_type": "code",
   "execution_count": 11,
   "id": "6902f897",
   "metadata": {
    "execution": {
     "iopub.execute_input": "2024-11-19T22:42:38.970104Z",
     "iopub.status.busy": "2024-11-19T22:42:38.969751Z",
     "iopub.status.idle": "2024-11-19T22:42:38.973865Z",
     "shell.execute_reply": "2024-11-19T22:42:38.973296Z"
    },
    "papermill": {
     "duration": 0.016942,
     "end_time": "2024-11-19T22:42:38.975141",
     "exception": false,
     "start_time": "2024-11-19T22:42:38.958199",
     "status": "completed"
    },
    "tags": []
   },
   "outputs": [],
   "source": [
    "system_matrix = EXSSystemMatrix(object_meta=object_meta, proj_meta=proj_meta)\n",
    "FP = system_matrix.forward(sample_object)\n",
    "BP = system_matrix.forward(sample_object)"
   ]
  },
  {
   "cell_type": "markdown",
   "id": "003cc694",
   "metadata": {
    "papermill": {
     "duration": 0.00945,
     "end_time": "2024-11-19T22:42:38.994733",
     "exception": false,
     "start_time": "2024-11-19T22:42:38.985283",
     "status": "completed"
    },
    "tags": []
   },
   "source": [
    "In order to use the system matrix in reconstruction algorithms, one of the requirements is the computation of a normalization factor $H^T 1$. For this, we need to define the `compute_normalization_factor` method:"
   ]
  },
  {
   "cell_type": "code",
   "execution_count": 12,
   "id": "b60c3988",
   "metadata": {
    "execution": {
     "iopub.execute_input": "2024-11-19T22:42:39.015722Z",
     "iopub.status.busy": "2024-11-19T22:42:39.015094Z",
     "iopub.status.idle": "2024-11-19T22:42:39.020598Z",
     "shell.execute_reply": "2024-11-19T22:42:39.020010Z"
    },
    "papermill": {
     "duration": 0.017123,
     "end_time": "2024-11-19T22:42:39.021884",
     "exception": false,
     "start_time": "2024-11-19T22:42:39.004761",
     "status": "completed"
    },
    "tags": []
   },
   "outputs": [],
   "source": [
    "class EXSSystemMatrix(SystemMatrix):\n",
    "    def compute_normalization_factor(self):\n",
    "        # A clever implementation of this function will only compute the normalization factor once, and then store it for future use (e.g. using a boolean flag)\n",
    "        norm_projections = torch.ones((2,self.proj_meta.M, self.proj_meta.M))\n",
    "        return self.backward(norm_projections)\n",
    "    def forward(self, object, subset_idx = None):\n",
    "        projection_0degrees = object.sum(dim=0)\n",
    "        projection_90degrees = object.sum(dim=1)\n",
    "        projections = torch.stack([projection_0degrees, projection_90degrees], dim=0)\n",
    "        projections *= self.proj_meta.sensitivity_factor\n",
    "        return projections\n",
    "    def backward(self, projections, subset_idx = None):\n",
    "        object_BP_angle0 = (projections[0]*self.proj_meta.sensitivity_factor).unsqueeze(0).repeat(self.proj_meta.M,1,1)\n",
    "        object_BP_angle90 = (projections[1]*self.proj_meta.sensitivity_factor).unsqueeze(1).repeat(1,self.proj_meta.M,1)\n",
    "        object_BP = object_BP_angle0 + object_BP_angle90\n",
    "        return object_BP"
   ]
  },
  {
   "cell_type": "markdown",
   "id": "43a98f9c",
   "metadata": {
    "papermill": {
     "duration": 0.00932,
     "end_time": "2024-11-19T22:42:39.042131",
     "exception": false,
     "start_time": "2024-11-19T22:42:39.032811",
     "status": "completed"
    },
    "tags": []
   },
   "source": [
    "Then we can compute the normalization factor as follows:"
   ]
  },
  {
   "cell_type": "code",
   "execution_count": 13,
   "id": "0d12725e",
   "metadata": {
    "execution": {
     "iopub.execute_input": "2024-11-19T22:42:39.062539Z",
     "iopub.status.busy": "2024-11-19T22:42:39.061987Z",
     "iopub.status.idle": "2024-11-19T22:42:39.065919Z",
     "shell.execute_reply": "2024-11-19T22:42:39.065047Z"
    },
    "papermill": {
     "duration": 0.015581,
     "end_time": "2024-11-19T22:42:39.067143",
     "exception": false,
     "start_time": "2024-11-19T22:42:39.051562",
     "status": "completed"
    },
    "tags": []
   },
   "outputs": [],
   "source": [
    "system_matrix = EXSSystemMatrix(object_meta=object_meta, proj_meta=proj_meta)\n",
    "norm_factor = system_matrix.compute_normalization_factor()"
   ]
  },
  {
   "cell_type": "code",
   "execution_count": 14,
   "id": "75a1f5ec",
   "metadata": {
    "execution": {
     "iopub.execute_input": "2024-11-19T22:42:39.087365Z",
     "iopub.status.busy": "2024-11-19T22:42:39.086859Z",
     "iopub.status.idle": "2024-11-19T22:42:39.177656Z",
     "shell.execute_reply": "2024-11-19T22:42:39.177021Z"
    },
    "papermill": {
     "duration": 0.102685,
     "end_time": "2024-11-19T22:42:39.179269",
     "exception": false,
     "start_time": "2024-11-19T22:42:39.076584",
     "status": "completed"
    },
    "tags": []
   },
   "outputs": [
    {
     "data": {
      "image/png": "[encoded data removed]",
      "text/plain": [
       "<Figure size 200x200 with 2 Axes>"
      ]
     },
     "metadata": {},
     "output_type": "display_data"
    }
   ],
   "source": [
    "plt.figure(figsize=(2,2))\n",
    "plt.title('Top Z-Slice Norm')\n",
    "plt.pcolormesh(norm_factor[:,:,-1].T)\n",
    "plt.colorbar()\n",
    "plt.axis('off')\n",
    "plt.show()"
   ]
  },
  {
   "cell_type": "markdown",
   "id": "f464c7b7",
   "metadata": {
    "papermill": {
     "duration": 0.009722,
     "end_time": "2024-11-19T22:42:39.199623",
     "exception": false,
     "start_time": "2024-11-19T22:42:39.189901",
     "status": "completed"
    },
    "tags": []
   },
   "source": [
    "Now that the system matrix has been defined, we can reconstruct using the available reconstruction algorithms (up to this point, we haven't defined any subset functionality, so we can only use non-subset based algorithms) "
   ]
  },
  {
   "cell_type": "code",
   "execution_count": 15,
   "id": "345794a5",
   "metadata": {
    "execution": {
     "iopub.execute_input": "2024-11-19T22:42:39.221804Z",
     "iopub.status.busy": "2024-11-19T22:42:39.221333Z",
     "iopub.status.idle": "2024-11-19T22:42:39.225220Z",
     "shell.execute_reply": "2024-11-19T22:42:39.224622Z"
    },
    "papermill": {
     "duration": 0.016722,
     "end_time": "2024-11-19T22:42:39.226446",
     "exception": false,
     "start_time": "2024-11-19T22:42:39.209724",
     "status": "completed"
    },
    "tags": []
   },
   "outputs": [],
   "source": [
    "sample_object = torch.rand(object_meta.shape) # object has batch dimension\n",
    "sample_projections = system_matrix.forward(sample_object)"
   ]
  },
  {
   "cell_type": "code",
   "execution_count": 16,
   "id": "dc1136c9",
   "metadata": {
    "execution": {
     "iopub.execute_input": "2024-11-19T22:42:39.247320Z",
     "iopub.status.busy": "2024-11-19T22:42:39.246801Z",
     "iopub.status.idle": "2024-11-19T22:42:39.250369Z",
     "shell.execute_reply": "2024-11-19T22:42:39.249859Z"
    },
    "papermill": {
     "duration": 0.015503,
     "end_time": "2024-11-19T22:42:39.251551",
     "exception": false,
     "start_time": "2024-11-19T22:42:39.236048",
     "status": "completed"
    },
    "tags": []
   },
   "outputs": [],
   "source": [
    "# Define system matrix\n",
    "system_matrix = EXSSystemMatrix(object_meta=object_meta, proj_meta=proj_meta)\n",
    "# Define likelihood that characterizes measured data (for SPECT/PET, this is PoissonLog, but here we'll use NegativeMSE)\n",
    "likelihood = NegativeMSELikelihood(system_matrix, projections=sample_projections, scaling_constant=0.01)\n",
    "# Define \n",
    "reconstruction_algorithm = MLEM(likelihood)"
   ]
  },
  {
   "cell_type": "code",
   "execution_count": 17,
   "id": "2385a26b",
   "metadata": {
    "execution": {
     "iopub.execute_input": "2024-11-19T22:42:39.272099Z",
     "iopub.status.busy": "2024-11-19T22:42:39.271619Z",
     "iopub.status.idle": "2024-11-19T22:42:39.285148Z",
     "shell.execute_reply": "2024-11-19T22:42:39.284502Z"
    },
    "papermill": {
     "duration": 0.025261,
     "end_time": "2024-11-19T22:42:39.286525",
     "exception": false,
     "start_time": "2024-11-19T22:42:39.261264",
     "status": "completed"
    },
    "tags": []
   },
   "outputs": [],
   "source": [
    "recon = reconstruction_algorithm(n_iters=40)"
   ]
  },
  {
   "cell_type": "markdown",
   "id": "bb5e6b72",
   "metadata": {
    "papermill": {
     "duration": 0.010764,
     "end_time": "2024-11-19T22:42:39.307594",
     "exception": false,
     "start_time": "2024-11-19T22:42:39.296830",
     "status": "completed"
    },
    "tags": []
   },
   "source": [
    "In this case our system matrix is underdetermined so we have no way of ensuring we get the right solution"
   ]
  },
  {
   "cell_type": "code",
   "execution_count": 18,
   "id": "30ff4c3c",
   "metadata": {
    "execution": {
     "iopub.execute_input": "2024-11-19T22:42:39.328919Z",
     "iopub.status.busy": "2024-11-19T22:42:39.328563Z",
     "iopub.status.idle": "2024-11-19T22:42:39.492258Z",
     "shell.execute_reply": "2024-11-19T22:42:39.491615Z"
    },
    "papermill": {
     "duration": 0.175661,
     "end_time": "2024-11-19T22:42:39.493643",
     "exception": false,
     "start_time": "2024-11-19T22:42:39.317982",
     "status": "completed"
    },
    "tags": []
   },
   "outputs": [
    {
     "data": {
      "text/plain": [
       "<matplotlib.colorbar.Colorbar at 0x7fb3c05a3950>"
      ]
     },
     "execution_count": 18,
     "metadata": {},
     "output_type": "execute_result"
    },
    {
     "data": {
      "image/png": "[encoded data removed]",
      "text/plain": [
       "<Figure size 400x200 with 4 Axes>"
      ]
     },
     "metadata": {},
     "output_type": "display_data"
    }
   ],
   "source": [
    "plt.figure(figsize=(4,2))\n",
    "plt.subplot(121)\n",
    "plt.pcolormesh(sample_object[:,:,0], vmin=0, vmax=1)\n",
    "plt.axis('off')\n",
    "plt.colorbar()\n",
    "plt.subplot(122)\n",
    "plt.pcolormesh(recon[:,:,0])\n",
    "plt.axis('off')\n",
    "plt.colorbar()"
   ]
  },
  {
   "cell_type": "markdown",
   "id": "1b6d7e80",
   "metadata": {
    "papermill": {
     "duration": 0.010405,
     "end_time": "2024-11-19T22:42:39.514559",
     "exception": false,
     "start_time": "2024-11-19T22:42:39.504154",
     "status": "completed"
    },
    "tags": []
   },
   "source": [
    "### Part 3: Incorporating Subsets"
   ]
  },
  {
   "cell_type": "markdown",
   "id": "f8d501ea",
   "metadata": {
    "papermill": {
     "duration": 0.010135,
     "end_time": "2024-11-19T22:42:39.534685",
     "exception": false,
     "start_time": "2024-11-19T22:42:39.524550",
     "status": "completed"
    },
    "tags": []
   },
   "source": [
    "Up until now, we've ignored the `subset_idx` which specifies how projection data can be split into subsets in ordered subset based reconstruction algorithms. In such algorithms, the projection data is split up into disjoint subsets: in SPECT/PET, one typically partitions using the projection angle. We will do the same thing here, giving the option of `subset_idx=0` for the first projection angle and `subset_idx=1` for the second:"
   ]
  },
  {
   "cell_type": "code",
   "execution_count": 19,
   "id": "880773c9",
   "metadata": {
    "execution": {
     "iopub.execute_input": "2024-11-19T22:42:39.556841Z",
     "iopub.status.busy": "2024-11-19T22:42:39.555995Z",
     "iopub.status.idle": "2024-11-19T22:42:39.562562Z",
     "shell.execute_reply": "2024-11-19T22:42:39.561969Z"
    },
    "papermill": {
     "duration": 0.018752,
     "end_time": "2024-11-19T22:42:39.563758",
     "exception": false,
     "start_time": "2024-11-19T22:42:39.545006",
     "status": "completed"
    },
    "tags": []
   },
   "outputs": [],
   "source": [
    "class EXSSystemMatrix(SystemMatrix):\n",
    "    def compute_normalization_factor(self):\n",
    "        norm_projections = torch.ones((2,self.proj_meta.M, self.proj_meta.M))\n",
    "        return self.backward(norm_projections)\n",
    "    def forward(self, object, subset_idx = None):\n",
    "        projection_0degrees = object.sum(dim=0)\n",
    "        projection_90degrees = object.sum(dim=0)\n",
    "        if subset_idx==0:\n",
    "            projections = projection_0degrees\n",
    "        elif subset_idx==1:\n",
    "            projections = projection_90degrees\n",
    "        else:\n",
    "            projections = torch.stack([projection_0degrees, projection_90degrees], dim=0)\n",
    "        projections *= self.proj_meta.sensitivity_factor\n",
    "        return projections\n",
    "    def backward(self, proj, subset_idx = None):\n",
    "        # Back projection expects projections in their subset\n",
    "        if subset_idx is not None:\n",
    "            object_BP = (proj[0]*self.proj_meta.sensitivity_factor).unsqueeze(subset_idx).repeat_interleave(self.proj_meta.M, subset_idx)\n",
    "        else:\n",
    "            object_BP_angle0 = (proj[0]*self.proj_meta.sensitivity_factor).unsqueeze(0).repeat(self.proj_meta.M,1,1)\n",
    "            object_BP_angle90 = (proj[1]*self.proj_meta.sensitivity_factor).unsqueeze(1).repeat(1,self.proj_meta.M,1)\n",
    "            object_BP = object_BP_angle0 + object_BP_angle90\n",
    "        return object_BP"
   ]
  },
  {
   "cell_type": "code",
   "execution_count": 20,
   "id": "0e7d5b2f",
   "metadata": {
    "execution": {
     "iopub.execute_input": "2024-11-19T22:42:39.585291Z",
     "iopub.status.busy": "2024-11-19T22:42:39.585062Z",
     "iopub.status.idle": "2024-11-19T22:42:39.589592Z",
     "shell.execute_reply": "2024-11-19T22:42:39.588866Z"
    },
    "papermill": {
     "duration": 0.017314,
     "end_time": "2024-11-19T22:42:39.590964",
     "exception": false,
     "start_time": "2024-11-19T22:42:39.573650",
     "status": "completed"
    },
    "tags": []
   },
   "outputs": [],
   "source": [
    "system_matrix = EXSSystemMatrix(object_meta=object_meta, proj_meta=proj_meta)\n",
    "FP_subset0 = system_matrix.forward(sample_object, subset_idx=0)\n",
    "FP_subset1 = system_matrix.forward(sample_object, subset_idx=1)\n",
    "BP_subset0 = system_matrix.backward(FP_subset0, subset_idx=0)\n",
    "BP_subset1 = system_matrix.backward(FP_subset0, subset_idx=1)"
   ]
  },
  {
   "cell_type": "code",
   "execution_count": 21,
   "id": "847a197b",
   "metadata": {
    "execution": {
     "iopub.execute_input": "2024-11-19T22:42:39.613788Z",
     "iopub.status.busy": "2024-11-19T22:42:39.613142Z",
     "iopub.status.idle": "2024-11-19T22:42:39.692467Z",
     "shell.execute_reply": "2024-11-19T22:42:39.691797Z"
    },
    "papermill": {
     "duration": 0.092724,
     "end_time": "2024-11-19T22:42:39.693857",
     "exception": false,
     "start_time": "2024-11-19T22:42:39.601133",
     "status": "completed"
    },
    "tags": []
   },
   "outputs": [
    {
     "data": {
      "image/png": "[encoded data removed]",
      "text/plain": [
       "<Figure size 400x200 with 2 Axes>"
      ]
     },
     "metadata": {},
     "output_type": "display_data"
    }
   ],
   "source": [
    "plt.figure(figsize=(4,2))\n",
    "plt.subplot(121)\n",
    "plt.title('Top Z-Slice BP Sub0')\n",
    "plt.pcolormesh(BP_subset0[:,:,-1].T)\n",
    "plt.axis('off')\n",
    "plt.subplot(122)\n",
    "plt.title('Top Z-Slice BP Sub1')\n",
    "plt.pcolormesh(BP_subset1[:,:,-1].T)\n",
    "plt.axis('off')\n",
    "plt.show()"
   ]
  },
  {
   "cell_type": "markdown",
   "id": "341ec6bb",
   "metadata": {
    "papermill": {
     "duration": 0.010928,
     "end_time": "2024-11-19T22:42:39.715543",
     "exception": false,
     "start_time": "2024-11-19T22:42:39.704615",
     "status": "completed"
    },
    "tags": []
   },
   "source": [
    "There are a couple other methods we need to implement for subset based image reconstruction algorithms:\n",
    "* `set_n_subsets`: Sets the number of \"subsets\" used in an iterative reconstruction algorithm. This requires partitioning the projection data into N distinct subsets. In general, the way in which this is done depends on the particular imaging modality (in SPECT/PET, one typically partitions using the projection angle).In our case, we have only set up our forward/back projectors to consider 2 subsets (we only have two possible angles). More advanced system matrices will need to consider implementation of arbitrary numbers of subsets \n",
    "* `get_projection_subset`: Returns the projection data corresponding to the ith subset \n",
    "* `get_weighting_subset`: This is used for scaling prior functions used in Bayesian reconstruction algorithms. It should be equal to the fraction of data elements in the particular subset. (For $N$ even subsets, this factor is $1/N$ for each subset, but sometimes the subsets aren't even)\n",
    "* We need to modify `compute_normalization_factor` so it can get the normalization factor of the $m$ th subset"
   ]
  },
  {
   "cell_type": "code",
   "execution_count": 22,
   "id": "c697007d",
   "metadata": {
    "execution": {
     "iopub.execute_input": "2024-11-19T22:42:39.738234Z",
     "iopub.status.busy": "2024-11-19T22:42:39.737994Z",
     "iopub.status.idle": "2024-11-19T22:42:39.745862Z",
     "shell.execute_reply": "2024-11-19T22:42:39.745215Z"
    },
    "papermill": {
     "duration": 0.020488,
     "end_time": "2024-11-19T22:42:39.747178",
     "exception": false,
     "start_time": "2024-11-19T22:42:39.726690",
     "status": "completed"
    },
    "tags": []
   },
   "outputs": [],
   "source": [
    "class EXSSystemMatrix(SystemMatrix):\n",
    "    # ----\n",
    "    # NEW METHODS\n",
    "    # ----\n",
    "    def set_n_subsets(self, n_subsets):\n",
    "        self.n_subsets = n_subsets\n",
    "    def get_projection_subset(self, projections, subset_idx):\n",
    "        # Called when n_subsets>1 in internal pytomography code, in this case, assumes 2 subsets since thats the only possible number of subsets we have. In general, this should split data evenly (see SPECTSystemMatrix source code)\n",
    "        return projections[subset_idx].unsqueeze(0)\n",
    "    def compute_normalization_factor(self, subset_idx = None):\n",
    "        # This function generally looks the same for all system matrices\n",
    "        norm_projections = torch.ones((2,self.proj_meta.M, self.proj_meta.M))\n",
    "        if subset_idx is not None:\n",
    "            norm_projections = self.get_projection_subset(norm_projections, subset_idx)\n",
    "        return self.backward(norm_projections, subset_idx)\n",
    "    def get_weighting_subset(self, subset_idx):\n",
    "        if subset_idx is None:\n",
    "            return 1\n",
    "        elif self.n_subsets==2:\n",
    "            return 0.5 # equal weighting in this case, in general need to be careful with this\n",
    "    # ----\n",
    "    # SAME AS PREVIOUS\n",
    "    # ----\n",
    "    def forward(self, object, subset_idx = None):\n",
    "        projection_0degrees = object.sum(dim=0)\n",
    "        projection_90degrees = object.sum(dim=0)\n",
    "        if subset_idx==0:\n",
    "            projections = projection_0degrees\n",
    "        elif subset_idx==1:\n",
    "            projections = projection_90degrees\n",
    "        else:\n",
    "            projections = torch.stack([projection_0degrees, projection_90degrees], dim=0)\n",
    "        projections *= self.proj_meta.sensitivity_factor\n",
    "        return projections\n",
    "    def backward(self, proj, subset_idx = None):\n",
    "        # Back projection expects projections in their subset\n",
    "        if subset_idx is not None:\n",
    "            object_BP = (proj[0]*self.proj_meta.sensitivity_factor).unsqueeze(subset_idx).repeat_interleave(self.proj_meta.M, subset_idx)\n",
    "        else:\n",
    "            object_BP_angle0 = (proj[0]*self.proj_meta.sensitivity_factor).unsqueeze(0).repeat(self.proj_meta.M,1,1)\n",
    "            object_BP_angle90 = (proj[1]*self.proj_meta.sensitivity_factor).unsqueeze(1).repeat(1,self.proj_meta.M,1)\n",
    "            object_BP = object_BP_angle0 + object_BP_angle90\n",
    "        return object_BP"
   ]
  },
  {
   "cell_type": "code",
   "execution_count": 23,
   "id": "96b4bc58",
   "metadata": {
    "execution": {
     "iopub.execute_input": "2024-11-19T22:42:39.772203Z",
     "iopub.status.busy": "2024-11-19T22:42:39.771521Z",
     "iopub.status.idle": "2024-11-19T22:42:39.774895Z",
     "shell.execute_reply": "2024-11-19T22:42:39.774272Z"
    },
    "papermill": {
     "duration": 0.019253,
     "end_time": "2024-11-19T22:42:39.776493",
     "exception": false,
     "start_time": "2024-11-19T22:42:39.757240",
     "status": "completed"
    },
    "tags": []
   },
   "outputs": [],
   "source": [
    "system_matrix = EXSSystemMatrix(object_meta=object_meta, proj_meta=proj_meta)"
   ]
  },
  {
   "cell_type": "markdown",
   "id": "55228d8e",
   "metadata": {
    "papermill": {
     "duration": 0.010891,
     "end_time": "2024-11-19T22:42:39.798581",
     "exception": false,
     "start_time": "2024-11-19T22:42:39.787690",
     "status": "completed"
    },
    "tags": []
   },
   "source": [
    "Our system matrix can now be used in reconstruction algorithms. Let's reconstruct our simulated data. Like the tutorials online, we now create a likelihood function and then a reconstruction algorithm:"
   ]
  },
  {
   "cell_type": "code",
   "execution_count": 24,
   "id": "47d21aef",
   "metadata": {
    "execution": {
     "iopub.execute_input": "2024-11-19T22:42:39.821845Z",
     "iopub.status.busy": "2024-11-19T22:42:39.821100Z",
     "iopub.status.idle": "2024-11-19T22:42:39.824782Z",
     "shell.execute_reply": "2024-11-19T22:42:39.824180Z"
    },
    "papermill": {
     "duration": 0.016297,
     "end_time": "2024-11-19T22:42:39.826047",
     "exception": false,
     "start_time": "2024-11-19T22:42:39.809750",
     "status": "completed"
    },
    "tags": []
   },
   "outputs": [],
   "source": [
    "sample_object = torch.rand(object_meta.shape) # object has batch dimension\n",
    "sample_projections = system_matrix.forward(sample_object)"
   ]
  },
  {
   "cell_type": "code",
   "execution_count": 25,
   "id": "9d4bfbea",
   "metadata": {
    "execution": {
     "iopub.execute_input": "2024-11-19T22:42:39.848950Z",
     "iopub.status.busy": "2024-11-19T22:42:39.848181Z",
     "iopub.status.idle": "2024-11-19T22:42:39.851890Z",
     "shell.execute_reply": "2024-11-19T22:42:39.851347Z"
    },
    "papermill": {
     "duration": 0.016066,
     "end_time": "2024-11-19T22:42:39.853201",
     "exception": false,
     "start_time": "2024-11-19T22:42:39.837135",
     "status": "completed"
    },
    "tags": []
   },
   "outputs": [],
   "source": [
    "system_matrix = EXSSystemMatrix(object_meta=object_meta, proj_meta=proj_meta)\n",
    "likelihood = NegativeMSELikelihood(system_matrix, projections=sample_projections, scaling_constant=0.01)\n",
    "reconstruction_algorithm = OSEM(likelihood)"
   ]
  },
  {
   "cell_type": "code",
   "execution_count": 26,
   "id": "fc7c44b2",
   "metadata": {
    "execution": {
     "iopub.execute_input": "2024-11-19T22:42:39.878293Z",
     "iopub.status.busy": "2024-11-19T22:42:39.876162Z",
     "iopub.status.idle": "2024-11-19T22:42:39.896956Z",
     "shell.execute_reply": "2024-11-19T22:42:39.896225Z"
    },
    "papermill": {
     "duration": 0.034393,
     "end_time": "2024-11-19T22:42:39.898351",
     "exception": false,
     "start_time": "2024-11-19T22:42:39.863958",
     "status": "completed"
    },
    "tags": []
   },
   "outputs": [],
   "source": [
    "recon = reconstruction_algorithm(n_iters=40, n_subsets=2)"
   ]
  },
  {
   "cell_type": "code",
   "execution_count": 27,
   "id": "a2b79907",
   "metadata": {
    "execution": {
     "iopub.execute_input": "2024-11-19T22:42:39.925444Z",
     "iopub.status.busy": "2024-11-19T22:42:39.923635Z",
     "iopub.status.idle": "2024-11-19T22:42:40.090782Z",
     "shell.execute_reply": "2024-11-19T22:42:40.090000Z"
    },
    "papermill": {
     "duration": 0.1815,
     "end_time": "2024-11-19T22:42:40.092182",
     "exception": false,
     "start_time": "2024-11-19T22:42:39.910682",
     "status": "completed"
    },
    "tags": []
   },
   "outputs": [
    {
     "data": {
      "text/plain": [
       "<matplotlib.collections.QuadMesh at 0x7fb3c044fa90>"
      ]
     },
     "execution_count": 27,
     "metadata": {},
     "output_type": "execute_result"
    },
    {
     "data": {
      "image/png": "[encoded data removed]",
      "text/plain": [
       "<Figure size 400x200 with 2 Axes>"
      ]
     },
     "metadata": {},
     "output_type": "display_data"
    }
   ],
   "source": [
    "plt.figure(figsize=(4,2))\n",
    "plt.subplot(121)\n",
    "plt.pcolormesh(sample_object[:,:,-1])\n",
    "plt.subplot(122)\n",
    "plt.pcolormesh(recon[:,:,-1])"
   ]
  },
  {
   "cell_type": "markdown",
   "id": "33e97a20",
   "metadata": {
    "papermill": {
     "duration": 0.011359,
     "end_time": "2024-11-19T22:42:40.115325",
     "exception": false,
     "start_time": "2024-11-19T22:42:40.103966",
     "status": "completed"
    },
    "tags": []
   },
   "source": [
    "# Example 2: List Mode System Matrices"
   ]
  },
  {
   "cell_type": "markdown",
   "id": "bb66c947",
   "metadata": {
    "papermill": {
     "duration": 0.010276,
     "end_time": "2024-11-19T22:42:40.137314",
     "exception": false,
     "start_time": "2024-11-19T22:42:40.127038",
     "status": "completed"
    },
    "tags": []
   },
   "source": [
    "Modalities containing listmode data can also be implemented in PyTomography; their implementation may look slightly different than above, however. Regardless, if implemented properly, they are still usable with all available reconstruction algorithms\n",
    "\n",
    "For our simple imaging system, listmode data might be stored via a list of integers where each integer specifies a given pixel in projection space. Since we have 2 projections, each with $M \\times M$ pixels, the total number of detector elements is $2M^2$.\n",
    "\n",
    "We can simulate 100 random events as follows (in reality, a more sophisticated program, such as GATE, would be required to give a proper distribution according to a specific phantom/source distribution)"
   ]
  },
  {
   "cell_type": "code",
   "execution_count": 28,
   "id": "49218215",
   "metadata": {
    "execution": {
     "iopub.execute_input": "2024-11-19T22:42:40.160154Z",
     "iopub.status.busy": "2024-11-19T22:42:40.159260Z",
     "iopub.status.idle": "2024-11-19T22:42:40.167831Z",
     "shell.execute_reply": "2024-11-19T22:42:40.167088Z"
    },
    "papermill": {
     "duration": 0.021004,
     "end_time": "2024-11-19T22:42:40.169176",
     "exception": false,
     "start_time": "2024-11-19T22:42:40.148172",
     "status": "completed"
    },
    "tags": []
   },
   "outputs": [
    {
     "data": {
      "text/plain": [
       "tensor([ 3,  3, 10, 14, 15, 14,  6, 14,  1, 16,  7, 14, 12,  2, 13, 13, 10,  6,\n",
       "        10,  5,  6,  1, 15,  9,  6,  2,  0, 17,  9,  2,  8,  9,  5, 10,  0,  1,\n",
       "         7, 16,  0, 11, 13,  5,  4,  9, 11, 17, 10,  9,  8, 10,  1, 13,  5, 17,\n",
       "         6,  2,  2, 10, 16, 16,  3, 10, 10, 10,  0,  9, 14, 10, 10,  4, 10, 14,\n",
       "        13, 13, 12,  1,  7, 13, 12,  1,  4, 16, 11,  6,  0, 17,  8, 15,  5, 12,\n",
       "         3, 16,  5,  8,  0,  9,  4,  3,  9,  6,  8, 17, 15,  5,  8,  5, 10, 12,\n",
       "         2,  1,  5,  7, 13,  8, 13, 17, 14, 12,  6,  0,  3, 15,  9,  7, 11,  0,\n",
       "         6,  4,  2, 11, 17,  9, 10,  6,  0,  1, 16, 16, 16,  2, 16,  7, 15, 12,\n",
       "        10, 17, 14, 14, 17,  1,  7,  9,  2, 10,  7, 12,  3, 14, 15, 14,  5,  7,\n",
       "        17,  8,  4, 17,  8,  1,  7, 16,  5, 16,  1, 17, 16, 14,  4, 11, 13,  6,\n",
       "        13,  1,  6,  3, 16,  0,  3, 11,  6,  8, 16,  6, 12,  7, 15, 10,  4, 13,\n",
       "        13,  2,  0,  7,  8, 10,  1, 10,  3, 13,  1,  9, 15, 16, 14,  9,  3,  0,\n",
       "         4,  4,  2, 10,  1, 13, 14, 17,  5, 12,  3, 17,  6,  3, 17,  9,  3,  7,\n",
       "        14,  5, 13, 13,  2, 13,  7,  4,  6, 13, 10,  9, 12,  9, 13, 10,  5, 13,\n",
       "        17,  0, 11,  4,  9,  3,  1, 17,  0, 13,  3, 11, 17, 10,  9, 15,  6, 13,\n",
       "        14, 13, 10,  5,  4,  9,  4, 10, 12,  9,  0,  3, 10, 13, 15,  3, 10,  3,\n",
       "         9, 17,  7,  6, 11,  2, 15, 12,  4,  6,  1, 10, 16, 16,  9, 17,  7, 11,\n",
       "         3, 11,  8,  3,  2, 14, 13,  7,  2,  7,  3, 15, 12,  2, 16, 16, 10,  2,\n",
       "         1,  4,  0, 10,  2, 16, 17,  6,  7, 10,  9,  1,  0,  7,  3,  0, 15,  9,\n",
       "         3, 10, 13,  6,  9,  1, 16, 10,  7,  6,  5, 12,  1,  0,  7,  1,  3,  4,\n",
       "        16, 12, 10,  5, 16,  3,  0, 11,  8, 16,  6,  7,  0, 11,  8, 12,  6, 10,\n",
       "        10,  7,  1, 14, 14, 13,  0,  3, 15,  4, 16,  6, 10,  9,  4, 13,  7, 16,\n",
       "         0, 14,  6,  2])"
      ]
     },
     "execution_count": 28,
     "metadata": {},
     "output_type": "execute_result"
    }
   ],
   "source": [
    "detector_ids = torch.randint(low=0, high=2*M**2, size=(400,))\n",
    "detector_ids"
   ]
  },
  {
   "cell_type": "markdown",
   "id": "73f224b9",
   "metadata": {
    "papermill": {
     "duration": 0.010574,
     "end_time": "2024-11-19T22:42:40.190261",
     "exception": false,
     "start_time": "2024-11-19T22:42:40.179687",
     "status": "completed"
    },
    "tags": []
   },
   "source": [
    "## MetaData"
   ]
  },
  {
   "cell_type": "markdown",
   "id": "e4d87c3f",
   "metadata": {
    "papermill": {
     "duration": 0.010408,
     "end_time": "2024-11-19T22:42:40.211232",
     "exception": false,
     "start_time": "2024-11-19T22:42:40.200824",
     "status": "completed"
    },
    "tags": []
   },
   "source": [
    "Each integer corresponds to a given detector element where a count has been measured.First, we may want to generate a lookup table for these integer values and corresponding detector coordinates:"
   ]
  },
  {
   "cell_type": "code",
   "execution_count": 29,
   "id": "bd4f61ce",
   "metadata": {
    "execution": {
     "iopub.execute_input": "2024-11-19T22:42:40.233944Z",
     "iopub.status.busy": "2024-11-19T22:42:40.233259Z",
     "iopub.status.idle": "2024-11-19T22:42:40.239252Z",
     "shell.execute_reply": "2024-11-19T22:42:40.238603Z"
    },
    "papermill": {
     "duration": 0.018948,
     "end_time": "2024-11-19T22:42:40.240639",
     "exception": false,
     "start_time": "2024-11-19T22:42:40.221691",
     "status": "completed"
    },
    "tags": []
   },
   "outputs": [
    {
     "data": {
      "text/plain": [
       "tensor([[0, 0, 0],\n",
       "        [0, 0, 1],\n",
       "        [0, 0, 2],\n",
       "        [0, 1, 0],\n",
       "        [0, 1, 1],\n",
       "        [0, 1, 2],\n",
       "        [0, 2, 0],\n",
       "        [0, 2, 1],\n",
       "        [0, 2, 2],\n",
       "        [1, 0, 0],\n",
       "        [1, 0, 1],\n",
       "        [1, 0, 2],\n",
       "        [1, 1, 0],\n",
       "        [1, 1, 1],\n",
       "        [1, 1, 2],\n",
       "        [1, 2, 0],\n",
       "        [1, 2, 1],\n",
       "        [1, 2, 2]])"
      ]
     },
     "execution_count": 29,
     "metadata": {},
     "output_type": "execute_result"
    }
   ],
   "source": [
    "scanner_LUT = torch.cartesian_prod(\n",
    "    torch.tensor([0,1]), # Angle\n",
    "    torch.arange(M), # row\n",
    "    torch.arange(M), # column\n",
    ")\n",
    "scanner_LUT"
   ]
  },
  {
   "cell_type": "markdown",
   "id": "fbc876df",
   "metadata": {
    "papermill": {
     "duration": 0.010483,
     "end_time": "2024-11-19T22:42:40.262475",
     "exception": false,
     "start_time": "2024-11-19T22:42:40.251992",
     "status": "completed"
    },
    "tags": []
   },
   "source": [
    "This lookup table gives the angle index, row index, and column index in projection space for each detector ID. For example, if we want the location corresponding to detector ID 11:"
   ]
  },
  {
   "cell_type": "code",
   "execution_count": 30,
   "id": "6ae5406e",
   "metadata": {
    "execution": {
     "iopub.execute_input": "2024-11-19T22:42:40.285368Z",
     "iopub.status.busy": "2024-11-19T22:42:40.284980Z",
     "iopub.status.idle": "2024-11-19T22:42:40.289320Z",
     "shell.execute_reply": "2024-11-19T22:42:40.288791Z"
    },
    "papermill": {
     "duration": 0.017558,
     "end_time": "2024-11-19T22:42:40.290574",
     "exception": false,
     "start_time": "2024-11-19T22:42:40.273016",
     "status": "completed"
    },
    "tags": []
   },
   "outputs": [
    {
     "data": {
      "text/plain": [
       "tensor([0, 1, 2])"
      ]
     },
     "execution_count": 30,
     "metadata": {},
     "output_type": "execute_result"
    }
   ],
   "source": [
    "scanner_LUT[5]"
   ]
  },
  {
   "cell_type": "markdown",
   "id": "09dcf616",
   "metadata": {
    "papermill": {
     "duration": 0.011268,
     "end_time": "2024-11-19T22:42:40.312229",
     "exception": false,
     "start_time": "2024-11-19T22:42:40.300961",
     "status": "completed"
    },
    "tags": []
   },
   "source": [
    "Similarily, if we wanted the location corresponding to the first 5 measured events:"
   ]
  },
  {
   "cell_type": "code",
   "execution_count": 31,
   "id": "5e4d9228",
   "metadata": {
    "execution": {
     "iopub.execute_input": "2024-11-19T22:42:40.334899Z",
     "iopub.status.busy": "2024-11-19T22:42:40.334299Z",
     "iopub.status.idle": "2024-11-19T22:42:40.339176Z",
     "shell.execute_reply": "2024-11-19T22:42:40.338652Z"
    },
    "papermill": {
     "duration": 0.017621,
     "end_time": "2024-11-19T22:42:40.340466",
     "exception": false,
     "start_time": "2024-11-19T22:42:40.322845",
     "status": "completed"
    },
    "tags": []
   },
   "outputs": [
    {
     "data": {
      "text/plain": [
       "tensor([[0, 1, 0],\n",
       "        [0, 1, 0],\n",
       "        [1, 0, 1],\n",
       "        [1, 1, 2],\n",
       "        [1, 2, 0]])"
      ]
     },
     "execution_count": 31,
     "metadata": {},
     "output_type": "execute_result"
    }
   ],
   "source": [
    "scanner_LUT[detector_ids[0:5]]"
   ]
  },
  {
   "cell_type": "markdown",
   "id": "240aa164",
   "metadata": {
    "papermill": {
     "duration": 0.010757,
     "end_time": "2024-11-19T22:42:40.363897",
     "exception": false,
     "start_time": "2024-11-19T22:42:40.353140",
     "status": "completed"
    },
    "tags": []
   },
   "source": [
    "We can also get the sensitivity factor for each listmode event:"
   ]
  },
  {
   "cell_type": "code",
   "execution_count": 32,
   "id": "dd743f9e",
   "metadata": {
    "execution": {
     "iopub.execute_input": "2024-11-19T22:42:40.390809Z",
     "iopub.status.busy": "2024-11-19T22:42:40.390350Z",
     "iopub.status.idle": "2024-11-19T22:42:40.399955Z",
     "shell.execute_reply": "2024-11-19T22:42:40.399405Z"
    },
    "papermill": {
     "duration": 0.026466,
     "end_time": "2024-11-19T22:42:40.401173",
     "exception": false,
     "start_time": "2024-11-19T22:42:40.374707",
     "status": "completed"
    },
    "tags": []
   },
   "outputs": [
    {
     "data": {
      "text/plain": [
       "tensor([1.0203, 1.0203, 1.2767, 1.2802, 1.2021, 1.2802, 1.2276, 1.2802, 1.2862,\n",
       "        1.2021, 1.2276, 1.2802, 1.2802, 1.2862, 1.2802, 1.2802, 1.2767, 1.2276,\n",
       "        1.2767, 1.0203, 1.2276, 1.2862, 1.2021, 1.2767, 1.2276, 1.2862, 1.2862,\n",
       "        1.2021, 1.2767, 1.2862, 1.2276, 1.2767, 1.0203, 1.2767, 1.2862, 1.2862,\n",
       "        1.2276, 1.2021, 1.2862, 1.2767, 1.2802, 1.0203, 1.0203, 1.2767, 1.2767,\n",
       "        1.2021, 1.2767, 1.2767, 1.2276, 1.2767, 1.2862, 1.2802, 1.0203, 1.2021,\n",
       "        1.2276, 1.2862, 1.2862, 1.2767, 1.2021, 1.2021, 1.0203, 1.2767, 1.2767,\n",
       "        1.2767, 1.2862, 1.2767, 1.2802, 1.2767, 1.2767, 1.0203, 1.2767, 1.2802,\n",
       "        1.2802, 1.2802, 1.2802, 1.2862, 1.2276, 1.2802, 1.2802, 1.2862, 1.0203,\n",
       "        1.2021, 1.2767, 1.2276, 1.2862, 1.2021, 1.2276, 1.2021, 1.0203, 1.2802,\n",
       "        1.0203, 1.2021, 1.0203, 1.2276, 1.2862, 1.2767, 1.0203, 1.0203, 1.2767,\n",
       "        1.2276, 1.2276, 1.2021, 1.2021, 1.0203, 1.2276, 1.0203, 1.2767, 1.2802,\n",
       "        1.2862, 1.2862, 1.0203, 1.2276, 1.2802, 1.2276, 1.2802, 1.2021, 1.2802,\n",
       "        1.2802, 1.2276, 1.2862, 1.0203, 1.2021, 1.2767, 1.2276, 1.2767, 1.2862,\n",
       "        1.2276, 1.0203, 1.2862, 1.2767, 1.2021, 1.2767, 1.2767, 1.2276, 1.2862,\n",
       "        1.2862, 1.2021, 1.2021, 1.2021, 1.2862, 1.2021, 1.2276, 1.2021, 1.2802,\n",
       "        1.2767, 1.2021, 1.2802, 1.2802, 1.2021, 1.2862, 1.2276, 1.2767, 1.2862,\n",
       "        1.2767, 1.2276, 1.2802, 1.0203, 1.2802, 1.2021, 1.2802, 1.0203, 1.2276,\n",
       "        1.2021, 1.2276, 1.0203, 1.2021, 1.2276, 1.2862, 1.2276, 1.2021, 1.0203,\n",
       "        1.2021, 1.2862, 1.2021, 1.2021, 1.2802, 1.0203, 1.2767, 1.2802, 1.2276,\n",
       "        1.2802, 1.2862, 1.2276, 1.0203, 1.2021, 1.2862, 1.0203, 1.2767, 1.2276,\n",
       "        1.2276, 1.2021, 1.2276, 1.2802, 1.2276, 1.2021, 1.2767, 1.0203, 1.2802,\n",
       "        1.2802, 1.2862, 1.2862, 1.2276, 1.2276, 1.2767, 1.2862, 1.2767, 1.0203,\n",
       "        1.2802, 1.2862, 1.2767, 1.2021, 1.2021, 1.2802, 1.2767, 1.0203, 1.2862,\n",
       "        1.0203, 1.0203, 1.2862, 1.2767, 1.2862, 1.2802, 1.2802, 1.2021, 1.0203,\n",
       "        1.2802, 1.0203, 1.2021, 1.2276, 1.0203, 1.2021, 1.2767, 1.0203, 1.2276,\n",
       "        1.2802, 1.0203, 1.2802, 1.2802, 1.2862, 1.2802, 1.2276, 1.0203, 1.2276,\n",
       "        1.2802, 1.2767, 1.2767, 1.2802, 1.2767, 1.2802, 1.2767, 1.0203, 1.2802,\n",
       "        1.2021, 1.2862, 1.2767, 1.0203, 1.2767, 1.0203, 1.2862, 1.2021, 1.2862,\n",
       "        1.2802, 1.0203, 1.2767, 1.2021, 1.2767, 1.2767, 1.2021, 1.2276, 1.2802,\n",
       "        1.2802, 1.2802, 1.2767, 1.0203, 1.0203, 1.2767, 1.0203, 1.2767, 1.2802,\n",
       "        1.2767, 1.2862, 1.0203, 1.2767, 1.2802, 1.2021, 1.0203, 1.2767, 1.0203,\n",
       "        1.2767, 1.2021, 1.2276, 1.2276, 1.2767, 1.2862, 1.2021, 1.2802, 1.0203,\n",
       "        1.2276, 1.2862, 1.2767, 1.2021, 1.2021, 1.2767, 1.2021, 1.2276, 1.2767,\n",
       "        1.0203, 1.2767, 1.2276, 1.0203, 1.2862, 1.2802, 1.2802, 1.2276, 1.2862,\n",
       "        1.2276, 1.0203, 1.2021, 1.2802, 1.2862, 1.2021, 1.2021, 1.2767, 1.2862,\n",
       "        1.2862, 1.0203, 1.2862, 1.2767, 1.2862, 1.2021, 1.2021, 1.2276, 1.2276,\n",
       "        1.2767, 1.2767, 1.2862, 1.2862, 1.2276, 1.0203, 1.2862, 1.2021, 1.2767,\n",
       "        1.0203, 1.2767, 1.2802, 1.2276, 1.2767, 1.2862, 1.2021, 1.2767, 1.2276,\n",
       "        1.2276, 1.0203, 1.2802, 1.2862, 1.2862, 1.2276, 1.2862, 1.0203, 1.0203,\n",
       "        1.2021, 1.2802, 1.2767, 1.0203, 1.2021, 1.0203, 1.2862, 1.2767, 1.2276,\n",
       "        1.2021, 1.2276, 1.2276, 1.2862, 1.2767, 1.2276, 1.2802, 1.2276, 1.2767,\n",
       "        1.2767, 1.2276, 1.2862, 1.2802, 1.2802, 1.2802, 1.2862, 1.0203, 1.2021,\n",
       "        1.0203, 1.2021, 1.2276, 1.2767, 1.2767, 1.0203, 1.2802, 1.2276, 1.2021,\n",
       "        1.2862, 1.2802, 1.2276, 1.2862])"
      ]
     },
     "execution_count": 32,
     "metadata": {},
     "output_type": "execute_result"
    }
   ],
   "source": [
    "sensitivity_factor[*scanner_LUT[detector_ids][:,:2].T]"
   ]
  },
  {
   "cell_type": "markdown",
   "id": "c5ccca9f",
   "metadata": {
    "papermill": {
     "duration": 0.010595,
     "end_time": "2024-11-19T22:42:40.423287",
     "exception": false,
     "start_time": "2024-11-19T22:42:40.412692",
     "status": "completed"
    },
    "tags": []
   },
   "source": [
    "With this in mind, we can define our new listmode projection metadata class:"
   ]
  },
  {
   "cell_type": "code",
   "execution_count": 33,
   "id": "412ad17d",
   "metadata": {
    "execution": {
     "iopub.execute_input": "2024-11-19T22:42:40.448302Z",
     "iopub.status.busy": "2024-11-19T22:42:40.447748Z",
     "iopub.status.idle": "2024-11-19T22:42:40.452609Z",
     "shell.execute_reply": "2024-11-19T22:42:40.451963Z"
    },
    "papermill": {
     "duration": 0.019801,
     "end_time": "2024-11-19T22:42:40.454048",
     "exception": false,
     "start_time": "2024-11-19T22:42:40.434247",
     "status": "completed"
    },
    "tags": []
   },
   "outputs": [],
   "source": [
    "class EXSListmodeProjMeta(ProjMeta):\n",
    "    def __init__(self, shape, scanner_LUT, detector_ids, sensitivity_factor):\n",
    "        self.scanner_LUT = scanner_LUT\n",
    "        self.detector_ids = detector_ids\n",
    "        self.sensitivity_at_ids = sensitivity_factor[*scanner_LUT[:,1:].T]\n",
    "        self.shape = shape\n",
    "        if (sensitivity_factor.shape[0]!=M)*(sensitivity_factor.shape[1]!=M):\n",
    "            raise ValueError(\"sensitivity_factor should have side dimensions M\")\n",
    "proj_meta_listmode = EXSListmodeProjMeta((2,M,M), scanner_LUT, detector_ids, sensitivity_factor)"
   ]
  },
  {
   "cell_type": "markdown",
   "id": "6ecf19f2",
   "metadata": {
    "papermill": {
     "duration": 0.011441,
     "end_time": "2024-11-19T22:42:40.476831",
     "exception": false,
     "start_time": "2024-11-19T22:42:40.465390",
     "status": "completed"
    },
    "tags": []
   },
   "source": [
    "Lets now implement the forward/backward methods of the system matrix. We'll start with forward projection, which forward projects an object to each `id` form the listmode data."
   ]
  },
  {
   "cell_type": "code",
   "execution_count": 34,
   "id": "49fe35e1",
   "metadata": {
    "execution": {
     "iopub.execute_input": "2024-11-19T22:42:40.500662Z",
     "iopub.status.busy": "2024-11-19T22:42:40.500213Z",
     "iopub.status.idle": "2024-11-19T22:42:40.505147Z",
     "shell.execute_reply": "2024-11-19T22:42:40.504537Z"
    },
    "papermill": {
     "duration": 0.018497,
     "end_time": "2024-11-19T22:42:40.506441",
     "exception": false,
     "start_time": "2024-11-19T22:42:40.487944",
     "status": "completed"
    },
    "tags": []
   },
   "outputs": [],
   "source": [
    "class EXSListmodeSystemMatrix(SystemMatrix):\n",
    "    def forward(self, object, subset_idx = None):\n",
    "        # There is probably a faster implementation, but I am trying to keep it simple for illustration purposes\n",
    "        projections = []\n",
    "        for i, detector_id in enumerate(self.proj_meta.detector_ids):\n",
    "            coord = self.proj_meta.scanner_LUT[detector_id]\n",
    "            sensitivity_factor_i = self.proj_meta.sensitivity_at_ids[detector_id]\n",
    "            if coord[0]==0: # If angle 0:\n",
    "                projections.append(object[:,coord[1],coord[2]].sum() *  sensitivity_factor_i) # sum along x\n",
    "            elif coord[0]==1: # If angle 90:\n",
    "                projections.append(object[coord[1],:,coord[2]].sum() * sensitivity_factor_i)  # sum along y\n",
    "        return torch.tensor(projections)"
   ]
  },
  {
   "cell_type": "code",
   "execution_count": 35,
   "id": "15285752",
   "metadata": {
    "execution": {
     "iopub.execute_input": "2024-11-19T22:42:40.530694Z",
     "iopub.status.busy": "2024-11-19T22:42:40.530132Z",
     "iopub.status.idle": "2024-11-19T22:42:40.561530Z",
     "shell.execute_reply": "2024-11-19T22:42:40.561025Z"
    },
    "papermill": {
     "duration": 0.045043,
     "end_time": "2024-11-19T22:42:40.562732",
     "exception": false,
     "start_time": "2024-11-19T22:42:40.517689",
     "status": "completed"
    },
    "tags": []
   },
   "outputs": [
    {
     "data": {
      "text/plain": [
       "tensor([2.4181, 2.4181, 1.4410, 1.3367, 1.2952, 1.3367, 1.6440, 1.3367, 1.5810,\n",
       "        1.3257, 0.8895, 1.3367, 1.7677, 0.9422, 1.6551, 1.6551, 1.4410, 1.6440,\n",
       "        1.4410, 1.1332, 1.6440, 1.5810, 1.2952, 3.0902, 1.6440, 0.9422, 2.0810,\n",
       "        1.5294, 3.0902, 0.9422, 1.6234, 3.0902, 1.1332, 1.4410, 2.0810, 1.5810,\n",
       "        0.8895, 1.3257, 2.0810, 0.8263, 1.6551, 1.1332, 1.9618, 3.0902, 0.8263,\n",
       "        1.5294, 1.4410, 3.0902, 1.6234, 1.4410, 1.5810, 1.6551, 1.1332, 1.5294,\n",
       "        1.6440, 0.9422, 0.9422, 1.4410, 1.3257, 1.3257, 2.4181, 1.4410, 1.4410,\n",
       "        1.4410, 2.0810, 3.0902, 1.3367, 1.4410, 1.4410, 1.9618, 1.4410, 1.3367,\n",
       "        1.6551, 1.6551, 1.7677, 1.5810, 0.8895, 1.6551, 1.7677, 1.5810, 1.9618,\n",
       "        1.3257, 0.8263, 1.6440, 2.0810, 1.5294, 1.6234, 1.2952, 1.1332, 1.7677,\n",
       "        2.4181, 1.3257, 1.1332, 1.6234, 2.0810, 3.0902, 1.9618, 2.4181, 3.0902,\n",
       "        1.6440, 1.6234, 1.5294, 1.2952, 1.1332, 1.6234, 1.1332, 1.4410, 1.7677,\n",
       "        0.9422, 1.5810, 1.1332, 0.8895, 1.6551, 1.6234, 1.6551, 1.5294, 1.3367,\n",
       "        1.7677, 1.6440, 2.0810, 2.4181, 1.2952, 3.0902, 0.8895, 0.8263, 2.0810,\n",
       "        1.6440, 1.9618, 0.9422, 0.8263, 1.5294, 3.0902, 1.4410, 1.6440, 2.0810,\n",
       "        1.5810, 1.3257, 1.3257, 1.3257, 0.9422, 1.3257, 0.8895, 1.2952, 1.7677,\n",
       "        1.4410, 1.5294, 1.3367, 1.3367, 1.5294, 1.5810, 0.8895, 3.0902, 0.9422,\n",
       "        1.4410, 0.8895, 1.7677, 2.4181, 1.3367, 1.2952, 1.3367, 1.1332, 0.8895,\n",
       "        1.5294, 1.6234, 1.9618, 1.5294, 1.6234, 1.5810, 0.8895, 1.3257, 1.1332,\n",
       "        1.3257, 1.5810, 1.5294, 1.3257, 1.3367, 1.9618, 0.8263, 1.6551, 1.6440,\n",
       "        1.6551, 1.5810, 1.6440, 2.4181, 1.3257, 2.0810, 2.4181, 0.8263, 1.6440,\n",
       "        1.6234, 1.3257, 1.6440, 1.7677, 0.8895, 1.2952, 1.4410, 1.9618, 1.6551,\n",
       "        1.6551, 0.9422, 2.0810, 0.8895, 1.6234, 1.4410, 1.5810, 1.4410, 2.4181,\n",
       "        1.6551, 1.5810, 3.0902, 1.2952, 1.3257, 1.3367, 3.0902, 2.4181, 2.0810,\n",
       "        1.9618, 1.9618, 0.9422, 1.4410, 1.5810, 1.6551, 1.3367, 1.5294, 1.1332,\n",
       "        1.7677, 2.4181, 1.5294, 1.6440, 2.4181, 1.5294, 3.0902, 2.4181, 0.8895,\n",
       "        1.3367, 1.1332, 1.6551, 1.6551, 0.9422, 1.6551, 0.8895, 1.9618, 1.6440,\n",
       "        1.6551, 1.4410, 3.0902, 1.7677, 3.0902, 1.6551, 1.4410, 1.1332, 1.6551,\n",
       "        1.5294, 2.0810, 0.8263, 1.9618, 3.0902, 2.4181, 1.5810, 1.5294, 2.0810,\n",
       "        1.6551, 2.4181, 0.8263, 1.5294, 1.4410, 3.0902, 1.2952, 1.6440, 1.6551,\n",
       "        1.3367, 1.6551, 1.4410, 1.1332, 1.9618, 3.0902, 1.9618, 1.4410, 1.7677,\n",
       "        3.0902, 2.0810, 2.4181, 1.4410, 1.6551, 1.2952, 2.4181, 1.4410, 2.4181,\n",
       "        3.0902, 1.5294, 0.8895, 1.6440, 0.8263, 0.9422, 1.2952, 1.7677, 1.9618,\n",
       "        1.6440, 1.5810, 1.4410, 1.3257, 1.3257, 3.0902, 1.5294, 0.8895, 0.8263,\n",
       "        2.4181, 0.8263, 1.6234, 2.4181, 0.9422, 1.3367, 1.6551, 0.8895, 0.9422,\n",
       "        0.8895, 2.4181, 1.2952, 1.7677, 0.9422, 1.3257, 1.3257, 1.4410, 0.9422,\n",
       "        1.5810, 1.9618, 2.0810, 1.4410, 0.9422, 1.3257, 1.5294, 1.6440, 0.8895,\n",
       "        1.4410, 3.0902, 1.5810, 2.0810, 0.8895, 2.4181, 2.0810, 1.2952, 3.0902,\n",
       "        2.4181, 1.4410, 1.6551, 1.6440, 3.0902, 1.5810, 1.3257, 1.4410, 0.8895,\n",
       "        1.6440, 1.1332, 1.7677, 1.5810, 2.0810, 0.8895, 1.5810, 2.4181, 1.9618,\n",
       "        1.3257, 1.7677, 1.4410, 1.1332, 1.3257, 2.4181, 2.0810, 0.8263, 1.6234,\n",
       "        1.3257, 1.6440, 0.8895, 2.0810, 0.8263, 1.6234, 1.7677, 1.6440, 1.4410,\n",
       "        1.4410, 0.8895, 1.5810, 1.3367, 1.3367, 1.6551, 2.0810, 2.4181, 1.2952,\n",
       "        1.9618, 1.3257, 1.6440, 1.4410, 3.0902, 1.9618, 1.6551, 0.8895, 1.3257,\n",
       "        2.0810, 1.3367, 1.6440, 0.9422])"
      ]
     },
     "execution_count": 35,
     "metadata": {},
     "output_type": "execute_result"
    }
   ],
   "source": [
    "system_matrix = EXSListmodeSystemMatrix(object_meta=object_meta, proj_meta=proj_meta_listmode)\n",
    "sample_object = torch.rand(object_meta.shape) # object has batch dimension\n",
    "sample_projections = system_matrix.forward(sample_object)\n",
    "sample_projections"
   ]
  },
  {
   "cell_type": "markdown",
   "id": "1aa08b40",
   "metadata": {
    "papermill": {
     "duration": 0.012837,
     "end_time": "2024-11-19T22:42:40.589418",
     "exception": false,
     "start_time": "2024-11-19T22:42:40.576581",
     "status": "completed"
    },
    "tags": []
   },
   "source": [
    "Note that our \"projections\" are now in listmode format: namely, these correspond to forward projected values at all the \"detector_ids\" which formed our listmode dataset. The backward method is analogous:"
   ]
  },
  {
   "cell_type": "code",
   "execution_count": 36,
   "id": "43e643fa",
   "metadata": {
    "execution": {
     "iopub.execute_input": "2024-11-19T22:42:40.612970Z",
     "iopub.status.busy": "2024-11-19T22:42:40.612596Z",
     "iopub.status.idle": "2024-11-19T22:42:40.619728Z",
     "shell.execute_reply": "2024-11-19T22:42:40.619074Z"
    },
    "papermill": {
     "duration": 0.020883,
     "end_time": "2024-11-19T22:42:40.621604",
     "exception": false,
     "start_time": "2024-11-19T22:42:40.600721",
     "status": "completed"
    },
    "tags": []
   },
   "outputs": [],
   "source": [
    "class EXSListmodeSystemMatrix(SystemMatrix):\n",
    "    # ----\n",
    "    # SAME AS ABOVE\n",
    "    # ----\n",
    "    def forward(self, object, subset_idx = None):\n",
    "        # There is probably a faster implementation, but I am trying to keep it simple for illustration purposes\n",
    "        projections = []\n",
    "        for i, detector_id in enumerate(self.proj_meta.detector_ids):\n",
    "            coord = self.proj_meta.scanner_LUT[detector_id]\n",
    "            sensitivity_factor_i = self.proj_meta.sensitivity_at_ids[detector_id]\n",
    "            if coord[0]==0: # If angle 0:\n",
    "                projections.append(object[:,coord[1],coord[2]].sum() *  sensitivity_factor_i) # sum along x\n",
    "            elif coord[0]==1: # If angle 90:\n",
    "                projections.append(object[coord[1],:,coord[2]].sum() * sensitivity_factor_i)  # sum along y\n",
    "        return torch.tensor(projections)\n",
    "    # ---\n",
    "    # NEW CODE\n",
    "    # ---\n",
    "    def backward(self, projections, subset_idx = None):\n",
    "        # There is probably a faster implementation, but I am trying to keep it simple for illustration purposes\n",
    "        object = torch.zeros(object_meta.shape)\n",
    "        projections *= self.proj_meta.sensitivity_at_ids[self.proj_meta.detector_ids]\n",
    "        for i, detector_id in enumerate(detector_ids):\n",
    "            coord = self.proj_meta.scanner_LUT[detector_id]\n",
    "            if coord[0]==0: # If angle 0:\n",
    "                object[:,coord[1],coord[2]] += projections[i]\n",
    "            elif coord[0]==1: # If angle 90:\n",
    "                object[coord[1],:,coord[2]] += projections[i]\n",
    "        return object"
   ]
  },
  {
   "cell_type": "code",
   "execution_count": 37,
   "id": "0cf8e99a",
   "metadata": {
    "execution": {
     "iopub.execute_input": "2024-11-19T22:42:40.646181Z",
     "iopub.status.busy": "2024-11-19T22:42:40.645617Z",
     "iopub.status.idle": "2024-11-19T22:42:40.690809Z",
     "shell.execute_reply": "2024-11-19T22:42:40.690237Z"
    },
    "papermill": {
     "duration": 0.058901,
     "end_time": "2024-11-19T22:42:40.692265",
     "exception": false,
     "start_time": "2024-11-19T22:42:40.633364",
     "status": "completed"
    },
    "tags": []
   },
   "outputs": [],
   "source": [
    "system_matrix = EXSListmodeSystemMatrix(object_meta=object_meta, proj_meta=proj_meta_listmode)\n",
    "sample_object = torch.rand(object_meta.shape) # object has batch dimension\n",
    "FP = system_matrix.forward(sample_object)\n",
    "BP = system_matrix.backward(FP)"
   ]
  },
  {
   "cell_type": "markdown",
   "id": "1e69772e",
   "metadata": {
    "papermill": {
     "duration": 0.012116,
     "end_time": "2024-11-19T22:42:40.719315",
     "exception": false,
     "start_time": "2024-11-19T22:42:40.707199",
     "status": "completed"
    },
    "tags": []
   },
   "source": [
    "The computation of the normalization factor for listmode reconstruction is slightly more nuanced since it requires defining a \"projection of all 1s\". In this case, the projection of all 1s corresponds to a value of 1 in each location of the scanner LUT.\n",
    "\n",
    "* This is distinct from the regular forward/back projection which projects to all the measured detector IDs. For example, if we measure 1000 events, then forward projection produces an array of size 1000, and back projection takes in projections of size 1000 to produce an object. Computation of the normalization factor, however, takes in detector IDs corresponding to each detector, in the case $M=3$, it would take in 18 detector IDs"
   ]
  },
  {
   "cell_type": "code",
   "execution_count": 38,
   "id": "b9aeacd0",
   "metadata": {
    "execution": {
     "iopub.execute_input": "2024-11-19T22:42:40.743404Z",
     "iopub.status.busy": "2024-11-19T22:42:40.743064Z",
     "iopub.status.idle": "2024-11-19T22:42:40.750563Z",
     "shell.execute_reply": "2024-11-19T22:42:40.749948Z"
    },
    "papermill": {
     "duration": 0.02127,
     "end_time": "2024-11-19T22:42:40.751872",
     "exception": false,
     "start_time": "2024-11-19T22:42:40.730602",
     "status": "completed"
    },
    "tags": []
   },
   "outputs": [],
   "source": [
    "class EXSListmodeSystemMatrix(SystemMatrix):\n",
    "    # ----\n",
    "    # SAME AS ABOVE\n",
    "    # ----\n",
    "    def forward(self, object, subset_idx = None):\n",
    "        # There is probably a faster implementation, but I am trying to keep it simple for illustration purposes\n",
    "        projections = []\n",
    "        for i, detector_id in enumerate(self.proj_meta.detector_ids):\n",
    "            coord = self.proj_meta.scanner_LUT[detector_id]\n",
    "            sensitivity_factor_i = self.proj_meta.sensitivity_at_ids[detector_id]\n",
    "            if coord[0]==0: # If angle 0:\n",
    "                projections.append(object[:,coord[1],coord[2]].sum() *  sensitivity_factor_i) # sum along x\n",
    "            elif coord[0]==1: # If angle 90:\n",
    "                projections.append(object[coord[1],:,coord[2]].sum() * sensitivity_factor_i)  # sum along y\n",
    "        return torch.tensor(projections)\n",
    "    def backward(self, projections, subset_idx = None):\n",
    "        # There is probably a faster implementation, but I am trying to keep it simple for illustration purposes\n",
    "        object = torch.zeros(object_meta.shape)\n",
    "        projections *= self.proj_meta.sensitivity_at_ids[self.proj_meta.detector_ids]\n",
    "        for i, detector_id in enumerate(detector_ids):\n",
    "            coord = self.proj_meta.scanner_LUT[detector_id]\n",
    "            if coord[0]==0: # If angle 0:\n",
    "                object[:,coord[1],coord[2]] += projections[i]\n",
    "            elif coord[0]==1: # If angle 90:\n",
    "                object[coord[1],:,coord[2]] += projections[i]\n",
    "        return object\n",
    "    # ----\n",
    "    # NEW CODE\n",
    "    # ----\n",
    "    def compute_normalization_factor(self):\n",
    "        norm_BP = torch.zeros(object_meta.shape)\n",
    "        # Now we loop through unique detector ids instead\n",
    "        unique_detector_ids = torch.arange(scanner_LUT.shape[0])\n",
    "        for i, detector_id in enumerate(unique_detector_ids):\n",
    "            coord = self.proj_meta.scanner_LUT[detector_id]\n",
    "            sensitivity_factor_i = self.proj_meta.sensitivity_at_ids[detector_id]\n",
    "            if coord[0]==0: # If angle 0:\n",
    "                norm_BP[:,coord[1],coord[2]] += sensitivity_factor_i\n",
    "            elif coord[0]==1: # If angle 90:\n",
    "                norm_BP[coord[1],:,coord[2]] += sensitivity_factor_i\n",
    "        return norm_BP"
   ]
  },
  {
   "cell_type": "code",
   "execution_count": 39,
   "id": "92cb175c",
   "metadata": {
    "execution": {
     "iopub.execute_input": "2024-11-19T22:42:40.775441Z",
     "iopub.status.busy": "2024-11-19T22:42:40.775079Z",
     "iopub.status.idle": "2024-11-19T22:42:40.779920Z",
     "shell.execute_reply": "2024-11-19T22:42:40.779346Z"
    },
    "papermill": {
     "duration": 0.01808,
     "end_time": "2024-11-19T22:42:40.781203",
     "exception": false,
     "start_time": "2024-11-19T22:42:40.763123",
     "status": "completed"
    },
    "tags": []
   },
   "outputs": [
    {
     "data": {
      "text/plain": [
       "tensor([[1.2862, 1.0203, 1.2276],\n",
       "        [1.2767, 1.2802, 1.2021],\n",
       "        [1.2675, 1.1575, 1.2548]])"
      ]
     },
     "execution_count": 39,
     "metadata": {},
     "output_type": "execute_result"
    }
   ],
   "source": [
    "sensitivity_factor"
   ]
  },
  {
   "cell_type": "code",
   "execution_count": 40,
   "id": "8fa09e9a",
   "metadata": {
    "execution": {
     "iopub.execute_input": "2024-11-19T22:42:40.805665Z",
     "iopub.status.busy": "2024-11-19T22:42:40.805249Z",
     "iopub.status.idle": "2024-11-19T22:42:40.809736Z",
     "shell.execute_reply": "2024-11-19T22:42:40.809206Z"
    },
    "papermill": {
     "duration": 0.018185,
     "end_time": "2024-11-19T22:42:40.811126",
     "exception": false,
     "start_time": "2024-11-19T22:42:40.792941",
     "status": "completed"
    },
    "tags": []
   },
   "outputs": [],
   "source": [
    "system_matrix = EXSListmodeSystemMatrix(object_meta=object_meta, proj_meta=proj_meta_listmode)\n",
    "norm_BP = system_matrix.compute_normalization_factor()"
   ]
  },
  {
   "cell_type": "code",
   "execution_count": 41,
   "id": "ed422116",
   "metadata": {
    "execution": {
     "iopub.execute_input": "2024-11-19T22:42:40.835237Z",
     "iopub.status.busy": "2024-11-19T22:42:40.834855Z",
     "iopub.status.idle": "2024-11-19T22:42:40.958759Z",
     "shell.execute_reply": "2024-11-19T22:42:40.957875Z"
    },
    "papermill": {
     "duration": 0.138322,
     "end_time": "2024-11-19T22:42:40.960605",
     "exception": false,
     "start_time": "2024-11-19T22:42:40.822283",
     "status": "completed"
    },
    "tags": []
   },
   "outputs": [
    {
     "data": {
      "text/plain": [
       "<matplotlib.colorbar.Colorbar at 0x7fb3c0637910>"
      ]
     },
     "execution_count": 41,
     "metadata": {},
     "output_type": "execute_result"
    },
    {
     "data": {
      "image/png": "[encoded data removed]",
      "text/plain": [
       "<Figure size 200x200 with 2 Axes>"
      ]
     },
     "metadata": {},
     "output_type": "display_data"
    }
   ],
   "source": [
    "plt.figure(figsize=(2,2))\n",
    "plt.pcolormesh(norm_BP[:,:,1])\n",
    "plt.colorbar()"
   ]
  },
  {
   "cell_type": "markdown",
   "id": "ce5513ff",
   "metadata": {
    "papermill": {
     "duration": 0.011441,
     "end_time": "2024-11-19T22:42:40.985941",
     "exception": false,
     "start_time": "2024-11-19T22:42:40.974500",
     "status": "completed"
    },
    "tags": []
   },
   "source": [
    "Now we can use the listmode system matrix with the rest of the library.\n",
    "\n",
    "**For list mode system matrices, we no longer need to provide `projections` to the likelihood function**"
   ]
  },
  {
   "cell_type": "code",
   "execution_count": 42,
   "id": "90bce2c6",
   "metadata": {
    "execution": {
     "iopub.execute_input": "2024-11-19T22:42:41.014743Z",
     "iopub.status.busy": "2024-11-19T22:42:41.014359Z",
     "iopub.status.idle": "2024-11-19T22:42:41.018207Z",
     "shell.execute_reply": "2024-11-19T22:42:41.017578Z"
    },
    "papermill": {
     "duration": 0.017812,
     "end_time": "2024-11-19T22:42:41.019481",
     "exception": false,
     "start_time": "2024-11-19T22:42:41.001669",
     "status": "completed"
    },
    "tags": []
   },
   "outputs": [],
   "source": [
    "system_matrix = EXSListmodeSystemMatrix(object_meta=object_meta, proj_meta=proj_meta_listmode)\n",
    "likelihood = NegativeMSELikelihood(system_matrix, scaling_constant=0.01)\n",
    "reconstruction_algorithm = OSEM(likelihood)"
   ]
  },
  {
   "cell_type": "code",
   "execution_count": 43,
   "id": "9893b652",
   "metadata": {
    "execution": {
     "iopub.execute_input": "2024-11-19T22:42:41.043160Z",
     "iopub.status.busy": "2024-11-19T22:42:41.042823Z",
     "iopub.status.idle": "2024-11-19T22:42:42.681511Z",
     "shell.execute_reply": "2024-11-19T22:42:42.680612Z"
    },
    "papermill": {
     "duration": 1.652942,
     "end_time": "2024-11-19T22:42:42.683447",
     "exception": false,
     "start_time": "2024-11-19T22:42:41.030505",
     "status": "completed"
    },
    "tags": []
   },
   "outputs": [],
   "source": [
    "recon = reconstruction_algorithm(n_iters=40)"
   ]
  },
  {
   "cell_type": "code",
   "execution_count": 44,
   "id": "83b34a34",
   "metadata": {
    "execution": {
     "iopub.execute_input": "2024-11-19T22:42:42.708361Z",
     "iopub.status.busy": "2024-11-19T22:42:42.707928Z",
     "iopub.status.idle": "2024-11-19T22:42:42.793314Z",
     "shell.execute_reply": "2024-11-19T22:42:42.792639Z"
    },
    "papermill": {
     "duration": 0.098963,
     "end_time": "2024-11-19T22:42:42.794892",
     "exception": false,
     "start_time": "2024-11-19T22:42:42.695929",
     "status": "completed"
    },
    "tags": []
   },
   "outputs": [
    {
     "data": {
      "text/plain": [
       "<matplotlib.colorbar.Colorbar at 0x7fb3c0397590>"
      ]
     },
     "execution_count": 44,
     "metadata": {},
     "output_type": "execute_result"
    },
    {
     "data": {
      "image/png": "[encoded data removed]",
      "text/plain": [
       "<Figure size 200x200 with 2 Axes>"
      ]
     },
     "metadata": {},
     "output_type": "display_data"
    }
   ],
   "source": [
    "plt.figure(figsize=(2,2))\n",
    "plt.pcolormesh(recon[:,:,1], vmin=0, cmap='nipy_spectral')\n",
    "plt.axis('off')\n",
    "plt.colorbar()"
   ]
  },
  {
   "cell_type": "markdown",
   "id": "dc2a8e5b",
   "metadata": {
    "papermill": {
     "duration": 0.011324,
     "end_time": "2024-11-19T22:42:42.819291",
     "exception": false,
     "start_time": "2024-11-19T22:42:42.807967",
     "status": "completed"
    },
    "tags": []
   },
   "source": [
    "## Part 2: Incorporating Subsets"
   ]
  },
  {
   "cell_type": "markdown",
   "id": "0ac55a2f",
   "metadata": {
    "papermill": {
     "duration": 0.011585,
     "end_time": "2024-11-19T22:42:42.843916",
     "exception": false,
     "start_time": "2024-11-19T22:42:42.832331",
     "status": "completed"
    },
    "tags": []
   },
   "source": [
    "Incorporating subsets is slightly more intuitive with listmode data. In this case, we split up all the detected events into $N$ approximately equal subsets using the `torch.tensor_split` function"
   ]
  },
  {
   "cell_type": "code",
   "execution_count": 45,
   "id": "7ddc7653",
   "metadata": {
    "execution": {
     "iopub.execute_input": "2024-11-19T22:42:42.870503Z",
     "iopub.status.busy": "2024-11-19T22:42:42.870070Z",
     "iopub.status.idle": "2024-11-19T22:42:42.880572Z",
     "shell.execute_reply": "2024-11-19T22:42:42.879949Z"
    },
    "papermill": {
     "duration": 0.025889,
     "end_time": "2024-11-19T22:42:42.881877",
     "exception": false,
     "start_time": "2024-11-19T22:42:42.855988",
     "status": "completed"
    },
    "tags": []
   },
   "outputs": [],
   "source": [
    "class EXSListmodeSystemMatrix(SystemMatrix):\n",
    "    # ----\n",
    "    # NEW CODE\n",
    "    # ----\n",
    "    def set_n_subsets(self, n_subsets):\n",
    "        self.n_subsets = n_subsets\n",
    "        idx = torch.arange(proj_meta_listmode.detector_ids.shape[0])\n",
    "        self.subset_indices_array = torch.tensor_split(idx, self.n_subsets)\n",
    "    def get_projection_subset(self, projections, subset_idx):\n",
    "        # Needs to consider cases where projection is simply a 1 element tensor in the numerator, but also cases of scatter where it is a longer tensor\n",
    "        if (projections.shape[0]>1)*(subset_idx is not None):\n",
    "            subset_indices = self.subset_indices_array[subset_idx]\n",
    "            proj_subset = projections[subset_indices]\n",
    "        else:\n",
    "            proj_subset = projections\n",
    "        return proj_subset\n",
    "    def get_weighting_subset(self, subset_idx):\n",
    "        if subset_idx is None:\n",
    "            return 1\n",
    "        else:\n",
    "            # Fraction of events in the subset\n",
    "            return self.subset_indices_array[subset_idx].shape[0] / proj_meta_listmode.detector_ids.shape[0]\n",
    "    def forward(self, object, subset_idx = None):\n",
    "        # There is probably a faster implementation, but I am trying to keep it simple for illustration purposes\n",
    "        projections = []\n",
    "        if subset_idx is None:\n",
    "            detector_ids_subset = self.proj_meta.detector_ids\n",
    "        else:\n",
    "            detector_ids_subset = self.proj_meta.detector_ids[self.subset_indices_array[subset_idx]]\n",
    "        for i, detector_id in enumerate(detector_ids_subset):\n",
    "            coord = self.proj_meta.scanner_LUT[detector_id]\n",
    "            sensitivity_factor_i = self.proj_meta.sensitivity_at_ids[detector_id]\n",
    "            if coord[0]==0: # If angle 0:\n",
    "                projections.append(object[:,coord[1],coord[2]].sum() *  sensitivity_factor_i) # sum along x\n",
    "            elif coord[0]==1: # If angle 90:\n",
    "                projections.append(object[coord[1],:,coord[2]].sum() * sensitivity_factor_i)  # sum along y\n",
    "        return torch.tensor(projections)\n",
    "    def backward(self, projections, subset_idx = None):\n",
    "        # There is probably a faster implementation, but I am trying to keep it simple for illustration purposes\n",
    "        object = torch.zeros(object_meta.shape)\n",
    "        if subset_idx is None:\n",
    "            detector_ids_subset = self.proj_meta.detector_ids\n",
    "        else:\n",
    "            detector_ids_subset = self.proj_meta.detector_ids[self.subset_indices_array[subset_idx]]\n",
    "        projections *= self.proj_meta.sensitivity_at_ids[detector_ids_subset]\n",
    "        for i, detector_id in enumerate(detector_ids_subset):\n",
    "            coord = self.proj_meta.scanner_LUT[detector_id]\n",
    "            if coord[0]==0: # If angle 0:\n",
    "                object[:,coord[1],coord[2]] += projections[i]\n",
    "            elif coord[0]==1: # If angle 90:\n",
    "                object[coord[1],:,coord[2]] += projections[i]\n",
    "        return object\n",
    "    def compute_normalization_factor(self, subset_idx=None):\n",
    "        fraction_considered = self.get_weighting_subset(subset_idx)\n",
    "        norm_BP = torch.zeros(object_meta.shape)\n",
    "        # Now we loop through unique detector ids instead\n",
    "        unique_detector_ids = torch.arange(scanner_LUT.shape[0])\n",
    "        for i, detector_id in enumerate(unique_detector_ids):\n",
    "            coord = self.proj_meta.scanner_LUT[detector_id]\n",
    "            sensitivity_factor_i = self.proj_meta.sensitivity_at_ids[detector_id]\n",
    "            if coord[0]==0: # If angle 0:\n",
    "                norm_BP[:,coord[1],coord[2]] += sensitivity_factor_i\n",
    "            elif coord[0]==1: # If angle 90:\n",
    "                norm_BP[coord[1],:,coord[2]] += sensitivity_factor_i\n",
    "        return norm_BP * fraction_considered"
   ]
  },
  {
   "cell_type": "code",
   "execution_count": 46,
   "id": "a2debf5a",
   "metadata": {
    "execution": {
     "iopub.execute_input": "2024-11-19T22:42:42.906196Z",
     "iopub.status.busy": "2024-11-19T22:42:42.905627Z",
     "iopub.status.idle": "2024-11-19T22:42:42.909300Z",
     "shell.execute_reply": "2024-11-19T22:42:42.908754Z"
    },
    "papermill": {
     "duration": 0.017123,
     "end_time": "2024-11-19T22:42:42.910590",
     "exception": false,
     "start_time": "2024-11-19T22:42:42.893467",
     "status": "completed"
    },
    "tags": []
   },
   "outputs": [],
   "source": [
    "system_matrix = EXSListmodeSystemMatrix(object_meta=object_meta, proj_meta=proj_meta_listmode)\n",
    "likelihood = NegativeMSELikelihood(system_matrix, scaling_constant=0.01)\n",
    "reconstruction_algorithm = OSEM(likelihood)"
   ]
  },
  {
   "cell_type": "code",
   "execution_count": 47,
   "id": "66a7cea9",
   "metadata": {
    "execution": {
     "iopub.execute_input": "2024-11-19T22:42:42.935140Z",
     "iopub.status.busy": "2024-11-19T22:42:42.934681Z",
     "iopub.status.idle": "2024-11-19T22:42:45.515625Z",
     "shell.execute_reply": "2024-11-19T22:42:45.514558Z"
    },
    "papermill": {
     "duration": 2.595581,
     "end_time": "2024-11-19T22:42:45.518115",
     "exception": false,
     "start_time": "2024-11-19T22:42:42.922534",
     "status": "completed"
    },
    "tags": []
   },
   "outputs": [],
   "source": [
    "recon_2subsets = reconstruction_algorithm(n_iters=20, n_subsets=2)\n",
    "reconstruction_algorithm = OSEM(likelihood)\n",
    "recon_1subset = reconstruction_algorithm(n_iters=40)"
   ]
  },
  {
   "cell_type": "markdown",
   "id": "1371e63c",
   "metadata": {
    "papermill": {
     "duration": 0.011251,
     "end_time": "2024-11-19T22:42:45.542647",
     "exception": false,
     "start_time": "2024-11-19T22:42:45.531396",
     "status": "completed"
    },
    "tags": []
   },
   "source": [
    "Now lets plot the reconstructions:"
   ]
  },
  {
   "cell_type": "code",
   "execution_count": 48,
   "id": "8e190a1d",
   "metadata": {
    "execution": {
     "iopub.execute_input": "2024-11-19T22:42:45.569088Z",
     "iopub.status.busy": "2024-11-19T22:42:45.568444Z",
     "iopub.status.idle": "2024-11-19T22:42:45.730212Z",
     "shell.execute_reply": "2024-11-19T22:42:45.729582Z"
    },
    "papermill": {
     "duration": 0.17736,
     "end_time": "2024-11-19T22:42:45.731917",
     "exception": false,
     "start_time": "2024-11-19T22:42:45.554557",
     "status": "completed"
    },
    "tags": []
   },
   "outputs": [
    {
     "data": {
      "text/plain": [
       "<matplotlib.colorbar.Colorbar at 0x7fb3c02a7150>"
      ]
     },
     "execution_count": 48,
     "metadata": {},
     "output_type": "execute_result"
    },
    {
     "data": {
      "image/png": "[encoded data removed]",
      "text/plain": [
       "<Figure size 400x200 with 4 Axes>"
      ]
     },
     "metadata": {},
     "output_type": "display_data"
    }
   ],
   "source": [
    "max_value = max([recon_1subset[:,:,1].max().item(), recon_1subset[:,:,1].max().item()])\n",
    "plt.figure(figsize=(4,2))\n",
    "plt.subplot(121)\n",
    "plt.pcolormesh(recon_1subset[:,:,1], vmin=0, vmax=max_value, cmap='nipy_spectral')\n",
    "plt.axis('off')\n",
    "plt.colorbar()\n",
    "plt.subplot(122)\n",
    "plt.pcolormesh(recon_2subsets[:,:,1], vmin=0, vmax=max_value, cmap='nipy_spectral')\n",
    "plt.axis('off')\n",
    "plt.colorbar()"
   ]
  },
  {
   "cell_type": "markdown",
   "id": "73b08003",
   "metadata": {
    "papermill": {
     "duration": 0.011503,
     "end_time": "2024-11-19T22:42:45.756843",
     "exception": false,
     "start_time": "2024-11-19T22:42:45.745340",
     "status": "completed"
    },
    "tags": []
   },
   "source": [
    "For a better imaging system (we're not collecting nearly enough angles here), these two images should look very similar."
   ]
  }
 ],
 "metadata": {
  "kernelspec": {
   "display_name": "pytomo_install_test",
   "language": "python",
   "name": "python3"
  },
  "language_info": {
   "codemirror_mode": {
    "name": "ipython",
    "version": 3
   },
   "file_extension": ".py",
   "mimetype": "text/x-python",
   "name": "python",
   "nbconvert_exporter": "python",
   "pygments_lexer": "ipython3",
   "version": "3.11.10"
  },
  "papermill": {
   "default_parameters": {},
   "duration": 13.046144,
   "end_time": "2024-11-19T22:42:46.889182",
   "environment_variables": {},
   "exception": null,
   "input_path": "t_examplesystemmatrix.ipynb",
   "output_path": "t_examplesystemmatrix.ipynb",
   "parameters": {},
   "start_time": "2024-11-19T22:42:33.843038",
   "version": "2.6.0"
  }
 },
 "nbformat": 4,
 "nbformat_minor": 5
}