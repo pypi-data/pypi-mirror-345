{
 "cells": [
  {
   "cell_type": "code",
   "execution_count": null,
   "id": "initial_id",
   "metadata": {
    "collapsed": true
   },
   "outputs": [],
   "source": [
    "import plotly.graph_objects as go\n",
    "\n",
    "dt_tm = pd.to_datetime('2024-07-15 11:00')\n",
    "lwin  = data.loc[dt_tm,'LW_IN']\n",
    "lwout = data.loc[dt_tm,'LW_OUT']\n",
    "swin = data.loc[dt_tm,'SW_IN']\n",
    "swout = data.loc[dt_tm,'SW_OUT']\n",
    "shf = data.loc[dt_tm,'G']\n",
    "le = data.loc[dt_tm,'LE']\n",
    "h = data.loc[dt_tm,'H']\n",
    "netrad = data.loc[dt_tm,'NETRAD']\n",
    "\n",
    "\n",
    "import plotly.graph_objects as go\n",
    "\n",
    "fig = go.Figure(data=[go.Sankey(\n",
    "    node = dict(\n",
    "        pad = 15,\n",
    "        thickness = 20,\n",
    "        line = dict(color = \"black\", width = 0.5),\n",
    "        label = [\"Longwave In\", \"Shortwave In\",\"Energy In\", \"Net Radiation\",\"Longwave Out\", \"Shortwave Out\",\"Soil Heat Flux\",\"Latent Energy\",\"Sensible Heat\"],\n",
    "        color = ['red','yellow','orange','red','yellow','green','blue','orange']\n",
    "    ),\n",
    "    link = dict(\n",
    "        source = [0,1,2,2,2,3,3,3,], # indices correspond to labels, eg A1, A2, A1, B1, ...\n",
    "        target = [2,2,3,4,5,6,7,8,],\n",
    "        value = [lwin,swin,netrad,lwout,swout,shf,le,h],\n",
    "        color = ['red','yellow','red','yellow','green','blue','orange']\n",
    "    ))])\n",
    "\n",
    "fig.update_layout(title_text=\"Basic Sankey Diagram\", font_size=10)\n",
    "fig.show()"
   ]
  }
 ],
 "metadata": {
  "kernelspec": {
   "display_name": "Python 3",
   "language": "python",
   "name": "python3"
  },
  "language_info": {
   "codemirror_mode": {
    "name": "ipython",
    "version": 2
   },
   "file_extension": ".py",
   "mimetype": "text/x-python",
   "name": "python",
   "nbconvert_exporter": "python",
   "pygments_lexer": "ipython2",
   "version": "2.7.6"
  }
 },
 "nbformat": 4,
 "nbformat_minor": 5
}
