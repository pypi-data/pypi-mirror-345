{
 "cells": [
  {
   "cell_type": "code",
   "execution_count": 1,
   "metadata": {},
   "outputs": [
    {
     "name": "stdout",
     "output_type": "stream",
     "text": [
      "Using device CUDA with 1 CPUs\n"
     ]
    }
   ],
   "source": [
    "from anarcii import Anarcii\n",
    "\n",
    "model = Anarcii(\n",
    "    seq_type=\"antibody\",\n",
    "    batch_size=128,\n",
    "    cpu=False,\n",
    "    ncpu=1,\n",
    "    mode=\"accuracy\",\n",
    "    verbose=False,\n",
    ")\n",
    "\n",
    "seq = \"SYVLTQPPSVSVAPGKTARITCGGNNIGSKSVHWYQQKPGQAPVLVVYDDSDRPSGIPERFSGSNSGNTATLTISRVEAGDEADYFCQVWDGSGDHPGYVFGTGTKVTVL\"\n",
    "\n",
    "results = model.number(seq)"
   ]
  },
  {
   "cell_type": "code",
   "execution_count": 9,
   "metadata": {},
   "outputs": [
    {
     "name": "stdout",
     "output_type": "stream",
     "text": [
      "[((105, ' '), 'Q'), ((106, ' '), 'V'), ((107, ' '), 'W'), ((108, ' '), 'D'), ((109, ' '), 'G'), ((110, ' '), 'S'), ((111, ' '), 'G'), ((112, ' '), 'D'), ((113, ' '), 'H'), ((114, ' '), 'P'), ((115, ' '), 'G'), ((116, ' '), 'Y'), ((117, ' '), 'V'), ((118, ' '), 'F'), ((119, ' '), 'G'), ((120, ' '), 'T'), ((121, ' '), 'G'), ((122, ' '), 'T'), ((123, ' '), 'K'), ((124, ' '), 'V'), ((125, ' '), 'T'), ((126, ' '), 'V'), ((127, ' '), 'L'), ((128, ' '), '-')] \n",
      "\n",
      "Last output converted to martin \n",
      "\n",
      "[((88, ' '), 'C'), ((89, ' '), 'Q'), ((90, ' '), 'V'), ((91, ' '), 'W'), ((92, ' '), 'D'), ((93, ' '), 'G'), ((94, ' '), 'S'), ((95, ' '), 'G'), ((95, 'A'), 'D'), ((95, 'B'), 'H'), ((95, 'C'), 'P'), ((95, 'D'), 'G'), ((96, ' '), 'Y'), ((97, ' '), 'V'), ((98, ' '), 'F'), ((99, ' '), 'G'), ((100, ' '), 'T'), ((101, ' '), 'G'), ((102, ' '), 'T'), ((103, ' '), 'K'), ((104, ' '), 'V'), ((105, ' '), 'T'), ((106, ' '), 'V'), ((107, ' '), 'L')] \n",
      "\n",
      "Last output converted to kabat \n",
      "\n",
      "[((88, ' '), 'C'), ((89, ' '), 'Q'), ((90, ' '), 'V'), ((91, ' '), 'W'), ((92, ' '), 'D'), ((93, ' '), 'G'), ((94, ' '), 'S'), ((95, ' '), 'G'), ((95, 'A'), 'D'), ((95, 'B'), 'H'), ((95, 'C'), 'P'), ((95, 'D'), 'G'), ((96, ' '), 'Y'), ((97, ' '), 'V'), ((98, ' '), 'F'), ((99, ' '), 'G'), ((100, ' '), 'T'), ((101, ' '), 'G'), ((102, ' '), 'T'), ((103, ' '), 'K'), ((104, ' '), 'V'), ((105, ' '), 'T'), ((106, ' '), 'V'), ((107, ' '), 'L')] \n",
      "\n",
      "Last output converted to martin \n",
      "\n",
      "[((88, ' '), 'C'), ((89, ' '), 'Q'), ((90, ' '), 'V'), ((91, ' '), 'W'), ((92, ' '), 'D'), ((93, ' '), 'G'), ((94, ' '), 'S'), ((95, ' '), 'G'), ((95, 'A'), 'D'), ((95, 'B'), 'H'), ((95, 'C'), 'P'), ((95, 'D'), 'G'), ((96, ' '), 'Y'), ((97, ' '), 'V'), ((98, ' '), 'F'), ((99, ' '), 'G'), ((100, ' '), 'T'), ((101, ' '), 'G'), ((102, ' '), 'T'), ((103, ' '), 'K'), ((104, ' '), 'V'), ((105, ' '), 'T'), ((106, ' '), 'V'), ((107, ' '), 'L')] \n",
      "\n",
      "Last output converted to chothia \n",
      "\n",
      "[((88, ' '), 'C'), ((89, ' '), 'Q'), ((90, ' '), 'V'), ((91, ' '), 'W'), ((92, ' '), 'D'), ((93, ' '), 'G'), ((94, ' '), 'S'), ((95, ' '), 'G'), ((95, 'A'), 'D'), ((95, 'B'), 'H'), ((95, 'C'), 'P'), ((95, 'D'), 'G'), ((96, ' '), 'Y'), ((97, ' '), 'V'), ((98, ' '), 'F'), ((99, ' '), 'G'), ((100, ' '), 'T'), ((101, ' '), 'G'), ((102, ' '), 'T'), ((103, ' '), 'K'), ((104, ' '), 'V'), ((105, ' '), 'T'), ((106, ' '), 'V'), ((107, ' '), 'L')] \n",
      "\n",
      "Last output converted to aho \n",
      "\n",
      "[((125, ' '), '-'), ((126, ' '), '-'), ((127, ' '), '-'), ((128, ' '), '-'), ((129, ' '), '-'), ((130, ' '), '-'), ((131, ' '), '-'), ((132, ' '), '-'), ((133, ' '), 'D'), ((134, ' '), 'H'), ((135, ' '), 'P'), ((136, ' '), 'G'), ((137, ' '), 'Y'), ((138, ' '), 'V'), ((139, ' '), 'F'), ((140, ' '), 'G'), ((141, ' '), 'T'), ((142, ' '), 'G'), ((143, ' '), 'T'), ((144, ' '), 'K'), ((145, ' '), 'V'), ((146, ' '), 'T'), ((147, ' '), 'V'), ((148, ' '), 'L')] \n",
      "\n"
     ]
    }
   ],
   "source": [
    "schemes = [\n",
    "    \"imgt\", # No need to convert - just returns.\n",
    "    \"martin\",\"kabat\",\"martin\",\"chothia\",\"aho\"]\n",
    "\n",
    "for sch in schemes:\n",
    "    res = model.to_scheme(sch)\n",
    "    print(res['Sequence']['numbering'][-24:], \"\\n\")"
   ]
  }
 ],
 "metadata": {
  "kernelspec": {
   "display_name": "mobydick",
   "language": "python",
   "name": "python3"
  },
  "language_info": {
   "codemirror_mode": {
    "name": "ipython",
    "version": 3
   },
   "file_extension": ".py",
   "mimetype": "text/x-python",
   "name": "python",
   "nbconvert_exporter": "python",
   "pygments_lexer": "ipython3",
   "version": "3.13.2"
  }
 },
 "nbformat": 4,
 "nbformat_minor": 2
}
