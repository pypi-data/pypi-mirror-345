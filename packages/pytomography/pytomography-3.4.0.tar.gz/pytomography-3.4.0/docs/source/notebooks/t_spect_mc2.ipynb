{
 "cells": [
  {
   "cell_type": "markdown",
   "metadata": {},
   "source": [
    "# Hybrid-MC: DICOM Data"
   ]
  },
  {
   "cell_type": "markdown",
   "metadata": {},
   "source": [
    "Hybrid Monte Carlo (MC) SPECT reconstruction. uses SIMIND as a backend. See the website https://simind.blogg.lu.se/exempelsida/ for instructions on how to install, and how to cite their work. Once `simind` has been set as a path variable on your system (one of their install instructions), then you should be able to run the code of this tutorial.\n",
    "\n",
    "Hybrid MC SPECT reconstruction replaces conventional forward projection $\\bar{y} =H \\hat{x}$ with an MC prediction $\\bar{y}_{\\text{MC}} = \\hat{H}_{\\text{MC}}\\hat{x}$. In practice, the term $\\hat{H}_{\\text{MC}}\\hat{x}$ is estimated all at once via simulation of many individual photons; $\\hat{H}_{\\text{MC}}$ is given a hat because it is effectively estimated using random variables. Unlike conventional reconstruction $\\hat{H}_{\\text{MC}}$ estimates the contribution from all photons, so a scatter correction term is not required."
   ]
  },
  {
   "cell_type": "code",
   "execution_count": 1,
   "metadata": {},
   "outputs": [],
   "source": [
    "import os\n",
    "import sys\n",
    "import matplotlib.pyplot as plt\n",
    "import torch\n",
    "import itk\n",
    "import numpy as np\n",
    "from torch.nn.functional import avg_pool3d\n",
    "import pytomography\n",
    "from pytomography.io.SPECT import simind, dicom\n",
    "from pytomography.io.SPECT.shared import subsample_projections_and_modify_metadata, subsample_amap, subsample_projections\n",
    "from pytomography.projectors.SPECT import MonteCarloHybridSPECTSystemMatrix\n",
    "from pytomography.transforms.SPECT import SPECTAttenuationTransform, SPECTPSFTransform\n",
    "from pytomography.algorithms import OSEM\n",
    "from pytomography.likelihoods import MonteCarloHybridSPECTPoissonLogLikelihood\n",
    "from pytomography.utils import simind_mc\n",
    "sys.path.append('./src')"
   ]
  },
  {
   "cell_type": "code",
   "execution_count": 2,
   "metadata": {},
   "outputs": [],
   "source": [
    "path = '/ac225listmode/pytomography_tutorial_data/SPECT'"
   ]
  },
  {
   "cell_type": "markdown",
   "metadata": {},
   "source": [
    "First we'll load the data from the introductory DICOM tutorial. We additioanlly create an attenuation map at 140 keV since this will be required for the MC forward projections.\n",
    "\n",
    "* The attenuation and PSF transform are used in the analytical back projection"
   ]
  },
  {
   "cell_type": "code",
   "execution_count": 3,
   "metadata": {},
   "outputs": [
    {
     "name": "stdout",
     "output_type": "stream",
     "text": [
      "Given photopeak energy 140.5 keV and CT energy 130 keV from the CT DICOM header, the HU->mu conversion from the following configuration is used: 140.0 keV SPECT energy, 130 keV CT energy, and scanner model symbiat2\n",
      "Given photopeak energy 208 keV and CT energy 130 keV from the CT DICOM header, the HU->mu conversion from the following configuration is used: 208.0 keV SPECT energy, 130 keV CT energy, and scanner model symbiat2\n"
     ]
    }
   ],
   "source": [
    "file_NM = os.path.join(path, 'Lu177-NEMA-SymT2', 'projection_data.dcm')\n",
    "path_CT = os.path.join(path, 'Lu177-NEMA-SymT2', 'CT')\n",
    "files_CT = [os.path.join(path_CT, f) for f in os.listdir(path_CT)] \n",
    "# 140 keV map is needed for MC forward projector\n",
    "amap140 = dicom.get_attenuation_map_from_CT_slices(files_CT, file_NM, E_SPECT=140.5)\n",
    "# 208keV is needed for analytical back projection\n",
    "amap208 = dicom.get_attenuation_map_from_CT_slices(files_CT, file_NM, E_SPECT=208)\n",
    "projections = dicom.get_projections(file_NM)\n",
    "object_meta, proj_meta = dicom.get_metadata(file_NM)\n",
    "att_transform = SPECTAttenuationTransform(amap208)\n",
    "collimator_name = 'SY-ME'\n",
    "energy_kev = 208 #keV\n",
    "intrinsic_resolution=0.38 #mm\n",
    "psf_meta = dicom.get_psfmeta_from_scanner_params(\n",
    "    collimator_name,\n",
    "    energy_kev,\n",
    "    intrinsic_resolution=intrinsic_resolution\n",
    ")\n",
    "psf_transform = SPECTPSFTransform(psf_meta)"
   ]
  },
  {
   "cell_type": "markdown",
   "metadata": {},
   "source": [
    "The first thing we need in the MC simulation is the energy window parameters from the projection data. This creates a list similar to a scattwin.win file in SIMIND"
   ]
  },
  {
   "cell_type": "code",
   "execution_count": 4,
   "metadata": {},
   "outputs": [
    {
     "data": {
      "text/plain": [
       "['187.19999694824,228.80000305176,0',\n",
       " '166.39999389648,187.19999694824,0',\n",
       " '228.80000305176,249.60000610352,0',\n",
       " '101.69999694824,124.30000305176,0',\n",
       " '85.879997253418,101.69999694824,0',\n",
       " '124.30000305176,146.89999389648,0']"
      ]
     },
     "execution_count": 4,
     "metadata": {},
     "output_type": "execute_result"
    }
   ],
   "source": [
    "energy_window_params = simind_mc.get_energy_window_params_dicom(file_NM) \n",
    "energy_window_params"
   ]
  },
  {
   "cell_type": "markdown",
   "metadata": {},
   "source": [
    "Now we specify the isotope and detector information that we'll need to feed into our reconstruction\n",
    "* This needs to be carefully configured for different isotopes"
   ]
  },
  {
   "cell_type": "code",
   "execution_count": 5,
   "metadata": {},
   "outputs": [],
   "source": [
    "isotope_names = ['lu177'] # isotope we want to simulate\n",
    "isotope_ratios = [1] # ratio of isotopes (in this case only 1)\n",
    "collimator_type = 'SY-ME' # collimator type to use\n",
    "cover_thickness = 0.1 # cover thickness in cm (aluminum assumed)\n",
    "backscatter_thickness = 6.6 # backscatter thickness in cm (pyrex)\n",
    "advanced_energy_resolution_model='siemens' \n",
    "# if the energy resolution model above is not used, then\n",
    "# the energy resolution needs to be provided at 140keV in\n",
    "# units of percent.\n",
    "energy_resolution_140keV = 10 # %\n",
    "crystal_thickness = 0.9525 # thickness in crystal in cm (NaI)"
   ]
  },
  {
   "cell_type": "markdown",
   "metadata": {},
   "source": [
    "We also need to choose the number of photons to simulate per projection, as well as the number of parallel CPU jobs to run. I find the 200 million photons per projection works reasonably well for most isotopes. Since I have a powerful computer, I use 90 CPU cores in parallel to run projection (if you have the option, you should select a computer with more CPU power as opposed to GPU power since SIMIND only runs on CPU).\n",
    "* Change `n_parallel` to how many CPU cores your system has, most have around 8-16."
   ]
  },
  {
   "cell_type": "code",
   "execution_count": null,
   "metadata": {},
   "outputs": [],
   "source": [
    "# this takes around 20min to run with 90 CPU cores\n",
    "n_events = 200e6\n",
    "n_parallel = 90"
   ]
  },
  {
   "cell_type": "markdown",
   "metadata": {},
   "source": [
    "Now we'll build the hybrid system matrix, which performs MC forward projection and analytical back projection"
   ]
  },
  {
   "cell_type": "code",
   "execution_count": null,
   "metadata": {},
   "outputs": [],
   "source": [
    "system_matrix = MonteCarloHybridSPECTSystemMatrix(\n",
    "    object_meta,\n",
    "    proj_meta,\n",
    "    obj2obj_transforms=[att_transform, psf_transform],\n",
    "    proj2proj_transforms=[],\n",
    "    attenuation_map_140keV=amap140,\n",
    "    energy_window_params=energy_window_params,\n",
    "    primary_window_idx=0, # based on the 208keV window from energy_window_params\n",
    "    isotope_names=isotope_names,\n",
    "    isotope_ratios=isotope_ratios,\n",
    "    collimator_type=collimator_type,\n",
    "    crystal_thickness=crystal_thickness,\n",
    "    cover_thickness=cover_thickness,\n",
    "    backscatter_thickness=backscatter_thickness,\n",
    "    advanced_energy_resolution_model=advanced_energy_resolution_model,\n",
    "    advanced_collimator_modeling=True,\n",
    "    n_events=n_events,\n",
    "    n_parallel=n_parallel\n",
    ")\n",
    "\n",
    "likelihood = MonteCarloHybridSPECTPoissonLogLikelihood(system_matrix, projections[0])\n",
    "algorithm = OSEM(likelihood)\n",
    "recon_MC = algorithm(n_iters=1, n_subsets=16)"
   ]
  },
  {
   "cell_type": "markdown",
   "metadata": {},
   "source": [
    "Plot an axial slice of the reconstructed image:"
   ]
  },
  {
   "cell_type": "code",
   "execution_count": 8,
   "metadata": {},
   "outputs": [
    {
     "data": {
      "text/plain": [
       "<matplotlib.colorbar.Colorbar at 0x7f8c21b86620>"
      ]
     },
     "execution_count": 8,
     "metadata": {},
     "output_type": "execute_result"
    },
    {
     "data": {
      "image/png": "[encoded data removed]",
      "text/plain": [
       "<Figure size 640x480 with 2 Axes>"
      ]
     },
     "metadata": {},
     "output_type": "display_data"
    }
   ],
   "source": [
    "plt.imshow(recon_MC[:,:,60].cpu().T, cmap='magma',interpolation='gaussian')\n",
    "plt.axis('off')\n",
    "plt.colorbar(label='MBq s')"
   ]
  },
  {
   "cell_type": "markdown",
   "metadata": {},
   "source": [
    "It should be noted that the predicted units of the reconstructed image are MBq s (need to divide by the time per projection to get units of MBq). Because of this, point source-based calibration will not work to obtain quantitative units (since the units are already quantitative).\n",
    "\n",
    "However, there may be discrepancies between the simulated scanner and a real scanner. For this reason, the best way to calibrate is to reconstruct a cylindrical phantom with known activity, segment the cylinder using a 130% boundary (approximately) and then derive a correction factor that puts the MC MBq units to real MBq units (for example, the sensitivity of a real scanner might be 10% lower so a necessary \"calibration factor\" in this case would be 1.1)"
   ]
  }
 ],
 "metadata": {
  "kernelspec": {
   "display_name": "base",
   "language": "python",
   "name": "python3"
  },
  "language_info": {
   "codemirror_mode": {
    "name": "ipython",
    "version": 3
   },
   "file_extension": ".py",
   "mimetype": "text/x-python",
   "name": "python",
   "nbconvert_exporter": "python",
   "pygments_lexer": "ipython3",
   "version": "3.10.9"
  }
 },
 "nbformat": 4,
 "nbformat_minor": 2
}
