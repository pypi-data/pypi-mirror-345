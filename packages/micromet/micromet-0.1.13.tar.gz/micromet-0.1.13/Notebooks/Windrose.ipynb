{
 "cells": [
  {
   "cell_type": "code",
   "execution_count": null,
   "metadata": {
    "ExecuteTime": {
     "end_time": "2024-07-22T17:35:33.735430Z",
     "start_time": "2024-07-22T17:35:14.666547Z"
    }
   },
   "outputs": [],
   "source": [
    "#import urllib2\n",
    "from io import StringIO\n",
    "import os\n",
    "import xmltodict\n",
    "import pandas as pd\n",
    "import geopandas as gpd\n",
    "import windrose\n",
    "from windrose import WindroseAxes\n",
    "import matplotlib.cm as cm\n",
    "\n",
    "from datetime import datetime \n",
    "import statsmodels.api as sm\n",
    "import time\n",
    "\n",
    "from scipy.stats import linregress\n",
    "import matplotlib.pyplot as plt\n",
    "import numpy as np\n",
    "import sys\n",
    "import requests\n",
    "import glob\n",
    "\n",
    "from pyproj import CRS\n",
    "from pyproj import Transformer\n",
    "from shapely.geometry import Point\n",
    "\n",
    "import rasterstats as rs\n",
    "import rasterio\n",
    "\n",
    "import requests\n",
    "\n",
    "from rasterio.plot import show\n",
    "from rasterio.mask import mask\n",
    "from rasterio.plot import show_hist\n",
    "from shapely.geometry import box\n",
    "from rasterstats import zonal_stats\n",
    "from windrose import WindroseAxes\n",
    "#import pycrs\n",
    "#import earthpy as et\n",
    "#import earthpy.plot as ep\n",
    "\n",
    "from scipy.optimize import curve_fit\n",
    "\n",
    "from sklearn import mixture\n",
    "import itertools\n",
    "from scipy import linalg\n",
    "import matplotlib as mpl\n",
    "\n",
    "import cartopy\n",
    "\n",
    "\n",
    "#import pymannkendall as mk\n",
    "from pylab import rcParams\n",
    "%matplotlib inline\n",
    "rcParams['figure.figsize'] = 15, 10"
   ]
  },
  {
   "cell_type": "code",
   "execution_count": null,
   "metadata": {
    "ExecuteTime": {
     "end_time": "2024-07-22T17:35:35.393221Z",
     "start_time": "2024-07-22T17:35:33.736436Z"
    }
   },
   "outputs": [],
   "source": [
    "import importlib.util\n",
    "spec = importlib.util.spec_from_file_location(\"dbconnect\", \"G:/My Drive/Python/dbconnect.py\")\n",
    "dbconnect = importlib.util.module_from_spec(spec)\n",
    "spec.loader.exec_module(dbconnect)\n",
    "\n",
    "ucc_key = dbconnect.get_ucc_api()"
   ]
  },
  {
   "cell_type": "code",
   "execution_count": null,
   "metadata": {
    "ExecuteTime": {
     "end_time": "2024-07-22T18:01:48.747729Z",
     "start_time": "2024-07-22T18:01:45.285873Z"
    },
    "scrolled": false
   },
   "outputs": [],
   "source": [
    "import geopandas\n",
    "import contextily as ctx\n",
    "latitude = 39.014255\n",
    "longitude = -110.166383\n",
    "source = 'UCC'\n",
    "url = f\"https://climate.usu.edu/API/api.php/v2/key={ucc_key}/station_search/source={source}/radius=15/lat={latitude}/long={longitude}\"\n",
    "print(url)\n",
    "resp = requests.get(url)\n"
   ]
  },
  {
   "cell_type": "code",
   "execution_count": null,
   "metadata": {
    "ExecuteTime": {
     "end_time": "2024-07-22T18:02:24.434620Z",
     "start_time": "2024-07-22T18:02:24.425911Z"
    }
   },
   "outputs": [],
   "source": [
    "import json\n",
    "try:\n",
    "    response_ob = resp.json()\n",
    "except:\n",
    "    response_ob = json.loads(resp.text[resp.text.find('\\n\\n')+2:])"
   ]
  },
  {
   "cell_type": "code",
   "execution_count": null,
   "metadata": {
    "ExecuteTime": {
     "end_time": "2024-07-22T18:02:25.967631Z",
     "start_time": "2024-07-22T18:02:25.948660Z"
    }
   },
   "outputs": [],
   "source": [
    "response_ob "
   ]
  },
  {
   "cell_type": "code",
   "execution_count": null,
   "metadata": {
    "ExecuteTime": {
     "end_time": "2024-07-22T18:02:28.276814Z",
     "start_time": "2024-07-22T18:02:28.271833Z"
    }
   },
   "outputs": [],
   "source": []
  },
  {
   "cell_type": "code",
   "execution_count": null,
   "metadata": {
    "ExecuteTime": {
     "end_time": "2024-07-22T18:02:30.238825Z",
     "start_time": "2024-07-22T18:02:29.690730Z"
    },
    "scrolled": false
   },
   "outputs": [],
   "source": [
    "df = pd.DataFrame(response_ob['payload'])\n",
    "ghcn_stations = geopandas.GeoDataFrame(df, geometry=geopandas.points_from_xy(df.longitude, df.latitude, crs='EPSG:4269')).to_crs(epsg=3857)\n",
    "print(ghcn_stations)\n",
    "ax = ghcn_stations.plot(figsize=(14, 14), column='name',legend=False)\n",
    "ax.axis((longitude-0.1,longitude+0.1, latitude-0.1, latitude+0.1))\n",
    "#ctx.add_basemap(ax)"
   ]
  },
  {
   "cell_type": "code",
   "execution_count": null,
   "metadata": {},
   "outputs": [],
   "source": [
    "https://climate.usu.edu/API/api.php/v3/key=/station_search/source=SCAN/state=UT"
   ]
  },
  {
   "cell_type": "code",
   "execution_count": null,
   "metadata": {
    "ExecuteTime": {
     "end_time": "2022-07-12T18:46:26.280113Z",
     "start_time": "2022-07-12T18:46:26.275984Z"
    }
   },
   "outputs": [],
   "source": []
  },
  {
   "cell_type": "code",
   "execution_count": null,
   "metadata": {
    "ExecuteTime": {
     "end_time": "2024-07-22T18:04:44.328834Z",
     "start_time": "2024-07-22T18:04:44.308140Z"
    }
   },
   "outputs": [],
   "source": [
    "stations"
   ]
  },
  {
   "cell_type": "code",
   "execution_count": null,
   "metadata": {
    "ExecuteTime": {
     "end_time": "2024-07-22T18:05:17.826668Z",
     "start_time": "2024-07-22T18:05:05.941184Z"
    }
   },
   "outputs": [],
   "source": [
    "stations = df.set_index(['station_id'])\n",
    "\n",
    "out_format = 'json'\n",
    "start_date = '2020-10-01T00:00:00'\n",
    "end_date = '2024-07-12T00:00:00'\n",
    "freq = 'get_daily' #get_hourly\n",
    " \n",
    "newbegdate = pd.to_datetime(start_date)\n",
    "newenddate = newbegdate + pd.Timedelta(29*6,'D')\n",
    "\n",
    "hed = {}\n",
    "dat = {}\n",
    "\n",
    "for stat in stations.index.unique():\n",
    "    if stat == '124033':\n",
    "        scandat = {}\n",
    "        source = stations.loc[stat,'network']\n",
    "        while newbegdate <= datetime.now():\n",
    "            if freq == 'get_daily':\n",
    "                begstr = newbegdate.strftime(\"%Y-%m-%d\")\n",
    "                endstr = newenddate.strftime(\"%Y-%m-%d\")\n",
    "            else:\n",
    "                begstr = newbegdate.strftime(\"%Y-%m-%dT%H:%M:%S\")\n",
    "                endstr = newenddate.strftime(\"%Y-%m-%dT%H:%M:%S\")\n",
    "\n",
    "            url = f\"https://climate.usu.edu/API/api.php/v2/key={ucc_key}/station_search/network={source}/station_id={stat}/{freq}/start_date={begstr}/end_date={endstr}/units=m\"\n",
    "            print(url)\n",
    "            response_ob = requests.get(url).json()\n",
    "            newbegdate += pd.Timedelta(29*6,'D')\n",
    "            newenddate += pd.Timedelta(29*6,'D') \n",
    "            scandat[endstr] = pd.DataFrame(response_ob['payload'])\n",
    "\n",
    "            time.sleep(1)\n",
    "        dat[stations.loc[stat,\"name\"]] = pd.concat(scandat)\n"
   ]
  },
  {
   "cell_type": "code",
   "execution_count": null,
   "metadata": {
    "ExecuteTime": {
     "end_time": "2024-07-22T18:06:09.050611Z",
     "start_time": "2024-07-22T18:06:09.041362Z"
    }
   },
   "outputs": [],
   "source": [
    "stat = '124033'\n",
    "dat[stations.loc[stat,\"name\"]] = pd.concat(scandat)"
   ]
  },
  {
   "cell_type": "code",
   "execution_count": null,
   "metadata": {
    "ExecuteTime": {
     "end_time": "2022-07-12T19:04:27.066090Z",
     "start_time": "2022-07-12T19:04:27.047089Z"
    }
   },
   "outputs": [],
   "source": [
    "dat[stations.loc[stat,\"name\"][0]] = pd.concat(scandat)"
   ]
  },
  {
   "cell_type": "code",
   "execution_count": null,
   "metadata": {
    "ExecuteTime": {
     "end_time": "2021-09-14T17:14:11.503910Z",
     "start_time": "2021-09-14T17:13:36.982656Z"
    },
    "scrolled": true
   },
   "outputs": [],
   "source": [
    "dat = pd.read_csv(\"G:/Shared drives/UGS_Groundwater/Projects/Eddy_Covariance/Data_Downloads/BSF/previous_data/BFLAT.2021-09-14.csv\",\n",
    "                 skiprows=[0,1,2,3,4,5,6,7,8,9,11],index_col='Date_Time')\n",
    "dat\n",
    "#winddata = windat.reset_index().rename(columns={'level_0':'filename'}).drop('level_1',axis=1).set_index('filename')"
   ]
  },
  {
   "cell_type": "code",
   "execution_count": null,
   "metadata": {
    "ExecuteTime": {
     "end_time": "2022-07-12T19:42:25.662932Z",
     "start_time": "2022-07-12T19:42:25.623933Z"
    }
   },
   "outputs": [],
   "source": [
    "data = dat['Canyonlands Research Center'].reset_index().set_index('date_time').drop(columns=['level_0','level_1'],axis=1).dropna(how='all',\n",
    "                                                                                                                          subset=['windd_sd', 'airt2_avg', 'battv_min', 'precip_tb','windd_avg', 'winds_avg', 'winds_max'])\n",
    "data = data[['windd_avg','winds_avg']].dropna()\n",
    "data['windd_avg'] = pd.to_numeric(data['windd_avg'],errors='coerce')\n",
    "data['winds_avg'] = pd.to_numeric(data['winds_avg'],errors='coerce')"
   ]
  },
  {
   "cell_type": "code",
   "execution_count": null,
   "metadata": {
    "ExecuteTime": {
     "end_time": "2024-07-22T18:08:28.057575Z",
     "start_time": "2024-07-22T18:08:28.041440Z"
    }
   },
   "outputs": [],
   "source": [
    "data = dat[stations.loc[stat,\"name\"]]"
   ]
  },
  {
   "cell_type": "code",
   "execution_count": null,
   "metadata": {
    "ExecuteTime": {
     "end_time": "2024-07-22T18:10:51.938169Z",
     "start_time": "2024-07-22T18:10:51.926500Z"
    }
   },
   "outputs": [],
   "source": [
    "data.dtypes"
   ]
  },
  {
   "cell_type": "code",
   "execution_count": null,
   "metadata": {
    "ExecuteTime": {
     "end_time": "2024-07-22T18:11:08.789239Z",
     "start_time": "2024-07-22T18:11:08.034511Z"
    }
   },
   "outputs": [],
   "source": [
    "data = data[['windd_avg','winds_avg']].dropna()\n",
    "data['windd_avg'] = pd.to_numeric(data['windd_avg'],errors='coerce')\n",
    "data['winds_avg'] = pd.to_numeric(data['winds_avg'],errors='coerce')\n",
    "ax = WindroseAxes.from_ax()\n",
    "\n",
    "#wdf = data.rename(columns={'wind_direction_set_1':'direction','wind_speed_set_1':'speed'})\n",
    "wdf = data.rename(columns={'windd_avg':'direction','winds_avg':'speed'}).dropna()\n",
    "\n",
    "wdf = wdf[['speed','direction']]\n",
    "wd = wdf['direction']\n",
    "ws = wdf['speed']\n",
    "\n",
    "ax.contour(wd, ws, bins=np.arange(0, 8, 1), cmap=cm.hot, lw=3)\n",
    "ax.set_legend()\n",
    "\n",
    "#ax.bar(wd, ws, normed=True, opening=1.0, edgecolor='white')\n",
    "\n",
    "\n",
    "ax.set_xticklabels(['E', 'NE', 'N', 'NW',  'W', 'SW', 'S', 'SE'])\n",
    "\n",
    "#plt.savefig(\"G:/Shared drives/UGS_Groundwater/Projects/Eddy_Covariance/GIS/climate_data/dugout_wind_rose_map.jpg\")\n",
    "#plt.savefig(\"G:/Shared drives/UGS_Groundwater/Projects/Eddy_Covariance/GIS/climate_data/green_river_wind_rose_map.pdf\")"
   ]
  },
  {
   "cell_type": "code",
   "execution_count": null,
   "metadata": {
    "ExecuteTime": {
     "end_time": "2024-07-22T18:14:33.915936Z",
     "start_time": "2024-07-22T18:14:33.739262Z"
    }
   },
   "outputs": [],
   "source": [
    "\n",
    "fig, ax = plt.subplots(figsize=(8, 8), dpi=80)\n",
    "x0, x1 = ax.get_xlim()\n",
    "y0, y1 = ax.get_ylim()\n",
    "ax.set_aspect('equal')\n",
    "#_ = ax.scatter(df['speed_x'], df['speed_y'], alpha=0.25)\n",
    "wdf['speed_x'] = wdf['speed'] * np.sin(wdf['direction'] * np.pi / 180.0)\n",
    "wdf['speed_y'] = wdf['speed'] * np.cos(wdf['direction'] * np.pi / 180.0)\n",
    "ax.scatter(wdf['speed_x'], wdf['speed_y'], alpha=0.01)\n",
    "Vw = 80\n",
    "_ = ax.set_xlim([-Vw, Vw])\n",
    "_ = ax.set_ylim([-Vw, Vw])"
   ]
  },
  {
   "cell_type": "code",
   "execution_count": null,
   "metadata": {
    "ExecuteTime": {
     "end_time": "2021-03-30T02:27:01.726435Z",
     "start_time": "2021-03-30T02:27:00.600438Z"
    }
   },
   "outputs": [],
   "source": [
    "data = {}\n",
    "hed = {}\n",
    "for file in glob.glob(\"G:/Shared drives/UGS_Groundwater/Projects/Eddy_Covariance/Data_Downloads/BSF/previous_data/*.csv\"):\n",
    "    dname = os.path.basename(file)\n",
    "    hed[dname] = pd.read_csv(file,skiprows=1,nrows=8,names=['ind','desc'],index_col='ind').T\n",
    "    dat = pd.read_csv(file,skiprows=14,na_values=['S','M'])\n",
    "    data[dname] = dat.rename(columns={'Wind Direction ':'Wind Direction',\n",
    "                                     'Surface Wind Speed':'Wind Speed',\n",
    "                                     'Wind Direction Average':'Wind Direction',\n",
    "                                     'Wind Speed Average':'Wind Speed'}) \n",
    "print(data.keys())\n",
    "windat = pd.concat(data)\n",
    "hedat = pd.concat(hed)\n",
    "winddata = windat.reset_index().rename(columns={'level_0':'filename'}).drop('level_1',axis=1).set_index('filename')\n",
    "hedat = hedat.reset_index().set_index('level_0')"
   ]
  },
  {
   "cell_type": "code",
   "execution_count": null,
   "metadata": {
    "ExecuteTime": {
     "end_time": "2022-07-12T21:52:46.267758Z",
     "start_time": "2022-07-12T21:52:46.244405Z"
    }
   },
   "outputs": [],
   "source": [
    "dat"
   ]
  },
  {
   "cell_type": "code",
   "execution_count": null,
   "metadata": {},
   "outputs": [],
   "source": [
    "    data[statname] = dat.rename(columns={'wind_direction_set_1':'Wind Direction',\n",
    "                                     'wind_speed_set_1':'Wind Direction'}) "
   ]
  },
  {
   "cell_type": "markdown",
   "metadata": {},
   "source": [
    "# MESOWEST Data FILES"
   ]
  },
  {
   "cell_type": "code",
   "execution_count": null,
   "metadata": {
    "ExecuteTime": {
     "end_time": "2022-07-13T14:18:56.266442Z",
     "start_time": "2022-07-13T14:18:38.345075Z"
    }
   },
   "outputs": [],
   "source": [
    "data = {}\n",
    "hed = {}\n",
    "\n",
    "for file in glob.glob(\"G:/Shared drives/UGS_Groundwater/Projects/Eddy_Covariance/GIS/climate_data/colorado_river/meso/*.csv\"):\n",
    "    dname = os.path.basename(file)\n",
    "    \n",
    "    head_df = pd.read_table(file,skiprows=4,nrows=4,sep=\":\", names=['ind','desc'])\n",
    "\n",
    "    head_df['ind'] = head_df['ind'].apply(lambda x: x.replace(\"# \",\"\").strip(),1)\n",
    "    head_df = head_df.set_index('ind')\n",
    "    head_df.columns = ['description']\n",
    "    statname = head_df.loc['STATION','description'].strip()\n",
    "    hed[statname] = head_df.T\n",
    "    dat = pd.read_csv(file,skiprows=[0,1,2,3,4,5,6,7,8,9,11],na_values=['S','M'],parse_dates=True)\n",
    "    dat['Station_ID'] = dat['Station_ID'].apply(lambda x: x.strip(),1)\n",
    "    data[statname] = dat.set_index([\"Station_ID\",\"Date_Time\"])\n",
    "\n",
    "windat = pd.concat(data).droplevel(0)\n",
    "windat = windat.rename(columns={'wind_direction_set_1':'Wind Direction',\n",
    "                                     'wind_speed_set_1':'Wind Speed'}) \n",
    "hedat = pd.concat(hed)\n",
    "#winddata = windat.reset_index().rename(columns={'level_0':'filename'}).drop('level_1',axis=1).set_index('filename')\n",
    "hedat = hedat.reset_index().set_index('level_0')\n",
    "\n",
    "hedat['Longitude'] = pd.to_numeric(hedat['LONGITUDE'])\n",
    "hedat['Latitude'] = pd.to_numeric(hedat['LATITUDE'])"
   ]
  },
  {
   "cell_type": "markdown",
   "metadata": {},
   "source": [
    "## UCC FILES"
   ]
  },
  {
   "cell_type": "code",
   "execution_count": null,
   "metadata": {
    "ExecuteTime": {
     "end_time": "2022-07-12T20:00:33.419884Z",
     "start_time": "2022-07-12T20:00:27.619246Z"
    }
   },
   "outputs": [],
   "source": [
    "data = {}\n",
    "hed = {}\n",
    "for file in glob.glob(\"G:/Shared drives/UGS_Groundwater/Projects/Eddy_Covariance/GIS/climate_data/colorado_river/*.csv\"):\n",
    "    dname = os.path.basename(file)\n",
    "    hed[dname] = pd.read_csv(file,skiprows=1,nrows=8,names=['ind','desc'],index_col='ind').T\n",
    "    dat = pd.read_csv(file,skiprows=14,na_values=['S','M'])\n",
    "    print(hed[dname])\n",
    "    print(dat.columns)\n",
    "    data[dname] = dat.rename(columns={'Wind Direction ':'Wind Direction',\n",
    "                                     'Surface Wind Speed':'Wind Speed',\n",
    "                                     'Wind Direction Average':'Wind Direction',\n",
    "                                     'Wind Speed Average':'Wind Speed'}) \n",
    "print(data.keys())\n",
    "windat = pd.concat(data)\n",
    "hedat = pd.concat(hed)\n",
    "winddata = windat.reset_index().rename(columns={'level_0':'filename'}).drop('level_1',axis=1).set_index('filename')\n",
    "hedat = hedat.reset_index().set_index('level_0')\n",
    "\n",
    "hedat['Longitude'] = pd.to_numeric(hedat['Longitude'])\n",
    "hedat['Latitude'] = pd.to_numeric(hedat['Latitude'])"
   ]
  },
  {
   "cell_type": "code",
   "execution_count": null,
   "metadata": {
    "ExecuteTime": {
     "end_time": "2022-07-12T19:56:57.700967Z",
     "start_time": "2022-07-12T19:56:57.677965Z"
    }
   },
   "outputs": [],
   "source": [
    "winddata.loc['UCC_ghcn_USC00421163_2022_07_12_1657649854.csv'].columns"
   ]
  },
  {
   "cell_type": "code",
   "execution_count": null,
   "metadata": {
    "ExecuteTime": {
     "end_time": "2021-03-30T02:27:10.786119Z",
     "start_time": "2021-03-30T02:27:10.770119Z"
    }
   },
   "outputs": [],
   "source": [
    "hedat['Longitude'] = pd.to_numeric(hedat['Longitude'])\n",
    "hedat['Latitude'] = pd.to_numeric(hedat['Latitude'])"
   ]
  },
  {
   "cell_type": "code",
   "execution_count": null,
   "metadata": {
    "ExecuteTime": {
     "end_time": "2022-07-12T22:07:09.478535Z",
     "start_time": "2022-07-12T22:07:09.442539Z"
    }
   },
   "outputs": [],
   "source": [
    "windat"
   ]
  },
  {
   "cell_type": "markdown",
   "metadata": {},
   "source": [
    "# Plot Windrose Map"
   ]
  },
  {
   "cell_type": "code",
   "execution_count": null,
   "metadata": {
    "ExecuteTime": {
     "end_time": "2022-07-12T22:09:16.328232Z",
     "start_time": "2022-07-12T22:08:51.065888Z"
    }
   },
   "outputs": [],
   "source": [
    "import numpy as np\n",
    "import matplotlib.pyplot as plt\n",
    "from mpl_toolkits.axes_grid.inset_locator import inset_axes\n",
    "import cartopy.crs as ccrs\n",
    "import cartopy.io.img_tiles as cimgt\n",
    "\n",
    "import windrose\n",
    "\n",
    "\n",
    "minlon, maxlon, minlat, maxlat = (-109.8, -109.1, 37.2, 38.8)\n",
    "\n",
    "proj = ccrs.PlateCarree()\n",
    "fig = plt.figure(figsize=(12, 10))\n",
    "# Draw main ax on top of which we will add windroses\n",
    "main_ax = fig.add_subplot(1, 1, 1, projection=proj)\n",
    "main_ax.set_extent([minlon, maxlon, minlat, maxlat], crs=proj)\n",
    "main_ax.gridlines(draw_labels=True)\n",
    "main_ax.coastlines()\n",
    "\n",
    "request = cimgt.OSM()\n",
    "main_ax.add_image(request, 12)\n",
    "\n",
    "# Coordinates of the station we were measuring windspeed\n",
    "wr = {}\n",
    "for ind in hedat.index.unique():\n",
    "    df = windat.loc[ind,['Wind Speed','Wind Direction']].dropna()\n",
    "    ws = df['Wind Speed']\n",
    "    wd = df['Wind Direction']\n",
    "\n",
    "    if len(df)>0:\n",
    "        wr[ind] = inset_axes(main_ax,\n",
    "                             width=1,\n",
    "                             height=1,\n",
    "                             loc='center',\n",
    "                             bbox_to_anchor=(hedat.loc[ind,'Longitude'], hedat.loc[ind,'Latitude']), # position of the axe\n",
    "            bbox_transform=main_ax.transData,    # use data coordinate (not axe coordinate)\n",
    "            axes_class=windrose.WindroseAxes,    # specify the class of the axe\n",
    "            )\n",
    "\n",
    "        wr[ind].bar(wd,ws)\n",
    "        wr[ind].tick_params(labelleft=False, labelbottom=False)\n",
    "plt.savefig(\"G:/Shared drives/UGS_Groundwater/Projects/Eddy_Covariance/GIS/climate_data/co_wind_rose_map.jpg\")\n",
    "plt.savefig(\"G:/Shared drives/UGS_Groundwater/Projects/Eddy_Covariance/GIS/climate_data/co_wind_rose_map.pdf\")"
   ]
  },
  {
   "cell_type": "code",
   "execution_count": null,
   "metadata": {
    "ExecuteTime": {
     "end_time": "2022-07-13T14:20:01.558275Z",
     "start_time": "2022-07-13T14:20:01.530275Z"
    }
   },
   "outputs": [],
   "source": [
    "hedat"
   ]
  },
  {
   "cell_type": "code",
   "execution_count": null,
   "metadata": {
    "ExecuteTime": {
     "end_time": "2022-07-13T14:23:34.935684Z",
     "start_time": "2022-07-13T14:23:30.089684Z"
    },
    "scrolled": false
   },
   "outputs": [],
   "source": [
    "# Coordinates of the station we were measuring windspeed\n",
    "wr = {}\n",
    "for ind in hedat.index.unique():\n",
    "    df = windat.loc[ind,['Wind Speed','Wind Direction']].dropna()\n",
    "    ws = df['Wind Speed']\n",
    "    wd = df['Wind Direction']\n",
    "\n",
    "    ax = WindroseAxes.from_ax()\n",
    "\n",
    "\n",
    "    ax.contour(wd, ws, bins=np.arange(0, 8, 1), cmap=cm.hot, lw=3)\n",
    "    ax.set_legend()\n",
    "\n",
    "    #ax.bar(wd, ws, normed=True, opening=1.0, edgecolor='white')\n",
    "\n",
    "\n",
    "    ax.set_xticklabels(['E', 'NE', 'N', 'NW',  'W', 'SW', 'S', 'SE'])\n",
    "    \n",
    "    plt.title(f\"{ind} - {hedat.loc[ind,'STATION NAME']}\")\n",
    "    \n",
    "    plt.savefig(f\"G:/Shared drives/UGS_Groundwater/Projects/Eddy_Covariance/GIS/climate_data/{ind}_wind_rose.jpg\")\n",
    "    plt.savefig(f\"G:/Shared drives/UGS_Groundwater/Projects/Eddy_Covariance/GIS/climate_data/{ind}_wind_rose.pdf\")"
   ]
  },
  {
   "cell_type": "code",
   "execution_count": null,
   "metadata": {},
   "outputs": [],
   "source": []
  },
  {
   "cell_type": "code",
   "execution_count": null,
   "metadata": {
    "ExecuteTime": {
     "end_time": "2020-11-23T22:58:20.838799Z",
     "start_time": "2020-11-23T22:58:20.780249Z"
    }
   },
   "outputs": [],
   "source": [
    "hedat.to_csv(\"G:/Shared drives/UGS_Groundwater/Projects/Eddy_Covariance/GIS/Weather_Stations.csv\")"
   ]
  },
  {
   "cell_type": "code",
   "execution_count": null,
   "metadata": {
    "ExecuteTime": {
     "end_time": "2020-11-23T15:12:00.387878Z",
     "start_time": "2020-11-23T15:11:57.315129Z"
    },
    "scrolled": false
   },
   "outputs": [],
   "source": [
    "axes = WindroseAxes.from_ax()\n",
    "axes.bar([140]*100, [10]*100, normed=True, opening=0.8, edgecolor='white')\n",
    "axes.set_legend()\n",
    "        "
   ]
  },
  {
   "cell_type": "code",
   "execution_count": null,
   "metadata": {},
   "outputs": [],
   "source": [
    "'UCC_awos_KPUC_2020_11_22_1606082818.csv', []\n",
    "'UCC_scan_2132_2020_11_22_1606082812.csv', \n",
    "'UCC_upr_UR309_2020_11_22_1606082826.csv', \n",
    "'UCC_utah_dot_UTPSB_2020_11_22_1606082829.csv', \n",
    "'UCC_utah_climate_center_UCL18_2020_11_22_1606082822.csv'"
   ]
  },
  {
   "cell_type": "code",
   "execution_count": null,
   "metadata": {
    "ExecuteTime": {
     "end_time": "2020-11-23T13:35:15.377441Z",
     "start_time": "2020-11-23T13:35:15.129905Z"
    }
   },
   "outputs": [],
   "source": [
    "data['UCC_awos_KPUC_2020_11_22_1606082818.csv']['Wind Direction']"
   ]
  }
 ],
 "metadata": {
  "kernelspec": {
   "display_name": "Python 3 (ipykernel)",
   "language": "python",
   "name": "python3"
  },
  "language_info": {
   "codemirror_mode": {
    "name": "ipython",
    "version": 3
   },
   "file_extension": ".py",
   "mimetype": "text/x-python",
   "name": "python",
   "nbconvert_exporter": "python",
   "pygments_lexer": "ipython3",
   "version": "3.10.4"
  },
  "latex_envs": {
   "LaTeX_envs_menu_present": true,
   "autoclose": false,
   "autocomplete": true,
   "bibliofile": "biblio.bib",
   "cite_by": "apalike",
   "current_citInitial": 1,
   "eqLabelWithNumbers": true,
   "eqNumInitial": 1,
   "hotkeys": {
    "equation": "Ctrl-E",
    "itemize": "Ctrl-I"
   },
   "labels_anchors": false,
   "latex_user_defs": false,
   "report_style_numbering": false,
   "user_envs_cfg": false
  },
  "toc": {
   "base_numbering": 1,
   "nav_menu": {},
   "number_sections": true,
   "sideBar": true,
   "skip_h1_title": false,
   "title_cell": "Table of Contents",
   "title_sidebar": "Contents",
   "toc_cell": false,
   "toc_position": {},
   "toc_section_display": true,
   "toc_window_display": true
  },
  "varInspector": {
   "cols": {
    "lenName": 16,
    "lenType": 16,
    "lenVar": 40
   },
   "kernels_config": {
    "python": {
     "delete_cmd_postfix": "",
     "delete_cmd_prefix": "del ",
     "library": "var_list.py",
     "varRefreshCmd": "print(var_dic_list())"
    },
    "r": {
     "delete_cmd_postfix": ") ",
     "delete_cmd_prefix": "rm(",
     "library": "var_list.r",
     "varRefreshCmd": "cat(var_dic_list()) "
    }
   },
   "types_to_exclude": [
    "module",
    "function",
    "builtin_function_or_method",
    "instance",
    "_Feature"
   ],
   "window_display": false
  }
 },
 "nbformat": 4,
 "nbformat_minor": 4
}
